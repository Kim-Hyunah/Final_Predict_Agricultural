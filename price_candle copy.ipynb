{
 "cells": [
  {
   "cell_type": "code",
   "execution_count": 1,
   "metadata": {},
   "outputs": [],
   "source": [
    "import pandas as pd\n",
    "from sklearn.preprocessing import StandardScaler\n",
    "import numpy as np\n",
    "import matplotlib.pyplot as plt\n",
    "import seaborn as sns\n",
    "from sklearn.preprocessing import MinMaxScaler, StandardScaler\n",
    "from sklearn.model_selection import train_test_split\n",
    "from keras.models import Sequential\n",
    "from keras.layers import Dense\n",
    "from keras.callbacks import EarlyStopping, ModelCheckpoint\n",
    "from keras.layers import LSTM\n",
    "from sklearn.metrics import r2_score"
   ]
  },
  {
   "cell_type": "code",
   "execution_count": 2,
   "metadata": {},
   "outputs": [
    {
     "data": {
      "text/html": [
       "<div>\n",
       "<style scoped>\n",
       "    .dataframe tbody tr th:only-of-type {\n",
       "        vertical-align: middle;\n",
       "    }\n",
       "\n",
       "    .dataframe tbody tr th {\n",
       "        vertical-align: top;\n",
       "    }\n",
       "\n",
       "    .dataframe thead th {\n",
       "        text-align: right;\n",
       "    }\n",
       "</style>\n",
       "<table border=\"1\" class=\"dataframe\">\n",
       "  <thead>\n",
       "    <tr style=\"text-align: right;\">\n",
       "      <th></th>\n",
       "      <th>구분</th>\n",
       "      <th>평균</th>\n",
       "    </tr>\n",
       "  </thead>\n",
       "  <tbody>\n",
       "    <tr>\n",
       "      <th>0</th>\n",
       "      <td>2000-01-03</td>\n",
       "      <td>5600.0</td>\n",
       "    </tr>\n",
       "    <tr>\n",
       "      <th>1</th>\n",
       "      <td>2000-01-04</td>\n",
       "      <td>5600.0</td>\n",
       "    </tr>\n",
       "    <tr>\n",
       "      <th>2</th>\n",
       "      <td>2000-01-05</td>\n",
       "      <td>5620.0</td>\n",
       "    </tr>\n",
       "    <tr>\n",
       "      <th>3</th>\n",
       "      <td>2000-01-06</td>\n",
       "      <td>5700.0</td>\n",
       "    </tr>\n",
       "    <tr>\n",
       "      <th>4</th>\n",
       "      <td>2000-01-07</td>\n",
       "      <td>5670.0</td>\n",
       "    </tr>\n",
       "    <tr>\n",
       "      <th>...</th>\n",
       "      <td>...</td>\n",
       "      <td>...</td>\n",
       "    </tr>\n",
       "    <tr>\n",
       "      <th>5890</th>\n",
       "      <td>2022-12-14</td>\n",
       "      <td>5430.5</td>\n",
       "    </tr>\n",
       "    <tr>\n",
       "      <th>5891</th>\n",
       "      <td>2022-12-15</td>\n",
       "      <td>5430.5</td>\n",
       "    </tr>\n",
       "    <tr>\n",
       "      <th>5892</th>\n",
       "      <td>2022-12-16</td>\n",
       "      <td>5304.0</td>\n",
       "    </tr>\n",
       "    <tr>\n",
       "      <th>5893</th>\n",
       "      <td>2022-12-19</td>\n",
       "      <td>5459.5</td>\n",
       "    </tr>\n",
       "    <tr>\n",
       "      <th>5894</th>\n",
       "      <td>2022-12-20</td>\n",
       "      <td>5764.0</td>\n",
       "    </tr>\n",
       "  </tbody>\n",
       "</table>\n",
       "<p>5895 rows × 2 columns</p>\n",
       "</div>"
      ],
      "text/plain": [
       "              구분      평균\n",
       "0     2000-01-03  5600.0\n",
       "1     2000-01-04  5600.0\n",
       "2     2000-01-05  5620.0\n",
       "3     2000-01-06  5700.0\n",
       "4     2000-01-07  5670.0\n",
       "...          ...     ...\n",
       "5890  2022-12-14  5430.5\n",
       "5891  2022-12-15  5430.5\n",
       "5892  2022-12-16  5304.0\n",
       "5893  2022-12-19  5459.5\n",
       "5894  2022-12-20  5764.0\n",
       "\n",
       "[5895 rows x 2 columns]"
      ]
     },
     "execution_count": 2,
     "metadata": {},
     "output_type": "execute_result"
    }
   ],
   "source": [
    "df= pd.read_csv('data/price/price_baechoo.csv')\n",
    "df"
   ]
  },
  {
   "cell_type": "code",
   "execution_count": 3,
   "metadata": {},
   "outputs": [
    {
     "ename": "IndexError",
     "evalue": "single positional indexer is out-of-bounds",
     "output_type": "error",
     "traceback": [
      "\u001b[0;31m---------------------------------------------------------------------------\u001b[0m",
      "\u001b[0;31mIndexError\u001b[0m                                Traceback (most recent call last)",
      "\u001b[1;32m/Users/bagjeonghyeon/Documents/Final_Predict_Agricultural/Final_Predict_Agricultural/price_candle copy.ipynb 셀 3\u001b[0m in \u001b[0;36m<cell line: 10>\u001b[0;34m()\u001b[0m\n\u001b[1;32m     <a href='vscode-notebook-cell:/Users/bagjeonghyeon/Documents/Final_Predict_Agricultural/Final_Predict_Agricultural/price_candle%20copy.ipynb#W2sZmlsZQ%3D%3D?line=12'>13</a>\u001b[0m \u001b[39melse\u001b[39;00m:\n\u001b[1;32m     <a href='vscode-notebook-cell:/Users/bagjeonghyeon/Documents/Final_Predict_Agricultural/Final_Predict_Agricultural/price_candle%20copy.ipynb#W2sZmlsZQ%3D%3D?line=13'>14</a>\u001b[0m     test_df\u001b[39m=\u001b[39m df\u001b[39m.\u001b[39miloc[num_list[i\u001b[39m-\u001b[39m\u001b[39m1\u001b[39m]:num_list[i]]\n\u001b[0;32m---> <a href='vscode-notebook-cell:/Users/bagjeonghyeon/Documents/Final_Predict_Agricultural/Final_Predict_Agricultural/price_candle%20copy.ipynb#W2sZmlsZQ%3D%3D?line=14'>15</a>\u001b[0m price_open\u001b[39m.\u001b[39mappend(test_df\u001b[39m.\u001b[39;49miloc[\u001b[39m0\u001b[39;49m][\u001b[39m'\u001b[39m\u001b[39m평균\u001b[39m\u001b[39m'\u001b[39m])\n\u001b[1;32m     <a href='vscode-notebook-cell:/Users/bagjeonghyeon/Documents/Final_Predict_Agricultural/Final_Predict_Agricultural/price_candle%20copy.ipynb#W2sZmlsZQ%3D%3D?line=15'>16</a>\u001b[0m \u001b[39mmax\u001b[39m\u001b[39m=\u001b[39m test_df\u001b[39m.\u001b[39miloc[\u001b[39m0\u001b[39m][\u001b[39m'\u001b[39m\u001b[39m평균\u001b[39m\u001b[39m'\u001b[39m]\n\u001b[1;32m     <a href='vscode-notebook-cell:/Users/bagjeonghyeon/Documents/Final_Predict_Agricultural/Final_Predict_Agricultural/price_candle%20copy.ipynb#W2sZmlsZQ%3D%3D?line=16'>17</a>\u001b[0m \u001b[39mmin\u001b[39m\u001b[39m=\u001b[39m test_df\u001b[39m.\u001b[39miloc[\u001b[39m0\u001b[39m][\u001b[39m'\u001b[39m\u001b[39m평균\u001b[39m\u001b[39m'\u001b[39m]\n",
      "File \u001b[0;32m~/miniforge3/envs/baseDeep/lib/python3.8/site-packages/pandas/core/indexing.py:967\u001b[0m, in \u001b[0;36m_LocationIndexer.__getitem__\u001b[0;34m(self, key)\u001b[0m\n\u001b[1;32m    964\u001b[0m axis \u001b[39m=\u001b[39m \u001b[39mself\u001b[39m\u001b[39m.\u001b[39maxis \u001b[39mor\u001b[39;00m \u001b[39m0\u001b[39m\n\u001b[1;32m    966\u001b[0m maybe_callable \u001b[39m=\u001b[39m com\u001b[39m.\u001b[39mapply_if_callable(key, \u001b[39mself\u001b[39m\u001b[39m.\u001b[39mobj)\n\u001b[0;32m--> 967\u001b[0m \u001b[39mreturn\u001b[39;00m \u001b[39mself\u001b[39;49m\u001b[39m.\u001b[39;49m_getitem_axis(maybe_callable, axis\u001b[39m=\u001b[39;49maxis)\n",
      "File \u001b[0;32m~/miniforge3/envs/baseDeep/lib/python3.8/site-packages/pandas/core/indexing.py:1523\u001b[0m, in \u001b[0;36m_iLocIndexer._getitem_axis\u001b[0;34m(self, key, axis)\u001b[0m\n\u001b[1;32m   1520\u001b[0m     \u001b[39mraise\u001b[39;00m \u001b[39mTypeError\u001b[39;00m(\u001b[39m\"\u001b[39m\u001b[39mCannot index by location index with a non-integer key\u001b[39m\u001b[39m\"\u001b[39m)\n\u001b[1;32m   1522\u001b[0m \u001b[39m# validate the location\u001b[39;00m\n\u001b[0;32m-> 1523\u001b[0m \u001b[39mself\u001b[39;49m\u001b[39m.\u001b[39;49m_validate_integer(key, axis)\n\u001b[1;32m   1525\u001b[0m \u001b[39mreturn\u001b[39;00m \u001b[39mself\u001b[39m\u001b[39m.\u001b[39mobj\u001b[39m.\u001b[39m_ixs(key, axis\u001b[39m=\u001b[39maxis)\n",
      "File \u001b[0;32m~/miniforge3/envs/baseDeep/lib/python3.8/site-packages/pandas/core/indexing.py:1455\u001b[0m, in \u001b[0;36m_iLocIndexer._validate_integer\u001b[0;34m(self, key, axis)\u001b[0m\n\u001b[1;32m   1453\u001b[0m len_axis \u001b[39m=\u001b[39m \u001b[39mlen\u001b[39m(\u001b[39mself\u001b[39m\u001b[39m.\u001b[39mobj\u001b[39m.\u001b[39m_get_axis(axis))\n\u001b[1;32m   1454\u001b[0m \u001b[39mif\u001b[39;00m key \u001b[39m>\u001b[39m\u001b[39m=\u001b[39m len_axis \u001b[39mor\u001b[39;00m key \u001b[39m<\u001b[39m \u001b[39m-\u001b[39mlen_axis:\n\u001b[0;32m-> 1455\u001b[0m     \u001b[39mraise\u001b[39;00m \u001b[39mIndexError\u001b[39;00m(\u001b[39m\"\u001b[39m\u001b[39msingle positional indexer is out-of-bounds\u001b[39m\u001b[39m\"\u001b[39m)\n",
      "\u001b[0;31mIndexError\u001b[0m: single positional indexer is out-of-bounds"
     ]
    }
   ],
   "source": [
    "num_list= []\n",
    "for i in range(1,1179):\n",
    "    num_list.append(i*3)\n",
    "    num_list.append(i*3)\n",
    "    \n",
    "price_open=[]\n",
    "price_high=[]\n",
    "price_low= []\n",
    "price_close= []\n",
    "for i in range(len(num_list)):\n",
    "    if i==0:\n",
    "        test_df= df.iloc[0:num_list[i]]\n",
    "    else:\n",
    "        test_df= df.iloc[num_list[i-1]:num_list[i]]\n",
    "    price_open.append(test_df.iloc[0]['평균'])\n",
    "    max= test_df.iloc[0]['평균']\n",
    "    min= test_df.iloc[0]['평균']\n",
    "    for i in range(len(test_df)):\n",
    "        if test_df.iloc[i]['평균'] > max:\n",
    "            max= test_df.iloc[i]['평균']\n",
    "        if test_df.iloc[i]['평균'] < min:\n",
    "            min= test_df.iloc[i]['평균']\n",
    "    price_high.append(max)\n",
    "    price_low.append(min)\n",
    "    price_close.append(test_df.iloc[len(test_df)-1]['평균'])"
   ]
  },
  {
   "cell_type": "code",
   "execution_count": null,
   "metadata": {},
   "outputs": [
    {
     "data": {
      "text/html": [
       "<div>\n",
       "<style scoped>\n",
       "    .dataframe tbody tr th:only-of-type {\n",
       "        vertical-align: middle;\n",
       "    }\n",
       "\n",
       "    .dataframe tbody tr th {\n",
       "        vertical-align: top;\n",
       "    }\n",
       "\n",
       "    .dataframe thead th {\n",
       "        text-align: right;\n",
       "    }\n",
       "</style>\n",
       "<table border=\"1\" class=\"dataframe\">\n",
       "  <thead>\n",
       "    <tr style=\"text-align: right;\">\n",
       "      <th></th>\n",
       "      <th>시가</th>\n",
       "      <th>고가</th>\n",
       "      <th>저가</th>\n",
       "      <th>종가</th>\n",
       "    </tr>\n",
       "  </thead>\n",
       "  <tbody>\n",
       "    <tr>\n",
       "      <th>0</th>\n",
       "      <td>5600.0</td>\n",
       "      <td>5620.0</td>\n",
       "      <td>5600.0</td>\n",
       "      <td>5620.0</td>\n",
       "    </tr>\n",
       "    <tr>\n",
       "      <th>1</th>\n",
       "      <td>5700.0</td>\n",
       "      <td>5770.0</td>\n",
       "      <td>5670.0</td>\n",
       "      <td>5770.0</td>\n",
       "    </tr>\n",
       "    <tr>\n",
       "      <th>2</th>\n",
       "      <td>5790.0</td>\n",
       "      <td>5790.0</td>\n",
       "      <td>5630.0</td>\n",
       "      <td>5630.0</td>\n",
       "    </tr>\n",
       "    <tr>\n",
       "      <th>3</th>\n",
       "      <td>5630.0</td>\n",
       "      <td>5630.0</td>\n",
       "      <td>5630.0</td>\n",
       "      <td>5630.0</td>\n",
       "    </tr>\n",
       "    <tr>\n",
       "      <th>4</th>\n",
       "      <td>5630.0</td>\n",
       "      <td>5650.0</td>\n",
       "      <td>5630.0</td>\n",
       "      <td>5650.0</td>\n",
       "    </tr>\n",
       "    <tr>\n",
       "      <th>...</th>\n",
       "      <td>...</td>\n",
       "      <td>...</td>\n",
       "      <td>...</td>\n",
       "      <td>...</td>\n",
       "    </tr>\n",
       "    <tr>\n",
       "      <th>1173</th>\n",
       "      <td>11600.0</td>\n",
       "      <td>11600.0</td>\n",
       "      <td>11400.0</td>\n",
       "      <td>11400.0</td>\n",
       "    </tr>\n",
       "    <tr>\n",
       "      <th>1174</th>\n",
       "      <td>11300.0</td>\n",
       "      <td>11300.0</td>\n",
       "      <td>11100.0</td>\n",
       "      <td>11100.0</td>\n",
       "    </tr>\n",
       "    <tr>\n",
       "      <th>1175</th>\n",
       "      <td>11700.0</td>\n",
       "      <td>11700.0</td>\n",
       "      <td>11300.0</td>\n",
       "      <td>11300.0</td>\n",
       "    </tr>\n",
       "    <tr>\n",
       "      <th>1176</th>\n",
       "      <td>11300.0</td>\n",
       "      <td>11300.0</td>\n",
       "      <td>11300.0</td>\n",
       "      <td>11300.0</td>\n",
       "    </tr>\n",
       "    <tr>\n",
       "      <th>1177</th>\n",
       "      <td>11300.0</td>\n",
       "      <td>11300.0</td>\n",
       "      <td>11300.0</td>\n",
       "      <td>11300.0</td>\n",
       "    </tr>\n",
       "  </tbody>\n",
       "</table>\n",
       "<p>1178 rows × 4 columns</p>\n",
       "</div>"
      ],
      "text/plain": [
       "           시가       고가       저가       종가\n",
       "0      5600.0   5620.0   5600.0   5620.0\n",
       "1      5700.0   5770.0   5670.0   5770.0\n",
       "2      5790.0   5790.0   5630.0   5630.0\n",
       "3      5630.0   5630.0   5630.0   5630.0\n",
       "4      5630.0   5650.0   5630.0   5650.0\n",
       "...       ...      ...      ...      ...\n",
       "1173  11600.0  11600.0  11400.0  11400.0\n",
       "1174  11300.0  11300.0  11100.0  11100.0\n",
       "1175  11700.0  11700.0  11300.0  11300.0\n",
       "1176  11300.0  11300.0  11300.0  11300.0\n",
       "1177  11300.0  11300.0  11300.0  11300.0\n",
       "\n",
       "[1178 rows x 4 columns]"
      ]
     },
     "execution_count": 26,
     "metadata": {},
     "output_type": "execute_result"
    }
   ],
   "source": [
    "candle_df= pd.DataFrame(columns=['시가', '고가', '저가', '종가'])\n",
    "candle_df['시가']= price_open\n",
    "candle_df['고가']= price_high\n",
    "candle_df['저가']= price_low\n",
    "candle_df['종가']= price_close\n",
    "candle_df"
   ]
  },
  {
   "cell_type": "code",
   "execution_count": null,
   "metadata": {},
   "outputs": [],
   "source": [
    "X= candle_df[['시가', '고가', '저가']]\n",
    "y= candle_df[['종가']]\n",
    "\n",
    "scaler= StandardScaler()\n",
    "scaler1= StandardScaler()\n",
    "\n",
    "X_sc= scaler.fit_transform(X)\n",
    "y_sc= scaler1.fit_transform(y)"
   ]
  },
  {
   "cell_type": "code",
   "execution_count": null,
   "metadata": {},
   "outputs": [
    {
     "name": "stdout",
     "output_type": "stream",
     "text": [
      "[[1.90404825 1.77699273 1.88425143]\n",
      " [1.77875147 1.6567051  1.88425143]] -> [1.74931111]\n"
     ]
    }
   ],
   "source": [
    "window_size = 2\n",
    "\n",
    "data_X = []\n",
    "data_y = []\n",
    "for i in range(len(y_sc) - window_size):\n",
    "    _X = X_sc[i : i + window_size] # 다음 날 종가(i+windows_size)는 포함되지 않음\n",
    "    _y = y_sc[i + window_size]     # 다음 날 종가\n",
    "    data_X.append(_X)\n",
    "    data_y.append(_y)\n",
    "print(_X, \"->\", _y)"
   ]
  },
  {
   "cell_type": "code",
   "execution_count": null,
   "metadata": {},
   "outputs": [
    {
     "name": "stdout",
     "output_type": "stream",
     "text": [
      "훈련 데이터의 크기 : (823, 2, 3) (823, 1)\n",
      "테스트 데이터의 크기 : (353, 2, 3) (353, 1)\n"
     ]
    }
   ],
   "source": [
    "train_size = int(len(data_y) * 0.7)\n",
    "train_X = np.array(data_X[0 : train_size])\n",
    "train_y = np.array(data_y[0 : train_size])\n",
    "\n",
    "test_size = len(data_y) - train_size\n",
    "test_X = np.array(data_X[train_size : len(data_X)])\n",
    "test_y = np.array(data_y[train_size : len(data_y)])\n",
    "\n",
    "print('훈련 데이터의 크기 :', train_X.shape, train_y.shape)\n",
    "print('테스트 데이터의 크기 :', test_X.shape, test_y.shape)"
   ]
  },
  {
   "cell_type": "code",
   "execution_count": null,
   "metadata": {},
   "outputs": [],
   "source": [
    "lstm_model = Sequential()\n",
    "lstm_model.add(LSTM(units=20, activation='relu', input_shape=(2, 3)))\n",
    "lstm_model.add(Dense(units=1))\n",
    "lstm_model.compile(optimizer='adam', loss='mean_squared_error')"
   ]
  },
  {
   "cell_type": "code",
   "execution_count": null,
   "metadata": {},
   "outputs": [
    {
     "name": "stdout",
     "output_type": "stream",
     "text": [
      "Epoch 1/70\n",
      "28/28 [==============================] - 1s 2ms/step - loss: 0.4412\n",
      "Epoch 2/70\n",
      "28/28 [==============================] - 0s 2ms/step - loss: 0.2237\n",
      "Epoch 3/70\n",
      "28/28 [==============================] - 0s 2ms/step - loss: 0.1122\n",
      "Epoch 4/70\n",
      "28/28 [==============================] - 0s 2ms/step - loss: 0.0669\n",
      "Epoch 5/70\n",
      "28/28 [==============================] - 0s 2ms/step - loss: 0.0492\n",
      "Epoch 6/70\n",
      "28/28 [==============================] - 0s 2ms/step - loss: 0.0470\n",
      "Epoch 7/70\n",
      "28/28 [==============================] - 0s 2ms/step - loss: 0.0463\n",
      "Epoch 8/70\n",
      "28/28 [==============================] - 0s 2ms/step - loss: 0.0456\n",
      "Epoch 9/70\n",
      "28/28 [==============================] - 0s 2ms/step - loss: 0.0446\n",
      "Epoch 10/70\n",
      "28/28 [==============================] - 0s 2ms/step - loss: 0.0435\n",
      "Epoch 11/70\n",
      "28/28 [==============================] - 0s 2ms/step - loss: 0.0424\n",
      "Epoch 12/70\n",
      "28/28 [==============================] - 0s 2ms/step - loss: 0.0412\n",
      "Epoch 13/70\n",
      "28/28 [==============================] - 0s 2ms/step - loss: 0.0400\n",
      "Epoch 14/70\n",
      "28/28 [==============================] - 0s 1ms/step - loss: 0.0391\n",
      "Epoch 15/70\n",
      "28/28 [==============================] - 0s 1ms/step - loss: 0.0373\n",
      "Epoch 16/70\n",
      "28/28 [==============================] - 0s 1ms/step - loss: 0.0364\n",
      "Epoch 17/70\n",
      "28/28 [==============================] - 0s 1ms/step - loss: 0.0353\n",
      "Epoch 18/70\n",
      "28/28 [==============================] - 0s 1ms/step - loss: 0.0341\n",
      "Epoch 19/70\n",
      "28/28 [==============================] - 0s 1ms/step - loss: 0.0327\n",
      "Epoch 20/70\n",
      "28/28 [==============================] - 0s 1ms/step - loss: 0.0315\n",
      "Epoch 21/70\n",
      "28/28 [==============================] - 0s 1ms/step - loss: 0.0306\n",
      "Epoch 22/70\n",
      "28/28 [==============================] - 0s 1ms/step - loss: 0.0297\n",
      "Epoch 23/70\n",
      "28/28 [==============================] - 0s 1ms/step - loss: 0.0286\n",
      "Epoch 24/70\n",
      "28/28 [==============================] - 0s 1ms/step - loss: 0.0279\n",
      "Epoch 25/70\n",
      "28/28 [==============================] - 0s 1ms/step - loss: 0.0272\n",
      "Epoch 26/70\n",
      "28/28 [==============================] - 0s 2ms/step - loss: 0.0269\n",
      "Epoch 27/70\n",
      "28/28 [==============================] - 0s 2ms/step - loss: 0.0265\n",
      "Epoch 28/70\n",
      "28/28 [==============================] - 0s 1ms/step - loss: 0.0262\n",
      "Epoch 29/70\n",
      "28/28 [==============================] - 0s 1ms/step - loss: 0.0258\n",
      "Epoch 30/70\n",
      "28/28 [==============================] - 0s 1ms/step - loss: 0.0260\n",
      "Epoch 31/70\n",
      "28/28 [==============================] - 0s 1ms/step - loss: 0.0257\n",
      "Epoch 32/70\n",
      "28/28 [==============================] - 0s 1ms/step - loss: 0.0255\n",
      "Epoch 33/70\n",
      "28/28 [==============================] - 0s 2ms/step - loss: 0.0252\n",
      "Epoch 34/70\n",
      "28/28 [==============================] - 0s 2ms/step - loss: 0.0252\n",
      "Epoch 35/70\n",
      "28/28 [==============================] - 0s 2ms/step - loss: 0.0250\n",
      "Epoch 36/70\n",
      "28/28 [==============================] - 0s 2ms/step - loss: 0.0250\n",
      "Epoch 37/70\n",
      "28/28 [==============================] - 0s 2ms/step - loss: 0.0252\n",
      "Epoch 38/70\n",
      "28/28 [==============================] - 0s 2ms/step - loss: 0.0248\n",
      "Epoch 39/70\n",
      "28/28 [==============================] - 0s 2ms/step - loss: 0.0249\n",
      "Epoch 40/70\n",
      "28/28 [==============================] - 0s 1ms/step - loss: 0.0246\n",
      "Epoch 41/70\n",
      "28/28 [==============================] - 0s 1ms/step - loss: 0.0248\n",
      "Epoch 42/70\n",
      "28/28 [==============================] - 0s 2ms/step - loss: 0.0244\n",
      "Epoch 43/70\n",
      "28/28 [==============================] - 0s 1ms/step - loss: 0.0244\n",
      "Epoch 44/70\n",
      "28/28 [==============================] - 0s 1ms/step - loss: 0.0243\n",
      "Epoch 45/70\n",
      "28/28 [==============================] - 0s 1ms/step - loss: 0.0242\n",
      "Epoch 46/70\n",
      "28/28 [==============================] - 0s 1ms/step - loss: 0.0244\n",
      "Epoch 47/70\n",
      "28/28 [==============================] - 0s 1ms/step - loss: 0.0243\n",
      "Epoch 48/70\n",
      "28/28 [==============================] - 0s 1ms/step - loss: 0.0240\n",
      "Epoch 49/70\n",
      "28/28 [==============================] - 0s 2ms/step - loss: 0.0239\n",
      "Epoch 50/70\n",
      "28/28 [==============================] - 0s 1ms/step - loss: 0.0242\n",
      "Epoch 51/70\n",
      "28/28 [==============================] - 0s 2ms/step - loss: 0.0240\n",
      "Epoch 52/70\n",
      "28/28 [==============================] - 0s 3ms/step - loss: 0.0239\n",
      "Epoch 53/70\n",
      "28/28 [==============================] - 0s 3ms/step - loss: 0.0236\n",
      "Epoch 54/70\n",
      "28/28 [==============================] - 0s 3ms/step - loss: 0.0235\n",
      "Epoch 55/70\n",
      "28/28 [==============================] - 0s 2ms/step - loss: 0.0235\n",
      "Epoch 56/70\n",
      "28/28 [==============================] - 0s 2ms/step - loss: 0.0240\n",
      "Epoch 57/70\n",
      "28/28 [==============================] - 0s 1ms/step - loss: 0.0232\n",
      "Epoch 58/70\n",
      "28/28 [==============================] - 0s 1ms/step - loss: 0.0235\n",
      "Epoch 59/70\n",
      "28/28 [==============================] - 0s 1ms/step - loss: 0.0232\n",
      "Epoch 60/70\n",
      "28/28 [==============================] - 0s 1ms/step - loss: 0.0232\n",
      "Epoch 61/70\n",
      "28/28 [==============================] - 0s 1ms/step - loss: 0.0232\n",
      "Epoch 62/70\n",
      "28/28 [==============================] - 0s 1ms/step - loss: 0.0233\n",
      "Epoch 63/70\n",
      "28/28 [==============================] - 0s 1ms/step - loss: 0.0234\n",
      "Epoch 64/70\n",
      "28/28 [==============================] - 0s 2ms/step - loss: 0.0231\n",
      "Epoch 65/70\n",
      "28/28 [==============================] - 0s 2ms/step - loss: 0.0227\n",
      "Epoch 66/70\n",
      "28/28 [==============================] - 0s 1ms/step - loss: 0.0227\n",
      "Epoch 67/70\n",
      "28/28 [==============================] - 0s 1ms/step - loss: 0.0230\n",
      "Epoch 68/70\n",
      "28/28 [==============================] - 0s 1ms/step - loss: 0.0232\n",
      "Epoch 69/70\n",
      "28/28 [==============================] - 0s 2ms/step - loss: 0.0230\n",
      "Epoch 70/70\n",
      "28/28 [==============================] - 0s 2ms/step - loss: 0.0228\n"
     ]
    },
    {
     "data": {
      "text/plain": [
       "<keras.callbacks.History at 0x27d15c71250>"
      ]
     },
     "execution_count": 31,
     "metadata": {},
     "output_type": "execute_result"
    }
   ],
   "source": [
    "early_stop = EarlyStopping(monitor='loss', patience=5, verbose=1)\n",
    "lstm_model.fit(train_X, train_y, epochs=70, batch_size=30, callbacks=[early_stop])"
   ]
  },
  {
   "cell_type": "code",
   "execution_count": null,
   "metadata": {},
   "outputs": [],
   "source": [
    "pred_y = lstm_model.predict(test_X)"
   ]
  },
  {
   "cell_type": "code",
   "execution_count": null,
   "metadata": {},
   "outputs": [
    {
     "data": {
      "image/png": "[encoded data removed]",
      "text/plain": [
       "<Figure size 432x288 with 1 Axes>"
      ]
     },
     "metadata": {
      "needs_background": "light"
     },
     "output_type": "display_data"
    }
   ],
   "source": [
    "plt.figure()\n",
    "plt.plot(test_y, color='red')\n",
    "plt.plot(pred_y, color='blue')\n",
    "plt.show()"
   ]
  },
  {
   "cell_type": "code",
   "execution_count": null,
   "metadata": {},
   "outputs": [
    {
     "name": "stdout",
     "output_type": "stream",
     "text": [
      "0.9095418965182176\n"
     ]
    }
   ],
   "source": [
    "test_score= r2_score(test_y, pred_y)\n",
    "print(test_score)"
   ]
  },
  {
   "cell_type": "code",
   "execution_count": null,
   "metadata": {},
   "outputs": [],
   "source": [
    "num_list= []\n",
    "for i in range(1900, 1965):\n",
    "    num_list.append(i*3)\n",
    "\n",
    "open=[]\n",
    "high=[]\n",
    "low= []\n",
    "close= []\n",
    "for i in range(len(num_list)):\n",
    "    if i == 0:\n",
    "        test_df= df.iloc[3534:num_list[0]]\n",
    "    else:\n",
    "        test_df= df.iloc[num_list[i-1]:num_list[i]]\n",
    "    open.append(test_df.iloc[0]['평균'])\n",
    "    max= test_df.iloc[0]['평균']\n",
    "    min= test_df.iloc[0]['평균']\n",
    "    for i in range(len(test_df)):\n",
    "        if test_df.iloc[i]['평균'] > max:\n",
    "            max= test_df.iloc[i]['평균']\n",
    "        if test_df.iloc[i]['평균'] < min:\n",
    "            min= test_df.iloc[i]['평균']\n",
    "    high.append(max)\n",
    "    low.append(min)\n",
    "    close.append(test_df.iloc[len(test_df)-1]['평균'])"
   ]
  },
  {
   "cell_type": "code",
   "execution_count": null,
   "metadata": {},
   "outputs": [
    {
     "data": {
      "text/html": [
       "<div>\n",
       "<style scoped>\n",
       "    .dataframe tbody tr th:only-of-type {\n",
       "        vertical-align: middle;\n",
       "    }\n",
       "\n",
       "    .dataframe tbody tr th {\n",
       "        vertical-align: top;\n",
       "    }\n",
       "\n",
       "    .dataframe thead th {\n",
       "        text-align: right;\n",
       "    }\n",
       "</style>\n",
       "<table border=\"1\" class=\"dataframe\">\n",
       "  <thead>\n",
       "    <tr style=\"text-align: right;\">\n",
       "      <th></th>\n",
       "      <th>시가</th>\n",
       "      <th>고가</th>\n",
       "      <th>저가</th>\n",
       "      <th>종가</th>\n",
       "    </tr>\n",
       "  </thead>\n",
       "  <tbody>\n",
       "    <tr>\n",
       "      <th>0</th>\n",
       "      <td>10700.0</td>\n",
       "      <td>27880.0</td>\n",
       "      <td>2600.0</td>\n",
       "      <td>8644.0</td>\n",
       "    </tr>\n",
       "    <tr>\n",
       "      <th>1</th>\n",
       "      <td>9016.0</td>\n",
       "      <td>9312.0</td>\n",
       "      <td>9016.0</td>\n",
       "      <td>9312.0</td>\n",
       "    </tr>\n",
       "    <tr>\n",
       "      <th>2</th>\n",
       "      <td>9117.0</td>\n",
       "      <td>9492.0</td>\n",
       "      <td>9117.0</td>\n",
       "      <td>9492.0</td>\n",
       "    </tr>\n",
       "    <tr>\n",
       "      <th>3</th>\n",
       "      <td>9532.0</td>\n",
       "      <td>10220.0</td>\n",
       "      <td>9532.0</td>\n",
       "      <td>10220.0</td>\n",
       "    </tr>\n",
       "    <tr>\n",
       "      <th>4</th>\n",
       "      <td>9785.0</td>\n",
       "      <td>9865.0</td>\n",
       "      <td>9785.0</td>\n",
       "      <td>9845.0</td>\n",
       "    </tr>\n",
       "    <tr>\n",
       "      <th>...</th>\n",
       "      <td>...</td>\n",
       "      <td>...</td>\n",
       "      <td>...</td>\n",
       "      <td>...</td>\n",
       "    </tr>\n",
       "    <tr>\n",
       "      <th>60</th>\n",
       "      <td>6100.0</td>\n",
       "      <td>6100.0</td>\n",
       "      <td>5664.0</td>\n",
       "      <td>5664.0</td>\n",
       "    </tr>\n",
       "    <tr>\n",
       "      <th>61</th>\n",
       "      <td>5592.0</td>\n",
       "      <td>5592.0</td>\n",
       "      <td>5242.0</td>\n",
       "      <td>5462.0</td>\n",
       "    </tr>\n",
       "    <tr>\n",
       "      <th>62</th>\n",
       "      <td>5982.0</td>\n",
       "      <td>5982.0</td>\n",
       "      <td>5488.0</td>\n",
       "      <td>5488.0</td>\n",
       "    </tr>\n",
       "    <tr>\n",
       "      <th>63</th>\n",
       "      <td>5408.0</td>\n",
       "      <td>5408.0</td>\n",
       "      <td>5244.5</td>\n",
       "      <td>5244.5</td>\n",
       "    </tr>\n",
       "    <tr>\n",
       "      <th>64</th>\n",
       "      <td>5245.5</td>\n",
       "      <td>5430.5</td>\n",
       "      <td>5245.5</td>\n",
       "      <td>5430.5</td>\n",
       "    </tr>\n",
       "  </tbody>\n",
       "</table>\n",
       "<p>65 rows × 4 columns</p>\n",
       "</div>"
      ],
      "text/plain": [
       "         시가       고가      저가       종가\n",
       "0   10700.0  27880.0  2600.0   8644.0\n",
       "1    9016.0   9312.0  9016.0   9312.0\n",
       "2    9117.0   9492.0  9117.0   9492.0\n",
       "3    9532.0  10220.0  9532.0  10220.0\n",
       "4    9785.0   9865.0  9785.0   9845.0\n",
       "..      ...      ...     ...      ...\n",
       "60   6100.0   6100.0  5664.0   5664.0\n",
       "61   5592.0   5592.0  5242.0   5462.0\n",
       "62   5982.0   5982.0  5488.0   5488.0\n",
       "63   5408.0   5408.0  5244.5   5244.5\n",
       "64   5245.5   5430.5  5245.5   5430.5\n",
       "\n",
       "[65 rows x 4 columns]"
      ]
     },
     "execution_count": 36,
     "metadata": {},
     "output_type": "execute_result"
    }
   ],
   "source": [
    "df_test= pd.DataFrame(columns=['시가', '고가', '저가', '종가'])\n",
    "df_test['시가']= open\n",
    "df_test['고가']= high\n",
    "df_test['저가']= low\n",
    "df_test['종가']= close\n",
    "df_test"
   ]
  },
  {
   "cell_type": "code",
   "execution_count": null,
   "metadata": {},
   "outputs": [],
   "source": [
    "f_test_X= df_test[['시가', '고가', '저가']]\n",
    "f_test_y= df_test[['종가']]\n",
    "\n",
    "f_test_X_sc= scaler.fit_transform(f_test_X)\n",
    "f_test_y_sc= scaler1.fit_transform(f_test_y)"
   ]
  },
  {
   "cell_type": "code",
   "execution_count": null,
   "metadata": {},
   "outputs": [
    {
     "name": "stdout",
     "output_type": "stream",
     "text": [
      "[[-0.96749181 -0.99539578 -0.99256208]\n",
      " [-1.04152587 -1.06457495 -1.0261188 ]] -> [-1.02517334]\n"
     ]
    }
   ],
   "source": [
    "window_size = 2\n",
    "\n",
    "data_X = []\n",
    "data_y = []\n",
    "for i in range(len(f_test_y_sc) - window_size):\n",
    "    _X = f_test_X_sc[i : i + window_size] # 다음 날 종가(i+windows_size)는 포함되지 않음\n",
    "    _y = f_test_y_sc[i + window_size]     # 다음 날 종가\n",
    "    data_X.append(_X)\n",
    "    data_y.append(_y)\n",
    "print(_X, \"->\", _y)"
   ]
  },
  {
   "cell_type": "code",
   "execution_count": null,
   "metadata": {},
   "outputs": [],
   "source": [
    "check_X = np.array(data_X)\n",
    "check_y = np.array(data_y)"
   ]
  },
  {
   "cell_type": "code",
   "execution_count": null,
   "metadata": {},
   "outputs": [],
   "source": [
    "pred_check_y= lstm_model.predict(check_X)"
   ]
  },
  {
   "cell_type": "code",
   "execution_count": null,
   "metadata": {},
   "outputs": [
    {
     "data": {
      "image/png": "[encoded data removed]",
      "text/plain": [
       "<Figure size 432x288 with 1 Axes>"
      ]
     },
     "metadata": {
      "needs_background": "light"
     },
     "output_type": "display_data"
    }
   ],
   "source": [
    "plt.figure()\n",
    "plt.plot(check_y, color='red')\n",
    "plt.plot(pred_check_y, color='blue')\n",
    "plt.show()"
   ]
  },
  {
   "cell_type": "code",
   "execution_count": null,
   "metadata": {},
   "outputs": [
    {
     "name": "stdout",
     "output_type": "stream",
     "text": [
      "0.8723973941871067\n"
     ]
    }
   ],
   "source": [
    "test_score= r2_score(check_y, pred_check_y)\n",
    "print(test_score)"
   ]
  },
  {
   "cell_type": "code",
   "execution_count": null,
   "metadata": {},
   "outputs": [
    {
     "data": {
      "text/html": [
       "<div>\n",
       "<style scoped>\n",
       "    .dataframe tbody tr th:only-of-type {\n",
       "        vertical-align: middle;\n",
       "    }\n",
       "\n",
       "    .dataframe tbody tr th {\n",
       "        vertical-align: top;\n",
       "    }\n",
       "\n",
       "    .dataframe thead th {\n",
       "        text-align: right;\n",
       "    }\n",
       "</style>\n",
       "<table border=\"1\" class=\"dataframe\">\n",
       "  <thead>\n",
       "    <tr style=\"text-align: right;\">\n",
       "      <th></th>\n",
       "      <th>예측 가격</th>\n",
       "      <th>실제 가격</th>\n",
       "      <th>차이</th>\n",
       "    </tr>\n",
       "  </thead>\n",
       "  <tbody>\n",
       "    <tr>\n",
       "      <th>0</th>\n",
       "      <td>6011.226562</td>\n",
       "      <td>9492.0</td>\n",
       "      <td>36.670601</td>\n",
       "    </tr>\n",
       "    <tr>\n",
       "      <th>1</th>\n",
       "      <td>9396.472656</td>\n",
       "      <td>10220.0</td>\n",
       "      <td>8.057997</td>\n",
       "    </tr>\n",
       "    <tr>\n",
       "      <th>2</th>\n",
       "      <td>10212.710938</td>\n",
       "      <td>9845.0</td>\n",
       "      <td>-3.735002</td>\n",
       "    </tr>\n",
       "    <tr>\n",
       "      <th>3</th>\n",
       "      <td>9901.767578</td>\n",
       "      <td>10540.0</td>\n",
       "      <td>6.055336</td>\n",
       "    </tr>\n",
       "    <tr>\n",
       "      <th>4</th>\n",
       "      <td>10852.782227</td>\n",
       "      <td>10580.0</td>\n",
       "      <td>-2.578282</td>\n",
       "    </tr>\n",
       "    <tr>\n",
       "      <th>...</th>\n",
       "      <td>...</td>\n",
       "      <td>...</td>\n",
       "      <td>...</td>\n",
       "    </tr>\n",
       "    <tr>\n",
       "      <th>58</th>\n",
       "      <td>5808.634766</td>\n",
       "      <td>5664.0</td>\n",
       "      <td>-2.553580</td>\n",
       "    </tr>\n",
       "    <tr>\n",
       "      <th>59</th>\n",
       "      <td>5681.124023</td>\n",
       "      <td>5462.0</td>\n",
       "      <td>-4.011791</td>\n",
       "    </tr>\n",
       "    <tr>\n",
       "      <th>60</th>\n",
       "      <td>5062.284180</td>\n",
       "      <td>5488.0</td>\n",
       "      <td>7.757212</td>\n",
       "    </tr>\n",
       "    <tr>\n",
       "      <th>61</th>\n",
       "      <td>5983.941895</td>\n",
       "      <td>5244.5</td>\n",
       "      <td>-14.099378</td>\n",
       "    </tr>\n",
       "    <tr>\n",
       "      <th>62</th>\n",
       "      <td>4994.295898</td>\n",
       "      <td>5430.5</td>\n",
       "      <td>8.032485</td>\n",
       "    </tr>\n",
       "  </tbody>\n",
       "</table>\n",
       "<p>63 rows × 3 columns</p>\n",
       "</div>"
      ],
      "text/plain": [
       "           예측 가격    실제 가격         차이\n",
       "0    6011.226562   9492.0  36.670601\n",
       "1    9396.472656  10220.0   8.057997\n",
       "2   10212.710938   9845.0  -3.735002\n",
       "3    9901.767578  10540.0   6.055336\n",
       "4   10852.782227  10580.0  -2.578282\n",
       "..           ...      ...        ...\n",
       "58   5808.634766   5664.0  -2.553580\n",
       "59   5681.124023   5462.0  -4.011791\n",
       "60   5062.284180   5488.0   7.757212\n",
       "61   5983.941895   5244.5 -14.099378\n",
       "62   4994.295898   5430.5   8.032485\n",
       "\n",
       "[63 rows x 3 columns]"
      ]
     },
     "execution_count": 43,
     "metadata": {},
     "output_type": "execute_result"
    }
   ],
   "source": [
    "y_pred=scaler1.inverse_transform(pred_check_y)\n",
    "\n",
    "#  예측값을 데이터프레임에 저장한다\n",
    "df_pred = pd.DataFrame(y_pred, columns=['예측 가격'])\n",
    "\n",
    "y_actual= scaler1.inverse_transform(check_y)\n",
    "\n",
    "df_pred['실제 가격']= y_actual\n",
    "\n",
    "df_pred['차이']= (df_pred['실제 가격']-df_pred['예측 가격']) / df_pred['실제 가격'] * 100\n",
    "\n",
    "df_pred"
   ]
  },
  {
   "cell_type": "code",
   "execution_count": null,
   "metadata": {},
   "outputs": [
    {
     "name": "stderr",
     "output_type": "stream",
     "text": [
      "c:\\Users\\LG-PC\\anaconda3\\lib\\site-packages\\IPython\\core\\pylabtools.py:151: UserWarning: Glyph 49892 (\\N{HANGUL SYLLABLE SIL}) missing from current font.\n",
      "  fig.canvas.print_figure(bytes_io, **kw)\n",
      "c:\\Users\\LG-PC\\anaconda3\\lib\\site-packages\\IPython\\core\\pylabtools.py:151: UserWarning: Glyph 51228 (\\N{HANGUL SYLLABLE JE}) missing from current font.\n",
      "  fig.canvas.print_figure(bytes_io, **kw)\n",
      "c:\\Users\\LG-PC\\anaconda3\\lib\\site-packages\\IPython\\core\\pylabtools.py:151: UserWarning: Glyph 44050 (\\N{HANGUL SYLLABLE GABS}) missing from current font.\n",
      "  fig.canvas.print_figure(bytes_io, **kw)\n",
      "c:\\Users\\LG-PC\\anaconda3\\lib\\site-packages\\IPython\\core\\pylabtools.py:151: UserWarning: Glyph 44284 (\\N{HANGUL SYLLABLE GWA}) missing from current font.\n",
      "  fig.canvas.print_figure(bytes_io, **kw)\n",
      "c:\\Users\\LG-PC\\anaconda3\\lib\\site-packages\\IPython\\core\\pylabtools.py:151: UserWarning: Glyph 50696 (\\N{HANGUL SYLLABLE YE}) missing from current font.\n",
      "  fig.canvas.print_figure(bytes_io, **kw)\n",
      "c:\\Users\\LG-PC\\anaconda3\\lib\\site-packages\\IPython\\core\\pylabtools.py:151: UserWarning: Glyph 52769 (\\N{HANGUL SYLLABLE CEUG}) missing from current font.\n",
      "  fig.canvas.print_figure(bytes_io, **kw)\n",
      "c:\\Users\\LG-PC\\anaconda3\\lib\\site-packages\\IPython\\core\\pylabtools.py:151: UserWarning: Glyph 51032 (\\N{HANGUL SYLLABLE YI}) missing from current font.\n",
      "  fig.canvas.print_figure(bytes_io, **kw)\n",
      "c:\\Users\\LG-PC\\anaconda3\\lib\\site-packages\\IPython\\core\\pylabtools.py:151: UserWarning: Glyph 52264 (\\N{HANGUL SYLLABLE CA}) missing from current font.\n",
      "  fig.canvas.print_figure(bytes_io, **kw)\n",
      "c:\\Users\\LG-PC\\anaconda3\\lib\\site-packages\\IPython\\core\\pylabtools.py:151: UserWarning: Glyph 51060 (\\N{HANGUL SYLLABLE I}) missing from current font.\n",
      "  fig.canvas.print_figure(bytes_io, **kw)\n",
      "c:\\Users\\LG-PC\\anaconda3\\lib\\site-packages\\IPython\\core\\pylabtools.py:151: UserWarning: Glyph 48708 (\\N{HANGUL SYLLABLE BI}) missing from current font.\n",
      "  fig.canvas.print_figure(bytes_io, **kw)\n",
      "c:\\Users\\LG-PC\\anaconda3\\lib\\site-packages\\IPython\\core\\pylabtools.py:151: UserWarning: Glyph 50984 (\\N{HANGUL SYLLABLE YUL}) missing from current font.\n",
      "  fig.canvas.print_figure(bytes_io, **kw)\n"
     ]
    },
    {
     "data": {
      "image/png": "[encoded data removed]",
      "text/plain": [
       "<Figure size 864x648 with 1 Axes>"
      ]
     },
     "metadata": {
      "needs_background": "light"
     },
     "output_type": "display_data"
    }
   ],
   "source": [
    "# 예측값과 실제값의 차이를 시각화한다,\n",
    "plt.figure(figsize=(12, 9))\n",
    "# y축의 범위를 -10과 10 사이로 설정한다\n",
    "plt.ylim(-100, 100)\n",
    "# y축의 눈금을 -10부터 10까지 2간격으로 설정한다\n",
    "plt.yticks(np.arange(-100, 100, 10))\n",
    "# 글자가 겹치지 않도록 회전한다\n",
    "plt.xticks(rotation=45)\n",
    "plt.scatter(df_pred.index, df_pred['차이'])\n",
    "plt.axhline(y=0, color='red', linestyle='--')\n",
    "plt.title('XGBoost 실제값과 예측값의 차이 비율')\n",
    "# 범례를 표시한다\n",
    "plt.legend(['diff', '0'])\n",
    "plt.show()"
   ]
  },
  {
   "cell_type": "code",
   "execution_count": null,
   "metadata": {},
   "outputs": [],
   "source": []
  },
  {
   "cell_type": "code",
   "execution_count": null,
   "metadata": {},
   "outputs": [],
   "source": []
  },
  {
   "cell_type": "code",
   "execution_count": null,
   "metadata": {},
   "outputs": [],
   "source": []
  }
 ],
 "metadata": {
  "kernelspec": {
   "display_name": "baseDeep",
   "language": "python",
   "name": "python3"
  },
  "language_info": {
   "codemirror_mode": {
    "name": "ipython",
    "version": 3
   },
   "file_extension": ".py",
   "mimetype": "text/x-python",
   "name": "python",
   "nbconvert_exporter": "python",
   "pygments_lexer": "ipython3",
   "version": "3.8.13"
  },
  "orig_nbformat": 4,
  "vscode": {
   "interpreter": {
    "hash": "d5bd3b74290b6fecca2d77c6682b8ba7e9275f0a56c500dd407ba5b0bc3fc494"
   }
  }
 },
 "nbformat": 4,
 "nbformat_minor": 2
}
