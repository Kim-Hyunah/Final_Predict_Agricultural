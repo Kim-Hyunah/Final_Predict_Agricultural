{
 "cells": [
  {
   "cell_type": "code",
   "execution_count": 29,
   "metadata": {},
   "outputs": [],
   "source": [
    "import requests\n",
    "import json\n",
    "import pandas as pd\n",
    "from bs4 import BeautifulSoup\n",
    "import urllib.request as req\n",
    "import datetime\n",
    "import time\n",
    "import numpy as np\n",
    "import matplotlib.pyplot as plt\n",
    "import seaborn as sns\n",
    "import warnings\n",
    "warnings.filterwarnings('ignore')\n",
    "\n",
    "from urllib.request import urlretrieve, urlopen\n",
    "from bs4 import BeautifulSoup\n",
    "from selenium import webdriver\n",
    "from selenium.webdriver.firefox.firefox_binary import FirefoxBinary\n",
    "import time\n",
    "from urllib.parse import urljoin\n",
    "import pandas as pd\n",
    "import requests\n",
    "import os\n",
    "\n",
    "\n",
    "# Mac OS의 경우와 그 외 OS의 경우로 나누어 설정\n",
    "firefox_options = webdriver.FirefoxOptions()\n",
    "\n",
    "if os.name == \"posix\":\n",
    "    driver = FirefoxBinary(\"/Applications/Firefox.app/Contents/MacOS/firefox\")\n",
    "    browser = webdriver.Firefox(firefox_binary=driver)\n",
    "\n",
    "else:\n",
    "    driver = FirefoxBinary(\"C:/Program Files/Mozilla Firefox/firefox.exe\")\n",
    "    browser = webdriver.Firefox(firefox_binary=driver)"
   ]
  },
  {
   "cell_type": "code",
   "execution_count": 30,
   "metadata": {},
   "outputs": [
    {
     "ename": "NoSuchElementException",
     "evalue": "Message: Unable to locate element: #spancode3 > ol.last > li.code3 > label\n",
     "output_type": "error",
     "traceback": [
      "\u001b[0;31m---------------------------------------------------------------------------\u001b[0m",
      "\u001b[0;31mNoSuchElementException\u001b[0m                    Traceback (most recent call last)",
      "\u001b[1;32m/Users/bagjeonghyeon/Documents/Final_Predict_Agricultural/Final_Predict_Agricultural/load_quantity.ipynb 셀 2\u001b[0m in \u001b[0;36m<cell line: 6>\u001b[0;34m()\u001b[0m\n\u001b[1;32m     <a href='vscode-notebook-cell:/Users/bagjeonghyeon/Documents/Final_Predict_Agricultural/Final_Predict_Agricultural/load_quantity.ipynb#W1sZmlsZQ%3D%3D?line=22'>23</a>\u001b[0m time\u001b[39m.\u001b[39msleep(\u001b[39m1\u001b[39m)\n\u001b[1;32m     <a href='vscode-notebook-cell:/Users/bagjeonghyeon/Documents/Final_Predict_Agricultural/Final_Predict_Agricultural/load_quantity.ipynb#W1sZmlsZQ%3D%3D?line=24'>25</a>\u001b[0m \u001b[39m# 소분류 월동배추 : \u001b[39;00m\n\u001b[1;32m     <a href='vscode-notebook-cell:/Users/bagjeonghyeon/Documents/Final_Predict_Agricultural/Final_Predict_Agricultural/load_quantity.ipynb#W1sZmlsZQ%3D%3D?line=25'>26</a>\u001b[0m \u001b[39m#사용하여 value 값이 100101 인 것을 클릭 \u001b[39;00m\n\u001b[0;32m---> <a href='vscode-notebook-cell:/Users/bagjeonghyeon/Documents/Final_Predict_Agricultural/Final_Predict_Agricultural/load_quantity.ipynb#W1sZmlsZQ%3D%3D?line=26'>27</a>\u001b[0m \u001b[39mif\u001b[39;00m browser\u001b[39m.\u001b[39;49mfind_element_by_css_selector(\u001b[39m'\u001b[39;49m\u001b[39m#spancode3 > ol.last > li.code3 > label\u001b[39;49m\u001b[39m'\u001b[39;49m)\u001b[39m.\u001b[39mtext \u001b[39m==\u001b[39m \u001b[39m\"\u001b[39m\u001b[39m봄배추\u001b[39m\u001b[39m\"\u001b[39m:\n\u001b[1;32m     <a href='vscode-notebook-cell:/Users/bagjeonghyeon/Documents/Final_Predict_Agricultural/Final_Predict_Agricultural/load_quantity.ipynb#W1sZmlsZQ%3D%3D?line=27'>28</a>\u001b[0m     browser\u001b[39m.\u001b[39mfind_element_by_css_selector(\u001b[39m'\u001b[39m\u001b[39m#spancode3 > ol.last > li.code3 > label\u001b[39m\u001b[39m'\u001b[39m)\u001b[39m.\u001b[39mclick()\n\u001b[1;32m     <a href='vscode-notebook-cell:/Users/bagjeonghyeon/Documents/Final_Predict_Agricultural/Final_Predict_Agricultural/load_quantity.ipynb#W1sZmlsZQ%3D%3D?line=28'>29</a>\u001b[0m     time\u001b[39m.\u001b[39msleep(\u001b[39m1\u001b[39m)\n",
      "File \u001b[0;32m~/miniforge3/envs/baseDeep/lib/python3.8/site-packages/selenium/webdriver/remote/webdriver.py:598\u001b[0m, in \u001b[0;36mWebDriver.find_element_by_css_selector\u001b[0;34m(self, css_selector)\u001b[0m\n\u001b[1;32m    582\u001b[0m \u001b[39mdef\u001b[39;00m \u001b[39mfind_element_by_css_selector\u001b[39m(\u001b[39mself\u001b[39m, css_selector):\n\u001b[1;32m    583\u001b[0m     \u001b[39m\"\"\"\u001b[39;00m\n\u001b[1;32m    584\u001b[0m \u001b[39m    Finds an element by css selector.\u001b[39;00m\n\u001b[1;32m    585\u001b[0m \n\u001b[0;32m   (...)\u001b[0m\n\u001b[1;32m    596\u001b[0m \u001b[39m        element = driver.find_element_by_css_selector('#foo')\u001b[39;00m\n\u001b[1;32m    597\u001b[0m \u001b[39m    \"\"\"\u001b[39;00m\n\u001b[0;32m--> 598\u001b[0m     \u001b[39mreturn\u001b[39;00m \u001b[39mself\u001b[39;49m\u001b[39m.\u001b[39;49mfind_element(by\u001b[39m=\u001b[39;49mBy\u001b[39m.\u001b[39;49mCSS_SELECTOR, value\u001b[39m=\u001b[39;49mcss_selector)\n",
      "File \u001b[0;32m~/miniforge3/envs/baseDeep/lib/python3.8/site-packages/selenium/webdriver/remote/webdriver.py:976\u001b[0m, in \u001b[0;36mWebDriver.find_element\u001b[0;34m(self, by, value)\u001b[0m\n\u001b[1;32m    974\u001b[0m         by \u001b[39m=\u001b[39m By\u001b[39m.\u001b[39mCSS_SELECTOR\n\u001b[1;32m    975\u001b[0m         value \u001b[39m=\u001b[39m \u001b[39m'\u001b[39m\u001b[39m[name=\u001b[39m\u001b[39m\"\u001b[39m\u001b[39m%s\u001b[39;00m\u001b[39m\"\u001b[39m\u001b[39m]\u001b[39m\u001b[39m'\u001b[39m \u001b[39m%\u001b[39m value\n\u001b[0;32m--> 976\u001b[0m \u001b[39mreturn\u001b[39;00m \u001b[39mself\u001b[39;49m\u001b[39m.\u001b[39;49mexecute(Command\u001b[39m.\u001b[39;49mFIND_ELEMENT, {\n\u001b[1;32m    977\u001b[0m     \u001b[39m'\u001b[39;49m\u001b[39musing\u001b[39;49m\u001b[39m'\u001b[39;49m: by,\n\u001b[1;32m    978\u001b[0m     \u001b[39m'\u001b[39;49m\u001b[39mvalue\u001b[39;49m\u001b[39m'\u001b[39;49m: value})[\u001b[39m'\u001b[39m\u001b[39mvalue\u001b[39m\u001b[39m'\u001b[39m]\n",
      "File \u001b[0;32m~/miniforge3/envs/baseDeep/lib/python3.8/site-packages/selenium/webdriver/remote/webdriver.py:321\u001b[0m, in \u001b[0;36mWebDriver.execute\u001b[0;34m(self, driver_command, params)\u001b[0m\n\u001b[1;32m    319\u001b[0m response \u001b[39m=\u001b[39m \u001b[39mself\u001b[39m\u001b[39m.\u001b[39mcommand_executor\u001b[39m.\u001b[39mexecute(driver_command, params)\n\u001b[1;32m    320\u001b[0m \u001b[39mif\u001b[39;00m response:\n\u001b[0;32m--> 321\u001b[0m     \u001b[39mself\u001b[39;49m\u001b[39m.\u001b[39;49merror_handler\u001b[39m.\u001b[39;49mcheck_response(response)\n\u001b[1;32m    322\u001b[0m     response[\u001b[39m'\u001b[39m\u001b[39mvalue\u001b[39m\u001b[39m'\u001b[39m] \u001b[39m=\u001b[39m \u001b[39mself\u001b[39m\u001b[39m.\u001b[39m_unwrap_value(\n\u001b[1;32m    323\u001b[0m         response\u001b[39m.\u001b[39mget(\u001b[39m'\u001b[39m\u001b[39mvalue\u001b[39m\u001b[39m'\u001b[39m, \u001b[39mNone\u001b[39;00m))\n\u001b[1;32m    324\u001b[0m     \u001b[39mreturn\u001b[39;00m response\n",
      "File \u001b[0;32m~/miniforge3/envs/baseDeep/lib/python3.8/site-packages/selenium/webdriver/remote/errorhandler.py:242\u001b[0m, in \u001b[0;36mErrorHandler.check_response\u001b[0;34m(self, response)\u001b[0m\n\u001b[1;32m    240\u001b[0m         alert_text \u001b[39m=\u001b[39m value[\u001b[39m'\u001b[39m\u001b[39malert\u001b[39m\u001b[39m'\u001b[39m]\u001b[39m.\u001b[39mget(\u001b[39m'\u001b[39m\u001b[39mtext\u001b[39m\u001b[39m'\u001b[39m)\n\u001b[1;32m    241\u001b[0m     \u001b[39mraise\u001b[39;00m exception_class(message, screen, stacktrace, alert_text)\n\u001b[0;32m--> 242\u001b[0m \u001b[39mraise\u001b[39;00m exception_class(message, screen, stacktrace)\n",
      "\u001b[0;31mNoSuchElementException\u001b[0m: Message: Unable to locate element: #spancode3 > ol.last > li.code3 > label\n"
     ]
    }
   ],
   "source": [
    "url = \"https://oasis.krei.re.kr/basicInfo/wholesale/qty.do\"\n",
    "\n",
    "browser.get(url)\n",
    "time.sleep(1)\n",
    "\n",
    "for i in range(2000, 2022):\n",
    "\n",
    "# <input id=\"sCalendar\" name=\"sCalendar\" title=\"sCalendar\" class=\"type-text calendar bLN hasDatepicker\" type=\"text\" value=\"\">의 value를 start_year 변수로 변경\n",
    "    browser.execute_script(\"document.getElementById('sCalendar').value='{}-01-01'\".format(str(i)))\n",
    "    time.sleep(1)\n",
    "# <input id=\"eCalendar\" name=\"eCalendar\" title=\"eCalendar\" class=\"type-text calendar hasDatepicker\" type=\"text\" value=\"\"> 의 value를 2001-12-31로 변경\n",
    "    browser.execute_script(\"document.getElementById('eCalendar').value='{}-12-31'\".format(str(i)))\n",
    "    time.sleep(1)\n",
    "\n",
    "    # 대분류\n",
    "    # /html/body/div[1]/div[2]/form/div[1]/div/div[1]/table/tbody/tr[2]/td/dl[1]/dd/ol/li[10] 클릭\n",
    "    browser.find_element_by_xpath(\"/html/body/div[1]/div[2]/form/div[1]/div/div[1]/table/tbody/tr[2]/td/dl[1]/dd/ol/li[10]\").click()\n",
    "    time.sleep(1)\n",
    "\n",
    "    # 중분류\n",
    "    # /html/body/div[1]/div[2]/form/div[1]/div/div[1]/table/tbody/tr[2]/td/dl[2]/dd/ol[1]/li[1] 클릭\n",
    "    browser.find_element_by_xpath(\"/html/body/div[1]/div[2]/form/div[1]/div/div[1]/table/tbody/tr[2]/td/dl[2]/dd/ol[1]/li[1]\").click()\n",
    "    time.sleep(1)\n",
    "\n",
    "    # 소분류 \n",
    "    # 월동배추 \n",
    "    # /html/body/div[1]/div[2]/form/div[1]/div/div[1]/table/tbody/tr[2]/td/dl[3]/dd/ol[1]/li[1] 클릭\n",
    "    browser.find_element_by_xpath(\"/html/body/div[1]/div[2]/form/div[1]/div/div[1]/table/tbody/tr[2]/td/dl[3]/dd/ol[1]/li[1]\").click()\n",
    "    time.sleep(1)\n",
    "\n",
    "    #  봄배추\n",
    "    # /html/body/div[1]/div[2]/form/div[1]/div/div[1]/table/tbody/tr[2]/td/dl[3]/dd/ol[1]/li[2] 클릭\n",
    "    browser.find_element_by_xpath(\"/html/body/div[1]/div[2]/form/div[1]/div/div[1]/table/tbody/tr[2]/td/dl[3]/dd/ol[1]/li[2]\").click()\n",
    "    time.sleep(1)\n",
    "\n",
    "    #  여름배추\n",
    "    # /html/body/div[1]/div[2]/form/div[1]/div/div[1]/table/tbody/tr[2]/td/dl[3]/dd/ol[1]/li[3] 클릭\n",
    "    browser.find_element_by_xpath(\"/html/body/div[1]/div[2]/form/div[1]/div/div[1]/table/tbody/tr[2]/td/dl[3]/dd/ol[1]/li[3]\").click()\n",
    "    time.sleep(1)\n",
    "\n",
    "    #  가을배추\n",
    "    # /html/body/div[1]/div[2]/form/div[1]/div/div[1]/table/tbody/tr[2]/td/dl[3]/dd/ol[1]/li[4] 클릭\n",
    "    browser.find_element_by_xpath(\"/html/body/div[1]/div[2]/form/div[1]/div/div[1]/table/tbody/tr[2]/td/dl[3]/dd/ol[1]/li[4]\").click()\n",
    "    time.sleep(1)\n",
    "\n",
    "    # 조회\n",
    "    # /html/body/div[1]/div[2]/form/div[1]/div/div[1]/ul/li[2]/a/img 클릭\n",
    "    browser.find_element_by_xpath(\"/html/body/div[1]/div[2]/form/div[1]/div/div[1]/ul/li[2]/a/img\").click()\n",
    "    time.sleep(1)\n",
    "\n",
    "\n",
    "    # 엑셀 다운로드\n",
    "    # /html/body/div[1]/div[2]/form/div[3]/span/a/img 클릭\n",
    "    browser.find_element_by_xpath(\"/html/body/div[1]/div[2]/form/div[3]/span/a/img\").click()\n",
    "    time.sleep(1)\n",
    "\n",
    "\n",
    "\n",
    "\n",
    "\n",
    "\n"
   ]
  }
 ],
 "metadata": {
  "kernelspec": {
   "display_name": "baseDeep",
   "language": "python",
   "name": "python3"
  },
  "language_info": {
   "codemirror_mode": {
    "name": "ipython",
    "version": 3
   },
   "file_extension": ".py",
   "mimetype": "text/x-python",
   "name": "python",
   "nbconvert_exporter": "python",
   "pygments_lexer": "ipython3",
   "version": "3.8.13 (default, Oct 19 2022, 17:52:09) \n[Clang 12.0.0 ]"
  },
  "orig_nbformat": 4,
  "vscode": {
   "interpreter": {
    "hash": "d5bd3b74290b6fecca2d77c6682b8ba7e9275f0a56c500dd407ba5b0bc3fc494"
   }
  }
 },
 "nbformat": 4,
 "nbformat_minor": 2
}
