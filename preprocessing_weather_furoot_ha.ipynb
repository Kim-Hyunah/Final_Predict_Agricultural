{
 "cells": [
  {
   "cell_type": "code",
   "execution_count": 15,
   "id": "f4f9b223",
   "metadata": {},
   "outputs": [],
   "source": [
    "import requests\n",
    "import json\n",
    "import pprint\n",
    "import matplotlib.pyplot as plt\n",
    "import seaborn as sns\n",
    "import pandas as pd\n",
    "import numpy as np\n",
    "from tqdm import tqdm\n",
    "import warnings\n",
    "warnings.filterwarnings('ignore')"
   ]
  },
  {
   "cell_type": "code",
   "execution_count": 2,
   "id": "706d4537",
   "metadata": {},
   "outputs": [],
   "source": [
    "df = pd.read_csv('./data/최종_최종__월별기상관측.csv', encoding='cp949')\n",
    "df = df.drop(['Unnamed: 0'], axis=1)"
   ]
  },
  {
   "cell_type": "code",
   "execution_count": 16,
   "id": "5e84fae9",
   "metadata": {},
   "outputs": [],
   "source": [
    "df = pd.read_csv('./data/최종_최종__월별기상관측.csv', encoding='cp949')\n",
    "df = df.drop(['Unnamed: 0'], axis=1)"
   ]
  },
  {
   "cell_type": "code",
   "execution_count": 17,
   "id": "7a5f8fc5",
   "metadata": {},
   "outputs": [
    {
     "data": {
      "text/plain": [
       "array(['강원도', '경기도', '인천광역시', '서울특별시', '경상북도', '충청북도', '충청남도', '대전광역시',\n",
       "       '전라남도', '대구광역시', '전라북도', '울산광역시', '경상남도', '광주광역시', '부산광역시', '제주도',\n",
       "       '세종특별자치시'], dtype=object)"
      ]
     },
     "execution_count": 17,
     "metadata": {},
     "output_type": "execute_result"
    }
   ],
   "source": [
    "region = df['행정구역'].unique()\n",
    "region"
   ]
  },
  {
   "cell_type": "code",
   "execution_count": 18,
   "id": "d2e97eb4",
   "metadata": {},
   "outputs": [],
   "source": [
    "# g = df[(df['행정구역'] == '강원도')]"
   ]
  },
  {
   "cell_type": "code",
   "execution_count": 19,
   "id": "4ab27363",
   "metadata": {},
   "outputs": [],
   "source": [
    "# g"
   ]
  },
  {
   "cell_type": "code",
   "execution_count": 20,
   "id": "55dd23ce",
   "metadata": {},
   "outputs": [],
   "source": [
    "# t_date = g['일시'].unique()"
   ]
  },
  {
   "cell_type": "code",
   "execution_count": 21,
   "id": "5bf1c0fd",
   "metadata": {},
   "outputs": [],
   "source": [
    "# t_date"
   ]
  },
  {
   "cell_type": "code",
   "execution_count": 22,
   "id": "db670e1e",
   "metadata": {},
   "outputs": [],
   "source": [
    "#t = g[(g['일시'] == '2000-01')]"
   ]
  },
  {
   "cell_type": "code",
   "execution_count": 23,
   "id": "1461e1d0",
   "metadata": {},
   "outputs": [],
   "source": [
    "#t"
   ]
  },
  {
   "cell_type": "code",
   "execution_count": 24,
   "id": "20559cca",
   "metadata": {},
   "outputs": [],
   "source": [
    "#t.describe()['평균기온(°C)']"
   ]
  },
  {
   "cell_type": "code",
   "execution_count": 26,
   "id": "69f5791c",
   "metadata": {},
   "outputs": [],
   "source": [
    "#t.describe()['평균기온(°C)']['50%']"
   ]
  },
  {
   "cell_type": "code",
   "execution_count": 27,
   "id": "42ff7f6c",
   "metadata": {},
   "outputs": [],
   "source": [
    "def calc_median(df:pd.DataFrame, colname:str):\n",
    "    # df(데이터 프레임) colname의 중앙값 산출하는 함수\n",
    "    return df.describe()[colname]['50%']"
   ]
  },
  {
   "cell_type": "code",
   "execution_count": 30,
   "id": "6949f610",
   "metadata": {},
   "outputs": [
    {
     "name": "stderr",
     "output_type": "stream",
     "text": [
      "  0%|          | 0/17 [00:00<?, ?it/s]"
     ]
    },
    {
     "name": "stdout",
     "output_type": "stream",
     "text": [
      "행정구역 : 강원도\n"
     ]
    },
    {
     "name": "stderr",
     "output_type": "stream",
     "text": [
      "  6%|▌         | 1/17 [00:25<06:49, 25.58s/it]"
     ]
    },
    {
     "name": "stdout",
     "output_type": "stream",
     "text": [
      "행정구역 : 경기도\n"
     ]
    },
    {
     "name": "stderr",
     "output_type": "stream",
     "text": [
      " 12%|█▏        | 2/17 [00:56<07:07, 28.51s/it]"
     ]
    },
    {
     "name": "stdout",
     "output_type": "stream",
     "text": [
      "행정구역 : 인천광역시\n"
     ]
    },
    {
     "name": "stderr",
     "output_type": "stream",
     "text": [
      " 18%|█▊        | 3/17 [01:20<06:10, 26.49s/it]"
     ]
    },
    {
     "name": "stdout",
     "output_type": "stream",
     "text": [
      "행정구역 : 서울특별시\n"
     ]
    },
    {
     "name": "stderr",
     "output_type": "stream",
     "text": [
      " 24%|██▎       | 4/17 [01:44<05:31, 25.48s/it]"
     ]
    },
    {
     "name": "stdout",
     "output_type": "stream",
     "text": [
      "행정구역 : 경상북도\n"
     ]
    },
    {
     "name": "stderr",
     "output_type": "stream",
     "text": [
      " 29%|██▉       | 5/17 [02:07<04:57, 24.82s/it]"
     ]
    },
    {
     "name": "stdout",
     "output_type": "stream",
     "text": [
      "행정구역 : 충청북도\n"
     ]
    },
    {
     "name": "stderr",
     "output_type": "stream",
     "text": [
      " 35%|███▌      | 6/17 [02:30<04:26, 24.24s/it]"
     ]
    },
    {
     "name": "stdout",
     "output_type": "stream",
     "text": [
      "행정구역 : 충청남도\n"
     ]
    },
    {
     "name": "stderr",
     "output_type": "stream",
     "text": [
      " 41%|████      | 7/17 [02:54<03:59, 23.99s/it]"
     ]
    },
    {
     "name": "stdout",
     "output_type": "stream",
     "text": [
      "행정구역 : 대전광역시\n"
     ]
    },
    {
     "name": "stderr",
     "output_type": "stream",
     "text": [
      " 47%|████▋     | 8/17 [03:17<03:34, 23.85s/it]"
     ]
    },
    {
     "name": "stdout",
     "output_type": "stream",
     "text": [
      "행정구역 : 전라남도\n"
     ]
    },
    {
     "name": "stderr",
     "output_type": "stream",
     "text": [
      " 53%|█████▎    | 9/17 [03:41<03:09, 23.65s/it]"
     ]
    },
    {
     "name": "stdout",
     "output_type": "stream",
     "text": [
      "행정구역 : 대구광역시\n"
     ]
    },
    {
     "name": "stderr",
     "output_type": "stream",
     "text": [
      " 59%|█████▉    | 10/17 [04:05<02:47, 23.86s/it]"
     ]
    },
    {
     "name": "stdout",
     "output_type": "stream",
     "text": [
      "행정구역 : 전라북도\n"
     ]
    },
    {
     "name": "stderr",
     "output_type": "stream",
     "text": [
      " 65%|██████▍   | 11/17 [04:38<02:40, 26.78s/it]"
     ]
    },
    {
     "name": "stdout",
     "output_type": "stream",
     "text": [
      "행정구역 : 울산광역시\n"
     ]
    },
    {
     "name": "stderr",
     "output_type": "stream",
     "text": [
      " 71%|███████   | 12/17 [05:11<02:22, 28.49s/it]"
     ]
    },
    {
     "name": "stdout",
     "output_type": "stream",
     "text": [
      "행정구역 : 경상남도\n"
     ]
    },
    {
     "name": "stderr",
     "output_type": "stream",
     "text": [
      " 76%|███████▋  | 13/17 [05:33<01:46, 26.55s/it]"
     ]
    },
    {
     "name": "stdout",
     "output_type": "stream",
     "text": [
      "행정구역 : 광주광역시\n"
     ]
    },
    {
     "name": "stderr",
     "output_type": "stream",
     "text": [
      " 82%|████████▏ | 14/17 [05:56<01:16, 25.45s/it]"
     ]
    },
    {
     "name": "stdout",
     "output_type": "stream",
     "text": [
      "행정구역 : 부산광역시\n"
     ]
    },
    {
     "name": "stderr",
     "output_type": "stream",
     "text": [
      " 88%|████████▊ | 15/17 [06:25<00:52, 26.45s/it]"
     ]
    },
    {
     "name": "stdout",
     "output_type": "stream",
     "text": [
      "행정구역 : 제주도\n"
     ]
    },
    {
     "name": "stderr",
     "output_type": "stream",
     "text": [
      " 94%|█████████▍| 16/17 [06:46<00:24, 24.93s/it]"
     ]
    },
    {
     "name": "stdout",
     "output_type": "stream",
     "text": [
      "행정구역 : 세종특별자치시\n"
     ]
    },
    {
     "name": "stderr",
     "output_type": "stream",
     "text": [
      "100%|██████████| 17/17 [07:07<00:00, 25.17s/it]\n"
     ]
    }
   ],
   "source": [
    "reg_df = pd.DataFrame()\n",
    "\n",
    "for reg in tqdm(region):\n",
    "    print(f'행정구역 : {reg}')\n",
    "    temp_mean_list, temp_max_list, temp_min_list, rain_sum_list, sun_sum_list = [],[],[],[],[] # 중앙값 데이터 쌓을 빈 리스트 생성 (초기화)\n",
    "    \n",
    "    d = df[(df['행정구역'] == reg)] # 행정구역의 df 생성.\n",
    "    date_list = d['일시'].unique() # 일시 리스트 생성.\n",
    "    \n",
    "    for date in date_list:\n",
    "        r = d[(d['일시'] == date)] # 예 : 행정구역이 강원도 이면서 일시가 2000-01 인 데이터 프레임\n",
    "        \n",
    "        # 컬럼별 중앙값 구하기.\n",
    "        temp_mean = calc_median(r, '평균기온(°C)')\n",
    "        temp_max = calc_median(r, '최고기온(°C)')\n",
    "        temp_min = calc_median(r, '최저기온(°C)')\n",
    "        rain_sum = calc_median(r, '월합강수량(00~24h만)(mm)')\n",
    "        sun_sum = calc_median(r, '합계 일사량(MJ/m2)')\n",
    "        \n",
    "        # 구한 중앙값들을 각 리스트에 쌓기.\n",
    "        temp_mean_list.append(temp_mean)\n",
    "        temp_max_list.append(temp_max)\n",
    "        temp_min_list.append(temp_min)\n",
    "        rain_sum_list.append(rain_sum)\n",
    "        sun_sum_list.append(sun_sum)\n",
    "    # 임의의 데이터 프레임으로 만들기. \n",
    "    imsi_df = pd.DataFrame({'행정구역':reg, '일시':date_list,'평균기온(°C)': temp_mean_list,\n",
    "                           '최고기온(°C)': temp_max_list, '최저기온(°C)': temp_min_list,\n",
    "                           '월합강수량(00~24h만)(mm)':rain_sum_list,'합계 일사량(MJ/m2)':sun_sum_list})\n",
    "    # 위에서 생성한 빈 reg_df와 임의의 데이터 프레임 합치기\n",
    "    reg_df = pd.concat([reg_df, imsi_df], axis=0)\n",
    "reg_df.reset_index(inplace=True, drop=True)\n",
    "        "
   ]
  },
  {
   "cell_type": "code",
   "execution_count": 31,
   "id": "86ea426a",
   "metadata": {},
   "outputs": [],
   "source": [
    "df = reg_df"
   ]
  },
  {
   "cell_type": "code",
   "execution_count": 32,
   "id": "501df85d",
   "metadata": {},
   "outputs": [],
   "source": [
    "# 봄배추 3월~5월\n",
    "# 고랭지배추 5월~9월\n",
    "# 가을배추 7월~11월\n",
    "# 겨울배추 8월~내년2월\n",
    "#평균기온, 최저기온, 최고기온, 월합강수량, 합계일사량 "
   ]
  },
  {
   "cell_type": "code",
   "execution_count": 33,
   "id": "e730b1b0",
   "metadata": {},
   "outputs": [
    {
     "data": {
      "text/plain": [
       "'01'"
      ]
     },
     "execution_count": 33,
     "metadata": {},
     "output_type": "execute_result"
    }
   ],
   "source": [
    "# 일시 뽑을 방법 확인\n",
    "df['일시'][0][-2:]"
   ]
  },
  {
   "cell_type": "code",
   "execution_count": 34,
   "id": "8e010c6e",
   "metadata": {},
   "outputs": [
    {
     "data": {
      "text/html": [
       "<div>\n",
       "<style scoped>\n",
       "    .dataframe tbody tr th:only-of-type {\n",
       "        vertical-align: middle;\n",
       "    }\n",
       "\n",
       "    .dataframe tbody tr th {\n",
       "        vertical-align: top;\n",
       "    }\n",
       "\n",
       "    .dataframe thead th {\n",
       "        text-align: right;\n",
       "    }\n",
       "</style>\n",
       "<table border=\"1\" class=\"dataframe\">\n",
       "  <thead>\n",
       "    <tr style=\"text-align: right;\">\n",
       "      <th></th>\n",
       "      <th>행정구역</th>\n",
       "      <th>일시</th>\n",
       "      <th>평균기온(°C)</th>\n",
       "      <th>최고기온(°C)</th>\n",
       "      <th>최저기온(°C)</th>\n",
       "      <th>월합강수량(00~24h만)(mm)</th>\n",
       "      <th>합계 일사량(MJ/m2)</th>\n",
       "      <th>월</th>\n",
       "    </tr>\n",
       "  </thead>\n",
       "  <tbody>\n",
       "    <tr>\n",
       "      <th>0</th>\n",
       "      <td>강원도</td>\n",
       "      <td>2000-01</td>\n",
       "      <td>-2.9</td>\n",
       "      <td>8.5</td>\n",
       "      <td>-16.0</td>\n",
       "      <td>48.1</td>\n",
       "      <td>152.990</td>\n",
       "      <td>01</td>\n",
       "    </tr>\n",
       "    <tr>\n",
       "      <th>1</th>\n",
       "      <td>강원도</td>\n",
       "      <td>2000-02</td>\n",
       "      <td>-3.3</td>\n",
       "      <td>7.7</td>\n",
       "      <td>-15.8</td>\n",
       "      <td>5.7</td>\n",
       "      <td>329.070</td>\n",
       "      <td>02</td>\n",
       "    </tr>\n",
       "    <tr>\n",
       "      <th>2</th>\n",
       "      <td>강원도</td>\n",
       "      <td>2000-03</td>\n",
       "      <td>4.4</td>\n",
       "      <td>19.3</td>\n",
       "      <td>-8.6</td>\n",
       "      <td>14.1</td>\n",
       "      <td>448.650</td>\n",
       "      <td>03</td>\n",
       "    </tr>\n",
       "    <tr>\n",
       "      <th>3</th>\n",
       "      <td>강원도</td>\n",
       "      <td>2000-04</td>\n",
       "      <td>10.4</td>\n",
       "      <td>23.7</td>\n",
       "      <td>-3.1</td>\n",
       "      <td>37.1</td>\n",
       "      <td>486.355</td>\n",
       "      <td>04</td>\n",
       "    </tr>\n",
       "    <tr>\n",
       "      <th>4</th>\n",
       "      <td>강원도</td>\n",
       "      <td>2000-05</td>\n",
       "      <td>15.9</td>\n",
       "      <td>31.6</td>\n",
       "      <td>3.9</td>\n",
       "      <td>75.2</td>\n",
       "      <td>520.280</td>\n",
       "      <td>05</td>\n",
       "    </tr>\n",
       "  </tbody>\n",
       "</table>\n",
       "</div>"
      ],
      "text/plain": [
       "  행정구역       일시  평균기온(°C)  최고기온(°C)  최저기온(°C)  월합강수량(00~24h만)(mm)  \\\n",
       "0  강원도  2000-01      -2.9       8.5     -16.0                48.1   \n",
       "1  강원도  2000-02      -3.3       7.7     -15.8                 5.7   \n",
       "2  강원도  2000-03       4.4      19.3      -8.6                14.1   \n",
       "3  강원도  2000-04      10.4      23.7      -3.1                37.1   \n",
       "4  강원도  2000-05      15.9      31.6       3.9                75.2   \n",
       "\n",
       "   합계 일사량(MJ/m2)   월  \n",
       "0        152.990  01  \n",
       "1        329.070  02  \n",
       "2        448.650  03  \n",
       "3        486.355  04  \n",
       "4        520.280  05  "
      ]
     },
     "execution_count": 34,
     "metadata": {},
     "output_type": "execute_result"
    }
   ],
   "source": [
    "# 월만 추가\n",
    "# month = df['일시'].apply(lambda x:x.split('-')[-1])\n",
    "# df.insert(3, '월', month)\n",
    "df['월'] = df['일시'].apply(lambda x:x.split('-')[-1])\n",
    "df.head()"
   ]
  },
  {
   "cell_type": "code",
   "execution_count": 6,
   "id": "ee67fa95",
   "metadata": {},
   "outputs": [
    {
     "name": "stdout",
     "output_type": "stream",
     "text": [
      "<class 'pandas.core.frame.DataFrame'>\n",
      "RangeIndex: 23078 entries, 0 to 23077\n",
      "Data columns (total 9 columns):\n",
      " #   Column              Non-Null Count  Dtype  \n",
      "---  ------              --------------  -----  \n",
      " 0   행정구역                23078 non-null  object \n",
      " 1   지점명                 23078 non-null  object \n",
      " 2   일시                  23078 non-null  object \n",
      " 3   평균기온(°C)            23078 non-null  float64\n",
      " 4   최고기온(°C)            23078 non-null  float64\n",
      " 5   최저기온(°C)            23078 non-null  float64\n",
      " 6   월합강수량(00~24h만)(mm)  23078 non-null  float64\n",
      " 7   합계 일사량(MJ/m2)       23078 non-null  float64\n",
      " 8   월                   23078 non-null  object \n",
      "dtypes: float64(5), object(4)\n",
      "memory usage: 1.6+ MB\n"
     ]
    }
   ],
   "source": [
    "df.info()"
   ]
  },
  {
   "cell_type": "code",
   "execution_count": 7,
   "id": "d4e4e5d2",
   "metadata": {},
   "outputs": [],
   "source": [
    "#겨울배추 추가\n",
    "winter_df = df.loc[(df['월'] == '01')|(df['월'] == '02')|(df['월'] == '08')|(df['월'] == '09')|(df['월'] == '10')|(df['월'] == '11')|(df['월'] == '12')]"
   ]
  },
  {
   "cell_type": "code",
   "execution_count": 36,
   "id": "90ff4a5d",
   "metadata": {},
   "outputs": [],
   "source": [
    "#봄배추, 고랭지배추, 가을배추 추가\n",
    "spiring_df =  df.loc[(df['월'] == '03')|(df['월'] == '04')|(df['월'] == '05')]\n",
    "gorange_df = df.loc[(df['월'] == '05')|(df['월'] == '06')|(df['월'] == '07')|(df['월'] == '08')|(df['월'] == '9')]\n",
    "fall_df = df.loc[(df['월'] == '07')|(df['월'] == '08')|(df['월'] == '09')|(df['월'] == '10')|(df['월'] == '11')]"
   ]
  },
  {
   "cell_type": "code",
   "execution_count": 38,
   "id": "b19da6f7",
   "metadata": {},
   "outputs": [
    {
     "data": {
      "text/html": [
       "<div>\n",
       "<style scoped>\n",
       "    .dataframe tbody tr th:only-of-type {\n",
       "        vertical-align: middle;\n",
       "    }\n",
       "\n",
       "    .dataframe tbody tr th {\n",
       "        vertical-align: top;\n",
       "    }\n",
       "\n",
       "    .dataframe thead th {\n",
       "        text-align: right;\n",
       "    }\n",
       "</style>\n",
       "<table border=\"1\" class=\"dataframe\">\n",
       "  <thead>\n",
       "    <tr style=\"text-align: right;\">\n",
       "      <th></th>\n",
       "      <th>행정구역</th>\n",
       "      <th>일시</th>\n",
       "      <th>평균기온(°C)</th>\n",
       "      <th>최고기온(°C)</th>\n",
       "      <th>최저기온(°C)</th>\n",
       "      <th>월합강수량(00~24h만)(mm)</th>\n",
       "      <th>합계 일사량(MJ/m2)</th>\n",
       "      <th>월</th>\n",
       "    </tr>\n",
       "  </thead>\n",
       "  <tbody>\n",
       "    <tr>\n",
       "      <th>2</th>\n",
       "      <td>강원도</td>\n",
       "      <td>2000-03</td>\n",
       "      <td>4.4</td>\n",
       "      <td>19.3</td>\n",
       "      <td>-8.6</td>\n",
       "      <td>14.1</td>\n",
       "      <td>448.650</td>\n",
       "      <td>03</td>\n",
       "    </tr>\n",
       "    <tr>\n",
       "      <th>3</th>\n",
       "      <td>강원도</td>\n",
       "      <td>2000-04</td>\n",
       "      <td>10.4</td>\n",
       "      <td>23.7</td>\n",
       "      <td>-3.1</td>\n",
       "      <td>37.1</td>\n",
       "      <td>486.355</td>\n",
       "      <td>04</td>\n",
       "    </tr>\n",
       "    <tr>\n",
       "      <th>4</th>\n",
       "      <td>강원도</td>\n",
       "      <td>2000-05</td>\n",
       "      <td>15.9</td>\n",
       "      <td>31.6</td>\n",
       "      <td>3.9</td>\n",
       "      <td>75.2</td>\n",
       "      <td>520.280</td>\n",
       "      <td>05</td>\n",
       "    </tr>\n",
       "    <tr>\n",
       "      <th>14</th>\n",
       "      <td>강원도</td>\n",
       "      <td>2001-03</td>\n",
       "      <td>3.3</td>\n",
       "      <td>21.6</td>\n",
       "      <td>-8.5</td>\n",
       "      <td>20.6</td>\n",
       "      <td>445.030</td>\n",
       "      <td>03</td>\n",
       "    </tr>\n",
       "    <tr>\n",
       "      <th>15</th>\n",
       "      <td>강원도</td>\n",
       "      <td>2001-04</td>\n",
       "      <td>12.0</td>\n",
       "      <td>27.3</td>\n",
       "      <td>-4.1</td>\n",
       "      <td>16.5</td>\n",
       "      <td>539.605</td>\n",
       "      <td>04</td>\n",
       "    </tr>\n",
       "    <tr>\n",
       "      <th>...</th>\n",
       "      <td>...</td>\n",
       "      <td>...</td>\n",
       "      <td>...</td>\n",
       "      <td>...</td>\n",
       "      <td>...</td>\n",
       "      <td>...</td>\n",
       "      <td>...</td>\n",
       "      <td>...</td>\n",
       "    </tr>\n",
       "    <tr>\n",
       "      <th>4467</th>\n",
       "      <td>세종특별자치시</td>\n",
       "      <td>2020-04</td>\n",
       "      <td>10.8</td>\n",
       "      <td>25.9</td>\n",
       "      <td>-0.8</td>\n",
       "      <td>17.6</td>\n",
       "      <td>651.275</td>\n",
       "      <td>04</td>\n",
       "    </tr>\n",
       "    <tr>\n",
       "      <th>4468</th>\n",
       "      <td>세종특별자치시</td>\n",
       "      <td>2020-05</td>\n",
       "      <td>18.2</td>\n",
       "      <td>29.1</td>\n",
       "      <td>7.5</td>\n",
       "      <td>91.6</td>\n",
       "      <td>643.645</td>\n",
       "      <td>05</td>\n",
       "    </tr>\n",
       "    <tr>\n",
       "      <th>4478</th>\n",
       "      <td>세종특별자치시</td>\n",
       "      <td>2021-03</td>\n",
       "      <td>8.8</td>\n",
       "      <td>23.3</td>\n",
       "      <td>-2.3</td>\n",
       "      <td>99.8</td>\n",
       "      <td>465.040</td>\n",
       "      <td>03</td>\n",
       "    </tr>\n",
       "    <tr>\n",
       "      <th>4479</th>\n",
       "      <td>세종특별자치시</td>\n",
       "      <td>2021-04</td>\n",
       "      <td>13.9</td>\n",
       "      <td>29.8</td>\n",
       "      <td>0.7</td>\n",
       "      <td>56.0</td>\n",
       "      <td>585.900</td>\n",
       "      <td>04</td>\n",
       "    </tr>\n",
       "    <tr>\n",
       "      <th>4480</th>\n",
       "      <td>세종특별자치시</td>\n",
       "      <td>2021-05</td>\n",
       "      <td>16.8</td>\n",
       "      <td>30.5</td>\n",
       "      <td>5.3</td>\n",
       "      <td>141.9</td>\n",
       "      <td>561.085</td>\n",
       "      <td>05</td>\n",
       "    </tr>\n",
       "  </tbody>\n",
       "</table>\n",
       "<p>1122 rows × 8 columns</p>\n",
       "</div>"
      ],
      "text/plain": [
       "         행정구역       일시  평균기온(°C)  최고기온(°C)  최저기온(°C)  월합강수량(00~24h만)(mm)  \\\n",
       "2         강원도  2000-03       4.4      19.3      -8.6                14.1   \n",
       "3         강원도  2000-04      10.4      23.7      -3.1                37.1   \n",
       "4         강원도  2000-05      15.9      31.6       3.9                75.2   \n",
       "14        강원도  2001-03       3.3      21.6      -8.5                20.6   \n",
       "15        강원도  2001-04      12.0      27.3      -4.1                16.5   \n",
       "...       ...      ...       ...       ...       ...                 ...   \n",
       "4467  세종특별자치시  2020-04      10.8      25.9      -0.8                17.6   \n",
       "4468  세종특별자치시  2020-05      18.2      29.1       7.5                91.6   \n",
       "4478  세종특별자치시  2021-03       8.8      23.3      -2.3                99.8   \n",
       "4479  세종특별자치시  2021-04      13.9      29.8       0.7                56.0   \n",
       "4480  세종특별자치시  2021-05      16.8      30.5       5.3               141.9   \n",
       "\n",
       "      합계 일사량(MJ/m2)   월  \n",
       "2           448.650  03  \n",
       "3           486.355  04  \n",
       "4           520.280  05  \n",
       "14          445.030  03  \n",
       "15          539.605  04  \n",
       "...             ...  ..  \n",
       "4467        651.275  04  \n",
       "4468        643.645  05  \n",
       "4478        465.040  03  \n",
       "4479        585.900  04  \n",
       "4480        561.085  05  \n",
       "\n",
       "[1122 rows x 8 columns]"
      ]
     },
     "execution_count": 38,
     "metadata": {},
     "output_type": "execute_result"
    }
   ],
   "source": [
    "spiring_df"
   ]
  },
  {
   "cell_type": "code",
   "execution_count": 37,
   "id": "30ae2dd0",
   "metadata": {},
   "outputs": [
    {
     "name": "stdout",
     "output_type": "stream",
     "text": [
      "<class 'pandas.core.frame.DataFrame'>\n",
      "Int64Index: 1122 entries, 2 to 4480\n",
      "Data columns (total 8 columns):\n",
      " #   Column              Non-Null Count  Dtype  \n",
      "---  ------              --------------  -----  \n",
      " 0   행정구역                1122 non-null   object \n",
      " 1   일시                  1122 non-null   object \n",
      " 2   평균기온(°C)            1122 non-null   float64\n",
      " 3   최고기온(°C)            1122 non-null   float64\n",
      " 4   최저기온(°C)            1122 non-null   float64\n",
      " 5   월합강수량(00~24h만)(mm)  1122 non-null   float64\n",
      " 6   합계 일사량(MJ/m2)       1122 non-null   float64\n",
      " 7   월                   1122 non-null   object \n",
      "dtypes: float64(5), object(3)\n",
      "memory usage: 78.9+ KB\n"
     ]
    }
   ],
   "source": [
    "spiring_df.info()"
   ]
  },
  {
   "cell_type": "code",
   "execution_count": 39,
   "id": "f0772a93",
   "metadata": {},
   "outputs": [],
   "source": [
    "# 배추품종에 따라 값을 부여함\n",
    "\n",
    "winter_df['배추품종'] = '겨울배추'\n",
    "spiring_df['배추품종'] = '봄배추'\n",
    "gorange_df['배추품종'] = '고랭지배추'\n",
    "fall_df['배추품종'] = '겨울배추'"
   ]
  },
  {
   "cell_type": "code",
   "execution_count": 12,
   "id": "bc78ef4d",
   "metadata": {},
   "outputs": [
    {
     "data": {
      "text/html": [
       "<div>\n",
       "<style scoped>\n",
       "    .dataframe tbody tr th:only-of-type {\n",
       "        vertical-align: middle;\n",
       "    }\n",
       "\n",
       "    .dataframe tbody tr th {\n",
       "        vertical-align: top;\n",
       "    }\n",
       "\n",
       "    .dataframe thead th {\n",
       "        text-align: right;\n",
       "    }\n",
       "</style>\n",
       "<table border=\"1\" class=\"dataframe\">\n",
       "  <thead>\n",
       "    <tr style=\"text-align: right;\">\n",
       "      <th></th>\n",
       "      <th>행정구역</th>\n",
       "      <th>지점명</th>\n",
       "      <th>일시</th>\n",
       "      <th>평균기온(°C)</th>\n",
       "      <th>최고기온(°C)</th>\n",
       "      <th>최저기온(°C)</th>\n",
       "      <th>월합강수량(00~24h만)(mm)</th>\n",
       "      <th>합계 일사량(MJ/m2)</th>\n",
       "      <th>월</th>\n",
       "      <th>배추품종</th>\n",
       "    </tr>\n",
       "  </thead>\n",
       "  <tbody>\n",
       "    <tr>\n",
       "      <th>2</th>\n",
       "      <td>강원도</td>\n",
       "      <td>속초</td>\n",
       "      <td>2000-03</td>\n",
       "      <td>6.9</td>\n",
       "      <td>18.5</td>\n",
       "      <td>-4.2</td>\n",
       "      <td>8.7</td>\n",
       "      <td>448.650</td>\n",
       "      <td>03</td>\n",
       "      <td>봄배추</td>\n",
       "    </tr>\n",
       "    <tr>\n",
       "      <th>3</th>\n",
       "      <td>강원도</td>\n",
       "      <td>속초</td>\n",
       "      <td>2000-04</td>\n",
       "      <td>11.2</td>\n",
       "      <td>24.1</td>\n",
       "      <td>2.4</td>\n",
       "      <td>23.4</td>\n",
       "      <td>486.355</td>\n",
       "      <td>04</td>\n",
       "      <td>봄배추</td>\n",
       "    </tr>\n",
       "    <tr>\n",
       "      <th>4</th>\n",
       "      <td>강원도</td>\n",
       "      <td>속초</td>\n",
       "      <td>2000-05</td>\n",
       "      <td>14.3</td>\n",
       "      <td>30.5</td>\n",
       "      <td>6.2</td>\n",
       "      <td>71.0</td>\n",
       "      <td>520.280</td>\n",
       "      <td>05</td>\n",
       "      <td>봄배추</td>\n",
       "    </tr>\n",
       "    <tr>\n",
       "      <th>14</th>\n",
       "      <td>강원도</td>\n",
       "      <td>속초</td>\n",
       "      <td>2001-03</td>\n",
       "      <td>5.6</td>\n",
       "      <td>19.9</td>\n",
       "      <td>-6.0</td>\n",
       "      <td>20.8</td>\n",
       "      <td>445.030</td>\n",
       "      <td>03</td>\n",
       "      <td>봄배추</td>\n",
       "    </tr>\n",
       "    <tr>\n",
       "      <th>15</th>\n",
       "      <td>강원도</td>\n",
       "      <td>속초</td>\n",
       "      <td>2001-04</td>\n",
       "      <td>12.3</td>\n",
       "      <td>25.2</td>\n",
       "      <td>1.2</td>\n",
       "      <td>14.1</td>\n",
       "      <td>539.605</td>\n",
       "      <td>04</td>\n",
       "      <td>봄배추</td>\n",
       "    </tr>\n",
       "    <tr>\n",
       "      <th>...</th>\n",
       "      <td>...</td>\n",
       "      <td>...</td>\n",
       "      <td>...</td>\n",
       "      <td>...</td>\n",
       "      <td>...</td>\n",
       "      <td>...</td>\n",
       "      <td>...</td>\n",
       "      <td>...</td>\n",
       "      <td>...</td>\n",
       "      <td>...</td>\n",
       "    </tr>\n",
       "    <tr>\n",
       "      <th>23057</th>\n",
       "      <td>경상남도</td>\n",
       "      <td>남해</td>\n",
       "      <td>2020-04</td>\n",
       "      <td>12.5</td>\n",
       "      <td>23.4</td>\n",
       "      <td>2.6</td>\n",
       "      <td>93.8</td>\n",
       "      <td>633.670</td>\n",
       "      <td>04</td>\n",
       "      <td>봄배추</td>\n",
       "    </tr>\n",
       "    <tr>\n",
       "      <th>23058</th>\n",
       "      <td>경상남도</td>\n",
       "      <td>남해</td>\n",
       "      <td>2020-05</td>\n",
       "      <td>18.2</td>\n",
       "      <td>27.7</td>\n",
       "      <td>9.6</td>\n",
       "      <td>184.1</td>\n",
       "      <td>614.270</td>\n",
       "      <td>05</td>\n",
       "      <td>봄배추</td>\n",
       "    </tr>\n",
       "    <tr>\n",
       "      <th>23068</th>\n",
       "      <td>경상남도</td>\n",
       "      <td>남해</td>\n",
       "      <td>2021-03</td>\n",
       "      <td>10.6</td>\n",
       "      <td>22.0</td>\n",
       "      <td>0.8</td>\n",
       "      <td>234.4</td>\n",
       "      <td>497.100</td>\n",
       "      <td>03</td>\n",
       "      <td>봄배추</td>\n",
       "    </tr>\n",
       "    <tr>\n",
       "      <th>23069</th>\n",
       "      <td>경상남도</td>\n",
       "      <td>남해</td>\n",
       "      <td>2021-04</td>\n",
       "      <td>14.3</td>\n",
       "      <td>25.0</td>\n",
       "      <td>4.5</td>\n",
       "      <td>119.7</td>\n",
       "      <td>608.970</td>\n",
       "      <td>04</td>\n",
       "      <td>봄배추</td>\n",
       "    </tr>\n",
       "    <tr>\n",
       "      <th>23070</th>\n",
       "      <td>경상남도</td>\n",
       "      <td>남해</td>\n",
       "      <td>2021-05</td>\n",
       "      <td>18.3</td>\n",
       "      <td>28.3</td>\n",
       "      <td>7.7</td>\n",
       "      <td>170.6</td>\n",
       "      <td>588.660</td>\n",
       "      <td>05</td>\n",
       "      <td>봄배추</td>\n",
       "    </tr>\n",
       "  </tbody>\n",
       "</table>\n",
       "<p>5759 rows × 10 columns</p>\n",
       "</div>"
      ],
      "text/plain": [
       "       행정구역 지점명       일시  평균기온(°C)  최고기온(°C)  최저기온(°C)  월합강수량(00~24h만)(mm)  \\\n",
       "2       강원도  속초  2000-03       6.9      18.5      -4.2                 8.7   \n",
       "3       강원도  속초  2000-04      11.2      24.1       2.4                23.4   \n",
       "4       강원도  속초  2000-05      14.3      30.5       6.2                71.0   \n",
       "14      강원도  속초  2001-03       5.6      19.9      -6.0                20.8   \n",
       "15      강원도  속초  2001-04      12.3      25.2       1.2                14.1   \n",
       "...     ...  ..      ...       ...       ...       ...                 ...   \n",
       "23057  경상남도  남해  2020-04      12.5      23.4       2.6                93.8   \n",
       "23058  경상남도  남해  2020-05      18.2      27.7       9.6               184.1   \n",
       "23068  경상남도  남해  2021-03      10.6      22.0       0.8               234.4   \n",
       "23069  경상남도  남해  2021-04      14.3      25.0       4.5               119.7   \n",
       "23070  경상남도  남해  2021-05      18.3      28.3       7.7               170.6   \n",
       "\n",
       "       합계 일사량(MJ/m2)   월 배추품종  \n",
       "2            448.650  03  봄배추  \n",
       "3            486.355  04  봄배추  \n",
       "4            520.280  05  봄배추  \n",
       "14           445.030  03  봄배추  \n",
       "15           539.605  04  봄배추  \n",
       "...              ...  ..  ...  \n",
       "23057        633.670  04  봄배추  \n",
       "23058        614.270  05  봄배추  \n",
       "23068        497.100  03  봄배추  \n",
       "23069        608.970  04  봄배추  \n",
       "23070        588.660  05  봄배추  \n",
       "\n",
       "[5759 rows x 10 columns]"
      ]
     },
     "execution_count": 12,
     "metadata": {},
     "output_type": "execute_result"
    }
   ],
   "source": [
    "spiring_df"
   ]
  },
  {
   "cell_type": "code",
   "execution_count": 13,
   "id": "ea2df6a3",
   "metadata": {},
   "outputs": [],
   "source": []
  },
  {
   "cell_type": "code",
   "execution_count": null,
   "id": "41435be0",
   "metadata": {},
   "outputs": [],
   "source": []
  },
  {
   "cell_type": "code",
   "execution_count": null,
   "id": "8590a5da",
   "metadata": {},
   "outputs": [],
   "source": []
  },
  {
   "cell_type": "code",
   "execution_count": null,
   "id": "383e0ba5",
   "metadata": {},
   "outputs": [],
   "source": [
    "# 생산량 데이터 불러와서 . . . 전처리 . . \n",
    "# pandas wide to long (검색해서 배추 생산량 데이터 ,, 데이터 프레임 형태로 만들기\n",
    "# 16일은 데이터 프레임 형태 이후 합치고 전처리"
   ]
  },
  {
   "cell_type": "code",
   "execution_count": null,
   "id": "a38eb0bf",
   "metadata": {},
   "outputs": [],
   "source": []
  },
  {
   "cell_type": "code",
   "execution_count": null,
   "id": "08cf7299",
   "metadata": {},
   "outputs": [],
   "source": []
  }
 ],
 "metadata": {
  "kernelspec": {
   "display_name": "base",
   "language": "python",
   "name": "python3"
  },
  "language_info": {
   "codemirror_mode": {
    "name": "ipython",
    "version": 3
   },
   "file_extension": ".py",
   "mimetype": "text/x-python",
   "name": "python",
   "nbconvert_exporter": "python",
   "pygments_lexer": "ipython3",
   "version": "3.9.12"
  },
  "vscode": {
   "interpreter": {
    "hash": "29db9c19af6299433467101c7e656ac8b3fe814b60a8418f253b91cb08fc3410"
   }
  }
 },
 "nbformat": 4,
 "nbformat_minor": 5
}
