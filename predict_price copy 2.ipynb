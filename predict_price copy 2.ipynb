{
 "cells": [
  {
   "cell_type": "code",
   "execution_count": 64,
   "metadata": {},
   "outputs": [],
   "source": [
    "# merge_all.csv 파일을 사용하여 \"가격 (원)\" 컬럼의 값을 예측하는 모델을 만든다\n",
    "\n",
    "import pandas as pd\n",
    "import numpy as np\n",
    "import matplotlib.pyplot as plt\n",
    "import seaborn as sns\n",
    "import math\n",
    "import warnings\n",
    "warnings.filterwarnings('ignore')\n",
    "\n",
    "from sklearn.preprocessing import MinMaxScaler\n",
    "from keras.models import Sequential\n",
    "from keras.layers import Dense, LSTM\n",
    "from sklearn.metrics import mean_squared_error\n",
    "from keras.callbacks import EarlyStopping\n",
    "import keras\n",
    "from keras.layers import MaxPooling1D\n",
    "from keras.layers import Flatten\n",
    "from keras.layers import Dropout\n",
    "from keras.layers import Conv1D\n",
    "from keras.layers import BatchNormalization\n",
    "from keras.layers import Activation\n",
    "from keras.layers import LeakyReLU\n",
    "from keras.layers import PReLU\n",
    "from keras.layers import ELU\n",
    "from keras.layers import ThresholdedReLU\n",
    "from keras.layers import Softmax\n",
    "from keras.layers import ReLU\n",
    "from keras.layers import GaussianNoise\n",
    "from keras.layers import GaussianDropout\n",
    "from keras.layers import AlphaDropout\n",
    "from keras.layers import ActivityRegularization\n",
    "from keras.layers import Masking\n",
    "from keras.layers import SpatialDropout1D\n",
    "from sklearn.metrics import r2_score\n",
    "\n",
    "\n",
    "\n"
   ]
  },
  {
   "cell_type": "code",
   "execution_count": 65,
   "metadata": {},
   "outputs": [
    {
     "data": {
      "text/html": [
       "<div>\n",
       "<style scoped>\n",
       "    .dataframe tbody tr th:only-of-type {\n",
       "        vertical-align: middle;\n",
       "    }\n",
       "\n",
       "    .dataframe tbody tr th {\n",
       "        vertical-align: top;\n",
       "    }\n",
       "\n",
       "    .dataframe thead th {\n",
       "        text-align: right;\n",
       "    }\n",
       "</style>\n",
       "<table border=\"1\" class=\"dataframe\">\n",
       "  <thead>\n",
       "    <tr style=\"text-align: right;\">\n",
       "      <th></th>\n",
       "      <th>자동차용 경유 가격 (원)</th>\n",
       "      <th>전월비(%)</th>\n",
       "      <th>배추가격</th>\n",
       "      <th>거래량</th>\n",
       "    </tr>\n",
       "    <tr>\n",
       "      <th>거래년월일</th>\n",
       "      <th></th>\n",
       "      <th></th>\n",
       "      <th></th>\n",
       "      <th></th>\n",
       "    </tr>\n",
       "  </thead>\n",
       "  <tbody>\n",
       "    <tr>\n",
       "      <th>2000-01-01</th>\n",
       "      <td>583.35</td>\n",
       "      <td>4.0</td>\n",
       "      <td>5600.0</td>\n",
       "      <td>102285.0</td>\n",
       "    </tr>\n",
       "    <tr>\n",
       "      <th>2000-01-02</th>\n",
       "      <td>583.35</td>\n",
       "      <td>4.0</td>\n",
       "      <td>5600.0</td>\n",
       "      <td>102285.0</td>\n",
       "    </tr>\n",
       "    <tr>\n",
       "      <th>2000-01-03</th>\n",
       "      <td>583.35</td>\n",
       "      <td>4.0</td>\n",
       "      <td>5600.0</td>\n",
       "      <td>102285.0</td>\n",
       "    </tr>\n",
       "    <tr>\n",
       "      <th>2000-01-04</th>\n",
       "      <td>583.35</td>\n",
       "      <td>4.0</td>\n",
       "      <td>5600.0</td>\n",
       "      <td>715338.0</td>\n",
       "    </tr>\n",
       "    <tr>\n",
       "      <th>2000-01-05</th>\n",
       "      <td>583.35</td>\n",
       "      <td>4.0</td>\n",
       "      <td>5620.0</td>\n",
       "      <td>340568.0</td>\n",
       "    </tr>\n",
       "  </tbody>\n",
       "</table>\n",
       "</div>"
      ],
      "text/plain": [
       "            자동차용 경유 가격 (원)  전월비(%)    배추가격       거래량\n",
       "거래년월일                                               \n",
       "2000-01-01          583.35     4.0  5600.0  102285.0\n",
       "2000-01-02          583.35     4.0  5600.0  102285.0\n",
       "2000-01-03          583.35     4.0  5600.0  102285.0\n",
       "2000-01-04          583.35     4.0  5600.0  715338.0\n",
       "2000-01-05          583.35     4.0  5620.0  340568.0"
      ]
     },
     "execution_count": 65,
     "metadata": {},
     "output_type": "execute_result"
    }
   ],
   "source": [
    "# 데이터 불러오기\n",
    "df = pd.read_csv('data/merge_all/merge_all.csv')\n",
    "\n",
    "# 데이터 전처리\n",
    "# \"거래년월일\" 컬럼을 인덱스로 설정\n",
    "df = df.set_index('거래년월일')\n",
    "# \"평균\" 컬럼을 배추가격으로 설정\n",
    "df = df.rename(columns={'평균':'배추가격'})\n",
    "df.head()"
   ]
  },
  {
   "cell_type": "code",
   "execution_count": 66,
   "metadata": {},
   "outputs": [
    {
     "data": {
      "text/plain": [
       "array([[0.02232381, 0.54045307, 0.10679612, 0.02824318],\n",
       "       [0.02232381, 0.54045307, 0.10679612, 0.02824318],\n",
       "       [0.02232381, 0.54045307, 0.10679612, 0.02824318],\n",
       "       ...,\n",
       "       [0.8637196 , 0.15210356, 0.10857143, 0.05564866],\n",
       "       [0.8637196 , 0.15210356, 0.1065742 , 0.02129324],\n",
       "       [0.8637196 , 0.15210356, 0.09686546, 0.0330776 ]])"
      ]
     },
     "execution_count": 66,
     "metadata": {},
     "output_type": "execute_result"
    }
   ],
   "source": [
    "# \"자동차용 경유 가격 (원)\",\"전월비(%)\",\"거래량\" 컬럼을 사용하여 \"배추가격\" 컬럼의 값을 예측한다\n",
    "\n",
    "\n",
    "# LSTM을 사용하기 위해 데이터를 정규화한다\n",
    "scaler = MinMaxScaler(feature_range=(0, 1))\n",
    "df_scaled = scaler.fit_transform(df)\n",
    "df_scaled"
   ]
  },
  {
   "cell_type": "code",
   "execution_count": 68,
   "metadata": {},
   "outputs": [
    {
     "data": {
      "text/plain": [
       "(6694,)"
      ]
     },
     "execution_count": 68,
     "metadata": {},
     "output_type": "execute_result"
    }
   ],
   "source": [
    "\n",
    "# 데이터를 학습 데이터와 테스트 데이터로 나눈다\n",
    "train_size = int(len(df_scaled) * 0.8)\n",
    "test_size = len(df_scaled) - train_size\n",
    "train, test = df_scaled[0:train_size,:], df_scaled[train_size:len(df_scaled),:]\n",
    "\n",
    "# LSTM을 사용하여 닫힌 예측 모델을 만든다\n",
    "def create_dataset(dataset, look_back=1):\n",
    "    dataX, dataY = [], []\n",
    "    for i in range(len(dataset)-look_back-1):\n",
    "        a = dataset[i:(i+look_back), :]\n",
    "        dataX.append(a)\n",
    "        dataY.append(dataset[i + look_back, 0])\n",
    "    return np.array(dataX), np.array(dataY)\n",
    "\n",
    "# look_back = 1\n",
    "look_back = 1\n",
    "trainX, trainY = create_dataset(train, look_back)\n",
    "testX, testY = create_dataset(test, look_back)\n",
    "\n",
    "trainY.shape"
   ]
  },
  {
   "cell_type": "code",
   "execution_count": 49,
   "metadata": {},
   "outputs": [
    {
     "name": "stdout",
     "output_type": "stream",
     "text": [
      "Model: \"sequential_4\"\n",
      "_________________________________________________________________\n",
      " Layer (type)                Output Shape              Param #   \n",
      "=================================================================\n",
      " lstm_4 (LSTM)               (None, 32)                4736      \n",
      "                                                                 \n",
      " dense_4 (Dense)             (None, 4)                 132       \n",
      "                                                                 \n",
      "=================================================================\n",
      "Total params: 4,868\n",
      "Trainable params: 4,868\n",
      "Non-trainable params: 0\n",
      "_________________________________________________________________\n"
     ]
    }
   ],
   "source": [
    "# 데이터를 (샘플 수, 타임 스텝, 특성 수) 형태로 변환한다\n",
    "trainX = np.reshape(trainX, (trainX.shape[0], 1, trainX.shape[2]))\n",
    "testX = np.reshape(testX, (testX.shape[0], 1, testX.shape[2]))\n",
    "\n",
    "# 모델을 생성한다\n",
    "model = Sequential()\n",
    "model.add(LSTM(32, input_shape=(1, look_back*4)))\n",
    "model.add(Dense(4))\n",
    "model.compile(loss='mean_squared_error', optimizer='adam')\n",
    "model.summary()\n"
   ]
  },
  {
   "cell_type": "code",
   "execution_count": 50,
   "metadata": {},
   "outputs": [
    {
     "name": "stdout",
     "output_type": "stream",
     "text": [
      "Epoch 1/100\n"
     ]
    },
    {
     "name": "stderr",
     "output_type": "stream",
     "text": [
      "2022-12-23 10:55:21.911965: I tensorflow/core/grappler/optimizers/custom_graph_optimizer_registry.cc:114] Plugin optimizer for device_type GPU is enabled.\n",
      "2022-12-23 10:55:22.033109: I tensorflow/core/grappler/optimizers/custom_graph_optimizer_registry.cc:114] Plugin optimizer for device_type GPU is enabled.\n"
     ]
    },
    {
     "name": "stdout",
     "output_type": "stream",
     "text": [
      "  5/210 [..............................] - ETA: 2s - loss: 0.2832  "
     ]
    },
    {
     "name": "stderr",
     "output_type": "stream",
     "text": [
      "2022-12-23 10:55:22.408066: I tensorflow/core/grappler/optimizers/custom_graph_optimizer_registry.cc:114] Plugin optimizer for device_type GPU is enabled.\n"
     ]
    },
    {
     "name": "stdout",
     "output_type": "stream",
     "text": [
      "210/210 [==============================] - ETA: 0s - loss: 0.0786"
     ]
    },
    {
     "name": "stderr",
     "output_type": "stream",
     "text": [
      "2022-12-23 10:55:24.555010: I tensorflow/core/grappler/optimizers/custom_graph_optimizer_registry.cc:114] Plugin optimizer for device_type GPU is enabled.\n",
      "2022-12-23 10:55:24.597033: I tensorflow/core/grappler/optimizers/custom_graph_optimizer_registry.cc:114] Plugin optimizer for device_type GPU is enabled.\n"
     ]
    },
    {
     "name": "stdout",
     "output_type": "stream",
     "text": [
      "210/210 [==============================] - 4s 11ms/step - loss: 0.0786 - val_loss: 0.0122\n",
      "Epoch 2/100\n",
      "210/210 [==============================] - 2s 9ms/step - loss: 0.0084 - val_loss: 5.1100e-04\n",
      "Epoch 3/100\n",
      "210/210 [==============================] - 2s 10ms/step - loss: 3.6200e-04 - val_loss: 3.9580e-04\n",
      "Epoch 4/100\n",
      "210/210 [==============================] - 2s 9ms/step - loss: 1.9765e-04 - val_loss: 3.0965e-04\n",
      "Epoch 5/100\n",
      "210/210 [==============================] - 2s 9ms/step - loss: 1.6593e-04 - val_loss: 2.7030e-04\n",
      "Epoch 6/100\n",
      "210/210 [==============================] - 2s 9ms/step - loss: 1.4774e-04 - val_loss: 2.3398e-04\n",
      "Epoch 7/100\n",
      "210/210 [==============================] - 2s 9ms/step - loss: 1.3295e-04 - val_loss: 2.1361e-04\n",
      "Epoch 8/100\n",
      "210/210 [==============================] - 2s 9ms/step - loss: 1.1876e-04 - val_loss: 1.8865e-04\n",
      "Epoch 9/100\n",
      "210/210 [==============================] - 2s 9ms/step - loss: 1.0509e-04 - val_loss: 1.6617e-04\n",
      "Epoch 10/100\n",
      "210/210 [==============================] - 2s 9ms/step - loss: 9.2236e-05 - val_loss: 1.4179e-04\n",
      "Epoch 11/100\n",
      "210/210 [==============================] - 2s 9ms/step - loss: 7.9685e-05 - val_loss: 1.2636e-04\n",
      "Epoch 12/100\n",
      "210/210 [==============================] - 2s 9ms/step - loss: 6.7532e-05 - val_loss: 1.0570e-04\n",
      "Epoch 13/100\n",
      "210/210 [==============================] - 2s 9ms/step - loss: 5.6958e-05 - val_loss: 1.0074e-04\n",
      "Epoch 14/100\n",
      "210/210 [==============================] - 2s 9ms/step - loss: 4.8414e-05 - val_loss: 8.4356e-05\n",
      "Epoch 15/100\n",
      "210/210 [==============================] - 2s 9ms/step - loss: 4.0552e-05 - val_loss: 8.2107e-05\n",
      "Epoch 16/100\n",
      "210/210 [==============================] - 2s 11ms/step - loss: 3.4855e-05 - val_loss: 7.4687e-05\n",
      "Epoch 17/100\n",
      "210/210 [==============================] - 2s 9ms/step - loss: 3.1003e-05 - val_loss: 7.6046e-05\n",
      "Epoch 18/100\n",
      "210/210 [==============================] - 2s 9ms/step - loss: 2.7811e-05 - val_loss: 7.6261e-05\n",
      "Epoch 19/100\n",
      "210/210 [==============================] - 2s 9ms/step - loss: 2.5759e-05 - val_loss: 7.1103e-05\n",
      "Epoch 20/100\n",
      "210/210 [==============================] - 2s 9ms/step - loss: 2.4948e-05 - val_loss: 7.1997e-05\n",
      "Epoch 21/100\n",
      "210/210 [==============================] - 2s 9ms/step - loss: 2.4261e-05 - val_loss: 7.2799e-05\n",
      "Epoch 22/100\n",
      "210/210 [==============================] - 2s 9ms/step - loss: 2.3941e-05 - val_loss: 7.0481e-05\n",
      "Epoch 23/100\n",
      "210/210 [==============================] - 2s 9ms/step - loss: 2.3590e-05 - val_loss: 7.2707e-05\n",
      "Epoch 24/100\n",
      "210/210 [==============================] - 2s 9ms/step - loss: 2.3575e-05 - val_loss: 7.6671e-05\n",
      "Epoch 25/100\n",
      "210/210 [==============================] - 2s 9ms/step - loss: 2.3798e-05 - val_loss: 8.5104e-05\n",
      "Epoch 26/100\n",
      "210/210 [==============================] - 2s 9ms/step - loss: 2.4170e-05 - val_loss: 6.9908e-05\n",
      "Epoch 27/100\n",
      "210/210 [==============================] - 2s 9ms/step - loss: 2.3637e-05 - val_loss: 7.1694e-05\n",
      "Epoch 28/100\n",
      "210/210 [==============================] - 2s 9ms/step - loss: 2.3703e-05 - val_loss: 7.2360e-05\n",
      "Epoch 29/100\n",
      "210/210 [==============================] - 2s 9ms/step - loss: 2.4240e-05 - val_loss: 7.1446e-05\n",
      "Epoch 30/100\n",
      "210/210 [==============================] - 2s 9ms/step - loss: 2.3919e-05 - val_loss: 7.5789e-05\n",
      "Epoch 31/100\n",
      "210/210 [==============================] - 2s 9ms/step - loss: 2.3593e-05 - val_loss: 7.0959e-05\n",
      "Epoch 32/100\n",
      "210/210 [==============================] - 2s 9ms/step - loss: 2.3767e-05 - val_loss: 7.1262e-05\n",
      "Epoch 33/100\n",
      "210/210 [==============================] - 2s 9ms/step - loss: 2.3689e-05 - val_loss: 9.5564e-05\n",
      "Epoch 34/100\n",
      "210/210 [==============================] - 2s 10ms/step - loss: 2.5421e-05 - val_loss: 7.4345e-05\n",
      "Epoch 35/100\n",
      "210/210 [==============================] - 2s 9ms/step - loss: 2.4012e-05 - val_loss: 7.0244e-05\n",
      "Epoch 36/100\n",
      "210/210 [==============================] - 2s 9ms/step - loss: 2.4157e-05 - val_loss: 6.9492e-05\n",
      "Epoch 37/100\n",
      "210/210 [==============================] - 2s 9ms/step - loss: 2.3800e-05 - val_loss: 8.1015e-05\n",
      "Epoch 38/100\n",
      "210/210 [==============================] - 2s 9ms/step - loss: 2.4912e-05 - val_loss: 7.1632e-05\n",
      "Epoch 39/100\n",
      "210/210 [==============================] - 2s 9ms/step - loss: 2.4330e-05 - val_loss: 7.4058e-05\n",
      "Epoch 40/100\n",
      "210/210 [==============================] - 2s 9ms/step - loss: 2.4609e-05 - val_loss: 7.2635e-05\n",
      "Epoch 41/100\n",
      "210/210 [==============================] - 2s 9ms/step - loss: 2.3885e-05 - val_loss: 7.2345e-05\n",
      "Epoch 42/100\n",
      "210/210 [==============================] - 2s 9ms/step - loss: 2.3902e-05 - val_loss: 7.1552e-05\n",
      "Epoch 43/100\n",
      "210/210 [==============================] - 2s 9ms/step - loss: 2.3924e-05 - val_loss: 8.1097e-05\n",
      "Epoch 44/100\n",
      "210/210 [==============================] - 2s 9ms/step - loss: 2.4282e-05 - val_loss: 7.0650e-05\n",
      "Epoch 45/100\n",
      "210/210 [==============================] - 2s 9ms/step - loss: 2.5153e-05 - val_loss: 7.0355e-05\n",
      "Epoch 46/100\n",
      "210/210 [==============================] - 2s 9ms/step - loss: 2.4586e-05 - val_loss: 7.0194e-05\n",
      "Epoch 46: early stopping\n"
     ]
    }
   ],
   "source": [
    "#  EarlyStopping을 사용하여 과적합을 방지한다\n",
    "early_stop = EarlyStopping(monitor='val_loss', patience=10, verbose=1)\n",
    "\n",
    "# 모델을 학습한다\n",
    "history = model.fit(trainX, trainY, epochs=100, batch_size=32, verbose=1, validation_data=(testX, testY), callbacks=[early_stop])"
   ]
  },
  {
   "cell_type": "code",
   "execution_count": 51,
   "metadata": {},
   "outputs": [
    {
     "data": {
      "image/png": "[encoded data removed]",
      "text/plain": [
       "<Figure size 640x480 with 1 Axes>"
      ]
     },
     "metadata": {},
     "output_type": "display_data"
    }
   ],
   "source": [
    "# 학습 결과를 그래프로 출력한다\n",
    "plt.plot(history.history['loss'], label='train')\n",
    "plt.plot(history.history['val_loss'], label='test')\n",
    "# 실제 데이터 그래프로 출력한다\n",
    "plt.legend()\n",
    "plt.show()\n"
   ]
  },
  {
   "cell_type": "code",
   "execution_count": 52,
   "metadata": {},
   "outputs": [
    {
     "name": "stdout",
     "output_type": "stream",
     "text": [
      "Train Score: 0.00 MSE (0.00 RMSE)\n",
      "Test Score: 0.00 MSE (0.01 RMSE)\n"
     ]
    }
   ],
   "source": [
    "#  모델을 평가한다\n",
    "trainScore = model.evaluate(trainX, trainY, verbose=0)\n",
    "print('Train Score: %.2f MSE (%.2f RMSE)' % (trainScore, math.sqrt(trainScore)))\n",
    "testScore = model.evaluate(testX, testY, verbose=0)\n",
    "print('Test Score: %.2f MSE (%.2f RMSE)' % (testScore, math.sqrt(testScore)))"
   ]
  },
  {
   "cell_type": "code",
   "execution_count": 72,
   "metadata": {},
   "outputs": [
    {
     "name": "stdout",
     "output_type": "stream",
     "text": [
      "210/210 [==============================] - 1s 3ms/step\n",
      "53/53 [==============================] - 0s 3ms/step\n"
     ]
    },
    {
     "data": {
      "text/plain": [
       "array([[0.02438572, 0.024124  , 0.02415452, 0.02384646],\n",
       "       [0.02438572, 0.024124  , 0.02415452, 0.02384646],\n",
       "       [0.02438572, 0.024124  , 0.02415452, 0.02384646],\n",
       "       ...,\n",
       "       [0.5214411 , 0.5213403 , 0.5212622 , 0.5215857 ],\n",
       "       [0.52143615, 0.5213382 , 0.5212584 , 0.5215823 ],\n",
       "       [0.52143615, 0.5213382 , 0.5212584 , 0.5215823 ]], dtype=float32)"
      ]
     },
     "execution_count": 72,
     "metadata": {},
     "output_type": "execute_result"
    }
   ],
   "source": [
    "# 모델을 사용하여 예측한다\n",
    "trainPredict = model.predict(trainX)\n",
    "testPredict = model.predict(testX)\n",
    "\n",
    "trainPredict"
   ]
  },
  {
   "cell_type": "code",
   "execution_count": 53,
   "metadata": {},
   "outputs": [
    {
     "name": "stdout",
     "output_type": "stream",
     "text": [
      " 35/210 [====>.........................] - ETA: 0s"
     ]
    },
    {
     "name": "stderr",
     "output_type": "stream",
     "text": [
      "2022-12-23 10:56:53.259629: I tensorflow/core/grappler/optimizers/custom_graph_optimizer_registry.cc:114] Plugin optimizer for device_type GPU is enabled.\n",
      "2022-12-23 10:56:53.298043: I tensorflow/core/grappler/optimizers/custom_graph_optimizer_registry.cc:114] Plugin optimizer for device_type GPU is enabled.\n"
     ]
    },
    {
     "name": "stdout",
     "output_type": "stream",
     "text": [
      "210/210 [==============================] - 1s 3ms/step\n",
      "53/53 [==============================] - 0s 3ms/step\n"
     ]
    },
    {
     "data": {
      "image/png": "[encoded data removed]",
      "text/plain": [
       "<Figure size 640x480 with 1 Axes>"
      ]
     },
     "metadata": {},
     "output_type": "display_data"
    }
   ],
   "source": [
    "\n",
    "# 예측 결과를 그래프로 출력한다\n",
    "plt.plot(testY, label='actual')\n",
    "plt.plot(testPredict, label='prediction')\n",
    "plt.legend()\n",
    "plt.show()\n"
   ]
  },
  {
   "cell_type": "code",
   "execution_count": 63,
   "metadata": {},
   "outputs": [
    {
     "data": {
      "text/plain": [
       "array([0.02232381, 0.02232381, 0.02232381, ..., 0.51951872, 0.51951872,\n",
       "       0.51951872])"
      ]
     },
     "execution_count": 63,
     "metadata": {},
     "output_type": "execute_result"
    }
   ],
   "source": [
    "# trainPredict.shape\n",
    "trainY"
   ]
  },
  {
   "cell_type": "code",
   "execution_count": 71,
   "metadata": {},
   "outputs": [
    {
     "data": {
      "text/plain": [
       "array([[ 5.8652551e+02, -1.1954568e+01,  2.6207703e+03,  8.6371273e+04],\n",
       "       [ 5.8652551e+02, -1.1954568e+01,  2.6207703e+03,  8.6371273e+04],\n",
       "       [ 5.8652551e+02, -1.1954568e+01,  2.6207703e+03,  8.6371273e+04],\n",
       "       ...,\n",
       "       [ 1.3520206e+03,  3.4094155e+00,  2.0541504e+04,  1.8879175e+06],\n",
       "       [ 1.3520129e+03,  3.4093511e+00,  2.0541365e+04,  1.8879052e+06],\n",
       "       [ 1.3520129e+03,  3.4093511e+00,  2.0541365e+04,  1.8879052e+06]],\n",
       "      dtype=float32)"
      ]
     },
     "execution_count": 71,
     "metadata": {},
     "output_type": "execute_result"
    }
   ],
   "source": [
    "#  예측 결과를 역정규화한다\n",
    "trainPredict = scaler.inverse_transform(trainPredict)\n",
    "testPredict = scaler.inverse_transform(testPredict)\n",
    "trainPredict\n",
    "\n",
    "\n"
   ]
  },
  {
   "cell_type": "code",
   "execution_count": null,
   "metadata": {},
   "outputs": [],
   "source": []
  }
 ],
 "metadata": {
  "kernelspec": {
   "display_name": "baseDeep",
   "language": "python",
   "name": "python3"
  },
  "language_info": {
   "codemirror_mode": {
    "name": "ipython",
    "version": 3
   },
   "file_extension": ".py",
   "mimetype": "text/x-python",
   "name": "python",
   "nbconvert_exporter": "python",
   "pygments_lexer": "ipython3",
   "version": "3.8.13"
  },
  "orig_nbformat": 4,
  "vscode": {
   "interpreter": {
    "hash": "d5bd3b74290b6fecca2d77c6682b8ba7e9275f0a56c500dd407ba5b0bc3fc494"
   }
  }
 },
 "nbformat": 4,
 "nbformat_minor": 2
}
