{
 "cells": [
  {
   "cell_type": "code",
   "execution_count": null,
   "metadata": {},
   "outputs": [],
   "source": [
    "# \" API-KEY값\ta6785650-8702-4bf7-a492-4ba30f1f18f3\""
   ]
  },
  {
   "cell_type": "code",
   "execution_count": null,
   "metadata": {},
   "outputs": [],
   "source": [
    "url  = \"http://www.kamis.or.kr/service/price/xml.do?action=dailyPriceByCategoryList\"\n",
    "key = \"a6785650-8702-4bf7-a492-4ba30f1f18f3\"\n",
    "params = {\n",
    "    \"p_cert_key\" : key,\n",
    "    \"p_returntype\" : \"json\",\n",
    "    \"p_startday\" : \"20000101\",\n",
    "    \"p_endday\" : \"20221130\",\n",
    "    \"p_itemcategorycode\" : \"211\",\n",
    "    \"p_itemcode\" : \"211\",\n",
    "    \"p_countrycode\" : \"\",\n"
   ]
  }
 ],
 "metadata": {
  "kernelspec": {
   "display_name": "baseDeep",
   "language": "python",
   "name": "python3"
  },
  "language_info": {
   "name": "python",
   "version": "3.8.13 (default, Oct 19 2022, 17:52:09) \n[Clang 12.0.0 ]"
  },
  "orig_nbformat": 4,
  "vscode": {
   "interpreter": {
    "hash": "d5bd3b74290b6fecca2d77c6682b8ba7e9275f0a56c500dd407ba5b0bc3fc494"
   }
  }
 },
 "nbformat": 4,
 "nbformat_minor": 2
}
