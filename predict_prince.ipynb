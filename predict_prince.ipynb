{
 "cells": [
  {
   "cell_type": "code",
   "execution_count": null,
   "metadata": {},
   "outputs": [],
   "source": [
    "# \" API-KEY값\ta6785650-8702-4bf7-a492-4ba30f1f18f3\""
   ]
  },
  {
   "cell_type": "code",
   "execution_count": null,
   "metadata": {},
   "outputs": [],
   "source": [
    "url  = \"http://www.kamis.or.kr/service/price/xml.do?action=dailyPriceByCategoryList\"\n",
    "key = \"a6785650-8702-4bf7-a492-4ba30f1f18f3\"\n",
    "params = {\n",
    "    \"p_cert_key\" : key,\n",
    "    \"p_returntype\" : \"json\",\n",
    "    \"p_startday\" : \"20000101\",\n",
    "    \"p_endday\" : \"20221130\",\n",
    "    \"p_itemcategorycode\" : \"211\",\n",
    "    \"p_itemcode\" : \"211\",\n",
    "    \"p_countrycode\" : \"\",\n",
    "\n"
   ]
  }
 ],
 "metadata": {
  "kernelspec": {
   "display_name": "Python 3",
   "language": "python",
   "name": "python3"
  },
  "language_info": {
   "name": "python",
   "version": "3.10.5 (tags/v3.10.5:f377153, Jun  6 2022, 16:14:13) [MSC v.1929 64 bit (AMD64)]"
  },
  "orig_nbformat": 4,
  "vscode": {
   "interpreter": {
    "hash": "09b7107cc0052d70c229891a95353afe6bfe930ef0ffb214d553eb710224961c"
   }
  }
 },
 "nbformat": 4,
 "nbformat_minor": 2
}
