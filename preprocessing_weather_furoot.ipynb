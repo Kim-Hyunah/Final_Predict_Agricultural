{
 "cells": [
  {
   "cell_type": "code",
   "execution_count": 136,
   "id": "f843f4e4",
   "metadata": {},
   "outputs": [],
   "source": [
    "import pandas as pd\n",
    "import numpy as np\n",
    "import datetime\n",
    "import math\n",
    "from copy import deepcopy\n",
    "\n",
    "Path = \"G:/.shortcut-targets-by-id/1sZS2kL5L66960IYJ4xfNEV9CuKrs_7fE/1조/RAW DATA\""
   ]
  },
  {
   "cell_type": "code",
   "execution_count": 2,
   "id": "1926a1fd",
   "metadata": {},
   "outputs": [],
   "source": [
    "# df = pd.read_csv(Path+\"/월별기상관측(2000.01-2021.12).csv\",encoding=\"cp949\")\n",
    "# df.insert(1,'행정구역',object)\n",
    "\n",
    "# df.to_csv(Path+\"/수정_월별기상관측.csv\")"
   ]
  },
  {
   "cell_type": "code",
   "execution_count": 3,
   "id": "891f2954",
   "metadata": {},
   "outputs": [],
   "source": [
    "# df = pd.read_csv(Path+\"/수정_월별기상관측.csv\")\n",
    "# # df.head()\n",
    "\n",
    "# # 기상 측정소 위치 라벨링\n",
    "# df.loc[df['지점명']=='서울', '행정구역'] = '서울특별시'\n",
    "# df.loc[df['지점명']=='무안', '행정구역'] = '전라남도'\n",
    "# df.loc[df['지점명']=='진도(첨찰산)', '행정구역'] = '전라남도'\n",
    "# df.loc[df['지점명']=='대구(기)', '행정구역'] = '대구광역시'\n",
    "# df.loc[df['지점명']=='주암', '행정구역'] = '전라남도'\n",
    "# df.loc[df['지점명']=='성산포', '행정구역'] = '제주도'"
   ]
  },
  {
   "cell_type": "code",
   "execution_count": 4,
   "id": "6f62c4dd",
   "metadata": {},
   "outputs": [],
   "source": [
    "# df_new[df_new[\"행정구역\"]==\"<class 'object'>\"][\"지점명\"].unique()\n",
    "# df.loc[df['지점명']=='주암']\n",
    "# df.to_csv(Path+\"/최종_월별기상관측.csv\",encoding=\"cp949\")"
   ]
  },
  {
   "cell_type": "code",
   "execution_count": 5,
   "id": "6d2e203d",
   "metadata": {},
   "outputs": [],
   "source": [
    "#1. 최대일사량 결측치 처리: 동일년도+동일월+동일 행정구역 데이터의 중앙값으로 대체 ex)강원도의 철원지역 결측치 2021년 1월 강원도의 최대일사량\n",
    "#    (1) 세종시 : 기간 2000년 01월~2019년 04월 충청북도 최대일사량 중앙값으로 대체\n",
    " "
   ]
  },
  {
   "cell_type": "code",
   "execution_count": 6,
   "id": "1acb9c42",
   "metadata": {},
   "outputs": [],
   "source": [
    "# df = pd.read_csv(Path+\"/최종_월별기상관측.csv\",encoding=\"cp949\")"
   ]
  },
  {
   "cell_type": "code",
   "execution_count": 7,
   "id": "9f0e7d49",
   "metadata": {},
   "outputs": [],
   "source": [
    "# df.drop(df.columns[:2],axis=1,inplace=True)   # 0,1번째 컬럼 drop\n",
    "# # df.head()"
   ]
  },
  {
   "cell_type": "code",
   "execution_count": 8,
   "id": "3cd1a4f3",
   "metadata": {},
   "outputs": [],
   "source": [
    "# 필요 컬럼만 추출('행정구역', \"지점명\", '일시', '평균기온(°C)', '최고기온(°C)', '최저기온(°C)', '월합강수량(00~24h만)(mm)', '합계 일사량(MJ/m2)')\n",
    "# df_new=df[['행정구역', \"지점명\", '일시', '평균기온(°C)', '최고기온(°C)', '최저기온(°C)', '월합강수량(00~24h만)(mm)', '합계 일사량(MJ/m2)']]"
   ]
  },
  {
   "cell_type": "code",
   "execution_count": 9,
   "id": "f9919621",
   "metadata": {},
   "outputs": [],
   "source": [
    "# df_ulsan = df_new[df_new[\"행정구역\"]==\"울산광역시\"][[\"행정구역\", \"합계 일사량(MJ/m2)\"]]\n",
    "\n",
    "# print(len(df_ulsan))\n",
    "# print(df_ulsan[\"합계 일사량(MJ/m2)\"].isnull().sum())\n",
    "\n",
    "# 울산광역시의 일사량은 전부 NaN 값"
   ]
  },
  {
   "cell_type": "code",
   "execution_count": 10,
   "id": "c2613ae3",
   "metadata": {},
   "outputs": [],
   "source": [
    "# df_new[\"합계 일사량(MJ/m2)\"].replace(0.0, np.nan, inplace=True)   # 일사량 0.0을 전부 NaN으로 변경"
   ]
  },
  {
   "cell_type": "code",
   "execution_count": 11,
   "id": "43a7b42c",
   "metadata": {},
   "outputs": [],
   "source": [
    "# df_new[df_new[\"합계 일사량(MJ/m2)\"]==0.0][\"합계 일사량(MJ/m2)\"]"
   ]
  },
  {
   "cell_type": "code",
   "execution_count": 12,
   "id": "c0871ed9",
   "metadata": {},
   "outputs": [],
   "source": [
    "# 일시와 행정구역에 따른 합계 일사량 중앙값\n",
    "# sunshine = pd.pivot_table(df_new, index=\"일시\", columns=\"행정구역\", values=\"합계 일사량(MJ/m2)\",aggfunc=\"median\")"
   ]
  },
  {
   "cell_type": "code",
   "execution_count": 13,
   "id": "e29295e0",
   "metadata": {},
   "outputs": [],
   "source": [
    "# sunshine.interpolate(inplace=True)  # 부산광역시 18년도 8월 결측치를 앞뒤 값으로 보간"
   ]
  },
  {
   "cell_type": "code",
   "execution_count": 14,
   "id": "9fcaa5f9",
   "metadata": {},
   "outputs": [],
   "source": [
    "# df2 = df_new"
   ]
  },
  {
   "cell_type": "code",
   "execution_count": 15,
   "id": "c8594206",
   "metadata": {
    "scrolled": true
   },
   "outputs": [],
   "source": [
    "# df[\"합계 일사량(MJ/m2)\"].fillna()\n",
    "# for i in range(len(df2)) : \n",
    "#     dt = df2.loc[i,\"일시\"]\n",
    "#     dstr = df2.loc[i,\"행정구역\"]\n",
    "# #     print(dt)\n",
    "# #     print(dstr)\n",
    "#     if np.isnan(df2.loc[i,\"합계 일사량(MJ/m2)\"]) :  # 일사량이 NaN일 때\n",
    "#         if df2.loc[i,\"행정구역\"] == \"세종특별자치시\" :       # 행정구역이 세종시라면\n",
    "#             df2.loc[i,\"합계 일사량(MJ/m2)\"] = sunshine[\"충청북도\"][dt]     # 동일 일시의 충청북도 중앙값을 채움\n",
    "#         elif df2.loc[i,\"행정구역\"] == \"울산광역시\" :        # 행정구역이 울산광역시라면\n",
    "#             df2.loc[i,\"합계 일사량(MJ/m2)\"] = sunshine[\"경상남도\"][dt]     # 동일 일시의 경상남도 중앙값을 채움\n",
    "#         else : \n",
    "#             df2.loc[i,\"합계 일사량(MJ/m2)\"] = sunshine[dstr][dt]   # 동일 일시, 동일 행정 구역의 중앙값을 채움\n",
    "\n",
    "# # pd.pivot_table(df2, index=\"일시\", columns=\"행정구역\", values=\"합계 일사량(MJ/m2)\",aggfunc=\"median\")"
   ]
  },
  {
   "cell_type": "code",
   "execution_count": 16,
   "id": "e9140f79",
   "metadata": {},
   "outputs": [],
   "source": [
    "# df2[df2[\"행정구역\"]==\"세종특별자치시\"][[\"일시\",\"합계 일사량(MJ/m2)\"]]"
   ]
  },
  {
   "cell_type": "code",
   "execution_count": 17,
   "id": "a2d344ae",
   "metadata": {},
   "outputs": [],
   "source": [
    "# df2[df2[\"행정구역\"]==\"충청북도\"][[\"일시\",\"합계 일사량(MJ/m2)\"]]"
   ]
  },
  {
   "cell_type": "code",
   "execution_count": 18,
   "id": "333b87d3",
   "metadata": {},
   "outputs": [],
   "source": [
    "# df2[df2[\"합계 일사량(MJ/m2)\"].isnull()]\n",
    "# [\"울산광역시\", \"세종특별자치시\"]"
   ]
  },
  {
   "cell_type": "code",
   "execution_count": 19,
   "id": "0e921501",
   "metadata": {},
   "outputs": [],
   "source": [
    "# avr_tem = pd.pivot_table(df_new, index=\"일시\", columns=\"행정구역\", values=\"평균기온(°C)\",aggfunc=\"median\")"
   ]
  },
  {
   "cell_type": "code",
   "execution_count": 20,
   "id": "a7d9cc65",
   "metadata": {},
   "outputs": [],
   "source": [
    "# high_tem = pd.pivot_table(df_new, index=\"일시\", columns=\"행정구역\", values=\"최고기온(°C)\",aggfunc=\"median\")"
   ]
  },
  {
   "cell_type": "code",
   "execution_count": 21,
   "id": "58a1f9c9",
   "metadata": {},
   "outputs": [],
   "source": [
    "# low_tem = pd.pivot_table(df_new, index=\"일시\", columns=\"행정구역\", values=\"최저기온(°C)\",aggfunc=\"median\")"
   ]
  },
  {
   "cell_type": "code",
   "execution_count": 22,
   "id": "ea68e490",
   "metadata": {},
   "outputs": [],
   "source": [
    "# df2.info()"
   ]
  },
  {
   "cell_type": "code",
   "execution_count": 23,
   "id": "dcd98ae4",
   "metadata": {},
   "outputs": [],
   "source": [
    "# def fill_tem(temperature, dataframe, pivot) : \n",
    "#     for i in range(len(dataframe)) : \n",
    "#         dt = dataframe.loc[i,\"일시\"]\n",
    "#         dstr = dataframe.loc[i,\"행정구역\"]\n",
    "\n",
    "#         if np.isnan(dataframe.loc[i,temperature]) :  # 기온 관련 컬럼값이 NaN일 때 \n",
    "#             dataframe.loc[i,temperature] = pivot[dstr][dt]   # 동일 일시, 동일 행정 구역의 중앙값을 채움\n",
    "    \n",
    "#     return dataframe"
   ]
  },
  {
   "cell_type": "code",
   "execution_count": 24,
   "id": "61a0b89c",
   "metadata": {},
   "outputs": [],
   "source": [
    "# df2 = fill_tem(\"최저기온(°C)\", df2, low_tem)\n",
    "# df2 = fill_tem(\"최고기온(°C)\", df2, high_tem)\n",
    "# df2 = fill_tem(\"평균기온(°C)\", df2, avr_tem)"
   ]
  },
  {
   "cell_type": "code",
   "execution_count": 25,
   "id": "b7542281",
   "metadata": {},
   "outputs": [],
   "source": [
    "# df2_tst[df2_tst[\"평균기온(°C)\"].isnull()]"
   ]
  },
  {
   "cell_type": "code",
   "execution_count": 26,
   "id": "f51b0cba",
   "metadata": {},
   "outputs": [],
   "source": [
    "# df2['평균기온(°C)'] = df2['평균기온(°C)'].fillna(value=avr_tem[\"충청북도\"][\"2019-05\"])"
   ]
  },
  {
   "cell_type": "code",
   "execution_count": 27,
   "id": "8b56b396",
   "metadata": {},
   "outputs": [],
   "source": [
    "# df2.info()"
   ]
  },
  {
   "cell_type": "code",
   "execution_count": 28,
   "id": "352f0c57",
   "metadata": {},
   "outputs": [],
   "source": [
    "# df2[df2[\"행정구역\"]==\"세종특별자치시\"][[\"일시\",\"합계 일사량(MJ/m2)\"]]"
   ]
  },
  {
   "cell_type": "code",
   "execution_count": 29,
   "id": "510b7533",
   "metadata": {},
   "outputs": [],
   "source": [
    "# df2[df2[\"행정구역\"]==\"충청북도\"][[\"일시\",\"합계 일사량(MJ/m2)\"]]"
   ]
  },
  {
   "cell_type": "code",
   "execution_count": 30,
   "id": "f5d10f93",
   "metadata": {},
   "outputs": [],
   "source": [
    "# df2_test=pd.pivot_table(df2, index=\"일시\", columns=\"행정구역\", values=\"합계 일사량(MJ/m2)\",aggfunc=\"median\")"
   ]
  },
  {
   "cell_type": "code",
   "execution_count": 31,
   "id": "a5801915",
   "metadata": {},
   "outputs": [],
   "source": [
    "# df2_test"
   ]
  },
  {
   "cell_type": "code",
   "execution_count": 32,
   "id": "a58ada03",
   "metadata": {},
   "outputs": [],
   "source": [
    "# chch_copy = df2[df2['행정구역']=='충청북도']\n",
    "# chch_copy"
   ]
  },
  {
   "cell_type": "code",
   "execution_count": 33,
   "id": "1feb4a6b",
   "metadata": {},
   "outputs": [],
   "source": [
    "# chch_median = chch_copy.groupby(\"일시\").median()"
   ]
  },
  {
   "cell_type": "code",
   "execution_count": 34,
   "id": "30d28e4c",
   "metadata": {},
   "outputs": [],
   "source": [
    "# chch_median.insert(0,column=\"행정구역\", value=\"세종특별자치시\")\n",
    "# chch_median.insert(1,column=\"지점명\", value=\"세종\")\n",
    "# # chch_median"
   ]
  },
  {
   "cell_type": "code",
   "execution_count": 35,
   "id": "3df1a9a1",
   "metadata": {},
   "outputs": [],
   "source": [
    "# chch_median.reset_index(inplace=True)\n",
    "# chch_median"
   ]
  },
  {
   "cell_type": "code",
   "execution_count": 36,
   "id": "75cc62ed",
   "metadata": {},
   "outputs": [],
   "source": [
    "# chch_median.insert(3,column=\"일시\",value=chch_median[\"일시\"])\n",
    "# chch_median\n",
    "# chch_median.columns"
   ]
  },
  {
   "cell_type": "code",
   "execution_count": 37,
   "id": "ece7bbc2",
   "metadata": {},
   "outputs": [],
   "source": [
    "# chch_median = chch_median[['행정구역', '지점명', '일시', '평균기온(°C)', '최고기온(°C)', '최저기온(°C)','월합강수량(00~24h만)(mm)', '합계 일사량(MJ/m2)']]\n",
    "# chch_median"
   ]
  },
  {
   "cell_type": "code",
   "execution_count": 38,
   "id": "77f5c234",
   "metadata": {},
   "outputs": [],
   "source": [
    "# idx_chch = chch_median[chch_median[\"일시\"]==\"2019-05\"].index[0]\n",
    "# idx_chch"
   ]
  },
  {
   "cell_type": "code",
   "execution_count": 39,
   "id": "4d548b6d",
   "metadata": {},
   "outputs": [],
   "source": [
    "# chch_bef_201905 = chch_median.iloc[:idx_chch,:]\n",
    "# # chch_bef_201905"
   ]
  },
  {
   "cell_type": "code",
   "execution_count": 40,
   "id": "cadd7f7f",
   "metadata": {},
   "outputs": [],
   "source": [
    "# df2[df2[\"행정구역\"]==\"세종특별자치시\"]"
   ]
  },
  {
   "cell_type": "code",
   "execution_count": 41,
   "id": "2b7f0a8f",
   "metadata": {},
   "outputs": [],
   "source": [
    "# new_df = pd.concat([df2.iloc[:14984],chch_bef_201905,df2.iloc[14984:]])\n",
    "# # new_df"
   ]
  },
  {
   "cell_type": "code",
   "execution_count": 42,
   "id": "80d4466a",
   "metadata": {},
   "outputs": [],
   "source": [
    "# new_df[new_df[\"행정구역\"]==\"세종특별자치시\"]"
   ]
  },
  {
   "cell_type": "code",
   "execution_count": 43,
   "id": "69953c03",
   "metadata": {},
   "outputs": [],
   "source": [
    "# new_df.info()"
   ]
  },
  {
   "cell_type": "code",
   "execution_count": 44,
   "id": "3472e1b3",
   "metadata": {},
   "outputs": [],
   "source": [
    "# new_df[new_df['행정구역']=='세종특별자치시'].isnull().sum()"
   ]
  },
  {
   "cell_type": "code",
   "execution_count": 45,
   "id": "8f4dab83",
   "metadata": {},
   "outputs": [],
   "source": [
    "# new_df.fillna(0.0,inplace=True)\n",
    "# new_df.info()"
   ]
  },
  {
   "cell_type": "code",
   "execution_count": 46,
   "id": "bd5b8c23",
   "metadata": {},
   "outputs": [],
   "source": [
    "# new_df.to_csv(\"data/최종_최종__월별기상관측.csv\",encoding=\"cp949\")"
   ]
  },
  {
   "cell_type": "code",
   "execution_count": 47,
   "id": "ba3b4561",
   "metadata": {},
   "outputs": [],
   "source": [
    "# new_df.groupby([\"행정구역\", \"일시\"]).median()"
   ]
  },
  {
   "cell_type": "code",
   "execution_count": 48,
   "id": "a655effd",
   "metadata": {},
   "outputs": [
    {
     "name": "stdout",
     "output_type": "stream",
     "text": [
      "<class 'pandas.core.frame.DataFrame'>\n",
      "RangeIndex: 23078 entries, 0 to 23077\n",
      "Data columns (total 9 columns):\n",
      " #   Column              Non-Null Count  Dtype  \n",
      "---  ------              --------------  -----  \n",
      " 0   Unnamed: 0          23078 non-null  int64  \n",
      " 1   행정구역                23078 non-null  object \n",
      " 2   지점명                 23078 non-null  object \n",
      " 3   일시                  23078 non-null  object \n",
      " 4   평균기온(°C)            23078 non-null  float64\n",
      " 5   최고기온(°C)            23078 non-null  float64\n",
      " 6   최저기온(°C)            23078 non-null  float64\n",
      " 7   월합강수량(00~24h만)(mm)  23078 non-null  float64\n",
      " 8   합계 일사량(MJ/m2)       23078 non-null  float64\n",
      "dtypes: float64(5), int64(1), object(3)\n",
      "memory usage: 1.6+ MB\n"
     ]
    }
   ],
   "source": [
    "new_df = pd.read_csv(\"./data/최종_최종__월별기상관측.csv\", encoding=\"cp949\")\n",
    "new_df.info()"
   ]
  },
  {
   "cell_type": "code",
   "execution_count": 49,
   "id": "cd3a28ea",
   "metadata": {},
   "outputs": [],
   "source": [
    "new_df.drop(\"Unnamed: 0\", axis=1, inplace=True)  # 0번째 컬럼 drop\n",
    "# new_df.head(3)"
   ]
  },
  {
   "cell_type": "code",
   "execution_count": 50,
   "id": "95a1657a",
   "metadata": {},
   "outputs": [],
   "source": [
    "new_df[\"일시\"] = pd.to_datetime(new_df[\"일시\"])  # 일시를 datetime으로 변경\n",
    "# new_df.head()"
   ]
  },
  {
   "cell_type": "code",
   "execution_count": 51,
   "id": "ecd892d5",
   "metadata": {},
   "outputs": [],
   "source": [
    "new_df[\"연도\"] =  new_df[\"일시\"].dt.year   # 연도만 추출\n",
    "new_df[\"월\"] =  new_df[\"일시\"].dt.month    # 월만 추출\n",
    "# new_df.head(10)"
   ]
  },
  {
   "cell_type": "code",
   "execution_count": 52,
   "id": "12c299a0",
   "metadata": {},
   "outputs": [],
   "source": [
    "# new_df.columns"
   ]
  },
  {
   "cell_type": "code",
   "execution_count": 53,
   "id": "897bb55a",
   "metadata": {},
   "outputs": [],
   "source": [
    "# 컬럼 순서 변경\n",
    "new_df = new_df[['행정구역', '지점명', '연도', '월', '평균기온(°C)', '최고기온(°C)', '최저기온(°C)','월합강수량(00~24h만)(mm)', '합계 일사량(MJ/m2)']]\n",
    "# new_df.head(3)\n"
   ]
  },
  {
   "cell_type": "code",
   "execution_count": 54,
   "id": "9cf3162c",
   "metadata": {},
   "outputs": [],
   "source": [
    "# test = new_df.groupby([\"연도\",\"행정구역\",\"월\"]).median()[:24]"
   ]
  },
  {
   "cell_type": "code",
   "execution_count": 55,
   "id": "beba6699",
   "metadata": {},
   "outputs": [],
   "source": [
    "# test"
   ]
  },
  {
   "cell_type": "code",
   "execution_count": 56,
   "id": "87a0bbad",
   "metadata": {},
   "outputs": [],
   "source": [
    "# test2 = test.iloc[[0, 12]]\n",
    "# for i in range(1, int(len(test)/2)) : \n",
    "#     a = test.iloc[[i,i+12]]\n",
    "#     # print(a)\n",
    "#     test2 = pd.merge(left = test2, right = a, left_index = True, right_index = True, how = \"outer\")\n",
    "# test2"
   ]
  },
  {
   "cell_type": "code",
   "execution_count": 57,
   "id": "6e0b9c21",
   "metadata": {},
   "outputs": [],
   "source": [
    "# test2 = test.iloc[0]\n",
    "# for i in range(1, len(test)) : \n",
    "#     a = test.iloc[i]\n",
    "#     test2 = pd.merge(left = test2, right = a, left_index = True, right_index = True, how = \"outer\") \n",
    "# test2"
   ]
  },
  {
   "cell_type": "code",
   "execution_count": 58,
   "id": "2ac0212e",
   "metadata": {},
   "outputs": [],
   "source": [
    "# i = 0, j = 0, k = 0, new_col = 0 empty_frame.iloc[0,0] = test.iloc[0,0]\n",
    "#               k = 1, new_col = 1 empty_frame.iloc[0,1] = test.iloc[0,1]\n",
    "#               k = 2, new_col = 2 empty_frame.iloc[0,2] = test.iloc[0,2]\n",
    "#               k = 3, new_col = 3 empty_frame.iloc[0,3] = test.iloc[0,3]\n",
    "#               k = 4, new_col = 4 empty_frame.iloc[0,4] = test.iloc[0,4]\n",
    "# i = 1, j = 0, k = 0, new_col = 5 empty_frame.iloc[0,5] = test.iloc[1,0]\n",
    "#               k = 1, new_col = 6 empty_frame.iloc[0,6] = test.iloc[1,1]\n",
    "#               k = 2, new_col = 7 empty_frame.iloc[0,7] = test.iloc[1,2]\n",
    "#               k = 3, new_col = 8 empty_frame.iloc[0,8] = test.iloc[1,3]\n",
    "#               k = 4, new_col = 9 empty_frame.iloc[0,9] = test.iloc[1,4]\n",
    "# i = 12, j = 1, k = 0, new_col = 60 empty_frame.iloc[0,5] = test.iloc[1,0]\n",
    "#               k = 1, new_col = 6 empty_frame.iloc[0,6] = test.iloc[1,1]\n",
    "#               k = 2, new_col = 7 empty_frame.iloc[0,7] = test.iloc[1,2]\n",
    "#               k = 3, new_col = 8 empty_frame.iloc[0,8] = test.iloc[1,3]\n",
    "#               k = 4, new_col = 9 empty_frame.iloc[0,9] = test.iloc[1,4]"
   ]
  },
  {
   "cell_type": "code",
   "execution_count": 59,
   "id": "4db83027",
   "metadata": {},
   "outputs": [],
   "source": [
    "real_test = new_df.groupby([\"연도\",\"행정구역\",\"월\"]).median() # 연도, 행정구역, 월별로 group화"
   ]
  },
  {
   "cell_type": "code",
   "execution_count": 60,
   "id": "130f5f67",
   "metadata": {},
   "outputs": [],
   "source": [
    "empty_array = np.empty((int(len(real_test)/12),60))   # (4488/12, 60)의 구조를 가지는 빈 행렬을 생성\n",
    "empty_array[:] = np.nan\n",
    "empty_frame = pd.DataFrame(empty_array)\n",
    "\n",
    "cname = []\n",
    "for i in range(1,13) : \n",
    "    L = ['평균기온(°C)', '최고기온(°C)', '최저기온(°C)','월합강수량(00~24h만)(mm)', '합계 일사량(MJ/m2)']\n",
    "    for elem in L : \n",
    "        word = elem + \"_{}월\".format(i)  # 각 컬럼명에 1월부터 12월까지 붙여줌\n",
    "        cname.append(word)\n",
    "\n",
    "empty_frame.columns = cname   # 변수에 월수가 붙은 리스트를 컬럼명으로 대체"
   ]
  },
  {
   "cell_type": "code",
   "execution_count": 61,
   "id": "f26e06d4",
   "metadata": {},
   "outputs": [],
   "source": [
    "# cname"
   ]
  },
  {
   "cell_type": "code",
   "execution_count": 138,
   "id": "0a4c15b3",
   "metadata": {},
   "outputs": [],
   "source": [
    "for i in range(len(real_test)) : \n",
    "    j = math.floor(i/12)  # 각 행 인덱스를 12로 나눈 후 내림  >>>  0부터 11까지는 0으로, 12부터 23까지는 1로.....\n",
    "    remain = i%12  # 각 행 인덱스를 12로 나눈 나머지  >>> 0과 12, 24는 0으로, 1과 13 25는 1로......\n",
    "    for k in range(len(real_test.iloc[i])) : \n",
    "        new_col = (remain*5)+k      # remain이 0이면 new_col은 0부터 4까지, remain이 1이면 new_col은 5부터 9까지, remain이 11이면 new_col은 55부터 59까지, \n",
    "        empty_frame.iloc[j,new_col] = real_test.iloc[i,k]  # real_test의 데이터를 empty_frame에 삽입\n",
    "wanna_frame = empty_frame"
   ]
  },
  {
   "cell_type": "code",
   "execution_count": 139,
   "id": "fedf746d",
   "metadata": {},
   "outputs": [],
   "source": [
    "b = real_test.index   # groupby한 데이터 프레임의 인덱스를 저장\n",
    "a = [(b[i][0],b[i][1]) for i in range(len(b)) if i%12==0]   # 인덱스를 12로 나눈 후 나머지가 없는 행만 추출(연도는 같고 월만 다르기 때문에 그 중 처음만 가져온다)\n",
    "                                                            # 그 후 연도와 행정구역만 튜플로 저장"
   ]
  },
  {
   "cell_type": "code",
   "execution_count": 64,
   "id": "0794bc8b",
   "metadata": {},
   "outputs": [],
   "source": [
    "# len(a)"
   ]
  },
  {
   "cell_type": "code",
   "execution_count": 140,
   "id": "d9738c89",
   "metadata": {},
   "outputs": [],
   "source": [
    "new_index = pd.MultiIndex.from_tuples(a)  # 연도와 행정구역을 추출한 튜플 리스트를 멀티인덱스로 변환"
   ]
  },
  {
   "cell_type": "code",
   "execution_count": 141,
   "id": "1461e7bb",
   "metadata": {},
   "outputs": [],
   "source": [
    "wanna_frame.index = new_index\n",
    "# wanna_frame.head()"
   ]
  },
  {
   "cell_type": "code",
   "execution_count": 67,
   "id": "01a1a3a3",
   "metadata": {},
   "outputs": [],
   "source": [
    "admin_dist = np.sort(new_df[\"행정구역\"].unique())"
   ]
  },
  {
   "cell_type": "code",
   "execution_count": 68,
   "id": "d39805a8",
   "metadata": {},
   "outputs": [],
   "source": [
    "# city 배열 생성\n",
    "city = [\"서울특별시\", \"부산광역시\", \"대구광역시\", \"인천광역시\", \"광주광역시\", \"대전광역시\", \"울산광역시\", \"세종특별자치시\", \"경기도\", \"강원도\", \"충청북도\", \"충청남도\", \"전라북도\", \"전라남도\", \"경상북도\", \"경상남도\", \"제주도\"]\n",
    "city_list= [\"seoul\", \"busan\", \"daegu\", \"incheon\", \"gwangju\", \"daejeon\", \"ulsan\", \"sejong\", \"gyeonggi\", \"gangwon\", \"chungbuk\", \"chungnam\", \"jeonbuk\", \"jeonnam\", \"gyeongbuk\", \"gyeongnam\", \"jeju\"]\n",
    "\n",
    "# season 배열 생성\n",
    "season = [\"spring\", \"summer\", \"fall\", \"winter\"]\n",
    "\n",
    "# .query()를 사용하여 계절별로 데이터 프레임 생성 \n",
    "\n",
    "# 지역별, 계절별 배추 생산량 csv 불러오기\n",
    "for i in range(len(city)):\n",
    "    for j in range(len(season)):\n",
    "        globals()[city_list[i] + \"_\" + season[j]] = pd.read_csv(\"./data/\"+city_list[i]+\"_\"+season[j]+\".csv\")\n",
    "        # globals()[city_list[i] + \"_\" + season[j]] = new_df[(new_df[\"행정구역\"]==city[i]) & (new_df[\"일시\"].isin(season_list[j]))]\n",
    "        # globals()[city_list[i] + \"_\" + season[j]].reset_index(drop=True, inplace=True)\n",
    "        # globals()[city_list[i] + \"_\" + season[j]] = globals()[city_list[i] + \"_\" + season[j]].drop([\"행정구역\"], axis=1)\n",
    "        # globals()[city_list[i] + \"_\" + season[j]] = globals()[city_list[i] + \"_\" + season[j]].rename(columns={\"지점명\": \"지역명\"})\n",
    "        # # 지역명 컬럼 삭제\n",
    "        # globals()[city_list[i] + \"_\" + season[j]] = globals()[city_list[i] + \"_\" + season[j]].drop([\"지역명\"], axis=1)\n",
    "        # # 일시 데이터를 년도로 변경\n",
    "        # globals()[city_list[i] + \"_\" + season[j]][\"일시\"] = globals()[city_list[i] + \"_\" + season[j]][\"일시\"].str[:4]\n",
    "        # # csv 파일로 저장\n",
    "        # globals()[city_list[i] + \"_\" + season[j]].to_csv(\"data/weather/\" + city_list[i] + \"_\" + season[j] + \".csv\", encoding=\"utf-8\", index=False)"
   ]
  },
  {
   "cell_type": "code",
   "execution_count": 137,
   "id": "de1c645a",
   "metadata": {},
   "outputs": [],
   "source": [
    "# seoul_fall_select"
   ]
  },
  {
   "cell_type": "code",
   "execution_count": 70,
   "id": "ec509ce5",
   "metadata": {},
   "outputs": [],
   "source": [
    "for i in range(len(city)):\n",
    "    for j in range(len(season)):\n",
    "        k_list = []\n",
    "        for k in range(len(globals()[city_list[i] + \"_\" + season[j]].iloc[0])) : \n",
    "            if k % 3 == 2 or k % 3 == 0 : \n",
    "                k_list.append(k)\n",
    "        \n",
    "        globals()[city_list[i] + \"_\" + season[j]+ \"_select\"] = globals()[city_list[i] + \"_\" + season[j]].iloc[:,k_list]"
   ]
  },
  {
   "cell_type": "code",
   "execution_count": 71,
   "id": "72ecb373",
   "metadata": {},
   "outputs": [],
   "source": [
    "year_list_spring = []\n",
    "for i in range(2000,2022) : \n",
    "    year_list_spring.append((i,\"일반봄배추:면적 (ha)\"))\n",
    "    for k in range(i,i+1) : \n",
    "        year_list_spring.append((k,\"생산량 (톤)\"))"
   ]
  },
  {
   "cell_type": "code",
   "execution_count": 72,
   "id": "f7b7b3b5",
   "metadata": {},
   "outputs": [],
   "source": [
    "year_list_summer = []\n",
    "for i in range(2000,2022) : \n",
    "    year_list_summer.append((i,\"고랭지배추:면적 (ha)\"))\n",
    "    for k in range(i,i+1) : \n",
    "        year_list_summer.append((k,\"생산량 (톤)\"))"
   ]
  },
  {
   "cell_type": "code",
   "execution_count": 73,
   "id": "4c0ce4c2",
   "metadata": {},
   "outputs": [],
   "source": [
    "year_list_fall = []\n",
    "for i in range(2000,2022) : \n",
    "    year_list_fall.append((i,\"노지가을배추:면적 (ha)\"))\n",
    "    for k in range(i,i+1) : \n",
    "        year_list_fall.append((k,\"생산량 (톤)\"))\n",
    "# year_list"
   ]
  },
  {
   "cell_type": "code",
   "execution_count": 83,
   "id": "6a6a7f8e",
   "metadata": {},
   "outputs": [],
   "source": [
    "year_list_winter = []\n",
    "for i in range(2014,2022) : \n",
    "    year_list_winter.append((i,\"노지겨울배추:면적 (ha)\"))\n",
    "    for k in range(i,i+1) : \n",
    "        year_list_winter.append((k,\"생산량 (톤)\"))"
   ]
  },
  {
   "cell_type": "code",
   "execution_count": 75,
   "id": "6e6509eb",
   "metadata": {},
   "outputs": [],
   "source": [
    "# year_list = [(i,i) for i in range(2000,2022)]\n",
    "# year_list"
   ]
  },
  {
   "cell_type": "code",
   "execution_count": 84,
   "id": "fc5bc303",
   "metadata": {},
   "outputs": [],
   "source": [
    "year_list_spring = pd.MultiIndex.from_tuples(year_list_spring)\n",
    "year_list_summer = pd.MultiIndex.from_tuples(year_list_summer)\n",
    "year_list_fall = pd.MultiIndex.from_tuples(year_list_fall)\n",
    "year_list_winter = pd.MultiIndex.from_tuples(year_list_winter)\n",
    "# year_list"
   ]
  },
  {
   "cell_type": "code",
   "execution_count": 77,
   "id": "329142b5",
   "metadata": {},
   "outputs": [],
   "source": [
    "# for i in range(len(city)):\n",
    "#     for j in range(len(season)):\n",
    "#         print(len(globals()[city_list[i] + \"_\" + season[j]+ \"_select\"].iloc[0]))"
   ]
  },
  {
   "cell_type": "code",
   "execution_count": 85,
   "id": "9befc578",
   "metadata": {},
   "outputs": [],
   "source": [
    "for i in range(len(city)):\n",
    "    for j in range(len(season)):\n",
    "        # if city[i] == \"세종특별자치시\"\n",
    "        globals()[city_list[i] + \"_\" + season[j]+ \"_select\"] = globals()[city_list[i] + \"_\" + season[j]+ \"_select\"].transpose()\n",
    "        globals()[city_list[i] + \"_\" + season[j]+ \"_select\"].index = globals()[\"year_list_\"+season[j]]\n",
    "        # globals()[city_list[i] + \"_\" + season[j]+ \"_select\"] = globals()[city_list[i] + \"_\" + season[j]+ \"_select\"].reindex(globals()[\"year_list_\"+season[j]])\n",
    "        # 겨울은 16개다\n"
   ]
  },
  {
   "cell_type": "code",
   "execution_count": 98,
   "id": "182310ec",
   "metadata": {},
   "outputs": [
    {
     "data": {
      "text/html": [
       "<div>\n",
       "<style scoped>\n",
       "    .dataframe tbody tr th:only-of-type {\n",
       "        vertical-align: middle;\n",
       "    }\n",
       "\n",
       "    .dataframe tbody tr th {\n",
       "        vertical-align: top;\n",
       "    }\n",
       "\n",
       "    .dataframe thead th {\n",
       "        text-align: right;\n",
       "    }\n",
       "</style>\n",
       "<table border=\"1\" class=\"dataframe\">\n",
       "  <thead>\n",
       "    <tr style=\"text-align: right;\">\n",
       "      <th></th>\n",
       "      <th>노지겨울배추:면적 (ha)</th>\n",
       "      <th>생산량 (톤)</th>\n",
       "    </tr>\n",
       "  </thead>\n",
       "  <tbody>\n",
       "    <tr>\n",
       "      <th>2014</th>\n",
       "      <td>4022</td>\n",
       "      <td>280454</td>\n",
       "    </tr>\n",
       "    <tr>\n",
       "      <th>2015</th>\n",
       "      <td>3382</td>\n",
       "      <td>255442</td>\n",
       "    </tr>\n",
       "    <tr>\n",
       "      <th>2016</th>\n",
       "      <td>3181</td>\n",
       "      <td>241533</td>\n",
       "    </tr>\n",
       "    <tr>\n",
       "      <th>2017</th>\n",
       "      <td>4145</td>\n",
       "      <td>332042</td>\n",
       "    </tr>\n",
       "    <tr>\n",
       "      <th>2018</th>\n",
       "      <td>4684</td>\n",
       "      <td>354672</td>\n",
       "    </tr>\n",
       "    <tr>\n",
       "      <th>2019</th>\n",
       "      <td>3307</td>\n",
       "      <td>223797</td>\n",
       "    </tr>\n",
       "    <tr>\n",
       "      <th>2020</th>\n",
       "      <td>4167</td>\n",
       "      <td>276415</td>\n",
       "    </tr>\n",
       "    <tr>\n",
       "      <th>2021</th>\n",
       "      <td>3236</td>\n",
       "      <td>224283</td>\n",
       "    </tr>\n",
       "  </tbody>\n",
       "</table>\n",
       "</div>"
      ],
      "text/plain": [
       "     노지겨울배추:면적 (ha) 생산량 (톤)\n",
       "2014           4022  280454\n",
       "2015           3382  255442\n",
       "2016           3181  241533\n",
       "2017           4145  332042\n",
       "2018           4684  354672\n",
       "2019           3307  223797\n",
       "2020           4167  276415\n",
       "2021           3236  224283"
      ]
     },
     "execution_count": 98,
     "metadata": {},
     "output_type": "execute_result"
    }
   ],
   "source": [
    "# jeonnam_winter_select.drop([0],axis=1).unstack().droplevel(0, axis=1)"
   ]
  },
  {
   "cell_type": "code",
   "execution_count": 99,
   "id": "0772009c",
   "metadata": {},
   "outputs": [],
   "source": [
    "for i in range(len(city)):\n",
    "    for j in range(len(season)):\n",
    "        globals()[city_list[i] + \"_\" + season[j]+ \"_select\"] = globals()[city_list[i] + \"_\" + season[j]+ \"_select\"].drop([0],axis=1).unstack().droplevel(0, axis=1)"
   ]
  },
  {
   "cell_type": "code",
   "execution_count": 111,
   "id": "952a6519",
   "metadata": {},
   "outputs": [],
   "source": [
    "for i in range(len(season)) : \n",
    "    wan_idx = wanna_frame.index  \n",
    "    globals()[\"idx_\"+season[i]] = [(wan_idx[j][0],season[i],wan_idx[j][1]) for j in range(len(wan_idx))]\n",
    "    globals()[\"idx_\"+season[i]] = pd.MultiIndex.from_tuples(globals()[\"idx_\"+season[i]])"
   ]
  },
  {
   "cell_type": "code",
   "execution_count": 143,
   "id": "7853e174",
   "metadata": {},
   "outputs": [],
   "source": [
    "for i in range(len(season)) : \n",
    "    globals()[\"wanna_frame_\"+season[i]] = deepcopy(wanna_frame)\n",
    "    globals()[\"wanna_frame_\"+season[i]].index = globals()[\"idx_\"+season[i]]"
   ]
  },
  {
   "cell_type": "code",
   "execution_count": 134,
   "id": "46952bec",
   "metadata": {},
   "outputs": [],
   "source": [
    "# wanna_frame_spring = wanna_frame\n",
    "# wanna_frame_spring.index = idx_spring\n",
    "# wanna_frame_summer = wanna_frame\n",
    "# wanna_frame_summer.index = idx_summer\n",
    "# wanna_frame_fall = wanna_frame\n",
    "# wanna_frame_fall.index = idx_fall\n",
    "# wanna_frame_winter = wanna_frame\n",
    "# wanna_frame_winter.index = idx_winter"
   ]
  },
  {
   "cell_type": "code",
   "execution_count": 146,
   "id": "931d818f",
   "metadata": {},
   "outputs": [
    {
     "data": {
      "text/html": [
       "<div>\n",
       "<style scoped>\n",
       "    .dataframe tbody tr th:only-of-type {\n",
       "        vertical-align: middle;\n",
       "    }\n",
       "\n",
       "    .dataframe tbody tr th {\n",
       "        vertical-align: top;\n",
       "    }\n",
       "\n",
       "    .dataframe thead th {\n",
       "        text-align: right;\n",
       "    }\n",
       "</style>\n",
       "<table border=\"1\" class=\"dataframe\">\n",
       "  <thead>\n",
       "    <tr style=\"text-align: right;\">\n",
       "      <th></th>\n",
       "      <th></th>\n",
       "      <th></th>\n",
       "      <th>평균기온(°C)_1월</th>\n",
       "      <th>최고기온(°C)_1월</th>\n",
       "      <th>최저기온(°C)_1월</th>\n",
       "      <th>월합강수량(00~24h만)(mm)_1월</th>\n",
       "      <th>합계 일사량(MJ/m2)_1월</th>\n",
       "      <th>평균기온(°C)_2월</th>\n",
       "      <th>최고기온(°C)_2월</th>\n",
       "      <th>최저기온(°C)_2월</th>\n",
       "      <th>월합강수량(00~24h만)(mm)_2월</th>\n",
       "      <th>합계 일사량(MJ/m2)_2월</th>\n",
       "      <th>...</th>\n",
       "      <th>평균기온(°C)_11월</th>\n",
       "      <th>최고기온(°C)_11월</th>\n",
       "      <th>최저기온(°C)_11월</th>\n",
       "      <th>월합강수량(00~24h만)(mm)_11월</th>\n",
       "      <th>합계 일사량(MJ/m2)_11월</th>\n",
       "      <th>평균기온(°C)_12월</th>\n",
       "      <th>최고기온(°C)_12월</th>\n",
       "      <th>최저기온(°C)_12월</th>\n",
       "      <th>월합강수량(00~24h만)(mm)_12월</th>\n",
       "      <th>합계 일사량(MJ/m2)_12월</th>\n",
       "    </tr>\n",
       "  </thead>\n",
       "  <tbody>\n",
       "    <tr>\n",
       "      <th rowspan=\"5\" valign=\"top\">2000</th>\n",
       "      <th rowspan=\"5\" valign=\"top\">spring</th>\n",
       "      <th>강원도</th>\n",
       "      <td>-2.90</td>\n",
       "      <td>8.50</td>\n",
       "      <td>-16.00</td>\n",
       "      <td>48.10</td>\n",
       "      <td>152.990</td>\n",
       "      <td>-3.3</td>\n",
       "      <td>7.70</td>\n",
       "      <td>-15.80</td>\n",
       "      <td>5.70</td>\n",
       "      <td>329.070</td>\n",
       "      <td>...</td>\n",
       "      <td>4.10</td>\n",
       "      <td>20.30</td>\n",
       "      <td>-8.40</td>\n",
       "      <td>30.20</td>\n",
       "      <td>231.670</td>\n",
       "      <td>-1.40</td>\n",
       "      <td>12.50</td>\n",
       "      <td>-14.90</td>\n",
       "      <td>16.90</td>\n",
       "      <td>234.16</td>\n",
       "    </tr>\n",
       "    <tr>\n",
       "      <th>경기도</th>\n",
       "      <td>-2.65</td>\n",
       "      <td>10.20</td>\n",
       "      <td>-15.00</td>\n",
       "      <td>52.20</td>\n",
       "      <td>202.280</td>\n",
       "      <td>-2.3</td>\n",
       "      <td>8.30</td>\n",
       "      <td>-15.05</td>\n",
       "      <td>1.55</td>\n",
       "      <td>317.510</td>\n",
       "      <td>...</td>\n",
       "      <td>4.70</td>\n",
       "      <td>20.75</td>\n",
       "      <td>-7.90</td>\n",
       "      <td>25.00</td>\n",
       "      <td>262.150</td>\n",
       "      <td>-0.55</td>\n",
       "      <td>13.25</td>\n",
       "      <td>-12.90</td>\n",
       "      <td>24.10</td>\n",
       "      <td>248.43</td>\n",
       "    </tr>\n",
       "    <tr>\n",
       "      <th>경상남도</th>\n",
       "      <td>1.40</td>\n",
       "      <td>13.20</td>\n",
       "      <td>-9.60</td>\n",
       "      <td>21.90</td>\n",
       "      <td>173.530</td>\n",
       "      <td>1.2</td>\n",
       "      <td>13.50</td>\n",
       "      <td>-9.70</td>\n",
       "      <td>0.00</td>\n",
       "      <td>360.910</td>\n",
       "      <td>...</td>\n",
       "      <td>7.90</td>\n",
       "      <td>21.60</td>\n",
       "      <td>-4.20</td>\n",
       "      <td>56.00</td>\n",
       "      <td>301.480</td>\n",
       "      <td>2.00</td>\n",
       "      <td>16.10</td>\n",
       "      <td>-8.30</td>\n",
       "      <td>2.50</td>\n",
       "      <td>287.57</td>\n",
       "    </tr>\n",
       "    <tr>\n",
       "      <th>경상북도</th>\n",
       "      <td>-0.30</td>\n",
       "      <td>10.70</td>\n",
       "      <td>-12.60</td>\n",
       "      <td>29.20</td>\n",
       "      <td>167.555</td>\n",
       "      <td>0.2</td>\n",
       "      <td>10.40</td>\n",
       "      <td>-12.90</td>\n",
       "      <td>0.00</td>\n",
       "      <td>398.050</td>\n",
       "      <td>...</td>\n",
       "      <td>6.40</td>\n",
       "      <td>20.70</td>\n",
       "      <td>-6.90</td>\n",
       "      <td>51.50</td>\n",
       "      <td>229.380</td>\n",
       "      <td>0.40</td>\n",
       "      <td>14.80</td>\n",
       "      <td>-11.20</td>\n",
       "      <td>4.90</td>\n",
       "      <td>235.80</td>\n",
       "    </tr>\n",
       "    <tr>\n",
       "      <th>광주광역시</th>\n",
       "      <td>1.00</td>\n",
       "      <td>15.30</td>\n",
       "      <td>-8.80</td>\n",
       "      <td>33.70</td>\n",
       "      <td>176.490</td>\n",
       "      <td>0.6</td>\n",
       "      <td>12.40</td>\n",
       "      <td>-7.60</td>\n",
       "      <td>15.40</td>\n",
       "      <td>366.470</td>\n",
       "      <td>...</td>\n",
       "      <td>8.40</td>\n",
       "      <td>22.10</td>\n",
       "      <td>-3.00</td>\n",
       "      <td>53.80</td>\n",
       "      <td>295.020</td>\n",
       "      <td>3.20</td>\n",
       "      <td>16.70</td>\n",
       "      <td>-6.60</td>\n",
       "      <td>6.40</td>\n",
       "      <td>294.42</td>\n",
       "    </tr>\n",
       "    <tr>\n",
       "      <th>...</th>\n",
       "      <th>...</th>\n",
       "      <th>...</th>\n",
       "      <td>...</td>\n",
       "      <td>...</td>\n",
       "      <td>...</td>\n",
       "      <td>...</td>\n",
       "      <td>...</td>\n",
       "      <td>...</td>\n",
       "      <td>...</td>\n",
       "      <td>...</td>\n",
       "      <td>...</td>\n",
       "      <td>...</td>\n",
       "      <td>...</td>\n",
       "      <td>...</td>\n",
       "      <td>...</td>\n",
       "      <td>...</td>\n",
       "      <td>...</td>\n",
       "      <td>...</td>\n",
       "      <td>...</td>\n",
       "      <td>...</td>\n",
       "      <td>...</td>\n",
       "      <td>...</td>\n",
       "      <td>...</td>\n",
       "    </tr>\n",
       "    <tr>\n",
       "      <th rowspan=\"5\" valign=\"top\">2021</th>\n",
       "      <th rowspan=\"5\" valign=\"top\">spring</th>\n",
       "      <th>전라남도</th>\n",
       "      <td>1.70</td>\n",
       "      <td>16.15</td>\n",
       "      <td>-13.90</td>\n",
       "      <td>33.30</td>\n",
       "      <td>275.670</td>\n",
       "      <td>5.2</td>\n",
       "      <td>21.65</td>\n",
       "      <td>-5.40</td>\n",
       "      <td>33.40</td>\n",
       "      <td>325.740</td>\n",
       "      <td>...</td>\n",
       "      <td>9.95</td>\n",
       "      <td>21.95</td>\n",
       "      <td>-1.45</td>\n",
       "      <td>51.95</td>\n",
       "      <td>302.590</td>\n",
       "      <td>4.05</td>\n",
       "      <td>15.75</td>\n",
       "      <td>-8.70</td>\n",
       "      <td>4.00</td>\n",
       "      <td>272.30</td>\n",
       "    </tr>\n",
       "    <tr>\n",
       "      <th>전라북도</th>\n",
       "      <td>-0.40</td>\n",
       "      <td>14.30</td>\n",
       "      <td>-18.60</td>\n",
       "      <td>36.00</td>\n",
       "      <td>274.140</td>\n",
       "      <td>3.7</td>\n",
       "      <td>21.90</td>\n",
       "      <td>-7.60</td>\n",
       "      <td>33.00</td>\n",
       "      <td>337.560</td>\n",
       "      <td>...</td>\n",
       "      <td>8.90</td>\n",
       "      <td>22.60</td>\n",
       "      <td>-2.80</td>\n",
       "      <td>86.40</td>\n",
       "      <td>280.285</td>\n",
       "      <td>2.80</td>\n",
       "      <td>14.30</td>\n",
       "      <td>-10.70</td>\n",
       "      <td>9.50</td>\n",
       "      <td>250.05</td>\n",
       "    </tr>\n",
       "    <tr>\n",
       "      <th>제주도</th>\n",
       "      <td>6.85</td>\n",
       "      <td>17.85</td>\n",
       "      <td>-3.25</td>\n",
       "      <td>82.85</td>\n",
       "      <td>218.455</td>\n",
       "      <td>9.2</td>\n",
       "      <td>22.95</td>\n",
       "      <td>-2.30</td>\n",
       "      <td>52.00</td>\n",
       "      <td>309.905</td>\n",
       "      <td>...</td>\n",
       "      <td>14.05</td>\n",
       "      <td>22.50</td>\n",
       "      <td>6.60</td>\n",
       "      <td>59.40</td>\n",
       "      <td>279.035</td>\n",
       "      <td>9.05</td>\n",
       "      <td>18.25</td>\n",
       "      <td>-0.80</td>\n",
       "      <td>24.30</td>\n",
       "      <td>189.37</td>\n",
       "    </tr>\n",
       "    <tr>\n",
       "      <th>충청남도</th>\n",
       "      <td>-1.90</td>\n",
       "      <td>13.90</td>\n",
       "      <td>-20.80</td>\n",
       "      <td>26.95</td>\n",
       "      <td>255.445</td>\n",
       "      <td>2.9</td>\n",
       "      <td>19.35</td>\n",
       "      <td>-10.20</td>\n",
       "      <td>15.30</td>\n",
       "      <td>343.280</td>\n",
       "      <td>...</td>\n",
       "      <td>7.95</td>\n",
       "      <td>21.85</td>\n",
       "      <td>-3.75</td>\n",
       "      <td>89.50</td>\n",
       "      <td>266.970</td>\n",
       "      <td>1.30</td>\n",
       "      <td>13.40</td>\n",
       "      <td>-12.55</td>\n",
       "      <td>11.55</td>\n",
       "      <td>230.85</td>\n",
       "    </tr>\n",
       "    <tr>\n",
       "      <th>충청북도</th>\n",
       "      <td>-3.10</td>\n",
       "      <td>13.30</td>\n",
       "      <td>-19.60</td>\n",
       "      <td>18.20</td>\n",
       "      <td>285.645</td>\n",
       "      <td>1.8</td>\n",
       "      <td>22.10</td>\n",
       "      <td>-11.90</td>\n",
       "      <td>12.30</td>\n",
       "      <td>359.560</td>\n",
       "      <td>...</td>\n",
       "      <td>6.40</td>\n",
       "      <td>19.90</td>\n",
       "      <td>-5.20</td>\n",
       "      <td>44.90</td>\n",
       "      <td>280.140</td>\n",
       "      <td>-0.10</td>\n",
       "      <td>12.60</td>\n",
       "      <td>-14.70</td>\n",
       "      <td>5.60</td>\n",
       "      <td>249.96</td>\n",
       "    </tr>\n",
       "  </tbody>\n",
       "</table>\n",
       "<p>374 rows × 60 columns</p>\n",
       "</div>"
      ],
      "text/plain": [
       "                   평균기온(°C)_1월  최고기온(°C)_1월  최저기온(°C)_1월  \\\n",
       "2000 spring 강원도          -2.90         8.50       -16.00   \n",
       "            경기도          -2.65        10.20       -15.00   \n",
       "            경상남도          1.40        13.20        -9.60   \n",
       "            경상북도         -0.30        10.70       -12.60   \n",
       "            광주광역시         1.00        15.30        -8.80   \n",
       "...                        ...          ...          ...   \n",
       "2021 spring 전라남도          1.70        16.15       -13.90   \n",
       "            전라북도         -0.40        14.30       -18.60   \n",
       "            제주도           6.85        17.85        -3.25   \n",
       "            충청남도         -1.90        13.90       -20.80   \n",
       "            충청북도         -3.10        13.30       -19.60   \n",
       "\n",
       "                   월합강수량(00~24h만)(mm)_1월  합계 일사량(MJ/m2)_1월  평균기온(°C)_2월  \\\n",
       "2000 spring 강원도                    48.10           152.990         -3.3   \n",
       "            경기도                    52.20           202.280         -2.3   \n",
       "            경상남도                   21.90           173.530          1.2   \n",
       "            경상북도                   29.20           167.555          0.2   \n",
       "            광주광역시                  33.70           176.490          0.6   \n",
       "...                                  ...               ...          ...   \n",
       "2021 spring 전라남도                   33.30           275.670          5.2   \n",
       "            전라북도                   36.00           274.140          3.7   \n",
       "            제주도                    82.85           218.455          9.2   \n",
       "            충청남도                   26.95           255.445          2.9   \n",
       "            충청북도                   18.20           285.645          1.8   \n",
       "\n",
       "                   최고기온(°C)_2월  최저기온(°C)_2월  월합강수량(00~24h만)(mm)_2월  \\\n",
       "2000 spring 강원도           7.70       -15.80                   5.70   \n",
       "            경기도           8.30       -15.05                   1.55   \n",
       "            경상남도         13.50        -9.70                   0.00   \n",
       "            경상북도         10.40       -12.90                   0.00   \n",
       "            광주광역시        12.40        -7.60                  15.40   \n",
       "...                        ...          ...                    ...   \n",
       "2021 spring 전라남도         21.65        -5.40                  33.40   \n",
       "            전라북도         21.90        -7.60                  33.00   \n",
       "            제주도          22.95        -2.30                  52.00   \n",
       "            충청남도         19.35       -10.20                  15.30   \n",
       "            충청북도         22.10       -11.90                  12.30   \n",
       "\n",
       "                   합계 일사량(MJ/m2)_2월  ...  평균기온(°C)_11월  최고기온(°C)_11월  \\\n",
       "2000 spring 강원도             329.070  ...          4.10         20.30   \n",
       "            경기도             317.510  ...          4.70         20.75   \n",
       "            경상남도            360.910  ...          7.90         21.60   \n",
       "            경상북도            398.050  ...          6.40         20.70   \n",
       "            광주광역시           366.470  ...          8.40         22.10   \n",
       "...                             ...  ...           ...           ...   \n",
       "2021 spring 전라남도            325.740  ...          9.95         21.95   \n",
       "            전라북도            337.560  ...          8.90         22.60   \n",
       "            제주도             309.905  ...         14.05         22.50   \n",
       "            충청남도            343.280  ...          7.95         21.85   \n",
       "            충청북도            359.560  ...          6.40         19.90   \n",
       "\n",
       "                   최저기온(°C)_11월  월합강수량(00~24h만)(mm)_11월  합계 일사량(MJ/m2)_11월  \\\n",
       "2000 spring 강원도           -8.40                   30.20            231.670   \n",
       "            경기도           -7.90                   25.00            262.150   \n",
       "            경상남도          -4.20                   56.00            301.480   \n",
       "            경상북도          -6.90                   51.50            229.380   \n",
       "            광주광역시         -3.00                   53.80            295.020   \n",
       "...                         ...                     ...                ...   \n",
       "2021 spring 전라남도          -1.45                   51.95            302.590   \n",
       "            전라북도          -2.80                   86.40            280.285   \n",
       "            제주도            6.60                   59.40            279.035   \n",
       "            충청남도          -3.75                   89.50            266.970   \n",
       "            충청북도          -5.20                   44.90            280.140   \n",
       "\n",
       "                   평균기온(°C)_12월  최고기온(°C)_12월  최저기온(°C)_12월  \\\n",
       "2000 spring 강원도           -1.40         12.50        -14.90   \n",
       "            경기도           -0.55         13.25        -12.90   \n",
       "            경상남도           2.00         16.10         -8.30   \n",
       "            경상북도           0.40         14.80        -11.20   \n",
       "            광주광역시          3.20         16.70         -6.60   \n",
       "...                         ...           ...           ...   \n",
       "2021 spring 전라남도           4.05         15.75         -8.70   \n",
       "            전라북도           2.80         14.30        -10.70   \n",
       "            제주도            9.05         18.25         -0.80   \n",
       "            충청남도           1.30         13.40        -12.55   \n",
       "            충청북도          -0.10         12.60        -14.70   \n",
       "\n",
       "                   월합강수량(00~24h만)(mm)_12월  합계 일사량(MJ/m2)_12월  \n",
       "2000 spring 강원도                     16.90             234.16  \n",
       "            경기도                     24.10             248.43  \n",
       "            경상남도                     2.50             287.57  \n",
       "            경상북도                     4.90             235.80  \n",
       "            광주광역시                    6.40             294.42  \n",
       "...                                   ...                ...  \n",
       "2021 spring 전라남도                     4.00             272.30  \n",
       "            전라북도                     9.50             250.05  \n",
       "            제주도                     24.30             189.37  \n",
       "            충청남도                    11.55             230.85  \n",
       "            충청북도                     5.60             249.96  \n",
       "\n",
       "[374 rows x 60 columns]"
      ]
     },
     "execution_count": 146,
     "metadata": {},
     "output_type": "execute_result"
    }
   ],
   "source": [
    "wanna_frame_spring"
   ]
  }
 ],
 "metadata": {
  "kernelspec": {
   "display_name": "Python 3 (ipykernel)",
   "language": "python",
   "name": "python3"
  },
  "language_info": {
   "codemirror_mode": {
    "name": "ipython",
    "version": 3
   },
   "file_extension": ".py",
   "mimetype": "text/x-python",
   "name": "python",
   "nbconvert_exporter": "python",
   "pygments_lexer": "ipython3",
   "version": "3.9.12"
  },
  "vscode": {
   "interpreter": {
    "hash": "de11d0c16539acdfeb0e501d4eda7b58b0438a2781c2c1df7ab38defdddf0dd6"
   }
  }
 },
 "nbformat": 4,
 "nbformat_minor": 5
}
