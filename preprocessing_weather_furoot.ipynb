{
 "cells": [
  {
   "cell_type": "code",
   "execution_count": 99,
   "id": "f843f4e4",
   "metadata": {},
   "outputs": [],
   "source": [
    "import pandas as pd\n",
    "import numpy as np\n",
    "import datetime\n",
    "import math\n",
    "from copy import deepcopy\n",
    "\n",
    "Path = \"G:/.shortcut-targets-by-id/1sZS2kL5L66960IYJ4xfNEV9CuKrs_7fE/1조/RAW DATA\""
   ]
  },
  {
   "cell_type": "code",
   "execution_count": 100,
   "id": "1926a1fd",
   "metadata": {},
   "outputs": [],
   "source": [
    "# df = pd.read_csv(Path+\"/월별기상관측(2000.01-2021.12).csv\",encoding=\"cp949\")\n",
    "# df.insert(1,'행정구역',object)\n",
    "\n",
    "# df.to_csv(Path+\"/수정_월별기상관측.csv\")"
   ]
  },
  {
   "cell_type": "code",
   "execution_count": 101,
   "id": "891f2954",
   "metadata": {},
   "outputs": [],
   "source": [
    "# df = pd.read_csv(Path+\"/수정_월별기상관측.csv\")\n",
    "# # df.head()\n",
    "\n",
    "# # 기상 측정소 위치 라벨링\n",
    "# df.loc[df['지점명']=='서울', '행정구역'] = '서울특별시'\n",
    "# df.loc[df['지점명']=='무안', '행정구역'] = '전라남도'\n",
    "# df.loc[df['지점명']=='진도(첨찰산)', '행정구역'] = '전라남도'\n",
    "# df.loc[df['지점명']=='대구(기)', '행정구역'] = '대구광역시'\n",
    "# df.loc[df['지점명']=='주암', '행정구역'] = '전라남도'\n",
    "# df.loc[df['지점명']=='성산포', '행정구역'] = '제주도'"
   ]
  },
  {
   "cell_type": "code",
   "execution_count": 102,
   "id": "6f62c4dd",
   "metadata": {},
   "outputs": [],
   "source": [
    "# df_new[df_new[\"행정구역\"]==\"<class 'object'>\"][\"지점명\"].unique()\n",
    "# df.loc[df['지점명']=='주암']\n",
    "# df.to_csv(Path+\"/최종_월별기상관측.csv\",encoding=\"cp949\")"
   ]
  },
  {
   "cell_type": "code",
   "execution_count": 103,
   "id": "6d2e203d",
   "metadata": {},
   "outputs": [],
   "source": [
    "#1. 최대일사량 결측치 처리: 동일년도+동일월+동일 행정구역 데이터의 중앙값으로 대체 ex)강원도의 철원지역 결측치 2021년 1월 강원도의 최대일사량\n",
    "#    (1) 세종시 : 기간 2000년 01월~2019년 04월 충청북도 최대일사량 중앙값으로 대체\n",
    " "
   ]
  },
  {
   "cell_type": "code",
   "execution_count": 104,
   "id": "1acb9c42",
   "metadata": {},
   "outputs": [],
   "source": [
    "# df = pd.read_csv(Path+\"/최종_월별기상관측.csv\",encoding=\"cp949\")"
   ]
  },
  {
   "cell_type": "code",
   "execution_count": 105,
   "id": "9f0e7d49",
   "metadata": {},
   "outputs": [],
   "source": [
    "# df.drop(df.columns[:2],axis=1,inplace=True)   # 0,1번째 컬럼 drop\n",
    "# # df.head()"
   ]
  },
  {
   "cell_type": "code",
   "execution_count": 106,
   "id": "3cd1a4f3",
   "metadata": {},
   "outputs": [],
   "source": [
    "# 필요 컬럼만 추출('행정구역', \"지점명\", '일시', '평균기온(°C)', '최고기온(°C)', '최저기온(°C)', '월합강수량(00~24h만)(mm)', '합계 일사량(MJ/m2)')\n",
    "# df_new=df[['행정구역', \"지점명\", '일시', '평균기온(°C)', '최고기온(°C)', '최저기온(°C)', '월합강수량(00~24h만)(mm)', '합계 일사량(MJ/m2)']]"
   ]
  },
  {
   "cell_type": "code",
   "execution_count": 107,
   "id": "f9919621",
   "metadata": {},
   "outputs": [],
   "source": [
    "# df_ulsan = df_new[df_new[\"행정구역\"]==\"울산광역시\"][[\"행정구역\", \"합계 일사량(MJ/m2)\"]]\n",
    "\n",
    "# print(len(df_ulsan))\n",
    "# print(df_ulsan[\"합계 일사량(MJ/m2)\"].isnull().sum())\n",
    "\n",
    "# 울산광역시의 일사량은 전부 NaN 값"
   ]
  },
  {
   "cell_type": "code",
   "execution_count": 108,
   "id": "c2613ae3",
   "metadata": {},
   "outputs": [],
   "source": [
    "# df_new[\"합계 일사량(MJ/m2)\"].replace(0.0, np.nan, inplace=True)   # 일사량 0.0을 전부 NaN으로 변경"
   ]
  },
  {
   "cell_type": "code",
   "execution_count": 109,
   "id": "43a7b42c",
   "metadata": {},
   "outputs": [],
   "source": [
    "# df_new[df_new[\"합계 일사량(MJ/m2)\"]==0.0][\"합계 일사량(MJ/m2)\"]"
   ]
  },
  {
   "cell_type": "code",
   "execution_count": 110,
   "id": "c0871ed9",
   "metadata": {},
   "outputs": [],
   "source": [
    "# 일시와 행정구역에 따른 합계 일사량 중앙값\n",
    "# sunshine = pd.pivot_table(df_new, index=\"일시\", columns=\"행정구역\", values=\"합계 일사량(MJ/m2)\",aggfunc=\"median\")"
   ]
  },
  {
   "cell_type": "code",
   "execution_count": 111,
   "id": "e29295e0",
   "metadata": {},
   "outputs": [],
   "source": [
    "# sunshine.interpolate(inplace=True)  # 부산광역시 18년도 8월 결측치를 앞뒤 값으로 보간"
   ]
  },
  {
   "cell_type": "code",
   "execution_count": 112,
   "id": "9fcaa5f9",
   "metadata": {},
   "outputs": [],
   "source": [
    "# df2 = df_new"
   ]
  },
  {
   "cell_type": "code",
   "execution_count": 113,
   "id": "c8594206",
   "metadata": {
    "scrolled": true
   },
   "outputs": [],
   "source": [
    "# df[\"합계 일사량(MJ/m2)\"].fillna()\n",
    "# for i in range(len(df2)) : \n",
    "#     dt = df2.loc[i,\"일시\"]\n",
    "#     dstr = df2.loc[i,\"행정구역\"]\n",
    "# #     print(dt)\n",
    "# #     print(dstr)\n",
    "#     if np.isnan(df2.loc[i,\"합계 일사량(MJ/m2)\"]) :  # 일사량이 NaN일 때\n",
    "#         if df2.loc[i,\"행정구역\"] == \"세종특별자치시\" :       # 행정구역이 세종시라면\n",
    "#             df2.loc[i,\"합계 일사량(MJ/m2)\"] = sunshine[\"충청북도\"][dt]     # 동일 일시의 충청북도 중앙값을 채움\n",
    "#         elif df2.loc[i,\"행정구역\"] == \"울산광역시\" :        # 행정구역이 울산광역시라면\n",
    "#             df2.loc[i,\"합계 일사량(MJ/m2)\"] = sunshine[\"경상남도\"][dt]     # 동일 일시의 경상남도 중앙값을 채움\n",
    "#         else : \n",
    "#             df2.loc[i,\"합계 일사량(MJ/m2)\"] = sunshine[dstr][dt]   # 동일 일시, 동일 행정 구역의 중앙값을 채움\n",
    "\n",
    "# # pd.pivot_table(df2, index=\"일시\", columns=\"행정구역\", values=\"합계 일사량(MJ/m2)\",aggfunc=\"median\")"
   ]
  },
  {
   "cell_type": "code",
   "execution_count": 114,
   "id": "e9140f79",
   "metadata": {},
   "outputs": [],
   "source": [
    "# df2[df2[\"행정구역\"]==\"세종특별자치시\"][[\"일시\",\"합계 일사량(MJ/m2)\"]]"
   ]
  },
  {
   "cell_type": "code",
   "execution_count": 115,
   "id": "a2d344ae",
   "metadata": {},
   "outputs": [],
   "source": [
    "# df2[df2[\"행정구역\"]==\"충청북도\"][[\"일시\",\"합계 일사량(MJ/m2)\"]]"
   ]
  },
  {
   "cell_type": "code",
   "execution_count": 116,
   "id": "333b87d3",
   "metadata": {},
   "outputs": [],
   "source": [
    "# df2[df2[\"합계 일사량(MJ/m2)\"].isnull()]\n",
    "# [\"울산광역시\", \"세종특별자치시\"]"
   ]
  },
  {
   "cell_type": "code",
   "execution_count": 117,
   "id": "0e921501",
   "metadata": {},
   "outputs": [],
   "source": [
    "# avr_tem = pd.pivot_table(df_new, index=\"일시\", columns=\"행정구역\", values=\"평균기온(°C)\",aggfunc=\"median\")"
   ]
  },
  {
   "cell_type": "code",
   "execution_count": 118,
   "id": "a7d9cc65",
   "metadata": {},
   "outputs": [],
   "source": [
    "# high_tem = pd.pivot_table(df_new, index=\"일시\", columns=\"행정구역\", values=\"최고기온(°C)\",aggfunc=\"median\")"
   ]
  },
  {
   "cell_type": "code",
   "execution_count": 119,
   "id": "58a1f9c9",
   "metadata": {},
   "outputs": [],
   "source": [
    "# low_tem = pd.pivot_table(df_new, index=\"일시\", columns=\"행정구역\", values=\"최저기온(°C)\",aggfunc=\"median\")"
   ]
  },
  {
   "cell_type": "code",
   "execution_count": 120,
   "id": "ea68e490",
   "metadata": {},
   "outputs": [],
   "source": [
    "# df2.info()"
   ]
  },
  {
   "cell_type": "code",
   "execution_count": 121,
   "id": "dcd98ae4",
   "metadata": {},
   "outputs": [],
   "source": [
    "# def fill_tem(temperature, dataframe, pivot) : \n",
    "#     for i in range(len(dataframe)) : \n",
    "#         dt = dataframe.loc[i,\"일시\"]\n",
    "#         dstr = dataframe.loc[i,\"행정구역\"]\n",
    "\n",
    "#         if np.isnan(dataframe.loc[i,temperature]) :  # 기온 관련 컬럼값이 NaN일 때 \n",
    "#             dataframe.loc[i,temperature] = pivot[dstr][dt]   # 동일 일시, 동일 행정 구역의 중앙값을 채움\n",
    "    \n",
    "#     return dataframe"
   ]
  },
  {
   "cell_type": "code",
   "execution_count": 122,
   "id": "61a0b89c",
   "metadata": {},
   "outputs": [],
   "source": [
    "# df2 = fill_tem(\"최저기온(°C)\", df2, low_tem)\n",
    "# df2 = fill_tem(\"최고기온(°C)\", df2, high_tem)\n",
    "# df2 = fill_tem(\"평균기온(°C)\", df2, avr_tem)"
   ]
  },
  {
   "cell_type": "code",
   "execution_count": 123,
   "id": "b7542281",
   "metadata": {},
   "outputs": [],
   "source": [
    "# df2_tst[df2_tst[\"평균기온(°C)\"].isnull()]"
   ]
  },
  {
   "cell_type": "code",
   "execution_count": 124,
   "id": "f51b0cba",
   "metadata": {},
   "outputs": [],
   "source": [
    "# df2['평균기온(°C)'] = df2['평균기온(°C)'].fillna(value=avr_tem[\"충청북도\"][\"2019-05\"])"
   ]
  },
  {
   "cell_type": "code",
   "execution_count": 125,
   "id": "8b56b396",
   "metadata": {},
   "outputs": [],
   "source": [
    "# df2.info()"
   ]
  },
  {
   "cell_type": "code",
   "execution_count": 126,
   "id": "352f0c57",
   "metadata": {},
   "outputs": [],
   "source": [
    "# df2[df2[\"행정구역\"]==\"세종특별자치시\"][[\"일시\",\"합계 일사량(MJ/m2)\"]]"
   ]
  },
  {
   "cell_type": "code",
   "execution_count": 127,
   "id": "510b7533",
   "metadata": {},
   "outputs": [],
   "source": [
    "# df2[df2[\"행정구역\"]==\"충청북도\"][[\"일시\",\"합계 일사량(MJ/m2)\"]]"
   ]
  },
  {
   "cell_type": "code",
   "execution_count": 128,
   "id": "f5d10f93",
   "metadata": {},
   "outputs": [],
   "source": [
    "# df2_test=pd.pivot_table(df2, index=\"일시\", columns=\"행정구역\", values=\"합계 일사량(MJ/m2)\",aggfunc=\"median\")"
   ]
  },
  {
   "cell_type": "code",
   "execution_count": 129,
   "id": "a5801915",
   "metadata": {},
   "outputs": [],
   "source": [
    "# df2_test"
   ]
  },
  {
   "cell_type": "code",
   "execution_count": 130,
   "id": "a58ada03",
   "metadata": {},
   "outputs": [],
   "source": [
    "# chch_copy = df2[df2['행정구역']=='충청북도']\n",
    "# chch_copy"
   ]
  },
  {
   "cell_type": "code",
   "execution_count": 131,
   "id": "1feb4a6b",
   "metadata": {},
   "outputs": [],
   "source": [
    "# chch_median = chch_copy.groupby(\"일시\").median()"
   ]
  },
  {
   "cell_type": "code",
   "execution_count": 132,
   "id": "30d28e4c",
   "metadata": {},
   "outputs": [],
   "source": [
    "# chch_median.insert(0,column=\"행정구역\", value=\"세종특별자치시\")\n",
    "# chch_median.insert(1,column=\"지점명\", value=\"세종\")\n",
    "# # chch_median"
   ]
  },
  {
   "cell_type": "code",
   "execution_count": 133,
   "id": "3df1a9a1",
   "metadata": {},
   "outputs": [],
   "source": [
    "# chch_median.reset_index(inplace=True)\n",
    "# chch_median"
   ]
  },
  {
   "cell_type": "code",
   "execution_count": 134,
   "id": "75cc62ed",
   "metadata": {},
   "outputs": [],
   "source": [
    "# chch_median.insert(3,column=\"일시\",value=chch_median[\"일시\"])\n",
    "# chch_median\n",
    "# chch_median.columns"
   ]
  },
  {
   "cell_type": "code",
   "execution_count": 135,
   "id": "ece7bbc2",
   "metadata": {},
   "outputs": [],
   "source": [
    "# chch_median = chch_median[['행정구역', '지점명', '일시', '평균기온(°C)', '최고기온(°C)', '최저기온(°C)','월합강수량(00~24h만)(mm)', '합계 일사량(MJ/m2)']]\n",
    "# chch_median"
   ]
  },
  {
   "cell_type": "code",
   "execution_count": 136,
   "id": "77f5c234",
   "metadata": {},
   "outputs": [],
   "source": [
    "# idx_chch = chch_median[chch_median[\"일시\"]==\"2019-05\"].index[0]\n",
    "# idx_chch"
   ]
  },
  {
   "cell_type": "code",
   "execution_count": 137,
   "id": "4d548b6d",
   "metadata": {},
   "outputs": [],
   "source": [
    "# chch_bef_201905 = chch_median.iloc[:idx_chch,:]\n",
    "# # chch_bef_201905"
   ]
  },
  {
   "cell_type": "code",
   "execution_count": 138,
   "id": "cadd7f7f",
   "metadata": {},
   "outputs": [],
   "source": [
    "# df2[df2[\"행정구역\"]==\"세종특별자치시\"]"
   ]
  },
  {
   "cell_type": "code",
   "execution_count": 139,
   "id": "2b7f0a8f",
   "metadata": {},
   "outputs": [],
   "source": [
    "# new_df = pd.concat([df2.iloc[:14984],chch_bef_201905,df2.iloc[14984:]])\n",
    "# # new_df"
   ]
  },
  {
   "cell_type": "code",
   "execution_count": 140,
   "id": "80d4466a",
   "metadata": {},
   "outputs": [],
   "source": [
    "# new_df[new_df[\"행정구역\"]==\"세종특별자치시\"]"
   ]
  },
  {
   "cell_type": "code",
   "execution_count": 141,
   "id": "69953c03",
   "metadata": {},
   "outputs": [],
   "source": [
    "# new_df.info()"
   ]
  },
  {
   "cell_type": "code",
   "execution_count": 142,
   "id": "3472e1b3",
   "metadata": {},
   "outputs": [],
   "source": [
    "# new_df[new_df['행정구역']=='세종특별자치시'].isnull().sum()"
   ]
  },
  {
   "cell_type": "code",
   "execution_count": 143,
   "id": "8f4dab83",
   "metadata": {},
   "outputs": [],
   "source": [
    "# new_df.fillna(0.0,inplace=True)\n",
    "# new_df.info()"
   ]
  },
  {
   "cell_type": "code",
   "execution_count": 144,
   "id": "bd5b8c23",
   "metadata": {},
   "outputs": [],
   "source": [
    "# new_df.to_csv(\"data/최종_최종__월별기상관측.csv\",encoding=\"cp949\")"
   ]
  },
  {
   "cell_type": "code",
   "execution_count": 145,
   "id": "ba3b4561",
   "metadata": {},
   "outputs": [],
   "source": [
    "# new_df.groupby([\"행정구역\", \"일시\"]).median()"
   ]
  },
  {
   "cell_type": "code",
   "execution_count": 146,
   "id": "a655effd",
   "metadata": {},
   "outputs": [
    {
     "name": "stdout",
     "output_type": "stream",
     "text": [
      "<class 'pandas.core.frame.DataFrame'>\n",
      "RangeIndex: 23078 entries, 0 to 23077\n",
      "Data columns (total 9 columns):\n",
      " #   Column              Non-Null Count  Dtype  \n",
      "---  ------              --------------  -----  \n",
      " 0   Unnamed: 0          23078 non-null  int64  \n",
      " 1   행정구역                23078 non-null  object \n",
      " 2   지점명                 23078 non-null  object \n",
      " 3   일시                  23078 non-null  object \n",
      " 4   평균기온(°C)            23078 non-null  float64\n",
      " 5   최고기온(°C)            23078 non-null  float64\n",
      " 6   최저기온(°C)            23078 non-null  float64\n",
      " 7   월합강수량(00~24h만)(mm)  23078 non-null  float64\n",
      " 8   합계 일사량(MJ/m2)       23078 non-null  float64\n",
      "dtypes: float64(5), int64(1), object(3)\n",
      "memory usage: 1.6+ MB\n"
     ]
    }
   ],
   "source": [
    "new_df = pd.read_csv(\"./data/최종_최종__월별기상관측.csv\", encoding=\"cp949\")\n",
    "new_df.info()"
   ]
  },
  {
   "cell_type": "code",
   "execution_count": 147,
   "id": "cd3a28ea",
   "metadata": {},
   "outputs": [],
   "source": [
    "new_df.drop(\"Unnamed: 0\", axis=1, inplace=True)  # 0번째 컬럼 drop\n",
    "# new_df.head(3)"
   ]
  },
  {
   "cell_type": "code",
   "execution_count": 148,
   "id": "95a1657a",
   "metadata": {},
   "outputs": [],
   "source": [
    "new_df[\"일시\"] = pd.to_datetime(new_df[\"일시\"])  # 일시를 datetime으로 변경\n",
    "# new_df.head()"
   ]
  },
  {
   "cell_type": "code",
   "execution_count": 149,
   "id": "ecd892d5",
   "metadata": {},
   "outputs": [],
   "source": [
    "new_df[\"연도\"] =  new_df[\"일시\"].dt.year   # 연도만 추출\n",
    "new_df[\"월\"] =  new_df[\"일시\"].dt.month    # 월만 추출\n",
    "# new_df.head(10)"
   ]
  },
  {
   "cell_type": "code",
   "execution_count": 150,
   "id": "12c299a0",
   "metadata": {},
   "outputs": [],
   "source": [
    "# new_df.columns"
   ]
  },
  {
   "cell_type": "code",
   "execution_count": 151,
   "id": "897bb55a",
   "metadata": {},
   "outputs": [],
   "source": [
    "# 컬럼 순서 변경\n",
    "new_df = new_df[['행정구역', '지점명', '연도', '월', '평균기온(°C)', '최고기온(°C)', '최저기온(°C)','월합강수량(00~24h만)(mm)', '합계 일사량(MJ/m2)']]\n",
    "# new_df.head(3)\n"
   ]
  },
  {
   "cell_type": "code",
   "execution_count": 152,
   "id": "9cf3162c",
   "metadata": {},
   "outputs": [],
   "source": [
    "# test = new_df.groupby([\"연도\",\"행정구역\",\"월\"]).median()[:24]"
   ]
  },
  {
   "cell_type": "code",
   "execution_count": 153,
   "id": "beba6699",
   "metadata": {},
   "outputs": [],
   "source": [
    "# test"
   ]
  },
  {
   "cell_type": "code",
   "execution_count": 154,
   "id": "87a0bbad",
   "metadata": {},
   "outputs": [],
   "source": [
    "# test2 = test.iloc[[0, 12]]\n",
    "# for i in range(1, int(len(test)/2)) : \n",
    "#     a = test.iloc[[i,i+12]]\n",
    "#     # print(a)\n",
    "#     test2 = pd.merge(left = test2, right = a, left_index = True, right_index = True, how = \"outer\")\n",
    "# test2"
   ]
  },
  {
   "cell_type": "code",
   "execution_count": 155,
   "id": "6e0b9c21",
   "metadata": {},
   "outputs": [],
   "source": [
    "# test2 = test.iloc[0]\n",
    "# for i in range(1, len(test)) : \n",
    "#     a = test.iloc[i]\n",
    "#     test2 = pd.merge(left = test2, right = a, left_index = True, right_index = True, how = \"outer\") \n",
    "# test2"
   ]
  },
  {
   "cell_type": "code",
   "execution_count": 156,
   "id": "2ac0212e",
   "metadata": {},
   "outputs": [],
   "source": [
    "# i = 0, j = 0, k = 0, new_col = 0 empty_frame.iloc[0,0] = test.iloc[0,0]\n",
    "#               k = 1, new_col = 1 empty_frame.iloc[0,1] = test.iloc[0,1]\n",
    "#               k = 2, new_col = 2 empty_frame.iloc[0,2] = test.iloc[0,2]\n",
    "#               k = 3, new_col = 3 empty_frame.iloc[0,3] = test.iloc[0,3]\n",
    "#               k = 4, new_col = 4 empty_frame.iloc[0,4] = test.iloc[0,4]\n",
    "# i = 1, j = 0, k = 0, new_col = 5 empty_frame.iloc[0,5] = test.iloc[1,0]\n",
    "#               k = 1, new_col = 6 empty_frame.iloc[0,6] = test.iloc[1,1]\n",
    "#               k = 2, new_col = 7 empty_frame.iloc[0,7] = test.iloc[1,2]\n",
    "#               k = 3, new_col = 8 empty_frame.iloc[0,8] = test.iloc[1,3]\n",
    "#               k = 4, new_col = 9 empty_frame.iloc[0,9] = test.iloc[1,4]\n",
    "# i = 12, j = 1, k = 0, new_col = 60 empty_frame.iloc[0,5] = test.iloc[1,0]\n",
    "#               k = 1, new_col = 6 empty_frame.iloc[0,6] = test.iloc[1,1]\n",
    "#               k = 2, new_col = 7 empty_frame.iloc[0,7] = test.iloc[1,2]\n",
    "#               k = 3, new_col = 8 empty_frame.iloc[0,8] = test.iloc[1,3]\n",
    "#               k = 4, new_col = 9 empty_frame.iloc[0,9] = test.iloc[1,4]"
   ]
  },
  {
   "cell_type": "code",
   "execution_count": 157,
   "id": "4db83027",
   "metadata": {},
   "outputs": [],
   "source": [
    "real_test = new_df.groupby([\"연도\",\"행정구역\",\"월\"]).median() # 연도, 행정구역, 월별로 group화"
   ]
  },
  {
   "cell_type": "code",
   "execution_count": 158,
   "id": "130f5f67",
   "metadata": {},
   "outputs": [],
   "source": [
    "empty_array = np.empty((int(len(real_test)/12),60))   # (4488/12, 60)의 구조를 가지는 빈 행렬을 생성\n",
    "empty_array[:] = np.nan\n",
    "empty_frame = pd.DataFrame(empty_array)\n",
    "\n",
    "cname = []\n",
    "for i in range(1,13) : \n",
    "    L = ['평균기온(°C)', '최고기온(°C)', '최저기온(°C)','월합강수량(00~24h만)(mm)', '합계 일사량(MJ/m2)']\n",
    "    for elem in L : \n",
    "        word = elem + \"_{}월\".format(i)  # 각 컬럼명에 1월부터 12월까지 붙여줌\n",
    "        cname.append(word)\n",
    "\n",
    "empty_frame.columns = cname   # 변수에 월수가 붙은 리스트를 컬럼명으로 대체"
   ]
  },
  {
   "cell_type": "code",
   "execution_count": 159,
   "id": "f26e06d4",
   "metadata": {},
   "outputs": [],
   "source": [
    "# cname"
   ]
  },
  {
   "cell_type": "code",
   "execution_count": 160,
   "id": "0a4c15b3",
   "metadata": {},
   "outputs": [],
   "source": [
    "for i in range(len(real_test)) : \n",
    "    j = math.floor(i/12)  # 각 행 인덱스를 12로 나눈 후 내림  >>>  0부터 11까지는 0으로, 12부터 23까지는 1로.....\n",
    "    remain = i%12  # 각 행 인덱스를 12로 나눈 나머지  >>> 0과 12, 24는 0으로, 1과 13 25는 1로......\n",
    "    for k in range(len(real_test.iloc[i])) : \n",
    "        new_col = (remain*5)+k      # remain이 0이면 new_col은 0부터 4까지, remain이 1이면 new_col은 5부터 9까지, remain이 11이면 new_col은 55부터 59까지, \n",
    "        empty_frame.iloc[j,new_col] = real_test.iloc[i,k]  # real_test의 데이터를 empty_frame에 삽입\n",
    "wanna_frame = empty_frame"
   ]
  },
  {
   "cell_type": "code",
   "execution_count": 161,
   "id": "fedf746d",
   "metadata": {},
   "outputs": [],
   "source": [
    "b = real_test.index   # groupby한 데이터 프레임의 인덱스를 저장\n",
    "a = [(b[i][0],b[i][1]) for i in range(len(b)) if i%12==0]   # 인덱스를 12로 나눈 후 나머지가 없는 행만 추출(연도는 같고 월만 다르기 때문에 그 중 처음만 가져온다)\n",
    "                                                            # 그 후 연도와 행정구역만 튜플로 저장"
   ]
  },
  {
   "cell_type": "code",
   "execution_count": 162,
   "id": "0794bc8b",
   "metadata": {},
   "outputs": [],
   "source": [
    "# len(a)"
   ]
  },
  {
   "cell_type": "code",
   "execution_count": 163,
   "id": "d9738c89",
   "metadata": {},
   "outputs": [],
   "source": [
    "new_index = pd.MultiIndex.from_tuples(a)  # 연도와 행정구역을 추출한 튜플 리스트를 멀티인덱스로 변환"
   ]
  },
  {
   "cell_type": "code",
   "execution_count": 164,
   "id": "1461e7bb",
   "metadata": {},
   "outputs": [],
   "source": [
    "wanna_frame.index = new_index\n",
    "# wanna_frame.head()"
   ]
  },
  {
   "cell_type": "code",
   "execution_count": 165,
   "id": "d39805a8",
   "metadata": {},
   "outputs": [],
   "source": [
    "# city 배열 생성\n",
    "city = [\"서울특별시\", \"부산광역시\", \"대구광역시\", \"인천광역시\", \"광주광역시\", \"대전광역시\", \"울산광역시\", \"세종특별자치시\", \"경기도\", \"강원도\", \"충청북도\", \"충청남도\", \"전라북도\", \"전라남도\", \"경상북도\", \"경상남도\", \"제주도\"]\n",
    "city_list= [\"seoul\", \"busan\", \"daegu\", \"incheon\", \"gwangju\", \"daejeon\", \"ulsan\", \"sejong\", \"gyeonggi\", \"gangwon\", \"chungbuk\", \"chungnam\", \"jeonbuk\", \"jeonnam\", \"gyeongbuk\", \"gyeongnam\", \"jeju\"]\n",
    "\n",
    "# season 배열 생성\n",
    "season = [\"spring\", \"summer\", \"fall\", \"winter\"]\n",
    "\n",
    "# .query()를 사용하여 계절별로 데이터 프레임 생성 \n",
    "\n",
    "# 지역별, 계절별 배추 생산량 csv 불러오기\n",
    "for i in range(len(city)):\n",
    "    for j in range(len(season)):\n",
    "        globals()[city_list[i] + \"_\" + season[j]] = pd.read_csv(\"./data/\"+city_list[i]+\"_\"+season[j]+\".csv\")\n",
    "        # globals()[city_list[i] + \"_\" + season[j]] = new_df[(new_df[\"행정구역\"]==city[i]) & (new_df[\"일시\"].isin(season_list[j]))]\n",
    "        # globals()[city_list[i] + \"_\" + season[j]].reset_index(drop=True, inplace=True)\n",
    "        # globals()[city_list[i] + \"_\" + season[j]] = globals()[city_list[i] + \"_\" + season[j]].drop([\"행정구역\"], axis=1)\n",
    "        # globals()[city_list[i] + \"_\" + season[j]] = globals()[city_list[i] + \"_\" + season[j]].rename(columns={\"지점명\": \"지역명\"})\n",
    "        # # 지역명 컬럼 삭제\n",
    "        # globals()[city_list[i] + \"_\" + season[j]] = globals()[city_list[i] + \"_\" + season[j]].drop([\"지역명\"], axis=1)\n",
    "        # # 일시 데이터를 년도로 변경\n",
    "        # globals()[city_list[i] + \"_\" + season[j]][\"일시\"] = globals()[city_list[i] + \"_\" + season[j]][\"일시\"].str[:4]\n",
    "        # # csv 파일로 저장\n",
    "        # globals()[city_list[i] + \"_\" + season[j]].to_csv(\"data/weather/\" + city_list[i] + \"_\" + season[j] + \".csv\", encoding=\"utf-8\", index=False)"
   ]
  },
  {
   "cell_type": "code",
   "execution_count": 166,
   "id": "de1c645a",
   "metadata": {},
   "outputs": [],
   "source": [
    "# seoul_fall_select"
   ]
  },
  {
   "cell_type": "code",
   "execution_count": 167,
   "id": "ec509ce5",
   "metadata": {},
   "outputs": [],
   "source": [
    "for i in range(len(city)):\n",
    "    for j in range(len(season)):\n",
    "        k_list = []\n",
    "        for k in range(len(globals()[city_list[i] + \"_\" + season[j]].iloc[0])) : \n",
    "            if k % 3 == 2 or k % 3 == 0 : \n",
    "                k_list.append(k)\n",
    "        \n",
    "        globals()[city_list[i] + \"_\" + season[j]+ \"_select\"] = globals()[city_list[i] + \"_\" + season[j]].iloc[:,k_list]"
   ]
  },
  {
   "cell_type": "code",
   "execution_count": 168,
   "id": "72ecb373",
   "metadata": {},
   "outputs": [],
   "source": [
    "year_list_spring = []\n",
    "for i in range(2000,2022) : \n",
    "    year_list_spring.append((i,\"일반봄배추:면적 (ha)\"))\n",
    "    for k in range(i,i+1) : \n",
    "        year_list_spring.append((k,\"생산량 (톤)\"))"
   ]
  },
  {
   "cell_type": "code",
   "execution_count": 169,
   "id": "f7b7b3b5",
   "metadata": {},
   "outputs": [],
   "source": [
    "year_list_summer = []\n",
    "for i in range(2000,2022) : \n",
    "    year_list_summer.append((i,\"고랭지배추:면적 (ha)\"))\n",
    "    for k in range(i,i+1) : \n",
    "        year_list_summer.append((k,\"생산량 (톤)\"))"
   ]
  },
  {
   "cell_type": "code",
   "execution_count": 170,
   "id": "4c0ce4c2",
   "metadata": {},
   "outputs": [],
   "source": [
    "year_list_fall = []\n",
    "for i in range(2000,2022) : \n",
    "    year_list_fall.append((i,\"노지가을배추:면적 (ha)\"))\n",
    "    for k in range(i,i+1) : \n",
    "        year_list_fall.append((k,\"생산량 (톤)\"))\n",
    "# year_list"
   ]
  },
  {
   "cell_type": "code",
   "execution_count": 171,
   "id": "6a6a7f8e",
   "metadata": {},
   "outputs": [],
   "source": [
    "year_list_winter = []\n",
    "for i in range(2014,2022) : \n",
    "    year_list_winter.append((i,\"노지겨울배추:면적 (ha)\"))\n",
    "    for k in range(i,i+1) : \n",
    "        year_list_winter.append((k,\"생산량 (톤)\"))"
   ]
  },
  {
   "cell_type": "code",
   "execution_count": 172,
   "id": "6e6509eb",
   "metadata": {},
   "outputs": [],
   "source": [
    "# year_list = [(i,i) for i in range(2000,2022)]\n",
    "# year_list"
   ]
  },
  {
   "cell_type": "code",
   "execution_count": 173,
   "id": "fc5bc303",
   "metadata": {},
   "outputs": [],
   "source": [
    "year_list_spring = pd.MultiIndex.from_tuples(year_list_spring)\n",
    "year_list_summer = pd.MultiIndex.from_tuples(year_list_summer)\n",
    "year_list_fall = pd.MultiIndex.from_tuples(year_list_fall)\n",
    "year_list_winter = pd.MultiIndex.from_tuples(year_list_winter)\n",
    "# year_list"
   ]
  },
  {
   "cell_type": "code",
   "execution_count": 174,
   "id": "329142b5",
   "metadata": {},
   "outputs": [],
   "source": [
    "# for i in range(len(city)):\n",
    "#     for j in range(len(season)):\n",
    "#         print(len(globals()[city_list[i] + \"_\" + season[j]+ \"_select\"].iloc[0]))"
   ]
  },
  {
   "cell_type": "code",
   "execution_count": 175,
   "id": "9befc578",
   "metadata": {},
   "outputs": [],
   "source": [
    "for i in range(len(city)):\n",
    "    for j in range(len(season)):\n",
    "        # if city[i] == \"세종특별자치시\"\n",
    "        globals()[city_list[i] + \"_\" + season[j]+ \"_select\"] = globals()[city_list[i] + \"_\" + season[j]+ \"_select\"].transpose()\n",
    "        globals()[city_list[i] + \"_\" + season[j]+ \"_select\"].index = globals()[\"year_list_\"+season[j]]\n",
    "        # globals()[city_list[i] + \"_\" + season[j]+ \"_select\"] = globals()[city_list[i] + \"_\" + season[j]+ \"_select\"].reindex(globals()[\"year_list_\"+season[j]])\n",
    "        # 겨울은 16개다\n"
   ]
  },
  {
   "cell_type": "code",
   "execution_count": 176,
   "id": "182310ec",
   "metadata": {},
   "outputs": [],
   "source": [
    "# jeonnam_winter_select.drop([0],axis=1).unstack().droplevel(0, axis=1)"
   ]
  },
  {
   "cell_type": "code",
   "execution_count": 177,
   "id": "0772009c",
   "metadata": {},
   "outputs": [],
   "source": [
    "for i in range(len(city)):\n",
    "    for j in range(len(season)):\n",
    "        globals()[city_list[i] + \"_\" + season[j]+ \"_select\"] = globals()[city_list[i] + \"_\" + season[j]+ \"_select\"].drop([0],axis=1).unstack().droplevel(0, axis=1)"
   ]
  },
  {
   "cell_type": "code",
   "execution_count": 178,
   "id": "952a6519",
   "metadata": {},
   "outputs": [],
   "source": [
    "for i in range(len(season)) : \n",
    "    wan_idx = wanna_frame.index  \n",
    "    globals()[\"idx_\"+season[i]] = [(wan_idx[j][0],season[i],wan_idx[j][1]) for j in range(len(wan_idx))]\n",
    "    globals()[\"idx_\"+season[i]] = pd.MultiIndex.from_tuples(globals()[\"idx_\"+season[i]])"
   ]
  },
  {
   "cell_type": "code",
   "execution_count": 179,
   "id": "7853e174",
   "metadata": {},
   "outputs": [],
   "source": [
    "for i in range(len(season)) : \n",
    "    globals()[\"wanna_frame_\"+season[i]] = deepcopy(wanna_frame)\n",
    "    globals()[\"wanna_frame_\"+season[i]].index = globals()[\"idx_\"+season[i]]"
   ]
  },
  {
   "cell_type": "code",
   "execution_count": 188,
   "id": "931d818f",
   "metadata": {},
   "outputs": [],
   "source": [
    "for i in range(len(season)) : \n",
    "    globals()[\"wanna_frame_\"+season[i]] = globals()[\"wanna_frame_\"+season[i]].swaplevel(0).sort_index(level=0)"
   ]
  },
  {
   "cell_type": "code",
   "execution_count": 181,
   "id": "6a9446c0",
   "metadata": {},
   "outputs": [],
   "source": [
    "# # wanna_frame = \n",
    "# wanna_frame = pd.concat([wanna_frame_spring, wanna_frame_summer, wanna_frame_fall, wanna_frame_winter], axis=0)"
   ]
  },
  {
   "cell_type": "code",
   "execution_count": 189,
   "id": "5535bf26",
   "metadata": {},
   "outputs": [
    {
     "data": {
      "text/html": [
       "<div>\n",
       "<style scoped>\n",
       "    .dataframe tbody tr th:only-of-type {\n",
       "        vertical-align: middle;\n",
       "    }\n",
       "\n",
       "    .dataframe tbody tr th {\n",
       "        vertical-align: top;\n",
       "    }\n",
       "\n",
       "    .dataframe thead th {\n",
       "        text-align: right;\n",
       "    }\n",
       "</style>\n",
       "<table border=\"1\" class=\"dataframe\">\n",
       "  <thead>\n",
       "    <tr style=\"text-align: right;\">\n",
       "      <th></th>\n",
       "      <th></th>\n",
       "      <th></th>\n",
       "      <th>평균기온(°C)_1월</th>\n",
       "      <th>최고기온(°C)_1월</th>\n",
       "      <th>최저기온(°C)_1월</th>\n",
       "      <th>월합강수량(00~24h만)(mm)_1월</th>\n",
       "      <th>합계 일사량(MJ/m2)_1월</th>\n",
       "      <th>평균기온(°C)_2월</th>\n",
       "      <th>최고기온(°C)_2월</th>\n",
       "      <th>최저기온(°C)_2월</th>\n",
       "      <th>월합강수량(00~24h만)(mm)_2월</th>\n",
       "      <th>합계 일사량(MJ/m2)_2월</th>\n",
       "      <th>...</th>\n",
       "      <th>평균기온(°C)_11월</th>\n",
       "      <th>최고기온(°C)_11월</th>\n",
       "      <th>최저기온(°C)_11월</th>\n",
       "      <th>월합강수량(00~24h만)(mm)_11월</th>\n",
       "      <th>합계 일사량(MJ/m2)_11월</th>\n",
       "      <th>평균기온(°C)_12월</th>\n",
       "      <th>최고기온(°C)_12월</th>\n",
       "      <th>최저기온(°C)_12월</th>\n",
       "      <th>월합강수량(00~24h만)(mm)_12월</th>\n",
       "      <th>합계 일사량(MJ/m2)_12월</th>\n",
       "    </tr>\n",
       "  </thead>\n",
       "  <tbody>\n",
       "    <tr>\n",
       "      <th rowspan=\"5\" valign=\"top\">강원도</th>\n",
       "      <th rowspan=\"5\" valign=\"top\">spring</th>\n",
       "      <th>2000</th>\n",
       "      <td>-2.9</td>\n",
       "      <td>8.5</td>\n",
       "      <td>-16.0</td>\n",
       "      <td>48.1</td>\n",
       "      <td>152.990</td>\n",
       "      <td>-3.3</td>\n",
       "      <td>7.7</td>\n",
       "      <td>-15.8</td>\n",
       "      <td>5.7</td>\n",
       "      <td>329.070</td>\n",
       "      <td>...</td>\n",
       "      <td>4.1</td>\n",
       "      <td>20.3</td>\n",
       "      <td>-8.4</td>\n",
       "      <td>30.2</td>\n",
       "      <td>231.670</td>\n",
       "      <td>-1.4</td>\n",
       "      <td>12.5</td>\n",
       "      <td>-14.9</td>\n",
       "      <td>16.9</td>\n",
       "      <td>234.160</td>\n",
       "    </tr>\n",
       "    <tr>\n",
       "      <th>2001</th>\n",
       "      <td>-6.1</td>\n",
       "      <td>7.3</td>\n",
       "      <td>-23.5</td>\n",
       "      <td>37.2</td>\n",
       "      <td>257.045</td>\n",
       "      <td>-2.2</td>\n",
       "      <td>13.5</td>\n",
       "      <td>-17.3</td>\n",
       "      <td>53.0</td>\n",
       "      <td>295.820</td>\n",
       "      <td>...</td>\n",
       "      <td>3.7</td>\n",
       "      <td>17.3</td>\n",
       "      <td>-7.4</td>\n",
       "      <td>15.5</td>\n",
       "      <td>269.430</td>\n",
       "      <td>-3.0</td>\n",
       "      <td>10.6</td>\n",
       "      <td>-13.7</td>\n",
       "      <td>18.5</td>\n",
       "      <td>256.155</td>\n",
       "    </tr>\n",
       "    <tr>\n",
       "      <th>2002</th>\n",
       "      <td>-2.8</td>\n",
       "      <td>10.6</td>\n",
       "      <td>-19.2</td>\n",
       "      <td>60.8</td>\n",
       "      <td>251.510</td>\n",
       "      <td>0.3</td>\n",
       "      <td>14.2</td>\n",
       "      <td>-11.4</td>\n",
       "      <td>2.0</td>\n",
       "      <td>316.840</td>\n",
       "      <td>...</td>\n",
       "      <td>1.8</td>\n",
       "      <td>18.0</td>\n",
       "      <td>-9.8</td>\n",
       "      <td>7.5</td>\n",
       "      <td>281.405</td>\n",
       "      <td>-1.3</td>\n",
       "      <td>16.0</td>\n",
       "      <td>-14.5</td>\n",
       "      <td>49.9</td>\n",
       "      <td>220.680</td>\n",
       "    </tr>\n",
       "    <tr>\n",
       "      <th>2003</th>\n",
       "      <td>-5.4</td>\n",
       "      <td>6.8</td>\n",
       "      <td>-20.0</td>\n",
       "      <td>23.7</td>\n",
       "      <td>260.055</td>\n",
       "      <td>-0.4</td>\n",
       "      <td>10.8</td>\n",
       "      <td>-12.9</td>\n",
       "      <td>48.6</td>\n",
       "      <td>277.980</td>\n",
       "      <td>...</td>\n",
       "      <td>7.2</td>\n",
       "      <td>22.0</td>\n",
       "      <td>-7.6</td>\n",
       "      <td>71.7</td>\n",
       "      <td>210.580</td>\n",
       "      <td>-1.5</td>\n",
       "      <td>12.5</td>\n",
       "      <td>-14.1</td>\n",
       "      <td>8.5</td>\n",
       "      <td>260.870</td>\n",
       "    </tr>\n",
       "    <tr>\n",
       "      <th>2004</th>\n",
       "      <td>-4.4</td>\n",
       "      <td>8.5</td>\n",
       "      <td>-18.3</td>\n",
       "      <td>11.1</td>\n",
       "      <td>294.320</td>\n",
       "      <td>0.1</td>\n",
       "      <td>18.7</td>\n",
       "      <td>-14.3</td>\n",
       "      <td>33.1</td>\n",
       "      <td>360.525</td>\n",
       "      <td>...</td>\n",
       "      <td>6.4</td>\n",
       "      <td>20.7</td>\n",
       "      <td>-4.9</td>\n",
       "      <td>39.5</td>\n",
       "      <td>267.470</td>\n",
       "      <td>-0.3</td>\n",
       "      <td>15.1</td>\n",
       "      <td>-13.0</td>\n",
       "      <td>20.5</td>\n",
       "      <td>254.615</td>\n",
       "    </tr>\n",
       "    <tr>\n",
       "      <th>...</th>\n",
       "      <th>...</th>\n",
       "      <th>...</th>\n",
       "      <td>...</td>\n",
       "      <td>...</td>\n",
       "      <td>...</td>\n",
       "      <td>...</td>\n",
       "      <td>...</td>\n",
       "      <td>...</td>\n",
       "      <td>...</td>\n",
       "      <td>...</td>\n",
       "      <td>...</td>\n",
       "      <td>...</td>\n",
       "      <td>...</td>\n",
       "      <td>...</td>\n",
       "      <td>...</td>\n",
       "      <td>...</td>\n",
       "      <td>...</td>\n",
       "      <td>...</td>\n",
       "      <td>...</td>\n",
       "      <td>...</td>\n",
       "      <td>...</td>\n",
       "      <td>...</td>\n",
       "      <td>...</td>\n",
       "    </tr>\n",
       "    <tr>\n",
       "      <th rowspan=\"5\" valign=\"top\">충청북도</th>\n",
       "      <th rowspan=\"5\" valign=\"top\">spring</th>\n",
       "      <th>2017</th>\n",
       "      <td>-2.5</td>\n",
       "      <td>12.8</td>\n",
       "      <td>-16.0</td>\n",
       "      <td>16.4</td>\n",
       "      <td>276.060</td>\n",
       "      <td>-0.2</td>\n",
       "      <td>13.8</td>\n",
       "      <td>-11.9</td>\n",
       "      <td>38.7</td>\n",
       "      <td>361.545</td>\n",
       "      <td>...</td>\n",
       "      <td>4.4</td>\n",
       "      <td>20.2</td>\n",
       "      <td>-7.7</td>\n",
       "      <td>17.2</td>\n",
       "      <td>290.585</td>\n",
       "      <td>-2.3</td>\n",
       "      <td>10.3</td>\n",
       "      <td>-14.5</td>\n",
       "      <td>25.5</td>\n",
       "      <td>248.975</td>\n",
       "    </tr>\n",
       "    <tr>\n",
       "      <th>2018</th>\n",
       "      <td>-4.3</td>\n",
       "      <td>8.8</td>\n",
       "      <td>-19.2</td>\n",
       "      <td>17.6</td>\n",
       "      <td>281.440</td>\n",
       "      <td>-2.4</td>\n",
       "      <td>13.0</td>\n",
       "      <td>-17.4</td>\n",
       "      <td>30.6</td>\n",
       "      <td>342.500</td>\n",
       "      <td>...</td>\n",
       "      <td>5.9</td>\n",
       "      <td>19.6</td>\n",
       "      <td>-5.6</td>\n",
       "      <td>50.0</td>\n",
       "      <td>281.060</td>\n",
       "      <td>-1.5</td>\n",
       "      <td>14.6</td>\n",
       "      <td>-14.8</td>\n",
       "      <td>30.0</td>\n",
       "      <td>261.265</td>\n",
       "    </tr>\n",
       "    <tr>\n",
       "      <th>2019</th>\n",
       "      <td>-2.2</td>\n",
       "      <td>8.6</td>\n",
       "      <td>-13.1</td>\n",
       "      <td>1.0</td>\n",
       "      <td>301.040</td>\n",
       "      <td>0.5</td>\n",
       "      <td>13.2</td>\n",
       "      <td>-11.6</td>\n",
       "      <td>29.0</td>\n",
       "      <td>340.155</td>\n",
       "      <td>...</td>\n",
       "      <td>6.6</td>\n",
       "      <td>20.9</td>\n",
       "      <td>-5.9</td>\n",
       "      <td>84.6</td>\n",
       "      <td>275.295</td>\n",
       "      <td>0.3</td>\n",
       "      <td>13.7</td>\n",
       "      <td>-11.0</td>\n",
       "      <td>27.2</td>\n",
       "      <td>242.825</td>\n",
       "    </tr>\n",
       "    <tr>\n",
       "      <th>2020</th>\n",
       "      <td>1.0</td>\n",
       "      <td>12.3</td>\n",
       "      <td>-9.7</td>\n",
       "      <td>68.1</td>\n",
       "      <td>239.400</td>\n",
       "      <td>1.8</td>\n",
       "      <td>15.6</td>\n",
       "      <td>-12.7</td>\n",
       "      <td>62.7</td>\n",
       "      <td>338.925</td>\n",
       "      <td>...</td>\n",
       "      <td>6.5</td>\n",
       "      <td>21.6</td>\n",
       "      <td>-5.5</td>\n",
       "      <td>37.0</td>\n",
       "      <td>290.085</td>\n",
       "      <td>-2.0</td>\n",
       "      <td>11.6</td>\n",
       "      <td>-17.0</td>\n",
       "      <td>5.6</td>\n",
       "      <td>267.930</td>\n",
       "    </tr>\n",
       "    <tr>\n",
       "      <th>2021</th>\n",
       "      <td>-3.1</td>\n",
       "      <td>13.3</td>\n",
       "      <td>-19.6</td>\n",
       "      <td>18.2</td>\n",
       "      <td>285.645</td>\n",
       "      <td>1.8</td>\n",
       "      <td>22.1</td>\n",
       "      <td>-11.9</td>\n",
       "      <td>12.3</td>\n",
       "      <td>359.560</td>\n",
       "      <td>...</td>\n",
       "      <td>6.4</td>\n",
       "      <td>19.9</td>\n",
       "      <td>-5.2</td>\n",
       "      <td>44.9</td>\n",
       "      <td>280.140</td>\n",
       "      <td>-0.1</td>\n",
       "      <td>12.6</td>\n",
       "      <td>-14.7</td>\n",
       "      <td>5.6</td>\n",
       "      <td>249.960</td>\n",
       "    </tr>\n",
       "  </tbody>\n",
       "</table>\n",
       "<p>374 rows × 60 columns</p>\n",
       "</div>"
      ],
      "text/plain": [
       "                  평균기온(°C)_1월  최고기온(°C)_1월  최저기온(°C)_1월  \\\n",
       "강원도  spring 2000         -2.9          8.5        -16.0   \n",
       "            2001         -6.1          7.3        -23.5   \n",
       "            2002         -2.8         10.6        -19.2   \n",
       "            2003         -5.4          6.8        -20.0   \n",
       "            2004         -4.4          8.5        -18.3   \n",
       "...                       ...          ...          ...   \n",
       "충청북도 spring 2017         -2.5         12.8        -16.0   \n",
       "            2018         -4.3          8.8        -19.2   \n",
       "            2019         -2.2          8.6        -13.1   \n",
       "            2020          1.0         12.3         -9.7   \n",
       "            2021         -3.1         13.3        -19.6   \n",
       "\n",
       "                  월합강수량(00~24h만)(mm)_1월  합계 일사량(MJ/m2)_1월  평균기온(°C)_2월  \\\n",
       "강원도  spring 2000                   48.1           152.990         -3.3   \n",
       "            2001                   37.2           257.045         -2.2   \n",
       "            2002                   60.8           251.510          0.3   \n",
       "            2003                   23.7           260.055         -0.4   \n",
       "            2004                   11.1           294.320          0.1   \n",
       "...                                 ...               ...          ...   \n",
       "충청북도 spring 2017                   16.4           276.060         -0.2   \n",
       "            2018                   17.6           281.440         -2.4   \n",
       "            2019                    1.0           301.040          0.5   \n",
       "            2020                   68.1           239.400          1.8   \n",
       "            2021                   18.2           285.645          1.8   \n",
       "\n",
       "                  최고기온(°C)_2월  최저기온(°C)_2월  월합강수량(00~24h만)(mm)_2월  \\\n",
       "강원도  spring 2000          7.7        -15.8                    5.7   \n",
       "            2001         13.5        -17.3                   53.0   \n",
       "            2002         14.2        -11.4                    2.0   \n",
       "            2003         10.8        -12.9                   48.6   \n",
       "            2004         18.7        -14.3                   33.1   \n",
       "...                       ...          ...                    ...   \n",
       "충청북도 spring 2017         13.8        -11.9                   38.7   \n",
       "            2018         13.0        -17.4                   30.6   \n",
       "            2019         13.2        -11.6                   29.0   \n",
       "            2020         15.6        -12.7                   62.7   \n",
       "            2021         22.1        -11.9                   12.3   \n",
       "\n",
       "                  합계 일사량(MJ/m2)_2월  ...  평균기온(°C)_11월  최고기온(°C)_11월  \\\n",
       "강원도  spring 2000           329.070  ...           4.1          20.3   \n",
       "            2001           295.820  ...           3.7          17.3   \n",
       "            2002           316.840  ...           1.8          18.0   \n",
       "            2003           277.980  ...           7.2          22.0   \n",
       "            2004           360.525  ...           6.4          20.7   \n",
       "...                            ...  ...           ...           ...   \n",
       "충청북도 spring 2017           361.545  ...           4.4          20.2   \n",
       "            2018           342.500  ...           5.9          19.6   \n",
       "            2019           340.155  ...           6.6          20.9   \n",
       "            2020           338.925  ...           6.5          21.6   \n",
       "            2021           359.560  ...           6.4          19.9   \n",
       "\n",
       "                  최저기온(°C)_11월  월합강수량(00~24h만)(mm)_11월  합계 일사량(MJ/m2)_11월  \\\n",
       "강원도  spring 2000          -8.4                    30.2            231.670   \n",
       "            2001          -7.4                    15.5            269.430   \n",
       "            2002          -9.8                     7.5            281.405   \n",
       "            2003          -7.6                    71.7            210.580   \n",
       "            2004          -4.9                    39.5            267.470   \n",
       "...                        ...                     ...                ...   \n",
       "충청북도 spring 2017          -7.7                    17.2            290.585   \n",
       "            2018          -5.6                    50.0            281.060   \n",
       "            2019          -5.9                    84.6            275.295   \n",
       "            2020          -5.5                    37.0            290.085   \n",
       "            2021          -5.2                    44.9            280.140   \n",
       "\n",
       "                  평균기온(°C)_12월  최고기온(°C)_12월  최저기온(°C)_12월  \\\n",
       "강원도  spring 2000          -1.4          12.5         -14.9   \n",
       "            2001          -3.0          10.6         -13.7   \n",
       "            2002          -1.3          16.0         -14.5   \n",
       "            2003          -1.5          12.5         -14.1   \n",
       "            2004          -0.3          15.1         -13.0   \n",
       "...                        ...           ...           ...   \n",
       "충청북도 spring 2017          -2.3          10.3         -14.5   \n",
       "            2018          -1.5          14.6         -14.8   \n",
       "            2019           0.3          13.7         -11.0   \n",
       "            2020          -2.0          11.6         -17.0   \n",
       "            2021          -0.1          12.6         -14.7   \n",
       "\n",
       "                  월합강수량(00~24h만)(mm)_12월  합계 일사량(MJ/m2)_12월  \n",
       "강원도  spring 2000                    16.9            234.160  \n",
       "            2001                    18.5            256.155  \n",
       "            2002                    49.9            220.680  \n",
       "            2003                     8.5            260.870  \n",
       "            2004                    20.5            254.615  \n",
       "...                                  ...                ...  \n",
       "충청북도 spring 2017                    25.5            248.975  \n",
       "            2018                    30.0            261.265  \n",
       "            2019                    27.2            242.825  \n",
       "            2020                     5.6            267.930  \n",
       "            2021                     5.6            249.960  \n",
       "\n",
       "[374 rows x 60 columns]"
      ]
     },
     "execution_count": 189,
     "metadata": {},
     "output_type": "execute_result"
    }
   ],
   "source": [
    "wanna_frame_spring"
   ]
  },
  {
   "cell_type": "code",
   "execution_count": 190,
   "id": "fa9a47bc",
   "metadata": {},
   "outputs": [
    {
     "data": {
      "text/html": [
       "<div>\n",
       "<style scoped>\n",
       "    .dataframe tbody tr th:only-of-type {\n",
       "        vertical-align: middle;\n",
       "    }\n",
       "\n",
       "    .dataframe tbody tr th {\n",
       "        vertical-align: top;\n",
       "    }\n",
       "\n",
       "    .dataframe thead th {\n",
       "        text-align: right;\n",
       "    }\n",
       "</style>\n",
       "<table border=\"1\" class=\"dataframe\">\n",
       "  <thead>\n",
       "    <tr style=\"text-align: right;\">\n",
       "      <th></th>\n",
       "      <th>생산량 (톤)</th>\n",
       "      <th>일반봄배추:면적 (ha)</th>\n",
       "    </tr>\n",
       "  </thead>\n",
       "  <tbody>\n",
       "    <tr>\n",
       "      <th>2000</th>\n",
       "      <td>87619</td>\n",
       "      <td>2147</td>\n",
       "    </tr>\n",
       "    <tr>\n",
       "      <th>2001</th>\n",
       "      <td>83405</td>\n",
       "      <td>1983</td>\n",
       "    </tr>\n",
       "    <tr>\n",
       "      <th>2002</th>\n",
       "      <td>56908</td>\n",
       "      <td>1329</td>\n",
       "    </tr>\n",
       "    <tr>\n",
       "      <th>2003</th>\n",
       "      <td>82760</td>\n",
       "      <td>1735</td>\n",
       "    </tr>\n",
       "    <tr>\n",
       "      <th>2004</th>\n",
       "      <td>100486</td>\n",
       "      <td>2133</td>\n",
       "    </tr>\n",
       "    <tr>\n",
       "      <th>2005</th>\n",
       "      <td>42246</td>\n",
       "      <td>1377</td>\n",
       "    </tr>\n",
       "    <tr>\n",
       "      <th>2006</th>\n",
       "      <td>63958</td>\n",
       "      <td>1415</td>\n",
       "    </tr>\n",
       "    <tr>\n",
       "      <th>2007</th>\n",
       "      <td>43757</td>\n",
       "      <td>908</td>\n",
       "    </tr>\n",
       "    <tr>\n",
       "      <th>2008</th>\n",
       "      <td>44642</td>\n",
       "      <td>969</td>\n",
       "    </tr>\n",
       "    <tr>\n",
       "      <th>2009</th>\n",
       "      <td>38636</td>\n",
       "      <td>784</td>\n",
       "    </tr>\n",
       "    <tr>\n",
       "      <th>2010</th>\n",
       "      <td>27682</td>\n",
       "      <td>658</td>\n",
       "    </tr>\n",
       "    <tr>\n",
       "      <th>2011</th>\n",
       "      <td>50077</td>\n",
       "      <td>1091</td>\n",
       "    </tr>\n",
       "    <tr>\n",
       "      <th>2012</th>\n",
       "      <td>9060</td>\n",
       "      <td>223</td>\n",
       "    </tr>\n",
       "    <tr>\n",
       "      <th>2013</th>\n",
       "      <td>24115</td>\n",
       "      <td>562</td>\n",
       "    </tr>\n",
       "    <tr>\n",
       "      <th>2014</th>\n",
       "      <td>18627</td>\n",
       "      <td>452</td>\n",
       "    </tr>\n",
       "    <tr>\n",
       "      <th>2015</th>\n",
       "      <td>25506</td>\n",
       "      <td>652</td>\n",
       "    </tr>\n",
       "    <tr>\n",
       "      <th>2016</th>\n",
       "      <td>28872</td>\n",
       "      <td>600</td>\n",
       "    </tr>\n",
       "    <tr>\n",
       "      <th>2017</th>\n",
       "      <td>47271</td>\n",
       "      <td>842</td>\n",
       "    </tr>\n",
       "    <tr>\n",
       "      <th>2018</th>\n",
       "      <td>31063</td>\n",
       "      <td>646</td>\n",
       "    </tr>\n",
       "    <tr>\n",
       "      <th>2019</th>\n",
       "      <td>34473</td>\n",
       "      <td>689</td>\n",
       "    </tr>\n",
       "    <tr>\n",
       "      <th>2020</th>\n",
       "      <td>41637</td>\n",
       "      <td>840</td>\n",
       "    </tr>\n",
       "    <tr>\n",
       "      <th>2021</th>\n",
       "      <td>49258</td>\n",
       "      <td>953</td>\n",
       "    </tr>\n",
       "  </tbody>\n",
       "</table>\n",
       "</div>"
      ],
      "text/plain": [
       "     생산량 (톤) 일반봄배추:면적 (ha)\n",
       "2000   87619          2147\n",
       "2001   83405          1983\n",
       "2002   56908          1329\n",
       "2003   82760          1735\n",
       "2004  100486          2133\n",
       "2005   42246          1377\n",
       "2006   63958          1415\n",
       "2007   43757           908\n",
       "2008   44642           969\n",
       "2009   38636           784\n",
       "2010   27682           658\n",
       "2011   50077          1091\n",
       "2012    9060           223\n",
       "2013   24115           562\n",
       "2014   18627           452\n",
       "2015   25506           652\n",
       "2016   28872           600\n",
       "2017   47271           842\n",
       "2018   31063           646\n",
       "2019   34473           689\n",
       "2020   41637           840\n",
       "2021   49258           953"
      ]
     },
     "execution_count": 190,
     "metadata": {},
     "output_type": "execute_result"
    }
   ],
   "source": [
    "gangwon_spring_select"
   ]
  },
  {
   "cell_type": "code",
   "execution_count": 193,
   "id": "a2d402ca",
   "metadata": {},
   "outputs": [
    {
     "ename": "TypeError",
     "evalue": "unhashable type: 'list'",
     "output_type": "error",
     "traceback": [
      "\u001b[1;31m---------------------------------------------------------------------------\u001b[0m",
      "\u001b[1;31mTypeError\u001b[0m                                 Traceback (most recent call last)",
      "Cell \u001b[1;32mIn[193], line 1\u001b[0m\n\u001b[1;32m----> 1\u001b[0m new_city \u001b[39m=\u001b[39m {city:city_list}\n",
      "\u001b[1;31mTypeError\u001b[0m: unhashable type: 'list'"
     ]
    }
   ],
   "source": [
    "new_city = {city:city_list}"
   ]
  },
  {
   "cell_type": "code",
   "execution_count": null,
   "id": "3458fa41",
   "metadata": {},
   "outputs": [],
   "source": [
    "# city_list2 = []\n",
    "# for i in range(len(city)):\n",
    "#     for j in range(len(season)):\n",
    "#         city"
   ]
  }
 ],
 "metadata": {
  "kernelspec": {
   "display_name": "Python 3 (ipykernel)",
   "language": "python",
   "name": "python3"
  },
  "language_info": {
   "codemirror_mode": {
    "name": "ipython",
    "version": 3
   },
   "file_extension": ".py",
   "mimetype": "text/x-python",
   "name": "python",
   "nbconvert_exporter": "python",
   "pygments_lexer": "ipython3",
   "version": "3.9.12"
  },
  "vscode": {
   "interpreter": {
    "hash": "de11d0c16539acdfeb0e501d4eda7b58b0438a2781c2c1df7ab38defdddf0dd6"
   }
  }
 },
 "nbformat": 4,
 "nbformat_minor": 5
}
