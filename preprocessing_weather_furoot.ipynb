{
 "cells": [
  {
   "cell_type": "code",
   "execution_count": 984,
   "id": "f843f4e4",
   "metadata": {},
   "outputs": [],
   "source": [
    "import pandas as pd\n",
    "import numpy as np\n",
    "import datetime\n",
    "import math\n",
    "from copy import deepcopy\n",
    "\n",
    "Path = \"G:/.shortcut-targets-by-id/1sZS2kL5L66960IYJ4xfNEV9CuKrs_7fE/1조/RAW DATA\""
   ]
  },
  {
   "cell_type": "code",
   "execution_count": 985,
   "id": "1926a1fd",
   "metadata": {},
   "outputs": [],
   "source": [
    "# df = pd.read_csv(Path+\"/월별기상관측(2000.01-2021.12).csv\",encoding=\"cp949\")\n",
    "# df.insert(1,'행정구역',object)\n",
    "\n",
    "# df.to_csv(Path+\"/수정_월별기상관측.csv\")"
   ]
  },
  {
   "cell_type": "code",
   "execution_count": 986,
   "id": "891f2954",
   "metadata": {},
   "outputs": [],
   "source": [
    "# df = pd.read_csv(Path+\"/수정_월별기상관측.csv\")\n",
    "# # df.head()\n",
    "\n",
    "# # 기상 측정소 위치 라벨링\n",
    "# df.loc[df['지점명']=='서울', '행정구역'] = '서울특별시'\n",
    "# df.loc[df['지점명']=='무안', '행정구역'] = '전라남도'\n",
    "# df.loc[df['지점명']=='진도(첨찰산)', '행정구역'] = '전라남도'\n",
    "# df.loc[df['지점명']=='대구(기)', '행정구역'] = '대구광역시'\n",
    "# df.loc[df['지점명']=='주암', '행정구역'] = '전라남도'\n",
    "# df.loc[df['지점명']=='성산포', '행정구역'] = '제주도'"
   ]
  },
  {
   "cell_type": "code",
   "execution_count": 987,
   "id": "6f62c4dd",
   "metadata": {},
   "outputs": [],
   "source": [
    "# df_new[df_new[\"행정구역\"]==\"<class 'object'>\"][\"지점명\"].unique()\n",
    "# df.loc[df['지점명']=='주암']\n",
    "# df.to_csv(Path+\"/최종_월별기상관측.csv\",encoding=\"cp949\")"
   ]
  },
  {
   "cell_type": "code",
   "execution_count": 988,
   "id": "6d2e203d",
   "metadata": {},
   "outputs": [],
   "source": [
    "#1. 최대일사량 결측치 처리: 동일년도+동일월+동일 행정구역 데이터의 중앙값으로 대체 ex)강원도의 철원지역 결측치 2021년 1월 강원도의 최대일사량\n",
    "#    (1) 세종시 : 기간 2000년 01월~2019년 04월 충청북도 최대일사량 중앙값으로 대체\n",
    " "
   ]
  },
  {
   "cell_type": "code",
   "execution_count": 989,
   "id": "1acb9c42",
   "metadata": {},
   "outputs": [],
   "source": [
    "# df = pd.read_csv(Path+\"/최종_월별기상관측.csv\",encoding=\"cp949\")"
   ]
  },
  {
   "cell_type": "code",
   "execution_count": 990,
   "id": "9f0e7d49",
   "metadata": {},
   "outputs": [],
   "source": [
    "# df.drop(df.columns[:2],axis=1,inplace=True)   # 0,1번째 컬럼 drop\n",
    "# # df.head()"
   ]
  },
  {
   "cell_type": "code",
   "execution_count": 991,
   "id": "3cd1a4f3",
   "metadata": {},
   "outputs": [],
   "source": [
    "# 필요 컬럼만 추출('행정구역', \"지점명\", '일시', '평균기온(°C)', '최고기온(°C)', '최저기온(°C)', '월합강수량(00~24h만)(mm)', '합계 일사량(MJ/m2)')\n",
    "# df_new=df[['행정구역', \"지점명\", '일시', '평균기온(°C)', '최고기온(°C)', '최저기온(°C)', '월합강수량(00~24h만)(mm)', '합계 일사량(MJ/m2)']]"
   ]
  },
  {
   "cell_type": "code",
   "execution_count": 992,
   "id": "f9919621",
   "metadata": {},
   "outputs": [],
   "source": [
    "# df_ulsan = df_new[df_new[\"행정구역\"]==\"울산광역시\"][[\"행정구역\", \"합계 일사량(MJ/m2)\"]]\n",
    "\n",
    "# print(len(df_ulsan))\n",
    "# print(df_ulsan[\"합계 일사량(MJ/m2)\"].isnull().sum())\n",
    "\n",
    "# 울산광역시의 일사량은 전부 NaN 값"
   ]
  },
  {
   "cell_type": "code",
   "execution_count": 993,
   "id": "c2613ae3",
   "metadata": {},
   "outputs": [],
   "source": [
    "# df_new[\"합계 일사량(MJ/m2)\"].replace(0.0, np.nan, inplace=True)   # 일사량 0.0을 전부 NaN으로 변경"
   ]
  },
  {
   "cell_type": "code",
   "execution_count": 994,
   "id": "43a7b42c",
   "metadata": {},
   "outputs": [],
   "source": [
    "# df_new[df_new[\"합계 일사량(MJ/m2)\"]==0.0][\"합계 일사량(MJ/m2)\"]"
   ]
  },
  {
   "cell_type": "code",
   "execution_count": 995,
   "id": "c0871ed9",
   "metadata": {},
   "outputs": [],
   "source": [
    "# 일시와 행정구역에 따른 합계 일사량 중앙값\n",
    "# sunshine = pd.pivot_table(df_new, index=\"일시\", columns=\"행정구역\", values=\"합계 일사량(MJ/m2)\",aggfunc=\"median\")"
   ]
  },
  {
   "cell_type": "code",
   "execution_count": 996,
   "id": "e29295e0",
   "metadata": {},
   "outputs": [],
   "source": [
    "# sunshine.interpolate(inplace=True)  # 부산광역시 18년도 8월 결측치를 앞뒤 값으로 보간"
   ]
  },
  {
   "cell_type": "code",
   "execution_count": 997,
   "id": "9fcaa5f9",
   "metadata": {},
   "outputs": [],
   "source": [
    "# df2 = df_new"
   ]
  },
  {
   "cell_type": "code",
   "execution_count": 998,
   "id": "c8594206",
   "metadata": {
    "scrolled": true
   },
   "outputs": [],
   "source": [
    "# df[\"합계 일사량(MJ/m2)\"].fillna()\n",
    "# for i in range(len(df2)) : \n",
    "#     dt = df2.loc[i,\"일시\"]\n",
    "#     dstr = df2.loc[i,\"행정구역\"]\n",
    "# #     print(dt)\n",
    "# #     print(dstr)\n",
    "#     if np.isnan(df2.loc[i,\"합계 일사량(MJ/m2)\"]) :  # 일사량이 NaN일 때\n",
    "#         if df2.loc[i,\"행정구역\"] == \"세종특별자치시\" :       # 행정구역이 세종시라면\n",
    "#             df2.loc[i,\"합계 일사량(MJ/m2)\"] = sunshine[\"충청북도\"][dt]     # 동일 일시의 충청북도 중앙값을 채움\n",
    "#         elif df2.loc[i,\"행정구역\"] == \"울산광역시\" :        # 행정구역이 울산광역시라면\n",
    "#             df2.loc[i,\"합계 일사량(MJ/m2)\"] = sunshine[\"경상남도\"][dt]     # 동일 일시의 경상남도 중앙값을 채움\n",
    "#         else : \n",
    "#             df2.loc[i,\"합계 일사량(MJ/m2)\"] = sunshine[dstr][dt]   # 동일 일시, 동일 행정 구역의 중앙값을 채움\n",
    "\n",
    "# # pd.pivot_table(df2, index=\"일시\", columns=\"행정구역\", values=\"합계 일사량(MJ/m2)\",aggfunc=\"median\")"
   ]
  },
  {
   "cell_type": "code",
   "execution_count": 999,
   "id": "e9140f79",
   "metadata": {},
   "outputs": [],
   "source": [
    "# df2[df2[\"행정구역\"]==\"세종특별자치시\"][[\"일시\",\"합계 일사량(MJ/m2)\"]]"
   ]
  },
  {
   "cell_type": "code",
   "execution_count": 1000,
   "id": "a2d344ae",
   "metadata": {},
   "outputs": [],
   "source": [
    "# df2[df2[\"행정구역\"]==\"충청북도\"][[\"일시\",\"합계 일사량(MJ/m2)\"]]"
   ]
  },
  {
   "cell_type": "code",
   "execution_count": 1001,
   "id": "333b87d3",
   "metadata": {},
   "outputs": [],
   "source": [
    "# df2[df2[\"합계 일사량(MJ/m2)\"].isnull()]\n",
    "# [\"울산광역시\", \"세종특별자치시\"]"
   ]
  },
  {
   "cell_type": "code",
   "execution_count": 1002,
   "id": "0e921501",
   "metadata": {},
   "outputs": [],
   "source": [
    "# avr_tem = pd.pivot_table(df_new, index=\"일시\", columns=\"행정구역\", values=\"평균기온(°C)\",aggfunc=\"median\")"
   ]
  },
  {
   "cell_type": "code",
   "execution_count": 1003,
   "id": "a7d9cc65",
   "metadata": {},
   "outputs": [],
   "source": [
    "# high_tem = pd.pivot_table(df_new, index=\"일시\", columns=\"행정구역\", values=\"최고기온(°C)\",aggfunc=\"median\")"
   ]
  },
  {
   "cell_type": "code",
   "execution_count": 1004,
   "id": "58a1f9c9",
   "metadata": {},
   "outputs": [],
   "source": [
    "# low_tem = pd.pivot_table(df_new, index=\"일시\", columns=\"행정구역\", values=\"최저기온(°C)\",aggfunc=\"median\")"
   ]
  },
  {
   "cell_type": "code",
   "execution_count": 1005,
   "id": "ea68e490",
   "metadata": {},
   "outputs": [],
   "source": [
    "# df2.info()"
   ]
  },
  {
   "cell_type": "code",
   "execution_count": 1006,
   "id": "dcd98ae4",
   "metadata": {},
   "outputs": [],
   "source": [
    "# def fill_tem(temperature, dataframe, pivot) : \n",
    "#     for i in range(len(dataframe)) : \n",
    "#         dt = dataframe.loc[i,\"일시\"]\n",
    "#         dstr = dataframe.loc[i,\"행정구역\"]\n",
    "\n",
    "#         if np.isnan(dataframe.loc[i,temperature]) :  # 기온 관련 컬럼값이 NaN일 때 \n",
    "#             dataframe.loc[i,temperature] = pivot[dstr][dt]   # 동일 일시, 동일 행정 구역의 중앙값을 채움\n",
    "    \n",
    "#     return dataframe"
   ]
  },
  {
   "cell_type": "code",
   "execution_count": 1007,
   "id": "61a0b89c",
   "metadata": {},
   "outputs": [],
   "source": [
    "# df2 = fill_tem(\"최저기온(°C)\", df2, low_tem)\n",
    "# df2 = fill_tem(\"최고기온(°C)\", df2, high_tem)\n",
    "# df2 = fill_tem(\"평균기온(°C)\", df2, avr_tem)"
   ]
  },
  {
   "cell_type": "code",
   "execution_count": 1008,
   "id": "b7542281",
   "metadata": {},
   "outputs": [],
   "source": [
    "# df2_tst[df2_tst[\"평균기온(°C)\"].isnull()]"
   ]
  },
  {
   "cell_type": "code",
   "execution_count": 1009,
   "id": "f51b0cba",
   "metadata": {},
   "outputs": [],
   "source": [
    "# df2['평균기온(°C)'] = df2['평균기온(°C)'].fillna(value=avr_tem[\"충청북도\"][\"2019-05\"])"
   ]
  },
  {
   "cell_type": "code",
   "execution_count": 1010,
   "id": "8b56b396",
   "metadata": {},
   "outputs": [],
   "source": [
    "# df2.info()"
   ]
  },
  {
   "cell_type": "code",
   "execution_count": 1011,
   "id": "352f0c57",
   "metadata": {},
   "outputs": [],
   "source": [
    "# df2[df2[\"행정구역\"]==\"세종특별자치시\"][[\"일시\",\"합계 일사량(MJ/m2)\"]]"
   ]
  },
  {
   "cell_type": "code",
   "execution_count": 1012,
   "id": "510b7533",
   "metadata": {},
   "outputs": [],
   "source": [
    "# df2[df2[\"행정구역\"]==\"충청북도\"][[\"일시\",\"합계 일사량(MJ/m2)\"]]"
   ]
  },
  {
   "cell_type": "code",
   "execution_count": 1013,
   "id": "f5d10f93",
   "metadata": {},
   "outputs": [],
   "source": [
    "# df2_test=pd.pivot_table(df2, index=\"일시\", columns=\"행정구역\", values=\"합계 일사량(MJ/m2)\",aggfunc=\"median\")"
   ]
  },
  {
   "cell_type": "code",
   "execution_count": 1014,
   "id": "a5801915",
   "metadata": {},
   "outputs": [],
   "source": [
    "# df2_test"
   ]
  },
  {
   "cell_type": "code",
   "execution_count": 1015,
   "id": "a58ada03",
   "metadata": {},
   "outputs": [],
   "source": [
    "# chch_copy = df2[df2['행정구역']=='충청북도']\n",
    "# chch_copy"
   ]
  },
  {
   "cell_type": "code",
   "execution_count": 1016,
   "id": "1feb4a6b",
   "metadata": {},
   "outputs": [],
   "source": [
    "# chch_median = chch_copy.groupby(\"일시\").median()"
   ]
  },
  {
   "cell_type": "code",
   "execution_count": 1017,
   "id": "30d28e4c",
   "metadata": {},
   "outputs": [],
   "source": [
    "# chch_median.insert(0,column=\"행정구역\", value=\"세종특별자치시\")\n",
    "# chch_median.insert(1,column=\"지점명\", value=\"세종\")\n",
    "# # chch_median"
   ]
  },
  {
   "cell_type": "code",
   "execution_count": 1018,
   "id": "3df1a9a1",
   "metadata": {},
   "outputs": [],
   "source": [
    "# chch_median.reset_index(inplace=True)\n",
    "# chch_median"
   ]
  },
  {
   "cell_type": "code",
   "execution_count": 1019,
   "id": "75cc62ed",
   "metadata": {},
   "outputs": [],
   "source": [
    "# chch_median.insert(3,column=\"일시\",value=chch_median[\"일시\"])\n",
    "# chch_median\n",
    "# chch_median.columns"
   ]
  },
  {
   "cell_type": "code",
   "execution_count": 1020,
   "id": "ece7bbc2",
   "metadata": {},
   "outputs": [],
   "source": [
    "# chch_median = chch_median[['행정구역', '지점명', '일시', '평균기온(°C)', '최고기온(°C)', '최저기온(°C)','월합강수량(00~24h만)(mm)', '합계 일사량(MJ/m2)']]\n",
    "# chch_median"
   ]
  },
  {
   "cell_type": "code",
   "execution_count": 1021,
   "id": "77f5c234",
   "metadata": {},
   "outputs": [],
   "source": [
    "# idx_chch = chch_median[chch_median[\"일시\"]==\"2019-05\"].index[0]\n",
    "# idx_chch"
   ]
  },
  {
   "cell_type": "code",
   "execution_count": 1022,
   "id": "4d548b6d",
   "metadata": {},
   "outputs": [],
   "source": [
    "# chch_bef_201905 = chch_median.iloc[:idx_chch,:]\n",
    "# # chch_bef_201905"
   ]
  },
  {
   "cell_type": "code",
   "execution_count": 1023,
   "id": "cadd7f7f",
   "metadata": {},
   "outputs": [],
   "source": [
    "# df2[df2[\"행정구역\"]==\"세종특별자치시\"]"
   ]
  },
  {
   "cell_type": "code",
   "execution_count": 1024,
   "id": "2b7f0a8f",
   "metadata": {},
   "outputs": [],
   "source": [
    "# new_df = pd.concat([df2.iloc[:14984],chch_bef_201905,df2.iloc[14984:]])\n",
    "# # new_df"
   ]
  },
  {
   "cell_type": "code",
   "execution_count": 1025,
   "id": "80d4466a",
   "metadata": {},
   "outputs": [],
   "source": [
    "# new_df[new_df[\"행정구역\"]==\"세종특별자치시\"]"
   ]
  },
  {
   "cell_type": "code",
   "execution_count": 1026,
   "id": "69953c03",
   "metadata": {},
   "outputs": [],
   "source": [
    "# new_df.info()"
   ]
  },
  {
   "cell_type": "code",
   "execution_count": 1027,
   "id": "3472e1b3",
   "metadata": {},
   "outputs": [],
   "source": [
    "# new_df[new_df['행정구역']=='세종특별자치시'].isnull().sum()"
   ]
  },
  {
   "cell_type": "code",
   "execution_count": 1028,
   "id": "8f4dab83",
   "metadata": {},
   "outputs": [],
   "source": [
    "# new_df.fillna(0.0,inplace=True)\n",
    "# new_df.info()"
   ]
  },
  {
   "cell_type": "code",
   "execution_count": 1029,
   "id": "bd5b8c23",
   "metadata": {},
   "outputs": [],
   "source": [
    "# new_df.to_csv(\"data/최종_최종__월별기상관측.csv\",encoding=\"cp949\")"
   ]
  },
  {
   "cell_type": "code",
   "execution_count": 1030,
   "id": "ba3b4561",
   "metadata": {},
   "outputs": [],
   "source": [
    "# new_df.groupby([\"행정구역\", \"일시\"]).median()"
   ]
  },
  {
   "cell_type": "code",
   "execution_count": 1031,
   "id": "a655effd",
   "metadata": {},
   "outputs": [
    {
     "name": "stdout",
     "output_type": "stream",
     "text": [
      "<class 'pandas.core.frame.DataFrame'>\n",
      "RangeIndex: 23078 entries, 0 to 23077\n",
      "Data columns (total 9 columns):\n",
      " #   Column              Non-Null Count  Dtype  \n",
      "---  ------              --------------  -----  \n",
      " 0   Unnamed: 0          23078 non-null  int64  \n",
      " 1   행정구역                23078 non-null  object \n",
      " 2   지점명                 23078 non-null  object \n",
      " 3   일시                  23078 non-null  object \n",
      " 4   평균기온(°C)            23078 non-null  float64\n",
      " 5   최고기온(°C)            23078 non-null  float64\n",
      " 6   최저기온(°C)            23078 non-null  float64\n",
      " 7   월합강수량(00~24h만)(mm)  23078 non-null  float64\n",
      " 8   합계 일사량(MJ/m2)       23078 non-null  float64\n",
      "dtypes: float64(5), int64(1), object(3)\n",
      "memory usage: 1.6+ MB\n"
     ]
    }
   ],
   "source": [
    "new_df = pd.read_csv(\"./data/최종_최종__월별기상관측.csv\", encoding=\"cp949\")\n",
    "new_df.info()"
   ]
  },
  {
   "cell_type": "code",
   "execution_count": 1032,
   "id": "cd3a28ea",
   "metadata": {},
   "outputs": [],
   "source": [
    "new_df.drop(\"Unnamed: 0\", axis=1, inplace=True)  # 0번째 컬럼 drop\n",
    "# new_df.head(3)"
   ]
  },
  {
   "cell_type": "code",
   "execution_count": 1033,
   "id": "95a1657a",
   "metadata": {},
   "outputs": [],
   "source": [
    "new_df[\"일시\"] = pd.to_datetime(new_df[\"일시\"])  # 일시를 datetime으로 변경\n",
    "# new_df.head()"
   ]
  },
  {
   "cell_type": "code",
   "execution_count": 1034,
   "id": "ecd892d5",
   "metadata": {},
   "outputs": [],
   "source": [
    "new_df[\"연도\"] =  new_df[\"일시\"].dt.year   # 연도만 추출\n",
    "new_df[\"월\"] =  new_df[\"일시\"].dt.month    # 월만 추출\n",
    "# new_df.head(10)"
   ]
  },
  {
   "cell_type": "code",
   "execution_count": 1035,
   "id": "12c299a0",
   "metadata": {},
   "outputs": [],
   "source": [
    "# new_df.columns"
   ]
  },
  {
   "cell_type": "code",
   "execution_count": 1036,
   "id": "897bb55a",
   "metadata": {},
   "outputs": [],
   "source": [
    "# 컬럼 순서 변경\n",
    "new_df = new_df[['행정구역', '지점명', '연도', '월', '평균기온(°C)', '최고기온(°C)', '최저기온(°C)','월합강수량(00~24h만)(mm)', '합계 일사량(MJ/m2)']]\n",
    "# new_df.head(3)\n"
   ]
  },
  {
   "cell_type": "code",
   "execution_count": 1037,
   "id": "9cf3162c",
   "metadata": {},
   "outputs": [],
   "source": [
    "# test = new_df.groupby([\"연도\",\"행정구역\",\"월\"]).median()[:24]"
   ]
  },
  {
   "cell_type": "code",
   "execution_count": 1038,
   "id": "beba6699",
   "metadata": {},
   "outputs": [],
   "source": [
    "# test"
   ]
  },
  {
   "cell_type": "code",
   "execution_count": 1039,
   "id": "87a0bbad",
   "metadata": {},
   "outputs": [],
   "source": [
    "# test2 = test.iloc[[0, 12]]\n",
    "# for i in range(1, int(len(test)/2)) : \n",
    "#     a = test.iloc[[i,i+12]]\n",
    "#     # print(a)\n",
    "#     test2 = pd.merge(left = test2, right = a, left_index = True, right_index = True, how = \"outer\")\n",
    "# test2"
   ]
  },
  {
   "cell_type": "code",
   "execution_count": 1040,
   "id": "6e0b9c21",
   "metadata": {},
   "outputs": [],
   "source": [
    "# test2 = test.iloc[0]\n",
    "# for i in range(1, len(test)) : \n",
    "#     a = test.iloc[i]\n",
    "#     test2 = pd.merge(left = test2, right = a, left_index = True, right_index = True, how = \"outer\") \n",
    "# test2"
   ]
  },
  {
   "cell_type": "code",
   "execution_count": 1041,
   "id": "2ac0212e",
   "metadata": {},
   "outputs": [],
   "source": [
    "# i = 0, j = 0, k = 0, new_col = 0 empty_frame.iloc[0,0] = test.iloc[0,0]\n",
    "#               k = 1, new_col = 1 empty_frame.iloc[0,1] = test.iloc[0,1]\n",
    "#               k = 2, new_col = 2 empty_frame.iloc[0,2] = test.iloc[0,2]\n",
    "#               k = 3, new_col = 3 empty_frame.iloc[0,3] = test.iloc[0,3]\n",
    "#               k = 4, new_col = 4 empty_frame.iloc[0,4] = test.iloc[0,4]\n",
    "# i = 1, j = 0, k = 0, new_col = 5 empty_frame.iloc[0,5] = test.iloc[1,0]\n",
    "#               k = 1, new_col = 6 empty_frame.iloc[0,6] = test.iloc[1,1]\n",
    "#               k = 2, new_col = 7 empty_frame.iloc[0,7] = test.iloc[1,2]\n",
    "#               k = 3, new_col = 8 empty_frame.iloc[0,8] = test.iloc[1,3]\n",
    "#               k = 4, new_col = 9 empty_frame.iloc[0,9] = test.iloc[1,4]\n",
    "# i = 12, j = 1, k = 0, new_col = 60 empty_frame.iloc[0,5] = test.iloc[1,0]\n",
    "#               k = 1, new_col = 6 empty_frame.iloc[0,6] = test.iloc[1,1]\n",
    "#               k = 2, new_col = 7 empty_frame.iloc[0,7] = test.iloc[1,2]\n",
    "#               k = 3, new_col = 8 empty_frame.iloc[0,8] = test.iloc[1,3]\n",
    "#               k = 4, new_col = 9 empty_frame.iloc[0,9] = test.iloc[1,4]"
   ]
  },
  {
   "cell_type": "code",
   "execution_count": 1042,
   "id": "4db83027",
   "metadata": {},
   "outputs": [],
   "source": [
    "real_test = new_df.groupby([\"연도\",\"행정구역\",\"월\"]).median() # 연도, 행정구역, 월별로 group화"
   ]
  },
  {
   "cell_type": "code",
   "execution_count": 1043,
   "id": "130f5f67",
   "metadata": {},
   "outputs": [],
   "source": [
    "empty_array = np.empty((int(len(real_test)/12),60))   # (4488/12, 60)의 구조를 가지는 빈 행렬을 생성\n",
    "empty_array[:] = np.nan\n",
    "empty_frame = pd.DataFrame(empty_array)\n",
    "\n",
    "cname = []\n",
    "for i in range(1,13) : \n",
    "    L = ['평균기온(°C)', '최고기온(°C)', '최저기온(°C)','월합강수량(00~24h만)(mm)', '합계 일사량(MJ/m2)']\n",
    "    for elem in L : \n",
    "        word = elem + \"_{}월\".format(i)  # 각 컬럼명에 1월부터 12월까지 붙여줌\n",
    "        cname.append(word)\n",
    "\n",
    "empty_frame.columns = cname   # 변수에 월수가 붙은 리스트를 컬럼명으로 대체"
   ]
  },
  {
   "cell_type": "code",
   "execution_count": 1044,
   "id": "f26e06d4",
   "metadata": {},
   "outputs": [],
   "source": [
    "# cname"
   ]
  },
  {
   "cell_type": "code",
   "execution_count": 1045,
   "id": "0a4c15b3",
   "metadata": {},
   "outputs": [],
   "source": [
    "for i in range(len(real_test)) : \n",
    "    j = math.floor(i/12)  # 각 행 인덱스를 12로 나눈 후 내림  >>>  0부터 11까지는 0으로, 12부터 23까지는 1로.....\n",
    "    remain = i%12  # 각 행 인덱스를 12로 나눈 나머지  >>> 0과 12, 24는 0으로, 1과 13 25는 1로......\n",
    "    for k in range(len(real_test.iloc[i])) : \n",
    "        new_col = (remain*5)+k      # remain이 0이면 new_col은 0부터 4까지, remain이 1이면 new_col은 5부터 9까지, remain이 11이면 new_col은 55부터 59까지, \n",
    "        empty_frame.iloc[j,new_col] = real_test.iloc[i,k]  # real_test의 데이터를 empty_frame에 삽입\n",
    "wanna_frame = empty_frame"
   ]
  },
  {
   "cell_type": "code",
   "execution_count": 1046,
   "id": "fedf746d",
   "metadata": {},
   "outputs": [],
   "source": [
    "b = real_test.index   # groupby한 데이터 프레임의 인덱스를 저장\n",
    "a = [(b[i][0],b[i][1]) for i in range(len(b)) if i%12==0]   # 인덱스를 12로 나눈 후 나머지가 없는 행만 추출(연도는 같고 월만 다르기 때문에 그 중 처음만 가져온다)\n",
    "                                                            # 그 후 연도와 행정구역만 튜플로 저장"
   ]
  },
  {
   "cell_type": "code",
   "execution_count": 1047,
   "id": "0794bc8b",
   "metadata": {},
   "outputs": [],
   "source": [
    "# len(a)"
   ]
  },
  {
   "cell_type": "code",
   "execution_count": 1048,
   "id": "d9738c89",
   "metadata": {},
   "outputs": [],
   "source": [
    "new_index = pd.MultiIndex.from_tuples(a)  # 연도와 행정구역을 추출한 튜플 리스트를 멀티인덱스로 변환"
   ]
  },
  {
   "cell_type": "code",
   "execution_count": 1049,
   "id": "1461e7bb",
   "metadata": {},
   "outputs": [],
   "source": [
    "wanna_frame.index = new_index\n",
    "# wanna_frame.head()"
   ]
  },
  {
   "cell_type": "code",
   "execution_count": 1050,
   "id": "d39805a8",
   "metadata": {},
   "outputs": [],
   "source": [
    "# city 배열 생성\n",
    "city = [\"서울특별시\", \"부산광역시\", \"대구광역시\", \"인천광역시\", \"광주광역시\", \"대전광역시\", \"울산광역시\", \"세종특별자치시\", \"경기도\", \"강원도\", \"충청북도\", \"충청남도\", \"전라북도\", \"전라남도\", \"경상북도\", \"경상남도\", \"제주도\"]\n",
    "city_list= [\"seoul\", \"busan\", \"daegu\", \"incheon\", \"gwangju\", \"daejeon\", \"ulsan\", \"sejong\", \"gyeonggi\", \"gangwon\", \"chungbuk\", \"chungnam\", \"jeonbuk\", \"jeonnam\", \"gyeongbuk\", \"gyeongnam\", \"jeju\"]\n",
    "\n",
    "# season 배열 생성\n",
    "season = [\"spring\", \"summer\", \"fall\", \"winter\"]\n",
    "\n",
    "# .query()를 사용하여 계절별로 데이터 프레임 생성 \n",
    "\n",
    "# 지역별, 계절별 배추 생산량 csv 불러오기\n",
    "for i in range(len(city)):\n",
    "    for j in range(len(season)):\n",
    "        globals()[city_list[i] + \"_\" + season[j]] = pd.read_csv(\"./data/\"+city_list[i]+\"_\"+season[j]+\".csv\")\n",
    "        # globals()[city_list[i] + \"_\" + season[j]] = new_df[(new_df[\"행정구역\"]==city[i]) & (new_df[\"일시\"].isin(season_list[j]))]\n",
    "        # globals()[city_list[i] + \"_\" + season[j]].reset_index(drop=True, inplace=True)\n",
    "        # globals()[city_list[i] + \"_\" + season[j]] = globals()[city_list[i] + \"_\" + season[j]].drop([\"행정구역\"], axis=1)\n",
    "        # globals()[city_list[i] + \"_\" + season[j]] = globals()[city_list[i] + \"_\" + season[j]].rename(columns={\"지점명\": \"지역명\"})\n",
    "        # # 지역명 컬럼 삭제\n",
    "        # globals()[city_list[i] + \"_\" + season[j]] = globals()[city_list[i] + \"_\" + season[j]].drop([\"지역명\"], axis=1)\n",
    "        # # 일시 데이터를 년도로 변경\n",
    "        # globals()[city_list[i] + \"_\" + season[j]][\"일시\"] = globals()[city_list[i] + \"_\" + season[j]][\"일시\"].str[:4]\n",
    "        # # csv 파일로 저장\n",
    "        # globals()[city_list[i] + \"_\" + season[j]].to_csv(\"data/weather/\" + city_list[i] + \"_\" + season[j] + \".csv\", encoding=\"utf-8\", index=False)"
   ]
  },
  {
   "cell_type": "code",
   "execution_count": 1051,
   "id": "de1c645a",
   "metadata": {},
   "outputs": [],
   "source": [
    "# seoul_fall_select"
   ]
  },
  {
   "cell_type": "code",
   "execution_count": 1052,
   "id": "ec509ce5",
   "metadata": {},
   "outputs": [],
   "source": [
    "for i in range(len(city)):\n",
    "    for j in range(len(season)):\n",
    "        k_list = []\n",
    "        for k in range(len(globals()[city_list[i] + \"_\" + season[j]].iloc[0])) : \n",
    "            if k % 3 == 2 or k % 3 == 0 : \n",
    "                k_list.append(k)\n",
    "        \n",
    "        globals()[city_list[i] + \"_\" + season[j]+ \"_select\"] = globals()[city_list[i] + \"_\" + season[j]].iloc[:,k_list]"
   ]
  },
  {
   "cell_type": "code",
   "execution_count": 1053,
   "id": "72ecb373",
   "metadata": {},
   "outputs": [],
   "source": [
    "year_list_spring = []\n",
    "for i in range(2000,2022) : \n",
    "    year_list_spring.append((i,\"일반봄배추:면적 (ha)\"))\n",
    "    for k in range(i,i+1) : \n",
    "        year_list_spring.append((k,\"생산량 (톤)\"))"
   ]
  },
  {
   "cell_type": "code",
   "execution_count": 1054,
   "id": "f7b7b3b5",
   "metadata": {},
   "outputs": [],
   "source": [
    "year_list_summer = []\n",
    "for i in range(2000,2022) : \n",
    "    year_list_summer.append((i,\"고랭지배추:면적 (ha)\"))\n",
    "    for k in range(i,i+1) : \n",
    "        year_list_summer.append((k,\"생산량 (톤)\"))"
   ]
  },
  {
   "cell_type": "code",
   "execution_count": 1055,
   "id": "4c0ce4c2",
   "metadata": {},
   "outputs": [],
   "source": [
    "year_list_fall = []\n",
    "for i in range(2000,2022) : \n",
    "    year_list_fall.append((i,\"노지가을배추:면적 (ha)\"))\n",
    "    for k in range(i,i+1) : \n",
    "        year_list_fall.append((k,\"생산량 (톤)\"))\n",
    "# year_list"
   ]
  },
  {
   "cell_type": "code",
   "execution_count": 1056,
   "id": "6a6a7f8e",
   "metadata": {},
   "outputs": [],
   "source": [
    "year_list_winter = []\n",
    "for i in range(2014,2022) : \n",
    "    year_list_winter.append((i,\"노지겨울배추:면적 (ha)\"))\n",
    "    for k in range(i,i+1) : \n",
    "        year_list_winter.append((k,\"생산량 (톤)\"))"
   ]
  },
  {
   "cell_type": "code",
   "execution_count": 1057,
   "id": "6e6509eb",
   "metadata": {},
   "outputs": [],
   "source": [
    "# year_list = [(i,i) for i in range(2000,2022)]\n",
    "# year_list"
   ]
  },
  {
   "cell_type": "code",
   "execution_count": 1058,
   "id": "fc5bc303",
   "metadata": {},
   "outputs": [],
   "source": [
    "year_list_spring = pd.MultiIndex.from_tuples(year_list_spring)\n",
    "year_list_summer = pd.MultiIndex.from_tuples(year_list_summer)\n",
    "year_list_fall = pd.MultiIndex.from_tuples(year_list_fall)\n",
    "year_list_winter = pd.MultiIndex.from_tuples(year_list_winter)\n",
    "# year_list"
   ]
  },
  {
   "cell_type": "code",
   "execution_count": 1059,
   "id": "329142b5",
   "metadata": {},
   "outputs": [],
   "source": [
    "# for i in range(len(city)):\n",
    "#     for j in range(len(season)):\n",
    "#         print(len(globals()[city_list[i] + \"_\" + season[j]+ \"_select\"].iloc[0]))"
   ]
  },
  {
   "cell_type": "code",
   "execution_count": 1060,
   "id": "9befc578",
   "metadata": {},
   "outputs": [],
   "source": [
    "for i in range(len(city)):\n",
    "    for j in range(len(season)):\n",
    "        # if city[i] == \"세종특별자치시\"\n",
    "        globals()[city_list[i] + \"_\" + season[j]+ \"_select\"] = globals()[city_list[i] + \"_\" + season[j]+ \"_select\"].transpose()\n",
    "        globals()[city_list[i] + \"_\" + season[j]+ \"_select\"].index = globals()[\"year_list_\"+season[j]]\n",
    "        # globals()[city_list[i] + \"_\" + season[j]+ \"_select\"] = globals()[city_list[i] + \"_\" + season[j]+ \"_select\"].reindex(globals()[\"year_list_\"+season[j]])\n",
    "        # 겨울은 16개다\n"
   ]
  },
  {
   "cell_type": "code",
   "execution_count": 1061,
   "id": "182310ec",
   "metadata": {},
   "outputs": [],
   "source": [
    "# jeonnam_winter_select.drop([0],axis=1).unstack().droplevel(0, axis=1)"
   ]
  },
  {
   "cell_type": "code",
   "execution_count": 1062,
   "id": "0772009c",
   "metadata": {},
   "outputs": [],
   "source": [
    "for i in range(len(city)):\n",
    "    for j in range(len(season)):\n",
    "        globals()[city_list[i] + \"_\" + season[j]+ \"_select\"] = globals()[city_list[i] + \"_\" + season[j]+ \"_select\"].drop([0],axis=1).unstack().droplevel(0, axis=1)"
   ]
  },
  {
   "cell_type": "code",
   "execution_count": 1063,
   "id": "952a6519",
   "metadata": {},
   "outputs": [],
   "source": [
    "for i in range(len(season)) : \n",
    "    wan_idx = wanna_frame.index  \n",
    "    globals()[\"idx_\"+season[i]] = [(wan_idx[j][0],season[i],wan_idx[j][1]) for j in range(len(wan_idx))]\n",
    "    globals()[\"idx_\"+season[i]] = pd.MultiIndex.from_tuples(globals()[\"idx_\"+season[i]])"
   ]
  },
  {
   "cell_type": "code",
   "execution_count": 1064,
   "id": "7853e174",
   "metadata": {},
   "outputs": [],
   "source": [
    "for i in range(len(season)) : \n",
    "    globals()[\"wanna_frame_\"+season[i]] = deepcopy(wanna_frame)\n",
    "    globals()[\"wanna_frame_\"+season[i]].index = globals()[\"idx_\"+season[i]]"
   ]
  },
  {
   "cell_type": "code",
   "execution_count": 1065,
   "id": "931d818f",
   "metadata": {},
   "outputs": [],
   "source": [
    "for i in range(len(season)) : \n",
    "    globals()[\"wanna_frame_\"+season[i]] = globals()[\"wanna_frame_\"+season[i]].swaplevel(0).sort_index(level=0)"
   ]
  },
  {
   "cell_type": "code",
   "execution_count": 1066,
   "id": "6a9446c0",
   "metadata": {},
   "outputs": [],
   "source": [
    "# # wanna_frame = \n",
    "# wanna_frame = pd.concat([wanna_frame_spring, wanna_frame_summer, wanna_frame_fall, wanna_frame_winter], axis=0)"
   ]
  },
  {
   "cell_type": "code",
   "execution_count": 1067,
   "id": "5535bf26",
   "metadata": {},
   "outputs": [],
   "source": [
    "# wanna_frame_winter"
   ]
  },
  {
   "cell_type": "code",
   "execution_count": 1068,
   "id": "fa9a47bc",
   "metadata": {},
   "outputs": [],
   "source": [
    "# gangwon_spring_select"
   ]
  },
  {
   "cell_type": "code",
   "execution_count": 1069,
   "id": "a2d402ca",
   "metadata": {},
   "outputs": [],
   "source": [
    "new_city = dict(zip(city,city_list))\n",
    "new_city = dict(sorted(new_city.items()))\n",
    "# new_city"
   ]
  },
  {
   "cell_type": "code",
   "execution_count": 1070,
   "id": "3458fa41",
   "metadata": {},
   "outputs": [],
   "source": [
    "cities_spring = []\n",
    "cities_summer = []\n",
    "cities_fall = []\n",
    "cities_winter = []\n",
    "\n",
    "for k,v in new_city.items():\n",
    "    for j in range(len(season)):\n",
    "        globals()[\"cities_\"+season[j]].append(new_city[k]+\"_\"+season[j]+\"_select\")"
   ]
  },
  {
   "cell_type": "code",
   "execution_count": 1071,
   "id": "d36cf10c",
   "metadata": {},
   "outputs": [],
   "source": [
    "# cities_spring"
   ]
  },
  {
   "cell_type": "code",
   "execution_count": 1072,
   "id": "10e3f634",
   "metadata": {},
   "outputs": [],
   "source": [
    "concat_spring = pd.concat([gangwon_spring_select,\n",
    "gyeonggi_spring_select,\n",
    "gyeongnam_spring_select,\n",
    "gyeongbuk_spring_select,\n",
    " gwangju_spring_select,\n",
    " daegu_spring_select,\n",
    " daejeon_spring_select,\n",
    " busan_spring_select,\n",
    " seoul_spring_select,\n",
    " sejong_spring_select,\n",
    " ulsan_spring_select,\n",
    " incheon_spring_select,\n",
    " jeonnam_spring_select,\n",
    " jeonbuk_spring_select,\n",
    " jeju_spring_select,\n",
    " chungnam_spring_select,\n",
    " chungbuk_spring_select])"
   ]
  },
  {
   "cell_type": "code",
   "execution_count": 1073,
   "id": "c3056906",
   "metadata": {},
   "outputs": [],
   "source": [
    "concat_summer = pd.concat([gangwon_summer_select,\n",
    "gyeonggi_summer_select,\n",
    "gyeongnam_summer_select,\n",
    "gyeongbuk_summer_select,\n",
    " gwangju_summer_select,\n",
    " daegu_summer_select,\n",
    " daejeon_summer_select,\n",
    " busan_summer_select,\n",
    " seoul_summer_select,\n",
    " sejong_summer_select,\n",
    " ulsan_summer_select,\n",
    " incheon_summer_select,\n",
    " jeonnam_summer_select,\n",
    " jeonbuk_summer_select,\n",
    " jeju_summer_select,\n",
    " chungnam_summer_select,\n",
    " chungbuk_summer_select])"
   ]
  },
  {
   "cell_type": "code",
   "execution_count": 1074,
   "id": "626a17ba",
   "metadata": {},
   "outputs": [],
   "source": [
    "concat_fall = pd.concat([gangwon_fall_select,\n",
    "gyeonggi_fall_select,\n",
    "gyeongnam_fall_select,\n",
    "gyeongbuk_fall_select,\n",
    "gwangju_fall_select,\n",
    "daegu_fall_select,\n",
    "daejeon_fall_select,\n",
    "busan_fall_select,\n",
    "seoul_fall_select,\n",
    "sejong_fall_select,\n",
    "ulsan_fall_select,\n",
    "incheon_fall_select,\n",
    "jeonnam_fall_select,\n",
    "jeonbuk_fall_select,\n",
    "jeju_fall_select,\n",
    "chungnam_fall_select,\n",
    "chungbuk_fall_select])\n"
   ]
  },
  {
   "cell_type": "code",
   "execution_count": 1075,
   "id": "8cb87302",
   "metadata": {},
   "outputs": [],
   "source": [
    "concat_winter = pd.concat([gangwon_winter_select,\n",
    "gyeonggi_winter_select,\n",
    "gyeongnam_winter_select,\n",
    "gyeongbuk_winter_select,\n",
    "gwangju_winter_select,\n",
    "daegu_winter_select,\n",
    "daejeon_winter_select,\n",
    "busan_winter_select,\n",
    "seoul_winter_select,\n",
    "sejong_winter_select,\n",
    "ulsan_winter_select,\n",
    "incheon_winter_select,\n",
    "jeonnam_winter_select,\n",
    "jeonbuk_winter_select,\n",
    "jeju_winter_select,\n",
    "chungnam_winter_select,\n",
    "chungbuk_winter_select])\n"
   ]
  },
  {
   "cell_type": "code",
   "execution_count": 1076,
   "id": "5ffad46e",
   "metadata": {},
   "outputs": [
    {
     "data": {
      "text/plain": [
       "MultiIndex([(2014, 'winter',     '강원도'),\n",
       "            (2014, 'winter',     '경기도'),\n",
       "            (2014, 'winter',    '경상남도'),\n",
       "            (2014, 'winter',    '경상북도'),\n",
       "            (2014, 'winter',   '광주광역시'),\n",
       "            (2014, 'winter',   '대구광역시'),\n",
       "            (2014, 'winter',   '대전광역시'),\n",
       "            (2014, 'winter',   '부산광역시'),\n",
       "            (2014, 'winter',   '서울특별시'),\n",
       "            (2014, 'winter', '세종특별자치시'),\n",
       "            ...\n",
       "            (2021, 'winter',   '부산광역시'),\n",
       "            (2021, 'winter',   '서울특별시'),\n",
       "            (2021, 'winter', '세종특별자치시'),\n",
       "            (2021, 'winter',   '울산광역시'),\n",
       "            (2021, 'winter',   '인천광역시'),\n",
       "            (2021, 'winter',    '전라남도'),\n",
       "            (2021, 'winter',    '전라북도'),\n",
       "            (2021, 'winter',     '제주도'),\n",
       "            (2021, 'winter',    '충청남도'),\n",
       "            (2021, 'winter',    '충청북도')],\n",
       "           length=136)"
      ]
     },
     "execution_count": 1076,
     "metadata": {},
     "output_type": "execute_result"
    }
   ],
   "source": [
    "idx_winter_from2014 = idx_winter[238:]\n",
    "idx_winter_from2014"
   ]
  },
  {
   "cell_type": "code",
   "execution_count": 1077,
   "id": "f8003d98",
   "metadata": {},
   "outputs": [],
   "source": [
    "for i in range(len(season)-1) : \n",
    "    globals()[\"concat_\"+season[i]].index = globals()[\"idx_\"+season[i]]"
   ]
  },
  {
   "cell_type": "code",
   "execution_count": 1078,
   "id": "6a0ff805",
   "metadata": {},
   "outputs": [
    {
     "data": {
      "text/html": [
       "<div>\n",
       "<style scoped>\n",
       "    .dataframe tbody tr th:only-of-type {\n",
       "        vertical-align: middle;\n",
       "    }\n",
       "\n",
       "    .dataframe tbody tr th {\n",
       "        vertical-align: top;\n",
       "    }\n",
       "\n",
       "    .dataframe thead th {\n",
       "        text-align: right;\n",
       "    }\n",
       "</style>\n",
       "<table border=\"1\" class=\"dataframe\">\n",
       "  <thead>\n",
       "    <tr style=\"text-align: right;\">\n",
       "      <th></th>\n",
       "      <th></th>\n",
       "      <th></th>\n",
       "      <th>노지겨울배추:면적 (ha)</th>\n",
       "      <th>생산량 (톤)</th>\n",
       "    </tr>\n",
       "  </thead>\n",
       "  <tbody>\n",
       "    <tr>\n",
       "      <th rowspan=\"5\" valign=\"top\">2014</th>\n",
       "      <th rowspan=\"5\" valign=\"top\">winter</th>\n",
       "      <th>강원도</th>\n",
       "      <td>0</td>\n",
       "      <td>0</td>\n",
       "    </tr>\n",
       "    <tr>\n",
       "      <th>경기도</th>\n",
       "      <td>0</td>\n",
       "      <td>0</td>\n",
       "    </tr>\n",
       "    <tr>\n",
       "      <th>경상남도</th>\n",
       "      <td>0</td>\n",
       "      <td>0</td>\n",
       "    </tr>\n",
       "    <tr>\n",
       "      <th>경상북도</th>\n",
       "      <td>0</td>\n",
       "      <td>0</td>\n",
       "    </tr>\n",
       "    <tr>\n",
       "      <th>광주광역시</th>\n",
       "      <td>0</td>\n",
       "      <td>0</td>\n",
       "    </tr>\n",
       "    <tr>\n",
       "      <th>...</th>\n",
       "      <th>...</th>\n",
       "      <th>...</th>\n",
       "      <td>...</td>\n",
       "      <td>...</td>\n",
       "    </tr>\n",
       "    <tr>\n",
       "      <th rowspan=\"5\" valign=\"top\">2021</th>\n",
       "      <th rowspan=\"5\" valign=\"top\">winter</th>\n",
       "      <th>전라남도</th>\n",
       "      <td>0</td>\n",
       "      <td>0</td>\n",
       "    </tr>\n",
       "    <tr>\n",
       "      <th>전라북도</th>\n",
       "      <td>0</td>\n",
       "      <td>0</td>\n",
       "    </tr>\n",
       "    <tr>\n",
       "      <th>제주도</th>\n",
       "      <td>0</td>\n",
       "      <td>0</td>\n",
       "    </tr>\n",
       "    <tr>\n",
       "      <th>충청남도</th>\n",
       "      <td>0</td>\n",
       "      <td>0</td>\n",
       "    </tr>\n",
       "    <tr>\n",
       "      <th>충청북도</th>\n",
       "      <td>0</td>\n",
       "      <td>0</td>\n",
       "    </tr>\n",
       "  </tbody>\n",
       "</table>\n",
       "<p>136 rows × 2 columns</p>\n",
       "</div>"
      ],
      "text/plain": [
       "                  노지겨울배추:면적 (ha) 생산량 (톤)\n",
       "2014 winter 강원도                0       0\n",
       "            경기도                0       0\n",
       "            경상남도               0       0\n",
       "            경상북도               0       0\n",
       "            광주광역시              0       0\n",
       "...                          ...     ...\n",
       "2021 winter 전라남도               0       0\n",
       "            전라북도               0       0\n",
       "            제주도                0       0\n",
       "            충청남도               0       0\n",
       "            충청북도               0       0\n",
       "\n",
       "[136 rows x 2 columns]"
      ]
     },
     "execution_count": 1078,
     "metadata": {},
     "output_type": "execute_result"
    }
   ],
   "source": [
    "concat_winter.index = idx_winter_from2014\n",
    "concat_winter"
   ]
  },
  {
   "cell_type": "code",
   "execution_count": 1079,
   "id": "02e158a8",
   "metadata": {},
   "outputs": [],
   "source": [
    "# for i in range(len(idx_winter)) : \n",
    "#     if idx_winter[i][0] == 2014 : \n",
    "#         print(i)\n",
    "#         break"
   ]
  },
  {
   "cell_type": "code",
   "execution_count": 1080,
   "id": "e9ea67bc",
   "metadata": {},
   "outputs": [],
   "source": [
    "for i in range(len(season)) : \n",
    "    globals()[\"concat_\"+season[i]] = globals()[\"concat_\"+season[i]].replace('-',np.nan)\n",
    "    globals()[\"concat_\"+season[i]] = globals()[\"concat_\"+season[i]].astype(\"float\")\n"
   ]
  },
  {
   "cell_type": "code",
   "execution_count": 1081,
   "id": "5d603c27",
   "metadata": {},
   "outputs": [],
   "source": [
    "for i in range(len(season)) : \n",
    "    globals()[\"concat_\"+season[i]] = globals()[\"concat_\"+season[i]].swaplevel(0).sort_index(level=0)\n",
    "\n",
    "col_list_spring = concat_spring.columns[::-1].to_list()\n",
    "concat_spring = concat_spring[col_list_spring]\n",
    "\n",
    "for i in range(len(season)) : \n",
    "    globals()[\"concat_\"+season[i]].rename(columns={globals()[\"concat_\"+season[i]].columns[0]:\"면적 (ha)\"},inplace=True)"
   ]
  },
  {
   "cell_type": "code",
   "execution_count": 1082,
   "id": "f584c0c1",
   "metadata": {},
   "outputs": [],
   "source": [
    "# print(concat_spring.columns)\n",
    "# print(concat_summer.columns)\n",
    "# print(concat_fall.columns)\n",
    "# print(concat_winter.columns)"
   ]
  },
  {
   "cell_type": "code",
   "execution_count": 1083,
   "id": "3baecaf8",
   "metadata": {},
   "outputs": [],
   "source": [
    "for i in range(len(season)) : \n",
    "    globals()[\"wanna_frame_\"+season[i]] = pd.concat([globals()[\"wanna_frame_\"+season[i]], globals()[\"concat_\"+season[i]]],axis=1)"
   ]
  },
  {
   "cell_type": "code",
   "execution_count": 1084,
   "id": "9d468367",
   "metadata": {},
   "outputs": [],
   "source": [
    "df_jinhyeok = pd.concat([wanna_frame_spring,wanna_frame_summer,wanna_frame_fall,wanna_frame_winter])"
   ]
  },
  {
   "cell_type": "code",
   "execution_count": 1087,
   "id": "c5328f59",
   "metadata": {},
   "outputs": [
    {
     "data": {
      "text/html": [
       "<div>\n",
       "<style scoped>\n",
       "    .dataframe tbody tr th:only-of-type {\n",
       "        vertical-align: middle;\n",
       "    }\n",
       "\n",
       "    .dataframe tbody tr th {\n",
       "        vertical-align: top;\n",
       "    }\n",
       "\n",
       "    .dataframe thead th {\n",
       "        text-align: right;\n",
       "    }\n",
       "</style>\n",
       "<table border=\"1\" class=\"dataframe\">\n",
       "  <thead>\n",
       "    <tr style=\"text-align: right;\">\n",
       "      <th></th>\n",
       "      <th></th>\n",
       "      <th></th>\n",
       "      <th>평균기온(°C)_1월</th>\n",
       "      <th>최고기온(°C)_1월</th>\n",
       "      <th>최저기온(°C)_1월</th>\n",
       "      <th>월합강수량(00~24h만)(mm)_1월</th>\n",
       "      <th>합계 일사량(MJ/m2)_1월</th>\n",
       "      <th>평균기온(°C)_2월</th>\n",
       "      <th>최고기온(°C)_2월</th>\n",
       "      <th>최저기온(°C)_2월</th>\n",
       "      <th>월합강수량(00~24h만)(mm)_2월</th>\n",
       "      <th>합계 일사량(MJ/m2)_2월</th>\n",
       "      <th>...</th>\n",
       "      <th>최저기온(°C)_11월</th>\n",
       "      <th>월합강수량(00~24h만)(mm)_11월</th>\n",
       "      <th>합계 일사량(MJ/m2)_11월</th>\n",
       "      <th>평균기온(°C)_12월</th>\n",
       "      <th>최고기온(°C)_12월</th>\n",
       "      <th>최저기온(°C)_12월</th>\n",
       "      <th>월합강수량(00~24h만)(mm)_12월</th>\n",
       "      <th>합계 일사량(MJ/m2)_12월</th>\n",
       "      <th>면적 (ha)</th>\n",
       "      <th>생산량 (톤)</th>\n",
       "    </tr>\n",
       "  </thead>\n",
       "  <tbody>\n",
       "    <tr>\n",
       "      <th rowspan=\"5\" valign=\"top\">충청북도</th>\n",
       "      <th rowspan=\"5\" valign=\"top\">winter</th>\n",
       "      <th>2017</th>\n",
       "      <td>-2.5</td>\n",
       "      <td>12.8</td>\n",
       "      <td>-16.0</td>\n",
       "      <td>16.4</td>\n",
       "      <td>276.060</td>\n",
       "      <td>-0.2</td>\n",
       "      <td>13.8</td>\n",
       "      <td>-11.9</td>\n",
       "      <td>38.7</td>\n",
       "      <td>361.545</td>\n",
       "      <td>...</td>\n",
       "      <td>-7.7</td>\n",
       "      <td>17.2</td>\n",
       "      <td>290.585</td>\n",
       "      <td>-2.3</td>\n",
       "      <td>10.3</td>\n",
       "      <td>-14.5</td>\n",
       "      <td>25.5</td>\n",
       "      <td>248.975</td>\n",
       "      <td>0.0</td>\n",
       "      <td>0.0</td>\n",
       "    </tr>\n",
       "    <tr>\n",
       "      <th>2018</th>\n",
       "      <td>-4.3</td>\n",
       "      <td>8.8</td>\n",
       "      <td>-19.2</td>\n",
       "      <td>17.6</td>\n",
       "      <td>281.440</td>\n",
       "      <td>-2.4</td>\n",
       "      <td>13.0</td>\n",
       "      <td>-17.4</td>\n",
       "      <td>30.6</td>\n",
       "      <td>342.500</td>\n",
       "      <td>...</td>\n",
       "      <td>-5.6</td>\n",
       "      <td>50.0</td>\n",
       "      <td>281.060</td>\n",
       "      <td>-1.5</td>\n",
       "      <td>14.6</td>\n",
       "      <td>-14.8</td>\n",
       "      <td>30.0</td>\n",
       "      <td>261.265</td>\n",
       "      <td>0.0</td>\n",
       "      <td>0.0</td>\n",
       "    </tr>\n",
       "    <tr>\n",
       "      <th>2019</th>\n",
       "      <td>-2.2</td>\n",
       "      <td>8.6</td>\n",
       "      <td>-13.1</td>\n",
       "      <td>1.0</td>\n",
       "      <td>301.040</td>\n",
       "      <td>0.5</td>\n",
       "      <td>13.2</td>\n",
       "      <td>-11.6</td>\n",
       "      <td>29.0</td>\n",
       "      <td>340.155</td>\n",
       "      <td>...</td>\n",
       "      <td>-5.9</td>\n",
       "      <td>84.6</td>\n",
       "      <td>275.295</td>\n",
       "      <td>0.3</td>\n",
       "      <td>13.7</td>\n",
       "      <td>-11.0</td>\n",
       "      <td>27.2</td>\n",
       "      <td>242.825</td>\n",
       "      <td>3307.0</td>\n",
       "      <td>223797.0</td>\n",
       "    </tr>\n",
       "    <tr>\n",
       "      <th>2020</th>\n",
       "      <td>1.0</td>\n",
       "      <td>12.3</td>\n",
       "      <td>-9.7</td>\n",
       "      <td>68.1</td>\n",
       "      <td>239.400</td>\n",
       "      <td>1.8</td>\n",
       "      <td>15.6</td>\n",
       "      <td>-12.7</td>\n",
       "      <td>62.7</td>\n",
       "      <td>338.925</td>\n",
       "      <td>...</td>\n",
       "      <td>-5.5</td>\n",
       "      <td>37.0</td>\n",
       "      <td>290.085</td>\n",
       "      <td>-2.0</td>\n",
       "      <td>11.6</td>\n",
       "      <td>-17.0</td>\n",
       "      <td>5.6</td>\n",
       "      <td>267.930</td>\n",
       "      <td>50.0</td>\n",
       "      <td>3310.0</td>\n",
       "    </tr>\n",
       "    <tr>\n",
       "      <th>2021</th>\n",
       "      <td>-3.1</td>\n",
       "      <td>13.3</td>\n",
       "      <td>-19.6</td>\n",
       "      <td>18.2</td>\n",
       "      <td>285.645</td>\n",
       "      <td>1.8</td>\n",
       "      <td>22.1</td>\n",
       "      <td>-11.9</td>\n",
       "      <td>12.3</td>\n",
       "      <td>359.560</td>\n",
       "      <td>...</td>\n",
       "      <td>-5.2</td>\n",
       "      <td>44.9</td>\n",
       "      <td>280.140</td>\n",
       "      <td>-0.1</td>\n",
       "      <td>12.6</td>\n",
       "      <td>-14.7</td>\n",
       "      <td>5.6</td>\n",
       "      <td>249.960</td>\n",
       "      <td>0.0</td>\n",
       "      <td>0.0</td>\n",
       "    </tr>\n",
       "  </tbody>\n",
       "</table>\n",
       "<p>5 rows × 62 columns</p>\n",
       "</div>"
      ],
      "text/plain": [
       "                  평균기온(°C)_1월  최고기온(°C)_1월  최저기온(°C)_1월  \\\n",
       "충청북도 winter 2017         -2.5         12.8        -16.0   \n",
       "            2018         -4.3          8.8        -19.2   \n",
       "            2019         -2.2          8.6        -13.1   \n",
       "            2020          1.0         12.3         -9.7   \n",
       "            2021         -3.1         13.3        -19.6   \n",
       "\n",
       "                  월합강수량(00~24h만)(mm)_1월  합계 일사량(MJ/m2)_1월  평균기온(°C)_2월  \\\n",
       "충청북도 winter 2017                   16.4           276.060         -0.2   \n",
       "            2018                   17.6           281.440         -2.4   \n",
       "            2019                    1.0           301.040          0.5   \n",
       "            2020                   68.1           239.400          1.8   \n",
       "            2021                   18.2           285.645          1.8   \n",
       "\n",
       "                  최고기온(°C)_2월  최저기온(°C)_2월  월합강수량(00~24h만)(mm)_2월  \\\n",
       "충청북도 winter 2017         13.8        -11.9                   38.7   \n",
       "            2018         13.0        -17.4                   30.6   \n",
       "            2019         13.2        -11.6                   29.0   \n",
       "            2020         15.6        -12.7                   62.7   \n",
       "            2021         22.1        -11.9                   12.3   \n",
       "\n",
       "                  합계 일사량(MJ/m2)_2월  ...  최저기온(°C)_11월  월합강수량(00~24h만)(mm)_11월  \\\n",
       "충청북도 winter 2017           361.545  ...          -7.7                    17.2   \n",
       "            2018           342.500  ...          -5.6                    50.0   \n",
       "            2019           340.155  ...          -5.9                    84.6   \n",
       "            2020           338.925  ...          -5.5                    37.0   \n",
       "            2021           359.560  ...          -5.2                    44.9   \n",
       "\n",
       "                  합계 일사량(MJ/m2)_11월  평균기온(°C)_12월  최고기온(°C)_12월  최저기온(°C)_12월  \\\n",
       "충청북도 winter 2017            290.585          -2.3          10.3         -14.5   \n",
       "            2018            281.060          -1.5          14.6         -14.8   \n",
       "            2019            275.295           0.3          13.7         -11.0   \n",
       "            2020            290.085          -2.0          11.6         -17.0   \n",
       "            2021            280.140          -0.1          12.6         -14.7   \n",
       "\n",
       "                  월합강수량(00~24h만)(mm)_12월  합계 일사량(MJ/m2)_12월  면적 (ha)   생산량 (톤)  \n",
       "충청북도 winter 2017                    25.5            248.975      0.0       0.0  \n",
       "            2018                    30.0            261.265      0.0       0.0  \n",
       "            2019                    27.2            242.825   3307.0  223797.0  \n",
       "            2020                     5.6            267.930     50.0    3310.0  \n",
       "            2021                     5.6            249.960      0.0       0.0  \n",
       "\n",
       "[5 rows x 62 columns]"
      ]
     },
     "execution_count": 1087,
     "metadata": {},
     "output_type": "execute_result"
    }
   ],
   "source": [
    "df_jinhyeok.tail()"
   ]
  },
  {
   "cell_type": "code",
   "execution_count": 1088,
   "id": "7ab341fc",
   "metadata": {},
   "outputs": [],
   "source": [
    "# df_jinhyeok.to_csv(\"./data/진혁_데이터프레임.csv\")"
   ]
  },
  {
   "cell_type": "code",
   "execution_count": 1089,
   "id": "83625941",
   "metadata": {},
   "outputs": [
    {
     "name": "stdout",
     "output_type": "stream",
     "text": [
      "<class 'pandas.core.frame.DataFrame'>\n",
      "RangeIndex: 1496 entries, 0 to 1495\n",
      "Data columns (total 65 columns):\n",
      " #   Column                  Non-Null Count  Dtype  \n",
      "---  ------                  --------------  -----  \n",
      " 0   Unnamed: 0              1496 non-null   object \n",
      " 1   Unnamed: 1              1496 non-null   object \n",
      " 2   Unnamed: 2              1496 non-null   int64  \n",
      " 3   평균기온(°C)_1월             1496 non-null   float64\n",
      " 4   최고기온(°C)_1월             1496 non-null   float64\n",
      " 5   최저기온(°C)_1월             1496 non-null   float64\n",
      " 6   월합강수량(00~24h만)(mm)_1월   1496 non-null   float64\n",
      " 7   합계 일사량(MJ/m2)_1월        1496 non-null   float64\n",
      " 8   평균기온(°C)_2월             1496 non-null   float64\n",
      " 9   최고기온(°C)_2월             1496 non-null   float64\n",
      " 10  최저기온(°C)_2월             1496 non-null   float64\n",
      " 11  월합강수량(00~24h만)(mm)_2월   1496 non-null   float64\n",
      " 12  합계 일사량(MJ/m2)_2월        1496 non-null   float64\n",
      " 13  평균기온(°C)_3월             1496 non-null   float64\n",
      " 14  최고기온(°C)_3월             1496 non-null   float64\n",
      " 15  최저기온(°C)_3월             1496 non-null   float64\n",
      " 16  월합강수량(00~24h만)(mm)_3월   1496 non-null   float64\n",
      " 17  합계 일사량(MJ/m2)_3월        1496 non-null   float64\n",
      " 18  평균기온(°C)_4월             1496 non-null   float64\n",
      " 19  최고기온(°C)_4월             1496 non-null   float64\n",
      " 20  최저기온(°C)_4월             1496 non-null   float64\n",
      " 21  월합강수량(00~24h만)(mm)_4월   1496 non-null   float64\n",
      " 22  합계 일사량(MJ/m2)_4월        1496 non-null   float64\n",
      " 23  평균기온(°C)_5월             1496 non-null   float64\n",
      " 24  최고기온(°C)_5월             1496 non-null   float64\n",
      " 25  최저기온(°C)_5월             1496 non-null   float64\n",
      " 26  월합강수량(00~24h만)(mm)_5월   1496 non-null   float64\n",
      " 27  합계 일사량(MJ/m2)_5월        1496 non-null   float64\n",
      " 28  평균기온(°C)_6월             1496 non-null   float64\n",
      " 29  최고기온(°C)_6월             1496 non-null   float64\n",
      " 30  최저기온(°C)_6월             1496 non-null   float64\n",
      " 31  월합강수량(00~24h만)(mm)_6월   1496 non-null   float64\n",
      " 32  합계 일사량(MJ/m2)_6월        1496 non-null   float64\n",
      " 33  평균기온(°C)_7월             1496 non-null   float64\n",
      " 34  최고기온(°C)_7월             1496 non-null   float64\n",
      " 35  최저기온(°C)_7월             1496 non-null   float64\n",
      " 36  월합강수량(00~24h만)(mm)_7월   1496 non-null   float64\n",
      " 37  합계 일사량(MJ/m2)_7월        1496 non-null   float64\n",
      " 38  평균기온(°C)_8월             1496 non-null   float64\n",
      " 39  최고기온(°C)_8월             1496 non-null   float64\n",
      " 40  최저기온(°C)_8월             1496 non-null   float64\n",
      " 41  월합강수량(00~24h만)(mm)_8월   1496 non-null   float64\n",
      " 42  합계 일사량(MJ/m2)_8월        1496 non-null   float64\n",
      " 43  평균기온(°C)_9월             1496 non-null   float64\n",
      " 44  최고기온(°C)_9월             1496 non-null   float64\n",
      " 45  최저기온(°C)_9월             1496 non-null   float64\n",
      " 46  월합강수량(00~24h만)(mm)_9월   1496 non-null   float64\n",
      " 47  합계 일사량(MJ/m2)_9월        1496 non-null   float64\n",
      " 48  평균기온(°C)_10월            1496 non-null   float64\n",
      " 49  최고기온(°C)_10월            1496 non-null   float64\n",
      " 50  최저기온(°C)_10월            1496 non-null   float64\n",
      " 51  월합강수량(00~24h만)(mm)_10월  1496 non-null   float64\n",
      " 52  합계 일사량(MJ/m2)_10월       1496 non-null   float64\n",
      " 53  평균기온(°C)_11월            1496 non-null   float64\n",
      " 54  최고기온(°C)_11월            1496 non-null   float64\n",
      " 55  최저기온(°C)_11월            1496 non-null   float64\n",
      " 56  월합강수량(00~24h만)(mm)_11월  1496 non-null   float64\n",
      " 57  합계 일사량(MJ/m2)_11월       1496 non-null   float64\n",
      " 58  평균기온(°C)_12월            1496 non-null   float64\n",
      " 59  최고기온(°C)_12월            1496 non-null   float64\n",
      " 60  최저기온(°C)_12월            1496 non-null   float64\n",
      " 61  월합강수량(00~24h만)(mm)_12월  1496 non-null   float64\n",
      " 62  합계 일사량(MJ/m2)_12월       1496 non-null   float64\n",
      " 63  면적 (ha)                 1212 non-null   float64\n",
      " 64  생산량 (톤)                 1212 non-null   float64\n",
      "dtypes: float64(62), int64(1), object(2)\n",
      "memory usage: 759.8+ KB\n"
     ]
    }
   ],
   "source": [
    "# df = pd.read_csv(\"./data/진혁_데이터프레임.csv\")\n",
    "# df.info()"
   ]
  },
  {
   "cell_type": "code",
   "execution_count": 1090,
   "id": "4070491b",
   "metadata": {},
   "outputs": [
    {
     "data": {
      "text/html": [
       "<div>\n",
       "<style scoped>\n",
       "    .dataframe tbody tr th:only-of-type {\n",
       "        vertical-align: middle;\n",
       "    }\n",
       "\n",
       "    .dataframe tbody tr th {\n",
       "        vertical-align: top;\n",
       "    }\n",
       "\n",
       "    .dataframe thead th {\n",
       "        text-align: right;\n",
       "    }\n",
       "</style>\n",
       "<table border=\"1\" class=\"dataframe\">\n",
       "  <thead>\n",
       "    <tr style=\"text-align: right;\">\n",
       "      <th></th>\n",
       "      <th>Unnamed: 0</th>\n",
       "      <th>Unnamed: 1</th>\n",
       "      <th>Unnamed: 2</th>\n",
       "      <th>평균기온(°C)_1월</th>\n",
       "      <th>최고기온(°C)_1월</th>\n",
       "      <th>최저기온(°C)_1월</th>\n",
       "      <th>월합강수량(00~24h만)(mm)_1월</th>\n",
       "      <th>합계 일사량(MJ/m2)_1월</th>\n",
       "      <th>평균기온(°C)_2월</th>\n",
       "      <th>최고기온(°C)_2월</th>\n",
       "      <th>...</th>\n",
       "      <th>최저기온(°C)_11월</th>\n",
       "      <th>월합강수량(00~24h만)(mm)_11월</th>\n",
       "      <th>합계 일사량(MJ/m2)_11월</th>\n",
       "      <th>평균기온(°C)_12월</th>\n",
       "      <th>최고기온(°C)_12월</th>\n",
       "      <th>최저기온(°C)_12월</th>\n",
       "      <th>월합강수량(00~24h만)(mm)_12월</th>\n",
       "      <th>합계 일사량(MJ/m2)_12월</th>\n",
       "      <th>면적 (ha)</th>\n",
       "      <th>생산량 (톤)</th>\n",
       "    </tr>\n",
       "  </thead>\n",
       "  <tbody>\n",
       "    <tr>\n",
       "      <th>0</th>\n",
       "      <td>강원도</td>\n",
       "      <td>spring</td>\n",
       "      <td>2000</td>\n",
       "      <td>-2.9</td>\n",
       "      <td>8.5</td>\n",
       "      <td>-16.0</td>\n",
       "      <td>48.1</td>\n",
       "      <td>152.990</td>\n",
       "      <td>-3.3</td>\n",
       "      <td>7.7</td>\n",
       "      <td>...</td>\n",
       "      <td>-8.4</td>\n",
       "      <td>30.2</td>\n",
       "      <td>231.670</td>\n",
       "      <td>-1.4</td>\n",
       "      <td>12.5</td>\n",
       "      <td>-14.9</td>\n",
       "      <td>16.9</td>\n",
       "      <td>234.160</td>\n",
       "      <td>2147.0</td>\n",
       "      <td>87619.0</td>\n",
       "    </tr>\n",
       "    <tr>\n",
       "      <th>1</th>\n",
       "      <td>강원도</td>\n",
       "      <td>spring</td>\n",
       "      <td>2001</td>\n",
       "      <td>-6.1</td>\n",
       "      <td>7.3</td>\n",
       "      <td>-23.5</td>\n",
       "      <td>37.2</td>\n",
       "      <td>257.045</td>\n",
       "      <td>-2.2</td>\n",
       "      <td>13.5</td>\n",
       "      <td>...</td>\n",
       "      <td>-7.4</td>\n",
       "      <td>15.5</td>\n",
       "      <td>269.430</td>\n",
       "      <td>-3.0</td>\n",
       "      <td>10.6</td>\n",
       "      <td>-13.7</td>\n",
       "      <td>18.5</td>\n",
       "      <td>256.155</td>\n",
       "      <td>842.0</td>\n",
       "      <td>47271.0</td>\n",
       "    </tr>\n",
       "    <tr>\n",
       "      <th>2</th>\n",
       "      <td>강원도</td>\n",
       "      <td>spring</td>\n",
       "      <td>2002</td>\n",
       "      <td>-2.8</td>\n",
       "      <td>10.6</td>\n",
       "      <td>-19.2</td>\n",
       "      <td>60.8</td>\n",
       "      <td>251.510</td>\n",
       "      <td>0.3</td>\n",
       "      <td>14.2</td>\n",
       "      <td>...</td>\n",
       "      <td>-9.8</td>\n",
       "      <td>7.5</td>\n",
       "      <td>281.405</td>\n",
       "      <td>-1.3</td>\n",
       "      <td>16.0</td>\n",
       "      <td>-14.5</td>\n",
       "      <td>49.9</td>\n",
       "      <td>220.680</td>\n",
       "      <td>196.0</td>\n",
       "      <td>9230.0</td>\n",
       "    </tr>\n",
       "    <tr>\n",
       "      <th>3</th>\n",
       "      <td>강원도</td>\n",
       "      <td>spring</td>\n",
       "      <td>2003</td>\n",
       "      <td>-5.4</td>\n",
       "      <td>6.8</td>\n",
       "      <td>-20.0</td>\n",
       "      <td>23.7</td>\n",
       "      <td>260.055</td>\n",
       "      <td>-0.4</td>\n",
       "      <td>10.8</td>\n",
       "      <td>...</td>\n",
       "      <td>-7.6</td>\n",
       "      <td>71.7</td>\n",
       "      <td>210.580</td>\n",
       "      <td>-1.5</td>\n",
       "      <td>12.5</td>\n",
       "      <td>-14.1</td>\n",
       "      <td>8.5</td>\n",
       "      <td>260.870</td>\n",
       "      <td>520.0</td>\n",
       "      <td>24752.0</td>\n",
       "    </tr>\n",
       "    <tr>\n",
       "      <th>4</th>\n",
       "      <td>강원도</td>\n",
       "      <td>spring</td>\n",
       "      <td>2004</td>\n",
       "      <td>-4.4</td>\n",
       "      <td>8.5</td>\n",
       "      <td>-18.3</td>\n",
       "      <td>11.1</td>\n",
       "      <td>294.320</td>\n",
       "      <td>0.1</td>\n",
       "      <td>18.7</td>\n",
       "      <td>...</td>\n",
       "      <td>-4.9</td>\n",
       "      <td>39.5</td>\n",
       "      <td>267.470</td>\n",
       "      <td>-0.3</td>\n",
       "      <td>15.1</td>\n",
       "      <td>-13.0</td>\n",
       "      <td>20.5</td>\n",
       "      <td>254.615</td>\n",
       "      <td>2491.0</td>\n",
       "      <td>109380.0</td>\n",
       "    </tr>\n",
       "  </tbody>\n",
       "</table>\n",
       "<p>5 rows × 65 columns</p>\n",
       "</div>"
      ],
      "text/plain": [
       "  Unnamed: 0 Unnamed: 1  Unnamed: 2  평균기온(°C)_1월  최고기온(°C)_1월  최저기온(°C)_1월  \\\n",
       "0        강원도     spring        2000         -2.9          8.5        -16.0   \n",
       "1        강원도     spring        2001         -6.1          7.3        -23.5   \n",
       "2        강원도     spring        2002         -2.8         10.6        -19.2   \n",
       "3        강원도     spring        2003         -5.4          6.8        -20.0   \n",
       "4        강원도     spring        2004         -4.4          8.5        -18.3   \n",
       "\n",
       "   월합강수량(00~24h만)(mm)_1월  합계 일사량(MJ/m2)_1월  평균기온(°C)_2월  최고기온(°C)_2월  ...  \\\n",
       "0                   48.1           152.990         -3.3          7.7  ...   \n",
       "1                   37.2           257.045         -2.2         13.5  ...   \n",
       "2                   60.8           251.510          0.3         14.2  ...   \n",
       "3                   23.7           260.055         -0.4         10.8  ...   \n",
       "4                   11.1           294.320          0.1         18.7  ...   \n",
       "\n",
       "   최저기온(°C)_11월  월합강수량(00~24h만)(mm)_11월  합계 일사량(MJ/m2)_11월  평균기온(°C)_12월  \\\n",
       "0          -8.4                    30.2            231.670          -1.4   \n",
       "1          -7.4                    15.5            269.430          -3.0   \n",
       "2          -9.8                     7.5            281.405          -1.3   \n",
       "3          -7.6                    71.7            210.580          -1.5   \n",
       "4          -4.9                    39.5            267.470          -0.3   \n",
       "\n",
       "   최고기온(°C)_12월  최저기온(°C)_12월  월합강수량(00~24h만)(mm)_12월  합계 일사량(MJ/m2)_12월  \\\n",
       "0          12.5         -14.9                    16.9            234.160   \n",
       "1          10.6         -13.7                    18.5            256.155   \n",
       "2          16.0         -14.5                    49.9            220.680   \n",
       "3          12.5         -14.1                     8.5            260.870   \n",
       "4          15.1         -13.0                    20.5            254.615   \n",
       "\n",
       "   면적 (ha)   생산량 (톤)  \n",
       "0   2147.0   87619.0  \n",
       "1    842.0   47271.0  \n",
       "2    196.0    9230.0  \n",
       "3    520.0   24752.0  \n",
       "4   2491.0  109380.0  \n",
       "\n",
       "[5 rows x 65 columns]"
      ]
     },
     "execution_count": 1090,
     "metadata": {},
     "output_type": "execute_result"
    }
   ],
   "source": [
    "# df.head()"
   ]
  }
 ],
 "metadata": {
  "kernelspec": {
   "display_name": "Python 3 (ipykernel)",
   "language": "python",
   "name": "python3"
  },
  "language_info": {
   "codemirror_mode": {
    "name": "ipython",
    "version": 3
   },
   "file_extension": ".py",
   "mimetype": "text/x-python",
   "name": "python",
   "nbconvert_exporter": "python",
   "pygments_lexer": "ipython3",
   "version": "3.9.12"
  },
  "vscode": {
   "interpreter": {
    "hash": "de11d0c16539acdfeb0e501d4eda7b58b0438a2781c2c1df7ab38defdddf0dd6"
   }
  }
 },
 "nbformat": 4,
 "nbformat_minor": 5
}
