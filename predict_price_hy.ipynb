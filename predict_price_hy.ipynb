{
 "cells": [
  {
   "cell_type": "code",
   "execution_count": 54,
   "metadata": {},
   "outputs": [],
   "source": [
    "import pandas as pd\n",
    "import numpy as np\n",
    "import seaborn as sns\n",
    "from sklearn.preprocessing import StandardScaler, MinMaxScaler\n",
    "import matplotlib.pyplot as plt\n",
    "from xgboost import XGBRegressor\n",
    "from sklearn.model_selection import train_test_split\n",
    "from sklearn.metrics import mean_squared_error\n",
    "from sklearn.metrics import mean_absolute_error\n",
    "from sklearn.metrics import r2_score\n",
    "from sklearn.metrics import mean_squared_log_error\n",
    "import warnings\n",
    "warnings.filterwarnings('ignore')"
   ]
  },
  {
   "cell_type": "code",
   "execution_count": 96,
   "metadata": {},
   "outputs": [],
   "source": [
    "#\n",
    "data = pd.read_csv('data/merge_all/merge_all.csv')"
   ]
  },
  {
   "cell_type": "code",
   "execution_count": 56,
   "metadata": {},
   "outputs": [],
   "source": [
    "# data 에서 거래년월"
   ]
  },
  {
   "cell_type": "code",
   "execution_count": 57,
   "metadata": {},
   "outputs": [
    {
     "name": "stdout",
     "output_type": "stream",
     "text": [
      "<class 'pandas.core.frame.DataFrame'>\n",
      "RangeIndex: 8370 entries, 0 to 8369\n",
      "Data columns (total 5 columns):\n",
      " #   Column          Non-Null Count  Dtype  \n",
      "---  ------          --------------  -----  \n",
      " 0   거래년월일           8370 non-null   object \n",
      " 1   자동차용 경유 가격 (원)  8370 non-null   float64\n",
      " 2   전월비(%)          8370 non-null   float64\n",
      " 3   평균              8370 non-null   float64\n",
      " 4   거래량             8370 non-null   float64\n",
      "dtypes: float64(4), object(1)\n",
      "memory usage: 327.1+ KB\n"
     ]
    }
   ],
   "source": [
    "data.info()"
   ]
  },
  {
   "cell_type": "code",
   "execution_count": 58,
   "metadata": {},
   "outputs": [],
   "source": [
    "# 데이터 나누기\n",
    "X = data[['자동차용 경유 가격 (원)', '전월비(%)', '거래량']]\n",
    "y = data['평균']\n",
    "X_train, X_test, y_train, y_test = train_test_split(X, y, test_size=0.2, random_state=42)    \n"
   ]
  },
  {
   "cell_type": "code",
   "execution_count": 68,
   "metadata": {},
   "outputs": [],
   "source": [
    "# 데이터 정규화 하기\n",
    "scaler = StandardScaler()\n",
    "X_train = scaler.fit_transform(X_train)\n",
    "X_test = scaler.transform(X_test)\n",
    "y_train = scaler.fit_transform(y_train.values.reshape(-1,1))\n",
    "y_test = scaler.transform(y_test.values.reshape(-1,1))"
   ]
  },
  {
   "cell_type": "code",
   "execution_count": 69,
   "metadata": {},
   "outputs": [
    {
     "data": {
      "text/plain": [
       "array([[ 1.73020078,  0.60845508, -0.62240597],\n",
       "       [-1.71471051, -0.29130583, -0.51140789],\n",
       "       [ 0.47248127, -0.29130583,  0.59930809],\n",
       "       ...,\n",
       "       [ 0.82186893, -1.19106674, -0.09142102],\n",
       "       [-1.63340954,  0.37373484, -0.28280987],\n",
       "       [ 0.26634852, -1.28886684,  2.64567209]])"
      ]
     },
     "execution_count": 69,
     "metadata": {},
     "output_type": "execute_result"
    }
   ],
   "source": [
    "X_train"
   ]
  },
  {
   "cell_type": "code",
   "execution_count": 70,
   "metadata": {},
   "outputs": [
    {
     "data": {
      "text/plain": [
       "array([[-0.34009368,  0.530215  ,  0.21788251],\n",
       "       [ 0.42509193,  1.7233762 , -0.26396104],\n",
       "       [ 1.11509045, -0.89766645,  1.48726752],\n",
       "       ...,\n",
       "       [ 0.60166069, -0.97590652,  0.18021003],\n",
       "       [ 0.26634852, -1.28886684,  0.31915402],\n",
       "       [ 0.16586357,  0.3346148 , -0.3364205 ]])"
      ]
     },
     "execution_count": 70,
     "metadata": {},
     "output_type": "execute_result"
    }
   ],
   "source": [
    "X_test"
   ]
  },
  {
   "cell_type": "code",
   "execution_count": 71,
   "metadata": {},
   "outputs": [
    {
     "data": {
      "text/html": [
       "<style>#sk-container-id-6 {color: black;background-color: white;}#sk-container-id-6 pre{padding: 0;}#sk-container-id-6 div.sk-toggleable {background-color: white;}#sk-container-id-6 label.sk-toggleable__label {cursor: pointer;display: block;width: 100%;margin-bottom: 0;padding: 0.3em;box-sizing: border-box;text-align: center;}#sk-container-id-6 label.sk-toggleable__label-arrow:before {content: \"▸\";float: left;margin-right: 0.25em;color: #696969;}#sk-container-id-6 label.sk-toggleable__label-arrow:hover:before {color: black;}#sk-container-id-6 div.sk-estimator:hover label.sk-toggleable__label-arrow:before {color: black;}#sk-container-id-6 div.sk-toggleable__content {max-height: 0;max-width: 0;overflow: hidden;text-align: left;background-color: #f0f8ff;}#sk-container-id-6 div.sk-toggleable__content pre {margin: 0.2em;color: black;border-radius: 0.25em;background-color: #f0f8ff;}#sk-container-id-6 input.sk-toggleable__control:checked~div.sk-toggleable__content {max-height: 200px;max-width: 100%;overflow: auto;}#sk-container-id-6 input.sk-toggleable__control:checked~label.sk-toggleable__label-arrow:before {content: \"▾\";}#sk-container-id-6 div.sk-estimator input.sk-toggleable__control:checked~label.sk-toggleable__label {background-color: #d4ebff;}#sk-container-id-6 div.sk-label input.sk-toggleable__control:checked~label.sk-toggleable__label {background-color: #d4ebff;}#sk-container-id-6 input.sk-hidden--visually {border: 0;clip: rect(1px 1px 1px 1px);clip: rect(1px, 1px, 1px, 1px);height: 1px;margin: -1px;overflow: hidden;padding: 0;position: absolute;width: 1px;}#sk-container-id-6 div.sk-estimator {font-family: monospace;background-color: #f0f8ff;border: 1px dotted black;border-radius: 0.25em;box-sizing: border-box;margin-bottom: 0.5em;}#sk-container-id-6 div.sk-estimator:hover {background-color: #d4ebff;}#sk-container-id-6 div.sk-parallel-item::after {content: \"\";width: 100%;border-bottom: 1px solid gray;flex-grow: 1;}#sk-container-id-6 div.sk-label:hover label.sk-toggleable__label {background-color: #d4ebff;}#sk-container-id-6 div.sk-serial::before {content: \"\";position: absolute;border-left: 1px solid gray;box-sizing: border-box;top: 0;bottom: 0;left: 50%;z-index: 0;}#sk-container-id-6 div.sk-serial {display: flex;flex-direction: column;align-items: center;background-color: white;padding-right: 0.2em;padding-left: 0.2em;position: relative;}#sk-container-id-6 div.sk-item {position: relative;z-index: 1;}#sk-container-id-6 div.sk-parallel {display: flex;align-items: stretch;justify-content: center;background-color: white;position: relative;}#sk-container-id-6 div.sk-item::before, #sk-container-id-6 div.sk-parallel-item::before {content: \"\";position: absolute;border-left: 1px solid gray;box-sizing: border-box;top: 0;bottom: 0;left: 50%;z-index: -1;}#sk-container-id-6 div.sk-parallel-item {display: flex;flex-direction: column;z-index: 1;position: relative;background-color: white;}#sk-container-id-6 div.sk-parallel-item:first-child::after {align-self: flex-end;width: 50%;}#sk-container-id-6 div.sk-parallel-item:last-child::after {align-self: flex-start;width: 50%;}#sk-container-id-6 div.sk-parallel-item:only-child::after {width: 0;}#sk-container-id-6 div.sk-dashed-wrapped {border: 1px dashed gray;margin: 0 0.4em 0.5em 0.4em;box-sizing: border-box;padding-bottom: 0.4em;background-color: white;}#sk-container-id-6 div.sk-label label {font-family: monospace;font-weight: bold;display: inline-block;line-height: 1.2em;}#sk-container-id-6 div.sk-label-container {text-align: center;}#sk-container-id-6 div.sk-container {/* jupyter's `normalize.less` sets `[hidden] { display: none; }` but bootstrap.min.css set `[hidden] { display: none !important; }` so we also need the `!important` here to be able to override the default hidden behavior on the sphinx rendered scikit-learn.org. See: https://github.com/scikit-learn/scikit-learn/issues/21755 */display: inline-block !important;position: relative;}#sk-container-id-6 div.sk-text-repr-fallback {display: none;}</style><div id=\"sk-container-id-6\" class=\"sk-top-container\"><div class=\"sk-text-repr-fallback\"><pre>XGBRegressor(base_score=0.5, booster=&#x27;gbtree&#x27;, colsample_bylevel=1,\n",
       "             colsample_bynode=1, colsample_bytree=1, enable_categorical=False,\n",
       "             gamma=0, gpu_id=-1, importance_type=None,\n",
       "             interaction_constraints=&#x27;&#x27;, learning_rate=0.300000012,\n",
       "             max_delta_step=0, max_depth=6, min_child_weight=1, missing=nan,\n",
       "             monotone_constraints=&#x27;()&#x27;, n_estimators=100, n_jobs=8,\n",
       "             num_parallel_tree=1, predictor=&#x27;auto&#x27;, random_state=0, reg_alpha=0,\n",
       "             reg_lambda=1, scale_pos_weight=1, subsample=1, tree_method=&#x27;exact&#x27;,\n",
       "             validate_parameters=1, verbosity=None)</pre><b>In a Jupyter environment, please rerun this cell to show the HTML representation or trust the notebook. <br />On GitHub, the HTML representation is unable to render, please try loading this page with nbviewer.org.</b></div><div class=\"sk-container\" hidden><div class=\"sk-item\"><div class=\"sk-estimator sk-toggleable\"><input class=\"sk-toggleable__control sk-hidden--visually\" id=\"sk-estimator-id-6\" type=\"checkbox\" checked><label for=\"sk-estimator-id-6\" class=\"sk-toggleable__label sk-toggleable__label-arrow\">XGBRegressor</label><div class=\"sk-toggleable__content\"><pre>XGBRegressor(base_score=0.5, booster=&#x27;gbtree&#x27;, colsample_bylevel=1,\n",
       "             colsample_bynode=1, colsample_bytree=1, enable_categorical=False,\n",
       "             gamma=0, gpu_id=-1, importance_type=None,\n",
       "             interaction_constraints=&#x27;&#x27;, learning_rate=0.300000012,\n",
       "             max_delta_step=0, max_depth=6, min_child_weight=1, missing=nan,\n",
       "             monotone_constraints=&#x27;()&#x27;, n_estimators=100, n_jobs=8,\n",
       "             num_parallel_tree=1, predictor=&#x27;auto&#x27;, random_state=0, reg_alpha=0,\n",
       "             reg_lambda=1, scale_pos_weight=1, subsample=1, tree_method=&#x27;exact&#x27;,\n",
       "             validate_parameters=1, verbosity=None)</pre></div></div></div></div></div>"
      ],
      "text/plain": [
       "XGBRegressor(base_score=0.5, booster='gbtree', colsample_bylevel=1,\n",
       "             colsample_bynode=1, colsample_bytree=1, enable_categorical=False,\n",
       "             gamma=0, gpu_id=-1, importance_type=None,\n",
       "             interaction_constraints='', learning_rate=0.300000012,\n",
       "             max_delta_step=0, max_depth=6, min_child_weight=1, missing=nan,\n",
       "             monotone_constraints='()', n_estimators=100, n_jobs=8,\n",
       "             num_parallel_tree=1, predictor='auto', random_state=0, reg_alpha=0,\n",
       "             reg_lambda=1, scale_pos_weight=1, subsample=1, tree_method='exact',\n",
       "             validate_parameters=1, verbosity=None)"
      ]
     },
     "execution_count": 71,
     "metadata": {},
     "output_type": "execute_result"
    }
   ],
   "source": [
    "# 모델 만들기\n",
    "model = XGBRegressor()\n",
    "model.fit(X_train, y_train)"
   ]
  },
  {
   "cell_type": "code",
   "execution_count": 73,
   "metadata": {},
   "outputs": [
    {
     "name": "stdout",
     "output_type": "stream",
     "text": [
      "R2 : 0.904123174345869\n"
     ]
    }
   ],
   "source": [
    "# 예측\n",
    "y_pred = model.predict(X_test)\n",
    "        \n",
    "# 평가\n",
    "#print('MSE :', mean_squared_error(y_test, y_pred))\n",
    "#print('RMSE :', np.sqrt(mean_squared_error(y_test, y_pred)))\n",
    "#print('MAE :', mean_absolute_error(y_test, y_pred))\n",
    "print('R2 :', r2_score(y_test, y_pred))\n",
    "#print('MSLE :', mean_squared_log_error(y_test, y_pred))"
   ]
  },
  {
   "cell_type": "code",
   "execution_count": 74,
   "metadata": {},
   "outputs": [
    {
     "data": {
      "image/png": "[encoded data removed]",
      "text/plain": [
       "<Figure size 1000x500 with 1 Axes>"
      ]
     },
     "metadata": {},
     "output_type": "display_data"
    }
   ],
   "source": [
    "# 예측값과 실제값 비교\n",
    "plt.figure(figsize=(10, 5))\n",
    "plt.plot(y_test, label='y_test')\n",
    "plt.plot(y_pred, label='y_pred')\n",
    "plt.legend()\n",
    "plt.show()"
   ]
  },
  {
   "cell_type": "code",
   "execution_count": 66,
   "metadata": {},
   "outputs": [],
   "source": [
    "# data 로 LSTM 예측 모델 만들기\n"
   ]
  },
  {
   "cell_type": "code",
   "execution_count": 99,
   "metadata": {},
   "outputs": [
    {
     "data": {
      "text/html": [
       "<div>\n",
       "<style scoped>\n",
       "    .dataframe tbody tr th:only-of-type {\n",
       "        vertical-align: middle;\n",
       "    }\n",
       "\n",
       "    .dataframe tbody tr th {\n",
       "        vertical-align: top;\n",
       "    }\n",
       "\n",
       "    .dataframe thead th {\n",
       "        text-align: right;\n",
       "    }\n",
       "</style>\n",
       "<table border=\"1\" class=\"dataframe\">\n",
       "  <thead>\n",
       "    <tr style=\"text-align: right;\">\n",
       "      <th></th>\n",
       "      <th>거래년월일</th>\n",
       "      <th>자동차용 경유 가격 (원)</th>\n",
       "      <th>전월비(%)</th>\n",
       "      <th>평균</th>\n",
       "      <th>거래량</th>\n",
       "    </tr>\n",
       "  </thead>\n",
       "  <tbody>\n",
       "    <tr>\n",
       "      <th>0</th>\n",
       "      <td>2000-01-01</td>\n",
       "      <td>583.35</td>\n",
       "      <td>4.0</td>\n",
       "      <td>5600.0</td>\n",
       "      <td>102285.0</td>\n",
       "    </tr>\n",
       "    <tr>\n",
       "      <th>1</th>\n",
       "      <td>2000-01-02</td>\n",
       "      <td>583.35</td>\n",
       "      <td>4.0</td>\n",
       "      <td>5600.0</td>\n",
       "      <td>102285.0</td>\n",
       "    </tr>\n",
       "    <tr>\n",
       "      <th>2</th>\n",
       "      <td>2000-01-03</td>\n",
       "      <td>583.35</td>\n",
       "      <td>4.0</td>\n",
       "      <td>5600.0</td>\n",
       "      <td>102285.0</td>\n",
       "    </tr>\n",
       "    <tr>\n",
       "      <th>3</th>\n",
       "      <td>2000-01-04</td>\n",
       "      <td>583.35</td>\n",
       "      <td>4.0</td>\n",
       "      <td>5600.0</td>\n",
       "      <td>715338.0</td>\n",
       "    </tr>\n",
       "    <tr>\n",
       "      <th>4</th>\n",
       "      <td>2000-01-05</td>\n",
       "      <td>583.35</td>\n",
       "      <td>4.0</td>\n",
       "      <td>5620.0</td>\n",
       "      <td>340568.0</td>\n",
       "    </tr>\n",
       "    <tr>\n",
       "      <th>...</th>\n",
       "      <td>...</td>\n",
       "      <td>...</td>\n",
       "      <td>...</td>\n",
       "      <td>...</td>\n",
       "      <td>...</td>\n",
       "    </tr>\n",
       "    <tr>\n",
       "      <th>8365</th>\n",
       "      <td>2022-11-26</td>\n",
       "      <td>1879.15</td>\n",
       "      <td>-8.0</td>\n",
       "      <td>6100.0</td>\n",
       "      <td>296250.0</td>\n",
       "    </tr>\n",
       "    <tr>\n",
       "      <th>8366</th>\n",
       "      <td>2022-11-27</td>\n",
       "      <td>1879.15</td>\n",
       "      <td>-8.0</td>\n",
       "      <td>6100.0</td>\n",
       "      <td>296250.0</td>\n",
       "    </tr>\n",
       "    <tr>\n",
       "      <th>8367</th>\n",
       "      <td>2022-11-28</td>\n",
       "      <td>1879.15</td>\n",
       "      <td>-8.0</td>\n",
       "      <td>5664.0</td>\n",
       "      <td>201478.0</td>\n",
       "    </tr>\n",
       "    <tr>\n",
       "      <th>8368</th>\n",
       "      <td>2022-11-29</td>\n",
       "      <td>1879.15</td>\n",
       "      <td>-8.0</td>\n",
       "      <td>5592.0</td>\n",
       "      <td>77130.0</td>\n",
       "    </tr>\n",
       "    <tr>\n",
       "      <th>8369</th>\n",
       "      <td>2022-11-30</td>\n",
       "      <td>1879.15</td>\n",
       "      <td>-8.0</td>\n",
       "      <td>5242.0</td>\n",
       "      <td>119783.0</td>\n",
       "    </tr>\n",
       "  </tbody>\n",
       "</table>\n",
       "<p>8370 rows × 5 columns</p>\n",
       "</div>"
      ],
      "text/plain": [
       "           거래년월일  자동차용 경유 가격 (원)  전월비(%)      평균       거래량\n",
       "0     2000-01-01          583.35     4.0  5600.0  102285.0\n",
       "1     2000-01-02          583.35     4.0  5600.0  102285.0\n",
       "2     2000-01-03          583.35     4.0  5600.0  102285.0\n",
       "3     2000-01-04          583.35     4.0  5600.0  715338.0\n",
       "4     2000-01-05          583.35     4.0  5620.0  340568.0\n",
       "...          ...             ...     ...     ...       ...\n",
       "8365  2022-11-26         1879.15    -8.0  6100.0  296250.0\n",
       "8366  2022-11-27         1879.15    -8.0  6100.0  296250.0\n",
       "8367  2022-11-28         1879.15    -8.0  5664.0  201478.0\n",
       "8368  2022-11-29         1879.15    -8.0  5592.0   77130.0\n",
       "8369  2022-11-30         1879.15    -8.0  5242.0  119783.0\n",
       "\n",
       "[8370 rows x 5 columns]"
      ]
     },
     "execution_count": 99,
     "metadata": {},
     "output_type": "execute_result"
    }
   ],
   "source": [
    "df = data\n",
    "# scaler = MinMaxScaler()\n",
    "# scale_cols = ['자동차용 경유 가격 (원)', '전월비(%)', '거래량']\n",
    "# df_scaled = scaler.fit_transform(df[scale_cols])\n",
    "# df_scaled = pd.DataFrame(df_scaled)\n",
    "# df_scaled.columns = scale_cols\n",
    "\n",
    "df"
   ]
  },
  {
   "cell_type": "code",
   "execution_count": 102,
   "metadata": {},
   "outputs": [
    {
     "data": {
      "text/html": [
       "<div>\n",
       "<style scoped>\n",
       "    .dataframe tbody tr th:only-of-type {\n",
       "        vertical-align: middle;\n",
       "    }\n",
       "\n",
       "    .dataframe tbody tr th {\n",
       "        vertical-align: top;\n",
       "    }\n",
       "\n",
       "    .dataframe thead th {\n",
       "        text-align: right;\n",
       "    }\n",
       "</style>\n",
       "<table border=\"1\" class=\"dataframe\">\n",
       "  <thead>\n",
       "    <tr style=\"text-align: right;\">\n",
       "      <th></th>\n",
       "      <th>거래년월일</th>\n",
       "      <th>자동차용 경유 가격 (원)</th>\n",
       "      <th>전월비(%)</th>\n",
       "    </tr>\n",
       "  </thead>\n",
       "  <tbody>\n",
       "    <tr>\n",
       "      <th>0</th>\n",
       "      <td>2000-01-01</td>\n",
       "      <td>583.35</td>\n",
       "      <td>4.0</td>\n",
       "    </tr>\n",
       "    <tr>\n",
       "      <th>1</th>\n",
       "      <td>2000-01-02</td>\n",
       "      <td>583.35</td>\n",
       "      <td>4.0</td>\n",
       "    </tr>\n",
       "    <tr>\n",
       "      <th>2</th>\n",
       "      <td>2000-01-03</td>\n",
       "      <td>583.35</td>\n",
       "      <td>4.0</td>\n",
       "    </tr>\n",
       "    <tr>\n",
       "      <th>3</th>\n",
       "      <td>2000-01-04</td>\n",
       "      <td>583.35</td>\n",
       "      <td>4.0</td>\n",
       "    </tr>\n",
       "    <tr>\n",
       "      <th>4</th>\n",
       "      <td>2000-01-05</td>\n",
       "      <td>583.35</td>\n",
       "      <td>4.0</td>\n",
       "    </tr>\n",
       "    <tr>\n",
       "      <th>...</th>\n",
       "      <td>...</td>\n",
       "      <td>...</td>\n",
       "      <td>...</td>\n",
       "    </tr>\n",
       "    <tr>\n",
       "      <th>8365</th>\n",
       "      <td>2022-11-26</td>\n",
       "      <td>1879.15</td>\n",
       "      <td>-8.0</td>\n",
       "    </tr>\n",
       "    <tr>\n",
       "      <th>8366</th>\n",
       "      <td>2022-11-27</td>\n",
       "      <td>1879.15</td>\n",
       "      <td>-8.0</td>\n",
       "    </tr>\n",
       "    <tr>\n",
       "      <th>8367</th>\n",
       "      <td>2022-11-28</td>\n",
       "      <td>1879.15</td>\n",
       "      <td>-8.0</td>\n",
       "    </tr>\n",
       "    <tr>\n",
       "      <th>8368</th>\n",
       "      <td>2022-11-29</td>\n",
       "      <td>1879.15</td>\n",
       "      <td>-8.0</td>\n",
       "    </tr>\n",
       "    <tr>\n",
       "      <th>8369</th>\n",
       "      <td>2022-11-30</td>\n",
       "      <td>1879.15</td>\n",
       "      <td>-8.0</td>\n",
       "    </tr>\n",
       "  </tbody>\n",
       "</table>\n",
       "<p>8370 rows × 3 columns</p>\n",
       "</div>"
      ],
      "text/plain": [
       "           거래년월일  자동차용 경유 가격 (원)  전월비(%)\n",
       "0     2000-01-01          583.35     4.0\n",
       "1     2000-01-02          583.35     4.0\n",
       "2     2000-01-03          583.35     4.0\n",
       "3     2000-01-04          583.35     4.0\n",
       "4     2000-01-05          583.35     4.0\n",
       "...          ...             ...     ...\n",
       "8365  2022-11-26         1879.15    -8.0\n",
       "8366  2022-11-27         1879.15    -8.0\n",
       "8367  2022-11-28         1879.15    -8.0\n",
       "8368  2022-11-29         1879.15    -8.0\n",
       "8369  2022-11-30         1879.15    -8.0\n",
       "\n",
       "[8370 rows x 3 columns]"
      ]
     },
     "execution_count": 102,
     "metadata": {},
     "output_type": "execute_result"
    }
   ],
   "source": [
    "# df 에서 평균 컬럼만 iloc로 추출 (y값)\n",
    "#df = df.iloc[:, 3:4].values\n",
    "#df\n",
    "\n",
    "# df 에서 평균 컬럼 제외하고 추출\n",
    "df2 = df.iloc[:, 0:3]\n",
    "df2"
   ]
  },
  {
   "cell_type": "code",
   "execution_count": 86,
   "metadata": {},
   "outputs": [],
   "source": [
    "# df에서 거래년월, 평균 제거\n",
    "# df = df.drop(['거래년월일', '평균'], axis=1, inplace=True)\n",
    "# df"
   ]
  },
  {
   "cell_type": "code",
   "execution_count": null,
   "metadata": {},
   "outputs": [],
   "source": []
  },
  {
   "cell_type": "code",
   "execution_count": 78,
   "metadata": {},
   "outputs": [],
   "source": [
    "# X = df_scaled\n",
    "# y = df['평균']"
   ]
  },
  {
   "cell_type": "code",
   "execution_count": 79,
   "metadata": {},
   "outputs": [
    {
     "data": {
      "text/plain": [
       "((6696, 3), (1674, 3))"
      ]
     },
     "execution_count": 79,
     "metadata": {},
     "output_type": "execute_result"
    }
   ],
   "source": [
    "# x_train, x_valid, y_train, y_valid = train_test_split(X, y, test_size=0.2, random_state=10)\n",
    "# x_train.shape, x_valid.shape"
   ]
  },
  {
   "cell_type": "code",
   "execution_count": 88,
   "metadata": {},
   "outputs": [
    {
     "name": "stdout",
     "output_type": "stream",
     "text": [
      "[[ 5.83350e+02  4.00000e+00  1.02285e+05]\n",
      " [ 5.83350e+02  4.00000e+00  1.02285e+05]\n",
      " [ 5.83350e+02  4.00000e+00  1.02285e+05]\n",
      " ...\n",
      " [ 1.87915e+03 -8.00000e+00  2.01478e+05]\n",
      " [ 1.87915e+03 -8.00000e+00  7.71300e+04]\n",
      " [ 1.87915e+03 -8.00000e+00  1.19783e+05]]\n"
     ]
    }
   ],
   "source": [
    "def normalize_data(dataset):\n",
    "    cols = dataset.columns.tolist()\n",
    "    col_name = [0]*len(cols)\n",
    "    for i in range(len(cols)):\n",
    "        col_name[i] = i\n",
    "    dataset.columns = col_name\n",
    "    dtypes = dataset.dtypes.tolist()\n",
    "    minmax = list()\n",
    "    for column in dataset:\n",
    "        dataset = dataset.astype({column: 'float32'})\n",
    "    for i in range(len(cols)):\n",
    "        col_values = dataset[col_name[i]]\n",
    "        value_min = min(col_values)\n",
    "        value_max = max(col_values)\n",
    "        minmax.append([value_min, value_max])\n",
    "    for column in dataset:\n",
    "        values = dataset[column].values\n",
    "        for i in range(len(values)):\n",
    "            values[i] = (values[i] - minmax[column][0]) / (minmax[column][1] - minmax[column][0])\n",
    "        dataset[column] = values\n",
    "    dataset[column] = values\n",
    "    return dataset,minmax\n",
    "    \n",
    "dataset,minmax = normalize_data(df)\n",
    "print(df.values)\n",
    "values = dataset.values"
   ]
  },
  {
   "cell_type": "code",
   "execution_count": null,
   "metadata": {},
   "outputs": [],
   "source": [
    "df "
   ]
  },
  {
   "cell_type": "code",
   "execution_count": null,
   "metadata": {},
   "outputs": [],
   "source": [
    "def split_sequences(sequence, n_steps):\n",
    "    X, y = list(), list()\n",
    "    for i in range(len(sequence)):\n",
    "        end_ix = i + n_steps\n",
    "        if end_ix > len(sequence)-1:\n",
    "            break\n",
    "        seq_x, seq_y = sequence[i:end_ix], sequence[end_ix]\n",
    "        X.append(seq_x)\n",
    "        y.append(seq_y)\n",
    "    return np.array(X), np.array(y)\n",
    "    \n",
    "def data_setup(n_steps, n_seq,sequence):\n",
    "    X, y = split_sequences(sequence, n_steps)\n",
    "    n_features = X.shape[2]\n",
    "    X = X.reshape((len(X),n_steps, n_features))\n",
    "    new_y = []\n",
    "    for term in y:\n",
    "        new_term = term[-1]\n",
    "        new_y.append(new_term)\n",
    "    return X, np.array(new_y), n_features\n",
    "    \n",
    "n_steps = 10\n",
    "n_seq = 10000\n",
    "rel_test_len = 0.1\n",
    "X,y,n_features = data_setup(n_steps,n_seq,values)\n",
    "X = X[:-1]\n",
    "y = y[1:]\n",
    "X_test,y_test = X[:int(len(X)*rel_test_len)],y[:int(len(X)*rel_test_len)]\n",
    "X_train,y_train = X[int(len(X)*rel_test_len):],y[int(len(X)*rel_test_len):]\n",
    "X.shape"
   ]
  }
 ],
 "metadata": {
  "kernelspec": {
   "display_name": "base",
   "language": "python",
   "name": "python3"
  },
  "language_info": {
   "codemirror_mode": {
    "name": "ipython",
    "version": 3
   },
   "file_extension": ".py",
   "mimetype": "text/x-python",
   "name": "python",
   "nbconvert_exporter": "python",
   "pygments_lexer": "ipython3",
   "version": "3.9.12"
  },
  "orig_nbformat": 4,
  "vscode": {
   "interpreter": {
    "hash": "29db9c19af6299433467101c7e656ac8b3fe814b60a8418f253b91cb08fc3410"
   }
  }
 },
 "nbformat": 4,
 "nbformat_minor": 2
}
