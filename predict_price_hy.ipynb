{
 "cells": [
  {
   "cell_type": "code",
   "execution_count": 213,
   "metadata": {},
   "outputs": [],
   "source": [
    "import pandas as pd\n",
    "import numpy as np\n",
    "import seaborn as sns\n",
    "from sklearn.preprocessing import StandardScaler, MinMaxScaler\n",
    "import matplotlib.pyplot as plt\n",
    "from xgboost import XGBRegressor\n",
    "from sklearn.model_selection import train_test_split\n",
    "from sklearn.metrics import mean_squared_error\n",
    "from sklearn.metrics import mean_absolute_error\n",
    "from sklearn.metrics import r2_score\n",
    "from sklearn.metrics import mean_squared_log_error\n",
    "from tensorflow.keras.callbacks import EarlyStopping\n",
    "from keras.models import Sequential\n",
    "from keras.layers import Dense, Activation, LSTM, Dropout\n",
    "import warnings\n",
    "warnings.filterwarnings('ignore')"
   ]
  },
  {
   "cell_type": "code",
   "execution_count": 214,
   "metadata": {},
   "outputs": [
    {
     "data": {
      "text/html": [
       "<div>\n",
       "<style scoped>\n",
       "    .dataframe tbody tr th:only-of-type {\n",
       "        vertical-align: middle;\n",
       "    }\n",
       "\n",
       "    .dataframe tbody tr th {\n",
       "        vertical-align: top;\n",
       "    }\n",
       "\n",
       "    .dataframe thead th {\n",
       "        text-align: right;\n",
       "    }\n",
       "</style>\n",
       "<table border=\"1\" class=\"dataframe\">\n",
       "  <thead>\n",
       "    <tr style=\"text-align: right;\">\n",
       "      <th></th>\n",
       "      <th>지수종류(1)</th>\n",
       "      <th>2000.01</th>\n",
       "      <th>2000.02</th>\n",
       "      <th>2000.03</th>\n",
       "      <th>2000.04</th>\n",
       "      <th>2000.05</th>\n",
       "      <th>2000.06</th>\n",
       "      <th>2000.07</th>\n",
       "      <th>2000.08</th>\n",
       "      <th>2000.09</th>\n",
       "      <th>...</th>\n",
       "      <th>2022.02</th>\n",
       "      <th>2022.03</th>\n",
       "      <th>2022.04</th>\n",
       "      <th>2022.05</th>\n",
       "      <th>2022.06</th>\n",
       "      <th>2022.07</th>\n",
       "      <th>2022.08</th>\n",
       "      <th>2022.09</th>\n",
       "      <th>2022.10</th>\n",
       "      <th>2022.11</th>\n",
       "    </tr>\n",
       "  </thead>\n",
       "  <tbody>\n",
       "    <tr>\n",
       "      <th>0</th>\n",
       "      <td>지수종류(1)</td>\n",
       "      <td>전월비 (%)</td>\n",
       "      <td>전월비 (%)</td>\n",
       "      <td>전월비 (%)</td>\n",
       "      <td>전월비 (%)</td>\n",
       "      <td>전월비 (%)</td>\n",
       "      <td>전월비 (%)</td>\n",
       "      <td>전월비 (%)</td>\n",
       "      <td>전월비 (%)</td>\n",
       "      <td>전월비 (%)</td>\n",
       "      <td>...</td>\n",
       "      <td>전월비 (%)</td>\n",
       "      <td>전월비 (%)</td>\n",
       "      <td>전월비 (%)</td>\n",
       "      <td>전월비 (%)</td>\n",
       "      <td>전월비 (%)</td>\n",
       "      <td>전월비 (%)</td>\n",
       "      <td>전월비 (%)</td>\n",
       "      <td>전월비 (%)</td>\n",
       "      <td>전월비 (%)</td>\n",
       "      <td>전월비 (%)</td>\n",
       "    </tr>\n",
       "    <tr>\n",
       "      <th>1</th>\n",
       "      <td>신선식품지수</td>\n",
       "      <td>4.0</td>\n",
       "      <td>2.0</td>\n",
       "      <td>-0.8</td>\n",
       "      <td>-4.1</td>\n",
       "      <td>-6.8</td>\n",
       "      <td>-0.8</td>\n",
       "      <td>2.5</td>\n",
       "      <td>1.5</td>\n",
       "      <td>14.8</td>\n",
       "      <td>...</td>\n",
       "      <td>-0.1</td>\n",
       "      <td>-2.0</td>\n",
       "      <td>0.2</td>\n",
       "      <td>-2.0</td>\n",
       "      <td>-1.0</td>\n",
       "      <td>6.9</td>\n",
       "      <td>5.4</td>\n",
       "      <td>2.8</td>\n",
       "      <td>-6.1</td>\n",
       "      <td>-8.0</td>\n",
       "    </tr>\n",
       "  </tbody>\n",
       "</table>\n",
       "<p>2 rows × 276 columns</p>\n",
       "</div>"
      ],
      "text/plain": [
       "   지수종류(1)  2000.01  2000.02  2000.03  2000.04  2000.05  2000.06  2000.07  \\\n",
       "0  지수종류(1)  전월비 (%)  전월비 (%)  전월비 (%)  전월비 (%)  전월비 (%)  전월비 (%)  전월비 (%)   \n",
       "1   신선식품지수      4.0      2.0     -0.8     -4.1     -6.8     -0.8      2.5   \n",
       "\n",
       "   2000.08  2000.09  ...  2022.02  2022.03  2022.04  2022.05  2022.06  \\\n",
       "0  전월비 (%)  전월비 (%)  ...  전월비 (%)  전월비 (%)  전월비 (%)  전월비 (%)  전월비 (%)   \n",
       "1      1.5     14.8  ...     -0.1     -2.0      0.2     -2.0     -1.0   \n",
       "\n",
       "   2022.07  2022.08  2022.09  2022.10  2022.11  \n",
       "0  전월비 (%)  전월비 (%)  전월비 (%)  전월비 (%)  전월비 (%)  \n",
       "1      6.9      5.4      2.8     -6.1     -8.0  \n",
       "\n",
       "[2 rows x 276 columns]"
      ]
     },
     "execution_count": 214,
     "metadata": {},
     "output_type": "execute_result"
    }
   ],
   "source": [
    "#\n",
    "test = pd.read_csv('data/cpi/월별_소비자물가_등락률_20221220113618.csv', encoding='cp949')\n",
    "test"
   ]
  },
  {
   "cell_type": "code",
   "execution_count": 215,
   "metadata": {},
   "outputs": [
    {
     "data": {
      "text/html": [
       "<div>\n",
       "<style scoped>\n",
       "    .dataframe tbody tr th:only-of-type {\n",
       "        vertical-align: middle;\n",
       "    }\n",
       "\n",
       "    .dataframe tbody tr th {\n",
       "        vertical-align: top;\n",
       "    }\n",
       "\n",
       "    .dataframe thead th {\n",
       "        text-align: right;\n",
       "    }\n",
       "</style>\n",
       "<table border=\"1\" class=\"dataframe\">\n",
       "  <thead>\n",
       "    <tr style=\"text-align: right;\">\n",
       "      <th></th>\n",
       "      <th>구분</th>\n",
       "      <th>평균</th>\n",
       "    </tr>\n",
       "  </thead>\n",
       "  <tbody>\n",
       "    <tr>\n",
       "      <th>0</th>\n",
       "      <td>2000-01-03</td>\n",
       "      <td>5600.0</td>\n",
       "    </tr>\n",
       "    <tr>\n",
       "      <th>1</th>\n",
       "      <td>2000-01-04</td>\n",
       "      <td>5600.0</td>\n",
       "    </tr>\n",
       "    <tr>\n",
       "      <th>2</th>\n",
       "      <td>2000-01-05</td>\n",
       "      <td>5620.0</td>\n",
       "    </tr>\n",
       "    <tr>\n",
       "      <th>3</th>\n",
       "      <td>2000-01-06</td>\n",
       "      <td>5700.0</td>\n",
       "    </tr>\n",
       "    <tr>\n",
       "      <th>4</th>\n",
       "      <td>2000-01-07</td>\n",
       "      <td>5670.0</td>\n",
       "    </tr>\n",
       "    <tr>\n",
       "      <th>...</th>\n",
       "      <td>...</td>\n",
       "      <td>...</td>\n",
       "    </tr>\n",
       "    <tr>\n",
       "      <th>5890</th>\n",
       "      <td>2022-12-14</td>\n",
       "      <td>5430.5</td>\n",
       "    </tr>\n",
       "    <tr>\n",
       "      <th>5891</th>\n",
       "      <td>2022-12-15</td>\n",
       "      <td>5430.5</td>\n",
       "    </tr>\n",
       "    <tr>\n",
       "      <th>5892</th>\n",
       "      <td>2022-12-16</td>\n",
       "      <td>5304.0</td>\n",
       "    </tr>\n",
       "    <tr>\n",
       "      <th>5893</th>\n",
       "      <td>2022-12-19</td>\n",
       "      <td>5459.5</td>\n",
       "    </tr>\n",
       "    <tr>\n",
       "      <th>5894</th>\n",
       "      <td>2022-12-20</td>\n",
       "      <td>5764.0</td>\n",
       "    </tr>\n",
       "  </tbody>\n",
       "</table>\n",
       "<p>5895 rows × 2 columns</p>\n",
       "</div>"
      ],
      "text/plain": [
       "              구분      평균\n",
       "0     2000-01-03  5600.0\n",
       "1     2000-01-04  5600.0\n",
       "2     2000-01-05  5620.0\n",
       "3     2000-01-06  5700.0\n",
       "4     2000-01-07  5670.0\n",
       "...          ...     ...\n",
       "5890  2022-12-14  5430.5\n",
       "5891  2022-12-15  5430.5\n",
       "5892  2022-12-16  5304.0\n",
       "5893  2022-12-19  5459.5\n",
       "5894  2022-12-20  5764.0\n",
       "\n",
       "[5895 rows x 2 columns]"
      ]
     },
     "execution_count": 215,
     "metadata": {},
     "output_type": "execute_result"
    }
   ],
   "source": [
    "# 배추 가격과 일자만 있는 데이터\n",
    "test2 = pd.read_csv('data/price/price_baechoo.csv')\n",
    "test2"
   ]
  },
  {
   "cell_type": "code",
   "execution_count": 216,
   "metadata": {},
   "outputs": [],
   "source": [
    "# 모든 데이터를 합친 데이터(정리된 데이터)\n",
    "data = pd.read_csv('data/merge_all/merge_all.csv')"
   ]
  },
  {
   "cell_type": "code",
   "execution_count": 217,
   "metadata": {},
   "outputs": [],
   "source": [
    "# data 에서 거래년월"
   ]
  },
  {
   "cell_type": "code",
   "execution_count": 218,
   "metadata": {},
   "outputs": [
    {
     "name": "stdout",
     "output_type": "stream",
     "text": [
      "<class 'pandas.core.frame.DataFrame'>\n",
      "RangeIndex: 8370 entries, 0 to 8369\n",
      "Data columns (total 5 columns):\n",
      " #   Column          Non-Null Count  Dtype  \n",
      "---  ------          --------------  -----  \n",
      " 0   거래년월일           8370 non-null   object \n",
      " 1   자동차용 경유 가격 (원)  8370 non-null   float64\n",
      " 2   전월비(%)          8370 non-null   float64\n",
      " 3   평균              8370 non-null   float64\n",
      " 4   거래량             8370 non-null   float64\n",
      "dtypes: float64(4), object(1)\n",
      "memory usage: 327.1+ KB\n"
     ]
    }
   ],
   "source": [
    "data.info()"
   ]
  },
  {
   "cell_type": "code",
   "execution_count": 219,
   "metadata": {},
   "outputs": [],
   "source": [
    "# 데이터 나누기\n",
    "X = data[['자동차용 경유 가격 (원)', '전월비(%)', '거래량']]\n",
    "y = data['평균']\n",
    "X_train, X_test, y_train, y_test = train_test_split(X, y, test_size=0.2, random_state=42)    \n"
   ]
  },
  {
   "cell_type": "code",
   "execution_count": 220,
   "metadata": {},
   "outputs": [],
   "source": [
    "# 데이터 정규화 하기\n",
    "scaler = StandardScaler()\n",
    "X_train = scaler.fit_transform(X_train)\n",
    "X_test = scaler.transform(X_test)\n",
    "y_train = scaler.fit_transform(y_train.values.reshape(-1,1))\n",
    "y_test = scaler.transform(y_test.values.reshape(-1,1))"
   ]
  },
  {
   "cell_type": "code",
   "execution_count": 221,
   "metadata": {},
   "outputs": [
    {
     "data": {
      "text/plain": [
       "array([[ 1.73020078,  0.60845508, -0.62240597],\n",
       "       [-1.71471051, -0.29130583, -0.51140789],\n",
       "       [ 0.47248127, -0.29130583,  0.59930809],\n",
       "       ...,\n",
       "       [ 0.82186893, -1.19106674, -0.09142102],\n",
       "       [-1.63340954,  0.37373484, -0.28280987],\n",
       "       [ 0.26634852, -1.28886684,  2.64567209]])"
      ]
     },
     "execution_count": 221,
     "metadata": {},
     "output_type": "execute_result"
    }
   ],
   "source": [
    "X_train"
   ]
  },
  {
   "cell_type": "code",
   "execution_count": 222,
   "metadata": {},
   "outputs": [
    {
     "data": {
      "text/plain": [
       "array([[-0.34009368,  0.530215  ,  0.21788251],\n",
       "       [ 0.42509193,  1.7233762 , -0.26396104],\n",
       "       [ 1.11509045, -0.89766645,  1.48726752],\n",
       "       ...,\n",
       "       [ 0.60166069, -0.97590652,  0.18021003],\n",
       "       [ 0.26634852, -1.28886684,  0.31915402],\n",
       "       [ 0.16586357,  0.3346148 , -0.3364205 ]])"
      ]
     },
     "execution_count": 222,
     "metadata": {},
     "output_type": "execute_result"
    }
   ],
   "source": [
    "X_test"
   ]
  },
  {
   "cell_type": "code",
   "execution_count": 223,
   "metadata": {},
   "outputs": [
    {
     "data": {
      "text/html": [
       "<style>#sk-container-id-8 {color: black;background-color: white;}#sk-container-id-8 pre{padding: 0;}#sk-container-id-8 div.sk-toggleable {background-color: white;}#sk-container-id-8 label.sk-toggleable__label {cursor: pointer;display: block;width: 100%;margin-bottom: 0;padding: 0.3em;box-sizing: border-box;text-align: center;}#sk-container-id-8 label.sk-toggleable__label-arrow:before {content: \"▸\";float: left;margin-right: 0.25em;color: #696969;}#sk-container-id-8 label.sk-toggleable__label-arrow:hover:before {color: black;}#sk-container-id-8 div.sk-estimator:hover label.sk-toggleable__label-arrow:before {color: black;}#sk-container-id-8 div.sk-toggleable__content {max-height: 0;max-width: 0;overflow: hidden;text-align: left;background-color: #f0f8ff;}#sk-container-id-8 div.sk-toggleable__content pre {margin: 0.2em;color: black;border-radius: 0.25em;background-color: #f0f8ff;}#sk-container-id-8 input.sk-toggleable__control:checked~div.sk-toggleable__content {max-height: 200px;max-width: 100%;overflow: auto;}#sk-container-id-8 input.sk-toggleable__control:checked~label.sk-toggleable__label-arrow:before {content: \"▾\";}#sk-container-id-8 div.sk-estimator input.sk-toggleable__control:checked~label.sk-toggleable__label {background-color: #d4ebff;}#sk-container-id-8 div.sk-label input.sk-toggleable__control:checked~label.sk-toggleable__label {background-color: #d4ebff;}#sk-container-id-8 input.sk-hidden--visually {border: 0;clip: rect(1px 1px 1px 1px);clip: rect(1px, 1px, 1px, 1px);height: 1px;margin: -1px;overflow: hidden;padding: 0;position: absolute;width: 1px;}#sk-container-id-8 div.sk-estimator {font-family: monospace;background-color: #f0f8ff;border: 1px dotted black;border-radius: 0.25em;box-sizing: border-box;margin-bottom: 0.5em;}#sk-container-id-8 div.sk-estimator:hover {background-color: #d4ebff;}#sk-container-id-8 div.sk-parallel-item::after {content: \"\";width: 100%;border-bottom: 1px solid gray;flex-grow: 1;}#sk-container-id-8 div.sk-label:hover label.sk-toggleable__label {background-color: #d4ebff;}#sk-container-id-8 div.sk-serial::before {content: \"\";position: absolute;border-left: 1px solid gray;box-sizing: border-box;top: 0;bottom: 0;left: 50%;z-index: 0;}#sk-container-id-8 div.sk-serial {display: flex;flex-direction: column;align-items: center;background-color: white;padding-right: 0.2em;padding-left: 0.2em;position: relative;}#sk-container-id-8 div.sk-item {position: relative;z-index: 1;}#sk-container-id-8 div.sk-parallel {display: flex;align-items: stretch;justify-content: center;background-color: white;position: relative;}#sk-container-id-8 div.sk-item::before, #sk-container-id-8 div.sk-parallel-item::before {content: \"\";position: absolute;border-left: 1px solid gray;box-sizing: border-box;top: 0;bottom: 0;left: 50%;z-index: -1;}#sk-container-id-8 div.sk-parallel-item {display: flex;flex-direction: column;z-index: 1;position: relative;background-color: white;}#sk-container-id-8 div.sk-parallel-item:first-child::after {align-self: flex-end;width: 50%;}#sk-container-id-8 div.sk-parallel-item:last-child::after {align-self: flex-start;width: 50%;}#sk-container-id-8 div.sk-parallel-item:only-child::after {width: 0;}#sk-container-id-8 div.sk-dashed-wrapped {border: 1px dashed gray;margin: 0 0.4em 0.5em 0.4em;box-sizing: border-box;padding-bottom: 0.4em;background-color: white;}#sk-container-id-8 div.sk-label label {font-family: monospace;font-weight: bold;display: inline-block;line-height: 1.2em;}#sk-container-id-8 div.sk-label-container {text-align: center;}#sk-container-id-8 div.sk-container {/* jupyter's `normalize.less` sets `[hidden] { display: none; }` but bootstrap.min.css set `[hidden] { display: none !important; }` so we also need the `!important` here to be able to override the default hidden behavior on the sphinx rendered scikit-learn.org. See: https://github.com/scikit-learn/scikit-learn/issues/21755 */display: inline-block !important;position: relative;}#sk-container-id-8 div.sk-text-repr-fallback {display: none;}</style><div id=\"sk-container-id-8\" class=\"sk-top-container\"><div class=\"sk-text-repr-fallback\"><pre>XGBRegressor(base_score=0.5, booster=&#x27;gbtree&#x27;, colsample_bylevel=1,\n",
       "             colsample_bynode=1, colsample_bytree=1, enable_categorical=False,\n",
       "             gamma=0, gpu_id=-1, importance_type=None,\n",
       "             interaction_constraints=&#x27;&#x27;, learning_rate=0.300000012,\n",
       "             max_delta_step=0, max_depth=6, min_child_weight=1, missing=nan,\n",
       "             monotone_constraints=&#x27;()&#x27;, n_estimators=100, n_jobs=8,\n",
       "             num_parallel_tree=1, predictor=&#x27;auto&#x27;, random_state=0, reg_alpha=0,\n",
       "             reg_lambda=1, scale_pos_weight=1, subsample=1, tree_method=&#x27;exact&#x27;,\n",
       "             validate_parameters=1, verbosity=None)</pre><b>In a Jupyter environment, please rerun this cell to show the HTML representation or trust the notebook. <br />On GitHub, the HTML representation is unable to render, please try loading this page with nbviewer.org.</b></div><div class=\"sk-container\" hidden><div class=\"sk-item\"><div class=\"sk-estimator sk-toggleable\"><input class=\"sk-toggleable__control sk-hidden--visually\" id=\"sk-estimator-id-8\" type=\"checkbox\" checked><label for=\"sk-estimator-id-8\" class=\"sk-toggleable__label sk-toggleable__label-arrow\">XGBRegressor</label><div class=\"sk-toggleable__content\"><pre>XGBRegressor(base_score=0.5, booster=&#x27;gbtree&#x27;, colsample_bylevel=1,\n",
       "             colsample_bynode=1, colsample_bytree=1, enable_categorical=False,\n",
       "             gamma=0, gpu_id=-1, importance_type=None,\n",
       "             interaction_constraints=&#x27;&#x27;, learning_rate=0.300000012,\n",
       "             max_delta_step=0, max_depth=6, min_child_weight=1, missing=nan,\n",
       "             monotone_constraints=&#x27;()&#x27;, n_estimators=100, n_jobs=8,\n",
       "             num_parallel_tree=1, predictor=&#x27;auto&#x27;, random_state=0, reg_alpha=0,\n",
       "             reg_lambda=1, scale_pos_weight=1, subsample=1, tree_method=&#x27;exact&#x27;,\n",
       "             validate_parameters=1, verbosity=None)</pre></div></div></div></div></div>"
      ],
      "text/plain": [
       "XGBRegressor(base_score=0.5, booster='gbtree', colsample_bylevel=1,\n",
       "             colsample_bynode=1, colsample_bytree=1, enable_categorical=False,\n",
       "             gamma=0, gpu_id=-1, importance_type=None,\n",
       "             interaction_constraints='', learning_rate=0.300000012,\n",
       "             max_delta_step=0, max_depth=6, min_child_weight=1, missing=nan,\n",
       "             monotone_constraints='()', n_estimators=100, n_jobs=8,\n",
       "             num_parallel_tree=1, predictor='auto', random_state=0, reg_alpha=0,\n",
       "             reg_lambda=1, scale_pos_weight=1, subsample=1, tree_method='exact',\n",
       "             validate_parameters=1, verbosity=None)"
      ]
     },
     "execution_count": 223,
     "metadata": {},
     "output_type": "execute_result"
    }
   ],
   "source": [
    "# 모델 만들기\n",
    "model = XGBRegressor()\n",
    "model.fit(X_train, y_train)"
   ]
  },
  {
   "cell_type": "code",
   "execution_count": 224,
   "metadata": {},
   "outputs": [
    {
     "name": "stdout",
     "output_type": "stream",
     "text": [
      "R2 : 0.904123174345869\n"
     ]
    }
   ],
   "source": [
    "# 예측\n",
    "y_pred = model.predict(X_test)\n",
    "        \n",
    "# 평가\n",
    "#print('MSE :', mean_squared_error(y_test, y_pred))\n",
    "#print('RMSE :', np.sqrt(mean_squared_error(y_test, y_pred)))\n",
    "#print('MAE :', mean_absolute_error(y_test, y_pred))\n",
    "print('R2 :', r2_score(y_test, y_pred))\n",
    "#print('MSLE :', mean_squared_log_error(y_test, y_pred))"
   ]
  },
  {
   "cell_type": "code",
   "execution_count": 225,
   "metadata": {},
   "outputs": [
    {
     "data": {
      "image/png": "[encoded data removed]",
      "text/plain": [
       "<Figure size 1000x500 with 1 Axes>"
      ]
     },
     "metadata": {},
     "output_type": "display_data"
    }
   ],
   "source": [
    "# 예측값과 실제값 비교\n",
    "plt.figure(figsize=(10, 5))\n",
    "plt.plot(y_test, label='y_test')\n",
    "plt.plot(y_pred, label='y_pred')\n",
    "plt.legend()\n",
    "plt.show()"
   ]
  },
  {
   "cell_type": "code",
   "execution_count": 226,
   "metadata": {},
   "outputs": [],
   "source": [
    "# data 로 LSTM 예측 모델 만들기\n"
   ]
  },
  {
   "cell_type": "code",
   "execution_count": 227,
   "metadata": {},
   "outputs": [
    {
     "name": "stdout",
     "output_type": "stream",
     "text": [
      "<class 'pandas.core.frame.DataFrame'>\n",
      "RangeIndex: 8370 entries, 0 to 8369\n",
      "Data columns (total 5 columns):\n",
      " #   Column          Non-Null Count  Dtype  \n",
      "---  ------          --------------  -----  \n",
      " 0   거래년월일           8370 non-null   object \n",
      " 1   자동차용 경유 가격 (원)  8370 non-null   float64\n",
      " 2   전월비(%)          8370 non-null   float64\n",
      " 3   평균              8370 non-null   float64\n",
      " 4   거래량             8370 non-null   float64\n",
      "dtypes: float64(4), object(1)\n",
      "memory usage: 327.1+ KB\n"
     ]
    }
   ],
   "source": [
    "df = data\n",
    "# scaler = MinMaxScaler()\n",
    "# scale_cols = ['자동차용 경유 가격 (원)', '전월비(%)', '거래량']\n",
    "# df_scaled = scaler.fit_transform(df[scale_cols])\n",
    "# df_scaled = pd.DataFrame(df_scaled)\n",
    "# df_scaled.columns = scale_cols\n",
    "\n",
    "df.info()"
   ]
  },
  {
   "cell_type": "code",
   "execution_count": 228,
   "metadata": {},
   "outputs": [
    {
     "data": {
      "text/plain": [
       "거래년월일             0\n",
       "자동차용 경유 가격 (원)    0\n",
       "전월비(%)            0\n",
       "평균                0\n",
       "거래량               0\n",
       "dtype: int64"
      ]
     },
     "execution_count": 228,
     "metadata": {},
     "output_type": "execute_result"
    }
   ],
   "source": [
    "df.isnull().sum()"
   ]
  },
  {
   "cell_type": "code",
   "execution_count": 229,
   "metadata": {},
   "outputs": [
    {
     "name": "stdout",
     "output_type": "stream",
     "text": [
      "<class 'pandas.core.frame.DataFrame'>\n",
      "RangeIndex: 8370 entries, 0 to 8369\n",
      "Data columns (total 5 columns):\n",
      " #   Column          Non-Null Count  Dtype         \n",
      "---  ------          --------------  -----         \n",
      " 0   거래년월일           8370 non-null   datetime64[ns]\n",
      " 1   자동차용 경유 가격 (원)  8370 non-null   float64       \n",
      " 2   전월비(%)          8370 non-null   float64       \n",
      " 3   평균              8370 non-null   float64       \n",
      " 4   거래량             8370 non-null   float64       \n",
      "dtypes: datetime64[ns](1), float64(4)\n",
      "memory usage: 327.1 KB\n"
     ]
    }
   ],
   "source": [
    "#df2 거래년월일 Dtype 을 datetime 으로 변경\n",
    "df['거래년월일'] = pd.to_datetime(df['거래년월일'])\n",
    "df.info()"
   ]
  },
  {
   "cell_type": "code",
   "execution_count": 230,
   "metadata": {},
   "outputs": [],
   "source": [
    "# df 에서 평균 컬럼만 iloc로 추출 (y값)\n",
    "#df = df.iloc[:, 3:4].values\n",
    "#df\n",
    "\n",
    "# df 에서 평균 컬럼 제외하고 추출\n",
    "#df2 = df.iloc[:, 0:3]\n",
    "#df2"
   ]
  },
  {
   "cell_type": "code",
   "execution_count": 231,
   "metadata": {},
   "outputs": [],
   "source": [
    "# df에서 거래년월, 평균 제거\n",
    "# df = df.drop(['거래년월일', '평균'], axis=1, inplace=True)\n",
    "# df"
   ]
  },
  {
   "cell_type": "code",
   "execution_count": 232,
   "metadata": {},
   "outputs": [],
   "source": [
    "# X = df_scaled\n",
    "# y = df['평균']"
   ]
  },
  {
   "cell_type": "code",
   "execution_count": 233,
   "metadata": {},
   "outputs": [],
   "source": [
    "# x_train, x_valid, y_train, y_valid = train_test_split(X, y, test_size=0.2, random_state=10)\n",
    "# x_train.shape, x_valid.shape"
   ]
  },
  {
   "cell_type": "code",
   "execution_count": 234,
   "metadata": {},
   "outputs": [],
   "source": [
    "# 정규화 하는 코드\n",
    "# def normalize_data(dataset):\n",
    "#     cols = dataset.columns.tolist()\n",
    "#     col_name = [0]*len(cols)\n",
    "#     for i in range(len(cols)):\n",
    "#         col_name[i] = i\n",
    "#     dataset.columns = col_name\n",
    "#     dtypes = dataset.dtypes.tolist()\n",
    "#     minmax = list()\n",
    "#     for column in dataset:\n",
    "#         dataset = dataset.astype({column: 'float32'})\n",
    "#     for i in range(len(cols)):\n",
    "#         col_values = dataset[col_name[i]]\n",
    "#         value_min = min(col_values)\n",
    "#         value_max = max(col_values)\n",
    "#         minmax.append([value_min, value_max])\n",
    "#     for column in dataset:\n",
    "#         values = dataset[column].values\n",
    "#         for i in range(len(values)):\n",
    "#             values[i] = (values[i] - minmax[column][0]) / (minmax[column][1] - minmax[column][0])\n",
    "#         dataset[column] = values\n",
    "#     dataset[column] = values\n",
    "#     return dataset,minmax\n",
    "    \n",
    "# dataset,minmax = normalize_data(df)\n",
    "# print(df.values)\n",
    "# values = dataset.values"
   ]
  },
  {
   "cell_type": "code",
   "execution_count": 235,
   "metadata": {},
   "outputs": [],
   "source": [
    "# 시퀀스를 데이터 세트로 변환 x 와 y 값 분리 하고 학습 \n",
    "# def split_sequences(sequence, n_steps):\n",
    "#     X, y = list(), list()\n",
    "#     for i in range(len(sequence)):\n",
    "#         end_ix = i + n_steps\n",
    "#         if end_ix > len(sequence)-1:\n",
    "#             break\n",
    "#         seq_x, seq_y = sequence[i:end_ix], sequence[end_ix]\n",
    "#         X.append(seq_x)\n",
    "#         y.append(seq_y)\n",
    "#     return np.array(X), np.array(y)\n",
    "    \n",
    "# def data_setup(n_steps, n_seq,sequence):\n",
    "#     X, y = split_sequences(sequence, n_steps)\n",
    "#     n_features = X.shape[2]\n",
    "#     X = X.reshape((len(X),n_steps, n_features))\n",
    "#     new_y = []\n",
    "#     for term in y:\n",
    "#         new_term = term[-1]\n",
    "#         new_y.append(new_term)\n",
    "#     return X, np.array(new_y), n_features\n",
    "    \n",
    "# n_steps = 10\n",
    "# n_seq = 10000\n",
    "# rel_test_len = 0.1\n",
    "# X,y,n_features = data_setup(n_steps,n_seq,values)\n",
    "# X = X[:-1]\n",
    "# y = y[1:]\n",
    "# X_test,y_test = X[:int(len(X)*rel_test_len)],y[:int(len(X)*rel_test_len)]\n",
    "# X_train,y_train = X[int(len(X)*rel_test_len):],y[int(len(X)*rel_test_len):]\n",
    "# X.shape"
   ]
  },
  {
   "cell_type": "code",
   "execution_count": 236,
   "metadata": {},
   "outputs": [
    {
     "data": {
      "text/html": [
       "<div>\n",
       "<style scoped>\n",
       "    .dataframe tbody tr th:only-of-type {\n",
       "        vertical-align: middle;\n",
       "    }\n",
       "\n",
       "    .dataframe tbody tr th {\n",
       "        vertical-align: top;\n",
       "    }\n",
       "\n",
       "    .dataframe thead th {\n",
       "        text-align: right;\n",
       "    }\n",
       "</style>\n",
       "<table border=\"1\" class=\"dataframe\">\n",
       "  <thead>\n",
       "    <tr style=\"text-align: right;\">\n",
       "      <th></th>\n",
       "      <th>거래년월일</th>\n",
       "      <th>자동차용 경유 가격 (원)</th>\n",
       "      <th>전월비(%)</th>\n",
       "      <th>평균</th>\n",
       "      <th>거래량</th>\n",
       "    </tr>\n",
       "  </thead>\n",
       "  <tbody>\n",
       "    <tr>\n",
       "      <th>0</th>\n",
       "      <td>2000-01-01</td>\n",
       "      <td>583.35</td>\n",
       "      <td>4.0</td>\n",
       "      <td>5600.0</td>\n",
       "      <td>102285.0</td>\n",
       "    </tr>\n",
       "    <tr>\n",
       "      <th>1</th>\n",
       "      <td>2000-01-02</td>\n",
       "      <td>583.35</td>\n",
       "      <td>4.0</td>\n",
       "      <td>5600.0</td>\n",
       "      <td>102285.0</td>\n",
       "    </tr>\n",
       "    <tr>\n",
       "      <th>2</th>\n",
       "      <td>2000-01-03</td>\n",
       "      <td>583.35</td>\n",
       "      <td>4.0</td>\n",
       "      <td>5600.0</td>\n",
       "      <td>102285.0</td>\n",
       "    </tr>\n",
       "    <tr>\n",
       "      <th>3</th>\n",
       "      <td>2000-01-04</td>\n",
       "      <td>583.35</td>\n",
       "      <td>4.0</td>\n",
       "      <td>5600.0</td>\n",
       "      <td>715338.0</td>\n",
       "    </tr>\n",
       "    <tr>\n",
       "      <th>4</th>\n",
       "      <td>2000-01-05</td>\n",
       "      <td>583.35</td>\n",
       "      <td>4.0</td>\n",
       "      <td>5620.0</td>\n",
       "      <td>340568.0</td>\n",
       "    </tr>\n",
       "    <tr>\n",
       "      <th>...</th>\n",
       "      <td>...</td>\n",
       "      <td>...</td>\n",
       "      <td>...</td>\n",
       "      <td>...</td>\n",
       "      <td>...</td>\n",
       "    </tr>\n",
       "    <tr>\n",
       "      <th>8365</th>\n",
       "      <td>2022-11-26</td>\n",
       "      <td>1879.15</td>\n",
       "      <td>-8.0</td>\n",
       "      <td>6100.0</td>\n",
       "      <td>296250.0</td>\n",
       "    </tr>\n",
       "    <tr>\n",
       "      <th>8366</th>\n",
       "      <td>2022-11-27</td>\n",
       "      <td>1879.15</td>\n",
       "      <td>-8.0</td>\n",
       "      <td>6100.0</td>\n",
       "      <td>296250.0</td>\n",
       "    </tr>\n",
       "    <tr>\n",
       "      <th>8367</th>\n",
       "      <td>2022-11-28</td>\n",
       "      <td>1879.15</td>\n",
       "      <td>-8.0</td>\n",
       "      <td>5664.0</td>\n",
       "      <td>201478.0</td>\n",
       "    </tr>\n",
       "    <tr>\n",
       "      <th>8368</th>\n",
       "      <td>2022-11-29</td>\n",
       "      <td>1879.15</td>\n",
       "      <td>-8.0</td>\n",
       "      <td>5592.0</td>\n",
       "      <td>77130.0</td>\n",
       "    </tr>\n",
       "    <tr>\n",
       "      <th>8369</th>\n",
       "      <td>2022-11-30</td>\n",
       "      <td>1879.15</td>\n",
       "      <td>-8.0</td>\n",
       "      <td>5242.0</td>\n",
       "      <td>119783.0</td>\n",
       "    </tr>\n",
       "  </tbody>\n",
       "</table>\n",
       "<p>8370 rows × 5 columns</p>\n",
       "</div>"
      ],
      "text/plain": [
       "          거래년월일  자동차용 경유 가격 (원)  전월비(%)      평균       거래량\n",
       "0    2000-01-01          583.35     4.0  5600.0  102285.0\n",
       "1    2000-01-02          583.35     4.0  5600.0  102285.0\n",
       "2    2000-01-03          583.35     4.0  5600.0  102285.0\n",
       "3    2000-01-04          583.35     4.0  5600.0  715338.0\n",
       "4    2000-01-05          583.35     4.0  5620.0  340568.0\n",
       "...         ...             ...     ...     ...       ...\n",
       "8365 2022-11-26         1879.15    -8.0  6100.0  296250.0\n",
       "8366 2022-11-27         1879.15    -8.0  6100.0  296250.0\n",
       "8367 2022-11-28         1879.15    -8.0  5664.0  201478.0\n",
       "8368 2022-11-29         1879.15    -8.0  5592.0   77130.0\n",
       "8369 2022-11-30         1879.15    -8.0  5242.0  119783.0\n",
       "\n",
       "[8370 rows x 5 columns]"
      ]
     },
     "execution_count": 236,
     "metadata": {},
     "output_type": "execute_result"
    }
   ],
   "source": [
    "lstm_df = data\n",
    "lstm_df"
   ]
  },
  {
   "cell_type": "code",
   "execution_count": 237,
   "metadata": {},
   "outputs": [],
   "source": [
    "#na 값 확인하기\n",
    "#lstm_df.isna().sum()"
   ]
  },
  {
   "cell_type": "code",
   "execution_count": 238,
   "metadata": {},
   "outputs": [
    {
     "data": {
      "text/html": [
       "<div>\n",
       "<style scoped>\n",
       "    .dataframe tbody tr th:only-of-type {\n",
       "        vertical-align: middle;\n",
       "    }\n",
       "\n",
       "    .dataframe tbody tr th {\n",
       "        vertical-align: top;\n",
       "    }\n",
       "\n",
       "    .dataframe thead th {\n",
       "        text-align: right;\n",
       "    }\n",
       "</style>\n",
       "<table border=\"1\" class=\"dataframe\">\n",
       "  <thead>\n",
       "    <tr style=\"text-align: right;\">\n",
       "      <th></th>\n",
       "      <th>거래년월일</th>\n",
       "      <th>자동차용 경유 가격 (원)</th>\n",
       "      <th>평균</th>\n",
       "      <th>거래량</th>\n",
       "    </tr>\n",
       "  </thead>\n",
       "  <tbody>\n",
       "    <tr>\n",
       "      <th>0</th>\n",
       "      <td>2000-01-01</td>\n",
       "      <td>583.35</td>\n",
       "      <td>5600.0</td>\n",
       "      <td>102285.0</td>\n",
       "    </tr>\n",
       "    <tr>\n",
       "      <th>1</th>\n",
       "      <td>2000-01-02</td>\n",
       "      <td>583.35</td>\n",
       "      <td>5600.0</td>\n",
       "      <td>102285.0</td>\n",
       "    </tr>\n",
       "    <tr>\n",
       "      <th>2</th>\n",
       "      <td>2000-01-03</td>\n",
       "      <td>583.35</td>\n",
       "      <td>5600.0</td>\n",
       "      <td>102285.0</td>\n",
       "    </tr>\n",
       "    <tr>\n",
       "      <th>3</th>\n",
       "      <td>2000-01-04</td>\n",
       "      <td>583.35</td>\n",
       "      <td>5600.0</td>\n",
       "      <td>715338.0</td>\n",
       "    </tr>\n",
       "    <tr>\n",
       "      <th>4</th>\n",
       "      <td>2000-01-05</td>\n",
       "      <td>583.35</td>\n",
       "      <td>5620.0</td>\n",
       "      <td>340568.0</td>\n",
       "    </tr>\n",
       "    <tr>\n",
       "      <th>...</th>\n",
       "      <td>...</td>\n",
       "      <td>...</td>\n",
       "      <td>...</td>\n",
       "      <td>...</td>\n",
       "    </tr>\n",
       "    <tr>\n",
       "      <th>8365</th>\n",
       "      <td>2022-11-26</td>\n",
       "      <td>1879.15</td>\n",
       "      <td>6100.0</td>\n",
       "      <td>296250.0</td>\n",
       "    </tr>\n",
       "    <tr>\n",
       "      <th>8366</th>\n",
       "      <td>2022-11-27</td>\n",
       "      <td>1879.15</td>\n",
       "      <td>6100.0</td>\n",
       "      <td>296250.0</td>\n",
       "    </tr>\n",
       "    <tr>\n",
       "      <th>8367</th>\n",
       "      <td>2022-11-28</td>\n",
       "      <td>1879.15</td>\n",
       "      <td>5664.0</td>\n",
       "      <td>201478.0</td>\n",
       "    </tr>\n",
       "    <tr>\n",
       "      <th>8368</th>\n",
       "      <td>2022-11-29</td>\n",
       "      <td>1879.15</td>\n",
       "      <td>5592.0</td>\n",
       "      <td>77130.0</td>\n",
       "    </tr>\n",
       "    <tr>\n",
       "      <th>8369</th>\n",
       "      <td>2022-11-30</td>\n",
       "      <td>1879.15</td>\n",
       "      <td>5242.0</td>\n",
       "      <td>119783.0</td>\n",
       "    </tr>\n",
       "  </tbody>\n",
       "</table>\n",
       "<p>8370 rows × 4 columns</p>\n",
       "</div>"
      ],
      "text/plain": [
       "          거래년월일  자동차용 경유 가격 (원)      평균       거래량\n",
       "0    2000-01-01          583.35  5600.0  102285.0\n",
       "1    2000-01-02          583.35  5600.0  102285.0\n",
       "2    2000-01-03          583.35  5600.0  102285.0\n",
       "3    2000-01-04          583.35  5600.0  715338.0\n",
       "4    2000-01-05          583.35  5620.0  340568.0\n",
       "...         ...             ...     ...       ...\n",
       "8365 2022-11-26         1879.15  6100.0  296250.0\n",
       "8366 2022-11-27         1879.15  6100.0  296250.0\n",
       "8367 2022-11-28         1879.15  5664.0  201478.0\n",
       "8368 2022-11-29         1879.15  5592.0   77130.0\n",
       "8369 2022-11-30         1879.15  5242.0  119783.0\n",
       "\n",
       "[8370 rows x 4 columns]"
      ]
     },
     "execution_count": 238,
     "metadata": {},
     "output_type": "execute_result"
    }
   ],
   "source": [
    "# lstm_df 에서 전월비(%) 칼럼 제거\n",
    "lstm_df = lstm_df.drop(['전월비(%)'], axis=1)\n",
    "lstm_df"
   ]
  },
  {
   "cell_type": "code",
   "execution_count": 239,
   "metadata": {},
   "outputs": [
    {
     "name": "stdout",
     "output_type": "stream",
     "text": [
      "<class 'pandas.core.frame.DataFrame'>\n",
      "RangeIndex: 8370 entries, 0 to 8369\n",
      "Data columns (total 4 columns):\n",
      " #   Column          Non-Null Count  Dtype         \n",
      "---  ------          --------------  -----         \n",
      " 0   거래년월일           8370 non-null   datetime64[ns]\n",
      " 1   자동차용 경유 가격 (원)  8370 non-null   float64       \n",
      " 2   평균              8370 non-null   float64       \n",
      " 3   거래량             8370 non-null   float64       \n",
      "dtypes: datetime64[ns](1), float64(3)\n",
      "memory usage: 261.7 KB\n"
     ]
    }
   ],
   "source": [
    "lstm_df.info()"
   ]
  },
  {
   "cell_type": "code",
   "execution_count": 240,
   "metadata": {},
   "outputs": [
    {
     "name": "stdout",
     "output_type": "stream",
     "text": [
      "<class 'numpy.ndarray'> \n",
      "\n",
      "      자동차용 경유 가격 (원)        평균       거래량\n",
      "0           0.022324  0.106796  0.028243\n",
      "1           0.022324  0.106796  0.028243\n",
      "2           0.022324  0.106796  0.028243\n",
      "3           0.022324  0.106796  0.197620\n",
      "4           0.022324  0.107351  0.094077\n",
      "...              ...       ...       ...\n",
      "8365        0.863720  0.120666  0.081833\n",
      "8366        0.863720  0.120666  0.081833\n",
      "8367        0.863720  0.108571  0.055649\n",
      "8368        0.863720  0.106574  0.021293\n",
      "8369        0.863720  0.096865  0.033078\n",
      "\n",
      "[8370 rows x 3 columns]\n"
     ]
    }
   ],
   "source": [
    "# 정규화 작업(date 를 제외한 항목을 제외한 숫자로 표현되는 모든 column에 대해 0~1 값으로 정규화 작업을 수행)\n",
    "scaler = MinMaxScaler()\n",
    "scale_cols = ['자동차용 경유 가격 (원)', '평균', '거래량'] #정규화 대상 column 정의\n",
    "scaled_df = scaler.fit_transform(lstm_df[scale_cols]) # 정규화 수행\n",
    "print(type(scaled_df), '\\n') # 리턴값 확인하면 numpy.ndarray임을 알 수 있음 -> 데이터프레임으로 변환해서 사용해야함\n",
    "\n",
    "# 정규화된 데이터를 데이터프레임으로 변환\n",
    "scaled_df = pd.DataFrame(scaled_df, columns=scale_cols) #정규화된 새로운 dataframe 생성\n",
    "print(scaled_df)"
   ]
  },
  {
   "cell_type": "code",
   "execution_count": 241,
   "metadata": {},
   "outputs": [
    {
     "name": "stdout",
     "output_type": "stream",
     "text": [
      "      자동차용 경유 가격 (원)       거래량        평균\n",
      "0           0.022324  0.028243  0.106796\n",
      "1           0.022324  0.028243  0.106796\n",
      "2           0.022324  0.028243  0.106796\n",
      "3           0.022324  0.197620  0.106796\n",
      "4           0.022324  0.094077  0.107351\n",
      "...              ...       ...       ...\n",
      "8365        0.863720  0.081833  0.120666\n",
      "8366        0.863720  0.081833  0.120666\n",
      "8367        0.863720  0.055649  0.108571\n",
      "8368        0.863720  0.021293  0.106574\n",
      "8369        0.863720  0.033078  0.096865\n",
      "\n",
      "[8370 rows x 3 columns]\n",
      "            평균\n",
      "0     0.106796\n",
      "1     0.106796\n",
      "2     0.106796\n",
      "3     0.106796\n",
      "4     0.107351\n",
      "...        ...\n",
      "8365  0.120666\n",
      "8366  0.120666\n",
      "8367  0.108571\n",
      "8368  0.106574\n",
      "8369  0.096865\n",
      "\n",
      "[8370 rows x 1 columns]\n"
     ]
    }
   ],
   "source": [
    "# 딥러닝 학습을 위한 입력데이터 feature column , 정답데이터 column 정의 후 numpy 로 변환하여 데이터 전처리 과정 완료하기\n",
    "feature_cols = ['자동차용 경유 가격 (원)', '거래량', '평균'] #feature 정의(입력데이터)\n",
    "label_cols = ['평균'] #label 정의(정답데이터)\n",
    "\n",
    "feature_df = pd.DataFrame(scaled_df, columns=feature_cols)  #feature 데이터프레임 생성\n",
    "label_df = pd.DataFrame(scaled_df, columns=label_cols) #label 데이터프레임 생성\n",
    "\n",
    "print(feature_df)\n",
    "print(label_df)\n",
    "\n",
    "# 딥러닝 학습을 위해 dataframe 에서 numpy 로 변환\n",
    "feature_np = feature_df.to_numpy()\n",
    "label_np = label_df.to_numpy()"
   ]
  },
  {
   "cell_type": "code",
   "execution_count": 242,
   "metadata": {},
   "outputs": [],
   "source": [
    "# 입력 파라미터 feature, label => numpy type 함수로 만들기 \n",
    "def make_sequene_dataset(feature, label, window_size):\n",
    "    feature_list = [] # 생성될 feature list\n",
    "    label_list = [] # 생성될 label list\n",
    "\n",
    "    for i in range(len(feature)-window_size):\n",
    "\n",
    "        feature_list.append(feature[i:i+window_size]) \n",
    "        #feature[i:i+window_size] => 2차원 배열, 슬라이싱 이용하여 [[..], [..],..] 형상으로 입력 데이터, feature를 생성함\n",
    "        label_list.append(label[i+window_size]) # 2차원 행렬의 배열\n",
    "    \n",
    "    return np.array(feature_list), np.array(label_list)  # 3차원 배열로 리턴\n",
    "    #feature_list = [ [..], [..], ..] 이므로 리턴값 np.array(feature_list)는 (batch_size, time steps, input dims형상을 가짐"
   ]
  },
  {
   "cell_type": "code",
   "execution_count": 243,
   "metadata": {},
   "outputs": [
    {
     "name": "stdout",
     "output_type": "stream",
     "text": [
      "(8330, 40, 3) (8330, 1)\n"
     ]
    }
   ],
   "source": [
    "# 학습데이터 X, Y 생성\n",
    "window_size = 40 #앞에 40개 데이터를 이용해서 그 다음 정답데이터 label 를 예측한다는 뜻\n",
    "X, Y = make_sequene_dataset(feature_np, label_np, window_size) #make_sequence_data 함수를 이용해서 X, Y 생성\n",
    "print(X.shape, Y.shape)"
   ]
  },
  {
   "cell_type": "code",
   "execution_count": 244,
   "metadata": {},
   "outputs": [
    {
     "name": "stdout",
     "output_type": "stream",
     "text": [
      "(8030, 40, 3) (8030, 1)\n",
      "(300, 40, 3) (300, 1)\n"
     ]
    }
   ],
   "source": [
    "split = -300 # 가장 최근 300개 데이터 가져와서 트레이닝 데이터, 테스트 데이터 분리\n",
    "\n",
    "x_train = X[0:split]\n",
    "y_train = Y[0:split]\n",
    "\n",
    "x_test = X[split:]\n",
    "y_test = Y[split:]\n",
    "\n",
    "print(x_train.shape, y_train.shape)\n",
    "print(x_test.shape, y_test.shape)"
   ]
  },
  {
   "cell_type": "code",
   "execution_count": 245,
   "metadata": {},
   "outputs": [
    {
     "name": "stdout",
     "output_type": "stream",
     "text": [
      "Model: \"sequential_5\"\n",
      "_________________________________________________________________\n",
      " Layer (type)                Output Shape              Param #   \n",
      "=================================================================\n",
      " lstm_4 (LSTM)               (None, 128)               67584     \n",
      "                                                                 \n",
      " dense_4 (Dense)             (None, 1)                 129       \n",
      "                                                                 \n",
      "=================================================================\n",
      "Total params: 67,713\n",
      "Trainable params: 67,713\n",
      "Non-trainable params: 0\n",
      "_________________________________________________________________\n"
     ]
    }
   ],
   "source": [
    "model = Sequential()\n",
    "model.add(LSTM(128, activation='tanh', #LSTM 레이어에서 tanh 를 활성화 함수로 가지는 노드 수 128개\n",
    "               input_shape=x_train[0].shape)) #input_sape=(40, 2) 40개의 데이터를 2개씩 입력받음\n",
    "\n",
    "model.add(Dense(1, activation='linear'))\n",
    "\n",
    "model.summary()"
   ]
  },
  {
   "cell_type": "code",
   "execution_count": 246,
   "metadata": {},
   "outputs": [
    {
     "name": "stdout",
     "output_type": "stream",
     "text": [
      "Epoch 1/100\n",
      "502/502 [==============================] - 76s 115ms/step - loss: 5.7223e-04 - mae: 0.0142 - val_loss: 0.0015 - val_mae: 0.0256\n",
      "Epoch 2/100\n",
      "332/502 [==================>...........] - ETA: 12s - loss: 2.4201e-04 - mae: 0.0101"
     ]
    }
   ],
   "source": [
    "#모델 컴파일 및 학습\n",
    "#조기종료 셋팅  : EarlyStopping\n",
    "model.compile(loss='mse', optimizer='adam', metrics=['mae']) #metrics 관찰대상(mae = 평균절대오차값)\n",
    "early_stop = EarlyStopping(monitor='val_loss', patience=10) #val_loss 가 5번 이상 개선되지 않으면 학습 중단\n",
    "model.fit(x_train, y_train, validation_data=(x_test, y_test), epochs=100, batch_size=16, callbacks=[early_stop])"
   ]
  },
  {
   "cell_type": "code",
   "execution_count": null,
   "metadata": {},
   "outputs": [
    {
     "name": "stdout",
     "output_type": "stream",
     "text": [
      "10/10 [==============================] - 1s 28ms/step\n"
     ]
    },
    {
     "data": {
      "image/png": "[encoded data removed]",
      "text/plain": [
       "<Figure size 1200x600 with 1 Axes>"
      ]
     },
     "metadata": {},
     "output_type": "display_data"
    }
   ],
   "source": [
    "# 주가 예측\n",
    "pred = model.predict(x_test) \n",
    "\n",
    "plt.figure(figsize=(12, 6))\n",
    "plt.title('자동차용 경유 가격 (원), 거래량, window_size=40')\n",
    "plt.ylabel('평균')\n",
    "plt.xlabel('일자')\n",
    "plt.plot(y_test, label='실제값')\n",
    "plt.plot(pred, label='예측값')\n",
    "plt.grid()\n",
    "plt.legend(loc='best')\n",
    "\n",
    "plt.show()"
   ]
  },
  {
   "cell_type": "code",
   "execution_count": null,
   "metadata": {},
   "outputs": [
    {
     "ename": "ValueError",
     "evalue": "non-broadcastable output operand with shape (300,1) doesn't match the broadcast shape (300,3)",
     "output_type": "error",
     "traceback": [
      "\u001b[1;31m---------------------------------------------------------------------------\u001b[0m",
      "\u001b[1;31mValueError\u001b[0m                                Traceback (most recent call last)",
      "Cell \u001b[1;32mIn[211], line 2\u001b[0m\n\u001b[0;32m      1\u001b[0m \u001b[39m# 결과값 역정규화 하기\u001b[39;00m\n\u001b[1;32m----> 2\u001b[0m pred_af \u001b[39m=\u001b[39m scaler\u001b[39m.\u001b[39;49minverse_transform(pred)\n\u001b[0;32m      3\u001b[0m y_test_af \u001b[39m=\u001b[39m scaler\u001b[39m.\u001b[39minverse_transform(y_test)\n",
      "File \u001b[1;32mc:\\Users\\hyha1\\anaconda3\\lib\\site-packages\\sklearn\\preprocessing\\_data.py:532\u001b[0m, in \u001b[0;36mMinMaxScaler.inverse_transform\u001b[1;34m(self, X)\u001b[0m\n\u001b[0;32m    526\u001b[0m check_is_fitted(\u001b[39mself\u001b[39m)\n\u001b[0;32m    528\u001b[0m X \u001b[39m=\u001b[39m check_array(\n\u001b[0;32m    529\u001b[0m     X, copy\u001b[39m=\u001b[39m\u001b[39mself\u001b[39m\u001b[39m.\u001b[39mcopy, dtype\u001b[39m=\u001b[39mFLOAT_DTYPES, force_all_finite\u001b[39m=\u001b[39m\u001b[39m\"\u001b[39m\u001b[39mallow-nan\u001b[39m\u001b[39m\"\u001b[39m\n\u001b[0;32m    530\u001b[0m )\n\u001b[1;32m--> 532\u001b[0m X \u001b[39m-\u001b[39m\u001b[39m=\u001b[39m \u001b[39mself\u001b[39m\u001b[39m.\u001b[39mmin_\n\u001b[0;32m    533\u001b[0m X \u001b[39m/\u001b[39m\u001b[39m=\u001b[39m \u001b[39mself\u001b[39m\u001b[39m.\u001b[39mscale_\n\u001b[0;32m    534\u001b[0m \u001b[39mreturn\u001b[39;00m X\n",
      "\u001b[1;31mValueError\u001b[0m: non-broadcastable output operand with shape (300,1) doesn't match the broadcast shape (300,3)"
     ]
    }
   ],
   "source": [
    "# 결과값 역정규화 하기\n",
    "pred_af = scaler.inverse_transform(pred)\n",
    "y_test_af = scaler.inverse_transform(y_test)"
   ]
  },
  {
   "cell_type": "code",
   "execution_count": null,
   "metadata": {},
   "outputs": [],
   "source": []
  }
 ],
 "metadata": {
  "kernelspec": {
   "display_name": "base",
   "language": "python",
   "name": "python3"
  },
  "language_info": {
   "codemirror_mode": {
    "name": "ipython",
    "version": 3
   },
   "file_extension": ".py",
   "mimetype": "text/x-python",
   "name": "python",
   "nbconvert_exporter": "python",
   "pygments_lexer": "ipython3",
   "version": "3.9.12"
  },
  "orig_nbformat": 4,
  "vscode": {
   "interpreter": {
    "hash": "29db9c19af6299433467101c7e656ac8b3fe814b60a8418f253b91cb08fc3410"
   }
  }
 },
 "nbformat": 4,
 "nbformat_minor": 2
}
