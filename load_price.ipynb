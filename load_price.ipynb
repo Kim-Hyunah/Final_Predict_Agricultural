{
 "cells": [
  {
   "cell_type": "code",
   "execution_count": 102,
   "metadata": {},
   "outputs": [],
   "source": [
    "# \" API-KEY값\ta6785650-8702-4bf7-a492-4ba30f1f18f3\"\n",
    "\n",
    "import requests\n",
    "import json\n",
    "import pandas as pd\n",
    "from bs4 import BeautifulSoup\n",
    "import urllib.request as req\n",
    "import datetime\n",
    "import time\n",
    "import numpy as np\n",
    "import matplotlib.pyplot as plt\n",
    "import seaborn as sns\n",
    "import warnings\n",
    "warnings.filterwarnings('ignore')\n",
    "\n",
    "from urllib.request import urlretrieve, urlopen\n",
    "from bs4 import BeautifulSoup\n",
    "from selenium import webdriver\n",
    "from selenium.webdriver.firefox.firefox_binary import FirefoxBinary\n",
    "import time\n",
    "from urllib.parse import urljoin\n",
    "import pandas as pd\n",
    "import requests\n",
    "import os\n",
    "\n",
    "\n",
    "# Mac OS의 경우와 그 외 OS의 경우로 나누어 설정\n",
    "firefox_options = webdriver.FirefoxOptions()\n",
    "\n",
    "if os.name == \"posix\":\n",
    "    driver = FirefoxBinary(\"/Applications/Firefox.app/Contents/MacOS/firefox\")\n",
    "    browser = webdriver.Firefox(firefox_binary=driver)\n",
    "\n",
    "else:\n",
    "    driver = FirefoxBinary(\"C:/Program Files/Mozilla Firefox/firefox.exe\")\n",
    "    browser = webdriver.Firefox(firefox_binary=driver)"
   ]
  },
  {
   "cell_type": "code",
   "execution_count": 103,
   "metadata": {},
   "outputs": [
    {
     "ename": "NoSuchWindowException",
     "evalue": "Message: Browsing context has been discarded\n",
     "output_type": "error",
     "traceback": [
      "\u001b[0;31m---------------------------------------------------------------------------\u001b[0m",
      "\u001b[0;31mNoSuchWindowException\u001b[0m                     Traceback (most recent call last)",
      "\u001b[1;32m/Users/bagjeonghyeon/Documents/Final_Predict_Agricultural/Final_Predict_Agricultural/predict_price.ipynb 셀 2\u001b[0m in \u001b[0;36m<cell line: 8>\u001b[0;34m()\u001b[0m\n\u001b[1;32m     <a href='vscode-notebook-cell:/Users/bagjeonghyeon/Documents/Final_Predict_Agricultural/Final_Predict_Agricultural/predict_price.ipynb#W5sZmlsZQ%3D%3D?line=11'>12</a>\u001b[0m url \u001b[39m=\u001b[39m get_url(start_date, end_date, rank[k])\n\u001b[1;32m     <a href='vscode-notebook-cell:/Users/bagjeonghyeon/Documents/Final_Predict_Agricultural/Final_Predict_Agricultural/predict_price.ipynb#W5sZmlsZQ%3D%3D?line=13'>14</a>\u001b[0m \u001b[39m# driver를 이용하여 url을 불러온다.\u001b[39;00m\n\u001b[0;32m---> <a href='vscode-notebook-cell:/Users/bagjeonghyeon/Documents/Final_Predict_Agricultural/Final_Predict_Agricultural/predict_price.ipynb#W5sZmlsZQ%3D%3D?line=14'>15</a>\u001b[0m browser\u001b[39m.\u001b[39;49mget(url)\n\u001b[1;32m     <a href='vscode-notebook-cell:/Users/bagjeonghyeon/Documents/Final_Predict_Agricultural/Final_Predict_Agricultural/predict_price.ipynb#W5sZmlsZQ%3D%3D?line=15'>16</a>\u001b[0m time\u001b[39m.\u001b[39msleep(\u001b[39m1\u001b[39m)\n\u001b[1;32m     <a href='vscode-notebook-cell:/Users/bagjeonghyeon/Documents/Final_Predict_Agricultural/Final_Predict_Agricultural/predict_price.ipynb#W5sZmlsZQ%3D%3D?line=16'>17</a>\u001b[0m \u001b[39m# <a class=\"common_btn1\" onclick=\"goExcel('1')\"><img src=\"/images/customer/ico_file2.png\" class=\"grid_excel\"> 데이터저장</a> 클릭\u001b[39;00m\n",
      "File \u001b[0;32m~/miniforge3/envs/baseDeep/lib/python3.8/site-packages/selenium/webdriver/remote/webdriver.py:333\u001b[0m, in \u001b[0;36mWebDriver.get\u001b[0;34m(self, url)\u001b[0m\n\u001b[1;32m    329\u001b[0m \u001b[39mdef\u001b[39;00m \u001b[39mget\u001b[39m(\u001b[39mself\u001b[39m, url):\n\u001b[1;32m    330\u001b[0m     \u001b[39m\"\"\"\u001b[39;00m\n\u001b[1;32m    331\u001b[0m \u001b[39m    Loads a web page in the current browser session.\u001b[39;00m\n\u001b[1;32m    332\u001b[0m \u001b[39m    \"\"\"\u001b[39;00m\n\u001b[0;32m--> 333\u001b[0m     \u001b[39mself\u001b[39;49m\u001b[39m.\u001b[39;49mexecute(Command\u001b[39m.\u001b[39;49mGET, {\u001b[39m'\u001b[39;49m\u001b[39murl\u001b[39;49m\u001b[39m'\u001b[39;49m: url})\n",
      "File \u001b[0;32m~/miniforge3/envs/baseDeep/lib/python3.8/site-packages/selenium/webdriver/remote/webdriver.py:321\u001b[0m, in \u001b[0;36mWebDriver.execute\u001b[0;34m(self, driver_command, params)\u001b[0m\n\u001b[1;32m    319\u001b[0m response \u001b[39m=\u001b[39m \u001b[39mself\u001b[39m\u001b[39m.\u001b[39mcommand_executor\u001b[39m.\u001b[39mexecute(driver_command, params)\n\u001b[1;32m    320\u001b[0m \u001b[39mif\u001b[39;00m response:\n\u001b[0;32m--> 321\u001b[0m     \u001b[39mself\u001b[39;49m\u001b[39m.\u001b[39;49merror_handler\u001b[39m.\u001b[39;49mcheck_response(response)\n\u001b[1;32m    322\u001b[0m     response[\u001b[39m'\u001b[39m\u001b[39mvalue\u001b[39m\u001b[39m'\u001b[39m] \u001b[39m=\u001b[39m \u001b[39mself\u001b[39m\u001b[39m.\u001b[39m_unwrap_value(\n\u001b[1;32m    323\u001b[0m         response\u001b[39m.\u001b[39mget(\u001b[39m'\u001b[39m\u001b[39mvalue\u001b[39m\u001b[39m'\u001b[39m, \u001b[39mNone\u001b[39;00m))\n\u001b[1;32m    324\u001b[0m     \u001b[39mreturn\u001b[39;00m response\n",
      "File \u001b[0;32m~/miniforge3/envs/baseDeep/lib/python3.8/site-packages/selenium/webdriver/remote/errorhandler.py:242\u001b[0m, in \u001b[0;36mErrorHandler.check_response\u001b[0;34m(self, response)\u001b[0m\n\u001b[1;32m    240\u001b[0m         alert_text \u001b[39m=\u001b[39m value[\u001b[39m'\u001b[39m\u001b[39malert\u001b[39m\u001b[39m'\u001b[39m]\u001b[39m.\u001b[39mget(\u001b[39m'\u001b[39m\u001b[39mtext\u001b[39m\u001b[39m'\u001b[39m)\n\u001b[1;32m    241\u001b[0m     \u001b[39mraise\u001b[39;00m exception_class(message, screen, stacktrace, alert_text)\n\u001b[0;32m--> 242\u001b[0m \u001b[39mraise\u001b[39;00m exception_class(message, screen, stacktrace)\n",
      "\u001b[0;31mNoSuchWindowException\u001b[0m: Message: Browsing context has been discarded\n"
     ]
    }
   ],
   "source": [
    "#함수로 만들어서 반복문을 이용하여 url을 만든다.\n",
    "def get_url(start_date, end_date, rank):\n",
    "    url = \"https://www.kamis.or.kr/customer/price/wholesale/period.do?action=daily&countycode=&itemcategorycode=200&itemcode=211&kindcode=&convert_kg_yn=N&productrankcode=\"+rank+\"&period=day&startday=\"+start_date+\"&endday=\"+end_date\n",
    "    return url\n",
    "\n",
    "rank=[\"1\", \"2\"]\n",
    "\n",
    "for i in range(2000, 2022):\n",
    "    start_date= str(i)+\"-01-01\"\n",
    "    end_date= str(i)+\"-12-31\"\n",
    "    for k in range(len(rank)):\n",
    "        url = get_url(start_date, end_date, rank[k])\n",
    "    \n",
    "        # driver를 이용하여 url을 불러온다.\n",
    "        browser.get(url)\n",
    "        time.sleep(1)\n",
    "        # <a class=\"common_btn1\" onclick=\"goExcel('1')\"><img src=\"/images/customer/ico_file2.png\" class=\"grid_excel\"> 데이터저장</a> 클릭\n",
    "        browser.find_element_by_css_selector(\"a.common_btn1\").click()\n",
    "        time.sleep(1)\n",
    "\n",
    "\n",
    "# driver를 종료한다.\n",
    "browser.quit()\n",
    "\n",
    "    \n",
    "\n",
    "\n",
    "    \n",
    "\n",
    "\n",
    "\n",
    "\n",
    "\n",
    "\n",
    "\n",
    "\n",
    "    "
   ]
  }
 ],
 "metadata": {
  "kernelspec": {
   "display_name": "baseDeep",
   "language": "python",
   "name": "python3"
  },
  "language_info": {
   "codemirror_mode": {
    "name": "ipython",
    "version": 3
   },
   "file_extension": ".py",
   "mimetype": "text/x-python",
   "name": "python",
   "nbconvert_exporter": "python",
   "pygments_lexer": "ipython3",
   "version": "3.8.13 (default, Oct 19 2022, 17:52:09) \n[Clang 12.0.0 ]"
  },
  "orig_nbformat": 4,
  "vscode": {
   "interpreter": {
    "hash": "d5bd3b74290b6fecca2d77c6682b8ba7e9275f0a56c500dd407ba5b0bc3fc494"
   }
  }
 },
 "nbformat": 4,
 "nbformat_minor": 2
}
