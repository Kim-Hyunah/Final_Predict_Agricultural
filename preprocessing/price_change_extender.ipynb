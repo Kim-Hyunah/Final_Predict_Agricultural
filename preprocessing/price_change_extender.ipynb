{
 "cells": [
  {
   "cell_type": "code",
   "execution_count": null,
   "metadata": {},
   "outputs": [],
   "source": [
    "import jpype     \n",
    "import asposecells     \n",
    "jpype.startJVM() \n",
    "from asposecells.api import Workbook\n",
    "\n",
    "for i in range(2000, 2023) : \n",
    "    \n",
    "    # Load XLS file\n",
    "    workbook = Workbook(\"data/row_price_xls/\"+str(i)+\"_상품\"+\".xls\")\n",
    "\n",
    "    # Save as XLSX\n",
    "    workbook.save(\"data/row_price_xlsx/\"+str(i)+\"_상품\"+\".xlsx\")\n",
    "\n",
    "# Shutdown JVM\n",
    "jpype.shutdownJVM()"
   ]
  }
 ],
 "metadata": {
  "kernelspec": {
   "display_name": "Python 3",
   "language": "python",
   "name": "python3"
  },
  "language_info": {
   "name": "python",
   "version": "3.9.13 (tags/v3.9.13:6de2ca5, May 17 2022, 16:36:42) [MSC v.1929 64 bit (AMD64)]"
  },
  "orig_nbformat": 4,
  "vscode": {
   "interpreter": {
    "hash": "35194fa150d0702e8891195915a63820988e9a2df0262f8162b948086191fc09"
   }
  }
 },
 "nbformat": 4,
 "nbformat_minor": 2
}
