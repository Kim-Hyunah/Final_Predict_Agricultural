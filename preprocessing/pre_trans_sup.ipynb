{
 "cells": [
  {
   "cell_type": "code",
   "execution_count": 7,
   "metadata": {},
   "outputs": [],
   "source": [
    "import pandas as pd\n",
    "import numpy as np\n",
    "import re\n",
    "import warnings\n",
    "from datetime import datetime\n",
    "warnings.filterwarnings(\"ignore\")"
   ]
  },
  {
   "cell_type": "code",
   "execution_count": 8,
   "metadata": {},
   "outputs": [],
   "source": [
    "for i in range(2000, 2023) : \n",
    "    globals()[\"df_\"+str(i)] = pd.read_excel(\"./data/row_transaction_supply/배추거래물량_\"+str(i)+\".xlsx\")\n",
    "    globals()[\"df_\"+str(i)].drop(index=globals()[\"df_\"+str(i)].index[:2], inplace=True) \n",
    "    globals()[\"df_\"+str(i)].drop(index=globals()[\"df_\"+str(i)][globals()[\"df_\"+str(i)][\"거래년월일\"]==\"소계\"].index, inplace=True)\n",
    "    globals()[\"df_\"+str(i)] = globals()[\"df_\"+str(i)][[\"거래년월일\", \"거래량\"]]\n",
    "    globals()[\"df_\"+str(i)][\"거래년월일\"] = globals()[\"df_\"+str(i)][\"거래년월일\"].apply(lambda x : datetime.strptime(x, \"%Y%m%d\"))\n",
    "    globals()[\"df_\"+str(i)][\"거래량\"] = globals()[\"df_\"+str(i)][\"거래량\"].str.replace(\",\",\"\").astype(\"float\")\n",
    "    globals()[\"df_\"+str(i)] = globals()[\"df_\"+str(i)].groupby(\"거래년월일\").sum()\n"
   ]
  },
  {
   "cell_type": "code",
   "execution_count": 9,
   "metadata": {},
   "outputs": [],
   "source": [
    "df_list = []\n",
    "for i in range(2000,2023) : \n",
    "    y = \"df_\"+str(i)\n",
    "    df_list.append(y)"
   ]
  },
  {
   "cell_type": "code",
   "execution_count": 11,
   "metadata": {},
   "outputs": [
    {
     "name": "stdout",
     "output_type": "stream",
     "text": [
      "<class 'pandas.core.frame.DataFrame'>\n",
      "DatetimeIndex: 7115 entries, 2000-01-03 to 2022-12-20\n",
      "Data columns (total 1 columns):\n",
      " #   Column  Non-Null Count  Dtype  \n",
      "---  ------  --------------  -----  \n",
      " 0   거래량     7115 non-null   float64\n",
      "dtypes: float64(1)\n",
      "memory usage: 111.2 KB\n"
     ]
    }
   ],
   "source": [
    "df_total = pd.concat(\n",
    "    [globals()[i] for i in df_list],\n",
    "    axis=0\n",
    ")\n",
    "\n",
    "df_total.info()"
   ]
  },
  {
   "cell_type": "code",
   "execution_count": 12,
   "metadata": {},
   "outputs": [],
   "source": [
    "df_total.to_csv(\"./data/transaction_supply/transaction_supply_baechoo.csv\")"
   ]
  }
 ],
 "metadata": {
  "kernelspec": {
   "display_name": "baseDeep",
   "language": "python",
   "name": "python3"
  },
  "language_info": {
   "codemirror_mode": {
    "name": "ipython",
    "version": 3
   },
   "file_extension": ".py",
   "mimetype": "text/x-python",
   "name": "python",
   "nbconvert_exporter": "python",
   "pygments_lexer": "ipython3",
   "version": "3.8.13"
  },
  "orig_nbformat": 4,
  "vscode": {
   "interpreter": {
    "hash": "d5bd3b74290b6fecca2d77c6682b8ba7e9275f0a56c500dd407ba5b0bc3fc494"
   }
  }
 },
 "nbformat": 4,
 "nbformat_minor": 2
}
