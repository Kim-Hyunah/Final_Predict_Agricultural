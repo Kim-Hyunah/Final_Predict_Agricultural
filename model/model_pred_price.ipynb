{
 "cells": [
  {
   "cell_type": "code",
   "execution_count": 146,
   "metadata": {},
   "outputs": [],
   "source": [
    "import pandas as pd\n",
    "import numpy as np\n",
    "import warnings\n",
    "import matplotlib.pyplot as plt\n",
    "import re\n",
    "import joblib\n",
    "from datetime import datetime\n",
    "from sklearn.preprocessing import StandardScaler, MinMaxScaler\n",
    "from sklearn.metrics import r2_score, mean_squared_error, mean_absolute_error, get_scorer_names\n",
    "from sklearn.model_selection import KFold, train_test_split, GridSearchCV, cross_val_score\n",
    "from sklearn.linear_model import Ridge, Lasso\n",
    "from sklearn.ensemble import RandomForestRegressor, AdaBoostRegressor, GradientBoostingRegressor\n",
    "from tensorflow.keras.models import Sequential\n",
    "from tensorflow.keras.layers import Embedding, Dense, LSTM\n",
    "from xgboost import XGBRegressor\n",
    "from copy import deepcopy\n",
    "warnings.filterwarnings(\"ignore\")"
   ]
  },
  {
   "cell_type": "code",
   "execution_count": 97,
   "metadata": {},
   "outputs": [],
   "source": [
    "df = pd.read_csv(\"../data/merge_all/merge_all.csv\", index_col=0)\n",
    "# df.info()"
   ]
  },
  {
   "cell_type": "code",
   "execution_count": 98,
   "metadata": {},
   "outputs": [],
   "source": [
    "# 인덱스를 datetime으로 변경\n",
    "df.index = pd.to_datetime(df.index,format=\"%Y-%m-%d\")\n",
    "# df.index\n",
    "# df.info()"
   ]
  },
  {
   "cell_type": "code",
   "execution_count": 99,
   "metadata": {},
   "outputs": [],
   "source": [
    "# rolling 메소드를 이용한 이동평균 만들기\n",
    "mov_list = [5, 7, 28]\n",
    "for mov in mov_list :\n",
    "    globals()[\"df_mov_avr\"+str(mov)] = df[\"평균\"].rolling(mov, min_periods=1).mean()"
   ]
  },
  {
   "cell_type": "code",
   "execution_count": 100,
   "metadata": {},
   "outputs": [],
   "source": [
    "df_yester = df[\"평균\"].shift(1)      # 전날 가격을 추출\n",
    "df_yester[0] = (6040+5160)/2        # 1999년 12월 31일 배추 평균값\n",
    "# df_yester"
   ]
  },
  {
   "cell_type": "code",
   "execution_count": 101,
   "metadata": {},
   "outputs": [],
   "source": [
    "df = pd.concat([df, df_yester , df_mov_avr5, df_mov_avr7, df_mov_avr28],axis=1)\n",
    "# df"
   ]
  },
  {
   "cell_type": "code",
   "execution_count": 102,
   "metadata": {},
   "outputs": [],
   "source": [
    "df.columns = [\"자동차용 경유 가격 (원)\", \"전월비(%)\", \"평균 가격(원)\", \"거래량 (kg)\", \"전일 평균가격\" , \"이동 평균가격_5일\", \"이동 평균가격_7일\",\"이동 평균가격_28일\"]\n",
    "# df.info()"
   ]
  },
  {
   "cell_type": "code",
   "execution_count": 103,
   "metadata": {},
   "outputs": [],
   "source": [
    "feature = df[[\"자동차용 경유 가격 (원)\", \"전월비(%)\", \"거래량 (kg)\", \"전일 평균가격\" , \"이동 평균가격_5일\", \"이동 평균가격_7일\",\"이동 평균가격_28일\"]]\n",
    "target = df[\"평균 가격(원)\"]"
   ]
  },
  {
   "cell_type": "code",
   "execution_count": 104,
   "metadata": {},
   "outputs": [],
   "source": [
    "std = StandardScaler()\n",
    "std.fit(feature)\n",
    "feature_std = std.transform(feature)"
   ]
  },
  {
   "cell_type": "code",
   "execution_count": 10,
   "metadata": {},
   "outputs": [],
   "source": [
    "# feature_std"
   ]
  },
  {
   "cell_type": "code",
   "execution_count": 105,
   "metadata": {},
   "outputs": [],
   "source": [
    "std2 = StandardScaler()\n",
    "std2.fit(target.values.reshape(-1,1))\n",
    "target_std = std2.transform(target.values.reshape(-1,1))\n",
    "# target_std.shape"
   ]
  },
  {
   "cell_type": "code",
   "execution_count": 106,
   "metadata": {},
   "outputs": [],
   "source": [
    "# 가격을 제외한 독립 변수 선택\n",
    "feature_except_price = df[[\"자동차용 경유 가격 (원)\", \"전월비(%)\", \"거래량 (kg)\"]]"
   ]
  },
  {
   "cell_type": "code",
   "execution_count": 107,
   "metadata": {},
   "outputs": [],
   "source": [
    "std_except_price = StandardScaler()\n",
    "std_except_price.fit(feature_except_price)\n",
    "feature_std_except_price = std_except_price.transform(feature_except_price)"
   ]
  },
  {
   "cell_type": "code",
   "execution_count": 108,
   "metadata": {},
   "outputs": [],
   "source": [
    "# 전날 가격 포함, 전월비 제외 독립변수\n",
    "feature_yes_price = df[[\"자동차용 경유 가격 (원)\", \"거래량 (kg)\", \"전일 평균가격\"]]\n",
    "\n",
    "std_yes_price = StandardScaler()\n",
    "std_yes_price.fit(feature_yes_price)\n",
    "feature_std_yes_price = std_yes_price.transform(feature_yes_price)"
   ]
  },
  {
   "cell_type": "code",
   "execution_count": 109,
   "metadata": {},
   "outputs": [],
   "source": [
    "# 전날 가격 포함, 전월비 제외 독립변수, minmaxscale\n",
    "mms_yes_price = MinMaxScaler()\n",
    "mms_yes_price.fit(feature_yes_price)\n",
    "feature_mms_yes_price = mms_yes_price.transform(feature_yes_price)\n",
    "\n",
    "mms_target = MinMaxScaler()\n",
    "mms_target.fit(target.values.reshape(-1,1))\n",
    "target_mms = mms_target.transform(target.values.reshape(-1,1))"
   ]
  },
  {
   "cell_type": "code",
   "execution_count": 110,
   "metadata": {},
   "outputs": [],
   "source": [
    "# 이동평균 7일 포함, 전월비 제외 독립변수\n",
    "feature_seven_price = df[[\"자동차용 경유 가격 (원)\", \"거래량 (kg)\", \"이동 평균가격_7일\"]]\n",
    "\n",
    "std_seven_price = StandardScaler()\n",
    "std_seven_price.fit(feature_seven_price)\n",
    "feature_std_seven_price = std_seven_price.transform(feature_seven_price)"
   ]
  },
  {
   "cell_type": "code",
   "execution_count": 111,
   "metadata": {},
   "outputs": [],
   "source": [
    "# 이동평균 5일 포함, 전월비 제외 독립변수\n",
    "feature_five_price = df[[\"자동차용 경유 가격 (원)\", \"거래량 (kg)\", \"이동 평균가격_5일\"]]\n",
    "\n",
    "std_five_price = StandardScaler()\n",
    "std_five_price.fit(feature_five_price)\n",
    "feature_std_five_price = std_five_price.transform(feature_five_price)"
   ]
  },
  {
   "cell_type": "code",
   "execution_count": 112,
   "metadata": {},
   "outputs": [],
   "source": [
    "# 전일 가격, 이동평균 5일 포함, 전월비 제외 독립변수\n",
    "feature_yes_fi_price = df[[\"자동차용 경유 가격 (원)\", \"거래량 (kg)\", \"전일 평균가격\", \"이동 평균가격_5일\"]]\n",
    "\n",
    "std_yes_fi_price = StandardScaler()\n",
    "std_yes_fi_price.fit(feature_yes_fi_price)\n",
    "feature_std_yes_fi_price = std_yes_fi_price.transform(feature_yes_fi_price)"
   ]
  },
  {
   "cell_type": "code",
   "execution_count": 151,
   "metadata": {},
   "outputs": [],
   "source": [
    "# 전월비만 뺀 독립변수\n",
    "feature_except_prop = df.drop(columns=[\"평균 가격(원)\",\"전월비(%)\"])\n",
    "\n",
    "std_except_prop = StandardScaler()\n",
    "std_except_prop.fit(feature_except_prop)\n",
    "feature_std_except_prop = std_except_prop.transform(feature_except_prop)"
   ]
  },
  {
   "attachments": {},
   "cell_type": "markdown",
   "metadata": {},
   "source": [
    "## 12월 테스트용 데이터 프레임 만들기"
   ]
  },
  {
   "cell_type": "code",
   "execution_count": 162,
   "metadata": {},
   "outputs": [],
   "source": [
    "df_price = pd.read_csv(\"../data/price/price_baechoo.csv\")\n",
    "# df_price.tail(10)"
   ]
  },
  {
   "cell_type": "code",
   "execution_count": 163,
   "metadata": {},
   "outputs": [],
   "source": [
    "df_price.set_index(\"구분\", inplace=True)   # 구분 column을 인덱스로 설정\n",
    "# df_price"
   ]
  },
  {
   "cell_type": "code",
   "execution_count": 164,
   "metadata": {},
   "outputs": [
    {
     "data": {
      "text/plain": [
       "구분\n",
       "2022-11-08    7330.0\n",
       "2022-11-09    7193.5\n",
       "2022-11-10    6760.0\n",
       "2022-11-11    6952.0\n",
       "2022-11-14    6992.0\n",
       "2022-11-15    6724.0\n",
       "2022-11-16    6684.0\n",
       "2022-11-17    6900.0\n",
       "2022-11-18    6432.0\n",
       "2022-11-21    7018.0\n",
       "2022-11-22    6300.0\n",
       "2022-11-23    6260.0\n",
       "2022-11-24    6100.0\n",
       "2022-11-25    6100.0\n",
       "2022-11-28    6100.0\n",
       "2022-11-29    5664.0\n",
       "2022-11-30    5592.0\n",
       "2022-12-01    5242.0\n",
       "2022-12-05    5462.0\n",
       "2022-12-06    5982.0\n",
       "2022-12-07    5502.0\n",
       "2022-12-08    5488.0\n",
       "2022-12-09    5408.0\n",
       "2022-12-12    5408.0\n",
       "2022-12-13    5244.5\n",
       "2022-12-14    5245.5\n",
       "2022-12-15    5430.5\n",
       "2022-12-16    5430.5\n",
       "2022-12-19    5304.0\n",
       "2022-12-20    5459.5\n",
       "Name: 전일 평균가격, dtype: float64"
      ]
     },
     "execution_count": 164,
     "metadata": {},
     "output_type": "execute_result"
    }
   ],
   "source": [
    "df_price[\"전일 평균가격\"] = df_price.shift(1)    # 전 인덱스의 값을 shift\n",
    "df_price[\"전일 평균가격\"].tail(30)"
   ]
  },
  {
   "cell_type": "code",
   "execution_count": 165,
   "metadata": {},
   "outputs": [
    {
     "data": {
      "text/plain": [
       "구분\n",
       "2000-01-03       NaN\n",
       "2000-01-04    5600.0\n",
       "2000-01-05    5600.0\n",
       "2000-01-06    5620.0\n",
       "2000-01-07    5700.0\n",
       "Name: 전일 평균가격, dtype: float64"
      ]
     },
     "execution_count": 165,
     "metadata": {},
     "output_type": "execute_result"
    }
   ],
   "source": [
    "df_price[\"전일 평균가격\"].head()"
   ]
  },
  {
   "cell_type": "code",
   "execution_count": 117,
   "metadata": {},
   "outputs": [],
   "source": [
    "for mov in mov_list :\n",
    "    df_price[\"이동 평균가격_\"+str(mov)+\"일\"] = df_price[\"평균\"].rolling(mov, min_periods=1).mean()"
   ]
  },
  {
   "cell_type": "code",
   "execution_count": 118,
   "metadata": {},
   "outputs": [],
   "source": [
    "df_price = df_price.tail(13)\n",
    "# df_price.head()"
   ]
  },
  {
   "cell_type": "code",
   "execution_count": 119,
   "metadata": {},
   "outputs": [],
   "source": [
    "df_price.index = pd.to_datetime(df_price.index)"
   ]
  },
  {
   "cell_type": "code",
   "execution_count": 24,
   "metadata": {},
   "outputs": [],
   "source": [
    "local_path = \"C:/workspace/datas/\""
   ]
  },
  {
   "cell_type": "code",
   "execution_count": 120,
   "metadata": {},
   "outputs": [],
   "source": [
    "df_oil = pd.read_csv(local_path+\"2022년_12월_주유소_경유가격.csv\", encoding=\"cp949\")\n",
    "# df_oil.info()"
   ]
  },
  {
   "cell_type": "code",
   "execution_count": 26,
   "metadata": {},
   "outputs": [],
   "source": [
    "# df_oil.head()"
   ]
  },
  {
   "cell_type": "code",
   "execution_count": 121,
   "metadata": {},
   "outputs": [],
   "source": [
    "df_oil[\"구분\"] = df_oil[\"구분\"].apply(lambda x : datetime.strptime(str(x), \"%Y년%m월%d일\"))\n",
    "# df_oil[\"구분\"] = df_oil[\"구분\"].apply(lambda x : datetime.strftime(x, \"%Y년%m월%d일\"))"
   ]
  },
  {
   "cell_type": "code",
   "execution_count": 122,
   "metadata": {},
   "outputs": [],
   "source": [
    "df_oil.set_index(\"구분\", inplace=True)\n",
    "# df_oil.head()"
   ]
  },
  {
   "cell_type": "code",
   "execution_count": 123,
   "metadata": {},
   "outputs": [],
   "source": [
    "df_supply = pd.read_csv(\"../data/transaction_supply/transaction_supply_baechoo.csv\")\n",
    "# df_supply.tail()"
   ]
  },
  {
   "cell_type": "code",
   "execution_count": 124,
   "metadata": {},
   "outputs": [],
   "source": [
    "df_supply[\"거래년월일\"] = pd.to_datetime(df_supply[\"거래년월일\"])"
   ]
  },
  {
   "cell_type": "code",
   "execution_count": 125,
   "metadata": {},
   "outputs": [],
   "source": [
    "df_supply.set_index(\"거래년월일\", inplace=True)\n",
    "# df_supply.head()"
   ]
  },
  {
   "cell_type": "code",
   "execution_count": 126,
   "metadata": {},
   "outputs": [],
   "source": [
    "df_supply = df_supply[df_supply.index >= \"2022-12-01\"]"
   ]
  },
  {
   "cell_type": "code",
   "execution_count": 127,
   "metadata": {},
   "outputs": [
    {
     "name": "stdout",
     "output_type": "stream",
     "text": [
      "<class 'pandas.core.frame.DataFrame'>\n",
      "DatetimeIndex: 22 entries, 2022-12-01 to 2022-12-22\n",
      "Data columns (total 7 columns):\n",
      " #   Column       Non-Null Count  Dtype  \n",
      "---  ------       --------------  -----  \n",
      " 0   자동차용경유       22 non-null     float64\n",
      " 1   평균           13 non-null     float64\n",
      " 2   전일 평균가격      13 non-null     float64\n",
      " 3   이동 평균가격_5일   13 non-null     float64\n",
      " 4   이동 평균가격_7일   13 non-null     float64\n",
      " 5   이동 평균가격_28일  13 non-null     float64\n",
      " 6   거래량          17 non-null     float64\n",
      "dtypes: float64(7)\n",
      "memory usage: 1.4 KB\n"
     ]
    }
   ],
   "source": [
    "df_test = df_oil.join(df_price, how=\"outer\")\n",
    "df_test = df_test.join(df_supply, how=\"outer\")\n",
    "df_test.info()"
   ]
  },
  {
   "cell_type": "code",
   "execution_count": 128,
   "metadata": {},
   "outputs": [],
   "source": [
    "df_test.fillna(df_test.ffill(), inplace=True)\n",
    "# df_test"
   ]
  },
  {
   "cell_type": "code",
   "execution_count": 129,
   "metadata": {},
   "outputs": [],
   "source": [
    "df_test_feat_yes = df_test[[\"자동차용경유\", \"거래량\", \"전일 평균가격\"]]\n",
    "df_test_tar = df_test[\"평균\"]"
   ]
  },
  {
   "cell_type": "code",
   "execution_count": 130,
   "metadata": {},
   "outputs": [],
   "source": [
    "df_test_feat_five = df_test[[\"자동차용경유\", \"거래량\", \"이동 평균가격_5일\"]]"
   ]
  },
  {
   "cell_type": "code",
   "execution_count": 131,
   "metadata": {},
   "outputs": [],
   "source": [
    "df_test_feat_seven = df_test[[\"자동차용경유\", \"거래량\", \"이동 평균가격_7일\"]]"
   ]
  },
  {
   "cell_type": "code",
   "execution_count": 132,
   "metadata": {},
   "outputs": [],
   "source": [
    "df_test_feat_yes_fi = df_test[[\"자동차용경유\", \"거래량\", \"전일 평균가격\", \"이동 평균가격_5일\"]]"
   ]
  },
  {
   "cell_type": "code",
   "execution_count": 148,
   "metadata": {},
   "outputs": [],
   "source": [
    "df_test_feat_except_prop = df_test[[\"자동차용경유\", \"거래량\", \"전일 평균가격\" , \"이동 평균가격_5일\", \"이동 평균가격_7일\", \"이동 평균가격_28일\"]]"
   ]
  },
  {
   "attachments": {},
   "cell_type": "markdown",
   "metadata": {},
   "source": [
    "## LSTM"
   ]
  },
  {
   "cell_type": "code",
   "execution_count": 24,
   "metadata": {},
   "outputs": [],
   "source": [
    "# # 딥러닝용 tensor로 변환\n",
    "# X_train, X_test = feature_std[:6696].reshape(-1,3,1.), feature_std[6696:].reshape(-1,3,1)\n",
    "# y_train, y_test = target_std[:6696], target_std[6696:]"
   ]
  },
  {
   "cell_type": "code",
   "execution_count": 25,
   "metadata": {},
   "outputs": [],
   "source": [
    "# model = Sequential()\n",
    "# model.add(LSTM(units=3, input_shape=(X_train.shape[1],1), activation=\"tanh\", ))\n",
    "# model.add(Dense(1))\n",
    "# model.compile(loss=\"mean_squared_error\",optimizer = \"adam\", metrics=[\"mse\"])"
   ]
  },
  {
   "cell_type": "code",
   "execution_count": 102,
   "metadata": {},
   "outputs": [],
   "source": [
    "# model.fit(X_train, y_train ,epochs=300, verbose=2)"
   ]
  },
  {
   "cell_type": "code",
   "execution_count": 103,
   "metadata": {},
   "outputs": [],
   "source": [
    "# model.evaluate(X_test, y_test)"
   ]
  },
  {
   "cell_type": "code",
   "execution_count": 105,
   "metadata": {},
   "outputs": [],
   "source": [
    "# y_pred = model.predict(X_test)\n",
    "# print(\"r2 score :\", r2_score(y_test, y_pred))"
   ]
  },
  {
   "cell_type": "code",
   "execution_count": 106,
   "metadata": {},
   "outputs": [],
   "source": [
    "# y_pred_in = std2.inverse_transform(y_pred)"
   ]
  },
  {
   "cell_type": "code",
   "execution_count": 107,
   "metadata": {},
   "outputs": [],
   "source": [
    "# fig = plt.figure((15,9))\n",
    "# plt.plot(df)"
   ]
  },
  {
   "attachments": {},
   "cell_type": "markdown",
   "metadata": {},
   "source": [
    "## GridSearchCV"
   ]
  },
  {
   "cell_type": "code",
   "execution_count": 15,
   "metadata": {},
   "outputs": [],
   "source": [
    "kfold = KFold(n_splits=10, shuffle=True, random_state=22)"
   ]
  },
  {
   "attachments": {},
   "cell_type": "markdown",
   "metadata": {},
   "source": [
    "iteration은 1 epoch를 시행할 때 필요한 미니배치 갯수를 의미합니다. 다른 말로는 1epoch을 마치는데 필요한 파라미터 업데이트 횟수\n",
    "\n",
    "만약 10,000개의 데이터셋을 학습시킨다고 치자. (여기서 학습은 순방향 역방향 둘 다 포함)\n",
    "\n",
    "메모리 한계 및 성능을 고려하여 나눠서 학습을 시킬 겁니다. \n",
    "\n",
    "이 때, 한 턴에 1,000개씩 10번 , 5턴을 학습시킨다고 하면, batch_size = 1,000 / iteration = 10 /epoch = 5입니다."
   ]
  },
  {
   "cell_type": "code",
   "execution_count": 20,
   "metadata": {},
   "outputs": [],
   "source": [
    "alpha = np.logspace(-4,2,7)   # lasso, ridge 해당\n",
    "learning_rate = np.logspace(-4,2,7)   # adaboost, gradientboost 해당\n",
    "eta = np.logspace(-4,2,7)   # xgboost 해당\n",
    "max_iter = [1,3,5,10,20,50,100,150,200]   # lasso, ridge 해당\n",
    "solver = ['auto', 'svd', 'cholesky', 'lsqr', 'sparse_cg', 'sag', 'saga', 'lbfgs']   # ridge 해당, 계산에 사용할 알고리즘\n",
    "n_estimators = [1,3,5,10,15,20]   # randomforesteregressor(사용할 tree의 개수), gradientboost, adaboost, xgboost 해당\n",
    "max_depth = [2,3,5,7,10,12]  # randomforesteregressor(tree의 깊이), gradientboost, xgboost 해당\n",
    "criterion_rf = [\"squared_error\", \"absolute_error\", \"friedman_mse\", \"poisson\"]  # randomforesteregressor 해당\n",
    "criterion_gb = [\"squared_error\", \"friedman_mse\"]  # gradientboost 해당\n",
    "loss_ada = [\"linear\", \"square\", \"exponential\"]    # adaboost 해당\n",
    "loss_gb = [\"squared_error\", \"absolute_error\", \"huber\", \"quantile\"]  # gradientboost 해당\n"
   ]
  },
  {
   "cell_type": "code",
   "execution_count": 28,
   "metadata": {},
   "outputs": [],
   "source": [
    "model_lasso = [\"Lasso\"]\n",
    "model_ridge = [\"Ridge\"]\n",
    "model_rf = [\"RandomForestRegressor\"]\n",
    "model_ada = [\"AdaBoostRegressor\"] \n",
    "model_grad = [\"GradientBoostingRegressor\"]\n",
    "model_xgb = [\"XGBRegressor\"]\n",
    "\n",
    "params_lasso = {\"alpha\" : alpha, \n",
    "                \"max_iter\" : max_iter}\n",
    "\n",
    "params_ridge = {\"alpha\" : alpha, \n",
    "                \"max_iter\" : max_iter, \n",
    "                \"solver\" : solver}\n",
    "\n",
    "params_rf = {\"n_estimators\" : n_estimators, \n",
    "                \"max_depth\" : max_depth, \n",
    "                \"criterion\" : criterion_rf}\n",
    "\n",
    "params_ada = {\"learning_rate\" : learning_rate, \n",
    "                \"n_estimators\" : n_estimators, \n",
    "                \"loss\" : loss_ada\n",
    "                }\n",
    "\n",
    "params_grad = {\"learning_rate\" : learning_rate, \n",
    "                \"n_estimators\" : n_estimators, \n",
    "                \"max_depth\" : max_depth,\n",
    "                \"criterion\" : criterion_gb}\n",
    "\n",
    "params_xgb = {\"eta\" : eta,\n",
    "                \"n_estimators\" : n_estimators, \n",
    "                \"max_depth\" : max_depth, \n",
    "                }"
   ]
  },
  {
   "cell_type": "code",
   "execution_count": 68,
   "metadata": {},
   "outputs": [
    {
     "name": "stdout",
     "output_type": "stream",
     "text": [
      "Best Score : -0.009160113859789262\n",
      "Best Parameters : {'alpha': 0.0001, 'max_iter': 200}\n"
     ]
    }
   ],
   "source": [
    "# lasso gridsearchcv\n",
    "lasso = Lasso()\n",
    "grid_lasso = GridSearchCV(estimator=lasso, param_grid=params_lasso, cv=kfold, n_jobs=-1, scoring=\"neg_mean_squared_error\")\n",
    "grid_lasso.fit(feature_std, target_std)\n",
    "print(\"Best Score :\", grid_lasso.best_score_)\n",
    "print(\"Best Parameters :\", grid_lasso.best_params_)"
   ]
  },
  {
   "cell_type": "code",
   "execution_count": 69,
   "metadata": {},
   "outputs": [
    {
     "name": "stdout",
     "output_type": "stream",
     "text": [
      "Best Score : -0.009156406654891324\n",
      "Best Parameters : {'alpha': 0.001, 'max_iter': 150, 'solver': 'sag'}\n"
     ]
    }
   ],
   "source": [
    "# ridge gridsearchcv\n",
    "ridge = Ridge()\n",
    "grid_ridge = GridSearchCV(estimator=ridge, param_grid=params_ridge, cv=kfold, n_jobs=-1, scoring=\"neg_mean_squared_error\")\n",
    "grid_ridge.fit(feature_std, target_std)\n",
    "print(\"Best Score :\", grid_ridge.best_score_)\n",
    "print(\"Best Parameters :\", grid_ridge.best_params_)\n"
   ]
  },
  {
   "cell_type": "code",
   "execution_count": 26,
   "metadata": {},
   "outputs": [
    {
     "name": "stdout",
     "output_type": "stream",
     "text": [
      "Best Score : -0.009954545782738902\n",
      "Best Parameters : {'criterion': 'absolute_error', 'max_depth': 7, 'n_estimators': 20}\n"
     ]
    }
   ],
   "source": [
    "# RandomForestRegressor gridsearchcv\n",
    "rf = RandomForestRegressor()\n",
    "grid_rf = GridSearchCV(estimator=rf, param_grid=params_rf, cv=kfold, n_jobs=-1, scoring=\"neg_mean_squared_error\")\n",
    "grid_rf.fit(feature_std, target_std)\n",
    "print(\"Best Score :\", grid_rf.best_score_)\n",
    "print(\"Best Parameters :\", grid_rf.best_params_)"
   ]
  },
  {
   "cell_type": "code",
   "execution_count": 29,
   "metadata": {},
   "outputs": [
    {
     "name": "stdout",
     "output_type": "stream",
     "text": [
      "Best Score : -0.01999911541714563\n",
      "Best Parameters : {'learning_rate': 0.1, 'loss': 'linear', 'n_estimators': 15}\n"
     ]
    }
   ],
   "source": [
    "# adaboost gridsearchcv\n",
    "ada = AdaBoostRegressor()\n",
    "grid_ada = GridSearchCV(estimator=ada, param_grid=params_ada, cv=kfold, n_jobs=-1, scoring=\"neg_mean_squared_error\")\n",
    "grid_ada.fit(feature_std, target_std)\n",
    "print(\"Best Score :\", grid_ada.best_score_)\n",
    "print(\"Best Parameters :\", grid_ada.best_params_)"
   ]
  },
  {
   "cell_type": "code",
   "execution_count": 30,
   "metadata": {},
   "outputs": [
    {
     "name": "stdout",
     "output_type": "stream",
     "text": [
      "Best Score : -0.012345999189884355\n",
      "Best Parameters : {'criterion': 'squared_error', 'learning_rate': 1.0, 'max_depth': 3, 'n_estimators': 15}\n"
     ]
    }
   ],
   "source": [
    "# gradientboost gridsearchcv\n",
    "grad = GradientBoostingRegressor()\n",
    "grid_grad = GridSearchCV(estimator=grad, param_grid=params_grad, cv=kfold, n_jobs=-1, scoring=\"neg_mean_squared_error\")\n",
    "grid_grad.fit(feature_std, target_std)\n",
    "print(\"Best Score :\", grid_grad.best_score_)\n",
    "print(\"Best Parameters :\", grid_grad.best_params_)"
   ]
  },
  {
   "cell_type": "code",
   "execution_count": 31,
   "metadata": {},
   "outputs": [
    {
     "name": "stdout",
     "output_type": "stream",
     "text": [
      "Best Score : -0.012359615657034334\n",
      "Best Parameters : {'eta': 1.0, 'max_depth': 3, 'n_estimators': 20}\n"
     ]
    }
   ],
   "source": [
    "# xgboost gridsearchcv\n",
    "xgb = XGBRegressor()\n",
    "grid_xgb = GridSearchCV(estimator=xgb, param_grid=params_xgb, cv=kfold, n_jobs=-1, scoring=\"neg_mean_squared_error\")\n",
    "grid_xgb.fit(feature_std, target_std)\n",
    "print(\"Best Score :\", grid_xgb.best_score_)\n",
    "print(\"Best Parameters :\", grid_xgb.best_params_)"
   ]
  },
  {
   "attachments": {},
   "cell_type": "markdown",
   "metadata": {},
   "source": [
    "## GridSearchCV를 통한 lasso 모델로 학습"
   ]
  },
  {
   "cell_type": "code",
   "execution_count": 88,
   "metadata": {},
   "outputs": [
    {
     "name": "stdout",
     "output_type": "stream",
     "text": [
      "rmse : 0.15466626744137923\n",
      "r2 score : 0.9863145443926337\n"
     ]
    }
   ],
   "source": [
    "## lasso 모델로 테스트  (모든 데이터를 학습 모델로 사용 후, 특정 시기를 테스트로 사용)\n",
    "feature_len = int(len(feature_std)*0.8)\n",
    "target_len = int(len(target_std)*0.8)\n",
    "\n",
    "X_train, y_train = feature_std, target_std\n",
    "X_test, y_test = feature_std[feature_len:], target_std[target_len:]\n",
    "\n",
    "lasso_test = Lasso(alpha = 0.0001, max_iter = 200)\n",
    "lasso_test.fit(X_train, y_train)\n",
    "y_pred = lasso_test.predict(X_test)\n",
    "print(\"rmse :\", np.sqrt(mean_squared_error(y_test, y_pred)))\n",
    "print(\"r2 score :\", r2_score(y_test, y_pred))"
   ]
  },
  {
   "cell_type": "code",
   "execution_count": 89,
   "metadata": {},
   "outputs": [],
   "source": [
    "y_pred_inverse = std2.inverse_transform(y_pred.reshape(-1,1)).flatten()"
   ]
  },
  {
   "cell_type": "code",
   "execution_count": 80,
   "metadata": {},
   "outputs": [
    {
     "data": {
      "text/plain": [
       "8370"
      ]
     },
     "execution_count": 80,
     "metadata": {},
     "output_type": "execute_result"
    }
   ],
   "source": [
    "len(target.values)"
   ]
  },
  {
   "cell_type": "code",
   "execution_count": 90,
   "metadata": {},
   "outputs": [
    {
     "data": {
      "image/png": "[encoded data removed]",
      "text/plain": [
       "<Figure size 640x480 with 1 Axes>"
      ]
     },
     "metadata": {},
     "output_type": "display_data"
    }
   ],
   "source": [
    "plt.plot(target.index.to_list(), target.values, label=\"actual\")\n",
    "plt.plot(target.index[target_len:], y_pred_inverse, label=\"prediction\")\n",
    "plt.legend()\n",
    "plt.show()"
   ]
  },
  {
   "cell_type": "code",
   "execution_count": 30,
   "metadata": {},
   "outputs": [],
   "source": [
    "# lasso cross_val_score  (불가)\n",
    "X_train, X_test, y_train, y_test = train_test_split(feature_std, target_std, test_size=0.2, random_state=22)\n",
    "\n",
    "# lasso_cross = Lasso(alpha = 0.0001, max_iter = 200)\n",
    "# cross_val_lasso = cross_val_score(lasso_cross,X_train, y_train, cv=kfold)"
   ]
  },
  {
   "cell_type": "code",
   "execution_count": 34,
   "metadata": {},
   "outputs": [],
   "source": [
    "# cross_val_lasso"
   ]
  },
  {
   "cell_type": "code",
   "execution_count": 23,
   "metadata": {},
   "outputs": [],
   "source": [
    "# get_scorer_names()    # scoring의 이름들을 불러오는 메소드"
   ]
  },
  {
   "cell_type": "code",
   "execution_count": 33,
   "metadata": {},
   "outputs": [],
   "source": [
    "# y_pred = lasso_cross.predict(X_test)\n",
    "# print(\"r2_score : \",r2_score(y_test, y_pred))"
   ]
  },
  {
   "cell_type": "code",
   "execution_count": 134,
   "metadata": {},
   "outputs": [
    {
     "name": "stdout",
     "output_type": "stream",
     "text": [
      "rmse : 0.8744962730522208\n",
      "r2 score : 0.19396156394744613\n"
     ]
    }
   ],
   "source": [
    "# 가격을 뺀 독립변수를 이용한 lasso 모델 학습\n",
    "\n",
    "X_train, X_test, y_train, y_test = train_test_split(feature_std_except_price, target_std, test_size=0.2, random_state=22)\n",
    "lasso_test2 = Lasso(alpha = 0.0001, max_iter = 200)\n",
    "lasso_test2.fit(X_train, y_train)\n",
    "y_pred = lasso_test2.predict(X_test)\n",
    "print(\"rmse :\", np.sqrt(mean_squared_error(y_test, y_pred)))\n",
    "print(\"r2 score :\", r2_score(y_test, y_pred))"
   ]
  },
  {
   "cell_type": "code",
   "execution_count": 160,
   "metadata": {},
   "outputs": [
    {
     "name": "stdout",
     "output_type": "stream",
     "text": [
      "rmse : 0.2530523559569496\n",
      "r2 score : 0.9633656221377692\n"
     ]
    }
   ],
   "source": [
    "# 전일 가격이 포함, 전월비 제외 독립변수를 이용한 lasso 모델 학습\n",
    "\n",
    "X_train, X_test, y_train, y_test = train_test_split(feature_std_seven_price, target_std, test_size=0.2, random_state=22, shuffle=False)\n",
    "lasso_test3 = Lasso(alpha = 0.0001, max_iter = 200)\n",
    "lasso_test3.fit(X_train, y_train)\n",
    "y_pred = lasso_test3.predict(X_test)\n",
    "print(\"rmse :\", np.sqrt(mean_squared_error(y_test, y_pred)))\n",
    "print(\"r2 score :\", r2_score(y_test, y_pred))"
   ]
  },
  {
   "cell_type": "code",
   "execution_count": 86,
   "metadata": {},
   "outputs": [
    {
     "name": "stdout",
     "output_type": "stream",
     "text": [
      "rmse : 0.011421950991364664\n",
      "r2 score : 0.9900012490274483\n"
     ]
    }
   ],
   "source": [
    "# 전일 가격이 포함, 전월비 제외 독립변수를 이용한 lasso 모델 학습, minmaxscaling\n",
    "\n",
    "X_train, X_test, y_train, y_test = train_test_split(feature_mms_yes_price, target_mms, test_size=0.2, random_state=22)\n",
    "lasso_test4 = Lasso(alpha = 0.0001, max_iter = 200)\n",
    "lasso_test4.fit(X_train, y_train)\n",
    "y_pred = lasso_test4.predict(X_test)\n",
    "print(\"rmse :\", np.sqrt(mean_squared_error(y_test, y_pred)))\n",
    "print(\"r2 score :\", r2_score(y_test, y_pred))"
   ]
  },
  {
   "cell_type": "code",
   "execution_count": 87,
   "metadata": {},
   "outputs": [
    {
     "name": "stdout",
     "output_type": "stream",
     "text": [
      "rmse : 0.1571552522163225\n",
      "r2 score : 0.9858705306886224\n"
     ]
    }
   ],
   "source": [
    "# 전일 가격, 5일 이동 평균으로 lasso 학습\n",
    "X_train, X_test, y_train, y_test = train_test_split(feature_std_yes_fi_price, target_std, test_size=0.2, random_state=22, shuffle=False)\n",
    "lasso_test5 = Lasso(alpha = 0.0001, max_iter = 200)\n",
    "lasso_test5.fit(X_train, y_train)\n",
    "y_pred = lasso_test5.predict(X_test)\n",
    "print(\"rmse :\", np.sqrt(mean_squared_error(y_test, y_pred)))\n",
    "print(\"r2 score :\", r2_score(y_test, y_pred))"
   ]
  },
  {
   "cell_type": "code",
   "execution_count": 152,
   "metadata": {},
   "outputs": [
    {
     "name": "stdout",
     "output_type": "stream",
     "text": [
      "rmse : 0.15204516698188744\n",
      "r2 score : 0.9867744637451524\n"
     ]
    }
   ],
   "source": [
    "# 전월비만 뺀 변수로 lasso 학습\n",
    "X_train, X_test, y_train, y_test = train_test_split(feature_std_except_prop, target_std, test_size=0.2, random_state=22, shuffle=False)\n",
    "lasso_test6 = Lasso(alpha = 0.0001, max_iter = 200)\n",
    "lasso_test6.fit(X_train, y_train)\n",
    "y_pred = lasso_test6.predict(X_test)\n",
    "print(\"rmse :\", np.sqrt(mean_squared_error(y_test, y_pred)))\n",
    "print(\"r2 score :\", r2_score(y_test, y_pred))"
   ]
  },
  {
   "attachments": {},
   "cell_type": "markdown",
   "metadata": {},
   "source": [
    "## GridSearchCV를 통한 xgboost 모델 학습"
   ]
  },
  {
   "cell_type": "code",
   "execution_count": 70,
   "metadata": {},
   "outputs": [
    {
     "name": "stdout",
     "output_type": "stream",
     "text": [
      "r2_score : 0.9397499695711777\n"
     ]
    }
   ],
   "source": [
    "# xgboost를 이용한 가격 예측 모델\n",
    "xgb_std = XGBRegressor(eta = 1, max_depth = 3, n_estimators = 20)\n",
    "\n",
    "X_train, X_test, y_train, y_test = train_test_split(feature_std_yes_fi_price, target_std, test_size=0.2, random_state=22, shuffle=False)\n",
    "xgb_std.fit(X_train, y_train)\n",
    "y_pred = xgb_std.predict(X_test)\n",
    "print(\"r2_score :\",r2_score(y_test, y_pred))"
   ]
  },
  {
   "cell_type": "code",
   "execution_count": 71,
   "metadata": {},
   "outputs": [
    {
     "data": {
      "image/png": "[encoded data removed]",
      "text/plain": [
       "<Figure size 640x480 with 1 Axes>"
      ]
     },
     "metadata": {},
     "output_type": "display_data"
    }
   ],
   "source": [
    "plt.plot(feature.index, target, label=\"actual\")\n",
    "plt.plot(feature.index[int(len(feature)*0.8):], std2.inverse_transform(y_test.reshape(-1,1)), label=\"actual_test\")\n",
    "plt.plot(feature.index[int(len(feature)*0.8):], std2.inverse_transform(y_pred.reshape(-1,1)), label=\"predict_test\")\n",
    "plt.legend()\n",
    "plt.show()"
   ]
  },
  {
   "attachments": {},
   "cell_type": "markdown",
   "metadata": {},
   "source": [
    "## 12월 가격 예측 테스트 Lasso"
   ]
  },
  {
   "cell_type": "code",
   "execution_count": 161,
   "metadata": {},
   "outputs": [
    {
     "name": "stdout",
     "output_type": "stream",
     "text": [
      "r2_score : -0.9055362011133783\n"
     ]
    }
   ],
   "source": [
    "X_test_12_std = std_seven_price.transform(df_test_feat)\n",
    "\n",
    "y_pred_12_std = lasso_test3.predict(X_test_12_std)\n",
    "\n",
    "print(\"r2_score :\",r2_score(y_pred_12_std, std2.transform(df_test_tar.values.reshape(-1,1))))"
   ]
  },
  {
   "cell_type": "code",
   "execution_count": 94,
   "metadata": {},
   "outputs": [
    {
     "name": "stdout",
     "output_type": "stream",
     "text": [
      "r2_score : -1.0381613870377304\n"
     ]
    }
   ],
   "source": [
    "X_test_12_mms = mms_yes_price.transform(df_test_feat)\n",
    "\n",
    "y_pred_12_mms = lasso_test4.predict(X_test_12_mms)\n",
    "\n",
    "print(\"r2_score :\",r2_score(y_pred_12_mms, mms_target.transform(df_test_tar.values.reshape(-1,1))))"
   ]
  },
  {
   "cell_type": "code",
   "execution_count": 162,
   "metadata": {},
   "outputs": [],
   "source": [
    "rev_normal_std = std2.inverse_transform(y_pred_12_std.reshape(-1,1))"
   ]
  },
  {
   "cell_type": "code",
   "execution_count": 99,
   "metadata": {},
   "outputs": [],
   "source": [
    "rev_normal_mms = mms_target.inverse_transform(y_pred_12_mms.reshape(-1,1))"
   ]
  },
  {
   "cell_type": "code",
   "execution_count": 163,
   "metadata": {},
   "outputs": [
    {
     "data": {
      "image/png": "[encoded data removed]",
      "text/plain": [
       "<Figure size 640x480 with 1 Axes>"
      ]
     },
     "metadata": {},
     "output_type": "display_data"
    }
   ],
   "source": [
    "plt.plot(df_test_feat.index, df_test_tar, label=\"actual\")\n",
    "plt.plot(df_test_feat.index, rev_normal_std, label=\"predict_std\")\n",
    "# plt.plot(df_test_feat.index, rev_normal_mms, label=\"predict_mms\")\n",
    "plt.legend()\n",
    "plt.show()"
   ]
  },
  {
   "cell_type": "code",
   "execution_count": 88,
   "metadata": {},
   "outputs": [
    {
     "name": "stdout",
     "output_type": "stream",
     "text": [
      "r2_score : -1.0568878097558412\n"
     ]
    }
   ],
   "source": [
    "X_test_12_std = std_yes_fi_price.transform(df_test_feat_yes_fi)\n",
    "y_pred_12_std = lasso_test5.predict(X_test_12_std)\n",
    "rev_normal_std = std2.inverse_transform(y_pred_12_std.reshape(-1,1))\n",
    "print(\"r2_score :\",r2_score(rev_normal_std, df_test_tar.values.reshape(-1,1)))"
   ]
  },
  {
   "cell_type": "code",
   "execution_count": 89,
   "metadata": {},
   "outputs": [
    {
     "data": {
      "image/png": "[encoded data removed]",
      "text/plain": [
       "<Figure size 640x480 with 1 Axes>"
      ]
     },
     "metadata": {},
     "output_type": "display_data"
    }
   ],
   "source": [
    "plt.plot(df_test_feat_yes.index, df_test_tar, label=\"actual\")\n",
    "plt.plot(df_test_feat_yes.index, rev_normal_std, label=\"predict_std\")\n",
    "plt.legend()\n",
    "plt.show()"
   ]
  },
  {
   "cell_type": "code",
   "execution_count": 90,
   "metadata": {},
   "outputs": [
    {
     "name": "stdout",
     "output_type": "stream",
     "text": [
      "predict price : [5217.9893]\n",
      "predict price : [5217.9893]\n",
      "predict price : [5217.9893]\n",
      "predict price : [5217.9893]\n",
      "predict price : [5217.9893]\n",
      "predict price : [5217.9893]\n",
      "predict price : [5217.9893]\n",
      "predict price : [5381.6533]\n",
      "predict price : [5566.824]\n",
      "predict price : [5452.1455]\n",
      "predict price : [5292.803]\n",
      "predict price : [5107.632]\n",
      "predict price : [5002.577]\n",
      "predict price : [4716.3066]\n",
      "predict price : [4630.8296]\n",
      "predict price : [4630.8296]\n",
      "predict price : [4716.9985]\n",
      "predict price : [4716.9985]\n",
      "predict price : [4716.9985]\n",
      "predict price : [4716.9985]\n",
      "predict price : [4716.9985]\n",
      "predict price : [4716.9985]\n"
     ]
    }
   ],
   "source": [
    "pred_list = []\n",
    "for i in range(len(X_test_12_std)) : \n",
    "    y_pred_12_std = xgb_std.predict(X_test_12_std[i].reshape(1,-1))\n",
    "    # print(\"r2_score :\",r2_score(y_pred_12_std, std2.transform(df_test_tar.values[i].reshape(1,-1))))\n",
    "    rev_normal_std = std2.inverse_transform(y_pred_12_std.reshape(-1,1))\n",
    "    print(\"predict price :\", rev_normal_std[0])\n",
    "    pred_price = rev_normal_std[0]\n",
    "    pred_list.append(pred_price)\n",
    "    if i == (len(X_test_12_std)-1) : \n",
    "        break\n",
    "    X_test_12_std[i+1,2] = y_pred_12_std"
   ]
  },
  {
   "cell_type": "code",
   "execution_count": 91,
   "metadata": {},
   "outputs": [
    {
     "data": {
      "text/plain": [
       "-8.969067879983085"
      ]
     },
     "execution_count": 91,
     "metadata": {},
     "output_type": "execute_result"
    }
   ],
   "source": [
    "r2_score(df_test_tar, pred_list)"
   ]
  },
  {
   "cell_type": "code",
   "execution_count": 153,
   "metadata": {},
   "outputs": [
    {
     "name": "stdout",
     "output_type": "stream",
     "text": [
      "r2_score : -1.3312001146952483\n"
     ]
    }
   ],
   "source": [
    "X_test_12_std = std_except_prop.transform(df_test_feat_except_prop)\n",
    "y_pred_12_std = lasso_test6.predict(X_test_12_std)\n",
    "rev_normal_std = std2.inverse_transform(y_pred_12_std.reshape(-1,1))\n",
    "print(\"r2_score :\",r2_score(rev_normal_std, df_test_tar.values.reshape(-1,1)))"
   ]
  },
  {
   "cell_type": "code",
   "execution_count": 154,
   "metadata": {},
   "outputs": [
    {
     "data": {
      "image/png": "[encoded data removed]",
      "text/plain": [
       "<Figure size 640x480 with 1 Axes>"
      ]
     },
     "metadata": {},
     "output_type": "display_data"
    }
   ],
   "source": [
    "plt.plot(df_test_feat_yes.index, df_test_tar, label=\"actual\")\n",
    "plt.plot(df_test_feat_yes.index, rev_normal_std, label=\"predict_std\")\n",
    "plt.legend()\n",
    "plt.show()"
   ]
  },
  {
   "cell_type": "code",
   "execution_count": 155,
   "metadata": {},
   "outputs": [
    {
     "name": "stdout",
     "output_type": "stream",
     "text": [
      "predict price : [5218.80219805]\n",
      "predict price : [5199.9402819]\n",
      "predict price : [5179.69419838]\n",
      "predict price : [5161.27571039]\n",
      "predict price : [5151.80460337]\n",
      "predict price : [5148.30493527]\n",
      "predict price : [5146.69705782]\n",
      "predict price : [5158.03156151]\n",
      "predict price : [5172.6377334]\n",
      "predict price : [5186.91593342]\n",
      "predict price : [5199.78026284]\n",
      "predict price : [5184.60058792]\n",
      "predict price : [5166.78389212]\n",
      "predict price : [5156.77290792]\n",
      "predict price : [5156.75780102]\n",
      "predict price : [5158.41994645]\n",
      "predict price : [5160.91008461]\n",
      "predict price : [5163.09492688]\n",
      "predict price : [5176.76070069]\n",
      "predict price : [5205.54445553]\n",
      "predict price : [5231.50950871]\n",
      "predict price : [5254.97583914]\n"
     ]
    }
   ],
   "source": [
    "pred_list = []\n",
    "for i in range(len(X_test_12_std)) : \n",
    "    y_pred_12_std = lasso_test6.predict(X_test_12_std[i].reshape(1,-1))\n",
    "    # print(\"r2_score :\",r2_score(y_pred_12_std, std2.transform(df_test_tar.values[i].reshape(1,-1))))\n",
    "    rev_normal_std = std2.inverse_transform(y_pred_12_std.reshape(-1,1))\n",
    "    print(\"predict price :\", rev_normal_std[0])\n",
    "    pred_price = rev_normal_std[0]\n",
    "    pred_list.append(pred_price)\n",
    "    if i == (len(X_test_12_std)-1) : \n",
    "        break\n",
    "    X_test_12_std[i+1,2] = y_pred_12_std"
   ]
  },
  {
   "cell_type": "code",
   "execution_count": 156,
   "metadata": {},
   "outputs": [
    {
     "data": {
      "text/plain": [
       "-2.5793579554265387"
      ]
     },
     "execution_count": 156,
     "metadata": {},
     "output_type": "execute_result"
    }
   ],
   "source": [
    "r2_score(df_test_tar, pred_list)"
   ]
  },
  {
   "attachments": {},
   "cell_type": "markdown",
   "metadata": {},
   "source": [
    "## 12월 가격 예측 테스트 xgboost"
   ]
  },
  {
   "cell_type": "code",
   "execution_count": 83,
   "metadata": {},
   "outputs": [],
   "source": [
    "X_test_12_std = std_yes_fi_price.transform(df_test_feat_yes_fi)"
   ]
  },
  {
   "cell_type": "code",
   "execution_count": 80,
   "metadata": {},
   "outputs": [
    {
     "data": {
      "text/plain": [
       "(22, 4)"
      ]
     },
     "execution_count": 80,
     "metadata": {},
     "output_type": "execute_result"
    }
   ],
   "source": [
    "X_test_12_std.shape"
   ]
  },
  {
   "cell_type": "code",
   "execution_count": 84,
   "metadata": {},
   "outputs": [
    {
     "name": "stdout",
     "output_type": "stream",
     "text": [
      "r2_score : -0.6997531211380164\n"
     ]
    }
   ],
   "source": [
    "y_pred_12_std = xgb_std.predict(X_test_12_std)\n",
    "rev_normal_std = std2.inverse_transform(y_pred_12_std.reshape(-1,1))\n",
    "print(\"r2_score :\",r2_score(rev_normal_std, df_test_tar.values.reshape(-1,1)))\n",
    "# y_pred_12_std"
   ]
  },
  {
   "cell_type": "code",
   "execution_count": 75,
   "metadata": {},
   "outputs": [
    {
     "data": {
      "image/png": "[encoded data removed]",
      "text/plain": [
       "<Figure size 640x480 with 1 Axes>"
      ]
     },
     "metadata": {},
     "output_type": "display_data"
    }
   ],
   "source": [
    "plt.plot(df_test_feat_yes.index, df_test_tar, label=\"actual\")\n",
    "plt.plot(df_test_feat_yes.index, rev_normal_std, label=\"predict_std\")\n",
    "plt.legend()\n",
    "plt.show()"
   ]
  },
  {
   "cell_type": "code",
   "execution_count": 82,
   "metadata": {},
   "outputs": [
    {
     "name": "stdout",
     "output_type": "stream",
     "text": [
      "[[5217.9893]]\n",
      "[[5462.]]\n"
     ]
    }
   ],
   "source": [
    "# X_test_12_std[0]\n",
    "y_pred_12_std = xgb_std.predict(X_test_12_std[0].reshape(1,-1))\n",
    "rev_normal_std = std2.inverse_transform(y_pred_12_std.reshape(-1,1))\n",
    "# print(\"r2_score :\",r2_score(rev_normal_std, df_test_tar[0].reshape(-1,1)))\n",
    "print(rev_normal_std)\n",
    "print(df_test_tar[0].reshape(-1,1))\n"
   ]
  },
  {
   "cell_type": "code",
   "execution_count": 65,
   "metadata": {},
   "outputs": [
    {
     "data": {
      "text/plain": [
       "array([[ 1.55763368, -0.29812356, -0.36169439],\n",
       "       [ 1.55354806, -0.57971956, -0.35450771],\n",
       "       [ 1.54965184, -0.18603786, -0.36169439],\n",
       "       [ 1.54637793, -0.18603786, -0.36169439],\n",
       "       [ 1.54007362, -0.98071814, -0.30965509],\n",
       "       [ 1.52981898, -1.11317245, -0.18665309],\n",
       "       [ 1.51623631, -0.43249457, -0.3001934 ],\n",
       "       [ 1.49702577, -0.26569705, -0.30350499],\n",
       "       [ 1.47548831, -0.25198107, -0.32242837],\n",
       "       [ 1.45205686, -0.41183186, -0.32242837],\n",
       "       [ 1.4419375 , -0.41183186, -0.32242837],\n",
       "       [ 1.42210464, -0.17612483, -0.32242837],\n",
       "       [ 1.39312648, -0.32880072, -0.36110304],\n",
       "       [ 1.36964091, -0.37296568, -0.36086649],\n",
       "       [ 1.345993  , -0.82219584, -0.31710617],\n",
       "       [ 1.324672  , -0.82751998, -0.31710617],\n",
       "       [ 1.30573202, -0.97730562, -0.31710617],\n",
       "       [ 1.29812898, -0.97730562, -0.31710617],\n",
       "       [ 1.28424868, -0.95595838, -0.34702877],\n",
       "       [ 1.27196476, -0.51423271, -0.31024644],\n",
       "       [ 1.25470232, -0.51423271, -0.31024644],\n",
       "       [ 1.24350068, -0.51423271, -0.31024644]])"
      ]
     },
     "execution_count": 65,
     "metadata": {},
     "output_type": "execute_result"
    }
   ],
   "source": [
    "X_test_12_std[1,2] = y_pred_12_std[0]\n",
    "X_test_12_std"
   ]
  },
  {
   "cell_type": "code",
   "execution_count": 66,
   "metadata": {},
   "outputs": [
    {
     "name": "stdout",
     "output_type": "stream",
     "text": [
      "[[5272.3345]]\n",
      "[[5462.]]\n"
     ]
    }
   ],
   "source": [
    "y_pred_12_std = xgb_std.predict(X_test_12_std[1].reshape(1,-1))\n",
    "rev_normal_std = std2.inverse_transform(y_pred_12_std.reshape(-1,1))\n",
    "# print(\"r2_score :\",r2_score(rev_normal_std, df_test_tar[0].reshape(-1,1)))\n",
    "print(rev_normal_std)\n",
    "print(df_test_tar[1].reshape(-1,1))"
   ]
  },
  {
   "cell_type": "code",
   "execution_count": 85,
   "metadata": {},
   "outputs": [
    {
     "name": "stdout",
     "output_type": "stream",
     "text": [
      "predict price : [5217.9893]\n",
      "predict price : [5217.9893]\n",
      "predict price : [5217.9893]\n",
      "predict price : [5217.9893]\n",
      "predict price : [5217.9893]\n",
      "predict price : [5217.9893]\n",
      "predict price : [5217.9893]\n",
      "predict price : [5381.6533]\n",
      "predict price : [5566.824]\n",
      "predict price : [5452.1455]\n",
      "predict price : [5292.803]\n",
      "predict price : [5107.632]\n",
      "predict price : [5002.577]\n",
      "predict price : [4716.3066]\n",
      "predict price : [4630.8296]\n",
      "predict price : [4630.8296]\n",
      "predict price : [4716.9985]\n",
      "predict price : [4716.9985]\n",
      "predict price : [4716.9985]\n",
      "predict price : [4716.9985]\n",
      "predict price : [4716.9985]\n",
      "predict price : [4716.9985]\n"
     ]
    }
   ],
   "source": [
    "pred_list = []\n",
    "for i in range(len(X_test_12_std)) : \n",
    "    y_pred_12_std = xgb_std.predict(X_test_12_std[i].reshape(1,-1))\n",
    "    # print(\"r2_score :\",r2_score(y_pred_12_std, std2.transform(df_test_tar.values[i].reshape(1,-1))))\n",
    "    rev_normal_std = std2.inverse_transform(y_pred_12_std.reshape(-1,1))\n",
    "    print(\"predict price :\", rev_normal_std[0])\n",
    "    pred_price = rev_normal_std[0]\n",
    "    pred_list.append(pred_price)\n",
    "    if i == (len(X_test_12_std)-1) : \n",
    "        break\n",
    "    X_test_12_std[i+1,2] = y_pred_12_std\n",
    "    \n"
   ]
  },
  {
   "cell_type": "code",
   "execution_count": 77,
   "metadata": {},
   "outputs": [
    {
     "data": {
      "text/plain": [
       "array([[ 1.55763368, -0.29812356, -0.36169439, -0.27542145],\n",
       "       [ 1.55354806, -0.57971956, -0.36736268, -0.27542145],\n",
       "       [ 1.54965184, -0.18603786, -0.36736268, -0.27542145],\n",
       "       [ 1.54637793, -0.18603786, -0.36736268, -0.27542145],\n",
       "       [ 1.54007362, -0.98071814, -0.36736268, -0.28102937],\n",
       "       [ 1.52981898, -1.11317245, -0.36736268, -0.28872837],\n",
       "       [ 1.51623631, -0.43249457, -0.36736268, -0.29367094],\n",
       "       [ 1.49702577, -0.26569705, -0.36736268, -0.28578184],\n",
       "       [ 1.47548831, -0.25198107, -0.32864934, -0.28834817],\n",
       "       [ 1.45205686, -0.41183186, -0.28484866, -0.28834817],\n",
       "       [ 1.4419375 , -0.41183186, -0.31197497, -0.28834817],\n",
       "       [ 1.42210464, -0.17612483, -0.34966606, -0.32339763],\n",
       "       [ 1.39312648, -0.32880072, -0.39346677, -0.33558772],\n",
       "       [ 1.36964091, -0.37296568, -0.4183166 , -0.33832039],\n",
       "       [ 1.345993  , -0.82219584, -0.48603147, -0.33725108],\n",
       "       [ 1.324672  , -0.82751998, -0.50625026, -0.34219365],\n",
       "       [ 1.30573202, -0.97730562, -0.50625026, -0.34219365],\n",
       "       [ 1.29812898, -0.97730562, -0.48586777, -0.34219365],\n",
       "       [ 1.28424868, -0.95595838, -0.48586777, -0.33197584],\n",
       "       [ 1.27196476, -0.51423271, -0.48586777, -0.30733429],\n",
       "       [ 1.25470232, -0.51423271, -0.48586777, -0.30733429],\n",
       "       [ 1.24350068, -0.51423271, -0.48586777, -0.30733429]])"
      ]
     },
     "execution_count": 77,
     "metadata": {},
     "output_type": "execute_result"
    }
   ],
   "source": [
    "X_test_12_std"
   ]
  },
  {
   "cell_type": "code",
   "execution_count": 86,
   "metadata": {},
   "outputs": [
    {
     "data": {
      "text/plain": [
       "-8.969067879983085"
      ]
     },
     "execution_count": 86,
     "metadata": {},
     "output_type": "execute_result"
    }
   ],
   "source": [
    "r2_score(df_test_tar, pred_list)"
   ]
  },
  {
   "cell_type": "code",
   "execution_count": 51,
   "metadata": {},
   "outputs": [
    {
     "name": "stdout",
     "output_type": "stream",
     "text": [
      "[[ 1  2  3]\n",
      " [ 4  5  3]\n",
      " [ 7  8  3]\n",
      " [10 11  3]]\n"
     ]
    }
   ],
   "source": [
    "# for i in range(len(a)) : \n",
    "#     b = a[i,2]\n",
    "#     if i == len(a)-1 : \n",
    "#         break\n",
    "#     a[i+1, 2] = b\n",
    "\n",
    "# print(a)"
   ]
  },
  {
   "attachments": {},
   "cell_type": "markdown",
   "metadata": {},
   "source": [
    "-------------------------------------------------"
   ]
  },
  {
   "cell_type": "code",
   "execution_count": 20,
   "metadata": {},
   "outputs": [
    {
     "ename": "ValueError",
     "evalue": "Expected 2D array, got 1D array instead:\narray=[5600. 5600. 5600. ... 5664. 5592. 5242.].\nReshape your data either using array.reshape(-1, 1) if your data has a single feature or array.reshape(1, -1) if it contains a single sample.",
     "output_type": "error",
     "traceback": [
      "\u001b[1;31m---------------------------------------------------------------------------\u001b[0m",
      "\u001b[1;31mValueError\u001b[0m                                Traceback (most recent call last)",
      "Cell \u001b[1;32mIn[20], line 5\u001b[0m\n\u001b[0;32m      3\u001b[0m scaler\u001b[39m.\u001b[39mfit(feature)\n\u001b[0;32m      4\u001b[0m feature \u001b[39m=\u001b[39m scaler\u001b[39m.\u001b[39mtransform(feature)\n\u001b[1;32m----> 5\u001b[0m scaler\u001b[39m.\u001b[39;49mfit(target)\n\u001b[0;32m      6\u001b[0m target \u001b[39m=\u001b[39m scaler\u001b[39m.\u001b[39mtransform(target)\n\u001b[0;32m      8\u001b[0m \u001b[39m# 데이터셋 생성\u001b[39;00m\n",
      "File \u001b[1;32mc:\\Users\\jhahn\\anaconda3\\lib\\site-packages\\sklearn\\preprocessing\\_data.py:420\u001b[0m, in \u001b[0;36mMinMaxScaler.fit\u001b[1;34m(self, X, y)\u001b[0m\n\u001b[0;32m    418\u001b[0m \u001b[39m# Reset internal state before fitting\u001b[39;00m\n\u001b[0;32m    419\u001b[0m \u001b[39mself\u001b[39m\u001b[39m.\u001b[39m_reset()\n\u001b[1;32m--> 420\u001b[0m \u001b[39mreturn\u001b[39;00m \u001b[39mself\u001b[39;49m\u001b[39m.\u001b[39;49mpartial_fit(X, y)\n",
      "File \u001b[1;32mc:\\Users\\jhahn\\anaconda3\\lib\\site-packages\\sklearn\\preprocessing\\_data.py:457\u001b[0m, in \u001b[0;36mMinMaxScaler.partial_fit\u001b[1;34m(self, X, y)\u001b[0m\n\u001b[0;32m    451\u001b[0m     \u001b[39mraise\u001b[39;00m \u001b[39mTypeError\u001b[39;00m(\n\u001b[0;32m    452\u001b[0m         \u001b[39m\"\u001b[39m\u001b[39mMinMaxScaler does not support sparse input. \u001b[39m\u001b[39m\"\u001b[39m\n\u001b[0;32m    453\u001b[0m         \u001b[39m\"\u001b[39m\u001b[39mConsider using MaxAbsScaler instead.\u001b[39m\u001b[39m\"\u001b[39m\n\u001b[0;32m    454\u001b[0m     )\n\u001b[0;32m    456\u001b[0m first_pass \u001b[39m=\u001b[39m \u001b[39mnot\u001b[39;00m \u001b[39mhasattr\u001b[39m(\u001b[39mself\u001b[39m, \u001b[39m\"\u001b[39m\u001b[39mn_samples_seen_\u001b[39m\u001b[39m\"\u001b[39m)\n\u001b[1;32m--> 457\u001b[0m X \u001b[39m=\u001b[39m \u001b[39mself\u001b[39;49m\u001b[39m.\u001b[39;49m_validate_data(\n\u001b[0;32m    458\u001b[0m     X,\n\u001b[0;32m    459\u001b[0m     reset\u001b[39m=\u001b[39;49mfirst_pass,\n\u001b[0;32m    460\u001b[0m     dtype\u001b[39m=\u001b[39;49mFLOAT_DTYPES,\n\u001b[0;32m    461\u001b[0m     force_all_finite\u001b[39m=\u001b[39;49m\u001b[39m\"\u001b[39;49m\u001b[39mallow-nan\u001b[39;49m\u001b[39m\"\u001b[39;49m,\n\u001b[0;32m    462\u001b[0m )\n\u001b[0;32m    464\u001b[0m data_min \u001b[39m=\u001b[39m np\u001b[39m.\u001b[39mnanmin(X, axis\u001b[39m=\u001b[39m\u001b[39m0\u001b[39m)\n\u001b[0;32m    465\u001b[0m data_max \u001b[39m=\u001b[39m np\u001b[39m.\u001b[39mnanmax(X, axis\u001b[39m=\u001b[39m\u001b[39m0\u001b[39m)\n",
      "File \u001b[1;32mc:\\Users\\jhahn\\anaconda3\\lib\\site-packages\\sklearn\\base.py:577\u001b[0m, in \u001b[0;36mBaseEstimator._validate_data\u001b[1;34m(self, X, y, reset, validate_separately, **check_params)\u001b[0m\n\u001b[0;32m    575\u001b[0m     \u001b[39mraise\u001b[39;00m \u001b[39mValueError\u001b[39;00m(\u001b[39m\"\u001b[39m\u001b[39mValidation should be done on X, y or both.\u001b[39m\u001b[39m\"\u001b[39m)\n\u001b[0;32m    576\u001b[0m \u001b[39melif\u001b[39;00m \u001b[39mnot\u001b[39;00m no_val_X \u001b[39mand\u001b[39;00m no_val_y:\n\u001b[1;32m--> 577\u001b[0m     X \u001b[39m=\u001b[39m check_array(X, input_name\u001b[39m=\u001b[39m\u001b[39m\"\u001b[39m\u001b[39mX\u001b[39m\u001b[39m\"\u001b[39m, \u001b[39m*\u001b[39m\u001b[39m*\u001b[39mcheck_params)\n\u001b[0;32m    578\u001b[0m     out \u001b[39m=\u001b[39m X\n\u001b[0;32m    579\u001b[0m \u001b[39melif\u001b[39;00m no_val_X \u001b[39mand\u001b[39;00m \u001b[39mnot\u001b[39;00m no_val_y:\n",
      "File \u001b[1;32mc:\\Users\\jhahn\\anaconda3\\lib\\site-packages\\sklearn\\utils\\validation.py:879\u001b[0m, in \u001b[0;36mcheck_array\u001b[1;34m(array, accept_sparse, accept_large_sparse, dtype, order, copy, force_all_finite, ensure_2d, allow_nd, ensure_min_samples, ensure_min_features, estimator, input_name)\u001b[0m\n\u001b[0;32m    877\u001b[0m     \u001b[39m# If input is 1D raise error\u001b[39;00m\n\u001b[0;32m    878\u001b[0m     \u001b[39mif\u001b[39;00m array\u001b[39m.\u001b[39mndim \u001b[39m==\u001b[39m \u001b[39m1\u001b[39m:\n\u001b[1;32m--> 879\u001b[0m         \u001b[39mraise\u001b[39;00m \u001b[39mValueError\u001b[39;00m(\n\u001b[0;32m    880\u001b[0m             \u001b[39m\"\u001b[39m\u001b[39mExpected 2D array, got 1D array instead:\u001b[39m\u001b[39m\\n\u001b[39;00m\u001b[39marray=\u001b[39m\u001b[39m{}\u001b[39;00m\u001b[39m.\u001b[39m\u001b[39m\\n\u001b[39;00m\u001b[39m\"\u001b[39m\n\u001b[0;32m    881\u001b[0m             \u001b[39m\"\u001b[39m\u001b[39mReshape your data either using array.reshape(-1, 1) if \u001b[39m\u001b[39m\"\u001b[39m\n\u001b[0;32m    882\u001b[0m             \u001b[39m\"\u001b[39m\u001b[39myour data has a single feature or array.reshape(1, -1) \u001b[39m\u001b[39m\"\u001b[39m\n\u001b[0;32m    883\u001b[0m             \u001b[39m\"\u001b[39m\u001b[39mif it contains a single sample.\u001b[39m\u001b[39m\"\u001b[39m\u001b[39m.\u001b[39mformat(array)\n\u001b[0;32m    884\u001b[0m         )\n\u001b[0;32m    886\u001b[0m \u001b[39mif\u001b[39;00m dtype_numeric \u001b[39mand\u001b[39;00m array\u001b[39m.\u001b[39mdtype\u001b[39m.\u001b[39mkind \u001b[39min\u001b[39;00m \u001b[39m\"\u001b[39m\u001b[39mUSV\u001b[39m\u001b[39m\"\u001b[39m:\n\u001b[0;32m    887\u001b[0m     \u001b[39mraise\u001b[39;00m \u001b[39mValueError\u001b[39;00m(\n\u001b[0;32m    888\u001b[0m         \u001b[39m\"\u001b[39m\u001b[39mdtype=\u001b[39m\u001b[39m'\u001b[39m\u001b[39mnumeric\u001b[39m\u001b[39m'\u001b[39m\u001b[39m is not compatible with arrays of bytes/strings.\u001b[39m\u001b[39m\"\u001b[39m\n\u001b[0;32m    889\u001b[0m         \u001b[39m\"\u001b[39m\u001b[39mConvert your data to numeric values explicitly instead.\u001b[39m\u001b[39m\"\u001b[39m\n\u001b[0;32m    890\u001b[0m     )\n",
      "\u001b[1;31mValueError\u001b[0m: Expected 2D array, got 1D array instead:\narray=[5600. 5600. 5600. ... 5664. 5592. 5242.].\nReshape your data either using array.reshape(-1, 1) if your data has a single feature or array.reshape(1, -1) if it contains a single sample."
     ]
    }
   ],
   "source": [
    "# 데이터 스케일링\n",
    "scaler = MinMaxScaler()\n",
    "scaler.fit(feature)\n",
    "feature = scaler.transform(feature)\n",
    "scaler.fit(target)\n",
    "target = scaler.transform(target)\n",
    "\n",
    "# 데이터셋 생성\n",
    "def create_dataset(dataset, look_back=1):\n",
    "    dataX, dataY = [], []\n",
    "    for i in range(len(dataset)-look_back-1):\n",
    "        a = dataset[i:(i+look_back), 0]\n",
    "        dataX.append(a)\n",
    "        dataY.append(dataset[i + look_back, 0])\n",
    "    return np.array(dataX), np.array(dataY)\n",
    "\n",
    "# 데이터셋 생성\n",
    "look_back = 1\n",
    "trainX, trainY = create_dataset(feature, look_back)\n",
    "testX, testY = create_dataset(target, look_back)\n",
    "\n",
    "# 데이터셋 형태 변환\n",
    "trainX = np.reshape(trainX, (trainX.shape[0], 1, trainX.shape[1]))\n",
    "testX = np.reshape(testX, (testX.shape[0], 1, testX.shape[1]))\n",
    "\n",
    "# 모델 생성\n",
    "model = Sequential()\n",
    "model.add(LSTM(32, input_shape=(1, look_back)))\n",
    "model.add(Dense(1))\n",
    "model.compile(loss='mean_squared_error', optimizer='adam')\n",
    "model.fit(trainX, trainY, epochs=100, batch_size=1, verbose=2)\n",
    "\n",
    "# 예측\n",
    "trainPredict = model.predict(trainX)\n",
    "testPredict = model.predict(testX)\n",
    "\n",
    "# 데이터 스케일링 복원\n",
    "trainPredict = scaler.inverse_transform(trainPredict)\n",
    "trainY = scaler.inverse_transform([trainY])\n",
    "testPredict = scaler.inverse_transform(testPredict)\n",
    "testY = scaler.inverse_transform([testY])\n",
    "\n",
    "# 모델 평가\n",
    "trainScore = model.evaluate(trainX, trainY, verbose=0)\n",
    "print('Train Score: %.2f MSE (%.2f RMSE)' % (trainScore, np.sqrt(trainScore)))\n",
    "testScore = model.evaluate(testX, testY, verbose=0)\n",
    "print('Test Score: %.2f MSE (%.2f RMSE)' % (testScore, np.sqrt(testScore)))\n",
    "\n",
    "# 예측 결과 시각화\n",
    "plt.figure(figsize=(12, 9))\n",
    "plt.plot(testY[0], label='actual')\n",
    "plt.plot(testPredict, label='prediction')\n",
    "plt.legend()\n",
    "plt.show()\n",
    "\n",
    "# 예측 결과 저장\n",
    "predic_df = pd.DataFrame(testPredict)\n",
    "\n",
    "# 예측 결과 저장\n"
   ]
  }
 ],
 "metadata": {
  "kernelspec": {
   "display_name": "base",
   "language": "python",
   "name": "python3"
  },
  "language_info": {
   "codemirror_mode": {
    "name": "ipython",
    "version": 3
   },
   "file_extension": ".py",
   "mimetype": "text/x-python",
   "name": "python",
   "nbconvert_exporter": "python",
   "pygments_lexer": "ipython3",
   "version": "3.9.12"
  },
  "orig_nbformat": 4,
  "vscode": {
   "interpreter": {
    "hash": "de11d0c16539acdfeb0e501d4eda7b58b0438a2781c2c1df7ab38defdddf0dd6"
   }
  }
 },
 "nbformat": 4,
 "nbformat_minor": 2
}
