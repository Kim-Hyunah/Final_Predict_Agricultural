{
 "cells": [
  {
   "cell_type": "code",
   "execution_count": 22,
   "metadata": {},
   "outputs": [],
   "source": [
    "import pandas as pd\n",
    "import numpy as np\n",
    "import seaborn as sns\n",
    "from sklearn.preprocessing import StandardScaler, MinMaxScaler\n",
    "import matplotlib.pyplot as plt\n",
    "from xgboost import XGBRegressor\n",
    "from sklearn.model_selection import train_test_split\n",
    "from sklearn.metrics import mean_squared_error\n",
    "from sklearn.metrics import mean_absolute_error\n",
    "from sklearn.metrics import r2_score\n",
    "from sklearn.metrics import mean_squared_log_error\n",
    "from tensorflow.keras.callbacks import EarlyStopping,  ModelCheckpoint\n",
    "from tensorflow.keras.layers import Dense, LSTM, Conv1D, Lambda, MaxPooling1D, Flatten\n",
    "from keras.models import Sequential\n",
    "import os\n",
    "from keras.layers import Dense, Activation, LSTM, Dropout\n",
    "import joblib\n",
    "# import rc\n",
    "from matplotlib import rc\n",
    "rc('font', family='AppleGothic')\n",
    "plt.rcParams['axes.unicode_minus'] = False\n",
    "\n",
    "# how to use .h5 file\n",
    "# https://www.tensorflow.org/tutorials/keras/save_and_load\n",
    "\n",
    "\n",
    "import warnings\n",
    "warnings.filterwarnings('ignore')"
   ]
  },
  {
   "cell_type": "code",
   "execution_count": 41,
   "metadata": {},
   "outputs": [],
   "source": [
    "# 모든 데이터를 합친 데이터(정리된 데이터)\n",
    "data = pd.read_csv('data/merge_all/merge_drop.csv')"
   ]
  },
  {
   "cell_type": "code",
   "execution_count": 42,
   "metadata": {},
   "outputs": [
    {
     "name": "stdout",
     "output_type": "stream",
     "text": [
      "<class 'pandas.core.frame.DataFrame'>\n",
      "RangeIndex: 5782 entries, 0 to 5781\n",
      "Data columns (total 5 columns):\n",
      " #   Column          Non-Null Count  Dtype  \n",
      "---  ------          --------------  -----  \n",
      " 0   거래년월일           5782 non-null   object \n",
      " 1   자동차용 경유 가격 (원)  5782 non-null   float64\n",
      " 2   전월비(%)          5782 non-null   float64\n",
      " 3   평균              5782 non-null   float64\n",
      " 4   거래량             5782 non-null   float64\n",
      "dtypes: float64(4), object(1)\n",
      "memory usage: 226.0+ KB\n"
     ]
    }
   ],
   "source": [
    "data.info()"
   ]
  },
  {
   "cell_type": "code",
   "execution_count": 43,
   "metadata": {},
   "outputs": [],
   "source": [
    "# 상관관계확인\n",
    "# print(data.corr(method='kendall'))\n",
    "# print(data.corr(method='spearman'))\n",
    "# print(data.corr(method='pearson'))"
   ]
  },
  {
   "cell_type": "code",
   "execution_count": 44,
   "metadata": {},
   "outputs": [],
   "source": [
    "# \"배추가격\"의 이동평균을 # 코드를 함수로 만든다. 당일 제외\n",
    "def make_ma(df, col, ma_list):\n",
    "    for ma in ma_list:\n",
    "        df[col + '_' + str(ma) + 'MA'] = df[col].rolling(window=ma).mean().shift(1)\n",
    "    return df\n",
    "\n",
    "# \"배추가격\"의 이동평균을 구한다\n",
    "data = make_ma(data, '평균', [5, 20, 60, 300])\n",
    "\n",
    "# # 거래량 컬럼 제거\n",
    "data = data.drop(['거래량'], axis=1)\n",
    "\n",
    "# \"배추가격_N\" 컬럼의 결측치를 제거한다\n",
    "data = data.dropna()\n",
    "\n",
    "# 인덱스 정렬하기\n",
    "data = data.reset_index(drop=True)\n",
    "\n",
    "# data 를 data_xgb 로 넣기\n",
    "data_lstm = data"
   ]
  },
  {
   "cell_type": "code",
   "execution_count": 54,
   "metadata": {},
   "outputs": [
    {
     "name": "stdout",
     "output_type": "stream",
     "text": [
      "<class 'pandas.core.frame.DataFrame'>\n",
      "RangeIndex: 5482 entries, 0 to 5481\n",
      "Data columns (total 8 columns):\n",
      " #   Column          Non-Null Count  Dtype  \n",
      "---  ------          --------------  -----  \n",
      " 0   거래년월일           5482 non-null   object \n",
      " 1   자동차용 경유 가격 (원)  5482 non-null   float64\n",
      " 2   전월비(%)          5482 non-null   float64\n",
      " 3   평균              5482 non-null   float64\n",
      " 4   평균_5MA          5482 non-null   float64\n",
      " 5   평균_20MA         5482 non-null   float64\n",
      " 6   평균_60MA         5482 non-null   float64\n",
      " 7   평균_300MA        5482 non-null   float64\n",
      "dtypes: float64(7), object(1)\n",
      "memory usage: 342.8+ KB\n"
     ]
    }
   ],
   "source": [
    "data_lstm.info()"
   ]
  },
  {
   "cell_type": "code",
   "execution_count": 48,
   "metadata": {},
   "outputs": [
    {
     "data": {
      "text/plain": [
       "0       2001-01-11\n",
       "1       2001-01-12\n",
       "2       2001-01-13\n",
       "3       2001-01-15\n",
       "4       2001-01-16\n",
       "           ...    \n",
       "5455    2022-10-25\n",
       "5456    2022-10-26\n",
       "5457    2022-10-27\n",
       "5458    2022-10-28\n",
       "5459    2022-10-31\n",
       "Name: 거래년월일, Length: 5460, dtype: object"
      ]
     },
     "execution_count": 48,
     "metadata": {},
     "output_type": "execute_result"
    }
   ],
   "source": [
    "\n",
    "data_lstm['거래년월일'][:5460]"
   ]
  },
  {
   "cell_type": "code",
   "execution_count": 49,
   "metadata": {},
   "outputs": [
    {
     "name": "stdout",
     "output_type": "stream",
     "text": [
      "<class 'numpy.ndarray'> \n",
      "\n",
      "<class 'numpy.ndarray'> \n",
      "\n",
      "      자동차용 경유 가격 (원)    전월비(%)    평균_5MA   평균_20MA   평균_60MA  평균_300MA\n",
      "0           0.050417  0.669967  0.002216  0.000118  0.005566  0.166890\n",
      "1           0.050417  0.669967  0.002453  0.000000  0.004340  0.165497\n",
      "2           0.050417  0.669967  0.002807  0.000034  0.003260  0.164104\n",
      "3           0.050417  0.669967  0.002334  0.000220  0.002340  0.162703\n",
      "4           0.050417  0.669967  0.002925  0.000710  0.001574  0.161325\n",
      "...              ...       ...       ...       ...       ...       ...\n",
      "5477        0.860439  0.135314  0.135715  0.175457  0.748259  0.987292\n",
      "5478        0.860439  0.135314  0.133753  0.171822  0.739531  0.986339\n",
      "5479        0.860439  0.135314  0.128328  0.168754  0.726645  0.984891\n",
      "5480        0.860439  0.135314  0.124569  0.165158  0.712254  0.983326\n",
      "5481        0.860439  0.135314  0.120622  0.162188  0.697012  0.982506\n",
      "\n",
      "[5482 rows x 6 columns]\n",
      "            평균\n",
      "0     0.003567\n",
      "1     0.003567\n",
      "2     0.003567\n",
      "3     0.007452\n",
      "4     0.010783\n",
      "...        ...\n",
      "5477  0.120141\n",
      "5478  0.120141\n",
      "5479  0.108039\n",
      "5480  0.106041\n",
      "5481  0.096327\n",
      "\n",
      "[5482 rows x 1 columns]\n"
     ]
    }
   ],
   "source": [
    "# 정규화 작업(date 를 제외한 항목을 제외한 숫자로 표현되는 모든 column에 대해 0~1 값으로 정규화 작업을 수행)\n",
    "scaler1 = MinMaxScaler()\n",
    "scaler2 = MinMaxScaler()\n",
    "scale_cols1 = ['자동차용 경유 가격 (원)', '전월비(%)', '평균_5MA', '평균_20MA',\t'평균_60MA', '평균_300MA'] #정규화 대상 column 정의\n",
    "scale_cols2 = ['평균']\n",
    "scaled_df1 = scaler1.fit_transform(data_lstm[scale_cols1]) # 정규화 수행\n",
    "print(type(scaled_df1), '\\n') # 리턴값 확인하면 numpy.ndarray임을 알 수 있음 -> 데이터프레임으로 변환해서 사용해야함\n",
    "scaled_df2 = scaler2.fit_transform(data_lstm[scale_cols2]) # 정규화 수행\n",
    "print(type(scaled_df2), '\\n')\n",
    "\n",
    "# 정규화된 데이터를 데이터프레임으로 변환\n",
    "scaled_df1 = pd.DataFrame(scaled_df1, columns=scale_cols1) #정규화된 새로운 dataframe 생성\n",
    "scaled_df2= pd.DataFrame(scaled_df2, columns=scale_cols2) #정규화된 새로운 dataframe 생성\n",
    "print(scaled_df1)\n",
    "print(scaled_df2)"
   ]
  },
  {
   "cell_type": "code",
   "execution_count": 50,
   "metadata": {},
   "outputs": [
    {
     "name": "stdout",
     "output_type": "stream",
     "text": [
      "      자동차용 경유 가격 (원)    전월비(%)    평균_5MA   평균_20MA   평균_60MA  평균_300MA\n",
      "0           0.050417  0.669967  0.002216  0.000118  0.005566  0.166890\n",
      "1           0.050417  0.669967  0.002453  0.000000  0.004340  0.165497\n",
      "2           0.050417  0.669967  0.002807  0.000034  0.003260  0.164104\n",
      "3           0.050417  0.669967  0.002334  0.000220  0.002340  0.162703\n",
      "4           0.050417  0.669967  0.002925  0.000710  0.001574  0.161325\n",
      "...              ...       ...       ...       ...       ...       ...\n",
      "5477        0.860439  0.135314  0.135715  0.175457  0.748259  0.987292\n",
      "5478        0.860439  0.135314  0.133753  0.171822  0.739531  0.986339\n",
      "5479        0.860439  0.135314  0.128328  0.168754  0.726645  0.984891\n",
      "5480        0.860439  0.135314  0.124569  0.165158  0.712254  0.983326\n",
      "5481        0.860439  0.135314  0.120622  0.162188  0.697012  0.982506\n",
      "\n",
      "[5482 rows x 6 columns]\n",
      "            평균\n",
      "0     0.003567\n",
      "1     0.003567\n",
      "2     0.003567\n",
      "3     0.007452\n",
      "4     0.010783\n",
      "...        ...\n",
      "5477  0.120141\n",
      "5478  0.120141\n",
      "5479  0.108039\n",
      "5480  0.106041\n",
      "5481  0.096327\n",
      "\n",
      "[5482 rows x 1 columns]\n"
     ]
    }
   ],
   "source": [
    "# 딥러닝 학습을 위한 입력데이터 feature column , 정답데이터 column 정의 후 numpy 로 변환하여 데이터 전처리 과정 완료하기\n",
    "feature_cols = ['자동차용 경유 가격 (원)', '전월비(%)', '평균_5MA', '평균_20MA', '평균_60MA', '평균_300MA'] #feature 정의(입력데이터)\n",
    "label_cols = ['평균'] #label 정의(정답데이터)\n",
    "\n",
    "feature_df = pd.DataFrame(scaled_df1, columns=feature_cols)  #feature 데이터프레임 생성\n",
    "label_df = pd.DataFrame(scaled_df2, columns=label_cols) #label 데이터프레임 생성\n",
    "\n",
    "print(feature_df)\n",
    "print(label_df)\n",
    "\n",
    "# 딥러닝 학습을 위해 dataframe 에서 numpy 로 변환\n",
    "feature_np = feature_df.to_numpy()\n",
    "label_np = label_df.to_numpy()"
   ]
  },
  {
   "cell_type": "code",
   "execution_count": 51,
   "metadata": {},
   "outputs": [],
   "source": [
    "# 입력 파라미터 feature, label => numpy type 함수로 만들기 \n",
    "def make_sequene_dataset(feature, label, window_size):\n",
    "    feature_list = [] # 생성될 feature list\n",
    "    label_list = [] # 생성될 label list\n",
    "\n",
    "    for i in range(len(feature)-window_size):\n",
    "\n",
    "        feature_list.append(feature[i:i+window_size]) \n",
    "        #feature[i:i+window_size] => 2차원 배열, 슬라이싱 이용하여 [[..], [..],..] 형상으로 입력 데이터, feature를 생성함\n",
    "        label_list.append(label[i+window_size]) # 2차원 행렬의 배열\n",
    "    \n",
    "    return np.array(feature_list), np.array(label_list)  # 3차원 배열로 리턴\n",
    "    #feature_list = [ [..], [..], ..] 이므로 리턴값 np.array(feature_list)는 (batch_size, time steps, input dims형상을 가짐"
   ]
  },
  {
   "cell_type": "code",
   "execution_count": 52,
   "metadata": {},
   "outputs": [
    {
     "name": "stdout",
     "output_type": "stream",
     "text": [
      "(5462, 20, 6) (5462, 1)\n"
     ]
    }
   ],
   "source": [
    "# 학습데이터 X, Y 생성\n",
    "window_size = 20 #앞에 40개 데이터를 이용해서 그 다음 정답데이터 label 를 예측한다는 뜻\n",
    "X, Y = make_sequene_dataset(feature_np, label_np, window_size) #make_sequence_data 함수를 이용해서 X, Y 생성\n",
    "print(X.shape, Y.shape)"
   ]
  },
  {
   "cell_type": "code",
   "execution_count": 53,
   "metadata": {},
   "outputs": [
    {
     "name": "stdout",
     "output_type": "stream",
     "text": [
      "(5460, 20, 6) (5460, 1)\n",
      "(2, 20, 6) (2, 1)\n"
     ]
    }
   ],
   "source": [
    "split = 5460 #(전체 데이터에 *20% ) 트레인 데이터, 테스트 데이터 분리\n",
    "\n",
    "x_train = X[0:split]\n",
    "y_train = Y[0:split]\n",
    "\n",
    "x_test = X[split:]\n",
    "y_test = Y[split:]\n",
    "\n",
    "print(x_train.shape, y_train.shape)\n",
    "print(x_test.shape, y_test.shape)"
   ]
  },
  {
   "cell_type": "code",
   "execution_count": 59,
   "metadata": {},
   "outputs": [
    {
     "name": "stdout",
     "output_type": "stream",
     "text": [
      "Model: \"sequential\"\n",
      "_________________________________________________________________\n",
      " Layer (type)                Output Shape              Param #   \n",
      "=================================================================\n",
      " lstm (LSTM)                 (None, 64)                18176     \n",
      "                                                                 \n",
      " dropout (Dropout)           (None, 64)                0         \n",
      "                                                                 \n",
      " dense (Dense)               (None, 1)                 65        \n",
      "                                                                 \n",
      "=================================================================\n",
      "Total params: 18,241\n",
      "Trainable params: 18,241\n",
      "Non-trainable params: 0\n",
      "_________________________________________________________________\n"
     ]
    }
   ],
   "source": [
    "model = Sequential()\n",
    "model.add(LSTM(64, activation='tanh', #LSTM 레이어에서 tanh 를 활성화 함수로 가지는 노드 수 128개\n",
    "               input_shape=x_train[0].shape)) #input_sape=(40, 2) 40개의 데이터를 2개씩 입력받음\n",
    "model.add(Dropout(0.3)) #Dropout 레이어에서 30% 노드를 랜덤하게 제거\n",
    "model.add(Dense(1, activation='linear'))\n",
    "\n",
    "model.summary()"
   ]
  },
  {
   "cell_type": "code",
   "execution_count": 62,
   "metadata": {},
   "outputs": [
    {
     "name": "stdout",
     "output_type": "stream",
     "text": [
      "Epoch 1/100\n",
      "86/86 [==============================] - 22s 68ms/step - loss: 0.0012 - mae: 0.0219 - val_loss: 7.0058e-04 - val_mae: 0.0264\n",
      "Epoch 2/100\n",
      "86/86 [==============================] - 7s 78ms/step - loss: 0.0011 - mae: 0.0212 - val_loss: 6.2388e-04 - val_mae: 0.0249\n",
      "Epoch 3/100\n",
      "86/86 [==============================] - 3s 40ms/step - loss: 0.0011 - mae: 0.0208 - val_loss: 5.7326e-04 - val_mae: 0.0238\n",
      "Epoch 4/100\n",
      "86/86 [==============================] - 4s 46ms/step - loss: 0.0011 - mae: 0.0214 - val_loss: 5.6948e-04 - val_mae: 0.0238\n",
      "Epoch 5/100\n",
      "86/86 [==============================] - 4s 46ms/step - loss: 9.8551e-04 - mae: 0.0198 - val_loss: 7.5827e-04 - val_mae: 0.0274\n",
      "Epoch 6/100\n",
      "86/86 [==============================] - 7s 85ms/step - loss: 9.9174e-04 - mae: 0.0197 - val_loss: 4.2170e-04 - val_mae: 0.0204\n",
      "Epoch 7/100\n",
      "86/86 [==============================] - 5s 54ms/step - loss: 0.0010 - mae: 0.0203 - val_loss: 9.3159e-04 - val_mae: 0.0304\n",
      "Epoch 8/100\n",
      "86/86 [==============================] - 4s 49ms/step - loss: 9.8277e-04 - mae: 0.0195 - val_loss: 1.5389e-04 - val_mae: 0.0122\n",
      "Epoch 9/100\n",
      "86/86 [==============================] - 5s 62ms/step - loss: 8.6700e-04 - mae: 0.0190 - val_loss: 3.3406e-04 - val_mae: 0.0181\n",
      "Epoch 10/100\n",
      "86/86 [==============================] - 7s 78ms/step - loss: 9.2332e-04 - mae: 0.0197 - val_loss: 5.1152e-04 - val_mae: 0.0225\n",
      "Epoch 11/100\n",
      "86/86 [==============================] - 5s 53ms/step - loss: 8.7370e-04 - mae: 0.0191 - val_loss: 7.7354e-04 - val_mae: 0.0277\n",
      "Epoch 12/100\n",
      "86/86 [==============================] - 11s 132ms/step - loss: 8.9396e-04 - mae: 0.0191 - val_loss: 8.2357e-05 - val_mae: 0.0087\n",
      "Epoch 13/100\n",
      "86/86 [==============================] - 11s 129ms/step - loss: 9.2078e-04 - mae: 0.0197 - val_loss: 1.1496e-04 - val_mae: 0.0104\n",
      "Epoch 14/100\n",
      "86/86 [==============================] - 7s 80ms/step - loss: 8.7311e-04 - mae: 0.0186 - val_loss: 7.2787e-04 - val_mae: 0.0269\n",
      "Epoch 15/100\n",
      "86/86 [==============================] - 5s 57ms/step - loss: 9.1221e-04 - mae: 0.0185 - val_loss: 4.6299e-04 - val_mae: 0.0214\n",
      "Epoch 16/100\n",
      "86/86 [==============================] - 6s 67ms/step - loss: 8.5889e-04 - mae: 0.0185 - val_loss: 7.7992e-04 - val_mae: 0.0278\n",
      "Epoch 17/100\n",
      "86/86 [==============================] - 6s 69ms/step - loss: 8.1774e-04 - mae: 0.0184 - val_loss: 6.2762e-04 - val_mae: 0.0249\n",
      "Epoch 18/100\n",
      "86/86 [==============================] - 7s 77ms/step - loss: 8.4656e-04 - mae: 0.0185 - val_loss: 9.3235e-04 - val_mae: 0.0304\n",
      "Epoch 19/100\n",
      "86/86 [==============================] - 5s 56ms/step - loss: 8.5312e-04 - mae: 0.0188 - val_loss: 2.7675e-04 - val_mae: 0.0164\n",
      "Epoch 20/100\n",
      "86/86 [==============================] - 4s 50ms/step - loss: 8.5671e-04 - mae: 0.0185 - val_loss: 3.3540e-04 - val_mae: 0.0181\n",
      "Epoch 21/100\n",
      "86/86 [==============================] - 5s 53ms/step - loss: 7.9123e-04 - mae: 0.0178 - val_loss: 9.8292e-04 - val_mae: 0.0312\n",
      "Epoch 22/100\n",
      "86/86 [==============================] - 6s 64ms/step - loss: 7.3403e-04 - mae: 0.0175 - val_loss: 3.5724e-04 - val_mae: 0.0187\n"
     ]
    },
    {
     "data": {
      "text/plain": [
       "<keras.callbacks.History at 0x19ea6e75ca0>"
      ]
     },
     "execution_count": 62,
     "metadata": {},
     "output_type": "execute_result"
    }
   ],
   "source": [
    "#모델 컴파일 및 학습\n",
    "#조기종료 셋팅  : EarlyStopping\n",
    "#checkpoint 셋팅 : ModelCheckpoint 사용\n",
    "\n",
    "model.compile(loss='mean_squared_error', optimizer='adam', metrics=['mae']) #metrics 관찰대상(mae = 평균절대오차값)\n",
    "early_stop = EarlyStopping(monitor='val_loss', patience=10) #val_loss 가 5번 이상 개선되지 않으면 학습 중단\n",
    "model.fit(x_train, y_train, validation_data=(x_test, y_test), epochs=100, batch_size=64, callbacks=[early_stop])"
   ]
  },
  {
   "cell_type": "code",
   "execution_count": 61,
   "metadata": {},
   "outputs": [
    {
     "name": "stdout",
     "output_type": "stream",
     "text": [
      "1/1 [==============================] - 6s 6s/step\n"
     ]
    },
    {
     "name": "stderr",
     "output_type": "stream",
     "text": [
      "findfont: Font family ['AppleGothic'] not found. Falling back to DejaVu Sans.\n",
      "findfont: Font family ['AppleGothic'] not found. Falling back to DejaVu Sans.\n"
     ]
    },
    {
     "data": {
      "image/png": "[encoded data removed]",
      "text/plain": [
       "<Figure size 1200x600 with 1 Axes>"
      ]
     },
     "metadata": {},
     "output_type": "display_data"
    }
   ],
   "source": [
    "# 주가 예측\n",
    "pred = model.predict(x_test) \n",
    "\n",
    "plt.figure(figsize=(12, 6))\n",
    "plt.title('가격 예측')\n",
    "plt.ylabel('평균')\n",
    "plt.xlabel('일자')\n",
    "plt.plot(y_test, label='실제값')\n",
    "plt.plot(pred, label='예측값')\n",
    "plt.grid()\n",
    "plt.legend(loc='best')\n",
    "\n",
    "plt.show()"
   ]
  },
  {
   "cell_type": "code",
   "execution_count": 63,
   "metadata": {},
   "outputs": [
    {
     "name": "stdout",
     "output_type": "stream",
     "text": [
      "171/171 [==============================] - 12s 50ms/step\n",
      "1/1 [==============================] - 0s 108ms/step\n",
      "Train Score: 0.02 RMSE\n",
      "Test Score: 0.02 RMSE\n",
      "R2 : -14.141693325486841\n"
     ]
    }
   ],
   "source": [
    "#  모델을 평가한다\n",
    "#  RMSE\n",
    "train_predict = model.predict(x_train)\n",
    "test_predict = model.predict(x_test)\n",
    "train_score = np.sqrt(mean_squared_error(y_train, train_predict))\n",
    "test_score = np.sqrt(mean_squared_error(y_test, test_predict))\n",
    "print('Train Score: %.2f RMSE' % (train_score))\n",
    "print('Test Score: %.2f RMSE' % (test_score))\n",
    "print('R2 :', r2_score(y_test, test_predict))\n"
   ]
  },
  {
   "cell_type": "code",
   "execution_count": 593,
   "metadata": {},
   "outputs": [],
   "source": [
    "# LSTM 모델 저장하기\n",
    "model.save_weights('lstm_model_1')"
   ]
  },
  {
   "cell_type": "code",
   "execution_count": 594,
   "metadata": {},
   "outputs": [
    {
     "name": "stdout",
     "output_type": "stream",
     "text": [
      "Model: \"sequential_23\"\n",
      "_________________________________________________________________\n",
      " Layer (type)                Output Shape              Param #   \n",
      "=================================================================\n",
      " lstm_22 (LSTM)              (None, 64)                17664     \n",
      "                                                                 \n",
      " dropout_4 (Dropout)         (None, 64)                0         \n",
      "                                                                 \n",
      " dense_34 (Dense)            (None, 1)                 65        \n",
      "                                                                 \n",
      "=================================================================\n",
      "Total params: 17,729\n",
      "Trainable params: 17,729\n",
      "Non-trainable params: 0\n",
      "_________________________________________________________________\n"
     ]
    }
   ],
   "source": [
    "load_model = Sequential()\n",
    "load_model.add(LSTM(64, activation='tanh', #LSTM 레이어에서 tanh 를 활성화 함수로 가지는 노드 수 128개\n",
    "               input_shape=x_train[0].shape)) #input_sape=(40, 2) 40개의 데이터를 2개씩 입력받음\n",
    "load_model.add(Dropout(0.3)) #Dropout 레이어에서 30% 노드를 랜덤하게 제거\n",
    "load_model.add(Dense(1, activation='linear'))\n",
    "\n",
    "load_model.load_weights('lstm_model_hy')\n",
    "load_model.summary()"
   ]
  },
  {
   "cell_type": "code",
   "execution_count": null,
   "metadata": {},
   "outputs": [],
   "source": [
    "# feature= candle_df[['시가', '고가', '저가','종가']]\n",
    "# target= candle_df[['종가_shift']]\n",
    "\n",
    "# # feature, target 데이터 스케일링\n",
    "# scaler= MinMaxScaler()\n",
    "\n",
    "# feature_sc= scaler.fit_transform(feature)\n",
    "# target_sc= scaler.fit_transform(target)\n",
    "\n",
    "# feature_sc= pd.DataFrame(feature_sc, columns=feature.columns, index=feature.index)\n",
    "# target_sc= pd.DataFrame(target_sc, columns=target.columns, index=target.index)\n",
    "\n",
    "# feature_sc\n"
   ]
  }
 ],
 "metadata": {
  "kernelspec": {
   "display_name": "base",
   "language": "python",
   "name": "python3"
  },
  "language_info": {
   "codemirror_mode": {
    "name": "ipython",
    "version": 3
   },
   "file_extension": ".py",
   "mimetype": "text/x-python",
   "name": "python",
   "nbconvert_exporter": "python",
   "pygments_lexer": "ipython3",
   "version": "3.9.12"
  },
  "orig_nbformat": 4,
  "vscode": {
   "interpreter": {
    "hash": "29db9c19af6299433467101c7e656ac8b3fe814b60a8418f253b91cb08fc3410"
   }
  }
 },
 "nbformat": 4,
 "nbformat_minor": 2
}
