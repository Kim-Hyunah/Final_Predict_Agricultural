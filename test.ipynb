{
 "cells": [
  {
   "cell_type": "code",
   "execution_count": 389,
   "metadata": {},
   "outputs": [],
   "source": [
    "import pandas as pd\n",
    "import numpy as np\n",
    "import matplotlib.pyplot as plt\n",
    "import seaborn as sns\n",
    "from sklearn.preprocessing import MinMaxScaler, StandardScaler\n",
    "from sklearn.model_selection import train_test_split\n",
    "from keras.models import Sequential\n",
    "from keras.layers import Dense\n",
    "from keras.callbacks import EarlyStopping, ModelCheckpoint\n",
    "from keras.layers import LSTM\n",
    "import numpy as np\n",
    "from sklearn.metrics import r2_score\n",
    "from sklearn.model_selection import train_test_split\n",
    "import matplotlib.pyplot as plt\n",
    "from keras.models import Sequential\n",
    "from keras.layers import Dense\n",
    "from keras.callbacks import EarlyStopping, ModelCheckpoint\n",
    "from keras.layers import LSTM\n",
    "import pandas as pd\n",
    "\n"
   ]
  },
  {
   "cell_type": "code",
   "execution_count": 376,
   "metadata": {},
   "outputs": [],
   "source": [
    "oil_cpi = pd.read_csv('data/merge_oil_cpi/merge_oil_cpi_daily.csv')\n",
    "price = pd.read_csv('data/price/price_baechoo.csv')\n",
    "transaction = pd.read_csv('data/transaction_supply/transaction_supply_baechoo.csv')\n",
    "\n",
    "oil_cpi.rename(columns={oil_cpi.columns[0] : \"거래년월일\"}, inplace=True)\n",
    "price.rename(columns={price.columns[0] : \"거래년월일\"}, inplace=True)\n",
    "\n",
    "merge = pd.merge(oil_cpi, price, on='거래년월일', how='outer')\n",
    "merge = pd.merge(merge, transaction, on='거래년월일', how='outer')\n",
    "# merge 의 2022-12월 데이터 삭제\n",
    "merge = merge[merge['거래년월일'] < '2022-12-01']\n",
    "\n",
    "merge = merge.fillna(method='ffill')\n",
    "merge = merge.fillna(method='bfill')\n",
    "\n",
    "merge.set_index(\"거래년월일\",inplace=True)"
   ]
  },
  {
   "cell_type": "code",
   "execution_count": 377,
   "metadata": {},
   "outputs": [
    {
     "data": {
      "text/html": [
       "<div>\n",
       "<style scoped>\n",
       "    .dataframe tbody tr th:only-of-type {\n",
       "        vertical-align: middle;\n",
       "    }\n",
       "\n",
       "    .dataframe tbody tr th {\n",
       "        vertical-align: top;\n",
       "    }\n",
       "\n",
       "    .dataframe thead th {\n",
       "        text-align: right;\n",
       "    }\n",
       "</style>\n",
       "<table border=\"1\" class=\"dataframe\">\n",
       "  <thead>\n",
       "    <tr style=\"text-align: right;\">\n",
       "      <th></th>\n",
       "      <th>자동차용 경유 가격 (원)</th>\n",
       "      <th>전월비(%)</th>\n",
       "      <th>평균</th>\n",
       "      <th>거래량</th>\n",
       "    </tr>\n",
       "    <tr>\n",
       "      <th>거래년월일</th>\n",
       "      <th></th>\n",
       "      <th></th>\n",
       "      <th></th>\n",
       "      <th></th>\n",
       "    </tr>\n",
       "  </thead>\n",
       "  <tbody>\n",
       "    <tr>\n",
       "      <th>2000-01-01</th>\n",
       "      <td>583.35</td>\n",
       "      <td>4.0</td>\n",
       "      <td>5600.0</td>\n",
       "      <td>102285.0</td>\n",
       "    </tr>\n",
       "    <tr>\n",
       "      <th>2000-01-02</th>\n",
       "      <td>583.35</td>\n",
       "      <td>4.0</td>\n",
       "      <td>5600.0</td>\n",
       "      <td>102285.0</td>\n",
       "    </tr>\n",
       "    <tr>\n",
       "      <th>2000-01-03</th>\n",
       "      <td>583.35</td>\n",
       "      <td>4.0</td>\n",
       "      <td>5600.0</td>\n",
       "      <td>102285.0</td>\n",
       "    </tr>\n",
       "    <tr>\n",
       "      <th>2000-01-04</th>\n",
       "      <td>583.35</td>\n",
       "      <td>4.0</td>\n",
       "      <td>5600.0</td>\n",
       "      <td>715338.0</td>\n",
       "    </tr>\n",
       "    <tr>\n",
       "      <th>2000-01-05</th>\n",
       "      <td>583.35</td>\n",
       "      <td>4.0</td>\n",
       "      <td>5620.0</td>\n",
       "      <td>340568.0</td>\n",
       "    </tr>\n",
       "    <tr>\n",
       "      <th>...</th>\n",
       "      <td>...</td>\n",
       "      <td>...</td>\n",
       "      <td>...</td>\n",
       "      <td>...</td>\n",
       "    </tr>\n",
       "    <tr>\n",
       "      <th>2022-11-26</th>\n",
       "      <td>1879.15</td>\n",
       "      <td>-8.0</td>\n",
       "      <td>6100.0</td>\n",
       "      <td>296250.0</td>\n",
       "    </tr>\n",
       "    <tr>\n",
       "      <th>2022-11-27</th>\n",
       "      <td>1879.15</td>\n",
       "      <td>-8.0</td>\n",
       "      <td>6100.0</td>\n",
       "      <td>296250.0</td>\n",
       "    </tr>\n",
       "    <tr>\n",
       "      <th>2022-11-28</th>\n",
       "      <td>1879.15</td>\n",
       "      <td>-8.0</td>\n",
       "      <td>5664.0</td>\n",
       "      <td>201478.0</td>\n",
       "    </tr>\n",
       "    <tr>\n",
       "      <th>2022-11-29</th>\n",
       "      <td>1879.15</td>\n",
       "      <td>-8.0</td>\n",
       "      <td>5592.0</td>\n",
       "      <td>77130.0</td>\n",
       "    </tr>\n",
       "    <tr>\n",
       "      <th>2022-11-30</th>\n",
       "      <td>1879.15</td>\n",
       "      <td>-8.0</td>\n",
       "      <td>5242.0</td>\n",
       "      <td>119783.0</td>\n",
       "    </tr>\n",
       "  </tbody>\n",
       "</table>\n",
       "<p>8370 rows × 4 columns</p>\n",
       "</div>"
      ],
      "text/plain": [
       "            자동차용 경유 가격 (원)  전월비(%)      평균       거래량\n",
       "거래년월일                                               \n",
       "2000-01-01          583.35     4.0  5600.0  102285.0\n",
       "2000-01-02          583.35     4.0  5600.0  102285.0\n",
       "2000-01-03          583.35     4.0  5600.0  102285.0\n",
       "2000-01-04          583.35     4.0  5600.0  715338.0\n",
       "2000-01-05          583.35     4.0  5620.0  340568.0\n",
       "...                    ...     ...     ...       ...\n",
       "2022-11-26         1879.15    -8.0  6100.0  296250.0\n",
       "2022-11-27         1879.15    -8.0  6100.0  296250.0\n",
       "2022-11-28         1879.15    -8.0  5664.0  201478.0\n",
       "2022-11-29         1879.15    -8.0  5592.0   77130.0\n",
       "2022-11-30         1879.15    -8.0  5242.0  119783.0\n",
       "\n",
       "[8370 rows x 4 columns]"
      ]
     },
     "execution_count": 377,
     "metadata": {},
     "output_type": "execute_result"
    }
   ],
   "source": [
    "merge"
   ]
  },
  {
   "cell_type": "code",
   "execution_count": 378,
   "metadata": {},
   "outputs": [
    {
     "data": {
      "text/html": [
       "<div>\n",
       "<style scoped>\n",
       "    .dataframe tbody tr th:only-of-type {\n",
       "        vertical-align: middle;\n",
       "    }\n",
       "\n",
       "    .dataframe tbody tr th {\n",
       "        vertical-align: top;\n",
       "    }\n",
       "\n",
       "    .dataframe thead th {\n",
       "        text-align: right;\n",
       "    }\n",
       "</style>\n",
       "<table border=\"1\" class=\"dataframe\">\n",
       "  <thead>\n",
       "    <tr style=\"text-align: right;\">\n",
       "      <th></th>\n",
       "      <th>구분</th>\n",
       "      <th>평균</th>\n",
       "    </tr>\n",
       "  </thead>\n",
       "  <tbody>\n",
       "    <tr>\n",
       "      <th>0</th>\n",
       "      <td>2000-01-03</td>\n",
       "      <td>5600.0</td>\n",
       "    </tr>\n",
       "    <tr>\n",
       "      <th>1</th>\n",
       "      <td>2000-01-04</td>\n",
       "      <td>5600.0</td>\n",
       "    </tr>\n",
       "    <tr>\n",
       "      <th>2</th>\n",
       "      <td>2000-01-05</td>\n",
       "      <td>5620.0</td>\n",
       "    </tr>\n",
       "    <tr>\n",
       "      <th>3</th>\n",
       "      <td>2000-01-06</td>\n",
       "      <td>5700.0</td>\n",
       "    </tr>\n",
       "    <tr>\n",
       "      <th>4</th>\n",
       "      <td>2000-01-07</td>\n",
       "      <td>5670.0</td>\n",
       "    </tr>\n",
       "    <tr>\n",
       "      <th>...</th>\n",
       "      <td>...</td>\n",
       "      <td>...</td>\n",
       "    </tr>\n",
       "    <tr>\n",
       "      <th>5877</th>\n",
       "      <td>2022-11-24</td>\n",
       "      <td>6100.0</td>\n",
       "    </tr>\n",
       "    <tr>\n",
       "      <th>5878</th>\n",
       "      <td>2022-11-25</td>\n",
       "      <td>6100.0</td>\n",
       "    </tr>\n",
       "    <tr>\n",
       "      <th>5879</th>\n",
       "      <td>2022-11-28</td>\n",
       "      <td>5664.0</td>\n",
       "    </tr>\n",
       "    <tr>\n",
       "      <th>5880</th>\n",
       "      <td>2022-11-29</td>\n",
       "      <td>5592.0</td>\n",
       "    </tr>\n",
       "    <tr>\n",
       "      <th>5881</th>\n",
       "      <td>2022-11-30</td>\n",
       "      <td>5242.0</td>\n",
       "    </tr>\n",
       "  </tbody>\n",
       "</table>\n",
       "<p>5882 rows × 2 columns</p>\n",
       "</div>"
      ],
      "text/plain": [
       "             구분      평균\n",
       "0    2000-01-03  5600.0\n",
       "1    2000-01-04  5600.0\n",
       "2    2000-01-05  5620.0\n",
       "3    2000-01-06  5700.0\n",
       "4    2000-01-07  5670.0\n",
       "...         ...     ...\n",
       "5877 2022-11-24  6100.0\n",
       "5878 2022-11-25  6100.0\n",
       "5879 2022-11-28  5664.0\n",
       "5880 2022-11-29  5592.0\n",
       "5881 2022-11-30  5242.0\n",
       "\n",
       "[5882 rows x 2 columns]"
      ]
     },
     "execution_count": 378,
     "metadata": {},
     "output_type": "execute_result"
    }
   ],
   "source": [
    "price= pd.read_csv('data/price/price_baechoo.csv')\n",
    "price[\"구분\"] = pd.to_datetime(price[\"구분\"],format=\"%Y-%m-%d\")\n",
    "price_train= price[price[\"구분\"] < '2022-12-01']\n",
    "price_train"
   ]
  },
  {
   "cell_type": "code",
   "execution_count": 379,
   "metadata": {},
   "outputs": [
    {
     "data": {
      "text/html": [
       "<div>\n",
       "<style scoped>\n",
       "    .dataframe tbody tr th:only-of-type {\n",
       "        vertical-align: middle;\n",
       "    }\n",
       "\n",
       "    .dataframe tbody tr th {\n",
       "        vertical-align: top;\n",
       "    }\n",
       "\n",
       "    .dataframe thead th {\n",
       "        text-align: right;\n",
       "    }\n",
       "</style>\n",
       "<table border=\"1\" class=\"dataframe\">\n",
       "  <thead>\n",
       "    <tr style=\"text-align: right;\">\n",
       "      <th></th>\n",
       "      <th>구분</th>\n",
       "      <th>평균</th>\n",
       "    </tr>\n",
       "  </thead>\n",
       "  <tbody>\n",
       "    <tr>\n",
       "      <th>5882</th>\n",
       "      <td>2022-12-01</td>\n",
       "      <td>5462.0</td>\n",
       "    </tr>\n",
       "    <tr>\n",
       "      <th>5883</th>\n",
       "      <td>2022-12-05</td>\n",
       "      <td>5982.0</td>\n",
       "    </tr>\n",
       "    <tr>\n",
       "      <th>5884</th>\n",
       "      <td>2022-12-06</td>\n",
       "      <td>5502.0</td>\n",
       "    </tr>\n",
       "    <tr>\n",
       "      <th>5885</th>\n",
       "      <td>2022-12-07</td>\n",
       "      <td>5488.0</td>\n",
       "    </tr>\n",
       "    <tr>\n",
       "      <th>5886</th>\n",
       "      <td>2022-12-08</td>\n",
       "      <td>5408.0</td>\n",
       "    </tr>\n",
       "    <tr>\n",
       "      <th>5887</th>\n",
       "      <td>2022-12-09</td>\n",
       "      <td>5408.0</td>\n",
       "    </tr>\n",
       "    <tr>\n",
       "      <th>5888</th>\n",
       "      <td>2022-12-12</td>\n",
       "      <td>5244.5</td>\n",
       "    </tr>\n",
       "    <tr>\n",
       "      <th>5889</th>\n",
       "      <td>2022-12-13</td>\n",
       "      <td>5245.5</td>\n",
       "    </tr>\n",
       "    <tr>\n",
       "      <th>5890</th>\n",
       "      <td>2022-12-14</td>\n",
       "      <td>5430.5</td>\n",
       "    </tr>\n",
       "    <tr>\n",
       "      <th>5891</th>\n",
       "      <td>2022-12-15</td>\n",
       "      <td>5430.5</td>\n",
       "    </tr>\n",
       "    <tr>\n",
       "      <th>5892</th>\n",
       "      <td>2022-12-16</td>\n",
       "      <td>5304.0</td>\n",
       "    </tr>\n",
       "    <tr>\n",
       "      <th>5893</th>\n",
       "      <td>2022-12-19</td>\n",
       "      <td>5459.5</td>\n",
       "    </tr>\n",
       "    <tr>\n",
       "      <th>5894</th>\n",
       "      <td>2022-12-20</td>\n",
       "      <td>5764.0</td>\n",
       "    </tr>\n",
       "  </tbody>\n",
       "</table>\n",
       "</div>"
      ],
      "text/plain": [
       "             구분      평균\n",
       "5882 2022-12-01  5462.0\n",
       "5883 2022-12-05  5982.0\n",
       "5884 2022-12-06  5502.0\n",
       "5885 2022-12-07  5488.0\n",
       "5886 2022-12-08  5408.0\n",
       "5887 2022-12-09  5408.0\n",
       "5888 2022-12-12  5244.5\n",
       "5889 2022-12-13  5245.5\n",
       "5890 2022-12-14  5430.5\n",
       "5891 2022-12-15  5430.5\n",
       "5892 2022-12-16  5304.0\n",
       "5893 2022-12-19  5459.5\n",
       "5894 2022-12-20  5764.0"
      ]
     },
     "execution_count": 379,
     "metadata": {},
     "output_type": "execute_result"
    }
   ],
   "source": [
    "price_test= price[price[\"구분\"] >= '2022-12-01']\n",
    "price_test"
   ]
  },
  {
   "cell_type": "code",
   "execution_count": 380,
   "metadata": {},
   "outputs": [
    {
     "data": {
      "text/html": [
       "<div>\n",
       "<style scoped>\n",
       "    .dataframe tbody tr th:only-of-type {\n",
       "        vertical-align: middle;\n",
       "    }\n",
       "\n",
       "    .dataframe tbody tr th {\n",
       "        vertical-align: top;\n",
       "    }\n",
       "\n",
       "    .dataframe thead th {\n",
       "        text-align: right;\n",
       "    }\n",
       "</style>\n",
       "<table border=\"1\" class=\"dataframe\">\n",
       "  <thead>\n",
       "    <tr style=\"text-align: right;\">\n",
       "      <th></th>\n",
       "      <th>자동차용 경유 가격 (원)</th>\n",
       "      <th>전월비(%)</th>\n",
       "      <th>평균</th>\n",
       "      <th>거래량</th>\n",
       "    </tr>\n",
       "    <tr>\n",
       "      <th>거래년월일</th>\n",
       "      <th></th>\n",
       "      <th></th>\n",
       "      <th></th>\n",
       "      <th></th>\n",
       "    </tr>\n",
       "  </thead>\n",
       "  <tbody>\n",
       "    <tr>\n",
       "      <th>2000-01-01</th>\n",
       "      <td>0.022324</td>\n",
       "      <td>0.540453</td>\n",
       "      <td>5600.0</td>\n",
       "      <td>0.028243</td>\n",
       "    </tr>\n",
       "    <tr>\n",
       "      <th>2000-01-02</th>\n",
       "      <td>0.022324</td>\n",
       "      <td>0.540453</td>\n",
       "      <td>5600.0</td>\n",
       "      <td>0.028243</td>\n",
       "    </tr>\n",
       "    <tr>\n",
       "      <th>2000-01-03</th>\n",
       "      <td>0.022324</td>\n",
       "      <td>0.540453</td>\n",
       "      <td>5600.0</td>\n",
       "      <td>0.028243</td>\n",
       "    </tr>\n",
       "    <tr>\n",
       "      <th>2000-01-04</th>\n",
       "      <td>0.022324</td>\n",
       "      <td>0.540453</td>\n",
       "      <td>5600.0</td>\n",
       "      <td>0.197620</td>\n",
       "    </tr>\n",
       "    <tr>\n",
       "      <th>2000-01-05</th>\n",
       "      <td>0.022324</td>\n",
       "      <td>0.540453</td>\n",
       "      <td>5620.0</td>\n",
       "      <td>0.094077</td>\n",
       "    </tr>\n",
       "    <tr>\n",
       "      <th>...</th>\n",
       "      <td>...</td>\n",
       "      <td>...</td>\n",
       "      <td>...</td>\n",
       "      <td>...</td>\n",
       "    </tr>\n",
       "    <tr>\n",
       "      <th>2022-11-26</th>\n",
       "      <td>0.863720</td>\n",
       "      <td>0.152104</td>\n",
       "      <td>6100.0</td>\n",
       "      <td>0.081833</td>\n",
       "    </tr>\n",
       "    <tr>\n",
       "      <th>2022-11-27</th>\n",
       "      <td>0.863720</td>\n",
       "      <td>0.152104</td>\n",
       "      <td>6100.0</td>\n",
       "      <td>0.081833</td>\n",
       "    </tr>\n",
       "    <tr>\n",
       "      <th>2022-11-28</th>\n",
       "      <td>0.863720</td>\n",
       "      <td>0.152104</td>\n",
       "      <td>5664.0</td>\n",
       "      <td>0.055649</td>\n",
       "    </tr>\n",
       "    <tr>\n",
       "      <th>2022-11-29</th>\n",
       "      <td>0.863720</td>\n",
       "      <td>0.152104</td>\n",
       "      <td>5592.0</td>\n",
       "      <td>0.021293</td>\n",
       "    </tr>\n",
       "    <tr>\n",
       "      <th>2022-11-30</th>\n",
       "      <td>0.863720</td>\n",
       "      <td>0.152104</td>\n",
       "      <td>5242.0</td>\n",
       "      <td>0.033078</td>\n",
       "    </tr>\n",
       "  </tbody>\n",
       "</table>\n",
       "<p>8370 rows × 4 columns</p>\n",
       "</div>"
      ],
      "text/plain": [
       "            자동차용 경유 가격 (원)    전월비(%)      평균       거래량\n",
       "거래년월일                                                 \n",
       "2000-01-01        0.022324  0.540453  5600.0  0.028243\n",
       "2000-01-02        0.022324  0.540453  5600.0  0.028243\n",
       "2000-01-03        0.022324  0.540453  5600.0  0.028243\n",
       "2000-01-04        0.022324  0.540453  5600.0  0.197620\n",
       "2000-01-05        0.022324  0.540453  5620.0  0.094077\n",
       "...                    ...       ...     ...       ...\n",
       "2022-11-26        0.863720  0.152104  6100.0  0.081833\n",
       "2022-11-27        0.863720  0.152104  6100.0  0.081833\n",
       "2022-11-28        0.863720  0.152104  5664.0  0.055649\n",
       "2022-11-29        0.863720  0.152104  5592.0  0.021293\n",
       "2022-11-30        0.863720  0.152104  5242.0  0.033078\n",
       "\n",
       "[8370 rows x 4 columns]"
      ]
     },
     "execution_count": 380,
     "metadata": {},
     "output_type": "execute_result"
    }
   ],
   "source": [
    "feature_cols= ['자동차용 경유 가격 (원)', '전월비(%)', '거래량']\n",
    "label_col= ['평균']\n",
    "\n",
    "X= merge[feature_cols]\n",
    "y= merge[label_col]\n",
    "\n",
    "scaler= MinMaxScaler()\n",
    "merge[feature_cols]= scaler.fit_transform(X)\n",
    "merge\n"
   ]
  },
  {
   "cell_type": "code",
   "execution_count": 381,
   "metadata": {},
   "outputs": [],
   "source": [
    "TEST_SIZE = 200\n",
    "WINDOW_SIZE = 20\n",
    "\n",
    "train = merge[:-TEST_SIZE]\n",
    "test = merge[-TEST_SIZE:]"
   ]
  },
  {
   "cell_type": "code",
   "execution_count": 382,
   "metadata": {},
   "outputs": [],
   "source": [
    "def make_dataset(data, label, window_size=20):\n",
    "    feature_list = []\n",
    "    label_list = []\n",
    "    for i in range(len(data) - window_size):\n",
    "        feature_list.append(np.array(data.iloc[i:i+window_size]))\n",
    "        label_list.append(np.array(label.iloc[i+window_size]))\n",
    "    return np.array(feature_list), np.array(label_list)"
   ]
  },
  {
   "cell_type": "code",
   "execution_count": 383,
   "metadata": {},
   "outputs": [
    {
     "data": {
      "text/plain": [
       "((6520, 20, 3), (1630, 20, 3))"
      ]
     },
     "execution_count": 383,
     "metadata": {},
     "output_type": "execute_result"
    }
   ],
   "source": [
    "from sklearn.model_selection import train_test_split\n",
    "\n",
    "train_feature= train[feature_cols]\n",
    "train_label= train[label_col]\n",
    "\n",
    "train_feature, train_label = make_dataset(train_feature, train_label, 20)\n",
    "\n",
    "x_train, x_valid, y_train, y_valid = train_test_split(train_feature, train_label, test_size=0.2)\n",
    "x_train.shape, x_valid.shape"
   ]
  },
  {
   "cell_type": "code",
   "execution_count": 384,
   "metadata": {},
   "outputs": [
    {
     "data": {
      "text/plain": [
       "((200, 3), (200, 1))"
      ]
     },
     "execution_count": 384,
     "metadata": {},
     "output_type": "execute_result"
    }
   ],
   "source": [
    "test_feature = test[feature_cols]\n",
    "test_label = test[label_col]\n",
    "\n",
    "test_feature.shape, test_label.shape"
   ]
  },
  {
   "cell_type": "code",
   "execution_count": 385,
   "metadata": {},
   "outputs": [
    {
     "data": {
      "text/plain": [
       "((180, 20, 3), (180, 1))"
      ]
     },
     "execution_count": 385,
     "metadata": {},
     "output_type": "execute_result"
    }
   ],
   "source": [
    "test_feature, test_label = make_dataset(test_feature, test_label, 20)\n",
    "test_feature.shape, test_label.shape"
   ]
  },
  {
   "cell_type": "code",
   "execution_count": 386,
   "metadata": {},
   "outputs": [],
   "source": [
    "from keras.models import Sequential\n",
    "from keras.layers import Dense\n",
    "from keras.callbacks import EarlyStopping, ModelCheckpoint\n",
    "from keras.layers import LSTM\n",
    "\n",
    "model = Sequential()\n",
    "model.add(LSTM(16, \n",
    "               input_shape=(train_feature.shape[1], train_feature.shape[2]), \n",
    "               activation='relu', \n",
    "               return_sequences=False)\n",
    "          )\n",
    "\n",
    "model.add(Dense(1))"
   ]
  },
  {
   "cell_type": "code",
   "execution_count": 387,
   "metadata": {},
   "outputs": [
    {
     "name": "stdout",
     "output_type": "stream",
     "text": [
      "Requirement already satisfied: h5py in c:\\users\\lg-pc\\anaconda3\\lib\\site-packages (3.7.0)\n",
      "Requirement already satisfied: numpy>=1.14.5 in c:\\users\\lg-pc\\anaconda3\\lib\\site-packages (from h5py) (1.21.5)\n"
     ]
    }
   ],
   "source": [
    "! pip install h5py"
   ]
  },
  {
   "cell_type": "code",
   "execution_count": 388,
   "metadata": {},
   "outputs": [
    {
     "ename": "KeyError",
     "evalue": "\"None of [Index(['자동차용 경유 가격 (원)', '전월비(%)', '거래량'], dtype='object')] are in the [columns]\"",
     "output_type": "error",
     "traceback": [
      "\u001b[1;31m---------------------------------------------------------------------------\u001b[0m",
      "\u001b[1;31mKeyError\u001b[0m                                  Traceback (most recent call last)",
      "\u001b[1;32mc:\\Users\\LG-PC\\OneDrive\\문서\\GitHub\\Final_Predict_Agricultural\\test.ipynb Cell 14\u001b[0m in \u001b[0;36m<cell line: 6>\u001b[1;34m()\u001b[0m\n\u001b[0;32m      <a href='vscode-notebook-cell:/c%3A/Users/LG-PC/OneDrive/%EB%AC%B8%EC%84%9C/GitHub/Final_Predict_Agricultural/test.ipynb#X26sZmlsZQ%3D%3D?line=2'>3</a>\u001b[0m feature_cols\u001b[39m=\u001b[39m [\u001b[39m'\u001b[39m\u001b[39m자동차용 경유 가격 (원)\u001b[39m\u001b[39m'\u001b[39m, \u001b[39m'\u001b[39m\u001b[39m전월비(\u001b[39m\u001b[39m%\u001b[39m\u001b[39m)\u001b[39m\u001b[39m'\u001b[39m, \u001b[39m'\u001b[39m\u001b[39m거래량\u001b[39m\u001b[39m'\u001b[39m]\n\u001b[0;32m      <a href='vscode-notebook-cell:/c%3A/Users/LG-PC/OneDrive/%EB%AC%B8%EC%84%9C/GitHub/Final_Predict_Agricultural/test.ipynb#X26sZmlsZQ%3D%3D?line=3'>4</a>\u001b[0m label_col\u001b[39m=\u001b[39m [\u001b[39m'\u001b[39m\u001b[39m평균\u001b[39m\u001b[39m'\u001b[39m]\n\u001b[1;32m----> <a href='vscode-notebook-cell:/c%3A/Users/LG-PC/OneDrive/%EB%AC%B8%EC%84%9C/GitHub/Final_Predict_Agricultural/test.ipynb#X26sZmlsZQ%3D%3D?line=5'>6</a>\u001b[0m X\u001b[39m=\u001b[39m df[feature_cols]\n\u001b[0;32m      <a href='vscode-notebook-cell:/c%3A/Users/LG-PC/OneDrive/%EB%AC%B8%EC%84%9C/GitHub/Final_Predict_Agricultural/test.ipynb#X26sZmlsZQ%3D%3D?line=6'>7</a>\u001b[0m y\u001b[39m=\u001b[39m df[label_col]\n\u001b[0;32m      <a href='vscode-notebook-cell:/c%3A/Users/LG-PC/OneDrive/%EB%AC%B8%EC%84%9C/GitHub/Final_Predict_Agricultural/test.ipynb#X26sZmlsZQ%3D%3D?line=8'>9</a>\u001b[0m X_train, X_test, y_train, y_test\u001b[39m=\u001b[39m train_test_split(X, y, test_size\u001b[39m=\u001b[39m\u001b[39m0.2\u001b[39m)\n",
      "File \u001b[1;32mc:\\Users\\LG-PC\\anaconda3\\lib\\site-packages\\pandas\\core\\frame.py:3511\u001b[0m, in \u001b[0;36mDataFrame.__getitem__\u001b[1;34m(self, key)\u001b[0m\n\u001b[0;32m   3509\u001b[0m     \u001b[39mif\u001b[39;00m is_iterator(key):\n\u001b[0;32m   3510\u001b[0m         key \u001b[39m=\u001b[39m \u001b[39mlist\u001b[39m(key)\n\u001b[1;32m-> 3511\u001b[0m     indexer \u001b[39m=\u001b[39m \u001b[39mself\u001b[39;49m\u001b[39m.\u001b[39;49mcolumns\u001b[39m.\u001b[39;49m_get_indexer_strict(key, \u001b[39m\"\u001b[39;49m\u001b[39mcolumns\u001b[39;49m\u001b[39m\"\u001b[39;49m)[\u001b[39m1\u001b[39m]\n\u001b[0;32m   3513\u001b[0m \u001b[39m# take() does not accept boolean indexers\u001b[39;00m\n\u001b[0;32m   3514\u001b[0m \u001b[39mif\u001b[39;00m \u001b[39mgetattr\u001b[39m(indexer, \u001b[39m\"\u001b[39m\u001b[39mdtype\u001b[39m\u001b[39m\"\u001b[39m, \u001b[39mNone\u001b[39;00m) \u001b[39m==\u001b[39m \u001b[39mbool\u001b[39m:\n",
      "File \u001b[1;32mc:\\Users\\LG-PC\\anaconda3\\lib\\site-packages\\pandas\\core\\indexes\\base.py:5782\u001b[0m, in \u001b[0;36mIndex._get_indexer_strict\u001b[1;34m(self, key, axis_name)\u001b[0m\n\u001b[0;32m   5779\u001b[0m \u001b[39melse\u001b[39;00m:\n\u001b[0;32m   5780\u001b[0m     keyarr, indexer, new_indexer \u001b[39m=\u001b[39m \u001b[39mself\u001b[39m\u001b[39m.\u001b[39m_reindex_non_unique(keyarr)\n\u001b[1;32m-> 5782\u001b[0m \u001b[39mself\u001b[39;49m\u001b[39m.\u001b[39;49m_raise_if_missing(keyarr, indexer, axis_name)\n\u001b[0;32m   5784\u001b[0m keyarr \u001b[39m=\u001b[39m \u001b[39mself\u001b[39m\u001b[39m.\u001b[39mtake(indexer)\n\u001b[0;32m   5785\u001b[0m \u001b[39mif\u001b[39;00m \u001b[39misinstance\u001b[39m(key, Index):\n\u001b[0;32m   5786\u001b[0m     \u001b[39m# GH 42790 - Preserve name from an Index\u001b[39;00m\n",
      "File \u001b[1;32mc:\\Users\\LG-PC\\anaconda3\\lib\\site-packages\\pandas\\core\\indexes\\base.py:5842\u001b[0m, in \u001b[0;36mIndex._raise_if_missing\u001b[1;34m(self, key, indexer, axis_name)\u001b[0m\n\u001b[0;32m   5840\u001b[0m     \u001b[39mif\u001b[39;00m use_interval_msg:\n\u001b[0;32m   5841\u001b[0m         key \u001b[39m=\u001b[39m \u001b[39mlist\u001b[39m(key)\n\u001b[1;32m-> 5842\u001b[0m     \u001b[39mraise\u001b[39;00m \u001b[39mKeyError\u001b[39;00m(\u001b[39mf\u001b[39m\u001b[39m\"\u001b[39m\u001b[39mNone of [\u001b[39m\u001b[39m{\u001b[39;00mkey\u001b[39m}\u001b[39;00m\u001b[39m] are in the [\u001b[39m\u001b[39m{\u001b[39;00maxis_name\u001b[39m}\u001b[39;00m\u001b[39m]\u001b[39m\u001b[39m\"\u001b[39m)\n\u001b[0;32m   5844\u001b[0m not_found \u001b[39m=\u001b[39m \u001b[39mlist\u001b[39m(ensure_index(key)[missing_mask\u001b[39m.\u001b[39mnonzero()[\u001b[39m0\u001b[39m]]\u001b[39m.\u001b[39munique())\n\u001b[0;32m   5845\u001b[0m \u001b[39mraise\u001b[39;00m \u001b[39mKeyError\u001b[39;00m(\u001b[39mf\u001b[39m\u001b[39m\"\u001b[39m\u001b[39m{\u001b[39;00mnot_found\u001b[39m}\u001b[39;00m\u001b[39m not in index\u001b[39m\u001b[39m\"\u001b[39m)\n",
      "\u001b[1;31mKeyError\u001b[0m: \"None of [Index(['자동차용 경유 가격 (원)', '전월비(%)', '거래량'], dtype='object')] are in the [columns]\""
     ]
    }
   ],
   "source": [
    "\n",
    "\n",
    "feature_cols= ['자동차용 경유 가격 (원)', '전월비(%)', '거래량']\n",
    "label_col= ['평균']\n",
    "\n",
    "X= df[feature_cols]\n",
    "y= df[label_col]\n",
    "\n",
    "X_train, X_test, y_train, y_test= train_test_split(X, y, test_size=0.2)"
   ]
  },
  {
   "cell_type": "code",
   "execution_count": null,
   "metadata": {},
   "outputs": [],
   "source": []
  },
  {
   "cell_type": "code",
   "execution_count": null,
   "metadata": {},
   "outputs": [],
   "source": [
    "model = Sequential()\n",
    "model.add(LSTM(16, \n",
    "               input_shape=(X_train.shape[1], 1), \n",
    "               activation='relu', \n",
    "               return_sequences=False)\n",
    "          )\n",
    "\n",
    "model.add(Dense(1))"
   ]
  },
  {
   "cell_type": "code",
   "execution_count": null,
   "metadata": {},
   "outputs": [
    {
     "data": {
      "text/plain": [
       "<keras.callbacks.History at 0x1c6c050d910>"
      ]
     },
     "execution_count": 16,
     "metadata": {},
     "output_type": "execute_result"
    }
   ],
   "source": [
    "model.compile(loss='mean_squared_error', optimizer='adam')\n",
    "model.fit(X_train, y_train, epochs=50, batch_size=150, verbose=0)"
   ]
  },
  {
   "cell_type": "code",
   "execution_count": null,
   "metadata": {},
   "outputs": [],
   "source": [
    "pred= model.predict(X_test)"
   ]
  },
  {
   "cell_type": "code",
   "execution_count": null,
   "metadata": {},
   "outputs": [
    {
     "data": {
      "text/html": [
       "<div>\n",
       "<style scoped>\n",
       "    .dataframe tbody tr th:only-of-type {\n",
       "        vertical-align: middle;\n",
       "    }\n",
       "\n",
       "    .dataframe tbody tr th {\n",
       "        vertical-align: top;\n",
       "    }\n",
       "\n",
       "    .dataframe thead th {\n",
       "        text-align: right;\n",
       "    }\n",
       "</style>\n",
       "<table border=\"1\" class=\"dataframe\">\n",
       "  <thead>\n",
       "    <tr style=\"text-align: right;\">\n",
       "      <th></th>\n",
       "      <th>거래년월일</th>\n",
       "      <th>자동차용 경유 가격 (원)</th>\n",
       "      <th>전월비(%)</th>\n",
       "      <th>평균</th>\n",
       "      <th>거래량</th>\n",
       "    </tr>\n",
       "  </thead>\n",
       "  <tbody>\n",
       "    <tr>\n",
       "      <th>0</th>\n",
       "      <td>2000-01-01</td>\n",
       "      <td>583.35</td>\n",
       "      <td>4.0</td>\n",
       "      <td>5600.0</td>\n",
       "      <td>102285.0</td>\n",
       "    </tr>\n",
       "    <tr>\n",
       "      <th>1</th>\n",
       "      <td>2000-01-02</td>\n",
       "      <td>583.35</td>\n",
       "      <td>4.0</td>\n",
       "      <td>5600.0</td>\n",
       "      <td>102285.0</td>\n",
       "    </tr>\n",
       "    <tr>\n",
       "      <th>2</th>\n",
       "      <td>2000-01-03</td>\n",
       "      <td>583.35</td>\n",
       "      <td>4.0</td>\n",
       "      <td>5600.0</td>\n",
       "      <td>102285.0</td>\n",
       "    </tr>\n",
       "    <tr>\n",
       "      <th>3</th>\n",
       "      <td>2000-01-04</td>\n",
       "      <td>583.35</td>\n",
       "      <td>4.0</td>\n",
       "      <td>5600.0</td>\n",
       "      <td>715338.0</td>\n",
       "    </tr>\n",
       "    <tr>\n",
       "      <th>4</th>\n",
       "      <td>2000-01-05</td>\n",
       "      <td>583.35</td>\n",
       "      <td>4.0</td>\n",
       "      <td>5620.0</td>\n",
       "      <td>340568.0</td>\n",
       "    </tr>\n",
       "    <tr>\n",
       "      <th>...</th>\n",
       "      <td>...</td>\n",
       "      <td>...</td>\n",
       "      <td>...</td>\n",
       "      <td>...</td>\n",
       "      <td>...</td>\n",
       "    </tr>\n",
       "    <tr>\n",
       "      <th>8365</th>\n",
       "      <td>2022-11-26</td>\n",
       "      <td>1879.15</td>\n",
       "      <td>-8.0</td>\n",
       "      <td>6100.0</td>\n",
       "      <td>296250.0</td>\n",
       "    </tr>\n",
       "    <tr>\n",
       "      <th>8366</th>\n",
       "      <td>2022-11-27</td>\n",
       "      <td>1879.15</td>\n",
       "      <td>-8.0</td>\n",
       "      <td>6100.0</td>\n",
       "      <td>296250.0</td>\n",
       "    </tr>\n",
       "    <tr>\n",
       "      <th>8367</th>\n",
       "      <td>2022-11-28</td>\n",
       "      <td>1879.15</td>\n",
       "      <td>-8.0</td>\n",
       "      <td>5664.0</td>\n",
       "      <td>201478.0</td>\n",
       "    </tr>\n",
       "    <tr>\n",
       "      <th>8368</th>\n",
       "      <td>2022-11-29</td>\n",
       "      <td>1879.15</td>\n",
       "      <td>-8.0</td>\n",
       "      <td>5592.0</td>\n",
       "      <td>77130.0</td>\n",
       "    </tr>\n",
       "    <tr>\n",
       "      <th>8369</th>\n",
       "      <td>2022-11-30</td>\n",
       "      <td>1879.15</td>\n",
       "      <td>-8.0</td>\n",
       "      <td>5242.0</td>\n",
       "      <td>119783.0</td>\n",
       "    </tr>\n",
       "  </tbody>\n",
       "</table>\n",
       "<p>8370 rows × 5 columns</p>\n",
       "</div>"
      ],
      "text/plain": [
       "           거래년월일  자동차용 경유 가격 (원)  전월비(%)      평균       거래량\n",
       "0     2000-01-01          583.35     4.0  5600.0  102285.0\n",
       "1     2000-01-02          583.35     4.0  5600.0  102285.0\n",
       "2     2000-01-03          583.35     4.0  5600.0  102285.0\n",
       "3     2000-01-04          583.35     4.0  5600.0  715338.0\n",
       "4     2000-01-05          583.35     4.0  5620.0  340568.0\n",
       "...          ...             ...     ...     ...       ...\n",
       "8365  2022-11-26         1879.15    -8.0  6100.0  296250.0\n",
       "8366  2022-11-27         1879.15    -8.0  6100.0  296250.0\n",
       "8367  2022-11-28         1879.15    -8.0  5664.0  201478.0\n",
       "8368  2022-11-29         1879.15    -8.0  5592.0   77130.0\n",
       "8369  2022-11-30         1879.15    -8.0  5242.0  119783.0\n",
       "\n",
       "[8370 rows x 5 columns]"
      ]
     },
     "execution_count": 51,
     "metadata": {},
     "output_type": "execute_result"
    }
   ],
   "source": [
    "\n",
    "\n",
    "df= pd.read_csv(\"data/merge_all/merge_all.csv\")\n",
    "df"
   ]
  },
  {
   "cell_type": "code",
   "execution_count": null,
   "metadata": {},
   "outputs": [
    {
     "name": "stdout",
     "output_type": "stream",
     "text": [
      "      자동차용 경유 가격 (원)    전월비(%)        평균       거래량\n",
      "0           0.022324  0.540453  0.106796  0.028243\n",
      "1           0.022324  0.540453  0.106796  0.028243\n",
      "2           0.022324  0.540453  0.106796  0.028243\n",
      "3           0.022324  0.540453  0.106796  0.197620\n",
      "4           0.022324  0.540453  0.107351  0.094077\n",
      "...              ...       ...       ...       ...\n",
      "8365        0.863720  0.152104  0.120666  0.081833\n",
      "8366        0.863720  0.152104  0.120666  0.081833\n",
      "8367        0.863720  0.152104  0.108571  0.055649\n",
      "8368        0.863720  0.152104  0.106574  0.021293\n",
      "8369        0.863720  0.152104  0.096865  0.033078\n",
      "\n",
      "[8370 rows x 4 columns]\n"
     ]
    }
   ],
   "source": [
    "from sklearn.preprocessing import MinMaxScaler\n",
    "\n",
    "scaler= MinMaxScaler()\n",
    "scale_cols = ['자동차용 경유 가격 (원)', '전월비(%)', '평균', '거래량']\n",
    "df_scaled = scaler.fit_transform(df[scale_cols])\n",
    "\n",
    "df_scaled = pd.DataFrame(df_scaled)\n",
    "df_scaled.columns = scale_cols\n",
    "\n",
    "print(df_scaled)"
   ]
  },
  {
   "cell_type": "code",
   "execution_count": null,
   "metadata": {},
   "outputs": [],
   "source": [
    "TEST_SIZE= 28\n",
    "\n",
    "train= df_scaled[:-TEST_SIZE]\n",
    "test= df_scaled[-TEST_SIZE:]"
   ]
  },
  {
   "cell_type": "code",
   "execution_count": null,
   "metadata": {},
   "outputs": [],
   "source": []
  },
  {
   "cell_type": "code",
   "execution_count": null,
   "metadata": {},
   "outputs": [],
   "source": [
    "def make_dataset(data, label, window_size=20):\n",
    "    feature_list = []\n",
    "    label_list = []\n",
    "    for i in range(len(data) - window_size):\n",
    "        feature_list.append(np.array(data.iloc[i:i+window_size]))\n",
    "        label_list.append(np.array(label.iloc[i+window_size]))\n",
    "    return np.array(feature_list), np.array(label_list)"
   ]
  },
  {
   "cell_type": "code",
   "execution_count": null,
   "metadata": {},
   "outputs": [
    {
     "data": {
      "text/plain": [
       "((6657, 20, 3), (1665, 20, 3))"
      ]
     },
     "execution_count": 43,
     "metadata": {},
     "output_type": "execute_result"
    }
   ],
   "source": [
    "feature_cols = ['자동차용 경유 가격 (원)', '전월비(%)', '거래량']\n",
    "label_cols = ['평균']\n",
    "\n",
    "train_feature = train[feature_cols]\n",
    "train_label = train[label_cols]\n",
    "\n",
    "# train dataset\n",
    "train_feature, train_label = make_dataset(train_feature, train_label, 20)\n",
    "\n",
    "# train, validation set 생성\n",
    "\n",
    "x_train, x_valid, y_train, y_valid = train_test_split(train_feature, train_label, test_size=0.2)\n",
    "\n",
    "x_train.shape, x_valid.shape"
   ]
  },
  {
   "cell_type": "code",
   "execution_count": null,
   "metadata": {},
   "outputs": [
    {
     "data": {
      "text/plain": [
       "((8, 20, 3), (8, 1))"
      ]
     },
     "execution_count": 44,
     "metadata": {},
     "output_type": "execute_result"
    }
   ],
   "source": [
    "# test dataset (실제 예측 해볼 데이터)\n",
    "test_feature = test[feature_cols]\n",
    "test_label = test[label_cols]\n",
    "\n",
    "test_feature, test_label = make_dataset(test_feature, test_label, 20)\n",
    "test_feature.shape, test_label.shape"
   ]
  },
  {
   "cell_type": "code",
   "execution_count": null,
   "metadata": {},
   "outputs": [],
   "source": [
    "\n",
    "\n",
    "model = Sequential()\n",
    "model.add(LSTM(16, \n",
    "               input_shape=(train_feature.shape[1], train_feature.shape[2]), \n",
    "               activation='relu', \n",
    "               return_sequences=False)\n",
    "          )\n",
    "model.add(Dense(1))\n",
    "model.compile(loss='mean_squared_error', optimizer='adam')"
   ]
  },
  {
   "cell_type": "code",
   "execution_count": null,
   "metadata": {},
   "outputs": [],
   "source": [
    "from keras.models import load_model"
   ]
  },
  {
   "cell_type": "code",
   "execution_count": null,
   "metadata": {},
   "outputs": [
    {
     "name": "stdout",
     "output_type": "stream",
     "text": [
      "Epoch 1/200\n",
      "417/417 [==============================] - 5s 7ms/step - loss: 0.0160 - val_loss: 0.0081\n",
      "Epoch 2/200\n",
      "417/417 [==============================] - 2s 5ms/step - loss: 0.0101 - val_loss: 0.0079\n",
      "Epoch 3/200\n",
      "417/417 [==============================] - 2s 5ms/step - loss: 0.0099 - val_loss: 0.0080\n",
      "Epoch 4/200\n",
      "417/417 [==============================] - 2s 5ms/step - loss: 0.0100 - val_loss: 0.0079\n",
      "Epoch 5/200\n",
      "417/417 [==============================] - 2s 5ms/step - loss: 0.0099 - val_loss: 0.0079\n",
      "Epoch 6/200\n",
      "417/417 [==============================] - 2s 5ms/step - loss: 0.0098 - val_loss: 0.0108\n",
      "Epoch 7/200\n",
      "417/417 [==============================] - 2s 5ms/step - loss: 0.0098 - val_loss: 0.0079\n",
      "Epoch 8/200\n",
      "417/417 [==============================] - 2s 5ms/step - loss: 0.0098 - val_loss: 0.0078\n",
      "Epoch 9/200\n",
      "417/417 [==============================] - 2s 5ms/step - loss: 0.0097 - val_loss: 0.0080\n",
      "Epoch 10/200\n",
      "417/417 [==============================] - 2s 5ms/step - loss: 0.0096 - val_loss: 0.0076\n",
      "Epoch 11/200\n",
      "417/417 [==============================] - 2s 5ms/step - loss: 0.0097 - val_loss: 0.0076\n",
      "Epoch 12/200\n",
      "417/417 [==============================] - 2s 5ms/step - loss: 0.0095 - val_loss: 0.0078\n",
      "Epoch 13/200\n",
      "417/417 [==============================] - 2s 5ms/step - loss: 0.0093 - val_loss: 0.0073\n",
      "Epoch 14/200\n",
      "417/417 [==============================] - 2s 5ms/step - loss: 0.0094 - val_loss: 0.0075\n",
      "Epoch 15/200\n",
      "417/417 [==============================] - 2s 5ms/step - loss: 0.0093 - val_loss: 0.0072\n",
      "Epoch 16/200\n",
      "417/417 [==============================] - 2s 5ms/step - loss: 0.0091 - val_loss: 0.0083\n",
      "Epoch 17/200\n",
      "417/417 [==============================] - 2s 5ms/step - loss: 0.0091 - val_loss: 0.0075\n",
      "Epoch 18/200\n",
      "417/417 [==============================] - 2s 5ms/step - loss: 0.0091 - val_loss: 0.0069\n",
      "Epoch 19/200\n",
      "417/417 [==============================] - 2s 5ms/step - loss: 0.0091 - val_loss: 0.0070\n",
      "Epoch 20/200\n",
      "417/417 [==============================] - 2s 6ms/step - loss: 0.0090 - val_loss: 0.0071\n",
      "Epoch 21/200\n",
      "417/417 [==============================] - 2s 5ms/step - loss: 0.0092 - val_loss: 0.0095\n",
      "Epoch 22/200\n",
      "417/417 [==============================] - 2s 6ms/step - loss: 0.0089 - val_loss: 0.0070\n",
      "Epoch 23/200\n",
      "417/417 [==============================] - 2s 5ms/step - loss: 0.0089 - val_loss: 0.0067\n",
      "Epoch 24/200\n",
      "417/417 [==============================] - 2s 5ms/step - loss: 0.0088 - val_loss: 0.0069\n",
      "Epoch 25/200\n",
      "417/417 [==============================] - 2s 5ms/step - loss: 0.0088 - val_loss: 0.0070\n",
      "Epoch 26/200\n",
      "417/417 [==============================] - 2s 5ms/step - loss: 0.0089 - val_loss: 0.0066\n",
      "Epoch 27/200\n",
      "417/417 [==============================] - 2s 5ms/step - loss: 0.0087 - val_loss: 0.0067\n",
      "Epoch 28/200\n",
      "417/417 [==============================] - 2s 6ms/step - loss: 0.0085 - val_loss: 0.0067\n",
      "Epoch 29/200\n",
      "417/417 [==============================] - 2s 5ms/step - loss: 0.0085 - val_loss: 0.0065\n",
      "Epoch 30/200\n",
      "417/417 [==============================] - 2s 5ms/step - loss: 0.0084 - val_loss: 0.0062\n",
      "Epoch 31/200\n",
      "417/417 [==============================] - 2s 5ms/step - loss: 0.0085 - val_loss: 0.0065\n",
      "Epoch 32/200\n",
      "417/417 [==============================] - 2s 5ms/step - loss: 0.0084 - val_loss: 0.0068\n",
      "Epoch 33/200\n",
      "417/417 [==============================] - 2s 5ms/step - loss: 0.0082 - val_loss: 0.0062\n",
      "Epoch 34/200\n",
      "417/417 [==============================] - 2s 6ms/step - loss: 0.0084 - val_loss: 0.0061\n",
      "Epoch 35/200\n",
      "417/417 [==============================] - 2s 5ms/step - loss: 0.0080 - val_loss: 0.0062\n",
      "Epoch 36/200\n",
      "417/417 [==============================] - 3s 6ms/step - loss: 0.0082 - val_loss: 0.0064\n",
      "Epoch 37/200\n",
      "417/417 [==============================] - 3s 7ms/step - loss: 0.0081 - val_loss: 0.0063\n",
      "Epoch 38/200\n",
      "417/417 [==============================] - 3s 7ms/step - loss: 0.0080 - val_loss: 0.0062\n",
      "Epoch 39/200\n",
      "417/417 [==============================] - 3s 7ms/step - loss: 0.0079 - val_loss: 0.0060\n",
      "Epoch 40/200\n",
      "417/417 [==============================] - 3s 7ms/step - loss: 0.0081 - val_loss: 0.0060\n",
      "Epoch 41/200\n",
      "417/417 [==============================] - 3s 7ms/step - loss: 0.0078 - val_loss: 0.0061\n",
      "Epoch 42/200\n",
      "417/417 [==============================] - 3s 8ms/step - loss: 0.0078 - val_loss: 0.0060\n",
      "Epoch 43/200\n",
      "417/417 [==============================] - 3s 7ms/step - loss: 0.0079 - val_loss: 0.0062\n",
      "Epoch 44/200\n",
      "417/417 [==============================] - 3s 7ms/step - loss: 0.0077 - val_loss: 0.0059\n",
      "Epoch 45/200\n",
      "417/417 [==============================] - 3s 7ms/step - loss: 0.0076 - val_loss: 0.0060\n",
      "Epoch 46/200\n",
      "417/417 [==============================] - 4s 9ms/step - loss: 0.0076 - val_loss: 0.0059\n",
      "Epoch 47/200\n",
      "417/417 [==============================] - 3s 7ms/step - loss: 0.0077 - val_loss: 0.0064\n",
      "Epoch 48/200\n",
      "417/417 [==============================] - 3s 7ms/step - loss: 0.0076 - val_loss: 0.0060\n",
      "Epoch 49/200\n",
      "417/417 [==============================] - 3s 7ms/step - loss: 0.0076 - val_loss: 0.0059\n",
      "Epoch 50/200\n",
      "417/417 [==============================] - 3s 8ms/step - loss: 0.0076 - val_loss: 0.0058\n",
      "Epoch 51/200\n",
      "417/417 [==============================] - 4s 9ms/step - loss: 0.0075 - val_loss: 0.0063\n",
      "Epoch 52/200\n",
      "417/417 [==============================] - 3s 8ms/step - loss: 0.0075 - val_loss: 0.0058\n",
      "Epoch 53/200\n",
      "417/417 [==============================] - 3s 8ms/step - loss: 0.0077 - val_loss: 0.0056\n",
      "Epoch 54/200\n",
      "417/417 [==============================] - 4s 9ms/step - loss: 0.0074 - val_loss: 0.0064\n",
      "Epoch 55/200\n",
      "417/417 [==============================] - 4s 10ms/step - loss: 0.0073 - val_loss: 0.0063\n",
      "Epoch 56/200\n",
      "417/417 [==============================] - 4s 11ms/step - loss: 0.0076 - val_loss: 0.0060\n",
      "Epoch 57/200\n",
      "417/417 [==============================] - 4s 9ms/step - loss: 0.0073 - val_loss: 0.0056\n",
      "Epoch 58/200\n",
      "417/417 [==============================] - 6s 15ms/step - loss: 0.0073 - val_loss: 0.0057\n",
      "Epoch 00058: early stopping\n"
     ]
    },
    {
     "data": {
      "text/plain": [
       "<keras.callbacks.History at 0x2040fef7820>"
      ]
     },
     "execution_count": 46,
     "metadata": {},
     "output_type": "execute_result"
    }
   ],
   "source": [
    "early_stop = EarlyStopping(monitor='val_loss', patience=5, verbose=1)\n",
    "model.fit(x_train, y_train, epochs=200, batch_size=16, verbose=1, validation_data=(x_valid, y_valid), callbacks=[early_stop])"
   ]
  },
  {
   "cell_type": "code",
   "execution_count": null,
   "metadata": {},
   "outputs": [],
   "source": [
    "# 예측\n",
    "pred = model.predict(test_feature)"
   ]
  },
  {
   "cell_type": "code",
   "execution_count": null,
   "metadata": {},
   "outputs": [
    {
     "data": {
      "image/png": "[encoded data removed]",
      "text/plain": [
       "<Figure size 864x648 with 1 Axes>"
      ]
     },
     "metadata": {
      "needs_background": "light"
     },
     "output_type": "display_data"
    }
   ],
   "source": [
    "\n",
    "\n",
    "plt.figure(figsize=(12, 9))\n",
    "plt.plot(test_label, label='actual')\n",
    "plt.plot(pred, label='prediction')\n",
    "plt.legend()\n",
    "plt.show()"
   ]
  },
  {
   "cell_type": "code",
   "execution_count": null,
   "metadata": {},
   "outputs": [
    {
     "name": "stdout",
     "output_type": "stream",
     "text": [
      "-34.46038658166681\n"
     ]
    }
   ],
   "source": [
    "\n",
    "test_score= r2_score(test_label, pred)\n",
    "print(test_score)"
   ]
  },
  {
   "cell_type": "code",
   "execution_count": null,
   "metadata": {},
   "outputs": [
    {
     "data": {
      "text/html": [
       "<div>\n",
       "<style scoped>\n",
       "    .dataframe tbody tr th:only-of-type {\n",
       "        vertical-align: middle;\n",
       "    }\n",
       "\n",
       "    .dataframe tbody tr th {\n",
       "        vertical-align: top;\n",
       "    }\n",
       "\n",
       "    .dataframe thead th {\n",
       "        text-align: right;\n",
       "    }\n",
       "</style>\n",
       "<table border=\"1\" class=\"dataframe\">\n",
       "  <thead>\n",
       "    <tr style=\"text-align: right;\">\n",
       "      <th></th>\n",
       "      <th>자동차용 경유 가격 (원)</th>\n",
       "      <th>전월비(%)</th>\n",
       "      <th>평균</th>\n",
       "      <th>거래량</th>\n",
       "    </tr>\n",
       "    <tr>\n",
       "      <th>거래년월일</th>\n",
       "      <th></th>\n",
       "      <th></th>\n",
       "      <th></th>\n",
       "      <th></th>\n",
       "    </tr>\n",
       "  </thead>\n",
       "  <tbody>\n",
       "    <tr>\n",
       "      <th>2000-01-01</th>\n",
       "      <td>583.35</td>\n",
       "      <td>4.0</td>\n",
       "      <td>5600.0</td>\n",
       "      <td>102285.0</td>\n",
       "    </tr>\n",
       "    <tr>\n",
       "      <th>2000-01-02</th>\n",
       "      <td>583.35</td>\n",
       "      <td>4.0</td>\n",
       "      <td>5600.0</td>\n",
       "      <td>102285.0</td>\n",
       "    </tr>\n",
       "    <tr>\n",
       "      <th>2000-01-03</th>\n",
       "      <td>583.35</td>\n",
       "      <td>4.0</td>\n",
       "      <td>5600.0</td>\n",
       "      <td>102285.0</td>\n",
       "    </tr>\n",
       "    <tr>\n",
       "      <th>2000-01-04</th>\n",
       "      <td>583.35</td>\n",
       "      <td>4.0</td>\n",
       "      <td>5600.0</td>\n",
       "      <td>715338.0</td>\n",
       "    </tr>\n",
       "    <tr>\n",
       "      <th>2000-01-05</th>\n",
       "      <td>583.35</td>\n",
       "      <td>4.0</td>\n",
       "      <td>5620.0</td>\n",
       "      <td>340568.0</td>\n",
       "    </tr>\n",
       "    <tr>\n",
       "      <th>...</th>\n",
       "      <td>...</td>\n",
       "      <td>...</td>\n",
       "      <td>...</td>\n",
       "      <td>...</td>\n",
       "    </tr>\n",
       "    <tr>\n",
       "      <th>2022-11-26</th>\n",
       "      <td>1879.15</td>\n",
       "      <td>-8.0</td>\n",
       "      <td>6100.0</td>\n",
       "      <td>296250.0</td>\n",
       "    </tr>\n",
       "    <tr>\n",
       "      <th>2022-11-27</th>\n",
       "      <td>1879.15</td>\n",
       "      <td>-8.0</td>\n",
       "      <td>6100.0</td>\n",
       "      <td>296250.0</td>\n",
       "    </tr>\n",
       "    <tr>\n",
       "      <th>2022-11-28</th>\n",
       "      <td>1879.15</td>\n",
       "      <td>-8.0</td>\n",
       "      <td>5664.0</td>\n",
       "      <td>201478.0</td>\n",
       "    </tr>\n",
       "    <tr>\n",
       "      <th>2022-11-29</th>\n",
       "      <td>1879.15</td>\n",
       "      <td>-8.0</td>\n",
       "      <td>5592.0</td>\n",
       "      <td>77130.0</td>\n",
       "    </tr>\n",
       "    <tr>\n",
       "      <th>2022-11-30</th>\n",
       "      <td>1879.15</td>\n",
       "      <td>-8.0</td>\n",
       "      <td>5242.0</td>\n",
       "      <td>119783.0</td>\n",
       "    </tr>\n",
       "  </tbody>\n",
       "</table>\n",
       "<p>8370 rows × 4 columns</p>\n",
       "</div>"
      ],
      "text/plain": [
       "            자동차용 경유 가격 (원)  전월비(%)      평균       거래량\n",
       "거래년월일                                               \n",
       "2000-01-01          583.35     4.0  5600.0  102285.0\n",
       "2000-01-02          583.35     4.0  5600.0  102285.0\n",
       "2000-01-03          583.35     4.0  5600.0  102285.0\n",
       "2000-01-04          583.35     4.0  5600.0  715338.0\n",
       "2000-01-05          583.35     4.0  5620.0  340568.0\n",
       "...                    ...     ...     ...       ...\n",
       "2022-11-26         1879.15    -8.0  6100.0  296250.0\n",
       "2022-11-27         1879.15    -8.0  6100.0  296250.0\n",
       "2022-11-28         1879.15    -8.0  5664.0  201478.0\n",
       "2022-11-29         1879.15    -8.0  5592.0   77130.0\n",
       "2022-11-30         1879.15    -8.0  5242.0  119783.0\n",
       "\n",
       "[8370 rows x 4 columns]"
      ]
     },
     "execution_count": 56,
     "metadata": {},
     "output_type": "execute_result"
    }
   ],
   "source": [
    "df_new= df.set_index('거래년월일')\n",
    "df_new"
   ]
  },
  {
   "cell_type": "code",
   "execution_count": null,
   "metadata": {},
   "outputs": [
    {
     "data": {
      "text/html": [
       "<div>\n",
       "<style scoped>\n",
       "    .dataframe tbody tr th:only-of-type {\n",
       "        vertical-align: middle;\n",
       "    }\n",
       "\n",
       "    .dataframe tbody tr th {\n",
       "        vertical-align: top;\n",
       "    }\n",
       "\n",
       "    .dataframe thead th {\n",
       "        text-align: right;\n",
       "    }\n",
       "</style>\n",
       "<table border=\"1\" class=\"dataframe\">\n",
       "  <thead>\n",
       "    <tr style=\"text-align: right;\">\n",
       "      <th></th>\n",
       "      <th>평균</th>\n",
       "    </tr>\n",
       "    <tr>\n",
       "      <th>구분</th>\n",
       "      <th></th>\n",
       "    </tr>\n",
       "  </thead>\n",
       "  <tbody>\n",
       "    <tr>\n",
       "      <th>2000-01-03</th>\n",
       "      <td>5600.0</td>\n",
       "    </tr>\n",
       "    <tr>\n",
       "      <th>2000-01-04</th>\n",
       "      <td>5600.0</td>\n",
       "    </tr>\n",
       "    <tr>\n",
       "      <th>2000-01-05</th>\n",
       "      <td>5620.0</td>\n",
       "    </tr>\n",
       "    <tr>\n",
       "      <th>2000-01-06</th>\n",
       "      <td>5700.0</td>\n",
       "    </tr>\n",
       "    <tr>\n",
       "      <th>2000-01-07</th>\n",
       "      <td>5670.0</td>\n",
       "    </tr>\n",
       "    <tr>\n",
       "      <th>...</th>\n",
       "      <td>...</td>\n",
       "    </tr>\n",
       "    <tr>\n",
       "      <th>2022-12-14</th>\n",
       "      <td>5430.5</td>\n",
       "    </tr>\n",
       "    <tr>\n",
       "      <th>2022-12-15</th>\n",
       "      <td>5430.5</td>\n",
       "    </tr>\n",
       "    <tr>\n",
       "      <th>2022-12-16</th>\n",
       "      <td>5304.0</td>\n",
       "    </tr>\n",
       "    <tr>\n",
       "      <th>2022-12-19</th>\n",
       "      <td>5459.5</td>\n",
       "    </tr>\n",
       "    <tr>\n",
       "      <th>2022-12-20</th>\n",
       "      <td>5764.0</td>\n",
       "    </tr>\n",
       "  </tbody>\n",
       "</table>\n",
       "<p>5895 rows × 1 columns</p>\n",
       "</div>"
      ],
      "text/plain": [
       "                평균\n",
       "구분                \n",
       "2000-01-03  5600.0\n",
       "2000-01-04  5600.0\n",
       "2000-01-05  5620.0\n",
       "2000-01-06  5700.0\n",
       "2000-01-07  5670.0\n",
       "...            ...\n",
       "2022-12-14  5430.5\n",
       "2022-12-15  5430.5\n",
       "2022-12-16  5304.0\n",
       "2022-12-19  5459.5\n",
       "2022-12-20  5764.0\n",
       "\n",
       "[5895 rows x 1 columns]"
      ]
     },
     "execution_count": 103,
     "metadata": {},
     "output_type": "execute_result"
    }
   ],
   "source": [
    "df_new2= pd.read_csv('data/price/price_baechoo.csv')\n",
    "df_new2= df_new2.set_index('구분')\n",
    "df_new2"
   ]
  },
  {
   "cell_type": "code",
   "execution_count": null,
   "metadata": {},
   "outputs": [],
   "source": [
    "from sklearn.preprocessing import MinMaxScaler, StandardScaler\n",
    "\n",
    "scaler= MinMaxScaler()\n",
    "scaler1= MinMaxScaler()\n",
    "\n",
    "feature= df_new[['자동차용 경유 가격 (원)', '전월비(%)', '거래량']]\n",
    "target= df_new[['평균']]\n",
    "\n",
    "feature_fit= scaler.fit(feature)\n",
    "feature_sc= feature_fit.transform(feature)\n",
    "\n",
    "target_fit= scaler1.fit(target)\n",
    "target_sc= target_fit.transform(target)"
   ]
  },
  {
   "cell_type": "code",
   "execution_count": null,
   "metadata": {},
   "outputs": [
    {
     "name": "stdout",
     "output_type": "stream",
     "text": [
      "[[1879.15, -8.0, 909340.0], [1879.15, -8.0, 714993.0], [1879.15, -8.0, 1079776.0], [1879.15, -8.0, 296250.0], [1879.15, -8.0, 296250.0], [1879.15, -8.0, 201478.0], [1879.15, -8.0, 77130.0]] -> [5242.0]\n"
     ]
    }
   ],
   "source": [
    "X=feature.values.tolist()\n",
    "y=feature.values.tolist()\n",
    "\n",
    "window_size = 7\n",
    "\n",
    "data_X = []\n",
    "data_y = []\n",
    "for i in range(len(y) - window_size):\n",
    "    _X = X[i : i + window_size] # 다음 날 종가(i+windows_size)는 포함되지 않음\n",
    "    _y = y[i + window_size]     # 다음 날 종가\n",
    "    data_X.append(_X)\n",
    "    data_y.append(_y)\n",
    "print(_X, \"->\", _y)"
   ]
  },
  {
   "cell_type": "code",
   "execution_count": null,
   "metadata": {},
   "outputs": [
    {
     "data": {
      "text/html": [
       "<div>\n",
       "<style scoped>\n",
       "    .dataframe tbody tr th:only-of-type {\n",
       "        vertical-align: middle;\n",
       "    }\n",
       "\n",
       "    .dataframe tbody tr th {\n",
       "        vertical-align: top;\n",
       "    }\n",
       "\n",
       "    .dataframe thead th {\n",
       "        text-align: right;\n",
       "    }\n",
       "</style>\n",
       "<table border=\"1\" class=\"dataframe\">\n",
       "  <thead>\n",
       "    <tr style=\"text-align: right;\">\n",
       "      <th></th>\n",
       "      <th>평균</th>\n",
       "    </tr>\n",
       "    <tr>\n",
       "      <th>구분</th>\n",
       "      <th></th>\n",
       "    </tr>\n",
       "  </thead>\n",
       "  <tbody>\n",
       "    <tr>\n",
       "      <th>2000-01-03</th>\n",
       "      <td>5600.0</td>\n",
       "    </tr>\n",
       "    <tr>\n",
       "      <th>2000-01-04</th>\n",
       "      <td>5600.0</td>\n",
       "    </tr>\n",
       "    <tr>\n",
       "      <th>2000-01-05</th>\n",
       "      <td>5620.0</td>\n",
       "    </tr>\n",
       "    <tr>\n",
       "      <th>2000-01-06</th>\n",
       "      <td>5700.0</td>\n",
       "    </tr>\n",
       "    <tr>\n",
       "      <th>2000-01-07</th>\n",
       "      <td>5670.0</td>\n",
       "    </tr>\n",
       "    <tr>\n",
       "      <th>...</th>\n",
       "      <td>...</td>\n",
       "    </tr>\n",
       "    <tr>\n",
       "      <th>2022-11-24</th>\n",
       "      <td>6100.0</td>\n",
       "    </tr>\n",
       "    <tr>\n",
       "      <th>2022-11-25</th>\n",
       "      <td>6100.0</td>\n",
       "    </tr>\n",
       "    <tr>\n",
       "      <th>2022-11-28</th>\n",
       "      <td>5664.0</td>\n",
       "    </tr>\n",
       "    <tr>\n",
       "      <th>2022-11-29</th>\n",
       "      <td>5592.0</td>\n",
       "    </tr>\n",
       "    <tr>\n",
       "      <th>2022-11-30</th>\n",
       "      <td>5242.0</td>\n",
       "    </tr>\n",
       "  </tbody>\n",
       "</table>\n",
       "<p>5882 rows × 1 columns</p>\n",
       "</div>"
      ],
      "text/plain": [
       "                평균\n",
       "구분                \n",
       "2000-01-03  5600.0\n",
       "2000-01-04  5600.0\n",
       "2000-01-05  5620.0\n",
       "2000-01-06  5700.0\n",
       "2000-01-07  5670.0\n",
       "...            ...\n",
       "2022-11-24  6100.0\n",
       "2022-11-25  6100.0\n",
       "2022-11-28  5664.0\n",
       "2022-11-29  5592.0\n",
       "2022-11-30  5242.0\n",
       "\n",
       "[5882 rows x 1 columns]"
      ]
     },
     "execution_count": 128,
     "metadata": {},
     "output_type": "execute_result"
    }
   ],
   "source": [
    "df_new2_copy= df_new2[df_new2.index < '2022-12-01']\n",
    "df_new2_copy"
   ]
  },
  {
   "cell_type": "code",
   "execution_count": null,
   "metadata": {},
   "outputs": [
    {
     "name": "stdout",
     "output_type": "stream",
     "text": [
      "[[6260.0], [6100.0], [6100.0], [6100.0], [5664.0], [5592.0]] -> [5242.0]\n"
     ]
    }
   ],
   "source": [
    "pr= df_new2_copy.values.tolist()\n",
    "\n",
    "window_size= 6\n",
    "\n",
    "pr_X = []\n",
    "pr_y = []\n",
    "for i in range(len(pr) - window_size):\n",
    "    _X = pr[i : i + window_size] # 다음 날 종가(i+windows_size)는 포함되지 않음\n",
    "    _y = pr[i + window_size]     # 다음 날 종가\n",
    "    pr_X.append(_X)\n",
    "    pr_y.append(_y)\n",
    "print(_X, \"->\", _y)"
   ]
  },
  {
   "cell_type": "code",
   "execution_count": null,
   "metadata": {},
   "outputs": [
    {
     "name": "stdout",
     "output_type": "stream",
     "text": [
      "훈련 데이터의 크기 : (5854, 7, 3) (5854, 1)\n",
      "테스트 데이터의 크기 : (2509, 7, 3) (2509, 1)\n"
     ]
    }
   ],
   "source": [
    "train_size = int(len(data_y) * 0.7)\n",
    "train_X = np.array(data_X[0 : train_size])\n",
    "train_y = np.array(data_y[0 : train_size])\n",
    "\n",
    "test_size = len(data_y) - train_size\n",
    "test_X = np.array(data_X[train_size : len(data_X)])\n",
    "test_y = np.array(data_y[train_size : len(data_y)])\n",
    "\n",
    "print('훈련 데이터의 크기 :', train_X.shape, train_y.shape)\n",
    "print('테스트 데이터의 크기 :', test_X.shape, test_y.shape)"
   ]
  },
  {
   "cell_type": "code",
   "execution_count": null,
   "metadata": {},
   "outputs": [],
   "source": [
    "X_tr, X_te, y_tr, y_te = train_test_split(pr_X, pr_y, test_size=0.2, random_state=0)"
   ]
  },
  {
   "cell_type": "code",
   "execution_count": null,
   "metadata": {},
   "outputs": [],
   "source": [
    "model = Sequential()\n",
    "model.add(LSTM(units=20, activation='relu', input_shape=(7, 3)))\n",
    "model.add(Dense(units=1))\n",
    "model.compile(optimizer='adam', loss='mean_squared_error')"
   ]
  },
  {
   "cell_type": "code",
   "execution_count": null,
   "metadata": {},
   "outputs": [
    {
     "name": "stdout",
     "output_type": "stream",
     "text": [
      "Epoch 1/70\n",
      "196/196 [==============================] - 3s 4ms/step - loss: 34282010624.0000\n",
      "Epoch 2/70\n",
      "196/196 [==============================] - 1s 4ms/step - loss: 5845220352.0000\n",
      "Epoch 3/70\n",
      "196/196 [==============================] - 1s 4ms/step - loss: 845463104.0000\n",
      "Epoch 4/70\n",
      "196/196 [==============================] - 1s 4ms/step - loss: 779369536.0000\n",
      "Epoch 5/70\n",
      "196/196 [==============================] - 1s 4ms/step - loss: 639168640.0000\n",
      "Epoch 6/70\n",
      "196/196 [==============================] - 1s 4ms/step - loss: 376537120.0000\n",
      "Epoch 7/70\n",
      "196/196 [==============================] - 1s 4ms/step - loss: 270749632.0000\n",
      "Epoch 8/70\n",
      "196/196 [==============================] - 1s 3ms/step - loss: 238332528.0000\n",
      "Epoch 9/70\n",
      "196/196 [==============================] - 1s 3ms/step - loss: 259020656.0000\n",
      "Epoch 10/70\n",
      " 30/196 [===>..........................] - ETA: 0s - loss: 237694016.0000"
     ]
    },
    {
     "ename": "KeyboardInterrupt",
     "evalue": "",
     "output_type": "error",
     "traceback": [
      "\u001b[1;31m---------------------------------------------------------------------------\u001b[0m",
      "\u001b[1;31mKeyboardInterrupt\u001b[0m                         Traceback (most recent call last)",
      "\u001b[1;32mc:\\Users\\LG-PC\\OneDrive\\문서\\GitHub\\Final_Predict_Agricultural\\test.ipynb Cell 48\u001b[0m in \u001b[0;36m<cell line: 2>\u001b[1;34m()\u001b[0m\n\u001b[0;32m      <a href='vscode-notebook-cell:/c%3A/Users/LG-PC/OneDrive/%EB%AC%B8%EC%84%9C/GitHub/Final_Predict_Agricultural/test.ipynb#Y110sZmlsZQ%3D%3D?line=0'>1</a>\u001b[0m early_stop \u001b[39m=\u001b[39m EarlyStopping(monitor\u001b[39m=\u001b[39m\u001b[39m'\u001b[39m\u001b[39mloss\u001b[39m\u001b[39m'\u001b[39m, patience\u001b[39m=\u001b[39m\u001b[39m5\u001b[39m, verbose\u001b[39m=\u001b[39m\u001b[39m1\u001b[39m)\n\u001b[1;32m----> <a href='vscode-notebook-cell:/c%3A/Users/LG-PC/OneDrive/%EB%AC%B8%EC%84%9C/GitHub/Final_Predict_Agricultural/test.ipynb#Y110sZmlsZQ%3D%3D?line=1'>2</a>\u001b[0m model\u001b[39m.\u001b[39;49mfit(train_X, train_y, epochs\u001b[39m=\u001b[39;49m\u001b[39m70\u001b[39;49m, batch_size\u001b[39m=\u001b[39;49m\u001b[39m30\u001b[39;49m, callbacks\u001b[39m=\u001b[39;49m[early_stop])\n",
      "File \u001b[1;32mc:\\Users\\LG-PC\\anaconda3\\lib\\site-packages\\keras\\utils\\traceback_utils.py:64\u001b[0m, in \u001b[0;36mfilter_traceback.<locals>.error_handler\u001b[1;34m(*args, **kwargs)\u001b[0m\n\u001b[0;32m     62\u001b[0m filtered_tb \u001b[39m=\u001b[39m \u001b[39mNone\u001b[39;00m\n\u001b[0;32m     63\u001b[0m \u001b[39mtry\u001b[39;00m:\n\u001b[1;32m---> 64\u001b[0m   \u001b[39mreturn\u001b[39;00m fn(\u001b[39m*\u001b[39margs, \u001b[39m*\u001b[39m\u001b[39m*\u001b[39mkwargs)\n\u001b[0;32m     65\u001b[0m \u001b[39mexcept\u001b[39;00m \u001b[39mException\u001b[39;00m \u001b[39mas\u001b[39;00m e:  \u001b[39m# pylint: disable=broad-except\u001b[39;00m\n\u001b[0;32m     66\u001b[0m   filtered_tb \u001b[39m=\u001b[39m _process_traceback_frames(e\u001b[39m.\u001b[39m__traceback__)\n",
      "File \u001b[1;32mc:\\Users\\LG-PC\\anaconda3\\lib\\site-packages\\keras\\engine\\training.py:1216\u001b[0m, in \u001b[0;36mModel.fit\u001b[1;34m(self, x, y, batch_size, epochs, verbose, callbacks, validation_split, validation_data, shuffle, class_weight, sample_weight, initial_epoch, steps_per_epoch, validation_steps, validation_batch_size, validation_freq, max_queue_size, workers, use_multiprocessing)\u001b[0m\n\u001b[0;32m   1209\u001b[0m \u001b[39mwith\u001b[39;00m tf\u001b[39m.\u001b[39mprofiler\u001b[39m.\u001b[39mexperimental\u001b[39m.\u001b[39mTrace(\n\u001b[0;32m   1210\u001b[0m     \u001b[39m'\u001b[39m\u001b[39mtrain\u001b[39m\u001b[39m'\u001b[39m,\n\u001b[0;32m   1211\u001b[0m     epoch_num\u001b[39m=\u001b[39mepoch,\n\u001b[0;32m   1212\u001b[0m     step_num\u001b[39m=\u001b[39mstep,\n\u001b[0;32m   1213\u001b[0m     batch_size\u001b[39m=\u001b[39mbatch_size,\n\u001b[0;32m   1214\u001b[0m     _r\u001b[39m=\u001b[39m\u001b[39m1\u001b[39m):\n\u001b[0;32m   1215\u001b[0m   callbacks\u001b[39m.\u001b[39mon_train_batch_begin(step)\n\u001b[1;32m-> 1216\u001b[0m   tmp_logs \u001b[39m=\u001b[39m \u001b[39mself\u001b[39;49m\u001b[39m.\u001b[39;49mtrain_function(iterator)\n\u001b[0;32m   1217\u001b[0m   \u001b[39mif\u001b[39;00m data_handler\u001b[39m.\u001b[39mshould_sync:\n\u001b[0;32m   1218\u001b[0m     context\u001b[39m.\u001b[39masync_wait()\n",
      "File \u001b[1;32mc:\\Users\\LG-PC\\anaconda3\\lib\\site-packages\\tensorflow\\python\\util\\traceback_utils.py:150\u001b[0m, in \u001b[0;36mfilter_traceback.<locals>.error_handler\u001b[1;34m(*args, **kwargs)\u001b[0m\n\u001b[0;32m    148\u001b[0m filtered_tb \u001b[39m=\u001b[39m \u001b[39mNone\u001b[39;00m\n\u001b[0;32m    149\u001b[0m \u001b[39mtry\u001b[39;00m:\n\u001b[1;32m--> 150\u001b[0m   \u001b[39mreturn\u001b[39;00m fn(\u001b[39m*\u001b[39margs, \u001b[39m*\u001b[39m\u001b[39m*\u001b[39mkwargs)\n\u001b[0;32m    151\u001b[0m \u001b[39mexcept\u001b[39;00m \u001b[39mException\u001b[39;00m \u001b[39mas\u001b[39;00m e:\n\u001b[0;32m    152\u001b[0m   filtered_tb \u001b[39m=\u001b[39m _process_traceback_frames(e\u001b[39m.\u001b[39m__traceback__)\n",
      "File \u001b[1;32mc:\\Users\\LG-PC\\anaconda3\\lib\\site-packages\\tensorflow\\python\\eager\\def_function.py:910\u001b[0m, in \u001b[0;36mFunction.__call__\u001b[1;34m(self, *args, **kwds)\u001b[0m\n\u001b[0;32m    907\u001b[0m compiler \u001b[39m=\u001b[39m \u001b[39m\"\u001b[39m\u001b[39mxla\u001b[39m\u001b[39m\"\u001b[39m \u001b[39mif\u001b[39;00m \u001b[39mself\u001b[39m\u001b[39m.\u001b[39m_jit_compile \u001b[39melse\u001b[39;00m \u001b[39m\"\u001b[39m\u001b[39mnonXla\u001b[39m\u001b[39m\"\u001b[39m\n\u001b[0;32m    909\u001b[0m \u001b[39mwith\u001b[39;00m OptionalXlaContext(\u001b[39mself\u001b[39m\u001b[39m.\u001b[39m_jit_compile):\n\u001b[1;32m--> 910\u001b[0m   result \u001b[39m=\u001b[39m \u001b[39mself\u001b[39m\u001b[39m.\u001b[39m_call(\u001b[39m*\u001b[39margs, \u001b[39m*\u001b[39m\u001b[39m*\u001b[39mkwds)\n\u001b[0;32m    912\u001b[0m new_tracing_count \u001b[39m=\u001b[39m \u001b[39mself\u001b[39m\u001b[39m.\u001b[39mexperimental_get_tracing_count()\n\u001b[0;32m    913\u001b[0m without_tracing \u001b[39m=\u001b[39m (tracing_count \u001b[39m==\u001b[39m new_tracing_count)\n",
      "File \u001b[1;32mc:\\Users\\LG-PC\\anaconda3\\lib\\site-packages\\tensorflow\\python\\eager\\def_function.py:942\u001b[0m, in \u001b[0;36mFunction._call\u001b[1;34m(self, *args, **kwds)\u001b[0m\n\u001b[0;32m    939\u001b[0m   \u001b[39mself\u001b[39m\u001b[39m.\u001b[39m_lock\u001b[39m.\u001b[39mrelease()\n\u001b[0;32m    940\u001b[0m   \u001b[39m# In this case we have created variables on the first call, so we run the\u001b[39;00m\n\u001b[0;32m    941\u001b[0m   \u001b[39m# defunned version which is guaranteed to never create variables.\u001b[39;00m\n\u001b[1;32m--> 942\u001b[0m   \u001b[39mreturn\u001b[39;00m \u001b[39mself\u001b[39m\u001b[39m.\u001b[39m_stateless_fn(\u001b[39m*\u001b[39margs, \u001b[39m*\u001b[39m\u001b[39m*\u001b[39mkwds)  \u001b[39m# pylint: disable=not-callable\u001b[39;00m\n\u001b[0;32m    943\u001b[0m \u001b[39melif\u001b[39;00m \u001b[39mself\u001b[39m\u001b[39m.\u001b[39m_stateful_fn \u001b[39mis\u001b[39;00m \u001b[39mnot\u001b[39;00m \u001b[39mNone\u001b[39;00m:\n\u001b[0;32m    944\u001b[0m   \u001b[39m# Release the lock early so that multiple threads can perform the call\u001b[39;00m\n\u001b[0;32m    945\u001b[0m   \u001b[39m# in parallel.\u001b[39;00m\n\u001b[0;32m    946\u001b[0m   \u001b[39mself\u001b[39m\u001b[39m.\u001b[39m_lock\u001b[39m.\u001b[39mrelease()\n",
      "File \u001b[1;32mc:\\Users\\LG-PC\\anaconda3\\lib\\site-packages\\tensorflow\\python\\eager\\function.py:3130\u001b[0m, in \u001b[0;36mFunction.__call__\u001b[1;34m(self, *args, **kwargs)\u001b[0m\n\u001b[0;32m   3127\u001b[0m \u001b[39mwith\u001b[39;00m \u001b[39mself\u001b[39m\u001b[39m.\u001b[39m_lock:\n\u001b[0;32m   3128\u001b[0m   (graph_function,\n\u001b[0;32m   3129\u001b[0m    filtered_flat_args) \u001b[39m=\u001b[39m \u001b[39mself\u001b[39m\u001b[39m.\u001b[39m_maybe_define_function(args, kwargs)\n\u001b[1;32m-> 3130\u001b[0m \u001b[39mreturn\u001b[39;00m graph_function\u001b[39m.\u001b[39;49m_call_flat(\n\u001b[0;32m   3131\u001b[0m     filtered_flat_args, captured_inputs\u001b[39m=\u001b[39;49mgraph_function\u001b[39m.\u001b[39;49mcaptured_inputs)\n",
      "File \u001b[1;32mc:\\Users\\LG-PC\\anaconda3\\lib\\site-packages\\tensorflow\\python\\eager\\function.py:1959\u001b[0m, in \u001b[0;36mConcreteFunction._call_flat\u001b[1;34m(self, args, captured_inputs, cancellation_manager)\u001b[0m\n\u001b[0;32m   1955\u001b[0m possible_gradient_type \u001b[39m=\u001b[39m gradients_util\u001b[39m.\u001b[39mPossibleTapeGradientTypes(args)\n\u001b[0;32m   1956\u001b[0m \u001b[39mif\u001b[39;00m (possible_gradient_type \u001b[39m==\u001b[39m gradients_util\u001b[39m.\u001b[39mPOSSIBLE_GRADIENT_TYPES_NONE\n\u001b[0;32m   1957\u001b[0m     \u001b[39mand\u001b[39;00m executing_eagerly):\n\u001b[0;32m   1958\u001b[0m   \u001b[39m# No tape is watching; skip to running the function.\u001b[39;00m\n\u001b[1;32m-> 1959\u001b[0m   \u001b[39mreturn\u001b[39;00m \u001b[39mself\u001b[39m\u001b[39m.\u001b[39m_build_call_outputs(\u001b[39mself\u001b[39;49m\u001b[39m.\u001b[39;49m_inference_function\u001b[39m.\u001b[39;49mcall(\n\u001b[0;32m   1960\u001b[0m       ctx, args, cancellation_manager\u001b[39m=\u001b[39;49mcancellation_manager))\n\u001b[0;32m   1961\u001b[0m forward_backward \u001b[39m=\u001b[39m \u001b[39mself\u001b[39m\u001b[39m.\u001b[39m_select_forward_and_backward_functions(\n\u001b[0;32m   1962\u001b[0m     args,\n\u001b[0;32m   1963\u001b[0m     possible_gradient_type,\n\u001b[0;32m   1964\u001b[0m     executing_eagerly)\n\u001b[0;32m   1965\u001b[0m forward_function, args_with_tangents \u001b[39m=\u001b[39m forward_backward\u001b[39m.\u001b[39mforward()\n",
      "File \u001b[1;32mc:\\Users\\LG-PC\\anaconda3\\lib\\site-packages\\tensorflow\\python\\eager\\function.py:598\u001b[0m, in \u001b[0;36m_EagerDefinedFunction.call\u001b[1;34m(self, ctx, args, cancellation_manager)\u001b[0m\n\u001b[0;32m    596\u001b[0m \u001b[39mwith\u001b[39;00m _InterpolateFunctionError(\u001b[39mself\u001b[39m):\n\u001b[0;32m    597\u001b[0m   \u001b[39mif\u001b[39;00m cancellation_manager \u001b[39mis\u001b[39;00m \u001b[39mNone\u001b[39;00m:\n\u001b[1;32m--> 598\u001b[0m     outputs \u001b[39m=\u001b[39m execute\u001b[39m.\u001b[39;49mexecute(\n\u001b[0;32m    599\u001b[0m         \u001b[39mstr\u001b[39;49m(\u001b[39mself\u001b[39;49m\u001b[39m.\u001b[39;49msignature\u001b[39m.\u001b[39;49mname),\n\u001b[0;32m    600\u001b[0m         num_outputs\u001b[39m=\u001b[39;49m\u001b[39mself\u001b[39;49m\u001b[39m.\u001b[39;49m_num_outputs,\n\u001b[0;32m    601\u001b[0m         inputs\u001b[39m=\u001b[39;49margs,\n\u001b[0;32m    602\u001b[0m         attrs\u001b[39m=\u001b[39;49mattrs,\n\u001b[0;32m    603\u001b[0m         ctx\u001b[39m=\u001b[39;49mctx)\n\u001b[0;32m    604\u001b[0m   \u001b[39melse\u001b[39;00m:\n\u001b[0;32m    605\u001b[0m     outputs \u001b[39m=\u001b[39m execute\u001b[39m.\u001b[39mexecute_with_cancellation(\n\u001b[0;32m    606\u001b[0m         \u001b[39mstr\u001b[39m(\u001b[39mself\u001b[39m\u001b[39m.\u001b[39msignature\u001b[39m.\u001b[39mname),\n\u001b[0;32m    607\u001b[0m         num_outputs\u001b[39m=\u001b[39m\u001b[39mself\u001b[39m\u001b[39m.\u001b[39m_num_outputs,\n\u001b[1;32m   (...)\u001b[0m\n\u001b[0;32m    610\u001b[0m         ctx\u001b[39m=\u001b[39mctx,\n\u001b[0;32m    611\u001b[0m         cancellation_manager\u001b[39m=\u001b[39mcancellation_manager)\n",
      "File \u001b[1;32mc:\\Users\\LG-PC\\anaconda3\\lib\\site-packages\\tensorflow\\python\\eager\\execute.py:58\u001b[0m, in \u001b[0;36mquick_execute\u001b[1;34m(op_name, num_outputs, inputs, attrs, ctx, name)\u001b[0m\n\u001b[0;32m     56\u001b[0m \u001b[39mtry\u001b[39;00m:\n\u001b[0;32m     57\u001b[0m   ctx\u001b[39m.\u001b[39mensure_initialized()\n\u001b[1;32m---> 58\u001b[0m   tensors \u001b[39m=\u001b[39m pywrap_tfe\u001b[39m.\u001b[39;49mTFE_Py_Execute(ctx\u001b[39m.\u001b[39;49m_handle, device_name, op_name,\n\u001b[0;32m     59\u001b[0m                                       inputs, attrs, num_outputs)\n\u001b[0;32m     60\u001b[0m \u001b[39mexcept\u001b[39;00m core\u001b[39m.\u001b[39m_NotOkStatusException \u001b[39mas\u001b[39;00m e:\n\u001b[0;32m     61\u001b[0m   \u001b[39mif\u001b[39;00m name \u001b[39mis\u001b[39;00m \u001b[39mnot\u001b[39;00m \u001b[39mNone\u001b[39;00m:\n",
      "\u001b[1;31mKeyboardInterrupt\u001b[0m: "
     ]
    }
   ],
   "source": [
    "early_stop = EarlyStopping(monitor='loss', patience=5, verbose=1)\n",
    "model.fit(train_X, train_y, epochs=70, batch_size=30, callbacks=[early_stop])"
   ]
  },
  {
   "cell_type": "code",
   "execution_count": null,
   "metadata": {},
   "outputs": [],
   "source": [
    "model2 = Sequential()\n",
    "model2.add(LSTM(units=20, activation='relu', input_shape=(6, 1)))\n",
    "model2.add(Dense(units=1))\n",
    "model2.compile(optimizer='adam', loss='mean_squared_error')"
   ]
  },
  {
   "cell_type": "code",
   "execution_count": null,
   "metadata": {},
   "outputs": [
    {
     "name": "stdout",
     "output_type": "stream",
     "text": [
      "Epoch 1/70\n",
      "157/157 [==============================] - 4s 2ms/step - loss: 78689040.0000\n",
      "Epoch 2/70\n",
      "157/157 [==============================] - 0s 2ms/step - loss: 1646409.1250\n",
      "Epoch 3/70\n",
      "157/157 [==============================] - 0s 2ms/step - loss: 911679.5000\n",
      "Epoch 4/70\n",
      "157/157 [==============================] - 0s 2ms/step - loss: 754652.6250\n",
      "Epoch 5/70\n",
      "157/157 [==============================] - 0s 3ms/step - loss: 692939.0625\n",
      "Epoch 6/70\n",
      "157/157 [==============================] - 1s 3ms/step - loss: 859311.4375: 0s - loss: \n",
      "Epoch 7/70\n",
      "157/157 [==============================] - 0s 3ms/step - loss: 637449.3750\n",
      "Epoch 8/70\n",
      "157/157 [==============================] - 0s 3ms/step - loss: 725954.7500\n",
      "Epoch 9/70\n",
      "157/157 [==============================] - 1s 3ms/step - loss: 1376395.3750\n",
      "Epoch 10/70\n",
      "157/157 [==============================] - 0s 3ms/step - loss: 790330.6875\n",
      "Epoch 11/70\n",
      "157/157 [==============================] - 0s 3ms/step - loss: 943324.3750\n",
      "Epoch 12/70\n",
      "157/157 [==============================] - 0s 2ms/step - loss: 930530.1250\n",
      "Epoch 00012: early stopping\n"
     ]
    },
    {
     "data": {
      "text/plain": [
       "<keras.callbacks.History at 0x2042173a430>"
      ]
     },
     "execution_count": 132,
     "metadata": {},
     "output_type": "execute_result"
    }
   ],
   "source": [
    "early_stop = EarlyStopping(monitor='loss', patience=5, verbose=1)\n",
    "model2.fit(X_tr, y_tr, epochs=70, batch_size=30, callbacks=[early_stop])"
   ]
  },
  {
   "cell_type": "code",
   "execution_count": null,
   "metadata": {},
   "outputs": [],
   "source": [
    "pred_y = model2.predict(X_te)"
   ]
  },
  {
   "cell_type": "code",
   "execution_count": null,
   "metadata": {},
   "outputs": [
    {
     "name": "stderr",
     "output_type": "stream",
     "text": [
      "WARNING:matplotlib.legend:No artists with labels found to put in legend.  Note that artists whose label start with an underscore are ignored when legend() is called with no argument.\n"
     ]
    },
    {
     "data": {
      "image/png": "[encoded data removed]",
      "text/plain": [
       "<Figure size 432x288 with 1 Axes>"
      ]
     },
     "metadata": {
      "needs_background": "light"
     },
     "output_type": "display_data"
    }
   ],
   "source": [
    "plt.figure()\n",
    "plt.plot(y_te, color='red')\n",
    "plt.plot(pred_y, color='blue')\n",
    "plt.legend()\n",
    "plt.show()"
   ]
  },
  {
   "cell_type": "code",
   "execution_count": null,
   "metadata": {},
   "outputs": [
    {
     "name": "stdout",
     "output_type": "stream",
     "text": [
      "0.9604748109410501\n"
     ]
    }
   ],
   "source": [
    "from sklearn.metrics import r2_score\n",
    "\n",
    "test_score= r2_score(y_te, pred_y)\n",
    "print(test_score)"
   ]
  },
  {
   "cell_type": "code",
   "execution_count": null,
   "metadata": {},
   "outputs": [],
   "source": [
    "df_new2_test= df_new2[df_new2.index >= '2022-12-01']"
   ]
  },
  {
   "cell_type": "code",
   "execution_count": null,
   "metadata": {},
   "outputs": [
    {
     "data": {
      "text/html": [
       "<div>\n",
       "<style scoped>\n",
       "    .dataframe tbody tr th:only-of-type {\n",
       "        vertical-align: middle;\n",
       "    }\n",
       "\n",
       "    .dataframe tbody tr th {\n",
       "        vertical-align: top;\n",
       "    }\n",
       "\n",
       "    .dataframe thead th {\n",
       "        text-align: right;\n",
       "    }\n",
       "</style>\n",
       "<table border=\"1\" class=\"dataframe\">\n",
       "  <thead>\n",
       "    <tr style=\"text-align: right;\">\n",
       "      <th></th>\n",
       "      <th>평균</th>\n",
       "    </tr>\n",
       "    <tr>\n",
       "      <th>구분</th>\n",
       "      <th></th>\n",
       "    </tr>\n",
       "  </thead>\n",
       "  <tbody>\n",
       "    <tr>\n",
       "      <th>2022-12-01</th>\n",
       "      <td>5462.0</td>\n",
       "    </tr>\n",
       "    <tr>\n",
       "      <th>2022-12-05</th>\n",
       "      <td>5982.0</td>\n",
       "    </tr>\n",
       "    <tr>\n",
       "      <th>2022-12-06</th>\n",
       "      <td>5502.0</td>\n",
       "    </tr>\n",
       "    <tr>\n",
       "      <th>2022-12-07</th>\n",
       "      <td>5488.0</td>\n",
       "    </tr>\n",
       "    <tr>\n",
       "      <th>2022-12-08</th>\n",
       "      <td>5408.0</td>\n",
       "    </tr>\n",
       "    <tr>\n",
       "      <th>2022-12-09</th>\n",
       "      <td>5408.0</td>\n",
       "    </tr>\n",
       "    <tr>\n",
       "      <th>2022-12-12</th>\n",
       "      <td>5244.5</td>\n",
       "    </tr>\n",
       "    <tr>\n",
       "      <th>2022-12-13</th>\n",
       "      <td>5245.5</td>\n",
       "    </tr>\n",
       "    <tr>\n",
       "      <th>2022-12-14</th>\n",
       "      <td>5430.5</td>\n",
       "    </tr>\n",
       "    <tr>\n",
       "      <th>2022-12-15</th>\n",
       "      <td>5430.5</td>\n",
       "    </tr>\n",
       "    <tr>\n",
       "      <th>2022-12-16</th>\n",
       "      <td>5304.0</td>\n",
       "    </tr>\n",
       "    <tr>\n",
       "      <th>2022-12-19</th>\n",
       "      <td>5459.5</td>\n",
       "    </tr>\n",
       "    <tr>\n",
       "      <th>2022-12-20</th>\n",
       "      <td>5764.0</td>\n",
       "    </tr>\n",
       "  </tbody>\n",
       "</table>\n",
       "</div>"
      ],
      "text/plain": [
       "                평균\n",
       "구분                \n",
       "2022-12-01  5462.0\n",
       "2022-12-05  5982.0\n",
       "2022-12-06  5502.0\n",
       "2022-12-07  5488.0\n",
       "2022-12-08  5408.0\n",
       "2022-12-09  5408.0\n",
       "2022-12-12  5244.5\n",
       "2022-12-13  5245.5\n",
       "2022-12-14  5430.5\n",
       "2022-12-15  5430.5\n",
       "2022-12-16  5304.0\n",
       "2022-12-19  5459.5\n",
       "2022-12-20  5764.0"
      ]
     },
     "execution_count": 142,
     "metadata": {},
     "output_type": "execute_result"
    }
   ],
   "source": [
    "df_new2_test"
   ]
  },
  {
   "cell_type": "code",
   "execution_count": null,
   "metadata": {},
   "outputs": [
    {
     "name": "stdout",
     "output_type": "stream",
     "text": [
      "[[5244.5], [5245.5], [5430.5], [5430.5], [5304.0], [5459.5]] -> [5764.0]\n"
     ]
    }
   ],
   "source": [
    "#12월 1일 ~ 12월 20일\n",
    "\n",
    "pr_test= df_new2_test.values.tolist()\n",
    "\n",
    "window_size= 6\n",
    "\n",
    "pr_X_test = []\n",
    "pr_y_test = []\n",
    "for i in range(len(pr_test) - window_size):\n",
    "    _X = pr_test[i : i + window_size] # 다음 날 종가(i+windows_size)는 포함되지 않음\n",
    "    _y = pr_test[i + window_size]     # 다음 날 종가\n",
    "    pr_X_test.append(_X)\n",
    "    pr_y_test.append(_y)\n",
    "print(_X, \"->\", _y)\n"
   ]
  },
  {
   "cell_type": "code",
   "execution_count": null,
   "metadata": {},
   "outputs": [],
   "source": []
  },
  {
   "cell_type": "code",
   "execution_count": null,
   "metadata": {},
   "outputs": [
    {
     "data": {
      "text/plain": [
       "((7, 6, 1), (7, 1))"
      ]
     },
     "execution_count": 146,
     "metadata": {},
     "output_type": "execute_result"
    }
   ],
   "source": [
    "pr_test_X= np.array(pr_X_test)\n",
    "pr_test_y= np.array(pr_y_test)\n",
    "\n",
    "pr_test_X.shape, pr_test_y.shape"
   ]
  },
  {
   "cell_type": "code",
   "execution_count": null,
   "metadata": {},
   "outputs": [],
   "source": [
    "pred_pr_y= model2.predict(pr_test_X)"
   ]
  },
  {
   "cell_type": "code",
   "execution_count": null,
   "metadata": {},
   "outputs": [
    {
     "name": "stderr",
     "output_type": "stream",
     "text": [
      "WARNING:matplotlib.legend:No artists with labels found to put in legend.  Note that artists whose label start with an underscore are ignored when legend() is called with no argument.\n"
     ]
    },
    {
     "data": {
      "image/png": "[encoded data removed]",
      "text/plain": [
       "<Figure size 432x288 with 1 Axes>"
      ]
     },
     "metadata": {
      "needs_background": "light"
     },
     "output_type": "display_data"
    }
   ],
   "source": [
    "plt.figure()\n",
    "plt.plot(pr_test_y, color='red')\n",
    "plt.plot(pred_pr_y, color='blue')\n",
    "plt.legend()\n",
    "plt.show()"
   ]
  },
  {
   "cell_type": "code",
   "execution_count": null,
   "metadata": {},
   "outputs": [
    {
     "name": "stdout",
     "output_type": "stream",
     "text": [
      "[-3.72210992]\n",
      "[-3.1379203]\n",
      "[2.33740203]\n",
      "[2.5861238]\n",
      "[0.3429292]\n",
      "[3.12248682]\n",
      "[7.91922893]\n"
     ]
    }
   ],
   "source": [
    "for i in range(len(pr_test_y)):\n",
    "    print((pr_test_y[i]-pred_pr_y[i])/pr_test_y[i]*100)"
   ]
  },
  {
   "cell_type": "code",
   "execution_count": null,
   "metadata": {},
   "outputs": [
    {
     "data": {
      "text/plain": [
       "array([[5439.706 ],\n",
       "       [5410.0996],\n",
       "       [5303.5674],\n",
       "       [5290.0605],\n",
       "       [5285.811 ],\n",
       "       [5289.028 ],\n",
       "       [5307.5356]], dtype=float32)"
      ]
     },
     "execution_count": 150,
     "metadata": {},
     "output_type": "execute_result"
    }
   ],
   "source": [
    "pred_pr_y"
   ]
  },
  {
   "cell_type": "code",
   "execution_count": null,
   "metadata": {},
   "outputs": [
    {
     "name": "stdout",
     "output_type": "stream",
     "text": [
      "-0.7437706611272257\n"
     ]
    }
   ],
   "source": [
    "test_score= r2_score(pr_test_y, pred_pr_y)\n",
    "print(test_score)"
   ]
  },
  {
   "cell_type": "code",
   "execution_count": null,
   "metadata": {},
   "outputs": [],
   "source": [
    "feature_pd= pd.DataFrame(feature_sc, columns=['자동차용 경유 가격 (원)', '전월비(%)', '거래량'])\n",
    "target_pd= pd.DataFrame(target_sc, columns=['평균'])"
   ]
  },
  {
   "cell_type": "code",
   "execution_count": null,
   "metadata": {},
   "outputs": [],
   "source": [
    "X_train, X_test, y_train, y_test= train_test_split(feature_pd, target_pd, random_state=0, test_size=0.2)"
   ]
  },
  {
   "cell_type": "code",
   "execution_count": null,
   "metadata": {},
   "outputs": [],
   "source": [
    "from keras.layers import Dropout\n",
    "\n",
    "model = Sequential()\n",
    "model.add(LSTM(units=20, activation='relu', return_sequences=True, input_shape=(7, 4)))\n",
    "model.add(Dense(units=1))\n",
    "model.compile(loss='mean_squared_error', optimizer='adam')"
   ]
  },
  {
   "cell_type": "code",
   "execution_count": null,
   "metadata": {},
   "outputs": [
    {
     "data": {
      "text/html": [
       "<div>\n",
       "<style scoped>\n",
       "    .dataframe tbody tr th:only-of-type {\n",
       "        vertical-align: middle;\n",
       "    }\n",
       "\n",
       "    .dataframe tbody tr th {\n",
       "        vertical-align: top;\n",
       "    }\n",
       "\n",
       "    .dataframe thead th {\n",
       "        text-align: right;\n",
       "    }\n",
       "</style>\n",
       "<table border=\"1\" class=\"dataframe\">\n",
       "  <thead>\n",
       "    <tr style=\"text-align: right;\">\n",
       "      <th></th>\n",
       "      <th>구분</th>\n",
       "      <th>평균</th>\n",
       "    </tr>\n",
       "  </thead>\n",
       "  <tbody>\n",
       "    <tr>\n",
       "      <th>0</th>\n",
       "      <td>2000-01-03</td>\n",
       "      <td>5600.0</td>\n",
       "    </tr>\n",
       "    <tr>\n",
       "      <th>1</th>\n",
       "      <td>2000-01-04</td>\n",
       "      <td>5600.0</td>\n",
       "    </tr>\n",
       "    <tr>\n",
       "      <th>2</th>\n",
       "      <td>2000-01-05</td>\n",
       "      <td>5620.0</td>\n",
       "    </tr>\n",
       "    <tr>\n",
       "      <th>3</th>\n",
       "      <td>2000-01-06</td>\n",
       "      <td>5700.0</td>\n",
       "    </tr>\n",
       "    <tr>\n",
       "      <th>4</th>\n",
       "      <td>2000-01-07</td>\n",
       "      <td>5670.0</td>\n",
       "    </tr>\n",
       "    <tr>\n",
       "      <th>...</th>\n",
       "      <td>...</td>\n",
       "      <td>...</td>\n",
       "    </tr>\n",
       "    <tr>\n",
       "      <th>5890</th>\n",
       "      <td>2022-12-14</td>\n",
       "      <td>5430.5</td>\n",
       "    </tr>\n",
       "    <tr>\n",
       "      <th>5891</th>\n",
       "      <td>2022-12-15</td>\n",
       "      <td>5430.5</td>\n",
       "    </tr>\n",
       "    <tr>\n",
       "      <th>5892</th>\n",
       "      <td>2022-12-16</td>\n",
       "      <td>5304.0</td>\n",
       "    </tr>\n",
       "    <tr>\n",
       "      <th>5893</th>\n",
       "      <td>2022-12-19</td>\n",
       "      <td>5459.5</td>\n",
       "    </tr>\n",
       "    <tr>\n",
       "      <th>5894</th>\n",
       "      <td>2022-12-20</td>\n",
       "      <td>5764.0</td>\n",
       "    </tr>\n",
       "  </tbody>\n",
       "</table>\n",
       "<p>5895 rows × 2 columns</p>\n",
       "</div>"
      ],
      "text/plain": [
       "              구분      평균\n",
       "0     2000-01-03  5600.0\n",
       "1     2000-01-04  5600.0\n",
       "2     2000-01-05  5620.0\n",
       "3     2000-01-06  5700.0\n",
       "4     2000-01-07  5670.0\n",
       "...          ...     ...\n",
       "5890  2022-12-14  5430.5\n",
       "5891  2022-12-15  5430.5\n",
       "5892  2022-12-16  5304.0\n",
       "5893  2022-12-19  5459.5\n",
       "5894  2022-12-20  5764.0\n",
       "\n",
       "[5895 rows x 2 columns]"
      ]
     },
     "execution_count": 350,
     "metadata": {},
     "output_type": "execute_result"
    }
   ],
   "source": [
    "df= pd.read_csv('data/price/price_baechoo.csv')\n",
    "df"
   ]
  },
  {
   "cell_type": "code",
   "execution_count": null,
   "metadata": {},
   "outputs": [],
   "source": [
    "num_list= []\n",
    "for i in range(1,1179):\n",
    "    num_list.append(i*3)\n",
    "\n",
    "open=[]\n",
    "high=[]\n",
    "low= []\n",
    "close= []\n",
    "for i in range(len(num_list)):\n",
    "    if i==0:\n",
    "        test_df= df.iloc[0:num_list[i]]\n",
    "    else:\n",
    "        test_df= df.iloc[num_list[i-1]:num_list[i]]\n",
    "    open.append(test_df.iloc[0]['평균'])\n",
    "    max= test_df.iloc[0]['평균']\n",
    "    min= test_df.iloc[0]['평균']\n",
    "    for i in range(len(test_df)):\n",
    "        if test_df.iloc[i]['평균'] > max:\n",
    "            max= test_df.iloc[i]['평균']\n",
    "        if test_df.iloc[i]['평균'] < min:\n",
    "            min= test_df.iloc[i]['평균']\n",
    "    high.append(max)\n",
    "    low.append(min)\n",
    "    close.append(test_df.iloc[len(test_df)-1]['평균'])"
   ]
  },
  {
   "cell_type": "code",
   "execution_count": null,
   "metadata": {},
   "outputs": [
    {
     "data": {
      "text/html": [
       "<div>\n",
       "<style scoped>\n",
       "    .dataframe tbody tr th:only-of-type {\n",
       "        vertical-align: middle;\n",
       "    }\n",
       "\n",
       "    .dataframe tbody tr th {\n",
       "        vertical-align: top;\n",
       "    }\n",
       "\n",
       "    .dataframe thead th {\n",
       "        text-align: right;\n",
       "    }\n",
       "</style>\n",
       "<table border=\"1\" class=\"dataframe\">\n",
       "  <thead>\n",
       "    <tr style=\"text-align: right;\">\n",
       "      <th></th>\n",
       "      <th>시가</th>\n",
       "      <th>고가</th>\n",
       "      <th>저가</th>\n",
       "      <th>종가</th>\n",
       "    </tr>\n",
       "  </thead>\n",
       "  <tbody>\n",
       "    <tr>\n",
       "      <th>0</th>\n",
       "      <td>5600.0</td>\n",
       "      <td>5620.0</td>\n",
       "      <td>5600.0</td>\n",
       "      <td>5620.0</td>\n",
       "    </tr>\n",
       "    <tr>\n",
       "      <th>1</th>\n",
       "      <td>5700.0</td>\n",
       "      <td>5770.0</td>\n",
       "      <td>5670.0</td>\n",
       "      <td>5770.0</td>\n",
       "    </tr>\n",
       "    <tr>\n",
       "      <th>2</th>\n",
       "      <td>5790.0</td>\n",
       "      <td>5790.0</td>\n",
       "      <td>5630.0</td>\n",
       "      <td>5630.0</td>\n",
       "    </tr>\n",
       "    <tr>\n",
       "      <th>3</th>\n",
       "      <td>5630.0</td>\n",
       "      <td>5630.0</td>\n",
       "      <td>5630.0</td>\n",
       "      <td>5630.0</td>\n",
       "    </tr>\n",
       "    <tr>\n",
       "      <th>4</th>\n",
       "      <td>5630.0</td>\n",
       "      <td>5650.0</td>\n",
       "      <td>5630.0</td>\n",
       "      <td>5650.0</td>\n",
       "    </tr>\n",
       "    <tr>\n",
       "      <th>...</th>\n",
       "      <td>...</td>\n",
       "      <td>...</td>\n",
       "      <td>...</td>\n",
       "      <td>...</td>\n",
       "    </tr>\n",
       "    <tr>\n",
       "      <th>1173</th>\n",
       "      <td>11600.0</td>\n",
       "      <td>11600.0</td>\n",
       "      <td>11400.0</td>\n",
       "      <td>11400.0</td>\n",
       "    </tr>\n",
       "    <tr>\n",
       "      <th>1174</th>\n",
       "      <td>11300.0</td>\n",
       "      <td>11300.0</td>\n",
       "      <td>11100.0</td>\n",
       "      <td>11100.0</td>\n",
       "    </tr>\n",
       "    <tr>\n",
       "      <th>1175</th>\n",
       "      <td>11700.0</td>\n",
       "      <td>11700.0</td>\n",
       "      <td>11300.0</td>\n",
       "      <td>11300.0</td>\n",
       "    </tr>\n",
       "    <tr>\n",
       "      <th>1176</th>\n",
       "      <td>11300.0</td>\n",
       "      <td>11300.0</td>\n",
       "      <td>11300.0</td>\n",
       "      <td>11300.0</td>\n",
       "    </tr>\n",
       "    <tr>\n",
       "      <th>1177</th>\n",
       "      <td>11300.0</td>\n",
       "      <td>11300.0</td>\n",
       "      <td>11300.0</td>\n",
       "      <td>11300.0</td>\n",
       "    </tr>\n",
       "  </tbody>\n",
       "</table>\n",
       "<p>1178 rows × 4 columns</p>\n",
       "</div>"
      ],
      "text/plain": [
       "           시가       고가       저가       종가\n",
       "0      5600.0   5620.0   5600.0   5620.0\n",
       "1      5700.0   5770.0   5670.0   5770.0\n",
       "2      5790.0   5790.0   5630.0   5630.0\n",
       "3      5630.0   5630.0   5630.0   5630.0\n",
       "4      5630.0   5650.0   5630.0   5650.0\n",
       "...       ...      ...      ...      ...\n",
       "1173  11600.0  11600.0  11400.0  11400.0\n",
       "1174  11300.0  11300.0  11100.0  11100.0\n",
       "1175  11700.0  11700.0  11300.0  11300.0\n",
       "1176  11300.0  11300.0  11300.0  11300.0\n",
       "1177  11300.0  11300.0  11300.0  11300.0\n",
       "\n",
       "[1178 rows x 4 columns]"
      ]
     },
     "execution_count": 352,
     "metadata": {},
     "output_type": "execute_result"
    }
   ],
   "source": [
    "candle_df= pd.DataFrame(columns=['시가', '고가', '저가', '종가'])\n",
    "candle_df['시가']= open\n",
    "candle_df['고가']= high\n",
    "candle_df['저가']= low\n",
    "candle_df['종가']= close\n",
    "candle_df"
   ]
  },
  {
   "cell_type": "code",
   "execution_count": null,
   "metadata": {},
   "outputs": [],
   "source": [
    "from sklearn.preprocessing import StandardScaler\n",
    "\n",
    "X= candle_df[['시가', '고가', '저가']]\n",
    "y= candle_df[['종가']]\n",
    "\n",
    "scaler= StandardScaler()\n",
    "scaler1= StandardScaler()\n",
    "\n",
    "X_sc= scaler.fit_transform(X)\n",
    "y_sc= scaler1.fit_transform(y)"
   ]
  },
  {
   "cell_type": "code",
   "execution_count": null,
   "metadata": {},
   "outputs": [
    {
     "name": "stdout",
     "output_type": "stream",
     "text": [
      "[[1.90404825 1.77699273 1.88425143]\n",
      " [1.77875147 1.6567051  1.88425143]] -> [1.74931111]\n"
     ]
    }
   ],
   "source": [
    "window_size = 2\n",
    "\n",
    "data_X = []\n",
    "data_y = []\n",
    "for i in range(len(y_sc) - window_size):\n",
    "    _X = X_sc[i : i + window_size] # 다음 날 종가(i+windows_size)는 포함되지 않음\n",
    "    _y = y_sc[i + window_size]     # 다음 날 종가\n",
    "    data_X.append(_X)\n",
    "    data_y.append(_y)\n",
    "print(_X, \"->\", _y)"
   ]
  },
  {
   "cell_type": "code",
   "execution_count": null,
   "metadata": {},
   "outputs": [
    {
     "name": "stdout",
     "output_type": "stream",
     "text": [
      "훈련 데이터의 크기 : (823, 2, 3) (823, 1)\n",
      "테스트 데이터의 크기 : (353, 2, 3) (353, 1)\n"
     ]
    }
   ],
   "source": [
    "train_size = int(len(data_y) * 0.7)\n",
    "train_X = np.array(data_X[0 : train_size])\n",
    "train_y = np.array(data_y[0 : train_size])\n",
    "\n",
    "test_size = len(data_y) - train_size\n",
    "test_X = np.array(data_X[train_size : len(data_X)])\n",
    "test_y = np.array(data_y[train_size : len(data_y)])\n",
    "\n",
    "print('훈련 데이터의 크기 :', train_X.shape, train_y.shape)\n",
    "print('테스트 데이터의 크기 :', test_X.shape, test_y.shape)"
   ]
  },
  {
   "cell_type": "code",
   "execution_count": null,
   "metadata": {},
   "outputs": [],
   "source": [
    "model_test = Sequential()\n",
    "model_test.add(LSTM(units=20, activation='relu', input_shape=(2, 3)))\n",
    "model_test.add(Dense(units=1))\n",
    "model_test.compile(optimizer='adam', loss='mean_squared_error')"
   ]
  },
  {
   "cell_type": "code",
   "execution_count": null,
   "metadata": {},
   "outputs": [
    {
     "name": "stdout",
     "output_type": "stream",
     "text": [
      "Epoch 1/70\n",
      "28/28 [==============================] - 2s 2ms/step - loss: 0.6183\n",
      "Epoch 2/70\n",
      "28/28 [==============================] - 0s 2ms/step - loss: 0.4431\n",
      "Epoch 3/70\n",
      "28/28 [==============================] - 0s 2ms/step - loss: 0.2942\n",
      "Epoch 4/70\n",
      "28/28 [==============================] - 0s 2ms/step - loss: 0.1534\n",
      "Epoch 5/70\n",
      "28/28 [==============================] - 0s 2ms/step - loss: 0.0737\n",
      "Epoch 6/70\n",
      "28/28 [==============================] - 0s 2ms/step - loss: 0.0542\n",
      "Epoch 7/70\n",
      "28/28 [==============================] - 0s 1ms/step - loss: 0.0528\n",
      "Epoch 8/70\n",
      "28/28 [==============================] - 0s 2ms/step - loss: 0.0516\n",
      "Epoch 9/70\n",
      "28/28 [==============================] - 0s 2ms/step - loss: 0.0508\n",
      "Epoch 10/70\n",
      "28/28 [==============================] - 0s 2ms/step - loss: 0.0500\n",
      "Epoch 11/70\n",
      "28/28 [==============================] - 0s 2ms/step - loss: 0.0490\n",
      "Epoch 12/70\n",
      "28/28 [==============================] - 0s 2ms/step - loss: 0.0484\n",
      "Epoch 13/70\n",
      "28/28 [==============================] - 0s 2ms/step - loss: 0.0475\n",
      "Epoch 14/70\n",
      "28/28 [==============================] - 0s 2ms/step - loss: 0.0468\n",
      "Epoch 15/70\n",
      "28/28 [==============================] - 0s 2ms/step - loss: 0.0462\n",
      "Epoch 16/70\n",
      "28/28 [==============================] - 0s 2ms/step - loss: 0.0453\n",
      "Epoch 17/70\n",
      "28/28 [==============================] - 0s 1ms/step - loss: 0.0445\n",
      "Epoch 18/70\n",
      "28/28 [==============================] - 0s 2ms/step - loss: 0.0437\n",
      "Epoch 19/70\n",
      "28/28 [==============================] - 0s 1ms/step - loss: 0.0428\n",
      "Epoch 20/70\n",
      "28/28 [==============================] - 0s 1ms/step - loss: 0.0417\n",
      "Epoch 21/70\n",
      "28/28 [==============================] - 0s 1ms/step - loss: 0.0406\n",
      "Epoch 22/70\n",
      "28/28 [==============================] - 0s 2ms/step - loss: 0.0394\n",
      "Epoch 23/70\n",
      "28/28 [==============================] - 0s 1ms/step - loss: 0.0383\n",
      "Epoch 24/70\n",
      "28/28 [==============================] - 0s 1ms/step - loss: 0.0376\n",
      "Epoch 25/70\n",
      "28/28 [==============================] - 0s 1ms/step - loss: 0.0363\n",
      "Epoch 26/70\n",
      "28/28 [==============================] - 0s 1ms/step - loss: 0.0349\n",
      "Epoch 27/70\n",
      "28/28 [==============================] - 0s 1ms/step - loss: 0.0337\n",
      "Epoch 28/70\n",
      "28/28 [==============================] - 0s 1ms/step - loss: 0.0325\n",
      "Epoch 29/70\n",
      "28/28 [==============================] - 0s 2ms/step - loss: 0.0314\n",
      "Epoch 30/70\n",
      "28/28 [==============================] - 0s 2ms/step - loss: 0.0304\n",
      "Epoch 31/70\n",
      "28/28 [==============================] - 0s 1ms/step - loss: 0.0293\n",
      "Epoch 32/70\n",
      "28/28 [==============================] - 0s 1ms/step - loss: 0.0286\n",
      "Epoch 33/70\n",
      "28/28 [==============================] - 0s 1ms/step - loss: 0.0281\n",
      "Epoch 34/70\n",
      "28/28 [==============================] - ETA: 0s - loss: 0.010 - 0s 1ms/step - loss: 0.0276\n",
      "Epoch 35/70\n",
      "28/28 [==============================] - 0s 2ms/step - loss: 0.0275\n",
      "Epoch 36/70\n",
      "28/28 [==============================] - 0s 2ms/step - loss: 0.0272\n",
      "Epoch 37/70\n",
      "28/28 [==============================] - 0s 2ms/step - loss: 0.0269\n",
      "Epoch 38/70\n",
      "28/28 [==============================] - 0s 2ms/step - loss: 0.0270\n",
      "Epoch 39/70\n",
      "28/28 [==============================] - 0s 2ms/step - loss: 0.0275\n",
      "Epoch 40/70\n",
      "28/28 [==============================] - 0s 2ms/step - loss: 0.0267\n",
      "Epoch 41/70\n",
      "28/28 [==============================] - 0s 2ms/step - loss: 0.0264\n",
      "Epoch 42/70\n",
      "28/28 [==============================] - 0s 2ms/step - loss: 0.0265\n",
      "Epoch 43/70\n",
      "28/28 [==============================] - 0s 2ms/step - loss: 0.0262\n",
      "Epoch 44/70\n",
      "28/28 [==============================] - 0s 2ms/step - loss: 0.0264\n",
      "Epoch 45/70\n",
      "28/28 [==============================] - 0s 2ms/step - loss: 0.0262\n",
      "Epoch 46/70\n",
      "28/28 [==============================] - 0s 2ms/step - loss: 0.0262\n",
      "Epoch 47/70\n",
      "28/28 [==============================] - 0s 2ms/step - loss: 0.0263\n",
      "Epoch 48/70\n",
      "28/28 [==============================] - 0s 2ms/step - loss: 0.0261\n",
      "Epoch 49/70\n",
      "28/28 [==============================] - 0s 2ms/step - loss: 0.0261\n",
      "Epoch 50/70\n",
      "28/28 [==============================] - 0s 3ms/step - loss: 0.0258\n",
      "Epoch 51/70\n",
      "28/28 [==============================] - 0s 3ms/step - loss: 0.0259\n",
      "Epoch 52/70\n",
      "28/28 [==============================] - 0s 3ms/step - loss: 0.0257\n",
      "Epoch 53/70\n",
      "28/28 [==============================] - 0s 3ms/step - loss: 0.0255\n",
      "Epoch 54/70\n",
      "28/28 [==============================] - 0s 3ms/step - loss: 0.0256\n",
      "Epoch 55/70\n",
      "28/28 [==============================] - 0s 2ms/step - loss: 0.0252\n",
      "Epoch 56/70\n",
      "28/28 [==============================] - 0s 3ms/step - loss: 0.0252\n",
      "Epoch 57/70\n",
      "28/28 [==============================] - 0s 2ms/step - loss: 0.0255\n",
      "Epoch 58/70\n",
      "28/28 [==============================] - 0s 2ms/step - loss: 0.0252\n",
      "Epoch 59/70\n",
      "28/28 [==============================] - 0s 3ms/step - loss: 0.0252\n",
      "Epoch 60/70\n",
      "28/28 [==============================] - 0s 3ms/step - loss: 0.0251\n",
      "Epoch 61/70\n",
      "28/28 [==============================] - 0s 3ms/step - loss: 0.0249\n",
      "Epoch 62/70\n",
      "28/28 [==============================] - 0s 2ms/step - loss: 0.0248\n",
      "Epoch 63/70\n",
      "28/28 [==============================] - 0s 2ms/step - loss: 0.0248\n",
      "Epoch 64/70\n",
      "28/28 [==============================] - 0s 3ms/step - loss: 0.0247\n",
      "Epoch 65/70\n",
      "28/28 [==============================] - 0s 3ms/step - loss: 0.0247\n",
      "Epoch 66/70\n",
      "28/28 [==============================] - 0s 3ms/step - loss: 0.0246\n",
      "Epoch 67/70\n",
      "28/28 [==============================] - 0s 3ms/step - loss: 0.0246\n",
      "Epoch 68/70\n",
      "28/28 [==============================] - 0s 3ms/step - loss: 0.0244\n",
      "Epoch 69/70\n",
      "28/28 [==============================] - 0s 2ms/step - loss: 0.0246\n",
      "Epoch 70/70\n",
      "28/28 [==============================] - 0s 2ms/step - loss: 0.0242\n"
     ]
    },
    {
     "data": {
      "text/plain": [
       "<keras.callbacks.History at 0x204282de610>"
      ]
     },
     "execution_count": 357,
     "metadata": {},
     "output_type": "execute_result"
    }
   ],
   "source": [
    "early_stop = EarlyStopping(monitor='loss', patience=5, verbose=1)\n",
    "model_test.fit(train_X, train_y, epochs=70, batch_size=30, callbacks=[early_stop])"
   ]
  },
  {
   "cell_type": "code",
   "execution_count": null,
   "metadata": {},
   "outputs": [],
   "source": [
    "pred_y = model_test.predict(test_X)"
   ]
  },
  {
   "cell_type": "code",
   "execution_count": null,
   "metadata": {},
   "outputs": [
    {
     "data": {
      "image/png": "[encoded data removed]",
      "text/plain": [
       "<Figure size 432x288 with 1 Axes>"
      ]
     },
     "metadata": {
      "needs_background": "light"
     },
     "output_type": "display_data"
    }
   ],
   "source": [
    "plt.figure()\n",
    "plt.plot(test_y, color='red')\n",
    "plt.plot(pred_y, color='blue')\n",
    "plt.show()"
   ]
  },
  {
   "cell_type": "code",
   "execution_count": null,
   "metadata": {},
   "outputs": [
    {
     "name": "stdout",
     "output_type": "stream",
     "text": [
      "0.9052848110008354\n"
     ]
    }
   ],
   "source": [
    "test_score= r2_score(test_y, pred_y)\n",
    "print(test_score)"
   ]
  },
  {
   "cell_type": "code",
   "execution_count": null,
   "metadata": {},
   "outputs": [],
   "source": [
    "num_list= []\n",
    "for i in range(1900, 1965):\n",
    "    num_list.append(i*3)\n",
    "\n",
    "open=[]\n",
    "high=[]\n",
    "low= []\n",
    "close= []\n",
    "for i in range(len(num_list)):\n",
    "    if i == 0:\n",
    "        test_df= df.iloc[3534:num_list[0]]\n",
    "    else:\n",
    "        test_df= df.iloc[num_list[i-1]:num_list[i]]\n",
    "    open.append(test_df.iloc[0]['평균'])\n",
    "    max= test_df.iloc[0]['평균']\n",
    "    min= test_df.iloc[0]['평균']\n",
    "    for i in range(len(test_df)):\n",
    "        if test_df.iloc[i]['평균'] > max:\n",
    "            max= test_df.iloc[i]['평균']\n",
    "        if test_df.iloc[i]['평균'] < min:\n",
    "            min= test_df.iloc[i]['평균']\n",
    "    high.append(max)\n",
    "    low.append(min)\n",
    "    close.append(test_df.iloc[len(test_df)-1]['평균'])"
   ]
  },
  {
   "cell_type": "code",
   "execution_count": null,
   "metadata": {},
   "outputs": [
    {
     "data": {
      "text/html": [
       "<div>\n",
       "<style scoped>\n",
       "    .dataframe tbody tr th:only-of-type {\n",
       "        vertical-align: middle;\n",
       "    }\n",
       "\n",
       "    .dataframe tbody tr th {\n",
       "        vertical-align: top;\n",
       "    }\n",
       "\n",
       "    .dataframe thead th {\n",
       "        text-align: right;\n",
       "    }\n",
       "</style>\n",
       "<table border=\"1\" class=\"dataframe\">\n",
       "  <thead>\n",
       "    <tr style=\"text-align: right;\">\n",
       "      <th></th>\n",
       "      <th>시가</th>\n",
       "      <th>고가</th>\n",
       "      <th>저가</th>\n",
       "      <th>종가</th>\n",
       "    </tr>\n",
       "  </thead>\n",
       "  <tbody>\n",
       "    <tr>\n",
       "      <th>0</th>\n",
       "      <td>10700.0</td>\n",
       "      <td>27880.0</td>\n",
       "      <td>2600.0</td>\n",
       "      <td>8644.0</td>\n",
       "    </tr>\n",
       "    <tr>\n",
       "      <th>1</th>\n",
       "      <td>9016.0</td>\n",
       "      <td>9312.0</td>\n",
       "      <td>9016.0</td>\n",
       "      <td>9312.0</td>\n",
       "    </tr>\n",
       "    <tr>\n",
       "      <th>2</th>\n",
       "      <td>9117.0</td>\n",
       "      <td>9492.0</td>\n",
       "      <td>9117.0</td>\n",
       "      <td>9492.0</td>\n",
       "    </tr>\n",
       "    <tr>\n",
       "      <th>3</th>\n",
       "      <td>9532.0</td>\n",
       "      <td>10220.0</td>\n",
       "      <td>9532.0</td>\n",
       "      <td>10220.0</td>\n",
       "    </tr>\n",
       "    <tr>\n",
       "      <th>4</th>\n",
       "      <td>9785.0</td>\n",
       "      <td>9865.0</td>\n",
       "      <td>9785.0</td>\n",
       "      <td>9845.0</td>\n",
       "    </tr>\n",
       "    <tr>\n",
       "      <th>...</th>\n",
       "      <td>...</td>\n",
       "      <td>...</td>\n",
       "      <td>...</td>\n",
       "      <td>...</td>\n",
       "    </tr>\n",
       "    <tr>\n",
       "      <th>60</th>\n",
       "      <td>6100.0</td>\n",
       "      <td>6100.0</td>\n",
       "      <td>5664.0</td>\n",
       "      <td>5664.0</td>\n",
       "    </tr>\n",
       "    <tr>\n",
       "      <th>61</th>\n",
       "      <td>5592.0</td>\n",
       "      <td>5592.0</td>\n",
       "      <td>5242.0</td>\n",
       "      <td>5462.0</td>\n",
       "    </tr>\n",
       "    <tr>\n",
       "      <th>62</th>\n",
       "      <td>5982.0</td>\n",
       "      <td>5982.0</td>\n",
       "      <td>5488.0</td>\n",
       "      <td>5488.0</td>\n",
       "    </tr>\n",
       "    <tr>\n",
       "      <th>63</th>\n",
       "      <td>5408.0</td>\n",
       "      <td>5408.0</td>\n",
       "      <td>5244.5</td>\n",
       "      <td>5244.5</td>\n",
       "    </tr>\n",
       "    <tr>\n",
       "      <th>64</th>\n",
       "      <td>5245.5</td>\n",
       "      <td>5430.5</td>\n",
       "      <td>5245.5</td>\n",
       "      <td>5430.5</td>\n",
       "    </tr>\n",
       "  </tbody>\n",
       "</table>\n",
       "<p>65 rows × 4 columns</p>\n",
       "</div>"
      ],
      "text/plain": [
       "         시가       고가      저가       종가\n",
       "0   10700.0  27880.0  2600.0   8644.0\n",
       "1    9016.0   9312.0  9016.0   9312.0\n",
       "2    9117.0   9492.0  9117.0   9492.0\n",
       "3    9532.0  10220.0  9532.0  10220.0\n",
       "4    9785.0   9865.0  9785.0   9845.0\n",
       "..      ...      ...     ...      ...\n",
       "60   6100.0   6100.0  5664.0   5664.0\n",
       "61   5592.0   5592.0  5242.0   5462.0\n",
       "62   5982.0   5982.0  5488.0   5488.0\n",
       "63   5408.0   5408.0  5244.5   5244.5\n",
       "64   5245.5   5430.5  5245.5   5430.5\n",
       "\n",
       "[65 rows x 4 columns]"
      ]
     },
     "execution_count": 362,
     "metadata": {},
     "output_type": "execute_result"
    }
   ],
   "source": [
    "df_test= pd.DataFrame(columns=['시가', '고가', '저가', '종가'])\n",
    "df_test['시가']= open\n",
    "df_test['고가']= high\n",
    "df_test['저가']= low\n",
    "df_test['종가']= close\n",
    "df_test"
   ]
  },
  {
   "cell_type": "code",
   "execution_count": null,
   "metadata": {},
   "outputs": [],
   "source": [
    "f_test_X= df_test[['시가', '고가', '저가']]\n",
    "f_test_y= df_test[['종가']]\n",
    "\n",
    "f_test_X_sc= scaler.fit_transform(f_test_X)\n",
    "f_test_y_sc= scaler1.fit_transform(f_test_y)"
   ]
  },
  {
   "cell_type": "code",
   "execution_count": null,
   "metadata": {},
   "outputs": [
    {
     "name": "stdout",
     "output_type": "stream",
     "text": [
      "[[-0.96749181 -0.99539578 -0.99256208]\n",
      " [-1.04152587 -1.06457495 -1.0261188 ]] -> [-1.02517334]\n"
     ]
    }
   ],
   "source": [
    "window_size = 2\n",
    "\n",
    "data_X = []\n",
    "data_y = []\n",
    "for i in range(len(f_test_y_sc) - window_size):\n",
    "    _X = f_test_X_sc[i : i + window_size] # 다음 날 종가(i+windows_size)는 포함되지 않음\n",
    "    _y = f_test_y_sc[i + window_size]     # 다음 날 종가\n",
    "    data_X.append(_X)\n",
    "    data_y.append(_y)\n",
    "print(_X, \"->\", _y)"
   ]
  },
  {
   "cell_type": "code",
   "execution_count": null,
   "metadata": {},
   "outputs": [],
   "source": [
    "check_X = np.array(data_X)\n",
    "check_y = np.array(data_y)"
   ]
  },
  {
   "cell_type": "code",
   "execution_count": null,
   "metadata": {},
   "outputs": [],
   "source": [
    "pred_check_y= model_test.predict(check_X)"
   ]
  },
  {
   "cell_type": "code",
   "execution_count": null,
   "metadata": {},
   "outputs": [
    {
     "data": {
      "image/png": "[encoded data removed]",
      "text/plain": [
       "<Figure size 432x288 with 1 Axes>"
      ]
     },
     "metadata": {
      "needs_background": "light"
     },
     "output_type": "display_data"
    }
   ],
   "source": [
    "plt.figure()\n",
    "plt.plot(check_y, color='red')\n",
    "plt.plot(pred_check_y, color='blue')\n",
    "plt.show()"
   ]
  },
  {
   "cell_type": "code",
   "execution_count": null,
   "metadata": {},
   "outputs": [
    {
     "name": "stdout",
     "output_type": "stream",
     "text": [
      "0.8555422109070672\n"
     ]
    }
   ],
   "source": [
    "test_score= r2_score(check_y, pred_check_y)\n",
    "print(test_score)"
   ]
  },
  {
   "cell_type": "code",
   "execution_count": null,
   "metadata": {},
   "outputs": [
    {
     "data": {
      "text/html": [
       "<div>\n",
       "<style scoped>\n",
       "    .dataframe tbody tr th:only-of-type {\n",
       "        vertical-align: middle;\n",
       "    }\n",
       "\n",
       "    .dataframe tbody tr th {\n",
       "        vertical-align: top;\n",
       "    }\n",
       "\n",
       "    .dataframe thead th {\n",
       "        text-align: right;\n",
       "    }\n",
       "</style>\n",
       "<table border=\"1\" class=\"dataframe\">\n",
       "  <thead>\n",
       "    <tr style=\"text-align: right;\">\n",
       "      <th></th>\n",
       "      <th>예측 가격</th>\n",
       "    </tr>\n",
       "  </thead>\n",
       "  <tbody>\n",
       "    <tr>\n",
       "      <th>0</th>\n",
       "      <td>8429.587891</td>\n",
       "    </tr>\n",
       "    <tr>\n",
       "      <th>1</th>\n",
       "      <td>9274.290039</td>\n",
       "    </tr>\n",
       "    <tr>\n",
       "      <th>2</th>\n",
       "      <td>10064.660156</td>\n",
       "    </tr>\n",
       "    <tr>\n",
       "      <th>3</th>\n",
       "      <td>9880.371094</td>\n",
       "    </tr>\n",
       "    <tr>\n",
       "      <th>4</th>\n",
       "      <td>10692.221680</td>\n",
       "    </tr>\n",
       "    <tr>\n",
       "      <th>...</th>\n",
       "      <td>...</td>\n",
       "    </tr>\n",
       "    <tr>\n",
       "      <th>58</th>\n",
       "      <td>5816.343262</td>\n",
       "    </tr>\n",
       "    <tr>\n",
       "      <th>59</th>\n",
       "      <td>5656.427246</td>\n",
       "    </tr>\n",
       "    <tr>\n",
       "      <th>60</th>\n",
       "      <td>5055.550781</td>\n",
       "    </tr>\n",
       "    <tr>\n",
       "      <th>61</th>\n",
       "      <td>5995.420410</td>\n",
       "    </tr>\n",
       "    <tr>\n",
       "      <th>62</th>\n",
       "      <td>4985.308594</td>\n",
       "    </tr>\n",
       "  </tbody>\n",
       "</table>\n",
       "<p>63 rows × 1 columns</p>\n",
       "</div>"
      ],
      "text/plain": [
       "           예측 가격\n",
       "0    8429.587891\n",
       "1    9274.290039\n",
       "2   10064.660156\n",
       "3    9880.371094\n",
       "4   10692.221680\n",
       "..           ...\n",
       "58   5816.343262\n",
       "59   5656.427246\n",
       "60   5055.550781\n",
       "61   5995.420410\n",
       "62   4985.308594\n",
       "\n",
       "[63 rows x 1 columns]"
      ]
     },
     "execution_count": 369,
     "metadata": {},
     "output_type": "execute_result"
    }
   ],
   "source": [
    "y_pred=scaler1.inverse_transform(pred_check_y)\n",
    "\n",
    "#  예측값을 데이터프레임에 저장한다\n",
    "df_pred = pd.DataFrame(y_pred, columns=['예측 가격'])\n",
    "\n",
    "df_pred"
   ]
  },
  {
   "cell_type": "code",
   "execution_count": null,
   "metadata": {},
   "outputs": [
    {
     "data": {
      "text/html": [
       "<div>\n",
       "<style scoped>\n",
       "    .dataframe tbody tr th:only-of-type {\n",
       "        vertical-align: middle;\n",
       "    }\n",
       "\n",
       "    .dataframe tbody tr th {\n",
       "        vertical-align: top;\n",
       "    }\n",
       "\n",
       "    .dataframe thead th {\n",
       "        text-align: right;\n",
       "    }\n",
       "</style>\n",
       "<table border=\"1\" class=\"dataframe\">\n",
       "  <thead>\n",
       "    <tr style=\"text-align: right;\">\n",
       "      <th></th>\n",
       "      <th>예측 가격</th>\n",
       "      <th>실제 가격</th>\n",
       "    </tr>\n",
       "  </thead>\n",
       "  <tbody>\n",
       "    <tr>\n",
       "      <th>0</th>\n",
       "      <td>8429.587891</td>\n",
       "      <td>9492.0</td>\n",
       "    </tr>\n",
       "    <tr>\n",
       "      <th>1</th>\n",
       "      <td>9274.290039</td>\n",
       "      <td>10220.0</td>\n",
       "    </tr>\n",
       "    <tr>\n",
       "      <th>2</th>\n",
       "      <td>10064.660156</td>\n",
       "      <td>9845.0</td>\n",
       "    </tr>\n",
       "    <tr>\n",
       "      <th>3</th>\n",
       "      <td>9880.371094</td>\n",
       "      <td>10540.0</td>\n",
       "    </tr>\n",
       "    <tr>\n",
       "      <th>4</th>\n",
       "      <td>10692.221680</td>\n",
       "      <td>10580.0</td>\n",
       "    </tr>\n",
       "    <tr>\n",
       "      <th>...</th>\n",
       "      <td>...</td>\n",
       "      <td>...</td>\n",
       "    </tr>\n",
       "    <tr>\n",
       "      <th>58</th>\n",
       "      <td>5816.343262</td>\n",
       "      <td>5664.0</td>\n",
       "    </tr>\n",
       "    <tr>\n",
       "      <th>59</th>\n",
       "      <td>5656.427246</td>\n",
       "      <td>5462.0</td>\n",
       "    </tr>\n",
       "    <tr>\n",
       "      <th>60</th>\n",
       "      <td>5055.550781</td>\n",
       "      <td>5488.0</td>\n",
       "    </tr>\n",
       "    <tr>\n",
       "      <th>61</th>\n",
       "      <td>5995.420410</td>\n",
       "      <td>5244.5</td>\n",
       "    </tr>\n",
       "    <tr>\n",
       "      <th>62</th>\n",
       "      <td>4985.308594</td>\n",
       "      <td>5430.5</td>\n",
       "    </tr>\n",
       "  </tbody>\n",
       "</table>\n",
       "<p>63 rows × 2 columns</p>\n",
       "</div>"
      ],
      "text/plain": [
       "           예측 가격    실제 가격\n",
       "0    8429.587891   9492.0\n",
       "1    9274.290039  10220.0\n",
       "2   10064.660156   9845.0\n",
       "3    9880.371094  10540.0\n",
       "4   10692.221680  10580.0\n",
       "..           ...      ...\n",
       "58   5816.343262   5664.0\n",
       "59   5656.427246   5462.0\n",
       "60   5055.550781   5488.0\n",
       "61   5995.420410   5244.5\n",
       "62   4985.308594   5430.5\n",
       "\n",
       "[63 rows x 2 columns]"
      ]
     },
     "execution_count": 370,
     "metadata": {},
     "output_type": "execute_result"
    }
   ],
   "source": [
    "y_actual= scaler1.inverse_transform(check_y)\n",
    "\n",
    "df_pred['실제 가격']= y_actual\n",
    "\n",
    "df_pred"
   ]
  },
  {
   "cell_type": "code",
   "execution_count": null,
   "metadata": {},
   "outputs": [
    {
     "data": {
      "text/html": [
       "<div>\n",
       "<style scoped>\n",
       "    .dataframe tbody tr th:only-of-type {\n",
       "        vertical-align: middle;\n",
       "    }\n",
       "\n",
       "    .dataframe tbody tr th {\n",
       "        vertical-align: top;\n",
       "    }\n",
       "\n",
       "    .dataframe thead th {\n",
       "        text-align: right;\n",
       "    }\n",
       "</style>\n",
       "<table border=\"1\" class=\"dataframe\">\n",
       "  <thead>\n",
       "    <tr style=\"text-align: right;\">\n",
       "      <th></th>\n",
       "      <th>예측 가격</th>\n",
       "      <th>실제 가격</th>\n",
       "      <th>차이</th>\n",
       "    </tr>\n",
       "  </thead>\n",
       "  <tbody>\n",
       "    <tr>\n",
       "      <th>0</th>\n",
       "      <td>8429.587891</td>\n",
       "      <td>9492.0</td>\n",
       "      <td>11.192711</td>\n",
       "    </tr>\n",
       "    <tr>\n",
       "      <th>1</th>\n",
       "      <td>9274.290039</td>\n",
       "      <td>10220.0</td>\n",
       "      <td>9.253522</td>\n",
       "    </tr>\n",
       "    <tr>\n",
       "      <th>2</th>\n",
       "      <td>10064.660156</td>\n",
       "      <td>9845.0</td>\n",
       "      <td>-2.231185</td>\n",
       "    </tr>\n",
       "    <tr>\n",
       "      <th>3</th>\n",
       "      <td>9880.371094</td>\n",
       "      <td>10540.0</td>\n",
       "      <td>6.258339</td>\n",
       "    </tr>\n",
       "    <tr>\n",
       "      <th>4</th>\n",
       "      <td>10692.221680</td>\n",
       "      <td>10580.0</td>\n",
       "      <td>-1.060696</td>\n",
       "    </tr>\n",
       "    <tr>\n",
       "      <th>...</th>\n",
       "      <td>...</td>\n",
       "      <td>...</td>\n",
       "      <td>...</td>\n",
       "    </tr>\n",
       "    <tr>\n",
       "      <th>58</th>\n",
       "      <td>5816.343262</td>\n",
       "      <td>5664.0</td>\n",
       "      <td>-2.689676</td>\n",
       "    </tr>\n",
       "    <tr>\n",
       "      <th>59</th>\n",
       "      <td>5656.427246</td>\n",
       "      <td>5462.0</td>\n",
       "      <td>-3.559635</td>\n",
       "    </tr>\n",
       "    <tr>\n",
       "      <th>60</th>\n",
       "      <td>5055.550781</td>\n",
       "      <td>5488.0</td>\n",
       "      <td>7.879906</td>\n",
       "    </tr>\n",
       "    <tr>\n",
       "      <th>61</th>\n",
       "      <td>5995.420410</td>\n",
       "      <td>5244.5</td>\n",
       "      <td>-14.318246</td>\n",
       "    </tr>\n",
       "    <tr>\n",
       "      <th>62</th>\n",
       "      <td>4985.308594</td>\n",
       "      <td>5430.5</td>\n",
       "      <td>8.197982</td>\n",
       "    </tr>\n",
       "  </tbody>\n",
       "</table>\n",
       "<p>63 rows × 3 columns</p>\n",
       "</div>"
      ],
      "text/plain": [
       "           예측 가격    실제 가격         차이\n",
       "0    8429.587891   9492.0  11.192711\n",
       "1    9274.290039  10220.0   9.253522\n",
       "2   10064.660156   9845.0  -2.231185\n",
       "3    9880.371094  10540.0   6.258339\n",
       "4   10692.221680  10580.0  -1.060696\n",
       "..           ...      ...        ...\n",
       "58   5816.343262   5664.0  -2.689676\n",
       "59   5656.427246   5462.0  -3.559635\n",
       "60   5055.550781   5488.0   7.879906\n",
       "61   5995.420410   5244.5 -14.318246\n",
       "62   4985.308594   5430.5   8.197982\n",
       "\n",
       "[63 rows x 3 columns]"
      ]
     },
     "execution_count": 371,
     "metadata": {},
     "output_type": "execute_result"
    }
   ],
   "source": [
    "df_pred['차이']= (df_pred['실제 가격']-df_pred['예측 가격']) / df_pred['실제 가격'] * 100\n",
    "df_pred"
   ]
  },
  {
   "cell_type": "code",
   "execution_count": null,
   "metadata": {},
   "outputs": [
    {
     "data": {
      "text/plain": [
       "1.0759972939944134"
      ]
     },
     "execution_count": 372,
     "metadata": {},
     "output_type": "execute_result"
    }
   ],
   "source": [
    "df_pred['차이'].median()"
   ]
  },
  {
   "cell_type": "code",
   "execution_count": null,
   "metadata": {},
   "outputs": [
    {
     "name": "stderr",
     "output_type": "stream",
     "text": [
      "c:\\Users\\LG-PC\\anaconda3\\lib\\site-packages\\IPython\\core\\pylabtools.py:151: UserWarning: Glyph 49892 (\\N{HANGUL SYLLABLE SIL}) missing from current font.\n",
      "  fig.canvas.print_figure(bytes_io, **kw)\n",
      "c:\\Users\\LG-PC\\anaconda3\\lib\\site-packages\\IPython\\core\\pylabtools.py:151: UserWarning: Glyph 51228 (\\N{HANGUL SYLLABLE JE}) missing from current font.\n",
      "  fig.canvas.print_figure(bytes_io, **kw)\n",
      "c:\\Users\\LG-PC\\anaconda3\\lib\\site-packages\\IPython\\core\\pylabtools.py:151: UserWarning: Glyph 44050 (\\N{HANGUL SYLLABLE GABS}) missing from current font.\n",
      "  fig.canvas.print_figure(bytes_io, **kw)\n",
      "c:\\Users\\LG-PC\\anaconda3\\lib\\site-packages\\IPython\\core\\pylabtools.py:151: UserWarning: Glyph 44284 (\\N{HANGUL SYLLABLE GWA}) missing from current font.\n",
      "  fig.canvas.print_figure(bytes_io, **kw)\n",
      "c:\\Users\\LG-PC\\anaconda3\\lib\\site-packages\\IPython\\core\\pylabtools.py:151: UserWarning: Glyph 50696 (\\N{HANGUL SYLLABLE YE}) missing from current font.\n",
      "  fig.canvas.print_figure(bytes_io, **kw)\n",
      "c:\\Users\\LG-PC\\anaconda3\\lib\\site-packages\\IPython\\core\\pylabtools.py:151: UserWarning: Glyph 52769 (\\N{HANGUL SYLLABLE CEUG}) missing from current font.\n",
      "  fig.canvas.print_figure(bytes_io, **kw)\n",
      "c:\\Users\\LG-PC\\anaconda3\\lib\\site-packages\\IPython\\core\\pylabtools.py:151: UserWarning: Glyph 51032 (\\N{HANGUL SYLLABLE YI}) missing from current font.\n",
      "  fig.canvas.print_figure(bytes_io, **kw)\n",
      "c:\\Users\\LG-PC\\anaconda3\\lib\\site-packages\\IPython\\core\\pylabtools.py:151: UserWarning: Glyph 52264 (\\N{HANGUL SYLLABLE CA}) missing from current font.\n",
      "  fig.canvas.print_figure(bytes_io, **kw)\n",
      "c:\\Users\\LG-PC\\anaconda3\\lib\\site-packages\\IPython\\core\\pylabtools.py:151: UserWarning: Glyph 51060 (\\N{HANGUL SYLLABLE I}) missing from current font.\n",
      "  fig.canvas.print_figure(bytes_io, **kw)\n",
      "c:\\Users\\LG-PC\\anaconda3\\lib\\site-packages\\IPython\\core\\pylabtools.py:151: UserWarning: Glyph 48708 (\\N{HANGUL SYLLABLE BI}) missing from current font.\n",
      "  fig.canvas.print_figure(bytes_io, **kw)\n",
      "c:\\Users\\LG-PC\\anaconda3\\lib\\site-packages\\IPython\\core\\pylabtools.py:151: UserWarning: Glyph 50984 (\\N{HANGUL SYLLABLE YUL}) missing from current font.\n",
      "  fig.canvas.print_figure(bytes_io, **kw)\n"
     ]
    },
    {
     "data": {
      "image/png": "[encoded data removed]",
      "text/plain": [
       "<Figure size 864x648 with 1 Axes>"
      ]
     },
     "metadata": {
      "needs_background": "light"
     },
     "output_type": "display_data"
    }
   ],
   "source": [
    "diff = (df_pred['예측 가격'] - df_pred['실제 가격']) / df_pred['실제 가격'] * 100\n",
    "diff = diff.dropna()\n",
    "\n",
    "# 예측값과 실제값의 차이를 시각화한다,\n",
    "plt.figure(figsize=(12, 9))\n",
    "# y축의 범위를 -10과 10 사이로 설정한다\n",
    "plt.ylim(-100, 100)\n",
    "# y축의 눈금을 -10부터 10까지 2간격으로 설정한다\n",
    "plt.yticks(np.arange(-100, 100, 10))\n",
    "# 글자가 겹치지 않도록 회전한다\n",
    "plt.xticks(rotation=45)\n",
    "plt.scatter(df_pred.index, diff)\n",
    "plt.axhline(y=0, color='red', linestyle='--')\n",
    "plt.title('XGBoost 실제값과 예측값의 차이 비율')\n",
    "# 범례를 표시한다\n",
    "plt.legend(['diff', '0'])\n",
    "plt.show()\n"
   ]
  },
  {
   "cell_type": "code",
   "execution_count": null,
   "metadata": {},
   "outputs": [],
   "source": []
  },
  {
   "cell_type": "code",
   "execution_count": null,
   "metadata": {},
   "outputs": [],
   "source": []
  },
  {
   "cell_type": "code",
   "execution_count": null,
   "metadata": {},
   "outputs": [],
   "source": []
  },
  {
   "cell_type": "code",
   "execution_count": null,
   "metadata": {},
   "outputs": [],
   "source": []
  },
  {
   "cell_type": "code",
   "execution_count": null,
   "metadata": {},
   "outputs": [
    {
     "ename": "TypeError",
     "evalue": "unsupported operand type(s) for -: 'str' and 'str'",
     "output_type": "error",
     "traceback": [
      "\u001b[1;31m---------------------------------------------------------------------------\u001b[0m",
      "\u001b[1;31mTypeError\u001b[0m                                 Traceback (most recent call last)",
      "\u001b[1;32mc:\\Users\\LG-PC\\OneDrive\\문서\\GitHub\\Final_Predict_Agricultural\\test.ipynb Cell 88\u001b[0m in \u001b[0;36m<cell line: 2>\u001b[1;34m()\u001b[0m\n\u001b[0;32m      <a href='vscode-notebook-cell:/c%3A/Users/LG-PC/OneDrive/%EB%AC%B8%EC%84%9C/GitHub/Final_Predict_Agricultural/test.ipynb#Y143sZmlsZQ%3D%3D?line=0'>1</a>\u001b[0m bar\u001b[39m=\u001b[39m []\n\u001b[0;32m      <a href='vscode-notebook-cell:/c%3A/Users/LG-PC/OneDrive/%EB%AC%B8%EC%84%9C/GitHub/Final_Predict_Agricultural/test.ipynb#Y143sZmlsZQ%3D%3D?line=1'>2</a>\u001b[0m \u001b[39mfor\u001b[39;00m i \u001b[39min\u001b[39;00m \u001b[39mrange\u001b[39m(\u001b[39m1\u001b[39m, \u001b[39mlen\u001b[39m(df[\u001b[39m'\u001b[39m\u001b[39m구분\u001b[39m\u001b[39m'\u001b[39m])):\n\u001b[1;32m----> <a href='vscode-notebook-cell:/c%3A/Users/LG-PC/OneDrive/%EB%AC%B8%EC%84%9C/GitHub/Final_Predict_Agricultural/test.ipynb#Y143sZmlsZQ%3D%3D?line=2'>3</a>\u001b[0m     \u001b[39mif\u001b[39;00m (df[\u001b[39m'\u001b[39;49m\u001b[39m구분\u001b[39;49m\u001b[39m'\u001b[39;49m][i]\u001b[39m-\u001b[39;49mdf[\u001b[39m'\u001b[39;49m\u001b[39m구분\u001b[39;49m\u001b[39m'\u001b[39;49m][i\u001b[39m-\u001b[39;49m\u001b[39m1\u001b[39;49m])\u001b[39m.\u001b[39mdays \u001b[39m!=\u001b[39m \u001b[39m1\u001b[39m:\n\u001b[0;32m      <a href='vscode-notebook-cell:/c%3A/Users/LG-PC/OneDrive/%EB%AC%B8%EC%84%9C/GitHub/Final_Predict_Agricultural/test.ipynb#Y143sZmlsZQ%3D%3D?line=3'>4</a>\u001b[0m         bar\u001b[39m.\u001b[39mappend(df\u001b[39m.\u001b[39mindex[i])\n",
      "\u001b[1;31mTypeError\u001b[0m: unsupported operand type(s) for -: 'str' and 'str'"
     ]
    }
   ],
   "source": [
    "bar= []\n",
    "for i in range(1, len(df['구분'])):\n",
    "    if (df['구분'][i]-df['구분'][i-1]).days != 1:\n",
    "        bar.append(df.index[i]) "
   ]
  },
  {
   "cell_type": "code",
   "execution_count": null,
   "metadata": {},
   "outputs": [],
   "source": [
    "open= []\n",
    "high= []\n",
    "low= []\n",
    "close= []\n",
    "\n",
    "for i in range(len(bar)):\n",
    "    if i==0:\n",
    "        test_df= df.iloc[0:bar[0]]\n",
    "    else:\n",
    "        test_df= df.iloc[bar[i-1]:bar[i]]\n",
    "    open.append(test_df.iloc[0]['평균'])\n",
    "    max= test_df.iloc[0]['평균']\n",
    "    min= test_df.iloc[0]['평균']\n",
    "    for i in range(len(test_df)):\n",
    "        if test_df.iloc[i]['평균'] > max:\n",
    "            max= test_df.iloc[i]['평균']\n",
    "        if test_df.iloc[i]['평균'] < min:\n",
    "            min= test_df.iloc[i]['평균']\n",
    "    high.append(max)\n",
    "    low.append(min)\n",
    "    close.append(test_df.iloc[len(test_df)-1]['평균'])"
   ]
  },
  {
   "cell_type": "code",
   "execution_count": null,
   "metadata": {},
   "outputs": [
    {
     "data": {
      "text/html": [
       "<div>\n",
       "<style scoped>\n",
       "    .dataframe tbody tr th:only-of-type {\n",
       "        vertical-align: middle;\n",
       "    }\n",
       "\n",
       "    .dataframe tbody tr th {\n",
       "        vertical-align: top;\n",
       "    }\n",
       "\n",
       "    .dataframe thead th {\n",
       "        text-align: right;\n",
       "    }\n",
       "</style>\n",
       "<table border=\"1\" class=\"dataframe\">\n",
       "  <thead>\n",
       "    <tr style=\"text-align: right;\">\n",
       "      <th></th>\n",
       "      <th>시가</th>\n",
       "      <th>고가</th>\n",
       "      <th>저가</th>\n",
       "      <th>종가</th>\n",
       "    </tr>\n",
       "  </thead>\n",
       "  <tbody>\n",
       "    <tr>\n",
       "      <th>0</th>\n",
       "      <td>5600.0</td>\n",
       "      <td>5770.0</td>\n",
       "      <td>5600.0</td>\n",
       "      <td>5770.0</td>\n",
       "    </tr>\n",
       "    <tr>\n",
       "      <th>1</th>\n",
       "      <td>5790.0</td>\n",
       "      <td>5790.0</td>\n",
       "      <td>5630.0</td>\n",
       "      <td>5630.0</td>\n",
       "    </tr>\n",
       "    <tr>\n",
       "      <th>2</th>\n",
       "      <td>5630.0</td>\n",
       "      <td>5850.0</td>\n",
       "      <td>5630.0</td>\n",
       "      <td>5850.0</td>\n",
       "    </tr>\n",
       "    <tr>\n",
       "      <th>3</th>\n",
       "      <td>5890.0</td>\n",
       "      <td>6450.0</td>\n",
       "      <td>5890.0</td>\n",
       "      <td>6450.0</td>\n",
       "    </tr>\n",
       "    <tr>\n",
       "      <th>4</th>\n",
       "      <td>6620.0</td>\n",
       "      <td>6830.0</td>\n",
       "      <td>6620.0</td>\n",
       "      <td>6830.0</td>\n",
       "    </tr>\n",
       "    <tr>\n",
       "      <th>...</th>\n",
       "      <td>...</td>\n",
       "      <td>...</td>\n",
       "      <td>...</td>\n",
       "      <td>...</td>\n",
       "    </tr>\n",
       "    <tr>\n",
       "      <th>1317</th>\n",
       "      <td>6724.0</td>\n",
       "      <td>7018.0</td>\n",
       "      <td>6432.0</td>\n",
       "      <td>7018.0</td>\n",
       "    </tr>\n",
       "    <tr>\n",
       "      <th>1318</th>\n",
       "      <td>6300.0</td>\n",
       "      <td>6300.0</td>\n",
       "      <td>6100.0</td>\n",
       "      <td>6100.0</td>\n",
       "    </tr>\n",
       "    <tr>\n",
       "      <th>1319</th>\n",
       "      <td>5664.0</td>\n",
       "      <td>5664.0</td>\n",
       "      <td>5242.0</td>\n",
       "      <td>5462.0</td>\n",
       "    </tr>\n",
       "    <tr>\n",
       "      <th>1320</th>\n",
       "      <td>5982.0</td>\n",
       "      <td>5982.0</td>\n",
       "      <td>5408.0</td>\n",
       "      <td>5408.0</td>\n",
       "    </tr>\n",
       "    <tr>\n",
       "      <th>1321</th>\n",
       "      <td>5244.5</td>\n",
       "      <td>5430.5</td>\n",
       "      <td>5244.5</td>\n",
       "      <td>5304.0</td>\n",
       "    </tr>\n",
       "  </tbody>\n",
       "</table>\n",
       "<p>1322 rows × 4 columns</p>\n",
       "</div>"
      ],
      "text/plain": [
       "          시가      고가      저가      종가\n",
       "0     5600.0  5770.0  5600.0  5770.0\n",
       "1     5790.0  5790.0  5630.0  5630.0\n",
       "2     5630.0  5850.0  5630.0  5850.0\n",
       "3     5890.0  6450.0  5890.0  6450.0\n",
       "4     6620.0  6830.0  6620.0  6830.0\n",
       "...      ...     ...     ...     ...\n",
       "1317  6724.0  7018.0  6432.0  7018.0\n",
       "1318  6300.0  6300.0  6100.0  6100.0\n",
       "1319  5664.0  5664.0  5242.0  5462.0\n",
       "1320  5982.0  5982.0  5408.0  5408.0\n",
       "1321  5244.5  5430.5  5244.5  5304.0\n",
       "\n",
       "[1322 rows x 4 columns]"
      ]
     },
     "execution_count": 231,
     "metadata": {},
     "output_type": "execute_result"
    }
   ],
   "source": [
    "candle_df= pd.DataFrame(columns=['시가', '고가', '저가', '종가'])\n",
    "candle_df['시가']= open\n",
    "candle_df['고가']= high\n",
    "candle_df['저가']= low\n",
    "candle_df['종가']= close\n",
    "candle_df"
   ]
  },
  {
   "cell_type": "code",
   "execution_count": null,
   "metadata": {},
   "outputs": [],
   "source": [
    "from sklearn.preprocessing import StandardScaler\n",
    "\n",
    "X= candle_df[['시가', '고가', '저가']]\n",
    "y= candle_df[['종가']]\n",
    "\n",
    "scaler= StandardScaler()\n",
    "\n",
    "X_sc= scaler.fit_transform(X)\n",
    "y_sc= scaler.fit_transform(y)"
   ]
  },
  {
   "cell_type": "code",
   "execution_count": null,
   "metadata": {},
   "outputs": [],
   "source": [
    "train_size = int(len(X_sc) * 0.8)\n",
    "train_X = np.array(X_sc[0 : train_size])\n",
    "train_y = np.array(data_y[0 : train_size])\n",
    "\n",
    "test_size = len(data_y) - train_size\n",
    "test_X = np.array(data_X[train_size : len(data_X)])\n",
    "test_y = np.array(data_y[train_size : len(data_y)])\n",
    "\n",
    "print('훈련 데이터의 크기 :', train_X.shape, train_y.shape)\n",
    "print('테스트 데이터의 크기 :', test_X.shape, test_y.shape)"
   ]
  },
  {
   "cell_type": "code",
   "execution_count": null,
   "metadata": {},
   "outputs": [],
   "source": [
    "# 예측값 성능 평가\n",
    "# 예측값과 실제값의 차이를 비율로 계산한다\n",
    "diff = (y_pred - y_test) / y_test * 100\n",
    "diff = diff.dropna()\n",
    "\n",
    "# 예측값과 실제값의 차이를 시각화한다,\n",
    "plt.figure(figsize=(12, 9))\n",
    "# y축의 범위를 -10과 10 사이로 설정한다\n",
    "plt.ylim(-100, 100)\n",
    "# y축의 눈금을 -10부터 10까지 2간격으로 설정한다\n",
    "plt.yticks(np.arange(-100, 100, 10))\n",
    "# y축 눈금에 %를 붙인다\n",
    "# plt.gca().yaxis.set_major_formatter(mtick.PercentFormatter())\n",
    "# 글자가 겹치지 않도록 회전한다\n",
    "plt.xticks(rotation=45)\n",
    "plt.plot(diff)\n",
    "plt.axhline(y=0, color='red', linestyle='--')\n",
    "plt.title('XGBoost 실제값과 예측값의 차이 비율')\n",
    "# 범례를 표시한다\n",
    "plt.legend(['diff', '0'])\n",
    "plt.show()\n"
   ]
  },
  {
   "cell_type": "code",
   "execution_count": null,
   "metadata": {},
   "outputs": [],
   "source": []
  }
 ],
 "metadata": {
  "kernelspec": {
   "display_name": "base",
   "language": "python",
   "name": "python3"
  },
  "language_info": {
   "codemirror_mode": {
    "name": "ipython",
    "version": 3
   },
   "file_extension": ".py",
   "mimetype": "text/x-python",
   "name": "python",
   "nbconvert_exporter": "python",
   "pygments_lexer": "ipython3",
   "version": "3.9.12 (main, Apr  4 2022, 05:22:27) [MSC v.1916 64 bit (AMD64)]"
  },
  "orig_nbformat": 4,
  "vscode": {
   "interpreter": {
    "hash": "f1cedca802fbd03113b5be1437e967425583ed8b695556570e9f4a2392c4bc06"
   }
  }
 },
 "nbformat": 4,
 "nbformat_minor": 2
}
