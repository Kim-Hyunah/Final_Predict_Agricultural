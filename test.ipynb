{
 "cells": [
  {
   "cell_type": "code",
   "execution_count": 41,
   "metadata": {},
   "outputs": [],
   "source": [
    "import pandas as pd\n",
    "import numpy as np\n",
    "import matplotlib.pyplot as plt\n",
    "import seaborn as sns\n",
    "from sklearn.preprocessing import MinMaxScaler, StandardScaler"
   ]
  },
  {
   "cell_type": "code",
   "execution_count": 42,
   "metadata": {},
   "outputs": [],
   "source": [
    "oil_cpi = pd.read_csv('data/merge_oil_cpi/merge_oil_cpi_daily.csv')\n",
    "price = pd.read_csv('data/price/price_baechoo.csv')\n",
    "transaction = pd.read_csv('data/transaction_supply/transaction_supply_baechoo.csv')\n",
    "\n",
    "oil_cpi.rename(columns={oil_cpi.columns[0] : \"거래년월일\"}, inplace=True)\n",
    "price.rename(columns={price.columns[0] : \"거래년월일\"}, inplace=True)\n",
    "\n",
    "merge = pd.merge(oil_cpi, price, on='거래년월일', how='outer')\n",
    "merge = pd.merge(merge, transaction, on='거래년월일', how='outer')\n",
    "# merge 의 2022-12월 데이터 삭제\n",
    "merge = merge[merge['거래년월일'] < '2022-12-01']\n",
    "\n",
    "merge = merge.fillna(method='ffill')\n",
    "merge = merge.fillna(method='bfill')\n",
    "\n",
    "merge.set_index(\"거래년월일\",inplace=True)"
   ]
  },
  {
   "cell_type": "code",
   "execution_count": 43,
   "metadata": {},
   "outputs": [
    {
     "data": {
      "text/html": [
       "<div>\n",
       "<style scoped>\n",
       "    .dataframe tbody tr th:only-of-type {\n",
       "        vertical-align: middle;\n",
       "    }\n",
       "\n",
       "    .dataframe tbody tr th {\n",
       "        vertical-align: top;\n",
       "    }\n",
       "\n",
       "    .dataframe thead th {\n",
       "        text-align: right;\n",
       "    }\n",
       "</style>\n",
       "<table border=\"1\" class=\"dataframe\">\n",
       "  <thead>\n",
       "    <tr style=\"text-align: right;\">\n",
       "      <th></th>\n",
       "      <th>자동차용 경유 가격 (원)</th>\n",
       "      <th>전월비(%)</th>\n",
       "      <th>평균</th>\n",
       "      <th>거래량</th>\n",
       "    </tr>\n",
       "    <tr>\n",
       "      <th>거래년월일</th>\n",
       "      <th></th>\n",
       "      <th></th>\n",
       "      <th></th>\n",
       "      <th></th>\n",
       "    </tr>\n",
       "  </thead>\n",
       "  <tbody>\n",
       "    <tr>\n",
       "      <th>2000-01-01</th>\n",
       "      <td>583.35</td>\n",
       "      <td>4.0</td>\n",
       "      <td>5600.0</td>\n",
       "      <td>102285.0</td>\n",
       "    </tr>\n",
       "    <tr>\n",
       "      <th>2000-01-02</th>\n",
       "      <td>583.35</td>\n",
       "      <td>4.0</td>\n",
       "      <td>5600.0</td>\n",
       "      <td>102285.0</td>\n",
       "    </tr>\n",
       "    <tr>\n",
       "      <th>2000-01-03</th>\n",
       "      <td>583.35</td>\n",
       "      <td>4.0</td>\n",
       "      <td>5600.0</td>\n",
       "      <td>102285.0</td>\n",
       "    </tr>\n",
       "    <tr>\n",
       "      <th>2000-01-04</th>\n",
       "      <td>583.35</td>\n",
       "      <td>4.0</td>\n",
       "      <td>5600.0</td>\n",
       "      <td>715338.0</td>\n",
       "    </tr>\n",
       "    <tr>\n",
       "      <th>2000-01-05</th>\n",
       "      <td>583.35</td>\n",
       "      <td>4.0</td>\n",
       "      <td>5620.0</td>\n",
       "      <td>340568.0</td>\n",
       "    </tr>\n",
       "    <tr>\n",
       "      <th>...</th>\n",
       "      <td>...</td>\n",
       "      <td>...</td>\n",
       "      <td>...</td>\n",
       "      <td>...</td>\n",
       "    </tr>\n",
       "    <tr>\n",
       "      <th>2022-11-26</th>\n",
       "      <td>1879.15</td>\n",
       "      <td>-8.0</td>\n",
       "      <td>6100.0</td>\n",
       "      <td>296250.0</td>\n",
       "    </tr>\n",
       "    <tr>\n",
       "      <th>2022-11-27</th>\n",
       "      <td>1879.15</td>\n",
       "      <td>-8.0</td>\n",
       "      <td>6100.0</td>\n",
       "      <td>296250.0</td>\n",
       "    </tr>\n",
       "    <tr>\n",
       "      <th>2022-11-28</th>\n",
       "      <td>1879.15</td>\n",
       "      <td>-8.0</td>\n",
       "      <td>5664.0</td>\n",
       "      <td>201478.0</td>\n",
       "    </tr>\n",
       "    <tr>\n",
       "      <th>2022-11-29</th>\n",
       "      <td>1879.15</td>\n",
       "      <td>-8.0</td>\n",
       "      <td>5592.0</td>\n",
       "      <td>77130.0</td>\n",
       "    </tr>\n",
       "    <tr>\n",
       "      <th>2022-11-30</th>\n",
       "      <td>1879.15</td>\n",
       "      <td>-8.0</td>\n",
       "      <td>5242.0</td>\n",
       "      <td>119783.0</td>\n",
       "    </tr>\n",
       "  </tbody>\n",
       "</table>\n",
       "<p>8370 rows × 4 columns</p>\n",
       "</div>"
      ],
      "text/plain": [
       "            자동차용 경유 가격 (원)  전월비(%)      평균       거래량\n",
       "거래년월일                                               \n",
       "2000-01-01          583.35     4.0  5600.0  102285.0\n",
       "2000-01-02          583.35     4.0  5600.0  102285.0\n",
       "2000-01-03          583.35     4.0  5600.0  102285.0\n",
       "2000-01-04          583.35     4.0  5600.0  715338.0\n",
       "2000-01-05          583.35     4.0  5620.0  340568.0\n",
       "...                    ...     ...     ...       ...\n",
       "2022-11-26         1879.15    -8.0  6100.0  296250.0\n",
       "2022-11-27         1879.15    -8.0  6100.0  296250.0\n",
       "2022-11-28         1879.15    -8.0  5664.0  201478.0\n",
       "2022-11-29         1879.15    -8.0  5592.0   77130.0\n",
       "2022-11-30         1879.15    -8.0  5242.0  119783.0\n",
       "\n",
       "[8370 rows x 4 columns]"
      ]
     },
     "execution_count": 43,
     "metadata": {},
     "output_type": "execute_result"
    }
   ],
   "source": [
    "merge"
   ]
  },
  {
   "cell_type": "code",
   "execution_count": 54,
   "metadata": {},
   "outputs": [
    {
     "data": {
      "text/html": [
       "<div>\n",
       "<style scoped>\n",
       "    .dataframe tbody tr th:only-of-type {\n",
       "        vertical-align: middle;\n",
       "    }\n",
       "\n",
       "    .dataframe tbody tr th {\n",
       "        vertical-align: top;\n",
       "    }\n",
       "\n",
       "    .dataframe thead th {\n",
       "        text-align: right;\n",
       "    }\n",
       "</style>\n",
       "<table border=\"1\" class=\"dataframe\">\n",
       "  <thead>\n",
       "    <tr style=\"text-align: right;\">\n",
       "      <th></th>\n",
       "      <th>구분</th>\n",
       "      <th>평균</th>\n",
       "    </tr>\n",
       "  </thead>\n",
       "  <tbody>\n",
       "    <tr>\n",
       "      <th>0</th>\n",
       "      <td>2000-01-03</td>\n",
       "      <td>5600.0</td>\n",
       "    </tr>\n",
       "    <tr>\n",
       "      <th>1</th>\n",
       "      <td>2000-01-04</td>\n",
       "      <td>5600.0</td>\n",
       "    </tr>\n",
       "    <tr>\n",
       "      <th>2</th>\n",
       "      <td>2000-01-05</td>\n",
       "      <td>5620.0</td>\n",
       "    </tr>\n",
       "    <tr>\n",
       "      <th>3</th>\n",
       "      <td>2000-01-06</td>\n",
       "      <td>5700.0</td>\n",
       "    </tr>\n",
       "    <tr>\n",
       "      <th>4</th>\n",
       "      <td>2000-01-07</td>\n",
       "      <td>5670.0</td>\n",
       "    </tr>\n",
       "    <tr>\n",
       "      <th>...</th>\n",
       "      <td>...</td>\n",
       "      <td>...</td>\n",
       "    </tr>\n",
       "    <tr>\n",
       "      <th>5877</th>\n",
       "      <td>2022-11-24</td>\n",
       "      <td>6100.0</td>\n",
       "    </tr>\n",
       "    <tr>\n",
       "      <th>5878</th>\n",
       "      <td>2022-11-25</td>\n",
       "      <td>6100.0</td>\n",
       "    </tr>\n",
       "    <tr>\n",
       "      <th>5879</th>\n",
       "      <td>2022-11-28</td>\n",
       "      <td>5664.0</td>\n",
       "    </tr>\n",
       "    <tr>\n",
       "      <th>5880</th>\n",
       "      <td>2022-11-29</td>\n",
       "      <td>5592.0</td>\n",
       "    </tr>\n",
       "    <tr>\n",
       "      <th>5881</th>\n",
       "      <td>2022-11-30</td>\n",
       "      <td>5242.0</td>\n",
       "    </tr>\n",
       "  </tbody>\n",
       "</table>\n",
       "<p>5878 rows × 2 columns</p>\n",
       "</div>"
      ],
      "text/plain": [
       "             구분      평균\n",
       "0    2000-01-03  5600.0\n",
       "1    2000-01-04  5600.0\n",
       "2    2000-01-05  5620.0\n",
       "3    2000-01-06  5700.0\n",
       "4    2000-01-07  5670.0\n",
       "...         ...     ...\n",
       "5877 2022-11-24  6100.0\n",
       "5878 2022-11-25  6100.0\n",
       "5879 2022-11-28  5664.0\n",
       "5880 2022-11-29  5592.0\n",
       "5881 2022-11-30  5242.0\n",
       "\n",
       "[5878 rows x 2 columns]"
      ]
     },
     "execution_count": 54,
     "metadata": {},
     "output_type": "execute_result"
    }
   ],
   "source": [
    "price= pd.read_csv('data/price/price_baechoo.csv')\n",
    "price[\"구분\"] = pd.to_datetime(price[\"구분\"],format=\"%Y-%m-%d\")\n",
    "price_train= price[price[\"구분\"] < '2022-12-01']\n",
    "price_train"
   ]
  },
  {
   "cell_type": "code",
   "execution_count": 60,
   "metadata": {},
   "outputs": [
    {
     "data": {
      "text/html": [
       "<div>\n",
       "<style scoped>\n",
       "    .dataframe tbody tr th:only-of-type {\n",
       "        vertical-align: middle;\n",
       "    }\n",
       "\n",
       "    .dataframe tbody tr th {\n",
       "        vertical-align: top;\n",
       "    }\n",
       "\n",
       "    .dataframe thead th {\n",
       "        text-align: right;\n",
       "    }\n",
       "</style>\n",
       "<table border=\"1\" class=\"dataframe\">\n",
       "  <thead>\n",
       "    <tr style=\"text-align: right;\">\n",
       "      <th></th>\n",
       "      <th>구분</th>\n",
       "      <th>평균</th>\n",
       "    </tr>\n",
       "  </thead>\n",
       "  <tbody>\n",
       "    <tr>\n",
       "      <th>47</th>\n",
       "      <td>2029-02-01</td>\n",
       "      <td>7430.0</td>\n",
       "    </tr>\n",
       "    <tr>\n",
       "      <th>2252</th>\n",
       "      <td>2029-02-01</td>\n",
       "      <td>4110.0</td>\n",
       "    </tr>\n",
       "    <tr>\n",
       "      <th>3254</th>\n",
       "      <td>2029-02-01</td>\n",
       "      <td>6600.0</td>\n",
       "    </tr>\n",
       "    <tr>\n",
       "      <th>4219</th>\n",
       "      <td>2029-02-01</td>\n",
       "      <td>9400.0</td>\n",
       "    </tr>\n",
       "    <tr>\n",
       "      <th>5882</th>\n",
       "      <td>2022-12-01</td>\n",
       "      <td>5462.0</td>\n",
       "    </tr>\n",
       "    <tr>\n",
       "      <th>5883</th>\n",
       "      <td>2022-12-05</td>\n",
       "      <td>5982.0</td>\n",
       "    </tr>\n",
       "    <tr>\n",
       "      <th>5884</th>\n",
       "      <td>2022-12-06</td>\n",
       "      <td>5502.0</td>\n",
       "    </tr>\n",
       "    <tr>\n",
       "      <th>5885</th>\n",
       "      <td>2022-12-07</td>\n",
       "      <td>5488.0</td>\n",
       "    </tr>\n",
       "    <tr>\n",
       "      <th>5886</th>\n",
       "      <td>2022-12-08</td>\n",
       "      <td>5408.0</td>\n",
       "    </tr>\n",
       "    <tr>\n",
       "      <th>5887</th>\n",
       "      <td>2022-12-09</td>\n",
       "      <td>5408.0</td>\n",
       "    </tr>\n",
       "    <tr>\n",
       "      <th>5888</th>\n",
       "      <td>2022-12-12</td>\n",
       "      <td>5244.5</td>\n",
       "    </tr>\n",
       "    <tr>\n",
       "      <th>5889</th>\n",
       "      <td>2022-12-13</td>\n",
       "      <td>5245.5</td>\n",
       "    </tr>\n",
       "    <tr>\n",
       "      <th>5890</th>\n",
       "      <td>2022-12-14</td>\n",
       "      <td>5430.5</td>\n",
       "    </tr>\n",
       "    <tr>\n",
       "      <th>5891</th>\n",
       "      <td>2022-12-15</td>\n",
       "      <td>5430.5</td>\n",
       "    </tr>\n",
       "    <tr>\n",
       "      <th>5892</th>\n",
       "      <td>2022-12-16</td>\n",
       "      <td>5304.0</td>\n",
       "    </tr>\n",
       "    <tr>\n",
       "      <th>5893</th>\n",
       "      <td>2022-12-19</td>\n",
       "      <td>5459.5</td>\n",
       "    </tr>\n",
       "    <tr>\n",
       "      <th>5894</th>\n",
       "      <td>2022-12-20</td>\n",
       "      <td>5764.0</td>\n",
       "    </tr>\n",
       "  </tbody>\n",
       "</table>\n",
       "</div>"
      ],
      "text/plain": [
       "             구분      평균\n",
       "47   2029-02-01  7430.0\n",
       "2252 2029-02-01  4110.0\n",
       "3254 2029-02-01  6600.0\n",
       "4219 2029-02-01  9400.0\n",
       "5882 2022-12-01  5462.0\n",
       "5883 2022-12-05  5982.0\n",
       "5884 2022-12-06  5502.0\n",
       "5885 2022-12-07  5488.0\n",
       "5886 2022-12-08  5408.0\n",
       "5887 2022-12-09  5408.0\n",
       "5888 2022-12-12  5244.5\n",
       "5889 2022-12-13  5245.5\n",
       "5890 2022-12-14  5430.5\n",
       "5891 2022-12-15  5430.5\n",
       "5892 2022-12-16  5304.0\n",
       "5893 2022-12-19  5459.5\n",
       "5894 2022-12-20  5764.0"
      ]
     },
     "execution_count": 60,
     "metadata": {},
     "output_type": "execute_result"
    }
   ],
   "source": [
    "price_test= price[price[\"구분\"] >= '2022-12-01']\n",
    "price_test"
   ]
  },
  {
   "cell_type": "code",
   "execution_count": 59,
   "metadata": {},
   "outputs": [
    {
     "ename": "NotImplementedError",
     "evalue": "\nstatsmodels.tsa.arima_model.ARMA and statsmodels.tsa.arima_model.ARIMA have\nbeen removed in favor of statsmodels.tsa.arima.model.ARIMA (note the .\nbetween arima and model) and statsmodels.tsa.SARIMAX.\n\nstatsmodels.tsa.arima.model.ARIMA makes use of the statespace framework and\nis both well tested and maintained. It also offers alternative specialized\nparameter estimators.\n",
     "output_type": "error",
     "traceback": [
      "\u001b[1;31m---------------------------------------------------------------------------\u001b[0m",
      "\u001b[1;31mNotImplementedError\u001b[0m                       Traceback (most recent call last)",
      "\u001b[1;32mc:\\Users\\LG-PC\\OneDrive\\문서\\GitHub\\Final_Predict_Agricultural\\test.ipynb Cell 6\u001b[0m in \u001b[0;36m<cell line: 4>\u001b[1;34m()\u001b[0m\n\u001b[0;32m      <a href='vscode-notebook-cell:/c%3A/Users/LG-PC/OneDrive/%EB%AC%B8%EC%84%9C/GitHub/Final_Predict_Agricultural/test.ipynb#X44sZmlsZQ%3D%3D?line=0'>1</a>\u001b[0m \u001b[39mfrom\u001b[39;00m \u001b[39mstatsmodels\u001b[39;00m\u001b[39m.\u001b[39;00m\u001b[39mtsa\u001b[39;00m\u001b[39m.\u001b[39;00m\u001b[39marima_model\u001b[39;00m \u001b[39mimport\u001b[39;00m ARIMA\n\u001b[0;32m      <a href='vscode-notebook-cell:/c%3A/Users/LG-PC/OneDrive/%EB%AC%B8%EC%84%9C/GitHub/Final_Predict_Agricultural/test.ipynb#X44sZmlsZQ%3D%3D?line=1'>2</a>\u001b[0m \u001b[39mimport\u001b[39;00m \u001b[39mstatsmodels\u001b[39;00m\u001b[39m.\u001b[39;00m\u001b[39mapi\u001b[39;00m \u001b[39mas\u001b[39;00m \u001b[39msm\u001b[39;00m\n\u001b[1;32m----> <a href='vscode-notebook-cell:/c%3A/Users/LG-PC/OneDrive/%EB%AC%B8%EC%84%9C/GitHub/Final_Predict_Agricultural/test.ipynb#X44sZmlsZQ%3D%3D?line=3'>4</a>\u001b[0m model\u001b[39m=\u001b[39m ARIMA(price_train[\u001b[39m'\u001b[39;49m\u001b[39m평균\u001b[39;49m\u001b[39m'\u001b[39;49m], order\u001b[39m=\u001b[39;49m(\u001b[39m1\u001b[39;49m,\u001b[39m2\u001b[39;49m,\u001b[39m0\u001b[39;49m))\n\u001b[0;32m      <a href='vscode-notebook-cell:/c%3A/Users/LG-PC/OneDrive/%EB%AC%B8%EC%84%9C/GitHub/Final_Predict_Agricultural/test.ipynb#X44sZmlsZQ%3D%3D?line=4'>5</a>\u001b[0m model_fit\u001b[39m=\u001b[39m model\u001b[39m.\u001b[39mfit(trend\u001b[39m=\u001b[39m\u001b[39m'\u001b[39m\u001b[39mnc\u001b[39m\u001b[39m'\u001b[39m, full_output\u001b[39m=\u001b[39m \u001b[39mTrue\u001b[39;00m, disp\u001b[39m=\u001b[39m\u001b[39mTrue\u001b[39;00m)\n\u001b[0;32m      <a href='vscode-notebook-cell:/c%3A/Users/LG-PC/OneDrive/%EB%AC%B8%EC%84%9C/GitHub/Final_Predict_Agricultural/test.ipynb#X44sZmlsZQ%3D%3D?line=5'>6</a>\u001b[0m \u001b[39mprint\u001b[39m(model_fit\u001b[39m.\u001b[39msummary())\n",
      "File \u001b[1;32mc:\\Users\\LG-PC\\anaconda3\\lib\\site-packages\\statsmodels\\tsa\\arima_model.py:45\u001b[0m, in \u001b[0;36mARIMA.__init__\u001b[1;34m(self, *args, **kwargs)\u001b[0m\n\u001b[0;32m     44\u001b[0m \u001b[39mdef\u001b[39;00m \u001b[39m__init__\u001b[39m(\u001b[39mself\u001b[39m, \u001b[39m*\u001b[39margs, \u001b[39m*\u001b[39m\u001b[39m*\u001b[39mkwargs):\n\u001b[1;32m---> 45\u001b[0m     \u001b[39msuper\u001b[39m()\u001b[39m.\u001b[39m\u001b[39m__init__\u001b[39m(\u001b[39m*\u001b[39margs, \u001b[39m*\u001b[39m\u001b[39m*\u001b[39mkwargs)\n",
      "File \u001b[1;32mc:\\Users\\LG-PC\\anaconda3\\lib\\site-packages\\statsmodels\\tsa\\arima_model.py:29\u001b[0m, in \u001b[0;36mARMA.__init__\u001b[1;34m(self, *args, **kwargs)\u001b[0m\n\u001b[0;32m     28\u001b[0m \u001b[39mdef\u001b[39;00m \u001b[39m__init__\u001b[39m(\u001b[39mself\u001b[39m, \u001b[39m*\u001b[39margs, \u001b[39m*\u001b[39m\u001b[39m*\u001b[39mkwargs):\n\u001b[1;32m---> 29\u001b[0m     \u001b[39mraise\u001b[39;00m \u001b[39mNotImplementedError\u001b[39;00m(ARIMA_DEPRECATION_ERROR)\n",
      "\u001b[1;31mNotImplementedError\u001b[0m: \nstatsmodels.tsa.arima_model.ARMA and statsmodels.tsa.arima_model.ARIMA have\nbeen removed in favor of statsmodels.tsa.arima.model.ARIMA (note the .\nbetween arima and model) and statsmodels.tsa.SARIMAX.\n\nstatsmodels.tsa.arima.model.ARIMA makes use of the statespace framework and\nis both well tested and maintained. It also offers alternative specialized\nparameter estimators.\n"
     ]
    }
   ],
   "source": [
    "from statsmodels.tsa.arima_model import ARIMA\n",
    "import statsmodels.api as sm\n",
    "\n",
    "model= ARIMA(price_train['평균'], order=(1,2,0))\n",
    "model_fit= model.fit(trend='nc', full_output= True, disp=True)\n",
    "print(model_fit.summary())"
   ]
  },
  {
   "cell_type": "code",
   "execution_count": null,
   "metadata": {},
   "outputs": [],
   "source": []
  },
  {
   "cell_type": "code",
   "execution_count": null,
   "metadata": {},
   "outputs": [],
   "source": []
  },
  {
   "cell_type": "code",
   "execution_count": 26,
   "metadata": {},
   "outputs": [
    {
     "data": {
      "text/html": [
       "<div>\n",
       "<style scoped>\n",
       "    .dataframe tbody tr th:only-of-type {\n",
       "        vertical-align: middle;\n",
       "    }\n",
       "\n",
       "    .dataframe tbody tr th {\n",
       "        vertical-align: top;\n",
       "    }\n",
       "\n",
       "    .dataframe thead th {\n",
       "        text-align: right;\n",
       "    }\n",
       "</style>\n",
       "<table border=\"1\" class=\"dataframe\">\n",
       "  <thead>\n",
       "    <tr style=\"text-align: right;\">\n",
       "      <th></th>\n",
       "      <th>자동차용 경유 가격 (원)</th>\n",
       "      <th>전월비(%)</th>\n",
       "      <th>평균</th>\n",
       "      <th>거래량</th>\n",
       "    </tr>\n",
       "    <tr>\n",
       "      <th>거래년월일</th>\n",
       "      <th></th>\n",
       "      <th></th>\n",
       "      <th></th>\n",
       "      <th></th>\n",
       "    </tr>\n",
       "  </thead>\n",
       "  <tbody>\n",
       "    <tr>\n",
       "      <th>2000-01-01</th>\n",
       "      <td>0.022324</td>\n",
       "      <td>0.540453</td>\n",
       "      <td>5600.0</td>\n",
       "      <td>0.028243</td>\n",
       "    </tr>\n",
       "    <tr>\n",
       "      <th>2000-01-02</th>\n",
       "      <td>0.022324</td>\n",
       "      <td>0.540453</td>\n",
       "      <td>5600.0</td>\n",
       "      <td>0.028243</td>\n",
       "    </tr>\n",
       "    <tr>\n",
       "      <th>2000-01-03</th>\n",
       "      <td>0.022324</td>\n",
       "      <td>0.540453</td>\n",
       "      <td>5600.0</td>\n",
       "      <td>0.028243</td>\n",
       "    </tr>\n",
       "    <tr>\n",
       "      <th>2000-01-04</th>\n",
       "      <td>0.022324</td>\n",
       "      <td>0.540453</td>\n",
       "      <td>5600.0</td>\n",
       "      <td>0.197620</td>\n",
       "    </tr>\n",
       "    <tr>\n",
       "      <th>2000-01-05</th>\n",
       "      <td>0.022324</td>\n",
       "      <td>0.540453</td>\n",
       "      <td>5620.0</td>\n",
       "      <td>0.094077</td>\n",
       "    </tr>\n",
       "    <tr>\n",
       "      <th>...</th>\n",
       "      <td>...</td>\n",
       "      <td>...</td>\n",
       "      <td>...</td>\n",
       "      <td>...</td>\n",
       "    </tr>\n",
       "    <tr>\n",
       "      <th>2022-11-26</th>\n",
       "      <td>0.863720</td>\n",
       "      <td>0.152104</td>\n",
       "      <td>6100.0</td>\n",
       "      <td>0.081833</td>\n",
       "    </tr>\n",
       "    <tr>\n",
       "      <th>2022-11-27</th>\n",
       "      <td>0.863720</td>\n",
       "      <td>0.152104</td>\n",
       "      <td>6100.0</td>\n",
       "      <td>0.081833</td>\n",
       "    </tr>\n",
       "    <tr>\n",
       "      <th>2022-11-28</th>\n",
       "      <td>0.863720</td>\n",
       "      <td>0.152104</td>\n",
       "      <td>5664.0</td>\n",
       "      <td>0.055649</td>\n",
       "    </tr>\n",
       "    <tr>\n",
       "      <th>2022-11-29</th>\n",
       "      <td>0.863720</td>\n",
       "      <td>0.152104</td>\n",
       "      <td>5592.0</td>\n",
       "      <td>0.021293</td>\n",
       "    </tr>\n",
       "    <tr>\n",
       "      <th>2022-11-30</th>\n",
       "      <td>0.863720</td>\n",
       "      <td>0.152104</td>\n",
       "      <td>5242.0</td>\n",
       "      <td>0.033078</td>\n",
       "    </tr>\n",
       "  </tbody>\n",
       "</table>\n",
       "<p>8370 rows × 4 columns</p>\n",
       "</div>"
      ],
      "text/plain": [
       "            자동차용 경유 가격 (원)    전월비(%)      평균       거래량\n",
       "거래년월일                                                 \n",
       "2000-01-01        0.022324  0.540453  5600.0  0.028243\n",
       "2000-01-02        0.022324  0.540453  5600.0  0.028243\n",
       "2000-01-03        0.022324  0.540453  5600.0  0.028243\n",
       "2000-01-04        0.022324  0.540453  5600.0  0.197620\n",
       "2000-01-05        0.022324  0.540453  5620.0  0.094077\n",
       "...                    ...       ...     ...       ...\n",
       "2022-11-26        0.863720  0.152104  6100.0  0.081833\n",
       "2022-11-27        0.863720  0.152104  6100.0  0.081833\n",
       "2022-11-28        0.863720  0.152104  5664.0  0.055649\n",
       "2022-11-29        0.863720  0.152104  5592.0  0.021293\n",
       "2022-11-30        0.863720  0.152104  5242.0  0.033078\n",
       "\n",
       "[8370 rows x 4 columns]"
      ]
     },
     "execution_count": 26,
     "metadata": {},
     "output_type": "execute_result"
    }
   ],
   "source": [
    "feature_cols= ['자동차용 경유 가격 (원)', '전월비(%)', '거래량']\n",
    "label_col= ['평균']\n",
    "\n",
    "X= merge[feature_cols]\n",
    "y= merge[label_col]\n",
    "\n",
    "scaler= MinMaxScaler()\n",
    "merge[feature_cols]= scaler.fit_transform(X)\n",
    "merge\n"
   ]
  },
  {
   "cell_type": "code",
   "execution_count": 27,
   "metadata": {},
   "outputs": [],
   "source": [
    "TEST_SIZE = 200\n",
    "WINDOW_SIZE = 20\n",
    "\n",
    "train = merge[:-TEST_SIZE]\n",
    "test = merge[-TEST_SIZE:]"
   ]
  },
  {
   "cell_type": "code",
   "execution_count": 30,
   "metadata": {},
   "outputs": [],
   "source": [
    "def make_dataset(data, label, window_size=20):\n",
    "    feature_list = []\n",
    "    label_list = []\n",
    "    for i in range(len(data) - window_size):\n",
    "        feature_list.append(np.array(data.iloc[i:i+window_size]))\n",
    "        label_list.append(np.array(label.iloc[i+window_size]))\n",
    "    return np.array(feature_list), np.array(label_list)"
   ]
  },
  {
   "cell_type": "code",
   "execution_count": 31,
   "metadata": {},
   "outputs": [
    {
     "data": {
      "text/plain": [
       "((6520, 20, 3), (1630, 20, 3))"
      ]
     },
     "execution_count": 31,
     "metadata": {},
     "output_type": "execute_result"
    }
   ],
   "source": [
    "from sklearn.model_selection import train_test_split\n",
    "\n",
    "train_feature= train[feature_cols]\n",
    "train_label= train[label_col]\n",
    "\n",
    "train_feature, train_label = make_dataset(train_feature, train_label, 20)\n",
    "\n",
    "x_train, x_valid, y_train, y_valid = train_test_split(train_feature, train_label, test_size=0.2)\n",
    "x_train.shape, x_valid.shape"
   ]
  },
  {
   "cell_type": "code",
   "execution_count": 33,
   "metadata": {},
   "outputs": [
    {
     "data": {
      "text/plain": [
       "((200, 3), (200, 1))"
      ]
     },
     "execution_count": 33,
     "metadata": {},
     "output_type": "execute_result"
    }
   ],
   "source": [
    "test_feature = test[feature_cols]\n",
    "test_label = test[label_col]\n",
    "\n",
    "test_feature.shape, test_label.shape"
   ]
  },
  {
   "cell_type": "code",
   "execution_count": 34,
   "metadata": {},
   "outputs": [
    {
     "data": {
      "text/plain": [
       "((180, 20, 3), (180, 1))"
      ]
     },
     "execution_count": 34,
     "metadata": {},
     "output_type": "execute_result"
    }
   ],
   "source": [
    "test_feature, test_label = make_dataset(test_feature, test_label, 20)\n",
    "test_feature.shape, test_label.shape"
   ]
  },
  {
   "cell_type": "code",
   "execution_count": 35,
   "metadata": {},
   "outputs": [],
   "source": [
    "from keras.models import Sequential\n",
    "from keras.layers import Dense\n",
    "from keras.callbacks import EarlyStopping, ModelCheckpoint\n",
    "from keras.layers import LSTM\n",
    "\n",
    "model = Sequential()\n",
    "model.add(LSTM(16, \n",
    "               input_shape=(train_feature.shape[1], train_feature.shape[2]), \n",
    "               activation='relu', \n",
    "               return_sequences=False)\n",
    "          )\n",
    "\n",
    "model.add(Dense(1))"
   ]
  },
  {
   "cell_type": "code",
   "execution_count": 37,
   "metadata": {},
   "outputs": [
    {
     "name": "stdout",
     "output_type": "stream",
     "text": [
      "Requirement already satisfied: h5py in c:\\users\\lg-pc\\anaconda3\\lib\\site-packages (3.7.0)\n",
      "Requirement already satisfied: numpy>=1.14.5 in c:\\users\\lg-pc\\anaconda3\\lib\\site-packages (from h5py) (1.21.5)\n"
     ]
    }
   ],
   "source": [
    "! pip install h5py"
   ]
  },
  {
   "cell_type": "code",
   "execution_count": 40,
   "metadata": {},
   "outputs": [
    {
     "name": "stdout",
     "output_type": "stream",
     "text": [
      "Epoch 1/200\n",
      "407/408 [============================>.] - ETA: 0s - loss: 11079311.0000\n",
      "Epoch 00001: val_loss improved from inf to 11675166.00000, saving model to model\\tmp_checkpoint.h5\n"
     ]
    },
    {
     "ename": "ImportError",
     "evalue": "`save_model()` using h5 format requires h5py. Could not import h5py.",
     "output_type": "error",
     "traceback": [
      "\u001b[1;31m---------------------------------------------------------------------------\u001b[0m",
      "\u001b[1;31mImportError\u001b[0m                               Traceback (most recent call last)",
      "\u001b[1;32mc:\\Users\\LG-PC\\OneDrive\\문서\\GitHub\\Final_Predict_Agricultural\\test.ipynb Cell 12\u001b[0m in \u001b[0;36m<cell line: 10>\u001b[1;34m()\u001b[0m\n\u001b[0;32m      <a href='vscode-notebook-cell:/c%3A/Users/LG-PC/OneDrive/%EB%AC%B8%EC%84%9C/GitHub/Final_Predict_Agricultural/test.ipynb#X34sZmlsZQ%3D%3D?line=6'>7</a>\u001b[0m filename \u001b[39m=\u001b[39m os\u001b[39m.\u001b[39mpath\u001b[39m.\u001b[39mjoin(model_path, \u001b[39m'\u001b[39m\u001b[39mtmp_checkpoint.h5\u001b[39m\u001b[39m'\u001b[39m)\n\u001b[0;32m      <a href='vscode-notebook-cell:/c%3A/Users/LG-PC/OneDrive/%EB%AC%B8%EC%84%9C/GitHub/Final_Predict_Agricultural/test.ipynb#X34sZmlsZQ%3D%3D?line=7'>8</a>\u001b[0m checkpoint \u001b[39m=\u001b[39m ModelCheckpoint(filename, monitor\u001b[39m=\u001b[39m\u001b[39m'\u001b[39m\u001b[39mval_loss\u001b[39m\u001b[39m'\u001b[39m, verbose\u001b[39m=\u001b[39m\u001b[39m1\u001b[39m, save_best_only\u001b[39m=\u001b[39m\u001b[39mTrue\u001b[39;00m, mode\u001b[39m=\u001b[39m\u001b[39m'\u001b[39m\u001b[39mauto\u001b[39m\u001b[39m'\u001b[39m)\n\u001b[1;32m---> <a href='vscode-notebook-cell:/c%3A/Users/LG-PC/OneDrive/%EB%AC%B8%EC%84%9C/GitHub/Final_Predict_Agricultural/test.ipynb#X34sZmlsZQ%3D%3D?line=9'>10</a>\u001b[0m history \u001b[39m=\u001b[39m model\u001b[39m.\u001b[39;49mfit(x_train, y_train, \n\u001b[0;32m     <a href='vscode-notebook-cell:/c%3A/Users/LG-PC/OneDrive/%EB%AC%B8%EC%84%9C/GitHub/Final_Predict_Agricultural/test.ipynb#X34sZmlsZQ%3D%3D?line=10'>11</a>\u001b[0m                                     epochs\u001b[39m=\u001b[39;49m\u001b[39m200\u001b[39;49m, \n\u001b[0;32m     <a href='vscode-notebook-cell:/c%3A/Users/LG-PC/OneDrive/%EB%AC%B8%EC%84%9C/GitHub/Final_Predict_Agricultural/test.ipynb#X34sZmlsZQ%3D%3D?line=11'>12</a>\u001b[0m                                     batch_size\u001b[39m=\u001b[39;49m\u001b[39m16\u001b[39;49m,\n\u001b[0;32m     <a href='vscode-notebook-cell:/c%3A/Users/LG-PC/OneDrive/%EB%AC%B8%EC%84%9C/GitHub/Final_Predict_Agricultural/test.ipynb#X34sZmlsZQ%3D%3D?line=12'>13</a>\u001b[0m                                     validation_data\u001b[39m=\u001b[39;49m(x_valid, y_valid), \n\u001b[0;32m     <a href='vscode-notebook-cell:/c%3A/Users/LG-PC/OneDrive/%EB%AC%B8%EC%84%9C/GitHub/Final_Predict_Agricultural/test.ipynb#X34sZmlsZQ%3D%3D?line=13'>14</a>\u001b[0m                                     callbacks\u001b[39m=\u001b[39;49m[early_stop, checkpoint])\n",
      "File \u001b[1;32mc:\\Users\\LG-PC\\anaconda3\\lib\\site-packages\\keras\\utils\\traceback_utils.py:67\u001b[0m, in \u001b[0;36mfilter_traceback.<locals>.error_handler\u001b[1;34m(*args, **kwargs)\u001b[0m\n\u001b[0;32m     65\u001b[0m \u001b[39mexcept\u001b[39;00m \u001b[39mException\u001b[39;00m \u001b[39mas\u001b[39;00m e:  \u001b[39m# pylint: disable=broad-except\u001b[39;00m\n\u001b[0;32m     66\u001b[0m   filtered_tb \u001b[39m=\u001b[39m _process_traceback_frames(e\u001b[39m.\u001b[39m__traceback__)\n\u001b[1;32m---> 67\u001b[0m   \u001b[39mraise\u001b[39;00m e\u001b[39m.\u001b[39mwith_traceback(filtered_tb) \u001b[39mfrom\u001b[39;00m \u001b[39mNone\u001b[39m\n\u001b[0;32m     68\u001b[0m \u001b[39mfinally\u001b[39;00m:\n\u001b[0;32m     69\u001b[0m   \u001b[39mdel\u001b[39;00m filtered_tb\n",
      "File \u001b[1;32mc:\\Users\\LG-PC\\anaconda3\\lib\\site-packages\\keras\\saving\\hdf5_format.py:79\u001b[0m, in \u001b[0;36msave_model_to_hdf5\u001b[1;34m(model, filepath, overwrite, include_optimizer)\u001b[0m\n\u001b[0;32m     53\u001b[0m \u001b[39m\"\"\"Saves a model to a HDF5 file.\u001b[39;00m\n\u001b[0;32m     54\u001b[0m \n\u001b[0;32m     55\u001b[0m \u001b[39mThe saved model contains:\u001b[39;00m\n\u001b[1;32m   (...)\u001b[0m\n\u001b[0;32m     75\u001b[0m \u001b[39m    ImportError: if h5py is not available.\u001b[39;00m\n\u001b[0;32m     76\u001b[0m \u001b[39m\"\"\"\u001b[39;00m\n\u001b[0;32m     78\u001b[0m \u001b[39mif\u001b[39;00m h5py \u001b[39mis\u001b[39;00m \u001b[39mNone\u001b[39;00m:\n\u001b[1;32m---> 79\u001b[0m   \u001b[39mraise\u001b[39;00m \u001b[39mImportError\u001b[39;00m(\u001b[39m'\u001b[39m\u001b[39m`save_model()` using h5 format requires h5py. Could not \u001b[39m\u001b[39m'\u001b[39m\n\u001b[0;32m     80\u001b[0m                     \u001b[39m'\u001b[39m\u001b[39mimport h5py.\u001b[39m\u001b[39m'\u001b[39m)\n\u001b[0;32m     82\u001b[0m \u001b[39m# TODO(psv) Add warning when we save models that contain non-serializable\u001b[39;00m\n\u001b[0;32m     83\u001b[0m \u001b[39m# entities like metrics added using `add_metric` and losses added using\u001b[39;00m\n\u001b[0;32m     84\u001b[0m \u001b[39m# `add_loss.`\u001b[39;00m\n\u001b[0;32m     85\u001b[0m \u001b[39mif\u001b[39;00m \u001b[39mlen\u001b[39m(model\u001b[39m.\u001b[39mweights) \u001b[39m!=\u001b[39m \u001b[39mlen\u001b[39m(model\u001b[39m.\u001b[39m_undeduplicated_weights):\n",
      "\u001b[1;31mImportError\u001b[0m: `save_model()` using h5 format requires h5py. Could not import h5py."
     ]
    }
   ],
   "source": [
    "import os\n",
    "\n",
    "model.compile(loss='mean_squared_error', optimizer='adam')\n",
    "model.fit"
   ]
  },
  {
   "cell_type": "code",
   "execution_count": null,
   "metadata": {},
   "outputs": [],
   "source": []
  },
  {
   "cell_type": "code",
   "execution_count": null,
   "metadata": {},
   "outputs": [],
   "source": []
  },
  {
   "cell_type": "code",
   "execution_count": null,
   "metadata": {},
   "outputs": [],
   "source": []
  },
  {
   "cell_type": "code",
   "execution_count": 10,
   "metadata": {},
   "outputs": [],
   "source": [
    "from sklearn.model_selection import train_test_split\n",
    "\n",
    "feature_cols= ['자동차용 경유 가격 (원)', '전월비(%)', '거래량']\n",
    "label_col= ['평균']\n",
    "\n",
    "X= df[feature_cols]\n",
    "y= df[label_col]\n",
    "\n",
    "X_train, X_test, y_train, y_test= train_test_split(X, y, test_size=0.2)"
   ]
  },
  {
   "cell_type": "code",
   "execution_count": 12,
   "metadata": {},
   "outputs": [],
   "source": [
    "from keras.models import Sequential\n",
    "from keras.layers import Dense\n",
    "from keras.callbacks import EarlyStopping, ModelCheckpoint\n",
    "from keras.layers import LSTM"
   ]
  },
  {
   "cell_type": "code",
   "execution_count": 13,
   "metadata": {},
   "outputs": [],
   "source": [
    "model = Sequential()\n",
    "model.add(LSTM(16, \n",
    "               input_shape=(X_train.shape[1], 1), \n",
    "               activation='relu', \n",
    "               return_sequences=False)\n",
    "          )\n",
    "\n",
    "model.add(Dense(1))"
   ]
  },
  {
   "cell_type": "code",
   "execution_count": 16,
   "metadata": {},
   "outputs": [
    {
     "data": {
      "text/plain": [
       "<keras.callbacks.History at 0x1c6c050d910>"
      ]
     },
     "execution_count": 16,
     "metadata": {},
     "output_type": "execute_result"
    }
   ],
   "source": [
    "model.compile(loss='mean_squared_error', optimizer='adam')\n",
    "model.fit(X_train, y_train, epochs=50, batch_size=150, verbose=0)"
   ]
  },
  {
   "cell_type": "code",
   "execution_count": 17,
   "metadata": {},
   "outputs": [],
   "source": [
    "pred= model.predict(X_test)"
   ]
  },
  {
   "cell_type": "code",
   "execution_count": null,
   "metadata": {},
   "outputs": [],
   "source": []
  }
 ],
 "metadata": {
  "kernelspec": {
   "display_name": "base",
   "language": "python",
   "name": "python3"
  },
  "language_info": {
   "codemirror_mode": {
    "name": "ipython",
    "version": 3
   },
   "file_extension": ".py",
   "mimetype": "text/x-python",
   "name": "python",
   "nbconvert_exporter": "python",
   "pygments_lexer": "ipython3",
   "version": "3.9.12"
  },
  "orig_nbformat": 4,
  "vscode": {
   "interpreter": {
    "hash": "f1cedca802fbd03113b5be1437e967425583ed8b695556570e9f4a2392c4bc06"
   }
  }
 },
 "nbformat": 4,
 "nbformat_minor": 2
}
