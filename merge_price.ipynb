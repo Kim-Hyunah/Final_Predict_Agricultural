{
 "cells": [
  {
   "cell_type": "code",
   "execution_count": 52,
   "metadata": {},
   "outputs": [],
   "source": [
    "import pandas as pd\n",
    "import re\n",
    "from datetime import datetime"
   ]
  },
  {
   "cell_type": "code",
   "execution_count": 53,
   "metadata": {},
   "outputs": [],
   "source": [
    "path = \"./data/row_price_xlsx/\"\n",
    "# df.head()"
   ]
  },
  {
   "cell_type": "code",
   "execution_count": 54,
   "metadata": {},
   "outputs": [],
   "source": [
    "for i in range(2000, 2023) : \n",
    "    globals()[\"df_price_\"+str(i)] = pd.read_excel(path+\"가격정보_\"+str(i)+\"_상품.xlsx\")\n",
    "    globals()[\"df_price_\"+str(i)].drop(columns=globals()[\"df_price_\"+str(i)].columns[1],inplace=True)\n",
    "    globals()[\"df_price_\"+str(i)].drop(index=globals()[\"df_price_\"+str(i)].index[3:],inplace=True)\n",
    "    globals()[\"df_price_\"+str(i)] = globals()[\"df_price_\"+str(i)].T\n",
    "    globals()[\"df_price_\"+str(i)].rename(columns= globals()[\"df_price_\"+str(i)].iloc[0],inplace=True)\n",
    "    globals()[\"df_price_\"+str(i)].drop(index=globals()[\"df_price_\"+str(i)].index[0],inplace=True)\n",
    "    globals()[\"df_price_\"+str(i)][\"구분\"] = globals()[\"df_price_\"+str(i)][\"구분\"].apply(lambda x : re.sub(r\"2022\", str(i), str(x)))\n",
    "    globals()[\"df_price_\"+str(i)][\"구분\"] = globals()[\"df_price_\"+str(i)][\"구분\"].apply(lambda x : datetime.strptime(x, \"%Y-%m-%d %H:%M:%S\"))\n",
    "    globals()[\"df_price_\"+str(i)].set_index(\"구분\", inplace=True)"
   ]
  },
  {
   "cell_type": "code",
   "execution_count": 55,
   "metadata": {},
   "outputs": [
    {
     "data": {
      "text/plain": [
       "['df_price_2000',\n",
       " 'df_price_2001',\n",
       " 'df_price_2002',\n",
       " 'df_price_2003',\n",
       " 'df_price_2004',\n",
       " 'df_price_2005',\n",
       " 'df_price_2006',\n",
       " 'df_price_2007',\n",
       " 'df_price_2008',\n",
       " 'df_price_2009',\n",
       " 'df_price_2010',\n",
       " 'df_price_2011',\n",
       " 'df_price_2012',\n",
       " 'df_price_2013',\n",
       " 'df_price_2014',\n",
       " 'df_price_2015',\n",
       " 'df_price_2016',\n",
       " 'df_price_2017',\n",
       " 'df_price_2018',\n",
       " 'df_price_2019',\n",
       " 'df_price_2020',\n",
       " 'df_price_2021',\n",
       " 'df_price_2022']"
      ]
     },
     "execution_count": 55,
     "metadata": {},
     "output_type": "execute_result"
    }
   ],
   "source": [
    "year_list = []\n",
    "for i in range(2000, 2023) : \n",
    "    y = \"df_price_\" + str(i)\n",
    "    year_list.append(y)\n",
    "\n",
    "year_list"
   ]
  },
  {
   "cell_type": "code",
   "execution_count": 56,
   "metadata": {},
   "outputs": [],
   "source": [
    "price_baechoo = pd.concat(\n",
    "    [globals()[i] for i in year_list],\n",
    "    axis=0\n",
    ")"
   ]
  },
  {
   "cell_type": "code",
   "execution_count": 57,
   "metadata": {},
   "outputs": [],
   "source": [
    "price_baechoo_high = price_baechoo.drop(columns=\"평년\")"
   ]
  },
  {
   "cell_type": "code",
   "execution_count": 58,
   "metadata": {},
   "outputs": [
    {
     "name": "stdout",
     "output_type": "stream",
     "text": [
      "<class 'pandas.core.frame.DataFrame'>\n",
      "DatetimeIndex: 5895 entries, 2000-01-03 to 2022-12-20\n",
      "Data columns (total 1 columns):\n",
      " #   Column  Non-Null Count  Dtype \n",
      "---  ------  --------------  ----- \n",
      " 0   평균      5895 non-null   object\n",
      "dtypes: object(1)\n",
      "memory usage: 92.1+ KB\n"
     ]
    }
   ],
   "source": [
    "price_baechoo_high.info()"
   ]
  },
  {
   "cell_type": "code",
   "execution_count": 59,
   "metadata": {},
   "outputs": [],
   "source": [
    "for i in range(2000, 2023) : \n",
    "    globals()[\"df_price_\"+str(i)] = pd.read_excel(path+\"가격정보_\"+str(i)+\"_중품.xlsx\")\n",
    "    globals()[\"df_price_\"+str(i)].drop(columns=globals()[\"df_price_\"+str(i)].columns[1],inplace=True)\n",
    "    globals()[\"df_price_\"+str(i)].drop(index=globals()[\"df_price_\"+str(i)].index[3:],inplace=True)\n",
    "    globals()[\"df_price_\"+str(i)] = globals()[\"df_price_\"+str(i)].T\n",
    "    globals()[\"df_price_\"+str(i)].rename(columns= globals()[\"df_price_\"+str(i)].iloc[0],inplace=True)\n",
    "    globals()[\"df_price_\"+str(i)].drop(index=globals()[\"df_price_\"+str(i)].index[0],inplace=True)\n",
    "    globals()[\"df_price_\"+str(i)][\"구분\"] = globals()[\"df_price_\"+str(i)][\"구분\"].apply(lambda x : re.sub(r\"2022\", str(i), str(x)))\n",
    "    globals()[\"df_price_\"+str(i)][\"구분\"] = globals()[\"df_price_\"+str(i)][\"구분\"].apply(lambda x : datetime.strptime(x, \"%Y-%m-%d %H:%M:%S\"))\n",
    "    globals()[\"df_price_\"+str(i)].set_index(\"구분\", inplace=True)"
   ]
  },
  {
   "cell_type": "code",
   "execution_count": 60,
   "metadata": {},
   "outputs": [],
   "source": [
    "price_baechoo = pd.concat(\n",
    "    [globals()[i] for i in year_list],\n",
    "    axis=0\n",
    ")"
   ]
  },
  {
   "cell_type": "code",
   "execution_count": 61,
   "metadata": {},
   "outputs": [
    {
     "data": {
      "text/html": [
       "<div>\n",
       "<style scoped>\n",
       "    .dataframe tbody tr th:only-of-type {\n",
       "        vertical-align: middle;\n",
       "    }\n",
       "\n",
       "    .dataframe tbody tr th {\n",
       "        vertical-align: top;\n",
       "    }\n",
       "\n",
       "    .dataframe thead th {\n",
       "        text-align: right;\n",
       "    }\n",
       "</style>\n",
       "<table border=\"1\" class=\"dataframe\">\n",
       "  <thead>\n",
       "    <tr style=\"text-align: right;\">\n",
       "      <th></th>\n",
       "      <th>평균</th>\n",
       "    </tr>\n",
       "    <tr>\n",
       "      <th>구분</th>\n",
       "      <th></th>\n",
       "    </tr>\n",
       "  </thead>\n",
       "  <tbody>\n",
       "    <tr>\n",
       "      <th>2000-01-03</th>\n",
       "      <td>5160</td>\n",
       "    </tr>\n",
       "    <tr>\n",
       "      <th>2000-01-04</th>\n",
       "      <td>5160</td>\n",
       "    </tr>\n",
       "    <tr>\n",
       "      <th>2000-01-05</th>\n",
       "      <td>5180</td>\n",
       "    </tr>\n",
       "    <tr>\n",
       "      <th>2000-01-06</th>\n",
       "      <td>5260</td>\n",
       "    </tr>\n",
       "    <tr>\n",
       "      <th>2000-01-07</th>\n",
       "      <td>5240</td>\n",
       "    </tr>\n",
       "  </tbody>\n",
       "</table>\n",
       "</div>"
      ],
      "text/plain": [
       "              평균\n",
       "구분              \n",
       "2000-01-03  5160\n",
       "2000-01-04  5160\n",
       "2000-01-05  5180\n",
       "2000-01-06  5260\n",
       "2000-01-07  5240"
      ]
     },
     "execution_count": 61,
     "metadata": {},
     "output_type": "execute_result"
    }
   ],
   "source": [
    "price_baechoo_mid = price_baechoo.drop(columns=\"평년\")\n",
    "price_baechoo_mid.head()"
   ]
  },
  {
   "cell_type": "code",
   "execution_count": 62,
   "metadata": {},
   "outputs": [
    {
     "data": {
      "text/html": [
       "<div>\n",
       "<style scoped>\n",
       "    .dataframe tbody tr th:only-of-type {\n",
       "        vertical-align: middle;\n",
       "    }\n",
       "\n",
       "    .dataframe tbody tr th {\n",
       "        vertical-align: top;\n",
       "    }\n",
       "\n",
       "    .dataframe thead th {\n",
       "        text-align: right;\n",
       "    }\n",
       "</style>\n",
       "<table border=\"1\" class=\"dataframe\">\n",
       "  <thead>\n",
       "    <tr style=\"text-align: right;\">\n",
       "      <th></th>\n",
       "      <th>평균</th>\n",
       "      <th>평균</th>\n",
       "    </tr>\n",
       "    <tr>\n",
       "      <th>구분</th>\n",
       "      <th></th>\n",
       "      <th></th>\n",
       "    </tr>\n",
       "  </thead>\n",
       "  <tbody>\n",
       "    <tr>\n",
       "      <th>2000-01-03</th>\n",
       "      <td>5160</td>\n",
       "      <td>6040</td>\n",
       "    </tr>\n",
       "    <tr>\n",
       "      <th>2000-01-04</th>\n",
       "      <td>5160</td>\n",
       "      <td>6040</td>\n",
       "    </tr>\n",
       "    <tr>\n",
       "      <th>2000-01-05</th>\n",
       "      <td>5180</td>\n",
       "      <td>6060</td>\n",
       "    </tr>\n",
       "    <tr>\n",
       "      <th>2000-01-06</th>\n",
       "      <td>5260</td>\n",
       "      <td>6140</td>\n",
       "    </tr>\n",
       "    <tr>\n",
       "      <th>2000-01-07</th>\n",
       "      <td>5240</td>\n",
       "      <td>6100</td>\n",
       "    </tr>\n",
       "  </tbody>\n",
       "</table>\n",
       "</div>"
      ],
      "text/plain": [
       "              평균    평균\n",
       "구분                    \n",
       "2000-01-03  5160  6040\n",
       "2000-01-04  5160  6040\n",
       "2000-01-05  5180  6060\n",
       "2000-01-06  5260  6140\n",
       "2000-01-07  5240  6100"
      ]
     },
     "execution_count": 62,
     "metadata": {},
     "output_type": "execute_result"
    }
   ],
   "source": [
    "# price_baehoo_mid 와 price_baechoo_high 를 합치기\n",
    "price_baechoo = pd.concat([price_baechoo_mid, price_baechoo_high], axis=1)\n",
    "price_baechoo.head()"
   ]
  },
  {
   "cell_type": "code",
   "execution_count": null,
   "metadata": {},
   "outputs": [],
   "source": [
    "\n",
    "# price_baechoo 의 컬럼명 변경\n",
    "price_baechoo.columns = [\"중품 평균\", \"상품 평균\"]\n",
    "\n",
    "# \"중품 평균\"과 \"상품 평균\"의 평균을 구해서 \"평균\" 컬럼에 저장\n",
    "price_baechoo[\"평균\"] = (price_baechoo[\"중품 평균\"] + price_baechoo[\"상품 평균\"]) / 2\n",
    "\n",
    "# \"중품 평균\"과 \"상품 평균\" 컬럼 삭제\n",
    "price_baechoo.drop(columns=[\"중품 평균\", \"상품 평균\"], inplace=True)\n",
    "\n",
    "price_baechoo.head()"
   ]
  },
  {
   "cell_type": "code",
   "execution_count": 64,
   "metadata": {},
   "outputs": [],
   "source": [
    "price_baechoo.to_csv(\"./data/price/price_baechoo.csv\")"
   ]
  },
  {
   "cell_type": "code",
   "execution_count": null,
   "metadata": {},
   "outputs": [],
   "source": []
  }
 ],
 "metadata": {
  "kernelspec": {
   "display_name": "baseDeep",
   "language": "python",
   "name": "python3"
  },
  "language_info": {
   "codemirror_mode": {
    "name": "ipython",
    "version": 3
   },
   "file_extension": ".py",
   "mimetype": "text/x-python",
   "name": "python",
   "nbconvert_exporter": "python",
   "pygments_lexer": "ipython3",
   "version": "3.8.13"
  },
  "orig_nbformat": 4,
  "vscode": {
   "interpreter": {
    "hash": "d5bd3b74290b6fecca2d77c6682b8ba7e9275f0a56c500dd407ba5b0bc3fc494"
   }
  }
 },
 "nbformat": 4,
 "nbformat_minor": 2
}
