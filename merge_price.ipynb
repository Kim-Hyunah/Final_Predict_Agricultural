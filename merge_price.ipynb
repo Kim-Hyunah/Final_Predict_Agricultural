{
 "cells": [
  {
   "cell_type": "code",
   "execution_count": null,
   "metadata": {},
   "outputs": [],
   "source": [
    "import pandas as pd\n",
    "import re\n",
    "from datetime import datetime"
   ]
  },
  {
   "cell_type": "code",
   "execution_count": null,
   "metadata": {},
   "outputs": [],
   "source": [
    "for i in range(2000, 2023) : \n",
    "    globals()[\"df_price_\"+str(i)] = pd.read_excel(path+\"가격정보_\"+str(i)+\"_상품.xlsx\")\n",
    "    globals()[\"df_price_\"+str(i)].drop(columns=globals()[\"df_price_\"+str(i)].columns[1],inplace=True)\n",
    "    globals()[\"df_price_\"+str(i)].drop(index=globals()[\"df_price_\"+str(i)].index[3:],inplace=True)\n",
    "    globals()[\"df_price_\"+str(i)] = globals()[\"df_price_\"+str(i)].T\n",
    "    globals()[\"df_price_\"+str(i)].rename(columns= globals()[\"df_price_\"+str(i)].iloc[0],inplace=True)\n",
    "    globals()[\"df_price_\"+str(i)].drop(index=globals()[\"df_price_\"+str(i)].index[0],inplace=True)\n",
    "    globals()[\"df_price_\"+str(i)][\"구분\"] = globals()[\"df_price_\"+str(i)][\"구분\"].apply(lambda x : re.sub(r\"2022\", str(i), str(x)))\n",
    "    globals()[\"df_price_\"+str(i)][\"구분\"] = globals()[\"df_price_\"+str(i)][\"구분\"].apply(lambda x : datetime.strptime(x, \"%Y-%m-%d %H:%M:%S\"))\n",
    "    globals()[\"df_price_\"+str(i)].set_index(\"구분\", inplace=True)"
   ]
  }
 ],
 "metadata": {
  "kernelspec": {
   "display_name": "baseDeep",
   "language": "python",
   "name": "python3"
  },
  "language_info": {
   "codemirror_mode": {
    "name": "ipython",
    "version": 3
   },
   "file_extension": ".py",
   "mimetype": "text/x-python",
   "name": "python",
   "nbconvert_exporter": "python",
   "pygments_lexer": "ipython3",
   "version": "3.8.13"
  },
  "orig_nbformat": 4,
  "vscode": {
   "interpreter": {
    "hash": "d5bd3b74290b6fecca2d77c6682b8ba7e9275f0a56c500dd407ba5b0bc3fc494"
   }
  }
 },
 "nbformat": 4,
 "nbformat_minor": 2
}
