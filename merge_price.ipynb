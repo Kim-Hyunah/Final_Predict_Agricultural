{
 "cells": [
  {
   "cell_type": "code",
   "execution_count": 1,
   "metadata": {},
   "outputs": [],
   "source": [
    "import pandas as pd\n",
    "import re\n",
    "from datetime import datetime"
   ]
  },
  {
   "cell_type": "code",
   "execution_count": 2,
   "metadata": {},
   "outputs": [],
   "source": [
    "path = \"./data/row_price_xlsx/\"\n",
    "# df = pd.read_excel(path+\"가격정보_2000_상품.xlsx\")\n",
    "# df.head()"
   ]
  },
  {
   "cell_type": "code",
   "execution_count": 3,
   "metadata": {},
   "outputs": [],
   "source": [
    "# df = df.drop(columns=df.columns[1])\n",
    "# df.drop(index=df.index[3:],inplace=True)\n",
    "# # df"
   ]
  },
  {
   "cell_type": "code",
   "execution_count": 4,
   "metadata": {},
   "outputs": [],
   "source": [
    "# df =df.T"
   ]
  },
  {
   "cell_type": "code",
   "execution_count": 5,
   "metadata": {},
   "outputs": [],
   "source": [
    "# df.rename(columns=df.iloc[0],inplace=True)\n",
    "# df"
   ]
  },
  {
   "cell_type": "code",
   "execution_count": 6,
   "metadata": {},
   "outputs": [],
   "source": [
    "# df.drop(index=df.index[0],inplace=True)\n",
    "# df"
   ]
  },
  {
   "cell_type": "code",
   "execution_count": 7,
   "metadata": {},
   "outputs": [],
   "source": [
    "# df[\"구분\"] = df[\"구분\"].apply(lambda x : re.sub(r\"2022\", \"2000\", str(x)))"
   ]
  },
  {
   "cell_type": "code",
   "execution_count": 8,
   "metadata": {},
   "outputs": [],
   "source": [
    "# df[\"구분\"] = df[\"구분\"].apply(lambda x : datetime.strptime(x, \"%Y-%m-%d %H:%M:%S\"))\n",
    "# df"
   ]
  },
  {
   "cell_type": "code",
   "execution_count": 9,
   "metadata": {},
   "outputs": [],
   "source": [
    "# df.set_index(\"구분\", inplace=True)\n",
    "# df"
   ]
  },
  {
   "cell_type": "code",
   "execution_count": 10,
   "metadata": {},
   "outputs": [],
   "source": [
    "for i in range(2000, 2023) : \n",
    "    globals()[\"df_price_\"+str(i)] = pd.read_excel(path+\"가격정보_\"+str(i)+\"_상품.xlsx\")\n",
    "    globals()[\"df_price_\"+str(i)].drop(columns=globals()[\"df_price_\"+str(i)].columns[1],inplace=True)\n",
    "    globals()[\"df_price_\"+str(i)].drop(index=globals()[\"df_price_\"+str(i)].index[3:],inplace=True)\n",
    "    globals()[\"df_price_\"+str(i)] = globals()[\"df_price_\"+str(i)].T\n",
    "    globals()[\"df_price_\"+str(i)].rename(columns= globals()[\"df_price_\"+str(i)].iloc[0],inplace=True)\n",
    "    globals()[\"df_price_\"+str(i)].drop(index=globals()[\"df_price_\"+str(i)].index[0],inplace=True)\n",
    "    globals()[\"df_price_\"+str(i)][\"구분\"] = globals()[\"df_price_\"+str(i)][\"구분\"].apply(lambda x : re.sub(r\"2022\", str(i), str(x)))\n",
    "    globals()[\"df_price_\"+str(i)][\"구분\"] = globals()[\"df_price_\"+str(i)][\"구분\"].apply(lambda x : datetime.strptime(x, \"%Y-%m-%d %H:%M:%S\"))\n",
    "    globals()[\"df_price_\"+str(i)].set_index(\"구분\", inplace=True)"
   ]
  },
  {
   "cell_type": "code",
   "execution_count": 11,
   "metadata": {},
   "outputs": [
    {
     "data": {
      "text/plain": [
       "['df_price_2000',\n",
       " 'df_price_2001',\n",
       " 'df_price_2002',\n",
       " 'df_price_2003',\n",
       " 'df_price_2004',\n",
       " 'df_price_2005',\n",
       " 'df_price_2006',\n",
       " 'df_price_2007',\n",
       " 'df_price_2008',\n",
       " 'df_price_2009',\n",
       " 'df_price_2010',\n",
       " 'df_price_2011',\n",
       " 'df_price_2012',\n",
       " 'df_price_2013',\n",
       " 'df_price_2014',\n",
       " 'df_price_2015',\n",
       " 'df_price_2016',\n",
       " 'df_price_2017',\n",
       " 'df_price_2018',\n",
       " 'df_price_2019',\n",
       " 'df_price_2020',\n",
       " 'df_price_2021',\n",
       " 'df_price_2022']"
      ]
     },
     "execution_count": 11,
     "metadata": {},
     "output_type": "execute_result"
    }
   ],
   "source": [
    "year_list = []\n",
    "for i in range(2000, 2023) : \n",
    "    y = \"df_price_\" + str(i)\n",
    "    year_list.append(y)\n",
    "\n",
    "year_list"
   ]
  },
  {
   "cell_type": "code",
   "execution_count": 12,
   "metadata": {},
   "outputs": [],
   "source": [
    "price_baechoo = pd.concat(\n",
    "    [df_price_2000,\n",
    " df_price_2001,\n",
    " df_price_2002,\n",
    " df_price_2003,\n",
    " df_price_2004,\n",
    " df_price_2005,\n",
    " df_price_2006,\n",
    " df_price_2007,\n",
    " df_price_2008,\n",
    " df_price_2009,\n",
    " df_price_2010,\n",
    " df_price_2011,\n",
    " df_price_2012,\n",
    " df_price_2013,\n",
    " df_price_2014,\n",
    " df_price_2015,\n",
    " df_price_2016,\n",
    " df_price_2017,\n",
    " df_price_2018,\n",
    " df_price_2019,\n",
    " df_price_2020,\n",
    " df_price_2021,\n",
    " df_price_2022], \n",
    " axis=0\n",
    ")"
   ]
  },
  {
   "cell_type": "code",
   "execution_count": 13,
   "metadata": {},
   "outputs": [
    {
     "data": {
      "text/html": [
       "<div>\n",
       "<style scoped>\n",
       "    .dataframe tbody tr th:only-of-type {\n",
       "        vertical-align: middle;\n",
       "    }\n",
       "\n",
       "    .dataframe tbody tr th {\n",
       "        vertical-align: top;\n",
       "    }\n",
       "\n",
       "    .dataframe thead th {\n",
       "        text-align: right;\n",
       "    }\n",
       "</style>\n",
       "<table border=\"1\" class=\"dataframe\">\n",
       "  <thead>\n",
       "    <tr style=\"text-align: right;\">\n",
       "      <th></th>\n",
       "      <th>평균</th>\n",
       "      <th>평년</th>\n",
       "    </tr>\n",
       "    <tr>\n",
       "      <th>구분</th>\n",
       "      <th></th>\n",
       "      <th></th>\n",
       "    </tr>\n",
       "  </thead>\n",
       "  <tbody>\n",
       "    <tr>\n",
       "      <th>2000-01-03</th>\n",
       "      <td>6040</td>\n",
       "      <td>2462</td>\n",
       "    </tr>\n",
       "    <tr>\n",
       "      <th>2000-01-04</th>\n",
       "      <td>6040</td>\n",
       "      <td>2489</td>\n",
       "    </tr>\n",
       "    <tr>\n",
       "      <th>2000-01-05</th>\n",
       "      <td>6060</td>\n",
       "      <td>2903</td>\n",
       "    </tr>\n",
       "    <tr>\n",
       "      <th>2000-01-06</th>\n",
       "      <td>6140</td>\n",
       "      <td>2923</td>\n",
       "    </tr>\n",
       "    <tr>\n",
       "      <th>2000-01-07</th>\n",
       "      <td>6100</td>\n",
       "      <td>2946</td>\n",
       "    </tr>\n",
       "    <tr>\n",
       "      <th>...</th>\n",
       "      <td>...</td>\n",
       "      <td>...</td>\n",
       "    </tr>\n",
       "    <tr>\n",
       "      <th>2022-12-14</th>\n",
       "      <td>6118</td>\n",
       "      <td>7237</td>\n",
       "    </tr>\n",
       "    <tr>\n",
       "      <th>2022-12-15</th>\n",
       "      <td>6118</td>\n",
       "      <td>7223</td>\n",
       "    </tr>\n",
       "    <tr>\n",
       "      <th>2022-12-16</th>\n",
       "      <td>5991</td>\n",
       "      <td>6983</td>\n",
       "    </tr>\n",
       "    <tr>\n",
       "      <th>2022-12-19</th>\n",
       "      <td>6147</td>\n",
       "      <td>7023</td>\n",
       "    </tr>\n",
       "    <tr>\n",
       "      <th>2022-12-20</th>\n",
       "      <td>6479</td>\n",
       "      <td>6972</td>\n",
       "    </tr>\n",
       "  </tbody>\n",
       "</table>\n",
       "<p>5895 rows × 2 columns</p>\n",
       "</div>"
      ],
      "text/plain": [
       "              평균    평년\n",
       "구분                    \n",
       "2000-01-03  6040  2462\n",
       "2000-01-04  6040  2489\n",
       "2000-01-05  6060  2903\n",
       "2000-01-06  6140  2923\n",
       "2000-01-07  6100  2946\n",
       "...          ...   ...\n",
       "2022-12-14  6118  7237\n",
       "2022-12-15  6118  7223\n",
       "2022-12-16  5991  6983\n",
       "2022-12-19  6147  7023\n",
       "2022-12-20  6479  6972\n",
       "\n",
       "[5895 rows x 2 columns]"
      ]
     },
     "execution_count": 13,
     "metadata": {},
     "output_type": "execute_result"
    }
   ],
   "source": [
    "price_baechoo"
   ]
  }
 ],
 "metadata": {
  "kernelspec": {
   "display_name": "base",
   "language": "python",
   "name": "python3"
  },
  "language_info": {
   "codemirror_mode": {
    "name": "ipython",
    "version": 3
   },
   "file_extension": ".py",
   "mimetype": "text/x-python",
   "name": "python",
   "nbconvert_exporter": "python",
   "pygments_lexer": "ipython3",
   "version": "3.9.12"
  },
  "orig_nbformat": 4,
  "vscode": {
   "interpreter": {
    "hash": "de11d0c16539acdfeb0e501d4eda7b58b0438a2781c2c1df7ab38defdddf0dd6"
   }
  }
 },
 "nbformat": 4,
 "nbformat_minor": 2
}
