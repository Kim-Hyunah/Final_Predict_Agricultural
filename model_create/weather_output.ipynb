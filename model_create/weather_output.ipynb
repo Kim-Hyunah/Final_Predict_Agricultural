{
  "cells": [
    {
      "cell_type": "code",
      "execution_count": 1,
      "metadata": {
        "id": "KCM5_NQHgUMZ"
      },
      "outputs": [],
      "source": [
        "import pandas as pd\n",
        "import numpy as np\n",
        "from keras.models import Sequential\n",
        "from keras.layers import Dense\n",
        "from keras.callbacks import EarlyStopping, ModelCheckpoint\n",
        "from keras.layers import LSTM\n",
        "from sklearn.metrics import r2_score\n",
        "from sklearn.preprocessing import MinMaxScaler\n",
        "from sklearn.model_selection import train_test_split\n",
        "from xgboost import XGBRegressor\n",
        "from sklearn.metrics import r2_score, mean_squared_error, mean_absolute_error\n",
        "from sklearn.model_selection import KFold, train_test_split, GridSearchCV, cross_val_score\n",
        "import matplotlib.pyplot as plt"
      ]
    },
    {
      "cell_type": "code",
      "execution_count": null,
      "metadata": {
        "id": "BLRIGBnvgxRc"
      },
      "outputs": [],
      "source": [
        "df= pd.read_csv(\"data/final_month_weather_T.csv\",encoding=\"cp949\")\n",
        "df= df.drop(labels=\"Unnamed: 0\", axis=1)"
      ]
    },
    {
      "cell_type": "code",
      "execution_count": 6,
      "metadata": {
        "id": "a8EcfdbygxW_"
      },
      "outputs": [],
      "source": [
        "grouped= df.groupby(['행정구역', '일시']).mean()\n",
        "grouped_fin= grouped\n",
        "grouped_fin['면적']=0\n",
        "grouped_fin['생산량']=0\n",
        "grouped_fin['면적당 생산량']=0"
      ]
    },
    {
      "cell_type": "code",
      "execution_count": 7,
      "metadata": {
        "id": "MpQ3a270hAIQ"
      },
      "outputs": [],
      "source": [
        "#면적 -> 생산량\n",
        "city_list= ['강원도', '경기도', '인천광역시', '서울특별시', '경상북도', '충청북도', '충청남도', '대전광역시','전라남도', '대구광역시', '전라북도', '울산광역시', '경상남도', '광주광역시', '부산광역시', '제주도','세종특별자치시']\n",
        "detail = [\"\", \".1\", \".2\", \".3\", \".4\", \".5\", \".6\", \".7\", \".8\", \".9\", \".10\", \".11\"]\n",
        "spr= ['-03', '-04', '-05']\n",
        "sum= ['-06', '-07', '-08']\n",
        "fal= ['-09', '-10', '-11']\n",
        "win= ['-01', '-02', '-12']\n",
        "season_list= [spr, sum, fal, win]\n",
        "\n",
        "for i in range(len(city_list)):\n",
        "    for l in range(2000, 2022):\n",
        "        for k in range(len(detail)):\n",
        "            try:\n",
        "                val= str(l) + detail[k]\n",
        "                if (k%3) == 0:\n",
        "                    for n in range(3):\n",
        "                        dt= str(l) + season_list[int(k/3)][n]\n",
        "                        grouped_fin.loc[(city_list[i], dt), '면적']= output_raw.loc[city_list[i], val]\n",
        "                elif k==1 or k==4 or k==7 or k==10:\n",
        "                    for n in range(3):\n",
        "                        dt= str(l) + season_list[int(k/3)][n]\n",
        "                        grouped_fin.loc[(city_list[i], dt), '면적당 생산량']= output_raw.loc[city_list[i], val]\n",
        "                else:\n",
        "                    for n in range(3):\n",
        "                        dt= str(l) + season_list[int(k/3)][n]\n",
        "                        grouped_fin.loc[(city_list[i], dt), '생산량']= output_raw.loc[city_list[i], val]\n",
        "            except:\n",
        "                pass"
      ]
    },
    {
      "cell_type": "code",
      "execution_count": 8,
      "metadata": {
        "colab": {
          "base_uri": "https://localhost:8080/",
          "height": 455
        },
        "id": "MBaqvDQdhAK0",
        "outputId": "715e3ff8-fbee-4954-aa7c-2537fae765c3"
      },
      "outputs": [
        {
          "data": {
            "text/html": [
              "\n",
              "  <div id=\"df-960e0ac7-ae97-40f9-a424-0359b1596ce0\">\n",
              "    <div class=\"colab-df-container\">\n",
              "      <div>\n",
              "<style scoped>\n",
              "    .dataframe tbody tr th:only-of-type {\n",
              "        vertical-align: middle;\n",
              "    }\n",
              "\n",
              "    .dataframe tbody tr th {\n",
              "        vertical-align: top;\n",
              "    }\n",
              "\n",
              "    .dataframe thead th {\n",
              "        text-align: right;\n",
              "    }\n",
              "</style>\n",
              "<table border=\"1\" class=\"dataframe\">\n",
              "  <thead>\n",
              "    <tr style=\"text-align: right;\">\n",
              "      <th></th>\n",
              "      <th></th>\n",
              "      <th>평균기온(°C)</th>\n",
              "      <th>최고기온(°C)</th>\n",
              "      <th>최저기온(°C)</th>\n",
              "      <th>월합강수량(00~24h만)(mm)</th>\n",
              "      <th>합계 일사량(MJ/m2)</th>\n",
              "      <th>면적</th>\n",
              "      <th>생산량</th>\n",
              "      <th>면적당 생산량</th>\n",
              "    </tr>\n",
              "    <tr>\n",
              "      <th>행정구역</th>\n",
              "      <th>일시</th>\n",
              "      <th></th>\n",
              "      <th></th>\n",
              "      <th></th>\n",
              "      <th></th>\n",
              "      <th></th>\n",
              "      <th></th>\n",
              "      <th></th>\n",
              "      <th></th>\n",
              "    </tr>\n",
              "  </thead>\n",
              "  <tbody>\n",
              "    <tr>\n",
              "      <th rowspan=\"5\" valign=\"top\">강원도</th>\n",
              "      <th>2000-03</th>\n",
              "      <td>4.790909</td>\n",
              "      <td>19.000000</td>\n",
              "      <td>-7.936364</td>\n",
              "      <td>13.790909</td>\n",
              "      <td>433.992727</td>\n",
              "      <td>2147</td>\n",
              "      <td>87619</td>\n",
              "      <td>4081</td>\n",
              "    </tr>\n",
              "    <tr>\n",
              "      <th>2000-04</th>\n",
              "      <td>10.154545</td>\n",
              "      <td>23.518182</td>\n",
              "      <td>-1.872727</td>\n",
              "      <td>37.354545</td>\n",
              "      <td>481.298636</td>\n",
              "      <td>2147</td>\n",
              "      <td>87619</td>\n",
              "      <td>4081</td>\n",
              "    </tr>\n",
              "    <tr>\n",
              "      <th>2000-05</th>\n",
              "      <td>15.618182</td>\n",
              "      <td>31.500000</td>\n",
              "      <td>4.181818</td>\n",
              "      <td>75.181818</td>\n",
              "      <td>518.235455</td>\n",
              "      <td>2147</td>\n",
              "      <td>87619</td>\n",
              "      <td>4081</td>\n",
              "    </tr>\n",
              "    <tr>\n",
              "      <th>2000-06</th>\n",
              "      <td>20.600000</td>\n",
              "      <td>33.618182</td>\n",
              "      <td>9.190909</td>\n",
              "      <td>132.154545</td>\n",
              "      <td>549.963182</td>\n",
              "      <td>7461</td>\n",
              "      <td>281280</td>\n",
              "      <td>3770</td>\n",
              "    </tr>\n",
              "    <tr>\n",
              "      <th>2000-07</th>\n",
              "      <td>24.645455</td>\n",
              "      <td>34.027273</td>\n",
              "      <td>15.972727</td>\n",
              "      <td>156.536364</td>\n",
              "      <td>516.617273</td>\n",
              "      <td>7461</td>\n",
              "      <td>281280</td>\n",
              "      <td>3770</td>\n",
              "    </tr>\n",
              "    <tr>\n",
              "      <th>...</th>\n",
              "      <th>...</th>\n",
              "      <td>...</td>\n",
              "      <td>...</td>\n",
              "      <td>...</td>\n",
              "      <td>...</td>\n",
              "      <td>...</td>\n",
              "      <td>...</td>\n",
              "      <td>...</td>\n",
              "      <td>...</td>\n",
              "    </tr>\n",
              "    <tr>\n",
              "      <th rowspan=\"5\" valign=\"top\">충청북도</th>\n",
              "      <th>2021-04</th>\n",
              "      <td>12.980000</td>\n",
              "      <td>28.580000</td>\n",
              "      <td>0.260000</td>\n",
              "      <td>62.020000</td>\n",
              "      <td>585.900000</td>\n",
              "      <td>686</td>\n",
              "      <td>30787</td>\n",
              "      <td>4491</td>\n",
              "    </tr>\n",
              "    <tr>\n",
              "      <th>2021-05</th>\n",
              "      <td>16.040000</td>\n",
              "      <td>29.880000</td>\n",
              "      <td>3.220000</td>\n",
              "      <td>158.560000</td>\n",
              "      <td>561.085000</td>\n",
              "      <td>686</td>\n",
              "      <td>30787</td>\n",
              "      <td>4491</td>\n",
              "    </tr>\n",
              "    <tr>\n",
              "      <th>2021-09</th>\n",
              "      <td>20.680000</td>\n",
              "      <td>29.100000</td>\n",
              "      <td>12.920000</td>\n",
              "      <td>191.580000</td>\n",
              "      <td>426.565000</td>\n",
              "      <td>2304</td>\n",
              "      <td>168678</td>\n",
              "      <td>7321</td>\n",
              "    </tr>\n",
              "    <tr>\n",
              "      <th>2021-10</th>\n",
              "      <td>13.760000</td>\n",
              "      <td>29.460000</td>\n",
              "      <td>-1.000000</td>\n",
              "      <td>35.260000</td>\n",
              "      <td>407.200000</td>\n",
              "      <td>2304</td>\n",
              "      <td>168678</td>\n",
              "      <td>7321</td>\n",
              "    </tr>\n",
              "    <tr>\n",
              "      <th>2021-11</th>\n",
              "      <td>6.800000</td>\n",
              "      <td>19.880000</td>\n",
              "      <td>-4.900000</td>\n",
              "      <td>47.800000</td>\n",
              "      <td>243.284000</td>\n",
              "      <td>2304</td>\n",
              "      <td>168678</td>\n",
              "      <td>7321</td>\n",
              "    </tr>\n",
              "  </tbody>\n",
              "</table>\n",
              "<p>2424 rows × 8 columns</p>\n",
              "</div>\n",
              "      <button class=\"colab-df-convert\" onclick=\"convertToInteractive('df-960e0ac7-ae97-40f9-a424-0359b1596ce0')\"\n",
              "              title=\"Convert this dataframe to an interactive table.\"\n",
              "              style=\"display:none;\">\n",
              "        \n",
              "  <svg xmlns=\"http://www.w3.org/2000/svg\" height=\"24px\"viewBox=\"0 0 24 24\"\n",
              "       width=\"24px\">\n",
              "    <path d=\"M0 0h24v24H0V0z\" fill=\"none\"/>\n",
              "    <path d=\"M18.56 5.44l.94 2.06.94-2.06 2.06-.94-2.06-.94-.94-2.06-.94 2.06-2.06.94zm-11 1L8.5 8.5l.94-2.06 2.06-.94-2.06-.94L8.5 2.5l-.94 2.06-2.06.94zm10 10l.94 2.06.94-2.06 2.06-.94-2.06-.94-.94-2.06-.94 2.06-2.06.94z\"/><path d=\"M17.41 7.96l-1.37-1.37c-.4-.4-.92-.59-1.43-.59-.52 0-1.04.2-1.43.59L10.3 9.45l-7.72 7.72c-.78.78-.78 2.05 0 2.83L4 21.41c.39.39.9.59 1.41.59.51 0 1.02-.2 1.41-.59l7.78-7.78 2.81-2.81c.8-.78.8-2.07 0-2.86zM5.41 20L4 18.59l7.72-7.72 1.47 1.35L5.41 20z\"/>\n",
              "  </svg>\n",
              "      </button>\n",
              "      \n",
              "  <style>\n",
              "    .colab-df-container {\n",
              "      display:flex;\n",
              "      flex-wrap:wrap;\n",
              "      gap: 12px;\n",
              "    }\n",
              "\n",
              "    .colab-df-convert {\n",
              "      background-color: #E8F0FE;\n",
              "      border: none;\n",
              "      border-radius: 50%;\n",
              "      cursor: pointer;\n",
              "      display: none;\n",
              "      fill: #1967D2;\n",
              "      height: 32px;\n",
              "      padding: 0 0 0 0;\n",
              "      width: 32px;\n",
              "    }\n",
              "\n",
              "    .colab-df-convert:hover {\n",
              "      background-color: #E2EBFA;\n",
              "      box-shadow: 0px 1px 2px rgba(60, 64, 67, 0.3), 0px 1px 3px 1px rgba(60, 64, 67, 0.15);\n",
              "      fill: #174EA6;\n",
              "    }\n",
              "\n",
              "    [theme=dark] .colab-df-convert {\n",
              "      background-color: #3B4455;\n",
              "      fill: #D2E3FC;\n",
              "    }\n",
              "\n",
              "    [theme=dark] .colab-df-convert:hover {\n",
              "      background-color: #434B5C;\n",
              "      box-shadow: 0px 1px 3px 1px rgba(0, 0, 0, 0.15);\n",
              "      filter: drop-shadow(0px 1px 2px rgba(0, 0, 0, 0.3));\n",
              "      fill: #FFFFFF;\n",
              "    }\n",
              "  </style>\n",
              "\n",
              "      <script>\n",
              "        const buttonEl =\n",
              "          document.querySelector('#df-960e0ac7-ae97-40f9-a424-0359b1596ce0 button.colab-df-convert');\n",
              "        buttonEl.style.display =\n",
              "          google.colab.kernel.accessAllowed ? 'block' : 'none';\n",
              "\n",
              "        async function convertToInteractive(key) {\n",
              "          const element = document.querySelector('#df-960e0ac7-ae97-40f9-a424-0359b1596ce0');\n",
              "          const dataTable =\n",
              "            await google.colab.kernel.invokeFunction('convertToInteractive',\n",
              "                                                     [key], {});\n",
              "          if (!dataTable) return;\n",
              "\n",
              "          const docLinkHtml = 'Like what you see? Visit the ' +\n",
              "            '<a target=\"_blank\" href=https://colab.research.google.com/notebooks/data_table.ipynb>data table notebook</a>'\n",
              "            + ' to learn more about interactive tables.';\n",
              "          element.innerHTML = '';\n",
              "          dataTable['output_type'] = 'display_data';\n",
              "          await google.colab.output.renderOutput(dataTable, element);\n",
              "          const docLink = document.createElement('div');\n",
              "          docLink.innerHTML = docLinkHtml;\n",
              "          element.appendChild(docLink);\n",
              "        }\n",
              "      </script>\n",
              "    </div>\n",
              "  </div>\n",
              "  "
            ],
            "text/plain": [
              "               평균기온(°C)   최고기온(°C)   최저기온(°C)  월합강수량(00~24h만)(mm)  \\\n",
              "행정구역 일시                                                             \n",
              "강원도  2000-03   4.790909  19.000000  -7.936364           13.790909   \n",
              "     2000-04  10.154545  23.518182  -1.872727           37.354545   \n",
              "     2000-05  15.618182  31.500000   4.181818           75.181818   \n",
              "     2000-06  20.600000  33.618182   9.190909          132.154545   \n",
              "     2000-07  24.645455  34.027273  15.972727          156.536364   \n",
              "...                 ...        ...        ...                 ...   \n",
              "충청북도 2021-04  12.980000  28.580000   0.260000           62.020000   \n",
              "     2021-05  16.040000  29.880000   3.220000          158.560000   \n",
              "     2021-09  20.680000  29.100000  12.920000          191.580000   \n",
              "     2021-10  13.760000  29.460000  -1.000000           35.260000   \n",
              "     2021-11   6.800000  19.880000  -4.900000           47.800000   \n",
              "\n",
              "              합계 일사량(MJ/m2)    면적     생산량 면적당 생산량  \n",
              "행정구역 일시                                            \n",
              "강원도  2000-03     433.992727  2147   87619    4081  \n",
              "     2000-04     481.298636  2147   87619    4081  \n",
              "     2000-05     518.235455  2147   87619    4081  \n",
              "     2000-06     549.963182  7461  281280    3770  \n",
              "     2000-07     516.617273  7461  281280    3770  \n",
              "...                     ...   ...     ...     ...  \n",
              "충청북도 2021-04     585.900000   686   30787    4491  \n",
              "     2021-05     561.085000   686   30787    4491  \n",
              "     2021-09     426.565000  2304  168678    7321  \n",
              "     2021-10     407.200000  2304  168678    7321  \n",
              "     2021-11     243.284000  2304  168678    7321  \n",
              "\n",
              "[2424 rows x 8 columns]"
            ]
          },
          "execution_count": 8,
          "metadata": {},
          "output_type": "execute_result"
        }
      ],
      "source": [
        "grouped_fin= grouped_fin[grouped_fin['면적당 생산량'] != 0]\n",
        "grouped_fin= grouped_fin[grouped_fin['면적당 생산량'] != '-']\n",
        "grouped_fin= grouped_fin[grouped_fin['면적당 생산량'] != '0']\n",
        "grouped_fin= grouped_fin[grouped_fin['면적'] != 0]\n",
        "grouped_fin= grouped_fin[grouped_fin['면적'] != '-']\n",
        "grouped_fin= grouped_fin[grouped_fin['면적'] != '0']\n",
        "grouped_fin= grouped_fin[grouped_fin['생산량'] != 0]\n",
        "grouped_fin= grouped_fin[grouped_fin['생산량'] != '-']\n",
        "grouped_fin= grouped_fin[grouped_fin['생산량'] != '0']\n",
        "grouped_fin"
      ]
    },
    {
      "cell_type": "code",
      "execution_count": 9,
      "metadata": {
        "id": "4zXAXLiYhAOO"
      },
      "outputs": [],
      "source": [
        "tt= grouped_fin.reset_index()\n",
        "train= tt[tt['일시'].str.contains('2021') == False]\n",
        "test= tt[tt['일시'].str.contains('2021')]"
      ]
    },
    {
      "cell_type": "code",
      "execution_count": 12,
      "metadata": {
        "id": "CXpTJWu9kVn7"
      },
      "outputs": [],
      "source": [
        "feature= train[['평균기온(°C)', '최고기온(°C)', '최저기온(°C)', '월합강수량(00~24h만)(mm)', '합계 일사량(MJ/m2)', '면적']]\n",
        "target= train[['생산량']]"
      ]
    },
    {
      "cell_type": "code",
      "execution_count": 15,
      "metadata": {
        "id": "DP4fiE0ghiB-"
      },
      "outputs": [],
      "source": [
        "scaler1= MinMaxScaler()\n",
        "scaler2= MinMaxScaler()\n",
        "\n",
        "scaler1.fit(feature)\n",
        "scaler2.fit(target)\n",
        "\n",
        "feature_sc= scaler1.transform(feature)\n",
        "target_sc= scaler2.transform(target)"
      ]
    },
    {
      "cell_type": "code",
      "execution_count": 16,
      "metadata": {
        "id": "u-7YFTmThiEg"
      },
      "outputs": [],
      "source": [
        "X_train, X_test, y_train, y_test = train_test_split(feature_sc, target_sc, test_size=0.2)"
      ]
    },
    {
      "cell_type": "code",
      "execution_count": 19,
      "metadata": {
        "id": "Qb1Z1sxahiIH"
      },
      "outputs": [],
      "source": [
        "xgb = XGBRegressor()\n",
        "\n",
        "alpha = np.logspace(-4,2,7)   # lasso, ridge 해당\n",
        "max_iter = [1,3,5,10,20,50,100,150,200]   # lasso, ridge 해당\n",
        "solver = ['auto', 'svd', 'cholesky', 'lsqr', 'sparse_cg', 'sag', 'saga', 'lbfgs']   # ridge 해당, 계산에 사용할 알고리즘\n",
        "eta = np.logspace(-3,2,6)   # xgboost 해당\n",
        "n_estimators = [15,20,50,100,200,500]   # randomforesteregressor(사용할 tree의 개수), gradientboost, adaboost, xgboost 해당\n",
        "max_depth = [2,3,5,7,10,12]  # randomforesteregressor(tree의 깊이), gradientboost, xgboost 해당\n",
        "gamma = [0, 0.05, 0.1, 0.2, 0.5]    # xgboost 해당\n",
        "max_leaf_nodes = [2,3,5,7]     # randomforest, xgboost 해당\n",
        "min_child_weight = [1,2,3,5]   # xgboost 해당\n",
        "\n",
        "params_xgb = {\"learning_rate\" : eta,\n",
        "                \"n_estimators\" : n_estimators, \n",
        "                \"max_depth\" : max_depth, \n",
        "                \"gamma\" : gamma,\n",
        "                \"min_child_weight\" : min_child_weight}"
      ]
    },
    {
      "cell_type": "code",
      "execution_count": 20,
      "metadata": {
        "id": "KI17N8qilwzO"
      },
      "outputs": [],
      "source": [
        "kfold = KFold(5, shuffle=True, random_state=6)"
      ]
    },
    {
      "cell_type": "code",
      "execution_count": 21,
      "metadata": {
        "colab": {
          "base_uri": "https://localhost:8080/"
        },
        "id": "4-s2B0y7lw1Q",
        "outputId": "50bc962e-b21d-4131-fb10-387dafa3a21f"
      },
      "outputs": [
        {
          "name": "stderr",
          "output_type": "stream",
          "text": [
            "/usr/local/lib/python3.8/dist-packages/sklearn/model_selection/_search.py:969: UserWarning: One or more of the test scores are non-finite: [-0.1689658  -0.16734679 -0.15794637 ...         nan         nan\n",
            "         nan]\n",
            "  warnings.warn(\n"
          ]
        },
        {
          "name": "stdout",
          "output_type": "stream",
          "text": [
            "[03:41:48] WARNING: /workspace/src/objective/regression_obj.cu:152: reg:linear is now deprecated in favor of reg:squarederror.\n"
          ]
        },
        {
          "data": {
            "text/plain": [
              "GridSearchCV(cv=KFold(n_splits=5, random_state=6, shuffle=True),\n",
              "             estimator=XGBRegressor(), n_jobs=-1,\n",
              "             param_grid={'gamma': [0, 0.05, 0.1, 0.2, 0.5],\n",
              "                         'learning_rate': array([1.e-03, 1.e-02, 1.e-01, 1.e+00, 1.e+01, 1.e+02]),\n",
              "                         'max_depth': [2, 3, 5, 7, 10, 12],\n",
              "                         'min_child_weight': [1, 2, 3, 5],\n",
              "                         'n_estimators': [15, 20, 50, 100, 200, 500]},\n",
              "             scoring='neg_mean_squared_error')"
            ]
          },
          "execution_count": 21,
          "metadata": {},
          "output_type": "execute_result"
        }
      ],
      "source": [
        "grid_xgb = GridSearchCV(estimator=xgb, param_grid=params_xgb, n_jobs=-1, cv=kfold, scoring=\"neg_mean_squared_error\")\n",
        "grid_xgb.fit(X_train, y_train)"
      ]
    },
    {
      "cell_type": "code",
      "execution_count": 22,
      "metadata": {
        "colab": {
          "base_uri": "https://localhost:8080/"
        },
        "id": "B6bF8aAklw4Y",
        "outputId": "05957d04-253e-47f3-c807-959a0739e291"
      },
      "outputs": [
        {
          "name": "stdout",
          "output_type": "stream",
          "text": [
            "best score : -0.0014619511417048418\n",
            "best parameter : {'gamma': 0, 'learning_rate': 0.1, 'max_depth': 5, 'min_child_weight': 2, 'n_estimators': 500}\n"
          ]
        }
      ],
      "source": [
        "print(\"best score :\", grid_xgb.best_score_)\n",
        "print(\"best parameter :\", grid_xgb.best_params_)"
      ]
    },
    {
      "cell_type": "code",
      "execution_count": 23,
      "metadata": {
        "colab": {
          "base_uri": "https://localhost:8080/"
        },
        "id": "SUpaQkbYmLRv",
        "outputId": "b12a6b14-acbc-4a68-ead8-77078a77411a"
      },
      "outputs": [
        {
          "name": "stdout",
          "output_type": "stream",
          "text": [
            "r2 score : 0.9996964258329282\n"
          ]
        }
      ],
      "source": [
        "em = grid_xgb.best_estimator_\n",
        "y_pred_train = em.predict(X_train)\n",
        "print(\"r2 score :\", r2_score(y_train, y_pred_train))"
      ]
    },
    {
      "cell_type": "code",
      "execution_count": 24,
      "metadata": {
        "colab": {
          "base_uri": "https://localhost:8080/"
        },
        "id": "Sk8UUQeJl9U4",
        "outputId": "c21ee4c2-1f35-4d8a-a33a-16bcbe621f07"
      },
      "outputs": [
        {
          "name": "stdout",
          "output_type": "stream",
          "text": [
            "r2 score : 0.9698186928212627\n"
          ]
        }
      ],
      "source": [
        "y_pred = em.predict(X_test)\n",
        "print(\"r2 score :\", r2_score(y_test, y_pred))"
      ]
    },
    {
      "cell_type": "code",
      "execution_count": 25,
      "metadata": {
        "colab": {
          "base_uri": "https://localhost:8080/",
          "height": 267
        },
        "id": "jJlQotgBl9YI",
        "outputId": "c69e2965-1597-49ff-f854-95200d9004c5"
      },
      "outputs": [
        {
          "data": {
            "image/png": "[encoded data removed]",
            "text/plain": [
              "<Figure size 432x288 with 1 Axes>"
            ]
          },
          "metadata": {
            "needs_background": "light"
          },
          "output_type": "display_data"
        }
      ],
      "source": [
        "\n",
        "plt.plot(y_test.flatten(), label=\"actual\")\n",
        "plt.plot(y_pred.flatten(), label=\"predict\")\n",
        "plt.legend()\n",
        "plt.show()"
      ]
    },
    {
      "cell_type": "code",
      "execution_count": 53,
      "metadata": {
        "id": "jqHVuZ89l9aq"
      },
      "outputs": [],
      "source": [
        "feature= test[['평균기온(°C)', '최고기온(°C)', '최저기온(°C)', '월합강수량(00~24h만)(mm)', '합계 일사량(MJ/m2)', '면적']]\n",
        "target= test[['생산량']]"
      ]
    },
    {
      "cell_type": "code",
      "execution_count": 55,
      "metadata": {
        "id": "AYc7tXxLl9dv"
      },
      "outputs": [],
      "source": [
        "feature_sc= scaler1.transform(feature)"
      ]
    },
    {
      "cell_type": "code",
      "execution_count": 59,
      "metadata": {
        "colab": {
          "base_uri": "https://localhost:8080/"
        },
        "id": "n4g3pRtz9rQl",
        "outputId": "6a0af918-ba53-4d39-cb00-22234b634157"
      },
      "outputs": [
        {
          "data": {
            "text/plain": [
              "array([[ 5.11111328e+04],\n",
              "       [ 4.61516484e+04],\n",
              "       [ 4.82193750e+04],\n",
              "       [ 1.94815547e+05],\n",
              "       [ 2.07543625e+05],\n",
              "       [ 1.93005250e+05],\n",
              "       [ 1.38350734e+05],\n",
              "       [ 1.43593266e+05],\n",
              "       [ 1.34477031e+05],\n",
              "       [ 1.55004648e+04],\n",
              "       [ 1.57840615e+04],\n",
              "       [ 1.55471602e+04],\n",
              "       [ 1.28828945e+05],\n",
              "       [ 1.26750320e+05],\n",
              "       [ 1.15162602e+05],\n",
              "       [ 1.03980283e+04],\n",
              "       [ 8.02414258e+03],\n",
              "       [ 7.63379102e+03],\n",
              "       [ 9.07923340e+02],\n",
              "       [-8.85840698e+02],\n",
              "       [-1.94298096e+02],\n",
              "       [ 3.48241953e+04],\n",
              "       [ 3.19552285e+04],\n",
              "       [ 3.54127461e+04],\n",
              "       [ 6.73066953e+04],\n",
              "       [ 6.49125469e+04],\n",
              "       [ 6.34670898e+04],\n",
              "       [ 1.91494121e+04],\n",
              "       [ 1.40267080e+04],\n",
              "       [ 1.79011250e+04],\n",
              "       [ 1.79401688e+05],\n",
              "       [ 1.74390078e+05],\n",
              "       [ 1.82536062e+05],\n",
              "       [ 4.90895410e+03],\n",
              "       [ 1.61858472e+03],\n",
              "       [ 5.92627502e+02],\n",
              "       [ 6.53066309e+03],\n",
              "       [ 4.74082568e+03],\n",
              "       [ 3.27342725e+03],\n",
              "       [-4.51935150e+02],\n",
              "       [ 9.01520142e+02],\n",
              "       [ 4.62600861e+02],\n",
              "       [ 7.63860840e+03],\n",
              "       [ 9.61800391e+03],\n",
              "       [ 5.44564258e+03],\n",
              "       [-1.32605872e+03],\n",
              "       [ 2.56773413e+03],\n",
              "       [-6.08541077e+02],\n",
              "       [ 6.37425391e+03],\n",
              "       [ 8.44069629e+03],\n",
              "       [ 4.02220557e+03],\n",
              "       [ 2.28937744e+03],\n",
              "       [-5.75360260e+01],\n",
              "       [ 3.99898102e+02],\n",
              "       [ 1.12538184e+04],\n",
              "       [ 5.89008936e+03],\n",
              "       [ 1.90283118e+03],\n",
              "       [-9.25981323e+02],\n",
              "       [-3.02215698e+02],\n",
              "       [-5.46653809e+02],\n",
              "       [ 4.01148340e+03],\n",
              "       [ 2.48672803e+03],\n",
              "       [ 1.41883301e+03],\n",
              "       [-8.04260620e+02],\n",
              "       [-6.76370525e+00],\n",
              "       [-3.61022186e+02],\n",
              "       [ 6.73737695e+03],\n",
              "       [ 7.75600977e+03],\n",
              "       [ 6.06036230e+03],\n",
              "       [ 1.62236023e+03],\n",
              "       [ 7.11222107e+02],\n",
              "       [-2.49480148e+02],\n",
              "       [ 1.23501494e+04],\n",
              "       [ 9.78409375e+03],\n",
              "       [ 7.28380615e+03],\n",
              "       [-1.65606372e+03],\n",
              "       [-3.17672632e+03],\n",
              "       [ 4.33290329e+01],\n",
              "       [ 1.50719209e+04],\n",
              "       [ 1.52989004e+04],\n",
              "       [ 1.60149834e+04],\n",
              "       [ 2.63192031e+05],\n",
              "       [ 2.40111719e+05],\n",
              "       [ 7.71322578e+04],\n",
              "       [ 6.99803281e+04],\n",
              "       [ 6.57393438e+04],\n",
              "       [ 3.42545219e+05],\n",
              "       [ 3.30741375e+05],\n",
              "       [ 3.64150750e+05],\n",
              "       [ 2.56765594e+05],\n",
              "       [ 1.90699160e+04],\n",
              "       [ 2.21000352e+04],\n",
              "       [ 2.02471484e+04],\n",
              "       [ 5.05684619e+03],\n",
              "       [ 4.89297656e+03],\n",
              "       [ 3.07468726e+03],\n",
              "       [ 1.25914688e+05],\n",
              "       [ 1.20666945e+05],\n",
              "       [ 1.11005836e+05],\n",
              "       [ 3.05739551e+03],\n",
              "       [ 8.07983838e+03],\n",
              "       [ 2.02847839e+03],\n",
              "       [ 4.46275586e+03],\n",
              "       [ 5.37324463e+03],\n",
              "       [-5.63507446e+02],\n",
              "       [ 2.60159253e+03],\n",
              "       [ 1.97121228e+03],\n",
              "       [ 3.82224243e+03],\n",
              "       [ 1.21402490e+04],\n",
              "       [ 1.23083174e+04],\n",
              "       [ 1.11141562e+04],\n",
              "       [ 1.26629320e+05],\n",
              "       [ 1.33706719e+05],\n",
              "       [ 1.24511062e+05],\n",
              "       [ 3.38059727e+04],\n",
              "       [ 2.94221230e+04],\n",
              "       [ 3.05249180e+04],\n",
              "       [ 2.38572719e+05],\n",
              "       [ 2.08157844e+05],\n",
              "       [ 2.23044891e+05]], dtype=float32)"
            ]
          },
          "execution_count": 59,
          "metadata": {},
          "output_type": "execute_result"
        }
      ],
      "source": [
        "test_data_sc= pd.DataFrame(feature_sc, columns=['f0', 'f1', 'f2', 'f3', 'f4', 'f5'])\n",
        "\n",
        "y_pred = grid_xgb.predict(test_data_sc)\n",
        "\n",
        "y_pred = y_pred.reshape(-1,1)\n",
        "\n",
        "y_pred = scaler2.inverse_transform(y_pred)\n",
        "\n",
        "y_pred"
      ]
    },
    {
      "cell_type": "code",
      "execution_count": 28,
      "metadata": {
        "colab": {
          "base_uri": "https://localhost:8080/"
        },
        "id": "UM7hrZxlnGg2",
        "outputId": "e83b54f8-b457-4a7b-d825-7d46b6143338"
      },
      "outputs": [
        {
          "name": "stdout",
          "output_type": "stream",
          "text": [
            "r2 score : 0.9519336969549884\n"
          ]
        }
      ],
      "source": [
        "y_pred_test = em.predict(feature_sc)\n",
        "print(\"r2 score :\", r2_score(target_sc, y_pred_test))"
      ]
    },
    {
      "cell_type": "code",
      "execution_count": 32,
      "metadata": {
        "colab": {
          "base_uri": "https://localhost:8080/",
          "height": 265
        },
        "id": "pziQ1yE2nGik",
        "outputId": "7f90e644-0db4-4fb8-84e8-1392aef8247e"
      },
      "outputs": [
        {
          "data": {
            "image/png": "[encoded data removed]",
            "text/plain": [
              "<Figure size 432x288 with 1 Axes>"
            ]
          },
          "metadata": {
            "needs_background": "light"
          },
          "output_type": "display_data"
        }
      ],
      "source": [
        "y_pred_actual= scaler2.inverse_transform(y_pred_test.reshape(-1,1))\n",
        "target_actual= scaler2.inverse_transform(target_sc)\n",
        "\n",
        "plt.plot(target_actual, label=\"actual\")\n",
        "plt.plot(y_pred_actual, label=\"predict\")\n",
        "plt.legend()\n",
        "plt.show()"
      ]
    },
    {
      "cell_type": "code",
      "execution_count": 42,
      "metadata": {
        "colab": {
          "base_uri": "https://localhost:8080/",
          "height": 302
        },
        "id": "jOVaG5tNnGkK",
        "outputId": "bd906e8a-1a01-4ced-95c5-da306de2681d"
      },
      "outputs": [
        {
          "name": "stdout",
          "output_type": "stream",
          "text": [
            "-7.049017622807879\n"
          ]
        },
        {
          "data": {
            "text/plain": [
              "[<matplotlib.lines.Line2D at 0x7f10176ad9d0>]"
            ]
          },
          "execution_count": 42,
          "metadata": {},
          "output_type": "execute_result"
        },
        {
          "data": {
            "image/png": "[encoded data removed]",
            "text/plain": [
              "<Figure size 432x288 with 1 Axes>"
            ]
          },
          "metadata": {
            "needs_background": "light"
          },
          "output_type": "display_data"
        }
      ],
      "source": [
        "diff= ((target_actual - y_pred_actual)/target_actual) *100\n",
        "\n",
        "print(diff.mean())\n",
        "plt.plot(diff)"
      ]
    },
    {
      "cell_type": "code",
      "execution_count": 47,
      "metadata": {
        "colab": {
          "base_uri": "https://localhost:8080/"
        },
        "id": "Cwwkma9h3jwf",
        "outputId": "55f8b3bc-5628-4cb2-87d8-b7e3b6cff72d"
      },
      "outputs": [
        {
          "data": {
            "text/plain": [
              "array([-1326.0587], dtype=float32)"
            ]
          },
          "execution_count": 47,
          "metadata": {},
          "output_type": "execute_result"
        }
      ],
      "source": [
        "diff.argmax()\n",
        "y_pred_actual[45]"
      ]
    },
    {
      "cell_type": "code",
      "execution_count": 36,
      "metadata": {
        "id": "00hQfuqonGnT"
      },
      "outputs": [],
      "source": [
        "lstm_train= train.set_index(['행정구역', '일시'])\n",
        "lstm_test= test.set_index(['행정구역', '일시'])"
      ]
    },
    {
      "cell_type": "code",
      "execution_count": 62,
      "metadata": {
        "id": "u0doxmsanGqn"
      },
      "outputs": [],
      "source": [
        "feature= lstm_train[['평균기온(°C)', '최고기온(°C)', '최저기온(°C)', '월합강수량(00~24h만)(mm)', '합계 일사량(MJ/m2)', '면적']]\n",
        "target= lstm_train[['생산량']]\n",
        "\n",
        "mms1= MinMaxScaler()\n",
        "mms2= MinMaxScaler()\n",
        "\n",
        "mms1.fit(feature)\n",
        "mms2.fit(target)\n",
        "\n",
        "ft_sc= mms1.transform(feature)\n",
        "tg_sc= mms2.transform(target)"
      ]
    },
    {
      "cell_type": "code",
      "execution_count": 75,
      "metadata": {
        "colab": {
          "base_uri": "https://localhost:8080/"
        },
        "id": "U82LLUfsCjMR",
        "outputId": "d4633032-763e-4bf3-9e92-90253d92fbbe"
      },
      "outputs": [
        {
          "name": "stdout",
          "output_type": "stream",
          "text": [
            "[[0.72008589 0.67074242 0.65215913 0.19553095 0.51690197 0.21194789]\n",
            " [0.47413625 0.49208673 0.39563263 0.00869183 0.49922087 0.21194789]\n",
            " [0.29513957 0.39661081 0.27133628 0.03761751 0.26518515 0.21194789]] -> [0.31632043]\n"
          ]
        }
      ],
      "source": [
        "window_size = 3\n",
        "\n",
        "data_X = []\n",
        "data_y = []\n",
        "for i in range(0,len(tg_sc),3):\n",
        "    _X = ft_sc[i : i + window_size] # 다음 날 종가(i+windows_size)는 포함되지 않음\n",
        "    _y = tg_sc[i + window_size - 1]     # 다음 날 종가\n",
        "    data_X.append(_X)\n",
        "    data_y.append(_y)\n",
        "print(_X, \"->\", _y)"
      ]
    },
    {
      "cell_type": "code",
      "execution_count": 76,
      "metadata": {
        "colab": {
          "base_uri": "https://localhost:8080/"
        },
        "id": "GNaSopYhCjOr",
        "outputId": "b7f9c39c-e8f5-4927-8625-3dab1f326e4a"
      },
      "outputs": [
        {
          "name": "stdout",
          "output_type": "stream",
          "text": [
            "훈련 데이터의 크기 : (614, 3, 6) (614, 1)\n",
            "테스트 데이터의 크기 : (154, 3, 6) (154, 1)\n"
          ]
        }
      ],
      "source": [
        "train_size = int(len(data_y) * 0.8)\n",
        "train_X = np.array(data_X[0 : train_size])\n",
        "train_y = np.array(data_y[0 : train_size])\n",
        "\n",
        "test_size = len(data_y) - train_size\n",
        "test_X = np.array(data_X[train_size : len(data_X)])\n",
        "test_y = np.array(data_y[train_size : len(data_y)])\n",
        "\n",
        "print('훈련 데이터의 크기 :', train_X.shape, train_y.shape)\n",
        "print('테스트 데이터의 크기 :', test_X.shape, test_y.shape)"
      ]
    },
    {
      "cell_type": "code",
      "execution_count": 77,
      "metadata": {
        "colab": {
          "base_uri": "https://localhost:8080/"
        },
        "id": "SLOa8oKRCjQN",
        "outputId": "c1e8d92d-a1b3-4ac3-96f1-c8a60d8875f5"
      },
      "outputs": [
        {
          "name": "stderr",
          "output_type": "stream",
          "text": [
            "WARNING:tensorflow:Layer lstm will not use cuDNN kernels since it doesn't meet the criteria. It will use a generic GPU kernel as fallback when running on GPU.\n"
          ]
        }
      ],
      "source": [
        "model = Sequential()\n",
        "model.add(LSTM(units=20, activation='relu', input_shape=(3, 6)))\n",
        "model.add(Dense(units=1))\n",
        "model.compile(optimizer='adam', loss='mean_squared_error')"
      ]
    },
    {
      "cell_type": "code",
      "execution_count": 78,
      "metadata": {
        "colab": {
          "base_uri": "https://localhost:8080/"
        },
        "id": "cI2OeZ_7CjTm",
        "outputId": "d2da0c5c-7c15-417b-dd35-1229e903f5d2"
      },
      "outputs": [
        {
          "name": "stdout",
          "output_type": "stream",
          "text": [
            "Epoch 1/70\n",
            "21/21 [==============================] - 3s 8ms/step - loss: 0.0337\n",
            "Epoch 2/70\n",
            "21/21 [==============================] - 0s 7ms/step - loss: 0.0255\n",
            "Epoch 3/70\n",
            "21/21 [==============================] - 0s 7ms/step - loss: 0.0217\n",
            "Epoch 4/70\n",
            "21/21 [==============================] - 0s 7ms/step - loss: 0.0184\n",
            "Epoch 5/70\n",
            "21/21 [==============================] - 0s 8ms/step - loss: 0.0146\n",
            "Epoch 6/70\n",
            "21/21 [==============================] - 0s 7ms/step - loss: 0.0117\n",
            "Epoch 7/70\n",
            "21/21 [==============================] - 0s 8ms/step - loss: 0.0097\n",
            "Epoch 8/70\n",
            "21/21 [==============================] - 0s 7ms/step - loss: 0.0089\n",
            "Epoch 9/70\n",
            "21/21 [==============================] - 0s 7ms/step - loss: 0.0086\n",
            "Epoch 10/70\n",
            "21/21 [==============================] - 0s 7ms/step - loss: 0.0086\n",
            "Epoch 11/70\n",
            "21/21 [==============================] - 0s 7ms/step - loss: 0.0083\n",
            "Epoch 12/70\n",
            "21/21 [==============================] - 0s 7ms/step - loss: 0.0084\n",
            "Epoch 13/70\n",
            "21/21 [==============================] - 0s 7ms/step - loss: 0.0083\n",
            "Epoch 14/70\n",
            "21/21 [==============================] - 0s 7ms/step - loss: 0.0079\n",
            "Epoch 15/70\n",
            "21/21 [==============================] - 0s 7ms/step - loss: 0.0074\n",
            "Epoch 16/70\n",
            "21/21 [==============================] - 0s 7ms/step - loss: 0.0074\n",
            "Epoch 17/70\n",
            "21/21 [==============================] - 0s 15ms/step - loss: 0.0073\n",
            "Epoch 18/70\n",
            "21/21 [==============================] - 0s 17ms/step - loss: 0.0069\n",
            "Epoch 19/70\n",
            "21/21 [==============================] - 0s 17ms/step - loss: 0.0067\n",
            "Epoch 20/70\n",
            "21/21 [==============================] - 0s 14ms/step - loss: 0.0068\n",
            "Epoch 21/70\n",
            "21/21 [==============================] - 0s 7ms/step - loss: 0.0063\n",
            "Epoch 22/70\n",
            "21/21 [==============================] - 0s 7ms/step - loss: 0.0061\n",
            "Epoch 23/70\n",
            "21/21 [==============================] - 0s 7ms/step - loss: 0.0060\n",
            "Epoch 24/70\n",
            "21/21 [==============================] - 0s 7ms/step - loss: 0.0060\n",
            "Epoch 25/70\n",
            "21/21 [==============================] - 0s 7ms/step - loss: 0.0055\n",
            "Epoch 26/70\n",
            "21/21 [==============================] - 0s 7ms/step - loss: 0.0054\n",
            "Epoch 27/70\n",
            "21/21 [==============================] - 0s 8ms/step - loss: 0.0050\n",
            "Epoch 28/70\n",
            "21/21 [==============================] - 0s 7ms/step - loss: 0.0049\n",
            "Epoch 29/70\n",
            "21/21 [==============================] - 0s 7ms/step - loss: 0.0048\n",
            "Epoch 30/70\n",
            "21/21 [==============================] - 0s 7ms/step - loss: 0.0046\n",
            "Epoch 31/70\n",
            "21/21 [==============================] - 0s 7ms/step - loss: 0.0046\n",
            "Epoch 32/70\n",
            "21/21 [==============================] - 0s 7ms/step - loss: 0.0044\n",
            "Epoch 33/70\n",
            "21/21 [==============================] - 0s 7ms/step - loss: 0.0043\n",
            "Epoch 34/70\n",
            "21/21 [==============================] - 0s 8ms/step - loss: 0.0041\n",
            "Epoch 35/70\n",
            "21/21 [==============================] - 0s 7ms/step - loss: 0.0039\n",
            "Epoch 36/70\n",
            "21/21 [==============================] - 0s 7ms/step - loss: 0.0042\n",
            "Epoch 37/70\n",
            "21/21 [==============================] - 0s 7ms/step - loss: 0.0039\n",
            "Epoch 38/70\n",
            "21/21 [==============================] - 0s 7ms/step - loss: 0.0038\n",
            "Epoch 39/70\n",
            "21/21 [==============================] - 0s 7ms/step - loss: 0.0037\n",
            "Epoch 40/70\n",
            "21/21 [==============================] - 0s 8ms/step - loss: 0.0035\n",
            "Epoch 41/70\n",
            "21/21 [==============================] - 0s 8ms/step - loss: 0.0033\n",
            "Epoch 42/70\n",
            "21/21 [==============================] - 0s 8ms/step - loss: 0.0032\n",
            "Epoch 43/70\n",
            "21/21 [==============================] - 0s 7ms/step - loss: 0.0032\n",
            "Epoch 44/70\n",
            "21/21 [==============================] - 0s 8ms/step - loss: 0.0030\n",
            "Epoch 45/70\n",
            "21/21 [==============================] - 0s 7ms/step - loss: 0.0029\n",
            "Epoch 46/70\n",
            "21/21 [==============================] - 0s 7ms/step - loss: 0.0029\n",
            "Epoch 47/70\n",
            "21/21 [==============================] - 0s 8ms/step - loss: 0.0028\n",
            "Epoch 48/70\n",
            "21/21 [==============================] - 0s 7ms/step - loss: 0.0028\n",
            "Epoch 49/70\n",
            "21/21 [==============================] - 0s 7ms/step - loss: 0.0027\n",
            "Epoch 50/70\n",
            "21/21 [==============================] - 0s 7ms/step - loss: 0.0025\n",
            "Epoch 51/70\n",
            "21/21 [==============================] - 0s 7ms/step - loss: 0.0025\n",
            "Epoch 52/70\n",
            "21/21 [==============================] - 0s 7ms/step - loss: 0.0025\n",
            "Epoch 53/70\n",
            "21/21 [==============================] - 0s 7ms/step - loss: 0.0025\n",
            "Epoch 54/70\n",
            "21/21 [==============================] - 0s 8ms/step - loss: 0.0022\n",
            "Epoch 55/70\n",
            "21/21 [==============================] - 0s 8ms/step - loss: 0.0022\n",
            "Epoch 56/70\n",
            "21/21 [==============================] - 0s 7ms/step - loss: 0.0022\n",
            "Epoch 57/70\n",
            "21/21 [==============================] - 0s 7ms/step - loss: 0.0023\n",
            "Epoch 58/70\n",
            "21/21 [==============================] - 0s 7ms/step - loss: 0.0021\n",
            "Epoch 59/70\n",
            "21/21 [==============================] - 0s 7ms/step - loss: 0.0021\n",
            "Epoch 60/70\n",
            "21/21 [==============================] - 0s 7ms/step - loss: 0.0023\n",
            "Epoch 61/70\n",
            "21/21 [==============================] - 0s 7ms/step - loss: 0.0021\n",
            "Epoch 62/70\n",
            "21/21 [==============================] - 0s 7ms/step - loss: 0.0019\n",
            "Epoch 63/70\n",
            "21/21 [==============================] - 0s 7ms/step - loss: 0.0019\n",
            "Epoch 64/70\n",
            "21/21 [==============================] - 0s 7ms/step - loss: 0.0019\n",
            "Epoch 65/70\n",
            "21/21 [==============================] - 0s 7ms/step - loss: 0.0017\n",
            "Epoch 66/70\n",
            "21/21 [==============================] - 0s 8ms/step - loss: 0.0019\n",
            "Epoch 67/70\n",
            "21/21 [==============================] - 0s 7ms/step - loss: 0.0019\n",
            "Epoch 68/70\n",
            "21/21 [==============================] - 0s 8ms/step - loss: 0.0017\n",
            "Epoch 69/70\n",
            "21/21 [==============================] - 0s 7ms/step - loss: 0.0017\n",
            "Epoch 70/70\n",
            "21/21 [==============================] - 0s 7ms/step - loss: 0.0020\n",
            "Epoch 70: early stopping\n"
          ]
        },
        {
          "data": {
            "text/plain": [
              "<keras.callbacks.History at 0x7f100023e040>"
            ]
          },
          "execution_count": 78,
          "metadata": {},
          "output_type": "execute_result"
        }
      ],
      "source": [
        "early_stop = EarlyStopping(monitor='loss', patience=5, verbose=1)\n",
        "model.fit(train_X, train_y, epochs=70, batch_size=30, callbacks=[early_stop])"
      ]
    },
    {
      "cell_type": "code",
      "execution_count": 79,
      "metadata": {
        "colab": {
          "base_uri": "https://localhost:8080/",
          "height": 284
        },
        "id": "-TtZwVuVFhBm",
        "outputId": "b9cafb61-ed99-47ab-b348-7911e4892bd4"
      },
      "outputs": [
        {
          "name": "stdout",
          "output_type": "stream",
          "text": [
            "5/5 [==============================] - 0s 5ms/step\n"
          ]
        },
        {
          "data": {
            "image/png": "[encoded data removed]",
            "text/plain": [
              "<Figure size 432x288 with 1 Axes>"
            ]
          },
          "metadata": {
            "needs_background": "light"
          },
          "output_type": "display_data"
        }
      ],
      "source": [
        "pred_y = model.predict(test_X)\n",
        "\n",
        "plt.figure()\n",
        "plt.plot(test_y, color='red')\n",
        "plt.plot(pred_y, color='blue')\n",
        "plt.show()"
      ]
    },
    {
      "cell_type": "code",
      "execution_count": 80,
      "metadata": {
        "colab": {
          "base_uri": "https://localhost:8080/"
        },
        "id": "MWgci4ZzFtGk",
        "outputId": "7967ec5b-1bdc-4fae-c28f-61af7252d831"
      },
      "outputs": [
        {
          "name": "stdout",
          "output_type": "stream",
          "text": [
            "0.9547972252425435\n"
          ]
        }
      ],
      "source": [
        "test_score= r2_score(test_y, pred_y)\n",
        "print(test_score)"
      ]
    },
    {
      "cell_type": "code",
      "execution_count": 81,
      "metadata": {
        "id": "RTZ6r-gCFv2N"
      },
      "outputs": [],
      "source": [
        "feature= lstm_test[['평균기온(°C)', '최고기온(°C)', '최저기온(°C)', '월합강수량(00~24h만)(mm)', '합계 일사량(MJ/m2)', '면적']]\n",
        "target= lstm_test[['생산량']]\n",
        "\n",
        "mms1.fit(feature)\n",
        "mms2.fit(target)\n",
        "\n",
        "ft_sc= mms1.transform(feature)\n",
        "tg_sc= mms2.transform(target)"
      ]
    },
    {
      "cell_type": "code",
      "execution_count": 82,
      "metadata": {
        "colab": {
          "base_uri": "https://localhost:8080/"
        },
        "id": "-E-WPG9qFv45",
        "outputId": "3e043a26-2e09-4327-c1d0-d8b8dfc799c7"
      },
      "outputs": [
        {
          "name": "stdout",
          "output_type": "stream",
          "text": [
            "[[0.76998255 0.64433866 0.791597   0.38153787 0.49182302 0.44755789]\n",
            " [0.48819081 0.66147569 0.3738478  0.05897682 0.45166976 0.44755789]\n",
            " [0.20477022 0.20544033 0.256806   0.08485268 0.11179049 0.44755789]] -> [0.52614917]\n"
          ]
        }
      ],
      "source": [
        "window_size = 3\n",
        "\n",
        "data_X = []\n",
        "data_y = []\n",
        "for i in range(0,len(tg_sc),3):\n",
        "    _X = ft_sc[i : i + window_size] # 다음 날 종가(i+windows_size)는 포함되지 않음\n",
        "    _y = tg_sc[i + window_size - 1]     # 다음 날 종가\n",
        "    data_X.append(_X)\n",
        "    data_y.append(_y)\n",
        "print(_X, \"->\", _y)"
      ]
    },
    {
      "cell_type": "code",
      "execution_count": 84,
      "metadata": {
        "colab": {
          "base_uri": "https://localhost:8080/"
        },
        "id": "t3aUkFoNFv-B",
        "outputId": "94fb3b54-9055-43e0-d38d-7693fc4b5857"
      },
      "outputs": [
        {
          "name": "stdout",
          "output_type": "stream",
          "text": [
            "(40, 3, 6) (40, 1)\n"
          ]
        }
      ],
      "source": [
        "test_X_1 = np.array(data_X)\n",
        "test_y_1 = np.array(data_y)\n",
        "\n",
        "print(test_X_1.shape, test_y_1.shape)"
      ]
    },
    {
      "cell_type": "code",
      "execution_count": 89,
      "metadata": {
        "colab": {
          "base_uri": "https://localhost:8080/",
          "height": 284
        },
        "id": "0kIq2FimFwDJ",
        "outputId": "a6ac4b3b-039b-408e-920c-9f06faf5fe77"
      },
      "outputs": [
        {
          "name": "stdout",
          "output_type": "stream",
          "text": [
            "2/2 [==============================] - 0s 5ms/step\n"
          ]
        },
        {
          "data": {
            "image/png": "[encoded data removed]",
            "text/plain": [
              "<Figure size 432x288 with 1 Axes>"
            ]
          },
          "metadata": {
            "needs_background": "light"
          },
          "output_type": "display_data"
        }
      ],
      "source": [
        "pred_y_fin = model.predict(test_X_1)\n",
        "\n",
        "plt.figure()\n",
        "plt.plot(test_y_1, color='red')\n",
        "plt.plot(pred_y_fin, color='blue')\n",
        "plt.show()"
      ]
    },
    {
      "cell_type": "code",
      "execution_count": 86,
      "metadata": {
        "colab": {
          "base_uri": "https://localhost:8080/"
        },
        "id": "7uZeQaozGqME",
        "outputId": "5ab2d1fa-781b-4c93-9452-21f55bcae2a1"
      },
      "outputs": [
        {
          "name": "stdout",
          "output_type": "stream",
          "text": [
            "0.9175267116664299\n"
          ]
        }
      ],
      "source": [
        "test_score= r2_score(test_y_1, pred_y_fin)\n",
        "print(test_score)"
      ]
    },
    {
      "cell_type": "code",
      "execution_count": 92,
      "metadata": {
        "colab": {
          "base_uri": "https://localhost:8080/"
        },
        "id": "tuVPRPa0Gx_q",
        "outputId": "2c954324-9994-4b86-c4db-d17775dc1779"
      },
      "outputs": [
        {
          "data": {
            "text/plain": [
              "array([[ 63569.594 ],\n",
              "       [267825.72  ],\n",
              "       [162881.22  ],\n",
              "       [ 17098.488 ],\n",
              "       [136840.53  ],\n",
              "       [ 18520.057 ],\n",
              "       [-11533.3125],\n",
              "       [ 45830.504 ],\n",
              "       [ 90018.68  ],\n",
              "       [ 34826.766 ],\n",
              "       [180163.02  ],\n",
              "       [  5278.1978],\n",
              "       [ -5515.6646],\n",
              "       [  2301.0984],\n",
              "       [  1066.2372],\n",
              "       [ -5868.5845],\n",
              "       [  2435.8987],\n",
              "       [  8891.124 ],\n",
              "       [ -7465.4575],\n",
              "       [ -3614.9414],\n",
              "       [  2442.5425],\n",
              "       [ -6950.286 ],\n",
              "       [  2545.9333],\n",
              "       [   977.1482],\n",
              "       [  2071.0686],\n",
              "       [ -9126.806 ],\n",
              "       [ 20282.908 ],\n",
              "       [ 77634.836 ],\n",
              "       [290248.7   ],\n",
              "       [257364.36  ],\n",
              "       [ 33115.92  ],\n",
              "       [  7976.3745],\n",
              "       [146964.4   ],\n",
              "       [ -2588.4773],\n",
              "       [  8476.6875],\n",
              "       [ 10739.382 ],\n",
              "       [ 14288.355 ],\n",
              "       [141519.45  ],\n",
              "       [ 47912.832 ],\n",
              "       [228392.17  ]], dtype=float32)"
            ]
          },
          "execution_count": 92,
          "metadata": {},
          "output_type": "execute_result"
        }
      ],
      "source": [
        "pred_y_fin= mms2.inverse_transform(pred_y_fin)\n",
        "\n",
        "pred_y_fin"
      ]
    },
    {
      "cell_type": "code",
      "execution_count": 93,
      "metadata": {
        "colab": {
          "base_uri": "https://localhost:8080/"
        },
        "id": "uyFp9a8bGyHj",
        "outputId": "44298166-8de3-488b-cf62-2b1ef8fcc0d8"
      },
      "outputs": [
        {
          "data": {
            "text/plain": [
              "array([[4.92580e+04],\n",
              "       [2.29873e+05],\n",
              "       [1.14251e+05],\n",
              "       [1.34340e+04],\n",
              "       [1.06510e+05],\n",
              "       [7.27300e+03],\n",
              "       [3.80000e+02],\n",
              "       [4.38450e+04],\n",
              "       [6.04770e+04],\n",
              "       [1.19970e+04],\n",
              "       [1.24232e+05],\n",
              "       [7.92000e+02],\n",
              "       [4.16200e+03],\n",
              "       [1.34300e+03],\n",
              "       [4.89500e+03],\n",
              "       [1.54000e+02],\n",
              "       [4.82100e+03],\n",
              "       [2.59000e+02],\n",
              "       [4.01700e+03],\n",
              "       [2.28000e+02],\n",
              "       [7.71000e+02],\n",
              "       [4.87000e+02],\n",
              "       [4.83900e+03],\n",
              "       [5.03000e+02],\n",
              "       [6.57700e+03],\n",
              "       [3.78000e+02],\n",
              "       [1.33330e+04],\n",
              "       [7.29930e+04],\n",
              "       [3.20451e+05],\n",
              "       [2.24283e+05],\n",
              "       [2.49010e+04],\n",
              "       [2.86800e+03],\n",
              "       [1.20590e+05],\n",
              "       [4.65600e+03],\n",
              "       [4.34000e+02],\n",
              "       [2.30100e+03],\n",
              "       [1.71110e+04],\n",
              "       [1.05059e+05],\n",
              "       [3.07870e+04],\n",
              "       [1.68678e+05]])"
            ]
          },
          "execution_count": 93,
          "metadata": {},
          "output_type": "execute_result"
        }
      ],
      "source": [
        "test_y_1= mms2.inverse_transform(test_y_1)\n",
        "\n",
        "test_y_1"
      ]
    }
  ],
  "metadata": {
    "accelerator": "GPU",
    "colab": {
      "provenance": []
    },
    "gpuClass": "standard",
    "kernelspec": {
      "display_name": "baseDeep",
      "language": "python",
      "name": "python3"
    },
    "language_info": {
      "name": "python",
      "version": "3.8.13 (default, Oct 19 2022, 17:52:09) \n[Clang 12.0.0 ]"
    },
    "vscode": {
      "interpreter": {
        "hash": "d5bd3b74290b6fecca2d77c6682b8ba7e9275f0a56c500dd407ba5b0bc3fc494"
      }
    }
  },
  "nbformat": 4,
  "nbformat_minor": 0
}
