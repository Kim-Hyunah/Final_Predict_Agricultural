{
 "cells": [
  {
   "cell_type": "code",
   "execution_count": null,
   "metadata": {},
   "outputs": [],
   "source": [
    "import jpype     \n",
    "import asposecells     \n",
    "jpype.startJVM() \n",
    "from asposecells.api import Workbook\n",
    "\n",
    "for i in range(2000, 2023) : \n",
    "    \n",
    "    # Load XLS file\n",
    "    workbook = Workbook(\"data/row_price_xls/\"+str(i)+\"_상품\"+\".xls\")\n",
    "\n",
    "    # Save as XLSX\n",
    "    workbook.save(\"data/row_price_xlsx/\"+str(i)+\"_상품\"+\".xlsx\")\n",
    "\n",
    "# Shutdown JVM\n",
    "jpype.shutdownJVM()"
   ]
  }
 ],
 "metadata": {
  "kernelspec": {
   "display_name": "base",
   "language": "python",
   "name": "python3"
  },
  "language_info": {
   "name": "python",
   "version": "3.9.12 (main, Apr  4 2022, 05:22:27) [MSC v.1916 64 bit (AMD64)]"
  },
  "orig_nbformat": 4,
  "vscode": {
   "interpreter": {
    "hash": "de11d0c16539acdfeb0e501d4eda7b58b0438a2781c2c1df7ab38defdddf0dd6"
   }
  }
 },
 "nbformat": 4,
 "nbformat_minor": 2
}
