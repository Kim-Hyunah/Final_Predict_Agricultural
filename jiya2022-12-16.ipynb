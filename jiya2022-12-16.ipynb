{
 "cells": [
  {
   "cell_type": "code",
   "execution_count": 2,
   "metadata": {},
   "outputs": [],
   "source": [
    "import pandas as pd\n",
    "import numpy as np"
   ]
  },
  {
   "cell_type": "code",
   "execution_count": 5,
   "metadata": {},
   "outputs": [],
   "source": [
    "df = pd.read_csv(\"data/최종_최종__월별기상관측.csv\",encoding=\"cp949\")"
   ]
  },
  {
   "cell_type": "code",
   "execution_count": 6,
   "metadata": {},
   "outputs": [
    {
     "data": {
      "text/html": [
       "<div>\n",
       "<style scoped>\n",
       "    .dataframe tbody tr th:only-of-type {\n",
       "        vertical-align: middle;\n",
       "    }\n",
       "\n",
       "    .dataframe tbody tr th {\n",
       "        vertical-align: top;\n",
       "    }\n",
       "\n",
       "    .dataframe thead th {\n",
       "        text-align: right;\n",
       "    }\n",
       "</style>\n",
       "<table border=\"1\" class=\"dataframe\">\n",
       "  <thead>\n",
       "    <tr style=\"text-align: right;\">\n",
       "      <th></th>\n",
       "      <th>행정구역</th>\n",
       "      <th>지점명</th>\n",
       "      <th>일시</th>\n",
       "      <th>평균기온(°C)</th>\n",
       "      <th>최고기온(°C)</th>\n",
       "      <th>최저기온(°C)</th>\n",
       "      <th>월합강수량(00~24h만)(mm)</th>\n",
       "      <th>합계 일사량(MJ/m2)</th>\n",
       "    </tr>\n",
       "  </thead>\n",
       "  <tbody>\n",
       "    <tr>\n",
       "      <th>0</th>\n",
       "      <td>강원도</td>\n",
       "      <td>속초</td>\n",
       "      <td>2000-01</td>\n",
       "      <td>-0.4</td>\n",
       "      <td>9.9</td>\n",
       "      <td>-10.9</td>\n",
       "      <td>90.2</td>\n",
       "      <td>152.990</td>\n",
       "    </tr>\n",
       "    <tr>\n",
       "      <th>1</th>\n",
       "      <td>강원도</td>\n",
       "      <td>속초</td>\n",
       "      <td>2000-02</td>\n",
       "      <td>-0.1</td>\n",
       "      <td>9.2</td>\n",
       "      <td>-8.6</td>\n",
       "      <td>8.4</td>\n",
       "      <td>329.070</td>\n",
       "    </tr>\n",
       "    <tr>\n",
       "      <th>2</th>\n",
       "      <td>강원도</td>\n",
       "      <td>속초</td>\n",
       "      <td>2000-03</td>\n",
       "      <td>6.9</td>\n",
       "      <td>18.5</td>\n",
       "      <td>-4.2</td>\n",
       "      <td>8.7</td>\n",
       "      <td>448.650</td>\n",
       "    </tr>\n",
       "    <tr>\n",
       "      <th>3</th>\n",
       "      <td>강원도</td>\n",
       "      <td>속초</td>\n",
       "      <td>2000-04</td>\n",
       "      <td>11.2</td>\n",
       "      <td>24.1</td>\n",
       "      <td>2.4</td>\n",
       "      <td>23.4</td>\n",
       "      <td>486.355</td>\n",
       "    </tr>\n",
       "    <tr>\n",
       "      <th>4</th>\n",
       "      <td>강원도</td>\n",
       "      <td>속초</td>\n",
       "      <td>2000-05</td>\n",
       "      <td>14.3</td>\n",
       "      <td>30.5</td>\n",
       "      <td>6.2</td>\n",
       "      <td>71.0</td>\n",
       "      <td>520.280</td>\n",
       "    </tr>\n",
       "  </tbody>\n",
       "</table>\n",
       "</div>"
      ],
      "text/plain": [
       "  행정구역 지점명       일시  평균기온(°C)  최고기온(°C)  최저기온(°C)  월합강수량(00~24h만)(mm)  \\\n",
       "0  강원도  속초  2000-01      -0.4       9.9     -10.9                90.2   \n",
       "1  강원도  속초  2000-02      -0.1       9.2      -8.6                 8.4   \n",
       "2  강원도  속초  2000-03       6.9      18.5      -4.2                 8.7   \n",
       "3  강원도  속초  2000-04      11.2      24.1       2.4                23.4   \n",
       "4  강원도  속초  2000-05      14.3      30.5       6.2                71.0   \n",
       "\n",
       "   합계 일사량(MJ/m2)  \n",
       "0        152.990  \n",
       "1        329.070  \n",
       "2        448.650  \n",
       "3        486.355  \n",
       "4        520.280  "
      ]
     },
     "execution_count": 6,
     "metadata": {},
     "output_type": "execute_result"
    }
   ],
   "source": [
    "df.drop(df.columns[:1],axis=1,inplace=True)   # 0번째 컬럼 제거\n",
    "df.head()"
   ]
  },
  {
   "cell_type": "code",
   "execution_count": 7,
   "metadata": {},
   "outputs": [],
   "source": [
    "df2=df"
   ]
  },
  {
   "cell_type": "code",
   "execution_count": 8,
   "metadata": {},
   "outputs": [
    {
     "data": {
      "text/plain": [
       "array(['강원도', '경기도', '인천광역시', '서울특별시', '경상북도', '충청북도', '충청남도', '대전광역시',\n",
       "       '전라남도', '대구광역시', '전라북도', '울산광역시', '경상남도', '광주광역시', '부산광역시', '제주도',\n",
       "       '세종특별자치시'], dtype=object)"
      ]
     },
     "execution_count": 8,
     "metadata": {},
     "output_type": "execute_result"
    }
   ],
   "source": [
    "df2['행정구역'].unique()"
   ]
  },
  {
   "cell_type": "code",
   "execution_count": 18,
   "metadata": {},
   "outputs": [
    {
     "ename": "IndentationError",
     "evalue": "unexpected indent (246027146.py, line 7)",
     "output_type": "error",
     "traceback": [
      "\u001b[1;36m  Cell \u001b[1;32mIn [18], line 7\u001b[1;36m\u001b[0m\n\u001b[1;33m    if location=='강원도':\u001b[0m\n\u001b[1;37m    ^\u001b[0m\n\u001b[1;31mIndentationError\u001b[0m\u001b[1;31m:\u001b[0m unexpected indent\n"
     ]
    }
   ],
   "source": [
    "# location=['강원도', '경기도', '인천광역시', '서울특별시', '경상북도', '충청북도', '충청남도', '대전광역시',\n",
    "#        '전라남도', '대구광역시', '전라북도', '울산광역시', '경상남도', '광주광역시', '부산광역시', '제주도',\n",
    "#        '세종특별자치시']\n",
    "\n"
   ]
  },
  {
   "cell_type": "code",
   "execution_count": 8,
   "metadata": {},
   "outputs": [
    {
     "ename": "IndexError",
     "evalue": "list index out of range",
     "output_type": "error",
     "traceback": [
      "\u001b[1;31m---------------------------------------------------------------------------\u001b[0m",
      "\u001b[1;31mIndexError\u001b[0m                                Traceback (most recent call last)",
      "Cell \u001b[1;32mIn [8], line 23\u001b[0m\n\u001b[0;32m     21\u001b[0m     \u001b[39m# 8월부터 12월까지\u001b[39;00m\n\u001b[0;32m     22\u001b[0m     \u001b[39mfor\u001b[39;00m i \u001b[39min\u001b[39;00m k:\n\u001b[1;32m---> 23\u001b[0m         val\u001b[39m=\u001b[39m \u001b[39mstr\u001b[39m(yr) \u001b[39m+\u001b[39m detail[i]\n\u001b[0;32m     24\u001b[0m         winter\u001b[39m.\u001b[39mappend(val)\n\u001b[0;32m     25\u001b[0m \u001b[39mprint\u001b[39m(spring)\n",
      "\u001b[1;31mIndexError\u001b[0m: list index out of range"
     ]
    }
   ],
   "source": [
    "yr_list= np.arange(2000, 2022)\n",
    "detail = [\"-01\",\"-02\",\"-03\",\"-04\",\"-05\",\"-06\",\"-07\",\"-08\",\"-09\",\"-10\",\"-11\",\"-12\"]\n",
    "spring= []\n",
    "summer= []\n",
    "fall= []\n",
    "winter= []\n",
    "k=[8,9,10,11,12]\n",
    "for yr in yr_list:\n",
    "    # 3월부터 5월까지\n",
    "    for i in range(2,5):\n",
    "        val= str(yr) + detail[i]\n",
    "        spring.append(val)\n",
    "    # 5월부터 8월까지\n",
    "    for i in range(4,7):\n",
    "        val= str(yr) + detail[i]\n",
    "        summer.append(val)\n",
    "    # 8월부터 11월까지\n",
    "    for i in range(8,10):\n",
    "        val= str(yr) + detail[i]\n",
    "        fall.append(val)\n",
    "    # 8월부터 12월까지\n",
    "    for i in k:\n",
    "        val= str(yr) + detail[i]\n",
    "        winter.append(val)\n",
    "print(spring)\n",
    "\n",
    "# season 배열 생성\n",
    "season = [\"spring\", \"summer\", \"fall\", \"winter\"]\n",
    "season_list= [spring, summer, fall, winter]\n",
    "\n",
    "spring\n",
    "\n"
   ]
  },
  {
   "cell_type": "code",
   "execution_count": 48,
   "metadata": {},
   "outputs": [
    {
     "data": {
      "text/html": [
       "<div>\n",
       "<style scoped>\n",
       "    .dataframe tbody tr th:only-of-type {\n",
       "        vertical-align: middle;\n",
       "    }\n",
       "\n",
       "    .dataframe tbody tr th {\n",
       "        vertical-align: top;\n",
       "    }\n",
       "\n",
       "    .dataframe thead th {\n",
       "        text-align: right;\n",
       "    }\n",
       "</style>\n",
       "<table border=\"1\" class=\"dataframe\">\n",
       "  <thead>\n",
       "    <tr style=\"text-align: right;\">\n",
       "      <th></th>\n",
       "      <th>행정구역</th>\n",
       "      <th>지점명</th>\n",
       "      <th>일시</th>\n",
       "      <th>평균기온(°C)</th>\n",
       "      <th>최고기온(°C)</th>\n",
       "      <th>최저기온(°C)</th>\n",
       "      <th>월합강수량(00~24h만)(mm)</th>\n",
       "      <th>합계 일사량(MJ/m2)</th>\n",
       "    </tr>\n",
       "  </thead>\n",
       "  <tbody>\n",
       "    <tr>\n",
       "      <th>0</th>\n",
       "      <td>강원도</td>\n",
       "      <td>속초</td>\n",
       "      <td>2000-01</td>\n",
       "      <td>-0.4</td>\n",
       "      <td>9.9</td>\n",
       "      <td>-10.9</td>\n",
       "      <td>90.2</td>\n",
       "      <td>152.990</td>\n",
       "    </tr>\n",
       "    <tr>\n",
       "      <th>1</th>\n",
       "      <td>강원도</td>\n",
       "      <td>속초</td>\n",
       "      <td>2000-02</td>\n",
       "      <td>-0.1</td>\n",
       "      <td>9.2</td>\n",
       "      <td>-8.6</td>\n",
       "      <td>8.4</td>\n",
       "      <td>329.070</td>\n",
       "    </tr>\n",
       "    <tr>\n",
       "      <th>2</th>\n",
       "      <td>강원도</td>\n",
       "      <td>속초</td>\n",
       "      <td>2000-03</td>\n",
       "      <td>6.9</td>\n",
       "      <td>18.5</td>\n",
       "      <td>-4.2</td>\n",
       "      <td>8.7</td>\n",
       "      <td>448.650</td>\n",
       "    </tr>\n",
       "    <tr>\n",
       "      <th>3</th>\n",
       "      <td>강원도</td>\n",
       "      <td>속초</td>\n",
       "      <td>2000-04</td>\n",
       "      <td>11.2</td>\n",
       "      <td>24.1</td>\n",
       "      <td>2.4</td>\n",
       "      <td>23.4</td>\n",
       "      <td>486.355</td>\n",
       "    </tr>\n",
       "    <tr>\n",
       "      <th>4</th>\n",
       "      <td>강원도</td>\n",
       "      <td>속초</td>\n",
       "      <td>2000-05</td>\n",
       "      <td>14.3</td>\n",
       "      <td>30.5</td>\n",
       "      <td>6.2</td>\n",
       "      <td>71.0</td>\n",
       "      <td>520.280</td>\n",
       "    </tr>\n",
       "  </tbody>\n",
       "</table>\n",
       "</div>"
      ],
      "text/plain": [
       "  행정구역 지점명       일시  평균기온(°C)  최고기온(°C)  최저기온(°C)  월합강수량(00~24h만)(mm)  \\\n",
       "0  강원도  속초  2000-01      -0.4       9.9     -10.9                90.2   \n",
       "1  강원도  속초  2000-02      -0.1       9.2      -8.6                 8.4   \n",
       "2  강원도  속초  2000-03       6.9      18.5      -4.2                 8.7   \n",
       "3  강원도  속초  2000-04      11.2      24.1       2.4                23.4   \n",
       "4  강원도  속초  2000-05      14.3      30.5       6.2                71.0   \n",
       "\n",
       "   합계 일사량(MJ/m2)  \n",
       "0        152.990  \n",
       "1        329.070  \n",
       "2        448.650  \n",
       "3        486.355  \n",
       "4        520.280  "
      ]
     },
     "execution_count": 48,
     "metadata": {},
     "output_type": "execute_result"
    }
   ],
   "source": [
    "df = pd.read_csv(\"data/최종_최종__월별기상관측.csv\",encoding=\"cp949\")\n",
    "df.drop(df.columns[:1],axis=1,inplace=True)  # 0번째 컬럼 제거\n",
    "df.head()"
   ]
  },
  {
   "cell_type": "code",
   "execution_count": 47,
   "metadata": {},
   "outputs": [],
   "source": [
    "# # location_name=[]\n",
    "# #  year=[]\n",
    "# #  spring=\"03|04|05\"\n",
    "# #  summer=\"05|06|07|08\"\n",
    "# # fall=\"08|09|10|11|12\"\n",
    "# # winter=\"08|09|10|11|12|01\"\n"
   ]
  },
  {
   "cell_type": "code",
   "execution_count": 50,
   "metadata": {},
   "outputs": [],
   "source": [
    "df=df[df['행정구역']=='강원도']\n",
    "df=pd.pivot_table(df, index=[\"일시\", '행정구역'],aggfunc=\"mean\")\n",
    "df=df.query('일시.str.contains(\"03|04|05\")', engine='python')\n",
    "df=df.query('일시.str.contains(\"2000\")', engine='python')"
   ]
  },
  {
   "cell_type": "code",
   "execution_count": 51,
   "metadata": {},
   "outputs": [
    {
     "data": {
      "text/html": [
       "<div>\n",
       "<style scoped>\n",
       "    .dataframe tbody tr th:only-of-type {\n",
       "        vertical-align: middle;\n",
       "    }\n",
       "\n",
       "    .dataframe tbody tr th {\n",
       "        vertical-align: top;\n",
       "    }\n",
       "\n",
       "    .dataframe thead th {\n",
       "        text-align: right;\n",
       "    }\n",
       "</style>\n",
       "<table border=\"1\" class=\"dataframe\">\n",
       "  <thead>\n",
       "    <tr style=\"text-align: right;\">\n",
       "      <th></th>\n",
       "      <th></th>\n",
       "      <th>월합강수량(00~24h만)(mm)</th>\n",
       "      <th>최고기온(°C)</th>\n",
       "      <th>최저기온(°C)</th>\n",
       "      <th>평균기온(°C)</th>\n",
       "      <th>합계 일사량(MJ/m2)</th>\n",
       "    </tr>\n",
       "    <tr>\n",
       "      <th>일시</th>\n",
       "      <th>행정구역</th>\n",
       "      <th></th>\n",
       "      <th></th>\n",
       "      <th></th>\n",
       "      <th></th>\n",
       "      <th></th>\n",
       "    </tr>\n",
       "  </thead>\n",
       "  <tbody>\n",
       "    <tr>\n",
       "      <th>2000-03</th>\n",
       "      <th>강원도</th>\n",
       "      <td>13.790909</td>\n",
       "      <td>19.000000</td>\n",
       "      <td>-7.936364</td>\n",
       "      <td>4.790909</td>\n",
       "      <td>433.992727</td>\n",
       "    </tr>\n",
       "    <tr>\n",
       "      <th>2000-04</th>\n",
       "      <th>강원도</th>\n",
       "      <td>37.354545</td>\n",
       "      <td>23.518182</td>\n",
       "      <td>-1.872727</td>\n",
       "      <td>10.154545</td>\n",
       "      <td>481.298636</td>\n",
       "    </tr>\n",
       "    <tr>\n",
       "      <th>2000-05</th>\n",
       "      <th>강원도</th>\n",
       "      <td>75.181818</td>\n",
       "      <td>31.500000</td>\n",
       "      <td>4.181818</td>\n",
       "      <td>15.618182</td>\n",
       "      <td>518.235455</td>\n",
       "    </tr>\n",
       "  </tbody>\n",
       "</table>\n",
       "</div>"
      ],
      "text/plain": [
       "              월합강수량(00~24h만)(mm)   최고기온(°C)  최저기온(°C)   평균기온(°C)  \\\n",
       "일시      행정구역                                                       \n",
       "2000-03 강원도            13.790909  19.000000 -7.936364   4.790909   \n",
       "2000-04 강원도            37.354545  23.518182 -1.872727  10.154545   \n",
       "2000-05 강원도            75.181818  31.500000  4.181818  15.618182   \n",
       "\n",
       "              합계 일사량(MJ/m2)  \n",
       "일시      행정구역                 \n",
       "2000-03 강원도      433.992727  \n",
       "2000-04 강원도      481.298636  \n",
       "2000-05 강원도      518.235455  "
      ]
     },
     "execution_count": 51,
     "metadata": {},
     "output_type": "execute_result"
    }
   ],
   "source": [
    "df"
   ]
  },
  {
   "cell_type": "code",
   "execution_count": 59,
   "metadata": {},
   "outputs": [],
   "source": [
    "def spring(location):\n",
    "      df=df[df['행정구역']==location]\n",
    "      df=pd.pivot_table(df, index=[\"일시\", '행정구역'],aggfunc=\"mean\")\n",
    "      df=df.query('일시.str.contains(\"03|04|05\")', engine='python')\n",
    "      df=df.query('일시.str.contains(\"2000\")', engine='python')"
   ]
  },
  {
   "cell_type": "code",
   "execution_count": 60,
   "metadata": {},
   "outputs": [
    {
     "ename": "NameError",
     "evalue": "name '강원도' is not defined",
     "output_type": "error",
     "traceback": [
      "\u001b[1;31m---------------------------------------------------------------------------\u001b[0m",
      "\u001b[1;31mNameError\u001b[0m                                 Traceback (most recent call last)",
      "Cell \u001b[1;32mIn [60], line 1\u001b[0m\n\u001b[1;32m----> 1\u001b[0m spring(강원도)\n",
      "\u001b[1;31mNameError\u001b[0m: name '강원도' is not defined"
     ]
    }
   ],
   "source": [
    "spring(강원도)"
   ]
  },
  {
   "cell_type": "code",
   "execution_count": null,
   "metadata": {},
   "outputs": [],
   "source": []
  }
 ],
 "metadata": {
  "kernelspec": {
   "display_name": "base",
   "language": "python",
   "name": "python3"
  },
  "language_info": {
   "codemirror_mode": {
    "name": "ipython",
    "version": 3
   },
   "file_extension": ".py",
   "mimetype": "text/x-python",
   "name": "python",
   "nbconvert_exporter": "python",
   "pygments_lexer": "ipython3",
   "version": "3.9.12"
  },
  "orig_nbformat": 4,
  "vscode": {
   "interpreter": {
    "hash": "bcf133dd10046e8115637e1e9c9f5573549979c0784612046b79a45b13aa7b7e"
   }
  }
 },
 "nbformat": 4,
 "nbformat_minor": 2
}
