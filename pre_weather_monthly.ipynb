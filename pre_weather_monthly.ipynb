{
 "cells": [
  {
   "cell_type": "code",
   "execution_count": 13,
   "id": "f843f4e4",
   "metadata": {},
   "outputs": [],
   "source": [
    "import pandas as pd\n",
    "import numpy as np\n",
    "import datetime\n",
    "import math\n",
    "from copy import deepcopy\n",
    "\n",
    "Path = \"G:/.shortcut-targets-by-id/1sZS2kL5L66960IYJ4xfNEV9CuKrs_7fE/1조/RAW DATA\""
   ]
  },
  {
   "cell_type": "code",
   "execution_count": 14,
   "id": "a655effd",
   "metadata": {},
   "outputs": [],
   "source": [
    "new_df = pd.read_csv(\"./data/최종_최종__월별기상관측.csv\", encoding=\"cp949\")\n",
    "# new_df.info()"
   ]
  },
  {
   "cell_type": "code",
   "execution_count": 15,
   "id": "cd3a28ea",
   "metadata": {},
   "outputs": [],
   "source": [
    "new_df.drop(\"Unnamed: 0\", axis=1, inplace=True)  # 0번째 컬럼 drop\n",
    "# new_df.head(3)"
   ]
  },
  {
   "cell_type": "code",
   "execution_count": 16,
   "id": "95a1657a",
   "metadata": {},
   "outputs": [],
   "source": [
    "new_df[\"일시\"] = pd.to_datetime(new_df[\"일시\"])  # 일시를 datetime으로 변경\n",
    "# new_df.head()"
   ]
  },
  {
   "cell_type": "code",
   "execution_count": 17,
   "id": "ecd892d5",
   "metadata": {},
   "outputs": [],
   "source": [
    "new_df[\"연도\"] =  new_df[\"일시\"].dt.year   # 연도만 추출\n",
    "new_df[\"월\"] =  new_df[\"일시\"].dt.month    # 월만 추출\n",
    "# new_df.head(10)"
   ]
  },
  {
   "cell_type": "code",
   "execution_count": 18,
   "id": "12c299a0",
   "metadata": {},
   "outputs": [],
   "source": [
    "# new_df.columns"
   ]
  },
  {
   "cell_type": "code",
   "execution_count": 19,
   "id": "897bb55a",
   "metadata": {},
   "outputs": [],
   "source": [
    "# 컬럼 순서 변경\n",
    "new_df = new_df[['행정구역', '지점명', '연도', '월', '평균기온(°C)', '최고기온(°C)', '최저기온(°C)','월합강수량(00~24h만)(mm)', '합계 일사량(MJ/m2)']]\n",
    "# new_df.head(3)\n"
   ]
  },
  {
   "cell_type": "code",
   "execution_count": 20,
   "id": "9cf3162c",
   "metadata": {},
   "outputs": [
    {
     "data": {
      "text/html": [
       "<div>\n",
       "<style scoped>\n",
       "    .dataframe tbody tr th:only-of-type {\n",
       "        vertical-align: middle;\n",
       "    }\n",
       "\n",
       "    .dataframe tbody tr th {\n",
       "        vertical-align: top;\n",
       "    }\n",
       "\n",
       "    .dataframe thead th {\n",
       "        text-align: right;\n",
       "    }\n",
       "</style>\n",
       "<table border=\"1\" class=\"dataframe\">\n",
       "  <thead>\n",
       "    <tr style=\"text-align: right;\">\n",
       "      <th></th>\n",
       "      <th>행정구역</th>\n",
       "      <th>지점명</th>\n",
       "      <th>연도</th>\n",
       "      <th>월</th>\n",
       "      <th>평균기온(°C)</th>\n",
       "      <th>최고기온(°C)</th>\n",
       "      <th>최저기온(°C)</th>\n",
       "      <th>월합강수량(00~24h만)(mm)</th>\n",
       "      <th>합계 일사량(MJ/m2)</th>\n",
       "    </tr>\n",
       "  </thead>\n",
       "  <tbody>\n",
       "    <tr>\n",
       "      <th>252</th>\n",
       "      <td>강원도</td>\n",
       "      <td>속초</td>\n",
       "      <td>2021</td>\n",
       "      <td>1</td>\n",
       "      <td>-1.2</td>\n",
       "      <td>9.7</td>\n",
       "      <td>-16.1</td>\n",
       "      <td>0.0</td>\n",
       "      <td>278.85</td>\n",
       "    </tr>\n",
       "    <tr>\n",
       "      <th>253</th>\n",
       "      <td>강원도</td>\n",
       "      <td>속초</td>\n",
       "      <td>2021</td>\n",
       "      <td>2</td>\n",
       "      <td>3.1</td>\n",
       "      <td>17.8</td>\n",
       "      <td>-10.1</td>\n",
       "      <td>5.0</td>\n",
       "      <td>352.26</td>\n",
       "    </tr>\n",
       "    <tr>\n",
       "      <th>254</th>\n",
       "      <td>강원도</td>\n",
       "      <td>속초</td>\n",
       "      <td>2021</td>\n",
       "      <td>3</td>\n",
       "      <td>8.0</td>\n",
       "      <td>18.9</td>\n",
       "      <td>-4.5</td>\n",
       "      <td>104.2</td>\n",
       "      <td>462.90</td>\n",
       "    </tr>\n",
       "    <tr>\n",
       "      <th>255</th>\n",
       "      <td>강원도</td>\n",
       "      <td>속초</td>\n",
       "      <td>2021</td>\n",
       "      <td>4</td>\n",
       "      <td>12.3</td>\n",
       "      <td>23.8</td>\n",
       "      <td>2.0</td>\n",
       "      <td>97.2</td>\n",
       "      <td>567.05</td>\n",
       "    </tr>\n",
       "    <tr>\n",
       "      <th>256</th>\n",
       "      <td>강원도</td>\n",
       "      <td>속초</td>\n",
       "      <td>2021</td>\n",
       "      <td>5</td>\n",
       "      <td>16.7</td>\n",
       "      <td>29.8</td>\n",
       "      <td>7.6</td>\n",
       "      <td>154.9</td>\n",
       "      <td>580.52</td>\n",
       "    </tr>\n",
       "  </tbody>\n",
       "</table>\n",
       "</div>"
      ],
      "text/plain": [
       "    행정구역 지점명    연도  월  평균기온(°C)  최고기온(°C)  최저기온(°C)  월합강수량(00~24h만)(mm)  \\\n",
       "252  강원도  속초  2021  1      -1.2       9.7     -16.1                 0.0   \n",
       "253  강원도  속초  2021  2       3.1      17.8     -10.1                 5.0   \n",
       "254  강원도  속초  2021  3       8.0      18.9      -4.5               104.2   \n",
       "255  강원도  속초  2021  4      12.3      23.8       2.0                97.2   \n",
       "256  강원도  속초  2021  5      16.7      29.8       7.6               154.9   \n",
       "\n",
       "     합계 일사량(MJ/m2)  \n",
       "252         278.85  \n",
       "253         352.26  \n",
       "254         462.90  \n",
       "255         567.05  \n",
       "256         580.52  "
      ]
     },
     "execution_count": 20,
     "metadata": {},
     "output_type": "execute_result"
    }
   ],
   "source": [
    "new_df = new_df[new_df[\"연도\"] >= 2021]  # 2021년도 이상인 컬럼만 추출\n",
    "new_df.head()"
   ]
  },
  {
   "cell_type": "code",
   "execution_count": 21,
   "id": "4db83027",
   "metadata": {},
   "outputs": [],
   "source": [
    "real_test = new_df.groupby([\"연도\",\"행정구역\",\"월\"]).median() # 연도, 행정구역, 월별로 group화"
   ]
  },
  {
   "cell_type": "code",
   "execution_count": 23,
   "id": "83625941",
   "metadata": {},
   "outputs": [],
   "source": [
    "# real_test.to_csv(\"data/weather_2021_2022.csv\")"
   ]
  }
 ],
 "metadata": {
  "kernelspec": {
   "display_name": "Python 3 (ipykernel)",
   "language": "python",
   "name": "python3"
  },
  "language_info": {
   "codemirror_mode": {
    "name": "ipython",
    "version": 3
   },
   "file_extension": ".py",
   "mimetype": "text/x-python",
   "name": "python",
   "nbconvert_exporter": "python",
   "pygments_lexer": "ipython3",
   "version": "3.9.12"
  },
  "vscode": {
   "interpreter": {
    "hash": "de11d0c16539acdfeb0e501d4eda7b58b0438a2781c2c1df7ab38defdddf0dd6"
   }
  }
 },
 "nbformat": 4,
 "nbformat_minor": 5
}
