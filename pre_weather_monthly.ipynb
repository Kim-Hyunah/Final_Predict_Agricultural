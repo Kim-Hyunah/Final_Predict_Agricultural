{
 "cells": [
  {
   "cell_type": "code",
   "execution_count": 9,
   "id": "f843f4e4",
   "metadata": {},
   "outputs": [],
   "source": [
    "import pandas as pd\n",
    "import numpy as np\n",
    "import datetime\n",
    "import math\n",
    "from copy import deepcopy\n",
    "\n",
    "Path = \"G:/.shortcut-targets-by-id/1sZS2kL5L66960IYJ4xfNEV9CuKrs_7fE/1조/RAW DATA\""
   ]
  },
  {
   "cell_type": "code",
   "execution_count": 10,
   "id": "a655effd",
   "metadata": {},
   "outputs": [],
   "source": [
    "new_df = pd.read_csv(\"./data/최종_최종__월별기상관측.csv\", encoding=\"cp949\")\n",
    "# new_df.info()"
   ]
  },
  {
   "cell_type": "code",
   "execution_count": 11,
   "id": "cd3a28ea",
   "metadata": {},
   "outputs": [],
   "source": [
    "new_df.drop(\"Unnamed: 0\", axis=1, inplace=True)  # 0번째 컬럼 drop\n",
    "# new_df.head(3)"
   ]
  },
  {
   "cell_type": "code",
   "execution_count": 12,
   "id": "95a1657a",
   "metadata": {},
   "outputs": [],
   "source": [
    "new_df[\"일시\"] = pd.to_datetime(new_df[\"일시\"])  # 일시를 datetime으로 변경\n",
    "# new_df.head()"
   ]
  },
  {
   "cell_type": "code",
   "execution_count": 13,
   "id": "ecd892d5",
   "metadata": {},
   "outputs": [],
   "source": [
    "new_df[\"연도\"] =  new_df[\"일시\"].dt.year   # 연도만 추출\n",
    "new_df[\"월\"] =  new_df[\"일시\"].dt.month    # 월만 추출\n",
    "# new_df.head(10)"
   ]
  },
  {
   "cell_type": "code",
   "execution_count": 14,
   "id": "12c299a0",
   "metadata": {},
   "outputs": [],
   "source": [
    "# new_df.columns"
   ]
  },
  {
   "cell_type": "code",
   "execution_count": 7,
   "id": "897bb55a",
   "metadata": {},
   "outputs": [],
   "source": [
    "# 컬럼 순서 변경\n",
    "new_df = new_df[['행정구역', '지점명', '연도', '월', '평균기온(°C)', '최고기온(°C)', '최저기온(°C)','월합강수량(00~24h만)(mm)', '합계 일사량(MJ/m2)']]\n",
    "# new_df.head(3)\n"
   ]
  },
  {
   "cell_type": "code",
   "execution_count": 15,
   "id": "9cf3162c",
   "metadata": {},
   "outputs": [
    {
     "data": {
      "text/html": [
       "<div>\n",
       "<style scoped>\n",
       "    .dataframe tbody tr th:only-of-type {\n",
       "        vertical-align: middle;\n",
       "    }\n",
       "\n",
       "    .dataframe tbody tr th {\n",
       "        vertical-align: top;\n",
       "    }\n",
       "\n",
       "    .dataframe thead th {\n",
       "        text-align: right;\n",
       "    }\n",
       "</style>\n",
       "<table border=\"1\" class=\"dataframe\">\n",
       "  <thead>\n",
       "    <tr style=\"text-align: right;\">\n",
       "      <th></th>\n",
       "      <th>행정구역</th>\n",
       "      <th>지점명</th>\n",
       "      <th>일시</th>\n",
       "      <th>평균기온(°C)</th>\n",
       "      <th>최고기온(°C)</th>\n",
       "      <th>최저기온(°C)</th>\n",
       "      <th>월합강수량(00~24h만)(mm)</th>\n",
       "      <th>합계 일사량(MJ/m2)</th>\n",
       "      <th>연도</th>\n",
       "      <th>월</th>\n",
       "    </tr>\n",
       "  </thead>\n",
       "  <tbody>\n",
       "    <tr>\n",
       "      <th>23073</th>\n",
       "      <td>경상남도</td>\n",
       "      <td>남해</td>\n",
       "      <td>2021-08-01</td>\n",
       "      <td>26.1</td>\n",
       "      <td>35.5</td>\n",
       "      <td>20.7</td>\n",
       "      <td>473.2</td>\n",
       "      <td>481.07</td>\n",
       "      <td>2021</td>\n",
       "      <td>8</td>\n",
       "    </tr>\n",
       "    <tr>\n",
       "      <th>23074</th>\n",
       "      <td>경상남도</td>\n",
       "      <td>남해</td>\n",
       "      <td>2021-09-01</td>\n",
       "      <td>22.2</td>\n",
       "      <td>30.1</td>\n",
       "      <td>16.3</td>\n",
       "      <td>164.6</td>\n",
       "      <td>366.93</td>\n",
       "      <td>2021</td>\n",
       "      <td>9</td>\n",
       "    </tr>\n",
       "    <tr>\n",
       "      <th>23075</th>\n",
       "      <td>경상남도</td>\n",
       "      <td>남해</td>\n",
       "      <td>2021-10-01</td>\n",
       "      <td>17.2</td>\n",
       "      <td>28.9</td>\n",
       "      <td>4.7</td>\n",
       "      <td>43.6</td>\n",
       "      <td>429.24</td>\n",
       "      <td>2021</td>\n",
       "      <td>10</td>\n",
       "    </tr>\n",
       "    <tr>\n",
       "      <th>23076</th>\n",
       "      <td>경상남도</td>\n",
       "      <td>남해</td>\n",
       "      <td>2021-11-01</td>\n",
       "      <td>10.7</td>\n",
       "      <td>21.7</td>\n",
       "      <td>1.4</td>\n",
       "      <td>53.5</td>\n",
       "      <td>323.96</td>\n",
       "      <td>2021</td>\n",
       "      <td>11</td>\n",
       "    </tr>\n",
       "    <tr>\n",
       "      <th>23077</th>\n",
       "      <td>경상남도</td>\n",
       "      <td>남해</td>\n",
       "      <td>2021-12-01</td>\n",
       "      <td>4.9</td>\n",
       "      <td>14.9</td>\n",
       "      <td>-8.0</td>\n",
       "      <td>2.4</td>\n",
       "      <td>312.84</td>\n",
       "      <td>2021</td>\n",
       "      <td>12</td>\n",
       "    </tr>\n",
       "  </tbody>\n",
       "</table>\n",
       "</div>"
      ],
      "text/plain": [
       "       행정구역 지점명         일시  평균기온(°C)  최고기온(°C)  최저기온(°C)  월합강수량(00~24h만)(mm)  \\\n",
       "23073  경상남도  남해 2021-08-01      26.1      35.5      20.7               473.2   \n",
       "23074  경상남도  남해 2021-09-01      22.2      30.1      16.3               164.6   \n",
       "23075  경상남도  남해 2021-10-01      17.2      28.9       4.7                43.6   \n",
       "23076  경상남도  남해 2021-11-01      10.7      21.7       1.4                53.5   \n",
       "23077  경상남도  남해 2021-12-01       4.9      14.9      -8.0                 2.4   \n",
       "\n",
       "       합계 일사량(MJ/m2)    연도   월  \n",
       "23073         481.07  2021   8  \n",
       "23074         366.93  2021   9  \n",
       "23075         429.24  2021  10  \n",
       "23076         323.96  2021  11  \n",
       "23077         312.84  2021  12  "
      ]
     },
     "execution_count": 15,
     "metadata": {},
     "output_type": "execute_result"
    }
   ],
   "source": [
    "new_df = new_df[new_df[\"연도\"] == 2021]  # 2021년도 이상인 컬럼만 추출\n",
    "new_df.tail()"
   ]
  },
  {
   "cell_type": "code",
   "execution_count": 21,
   "id": "4db83027",
   "metadata": {},
   "outputs": [],
   "source": [
    "real_test = new_df.groupby([\"연도\",\"행정구역\",\"월\"]).median() # 연도, 행정구역, 월별로 group화"
   ]
  },
  {
   "cell_type": "code",
   "execution_count": 23,
   "id": "83625941",
   "metadata": {},
   "outputs": [],
   "source": [
    "# real_test.to_csv(\"data/weather_2021_2022.csv\")"
   ]
  }
 ],
 "metadata": {
  "kernelspec": {
   "display_name": "Python 3 (ipykernel)",
   "language": "python",
   "name": "python3"
  },
  "language_info": {
   "codemirror_mode": {
    "name": "ipython",
    "version": 3
   },
   "file_extension": ".py",
   "mimetype": "text/x-python",
   "name": "python",
   "nbconvert_exporter": "python",
   "pygments_lexer": "ipython3",
   "version": "3.9.12"
  },
  "vscode": {
   "interpreter": {
    "hash": "de11d0c16539acdfeb0e501d4eda7b58b0438a2781c2c1df7ab38defdddf0dd6"
   }
  }
 },
 "nbformat": 4,
 "nbformat_minor": 5
}
