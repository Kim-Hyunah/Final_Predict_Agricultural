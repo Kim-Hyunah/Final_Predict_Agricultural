{
 "cells": [
  {
   "cell_type": "code",
   "execution_count": 45,
   "metadata": {},
   "outputs": [],
   "source": [
    "import pandas as pd\n",
    "import numpy as np\n",
    "import re\n",
    "import warnings\n",
    "from datetime import datetime\n",
    "warnings.filterwarnings(\"ignore\")"
   ]
  },
  {
   "cell_type": "code",
   "execution_count": 46,
   "metadata": {},
   "outputs": [],
   "source": [
    "for i in range(2000, 2023) : \n",
    "    globals()[\"df_\"+str(i)] = pd.read_excel(\"./data/row_transaction_supply/배추거래물량_\"+str(i)+\".xlsx\")\n",
    "    globals()[\"df_\"+str(i)].drop(index=globals()[\"df_\"+str(i)].index[:2], inplace=True) \n",
    "    globals()[\"df_\"+str(i)].drop(index=globals()[\"df_\"+str(i)][globals()[\"df_\"+str(i)][\"거래년월일\"]==\"소계\"].index, inplace=True)\n",
    "    globals()[\"df_\"+str(i)] = globals()[\"df_\"+str(i)][[\"거래년월일\", \"거래량\"]]\n",
    "    globals()[\"df_\"+str(i)][\"거래년월일\"] = globals()[\"df_\"+str(i)][\"거래년월일\"].apply(lambda x : datetime.strptime(x, \"%Y%m%d\"))\n",
    "    globals()[\"df_\"+str(i)][\"거래량\"] = globals()[\"df_\"+str(i)][\"거래량\"].str.replace(\",\",\"\").astype(\"float\")\n",
    "    globals()[\"df_\"+str(i)] = globals()[\"df_\"+str(i)].groupby(\"거래년월일\").sum()\n"
   ]
  },
  {
   "cell_type": "code",
   "execution_count": 41,
   "metadata": {},
   "outputs": [],
   "source": [
    "df_list = []\n",
    "for i in range(2000,2023) : \n",
    "    y = \"df_\"+str(i)\n",
    "    df_list.append(y)"
   ]
  },
  {
   "cell_type": "code",
   "execution_count": 42,
   "metadata": {},
   "outputs": [
    {
     "data": {
      "text/plain": [
       "['df_2000',\n",
       " 'df_2001',\n",
       " 'df_2002',\n",
       " 'df_2003',\n",
       " 'df_2004',\n",
       " 'df_2005',\n",
       " 'df_2006',\n",
       " 'df_2007',\n",
       " 'df_2008',\n",
       " 'df_2009',\n",
       " 'df_2010',\n",
       " 'df_2011',\n",
       " 'df_2012',\n",
       " 'df_2013',\n",
       " 'df_2014',\n",
       " 'df_2015',\n",
       " 'df_2016',\n",
       " 'df_2017',\n",
       " 'df_2018',\n",
       " 'df_2019',\n",
       " 'df_2020',\n",
       " 'df_2021',\n",
       " 'df_2022']"
      ]
     },
     "execution_count": 42,
     "metadata": {},
     "output_type": "execute_result"
    }
   ],
   "source": [
    "df_list"
   ]
  },
  {
   "cell_type": "code",
   "execution_count": 47,
   "metadata": {},
   "outputs": [
    {
     "name": "stdout",
     "output_type": "stream",
     "text": [
      "<class 'pandas.core.frame.DataFrame'>\n",
      "DatetimeIndex: 7115 entries, 2000-01-03 to 2022-12-20\n",
      "Data columns (total 1 columns):\n",
      " #   Column  Non-Null Count  Dtype  \n",
      "---  ------  --------------  -----  \n",
      " 0   거래량     7115 non-null   float64\n",
      "dtypes: float64(1)\n",
      "memory usage: 111.2 KB\n"
     ]
    }
   ],
   "source": [
    "df_total = pd.concat([df_2000, df_2001, df_2002, df_2003, df_2004, df_2005, df_2006, df_2007, df_2008, df_2009, df_2010, df_2011, df_2012, df_2013, df_2014, df_2015, df_2016,df_2017, df_2018, df_2019, df_2020, df_2021, df_2022],axis=0)\n",
    "df_total.info()"
   ]
  },
  {
   "cell_type": "code",
   "execution_count": 50,
   "metadata": {},
   "outputs": [],
   "source": [
    "df_total.to_csv(\"./data/transaction_supply/transaction_supply_baechoo.csv\")"
   ]
  }
 ],
 "metadata": {
  "kernelspec": {
   "display_name": "base",
   "language": "python",
   "name": "python3"
  },
  "language_info": {
   "codemirror_mode": {
    "name": "ipython",
    "version": 3
   },
   "file_extension": ".py",
   "mimetype": "text/x-python",
   "name": "python",
   "nbconvert_exporter": "python",
   "pygments_lexer": "ipython3",
   "version": "3.9.12"
  },
  "orig_nbformat": 4,
  "vscode": {
   "interpreter": {
    "hash": "de11d0c16539acdfeb0e501d4eda7b58b0438a2781c2c1df7ab38defdddf0dd6"
   }
  }
 },
 "nbformat": 4,
 "nbformat_minor": 2
}
